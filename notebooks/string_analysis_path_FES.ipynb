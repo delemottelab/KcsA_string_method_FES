{
 "cells": [
  {
   "cell_type": "markdown",
   "id": "32867ee4-ea45-4aa9-b192-176b0801c41c",
   "metadata": {
    "tags": []
   },
   "source": [
    "# String Method Analysis Markov-State-Models\n",
    "## Imports"
   ]
  },
  {
   "cell_type": "code",
   "execution_count": null,
   "id": "75b1c221-b47d-4484-9125-6eac0a75a249",
   "metadata": {
    "tags": []
   },
   "outputs": [],
   "source": [
    "import os\n",
    "import pickle\n",
    "import sys\n",
    "import logging\n",
    "import numpy as np\n",
    "import matplotlib.pyplot as plt\n",
    "import glob\n",
    "from math import ceil\n",
    "from tqdm import tqdm\n",
    "\n",
    "\n",
    "logging.getLogger(\"stringmethod\").setLevel(logging.ERROR)\n",
    "sys.path.append(\"../string-method-gmxapi/\")\n",
    "import src.analysis as spc"
   ]
  },
  {
   "cell_type": "code",
   "execution_count": null,
   "id": "49a829a2-f0ff-42c3-a3be-ec5f9923d705",
   "metadata": {},
   "outputs": [],
   "source": [
    "%load_ext lab_black\n",
    "%load_ext autoreload\n",
    "%autoreload 2"
   ]
  },
  {
   "cell_type": "markdown",
   "id": "bbe5ac57-8831-47ec-93e0-a26f4fc12469",
   "metadata": {},
   "source": [
    "## Control Variables"
   ]
  },
  {
   "cell_type": "code",
   "execution_count": null,
   "id": "d9bb6243-332b-4786-8e5e-7f6b90e5c5a2",
   "metadata": {},
   "outputs": [],
   "source": [
    "extract_data = True\n",
    "if os.getenv(\"CALC_FES\") == \"True\":\n",
    "    calculate_s_path = True\n",
    "    calculate_z_path = True\n",
    "    calculate_path_errors = True\n",
    "    calculate_converges = True\n",
    "else:\n",
    "    calculate_s_path = False\n",
    "    calculate_z_path = False\n",
    "    calculate_path_errors = False\n",
    "    calculate_converges = False"
   ]
  },
  {
   "cell_type": "markdown",
   "id": "6d7af371-cecb-41f7-b46d-77e31ddb70cc",
   "metadata": {
    "tags": []
   },
   "source": [
    "## Load data"
   ]
  },
  {
   "cell_type": "markdown",
   "id": "0249545e-242c-4b87-b632-6268e4fe55aa",
   "metadata": {},
   "source": [
    "This notebook needs to run in the string simulation folder, this cell will get you there. You also set up a path for writing the figures."
   ]
  },
  {
   "cell_type": "code",
   "execution_count": null,
   "id": "ce510b6f-1e1c-416f-b30b-6bbda63671a9",
   "metadata": {},
   "outputs": [],
   "source": [
    "if os.getenv(\"NAME_SIM\") == None:\n",
    "    name_sim = \"C2I_lb_v1_amber/\"\n",
    "    name_sim = \"C2I_v1_amber/\"\n",
    "    name_sim = \"C2I_v1/\"\n",
    "    name_sim = \"C2I_lb_v1/\"\n",
    "else:\n",
    "    name_sim = os.getenv(\"NAME_SIM\")\n",
    "path_raw = os.path.expanduser(f\"~/Projects/string_sims/data/raw/{name_sim}\")\n",
    "path_interim = os.path.expanduser(f\"~/Projects/string_sims/data/interim/{name_sim}\")\n",
    "path_processed = os.path.expanduser(f\"~/Projects/string_sims/data/processed/{name_sim}\")\n",
    "path_XRD = os.path.expanduser(f\"~/Projects/string_sims/models/raw_pdb/\")\n",
    "path_report = os.path.expanduser(f\"~/Projects/string_sims/reports/figures/{name_sim}\")\n",
    "os.chdir(path_raw)\n",
    "os.getcwd()"
   ]
  },
  {
   "cell_type": "code",
   "execution_count": null,
   "id": "61fb2261-372f-460c-a3db-c958e6114a61",
   "metadata": {},
   "outputs": [],
   "source": [
    "with open(\"cv.pkl\", \"rb\") as file:\n",
    "    cvs, ndx_groups = pickle.load(file)"
   ]
  },
  {
   "cell_type": "markdown",
   "id": "9fadba22-5407-4d9c-a90c-b3ed0888f37b",
   "metadata": {},
   "source": [
    "The `load_swarm_data` function will load the swarm data in the `cv_coordinates`. If you set `extract=True` it will read the data from the swarm files. If you have done this previously you can set `extract=False` so the function just reads `postprocessing/cv_coordinates.npy`. `first_iteration` can be used to exclude initial swarms as equilibration and `last_iteration` can be done to exclude some iterations for example if you want to estimate the FES convergence by comparing blocks of data."
   ]
  },
  {
   "cell_type": "code",
   "execution_count": null,
   "id": "73ddb40f-95ec-41d2-a7ec-5df6906f1e21",
   "metadata": {
    "tags": []
   },
   "outputs": [],
   "source": [
    "if extract_data:\n",
    "    cv_coordinates = spc.load_swarm_data(\n",
    "        extract=True, first_iteration=100, last_iteration=None\n",
    "    )\n",
    "    np.save(f\"{path_interim}cv_coordinates.npy\", cv_coordinates)\n",
    "else:\n",
    "    cv_coordinates = np.load(f\"{path_interim}cv_coordinates.npy\")"
   ]
  },
  {
   "cell_type": "code",
   "execution_count": null,
   "id": "92260863-37d2-4333-8330-31993199d7fe",
   "metadata": {},
   "outputs": [],
   "source": [
    "files = spc.natural_sort(glob.glob(\"./strings/string[0-9]*txt\"))\n",
    "strings = np.array([np.loadtxt(file).T for file in files])"
   ]
  },
  {
   "cell_type": "markdown",
   "id": "2e592613-66f5-42bc-a14a-507b28a389fb",
   "metadata": {},
   "source": [
    "Load pickle with data from XRD"
   ]
  },
  {
   "cell_type": "code",
   "execution_count": null,
   "id": "47e960c8-b86c-41b7-b147-2eac111e86c9",
   "metadata": {},
   "outputs": [],
   "source": [
    "os.chdir(path_XRD)\n",
    "with open(\n",
    "    \"/data/sperez/Projects/string_sims/data/processed/XRD/XRD.pickle\", \"rb\"\n",
    ") as handle:\n",
    "    XRD_dictionary = pickle.load(handle)\n",
    "os.chdir(path_raw)"
   ]
  },
  {
   "cell_type": "markdown",
   "id": "f2497853-7e3e-4d32-84b5-0e9b476fab82",
   "metadata": {},
   "source": [
    "Load MSM weights"
   ]
  },
  {
   "cell_type": "code",
   "execution_count": null,
   "id": "6e3f9a93-7a32-47b4-a554-7f0f35eaed7b",
   "metadata": {},
   "outputs": [],
   "source": [
    "weights = np.load(f\"{path_processed}weights.npy\")\n",
    "k = 100"
   ]
  },
  {
   "cell_type": "code",
   "execution_count": null,
   "id": "7c4b6b61-73d4-4255-bc93-e148a36b3f16",
   "metadata": {},
   "outputs": [],
   "source": [
    "F = np.load(f\"{path_processed}FES_SF_IG.npy\")\n",
    "extent = np.load(f\"{path_processed}extent.npy\")"
   ]
  },
  {
   "cell_type": "markdown",
   "id": "76920fc4-2f0a-4715-b002-1fce0a9ac28f",
   "metadata": {
    "tags": []
   },
   "source": [
    "# Path CVs"
   ]
  },
  {
   "cell_type": "markdown",
   "id": "dfe8b3aa-d5fd-4d8e-a5b9-a9968a96b88f",
   "metadata": {},
   "source": [
    "Define path as the average of the last av_last_n_it of the strings. Obtain a reasonable guess of lambda."
   ]
  },
  {
   "cell_type": "code",
   "execution_count": null,
   "id": "9dd80863-6871-472d-a54d-f78667094661",
   "metadata": {},
   "outputs": [],
   "source": [
    "n_strings = strings.shape[0]\n",
    "av_last_n_it = 25\n",
    "path = np.mean(strings[n_strings - av_last_n_it :, :, :], axis=0)\n",
    "lam = spc.get_path_lambda(path)\n",
    "print(f\"Lambda value for path {lam:.2f}\")"
   ]
  },
  {
   "cell_type": "markdown",
   "id": "ce39584f-af26-4076-bb62-77fe5e76963a",
   "metadata": {},
   "source": [
    "Let's see if the lambda gives a well behaved path cv. The progress variable (s) should be increasing in the path itself and the distance to path variable (z) be low and constant."
   ]
  },
  {
   "cell_type": "code",
   "execution_count": null,
   "id": "9015194b-073c-4482-89d7-fe8b5199a0e7",
   "metadata": {},
   "outputs": [],
   "source": [
    "np.save(f\"{path_processed}/path_lam{lam:.2f}.npy\", path)"
   ]
  },
  {
   "cell_type": "markdown",
   "id": "39ee9208-2669-4664-9e62-1f6c50684083",
   "metadata": {
    "tags": []
   },
   "source": [
    "## Representation of Path CV"
   ]
  },
  {
   "cell_type": "markdown",
   "id": "2f6eb41e-8096-48ee-9338-29f07e301c89",
   "metadata": {},
   "source": [
    "### Load data and calculate path cvs"
   ]
  },
  {
   "cell_type": "code",
   "execution_count": null,
   "id": "8d58565b-2c26-4159-8015-0a6c0029ed28",
   "metadata": {},
   "outputs": [],
   "source": [
    "cv_of_path = []\n",
    "for p in path.T:\n",
    "    cv_of_path.append(spc.cvs_to_path(p, path=path, lam=lam))\n",
    "cv_of_path = np.array(cv_of_path)"
   ]
  },
  {
   "cell_type": "code",
   "execution_count": null,
   "id": "f547fff7-7642-460b-a5db-43e23f381dc7",
   "metadata": {},
   "outputs": [],
   "source": [
    "cvs_path = []\n",
    "for i in range(cv_coordinates.shape[0]):\n",
    "    cvs_path.append([])\n",
    "    for j in range(cv_coordinates.shape[1]):\n",
    "        cvs_path[i].append(spc.cvs_to_path(cv_coordinates[i, j, :], path=path, lam=lam))\n",
    "cvs_path = np.array(cvs_path)"
   ]
  },
  {
   "cell_type": "markdown",
   "id": "cf98c486-604c-4770-962b-18f7b20eca53",
   "metadata": {},
   "source": [
    "### Path CV on final string"
   ]
  },
  {
   "cell_type": "markdown",
   "id": "72fb600e-d7e1-4eea-8de9-0d7626a382f3",
   "metadata": {},
   "source": [
    "Check how the path cv is represented in the average final string"
   ]
  },
  {
   "cell_type": "code",
   "execution_count": null,
   "id": "25045bd4-b817-4ac4-80b8-9429b3ececf0",
   "metadata": {},
   "outputs": [],
   "source": [
    "fig, ax = plt.subplots(1, 2, figsize=(10 * 2, 7))\n",
    "ax[0].plot(cv_of_path[:, 0], marker=\"o\")\n",
    "ax[1].plot(cv_of_path[:, 1], marker=\"o\")\n",
    "ax[0].set_xlabel(\"bead number\")\n",
    "ax[0].set_ylabel(\"S\")\n",
    "ax[1].set_xlabel(\"bead number\")\n",
    "ax[1].set_ylabel(\"Z\")\n",
    "ax[j].set_title(f\"Path-variable {lam = :.2f}\")\n",
    "ax[1].set_title(f\"Path-variable {lam = :.2f}\")"
   ]
  },
  {
   "cell_type": "markdown",
   "id": "a7bc20b2-ce01-4cc4-8e2b-03d8ba2fa98d",
   "metadata": {},
   "source": [
    "### Path CV projected on IG vs SF"
   ]
  },
  {
   "cell_type": "markdown",
   "id": "2298b980-0a27-426a-a1a5-b0ac0ec4e720",
   "metadata": {},
   "source": [
    "Check how the path variables project onto the canonical inactivation 2CV FES"
   ]
  },
  {
   "cell_type": "code",
   "execution_count": null,
   "id": "196e2f6d-dce7-4370-818b-eb871068e153",
   "metadata": {},
   "outputs": [],
   "source": [
    "bandwidth = 0.05"
   ]
  },
  {
   "cell_type": "code",
   "execution_count": null,
   "id": "681e8900-abb7-4387-a630-c5526d249dc6",
   "metadata": {
    "tags": []
   },
   "outputs": [],
   "source": [
    "if calculate_s_path:\n",
    "    s_of_cv, extent = spc.project_property_on_cv_kde(\n",
    "        cv_proj, weights=weights, proper=cvs_path[:, :, 0:1], bandwidth=bandwidth\n",
    "    )\n",
    "    np.save(f\"{path_processed}s_path_of_SF_IG.npy\", s_of_cv)\n",
    "else:\n",
    "    s_of_cv = np.load(f\"{path_processed}s_path_of_SF_IG.npy\")"
   ]
  },
  {
   "cell_type": "code",
   "execution_count": null,
   "id": "6a88eecf-80b0-4ee8-a2f7-6983fd3a7a9b",
   "metadata": {
    "tags": []
   },
   "outputs": [],
   "source": [
    "if calculate_z_path:\n",
    "    z_of_cv, extent = spc.project_property_on_cv_kde(\n",
    "        cv_proj, weights=weights, proper=cvs_path[:, :, 1:2], bandwidth=bandwidth\n",
    "    )\n",
    "    np.save(f\"{path_processed}z_path_of_SF_IG.npy\", z_of_cv)\n",
    "else:\n",
    "    z_of_cv = np.load(f\"{path_processed}z_path_of_SF_IG.npy\")"
   ]
  },
  {
   "cell_type": "code",
   "execution_count": null,
   "id": "4ece6eee-7e00-418a-8e47-acd2bf05e1f5",
   "metadata": {
    "tags": []
   },
   "outputs": [],
   "source": [
    "fig, ax = plt.subplots(1, 2, figsize=(10 * 2, 7), sharex=True, sharey=True)\n",
    "_ = spc.plot_2D_heatmap(\n",
    "    s_of_cv,\n",
    "    extent,\n",
    "    cbar_label=\"s[path]\",\n",
    "    xlabel=\"SF (nm)\",\n",
    "    ylabel=\"IG (nm)\",\n",
    "    f_min=0,\n",
    "    f_max=1,\n",
    "    fig=fig,\n",
    "    cmap=plt.cm.Spectral,\n",
    "    ax=ax[0],\n",
    "    n_colors=200,\n",
    "    c_density=F,\n",
    "    c_min=0,\n",
    "    c_max=20,\n",
    "    c_color=\"k\",\n",
    ")\n",
    "ax[0].grid(None)\n",
    "_ = spc.plot_2D_heatmap(\n",
    "    z_of_cv,\n",
    "    extent,\n",
    "    cbar_label=\"z[path]\",\n",
    "    xlabel=\"SF (nm)\",\n",
    "    cmap=plt.cm.magma,\n",
    "    f_min=0,\n",
    "    f_max=0.15,\n",
    "    fig=fig,\n",
    "    ax=ax[1],\n",
    "    n_colors=200,\n",
    "    c_density=F,\n",
    "    c_min=0,\n",
    "    c_max=20,\n",
    "    c_color=\"w\",\n",
    ")\n",
    "ax[1].grid(None)\n",
    "spc.add_XRD_values(XRD_dictionary, \"SF\", \"IG\", size=15, ax=ax[1], color=\"g\")\n",
    "spc.add_XRD_values(XRD_dictionary, \"SF\", \"IG\", size=15, ax=ax[0], color=\"g\")\n",
    "fig.tight_layout()\n",
    "fig.savefig(path_report + \"projection_path_cv.png\")"
   ]
  },
  {
   "cell_type": "markdown",
   "id": "bd700155-1b0c-47a7-84b8-935e7083c273",
   "metadata": {
    "tags": []
   },
   "source": [
    "## Calculate FES projected on path CV"
   ]
  },
  {
   "cell_type": "markdown",
   "id": "5c4ea2df-d68a-46fa-9465-5788c23b7bff",
   "metadata": {},
   "source": [
    "Calculate FES preliminarily, for example to optimize `nbins` and `bandwidth`."
   ]
  },
  {
   "cell_type": "code",
   "execution_count": null,
   "id": "fdf7124e-ac0b-46b6-9027-00cd182341d5",
   "metadata": {},
   "outputs": [],
   "source": [
    "s_path_bandwidth = {\n",
    "    \"C2I_lb_v1/\": 0.175,\n",
    "    \"C2I_v1/\": 0.5,\n",
    "    \"C2I_v1_amber/\": 0.15,\n",
    "    \"C2I_lb_v1_amber/\": 0.3,\n",
    "}\n",
    "bandwidth = s_path_bandwidth[name_sim]"
   ]
  },
  {
   "cell_type": "code",
   "execution_count": null,
   "id": "d2ceb64f-211e-4094-89c6-e5b1d17d66d8",
   "metadata": {},
   "outputs": [],
   "source": [
    "s_path = cvs_path[:, :, 0:1]"
   ]
  },
  {
   "cell_type": "code",
   "execution_count": null,
   "id": "95b63135-2018-4ac4-9047-6cf84c134a03",
   "metadata": {},
   "outputs": [],
   "source": [
    "%%time\n",
    "nbins = 100\n",
    "p_of_cv, extent = spc.get_kde(s_path, weights, bandwidth, nbins=nbins)\n",
    "F0 = -np.log(p_of_cv)\n",
    "F = F0 - F0.min()\n",
    "F[F > 40] = np.nan\n",
    "s = np.linspace(extent[0], extent[1], nbins)\n",
    "np.save(f\"{path_processed}FES_path.npy\",np.vstack([s, F]))"
   ]
  },
  {
   "cell_type": "code",
   "execution_count": null,
   "id": "831489c4-2616-4076-8514-3bd963958d2e",
   "metadata": {
    "tags": []
   },
   "outputs": [],
   "source": [
    "fig, ax = plt.subplots(1, 1, figsize=(10, 7))\n",
    "ax.plot(s, F, marker=\".\")\n",
    "ax.legend()\n",
    "ax.set_xlabel(\"s[path]\", size=15)\n",
    "ax.set_ylabel(\"F (kT)\", size=15)\n",
    "ax.set_ylim([0, 20])\n",
    "ax.set_xlim([0, 1])"
   ]
  },
  {
   "cell_type": "markdown",
   "id": "c98d9682-cecb-4604-8dad-68ee23a0a7fc",
   "metadata": {
    "tags": []
   },
   "source": [
    "## Calculate errors FES s-path"
   ]
  },
  {
   "cell_type": "code",
   "execution_count": null,
   "id": "0718e5f5-5f84-4754-86b6-38cc55ae2d49",
   "metadata": {
    "tags": []
   },
   "outputs": [],
   "source": [
    "%%time\n",
    "import src.analysis as spc\n",
    "\n",
    "blocks = [2, 4, 8, 16, 32]\n",
    "n_blocks = len(blocks)\n",
    "n_boot = 150\n",
    "if calculate_path_errors:\n",
    "    errors = spc.get_error(\n",
    "        s_path,\n",
    "        clusters,\n",
    "        extent,\n",
    "        n_boot=n_boot,\n",
    "        bandwidth=bandwidth,\n",
    "        nbin=nbins,\n",
    "        blocks=blocks,\n",
    "        seed=28101990,\n",
    "        n_jobs=4,\n",
    "    )\n",
    "    np.save(f\"{path_processed}path_errors_{n_boot}_{n_blocks}.npy\", errors)\n",
    "else:\n",
    "    errors = np.load(f\"{path_processed}path_errors_{n_boot}_{n_blocks}.npy\")"
   ]
  },
  {
   "cell_type": "markdown",
   "id": "3db8291d-3220-4626-a2f3-becbb87c57e6",
   "metadata": {},
   "source": [
    "Choose the number of blocks that gives you a high error.\n",
    "\n",
    "Note,`e_min` and `e_max` are choosen to remove the extremely high or low values of error that are generated due to poor sampling or high free energy. These regions of the \"free error surface\" are not what we care about and thus we remove it from the statistic and the visualization."
   ]
  },
  {
   "cell_type": "code",
   "execution_count": null,
   "id": "bf7b70ac-a9d5-4069-9f91-3b6b913f4885",
   "metadata": {
    "tags": []
   },
   "outputs": [],
   "source": [
    "fig, ax = plt.subplots(1, 1)\n",
    "for error in glob.glob(path_processed + \"path_errors_*.npy\"):\n",
    "    e = np.load(error)\n",
    "    e[:, ~np.isfinite(F)] = np.nan\n",
    "    label = f\"n_boot={error.split('/')[-1].split('_')[2]}\"\n",
    "    mean = np.nanmean(e, axis=1)\n",
    "    std_err = np.nanstd(e, axis=1) / np.sqrt(e.shape[0])\n",
    "    ax.plot(np.array(blocks), mean, marker=\"o\", label=label)\n",
    "    ax.fill_between(np.array(blocks), mean + std_err, mean - std_err, alpha=0.3)\n",
    "ax.legend()\n",
    "ax.set_xlabel(\"Number of blocks\", size=15)\n",
    "ax.set_ylabel(\"FES error (kT)\", size=15)"
   ]
  },
  {
   "cell_type": "code",
   "execution_count": null,
   "id": "3af9c7b6-44fb-4868-9c68-52b5c1e82382",
   "metadata": {
    "tags": []
   },
   "outputs": [],
   "source": [
    "fig, ax = plt.subplots(1, 1)\n",
    "error_block = 2\n",
    "n_boot = 150\n",
    "n_blocks = len(blocks)\n",
    "s = np.linspace(extent[0], extent[1], nbins)\n",
    "error = np.load(f\"{path_processed}path_errors_{n_boot}_{n_blocks}.npy\")\n",
    "error = error[blocks.index(error_block), :]\n",
    "ax.fill_between(s, F + error, F - error, alpha=0.3)\n",
    "ax.plot(s, F, label=f\"{n_boot=}\", marker=\".\")\n",
    "ax.legend()\n",
    "ax.set_xlabel(\"s[path]\", size=15)\n",
    "ax.set_ylabel(\"F (kT)\", size=15)\n",
    "fig.savefig(path_report + \"FES_path_cv.png\")"
   ]
  },
  {
   "cell_type": "markdown",
   "id": "9b7e7e9f-f83a-4158-84e1-f7984ddc06f4",
   "metadata": {},
   "source": [
    "### Study convergence of the FES as function of path"
   ]
  },
  {
   "cell_type": "code",
   "execution_count": null,
   "id": "bac21246-dfba-48b1-9b3f-7bb73d69b319",
   "metadata": {},
   "outputs": [],
   "source": [
    "%%time\n",
    "n_swarms = 36\n",
    "n_beads = 18\n",
    "step = 50\n",
    "step = step * n_swarms * n_beads\n",
    "\n",
    "if calculate_converges:\n",
    "    FES_vs_t = []\n",
    "    FES_vs_t.append(np.linspace(extent[0], extent[1], nbins))\n",
    "    for i in tqdm(range(step, s_path.shape[0]+step,step)):\n",
    "        s = s_path[: i , :, :]\n",
    "        c = cv_coordinates[: i, :, :]\n",
    "        t = spc.cvs_to_tica(c, drop=[20, 21, 22, 23, 32, 33, 34, 35]) \n",
    "        cl = spc.k_means_cluster(t, k, stride=1, max_iter=500, n_jobs=4, seed=28101990)\n",
    "        try:\n",
    "            _, w= spc.get_msm(cl, n_jobs=4)\n",
    "        except:\n",
    "            print(f\"didn't get msm for {i}\")\n",
    "            continue\n",
    "        p_of_cv, extent = spc.get_kde(\n",
    "            s,\n",
    "            w,\n",
    "            bandwidth,\n",
    "            nbins=nbins,\n",
    "        )\n",
    "        f0 = -np.log(p_of_cv)\n",
    "        f = f0 - f0.min()\n",
    "        f[f > 40] = np.nan\n",
    "        FES_vs_t.append(f)\n",
    "    FES_vs_t.append(f)\n",
    "    FES_vs_t = np.array(FES_vs_t)\n",
    "    np.save(f\"{path_processed}FES_path_vs_t.npy\", FES_vs_t)\n",
    "else:\n",
    "    FES_vs_t = np.load(f\"{path_processed}FES_path_vs_t.npy\")"
   ]
  },
  {
   "cell_type": "code",
   "execution_count": null,
   "id": "74089f8e-2beb-4c60-82a3-d597843a8ce7",
   "metadata": {},
   "outputs": [],
   "source": [
    "fig, ax = spc.plot_FES_1d_vs_t(FES_vs_t, xlabel=\"s[path] (nm)\", error=error)\n",
    "ax.set_ylim([0, 25])\n",
    "ax.set_xlim([0, 1])\n",
    "fig.savefig(path_report + \"FES_path_convergence.png\")"
   ]
  },
  {
   "cell_type": "markdown",
   "id": "d8775043-2f50-4181-ab7f-c497195d5cca",
   "metadata": {},
   "source": [
    "## FES s-path vs property"
   ]
  },
  {
   "cell_type": "code",
   "execution_count": null,
   "id": "6e2483d4-012b-44db-a65b-2ed28eed8e1b",
   "metadata": {},
   "outputs": [],
   "source": [
    "s_path = cvs_path[:, :, 0:1]"
   ]
  },
  {
   "cell_type": "markdown",
   "id": "74a3479d-db41-4716-92ac-bd52911b70a7",
   "metadata": {
    "tags": []
   },
   "source": [
    "## Path vs IG and SF (checks)"
   ]
  },
  {
   "cell_type": "markdown",
   "id": "681e3814-1c65-4765-9635-537f3afdd180",
   "metadata": {
    "tags": []
   },
   "source": [
    "### SF"
   ]
  },
  {
   "cell_type": "code",
   "execution_count": null,
   "id": "a04d1f9f-8263-4c2e-bc33-3cd20023a114",
   "metadata": {},
   "outputs": [],
   "source": [
    "other_cv_id = [0, 1]\n",
    "cv_name = \"SF\"\n",
    "cv_fig_label = \"SF (nm)\""
   ]
  },
  {
   "cell_type": "code",
   "execution_count": null,
   "id": "4be3f009-6e53-4800-8018-d2d9df693e7a",
   "metadata": {},
   "outputs": [],
   "source": [
    "other_cv = spc.average_strings_to_cv(cv_coordinates, other_cv_id)"
   ]
  },
  {
   "cell_type": "code",
   "execution_count": null,
   "id": "528ffdab-fbfe-47c3-b35d-4d0044cd5c5b",
   "metadata": {},
   "outputs": [],
   "source": [
    "cvs = np.concatenate([s_path, other_cv], axis=2)"
   ]
  },
  {
   "cell_type": "code",
   "execution_count": null,
   "id": "feb419a5-cd4f-463a-87c7-daa658a64dc9",
   "metadata": {},
   "outputs": [],
   "source": [
    "%%time\n",
    "bandwidth = 0.05\n",
    "p_of_cv, extent = spc.get_kde(cvs, weights, bandwidth)\n",
    "F0 = -np.log(p_of_cv)\n",
    "F = F0 - F0.min()\n",
    "F[F > 40] = np.nan"
   ]
  },
  {
   "cell_type": "markdown",
   "id": "39680383-fc5a-4035-a4c4-fa32746f85e4",
   "metadata": {},
   "source": [
    "Do the projection and take log. You have to choose a bandwidth for the [KDE](https://en.wikipedia.org/wiki/Kernel_density_estimation) of the histogram. It should be big enough to reduce noise but not so big to remove features. If you give `None`"
   ]
  },
  {
   "cell_type": "code",
   "execution_count": null,
   "id": "b4e81696-6377-49fa-9e1a-f74126905830",
   "metadata": {},
   "outputs": [],
   "source": [
    "np.save(f\"{path_processed}FES_{cv_name}_path.npy\", F)"
   ]
  },
  {
   "cell_type": "code",
   "execution_count": null,
   "id": "1692ff4c-6254-48cb-8765-353f22ee6759",
   "metadata": {},
   "outputs": [],
   "source": [
    "fig, ax = spc.plot_2D_heatmap(\n",
    "    F,\n",
    "    extent,\n",
    "    f_max=25,\n",
    "    f_min=0,\n",
    "    cbar_label=\"Free Energy (kT)\",\n",
    "    xlabel=\"s[path]\",\n",
    "    ylabel=cv_fig_label,\n",
    ")\n",
    "spc.add_XRD_values(XRD_dictionary, valy=\"SF\", size=4, ax=ax, color=\"g\")\n",
    "fig.tight_layout()\n",
    "fig.savefig(path_report + f\"FES_{cv_name}.png\")"
   ]
  },
  {
   "cell_type": "markdown",
   "id": "ec294e2c-2c2e-4bae-937c-1a3c946ba1c3",
   "metadata": {},
   "source": [
    "### IG"
   ]
  },
  {
   "cell_type": "code",
   "execution_count": null,
   "id": "ad5e5609-abbf-45e3-93c2-7ed97f7314c4",
   "metadata": {},
   "outputs": [],
   "source": [
    "other_cv_id = [10, 11]\n",
    "cv_name = \"IG\"\n",
    "cv_fig_label = \"IG (nm)\""
   ]
  },
  {
   "cell_type": "code",
   "execution_count": null,
   "id": "7371eec1-0b70-47a3-8df1-22c78428c551",
   "metadata": {},
   "outputs": [],
   "source": [
    "other_cv = spc.average_strings_to_cv(cv_coordinates, other_cv_id)"
   ]
  },
  {
   "cell_type": "code",
   "execution_count": null,
   "id": "e46b96e4-e4a4-423d-bf14-6ed5187aef2b",
   "metadata": {},
   "outputs": [],
   "source": [
    "cvs = np.concatenate([s_path, other_cv], axis=2)"
   ]
  },
  {
   "cell_type": "code",
   "execution_count": null,
   "id": "595a04a9-6871-4a63-9162-db294040c053",
   "metadata": {},
   "outputs": [],
   "source": [
    "%%time\n",
    "bandwidth = 0.05\n",
    "p_of_cv, extent = spc.get_kde(cvs, weights, bandwidth)\n",
    "F0 = -np.log(p_of_cv)\n",
    "F = F0 - F0.min()\n",
    "F[F > 40] = np.nan"
   ]
  },
  {
   "cell_type": "markdown",
   "id": "dd5aa9e1-846a-4071-96ab-bd8bd3051710",
   "metadata": {},
   "source": [
    "Do the projection and take log. You have to choose a bandwidth for the [KDE](https://en.wikipedia.org/wiki/Kernel_density_estimation) of the histogram. It should be big enough to reduce noise but not so big to remove features. If you give `None`"
   ]
  },
  {
   "cell_type": "code",
   "execution_count": null,
   "id": "f950a42b-c212-4c5a-868d-facdcd35cf9d",
   "metadata": {},
   "outputs": [],
   "source": [
    "np.save(f\"{path_processed}FES_{cv_name}_path.npy\", F)"
   ]
  },
  {
   "cell_type": "code",
   "execution_count": null,
   "id": "7aec18ae-0b2a-4893-84f4-93087ddf5f7c",
   "metadata": {},
   "outputs": [],
   "source": [
    "np.save(f\"{path_processed}FES_{cv_name}_path_extent.npy\", extent)"
   ]
  },
  {
   "cell_type": "code",
   "execution_count": null,
   "id": "91915a84-bf90-4613-92e4-c26767f8cde6",
   "metadata": {},
   "outputs": [],
   "source": [
    "fig, ax = spc.plot_2D_heatmap(\n",
    "    F,\n",
    "    extent,\n",
    "    f_max=25,\n",
    "    f_min=0,\n",
    "    cbar_label=\"Free Energy (kT)\",\n",
    "    xlabel=\"s[path]\",\n",
    "    ylabel=cv_fig_label,\n",
    ")\n",
    "spc.add_XRD_values(XRD_dictionary, valy=\"IG\", size=4, ax=ax, color=\"g\")\n",
    "fig.tight_layout()\n",
    "fig.savefig(path_report + f\"FES_{cv_name}.png\")"
   ]
  },
  {
   "cell_type": "markdown",
   "id": "897af7c3-2ed1-45e5-9905-1b874add7a63",
   "metadata": {
    "tags": []
   },
   "source": [
    "## Path vs L81-W67"
   ]
  },
  {
   "cell_type": "code",
   "execution_count": null,
   "id": "10f16bcd-e033-4325-a66f-6cfa77c30b11",
   "metadata": {},
   "outputs": [],
   "source": [
    "other_cv_id = [32, 33, 34, 35]\n",
    "cv_name = \"L81-W67\"\n",
    "cv_fig_label = \"L81-W67 (nm)\""
   ]
  },
  {
   "cell_type": "code",
   "execution_count": null,
   "id": "272e4e7f-06e4-400f-bf68-21cd5f862b4f",
   "metadata": {},
   "outputs": [],
   "source": [
    "other_cv = spc.average_strings_to_cv(cv_coordinates, other_cv_id)"
   ]
  },
  {
   "cell_type": "code",
   "execution_count": null,
   "id": "4e3ab5fb-b854-460c-b4e1-827ad1c1fca8",
   "metadata": {},
   "outputs": [],
   "source": [
    "cvs = np.concatenate([s_path, other_cv], axis=2)"
   ]
  },
  {
   "cell_type": "code",
   "execution_count": null,
   "id": "bd150b1b-fdc5-4ecd-bbc2-530deda6e074",
   "metadata": {},
   "outputs": [],
   "source": [
    "%%time\n",
    "bandwidth = 0.05\n",
    "p_of_cv, extent = spc.get_kde(cvs, weights, bandwidth)\n",
    "F0 = -np.log(p_of_cv)\n",
    "F = F0 - F0.min()\n",
    "F[F > 40] = np.nan"
   ]
  },
  {
   "cell_type": "markdown",
   "id": "6de217e4-17f4-4863-8398-003535a9bf75",
   "metadata": {},
   "source": [
    "Do the projection and take log. You have to choose a bandwidth for the [KDE](https://en.wikipedia.org/wiki/Kernel_density_estimation) of the histogram. It should be big enough to reduce noise but not so big to remove features. If you give `None`"
   ]
  },
  {
   "cell_type": "code",
   "execution_count": null,
   "id": "0def7b61-5830-4cbd-bd0b-b1a1bc5d3c02",
   "metadata": {},
   "outputs": [],
   "source": [
    "np.save(f\"{path_processed}FES_{cv_name}_path.npy\", F)"
   ]
  },
  {
   "cell_type": "code",
   "execution_count": null,
   "id": "8affb41a-ae48-4d3e-a335-cb38b01c03e3",
   "metadata": {},
   "outputs": [],
   "source": [
    "np.save(f\"{path_processed}FES_{cv_name}_path_extent.npy\", extent)"
   ]
  },
  {
   "cell_type": "code",
   "execution_count": null,
   "id": "ee24aaf0-c3ca-43ac-857b-93cb5bdcba6b",
   "metadata": {},
   "outputs": [],
   "source": [
    "fig, ax = spc.plot_2D_heatmap(\n",
    "    F,\n",
    "    extent,\n",
    "    f_max=25,\n",
    "    f_min=0,\n",
    "    cbar_label=\"Free Energy (kT)\",\n",
    "    xlabel=\"s[path]\",\n",
    "    ylabel=cv_fig_label,\n",
    ")\n",
    "ax.set_xlim(extent[0], extent[1])\n",
    "ax.set_ylim(extent[2], extent[3])\n",
    "fig.tight_layout()\n",
    "spc.add_XRD_values(XRD_dictionary, valy=\"L81-W67\", size=4, ax=ax, color=\"g\")\n",
    "fig.savefig(path_report + f\"FES_{cv_name}.png\")"
   ]
  },
  {
   "cell_type": "markdown",
   "id": "e277e14a-3e0b-4f34-b719-45871b6573b9",
   "metadata": {
    "tags": []
   },
   "source": [
    "## Path vs L81-W67 0"
   ]
  },
  {
   "cell_type": "code",
   "execution_count": null,
   "id": "9bebf52b-91a8-47d9-857b-a2c63448e62c",
   "metadata": {},
   "outputs": [],
   "source": [
    "other_cv_id = 32\n",
    "cv_name = \"L81-W67_0\"\n",
    "cv_fig_label = \"L81-W67 0th (nm)\""
   ]
  },
  {
   "cell_type": "code",
   "execution_count": null,
   "id": "b92c6fec-06d5-400f-a941-7129d0de9420",
   "metadata": {},
   "outputs": [],
   "source": [
    "other_cv = cv_coordinates[:, :, other_cv_id : other_cv_id + 1]"
   ]
  },
  {
   "cell_type": "code",
   "execution_count": null,
   "id": "f726c653-21c5-49bd-a7b7-456410a55a72",
   "metadata": {},
   "outputs": [],
   "source": [
    "cvs = np.concatenate([s_path, other_cv], axis=2)"
   ]
  },
  {
   "cell_type": "code",
   "execution_count": null,
   "id": "58e3aae5-ef33-4e96-bbac-fad740ca0534",
   "metadata": {},
   "outputs": [],
   "source": [
    "%%time\n",
    "bandwidth = 0.05\n",
    "p_of_cv, extent = spc.get_kde(cvs, weights, bandwidth)\n",
    "F0 = -np.log(p_of_cv)\n",
    "F = F0 - F0.min()\n",
    "F[F > 40] = np.nan"
   ]
  },
  {
   "cell_type": "markdown",
   "id": "ad18ad56-aae1-4d7f-98e8-c351b8754c59",
   "metadata": {},
   "source": [
    "Do the projection and take log. You have to choose a bandwidth for the [KDE](https://en.wikipedia.org/wiki/Kernel_density_estimation) of the histogram. It should be big enough to reduce noise but not so big to remove features. If you give `None`"
   ]
  },
  {
   "cell_type": "code",
   "execution_count": null,
   "id": "0ccd7de1-c457-49eb-8bc3-021a4d169b0f",
   "metadata": {},
   "outputs": [],
   "source": [
    "np.save(f\"{path_processed}FES_{cv_name}_path.npy\", F)"
   ]
  },
  {
   "cell_type": "code",
   "execution_count": null,
   "id": "fb8c3639-0514-4c8f-9dcc-88b181647900",
   "metadata": {},
   "outputs": [],
   "source": [
    "np.save(f\"{path_processed}FES_{cv_name}_path_extent.npy\", extent)"
   ]
  },
  {
   "cell_type": "code",
   "execution_count": null,
   "id": "2f71f6d1-b2fb-47ba-a738-d58e6c4944af",
   "metadata": {},
   "outputs": [],
   "source": [
    "fig, ax = spc.plot_2D_heatmap(\n",
    "    F,\n",
    "    extent,\n",
    "    f_max=25,\n",
    "    f_min=0,\n",
    "    cbar_label=\"Free Energy (kT)\",\n",
    "    xlabel=\"s[path]\",\n",
    "    ylabel=cv_fig_label,\n",
    ")\n",
    "ax.set_xlim(extent[0], extent[1])\n",
    "ax.set_ylim(extent[2], extent[3])\n",
    "fig.tight_layout()\n",
    "spc.add_XRD_values(XRD_dictionary, valy=\"L81-W67\", size=4, ax=ax, color=\"g\")\n",
    "fig.savefig(path_report + f\"FES_{cv_name}.png\")"
   ]
  },
  {
   "cell_type": "markdown",
   "id": "9b7fa37b-3f8c-497a-a089-88d87a62fc7c",
   "metadata": {
    "tags": []
   },
   "source": [
    "## Path vs L81-W67 1"
   ]
  },
  {
   "cell_type": "code",
   "execution_count": null,
   "id": "77f4abf9-c864-463e-b2f3-71aab5411d24",
   "metadata": {},
   "outputs": [],
   "source": [
    "other_cv_id = 32 + 1\n",
    "cv_name = \"L81-W67_1\"\n",
    "cv_fig_label = \"L81-W67 1th (nm)\""
   ]
  },
  {
   "cell_type": "code",
   "execution_count": null,
   "id": "17f21914-d604-4c28-9503-61fcde748333",
   "metadata": {},
   "outputs": [],
   "source": [
    "other_cv = cv_coordinates[:, :, other_cv_id : other_cv_id + 1]"
   ]
  },
  {
   "cell_type": "code",
   "execution_count": null,
   "id": "d1192554-821a-4d74-bf25-41792876017a",
   "metadata": {},
   "outputs": [],
   "source": [
    "cvs = np.concatenate([s_path, other_cv], axis=2)"
   ]
  },
  {
   "cell_type": "code",
   "execution_count": null,
   "id": "62869d96-f6b3-4c71-9312-5a45e9f35047",
   "metadata": {},
   "outputs": [],
   "source": [
    "%%time\n",
    "bandwidth = 0.05\n",
    "p_of_cv, extent = spc.get_kde(cvs, weights, bandwidth)\n",
    "F0 = -np.log(p_of_cv)\n",
    "F = F0 - F0.min()\n",
    "F[F > 40] = np.nan"
   ]
  },
  {
   "cell_type": "markdown",
   "id": "c8d81103-ae0f-49b0-9c19-736162123f9a",
   "metadata": {},
   "source": [
    "Do the projection and take log. You have to choose a bandwidth for the [KDE](https://en.wikipedia.org/wiki/Kernel_density_estimation) of the histogram. It should be big enough to reduce noise but not so big to remove features. If you give `None`"
   ]
  },
  {
   "cell_type": "code",
   "execution_count": null,
   "id": "b018a0d3-eaec-4534-aa10-892ec56e26dc",
   "metadata": {},
   "outputs": [],
   "source": [
    "np.save(f\"{path_processed}FES_{cv_name}_path.npy\", F)"
   ]
  },
  {
   "cell_type": "code",
   "execution_count": null,
   "id": "979a7fad-919c-49a9-8633-1c43709c14a4",
   "metadata": {},
   "outputs": [],
   "source": [
    "np.save(f\"{path_processed}FES_{cv_name}_path_extent.npy\", extent)"
   ]
  },
  {
   "cell_type": "code",
   "execution_count": null,
   "id": "52a7aa23-6fbe-4026-9d24-27ede9331f35",
   "metadata": {},
   "outputs": [],
   "source": [
    "fig, ax = spc.plot_2D_heatmap(\n",
    "    F,\n",
    "    extent,\n",
    "    f_max=25,\n",
    "    f_min=0,\n",
    "    cbar_label=\"Free Energy (kT)\",\n",
    "    xlabel=\"s[path]\",\n",
    "    ylabel=cv_fig_label,\n",
    ")\n",
    "ax.set_xlim(extent[0], extent[1])\n",
    "ax.set_ylim(extent[2], extent[3])\n",
    "fig.tight_layout()\n",
    "spc.add_XRD_values(XRD_dictionary, valy=\"L81-W67\", size=4, ax=ax, color=\"g\")\n",
    "fig.savefig(path_report + f\"FES_{cv_name}.png\")"
   ]
  },
  {
   "cell_type": "markdown",
   "id": "e7795802-1fc7-448f-8403-15aeedb795d1",
   "metadata": {
    "tags": []
   },
   "source": [
    "## Path vs L81-W67 2"
   ]
  },
  {
   "cell_type": "code",
   "execution_count": null,
   "id": "9b26ebdf-3279-422f-af35-4b78bf839f21",
   "metadata": {},
   "outputs": [],
   "source": [
    "other_cv_id = 32 + 2\n",
    "cv_name = \"L81-W67_2\"\n",
    "cv_fig_label = \"L81-W67 2th (nm)\""
   ]
  },
  {
   "cell_type": "code",
   "execution_count": null,
   "id": "64af023b-dc7d-40ee-8c5e-25ded96a52cf",
   "metadata": {},
   "outputs": [],
   "source": [
    "other_cv = cv_coordinates[:, :, other_cv_id : other_cv_id + 1]"
   ]
  },
  {
   "cell_type": "code",
   "execution_count": null,
   "id": "c358cbd1-af89-4339-a121-c3b3486673e0",
   "metadata": {},
   "outputs": [],
   "source": [
    "cvs = np.concatenate([s_path, other_cv], axis=2)"
   ]
  },
  {
   "cell_type": "code",
   "execution_count": null,
   "id": "f2c5be76-8601-4731-91f3-f698c5ecd621",
   "metadata": {},
   "outputs": [],
   "source": [
    "%%time\n",
    "bandwidth = 0.05\n",
    "p_of_cv, extent = spc.get_kde(cvs, weights, bandwidth)\n",
    "F0 = -np.log(p_of_cv)\n",
    "F = F0 - F0.min()\n",
    "F[F > 40] = np.nan"
   ]
  },
  {
   "cell_type": "markdown",
   "id": "4eb62ea0-3e5b-4754-9b8a-b81d58e91471",
   "metadata": {},
   "source": [
    "Do the projection and take log. You have to choose a bandwidth for the [KDE](https://en.wikipedia.org/wiki/Kernel_density_estimation) of the histogram. It should be big enough to reduce noise but not so big to remove features. If you give `None`"
   ]
  },
  {
   "cell_type": "code",
   "execution_count": null,
   "id": "37be955b-4ba2-4469-acbd-24da5d5eb7ce",
   "metadata": {},
   "outputs": [],
   "source": [
    "np.save(f\"{path_processed}FES_{cv_name}_path.npy\", F)"
   ]
  },
  {
   "cell_type": "code",
   "execution_count": null,
   "id": "5eabac1b-5e1e-4cb2-8b61-430a910acaec",
   "metadata": {},
   "outputs": [],
   "source": [
    "np.save(f\"{path_processed}FES_{cv_name}_path_extent.npy\", extent)"
   ]
  },
  {
   "cell_type": "code",
   "execution_count": null,
   "id": "cac1ca2b-7066-40fc-99d0-4a5257324e28",
   "metadata": {},
   "outputs": [],
   "source": [
    "fig, ax = spc.plot_2D_heatmap(\n",
    "    F,\n",
    "    extent,\n",
    "    f_max=25,\n",
    "    f_min=0,\n",
    "    cbar_label=\"Free Energy (kT)\",\n",
    "    xlabel=\"s[path]\",\n",
    "    ylabel=cv_fig_label,\n",
    ")\n",
    "ax.set_xlim(extent[0], extent[1])\n",
    "ax.set_ylim(extent[2], extent[3])\n",
    "fig.tight_layout()\n",
    "spc.add_XRD_values(XRD_dictionary, valy=\"L81-W67\", size=4, ax=ax, color=\"g\")\n",
    "fig.savefig(path_report + f\"FES_{cv_name}.png\")"
   ]
  },
  {
   "cell_type": "markdown",
   "id": "a79d735b-5e25-4f93-b8fc-27637d2fb275",
   "metadata": {
    "tags": []
   },
   "source": [
    "## Path vs L81-W67 3"
   ]
  },
  {
   "cell_type": "code",
   "execution_count": null,
   "id": "cda97559-9930-445c-b3a8-4c1b8404efa8",
   "metadata": {},
   "outputs": [],
   "source": [
    "other_cv_id = 32 + 3\n",
    "cv_name = \"L81-W67_3\"\n",
    "cv_fig_label = \"L81-W67 3th (nm)\""
   ]
  },
  {
   "cell_type": "code",
   "execution_count": null,
   "id": "46ec5ca2-1a54-4acc-96eb-f7ffb007fa82",
   "metadata": {},
   "outputs": [],
   "source": [
    "other_cv = cv_coordinates[:, :, other_cv_id : other_cv_id + 1]"
   ]
  },
  {
   "cell_type": "code",
   "execution_count": null,
   "id": "f1bd7ed6-6e80-4bbf-8ac9-27e066401b9e",
   "metadata": {},
   "outputs": [],
   "source": [
    "cvs = np.concatenate([s_path, other_cv], axis=2)"
   ]
  },
  {
   "cell_type": "code",
   "execution_count": null,
   "id": "5082d739-33db-44bd-b031-0d4219c47c65",
   "metadata": {},
   "outputs": [],
   "source": [
    "%%time\n",
    "bandwidth = 0.05\n",
    "p_of_cv, extent = spc.get_kde(cvs, weights, bandwidth)\n",
    "F0 = -np.log(p_of_cv)\n",
    "F = F0 - F0.min()\n",
    "F[F > 40] = np.nan"
   ]
  },
  {
   "cell_type": "markdown",
   "id": "42b839a8-4093-44d4-bf21-648210439e62",
   "metadata": {},
   "source": [
    "Do the projection and take log. You have to choose a bandwidth for the [KDE](https://en.wikipedia.org/wiki/Kernel_density_estimation) of the histogram. It should be big enough to reduce noise but not so big to remove features. If you give `None`"
   ]
  },
  {
   "cell_type": "code",
   "execution_count": null,
   "id": "bf530ea7-0628-4582-8fca-fe5fa7c3857f",
   "metadata": {},
   "outputs": [],
   "source": [
    "np.save(f\"{path_processed}FES_{cv_name}_path.npy\", F)"
   ]
  },
  {
   "cell_type": "code",
   "execution_count": null,
   "id": "f7fe4403-dd4f-4f67-b869-f96567e2c2cc",
   "metadata": {},
   "outputs": [],
   "source": [
    "np.save(f\"{path_processed}FES_{cv_name}_path_extent.npy\", extent)"
   ]
  },
  {
   "cell_type": "code",
   "execution_count": null,
   "id": "577221dd-1472-47bb-b622-606a29f38b33",
   "metadata": {},
   "outputs": [],
   "source": [
    "fig, ax = spc.plot_2D_heatmap(\n",
    "    F,\n",
    "    extent,\n",
    "    f_max=25,\n",
    "    f_min=0,\n",
    "    cbar_label=\"Free Energy (kT)\",\n",
    "    xlabel=\"s[path]\",\n",
    "    ylabel=cv_fig_label,\n",
    ")\n",
    "ax.set_xlim(extent[0], extent[1])\n",
    "ax.set_ylim(extent[2], extent[3])\n",
    "fig.tight_layout()\n",
    "spc.add_XRD_values(XRD_dictionary, valy=\"L81-W67\", size=4, ax=ax, color=\"g\")\n",
    "fig.savefig(path_report + f\"FES_{cv_name}.png\")"
   ]
  },
  {
   "cell_type": "markdown",
   "id": "94c9513f-47a1-46cd-a6dc-ac4fb6bf6f38",
   "metadata": {
    "tags": []
   },
   "source": [
    "## Path vs I100-F103 (checks)"
   ]
  },
  {
   "cell_type": "code",
   "execution_count": null,
   "id": "8c89e4c5-eec4-4e2f-b4fa-f256830451fa",
   "metadata": {},
   "outputs": [],
   "source": [
    "other_cv_id = [12, 13, 14, 15]\n",
    "cv_name = \"I100-F103\"\n",
    "cv_fig_label = \"I100-F103 (nm)\""
   ]
  },
  {
   "cell_type": "code",
   "execution_count": null,
   "id": "0c5b3a3c-e985-4ea3-ac1b-9ce5fadaed62",
   "metadata": {},
   "outputs": [],
   "source": [
    "other_cv = spc.average_strings_to_cv(cv_coordinates, other_cv_id)"
   ]
  },
  {
   "cell_type": "code",
   "execution_count": null,
   "id": "4fb7bc3d-1e55-4bcd-988d-e63c4745aaa2",
   "metadata": {},
   "outputs": [],
   "source": [
    "other_cv.shape"
   ]
  },
  {
   "cell_type": "code",
   "execution_count": null,
   "id": "870955a7-65de-4779-9b90-bab4234937a0",
   "metadata": {},
   "outputs": [],
   "source": [
    "cvs = np.concatenate([s_path, other_cv], axis=2)"
   ]
  },
  {
   "cell_type": "code",
   "execution_count": null,
   "id": "58411266-ebb2-4e17-ab82-4e3fe242c6f2",
   "metadata": {},
   "outputs": [],
   "source": [
    "%%time\n",
    "bandwidth = 0.05\n",
    "p_of_cv, extent = spc.get_kde(cvs, weights, bandwidth)\n",
    "F0 = -np.log(p_of_cv)\n",
    "F = F0 - F0.min()\n",
    "F[F > 40] = np.nan"
   ]
  },
  {
   "cell_type": "markdown",
   "id": "da4e801c-6984-41b1-91ca-2d864f51a8dc",
   "metadata": {},
   "source": [
    "Do the projection and take log. You have to choose a bandwidth for the [KDE](https://en.wikipedia.org/wiki/Kernel_density_estimation) of the histogram. It should be big enough to reduce noise but not so big to remove features. If you give `None`"
   ]
  },
  {
   "cell_type": "code",
   "execution_count": null,
   "id": "84fb3ab2-c243-4e24-9faf-678ad863250a",
   "metadata": {},
   "outputs": [],
   "source": [
    "np.save(f\"{path_processed}FES_{cv_name}_path.npy\", F)"
   ]
  },
  {
   "cell_type": "code",
   "execution_count": null,
   "id": "2e547d3b-fcee-47b2-b5ca-1258bb230529",
   "metadata": {},
   "outputs": [],
   "source": [
    "np.save(f\"{path_processed}FES_{cv_name}_path_extent.npy\", extent)"
   ]
  },
  {
   "cell_type": "code",
   "execution_count": null,
   "id": "660817ee-de22-40e6-8943-0e3483b91333",
   "metadata": {},
   "outputs": [],
   "source": [
    "fig, ax = spc.plot_2D_heatmap(\n",
    "    F,\n",
    "    extent,\n",
    "    f_max=25,\n",
    "    f_min=0,\n",
    "    cbar_label=\"Free Energy (kT)\",\n",
    "    xlabel=\"s[path]\",\n",
    "    ylabel=cv_fig_label,\n",
    ")\n",
    "ax.set_xlim(extent[0], extent[1])\n",
    "ax.set_ylim(extent[2], extent[3])\n",
    "spc.add_XRD_values(XRD_dictionary, valy=\"I100-F103\", size=4, ax=ax, color=\"g\")\n",
    "fig.tight_layout()\n",
    "fig.savefig(path_report + f\"FES_{cv_name}.png\")"
   ]
  },
  {
   "cell_type": "markdown",
   "id": "2edbc0a0-4216-4ea1-98ca-e1e30ed74db7",
   "metadata": {
    "tags": []
   },
   "source": [
    "## Path vs F114-A32 TWIST"
   ]
  },
  {
   "cell_type": "code",
   "execution_count": null,
   "id": "e2da8d0b-1810-40b2-8015-074ce88838a3",
   "metadata": {},
   "outputs": [],
   "source": [
    "other_cv_id = [16, 17, 18, 19]\n",
    "cv_name = \"F114-A32\"\n",
    "cv_fig_label = \"F114-A32 (nm)\""
   ]
  },
  {
   "cell_type": "code",
   "execution_count": null,
   "id": "8c89db8b-3f70-470b-868d-a83bd95056f3",
   "metadata": {},
   "outputs": [],
   "source": [
    "other_cv = spc.average_strings_to_cv(cv_coordinates, other_cv_id)"
   ]
  },
  {
   "cell_type": "code",
   "execution_count": null,
   "id": "9d8c2e5d-4f37-4eaa-a5ab-3636a6b05239",
   "metadata": {},
   "outputs": [],
   "source": [
    "other_cv.shape"
   ]
  },
  {
   "cell_type": "code",
   "execution_count": null,
   "id": "d79d0845-a372-44d3-8f27-3b3a9f436e71",
   "metadata": {},
   "outputs": [],
   "source": [
    "cvs = np.concatenate([s_path, other_cv], axis=2)"
   ]
  },
  {
   "cell_type": "code",
   "execution_count": null,
   "id": "1bb11336-cb31-4f9f-8822-1b53ca530ca1",
   "metadata": {},
   "outputs": [],
   "source": [
    "%%time\n",
    "bandwidth = 0.05\n",
    "p_of_cv, extent = spc.get_kde(cvs, weights, bandwidth)\n",
    "F0 = -np.log(p_of_cv)\n",
    "F = F0 - F0.min()\n",
    "F[F > 40] = np.nan"
   ]
  },
  {
   "cell_type": "markdown",
   "id": "c4b29cd9-54ea-4cd6-a34f-7321e96c05e8",
   "metadata": {},
   "source": [
    "Do the projection and take log. You have to choose a bandwidth for the [KDE](https://en.wikipedia.org/wiki/Kernel_density_estimation) of the histogram. It should be big enough to reduce noise but not so big to remove features. If you give `None`"
   ]
  },
  {
   "cell_type": "code",
   "execution_count": null,
   "id": "813e3c8a-f412-44e1-b6d5-4d10b4c192f5",
   "metadata": {},
   "outputs": [],
   "source": [
    "np.save(f\"{path_processed}FES_{cv_name}_path.npy\", F)"
   ]
  },
  {
   "cell_type": "code",
   "execution_count": null,
   "id": "e2efecb5-47df-46de-a0a0-3712990bcf0c",
   "metadata": {},
   "outputs": [],
   "source": [
    "np.save(f\"{path_processed}FES_{cv_name}_path_extent.npy\", extent)"
   ]
  },
  {
   "cell_type": "code",
   "execution_count": null,
   "id": "f3335614-9029-4e51-a711-d4c654741681",
   "metadata": {},
   "outputs": [],
   "source": [
    "fig, ax = spc.plot_2D_heatmap(\n",
    "    F,\n",
    "    extent,\n",
    "    f_max=25,\n",
    "    f_min=0,\n",
    "    cbar_label=\"Free Energy (kT)\",\n",
    "    xlabel=\"s[path]\",\n",
    "    ylabel=cv_fig_label,\n",
    ")\n",
    "ax.set_xlim(extent[0], extent[1])\n",
    "ax.set_ylim(extent[2], extent[3])\n",
    "spc.add_XRD_values(XRD_dictionary, valy=\"I100-F103\", size=4, ax=ax, color=\"g\")\n",
    "fig.tight_layout()\n",
    "fig.savefig(path_report + f\"FES_{cv_name}.png\")"
   ]
  },
  {
   "cell_type": "markdown",
   "id": "81a5fd54-e354-4950-926c-d6aaaf9bb21f",
   "metadata": {
    "tags": []
   },
   "source": [
    "## Path vs E118-A28 TWIST"
   ]
  },
  {
   "cell_type": "code",
   "execution_count": null,
   "id": "08510d2f-621c-4886-9568-084f5f20a127",
   "metadata": {},
   "outputs": [],
   "source": [
    "other_cv_id = [24, 25, 26, 27]\n",
    "cv_name = \"E118-A28\"\n",
    "cv_fig_label = \"E118-A28 (nm)\""
   ]
  },
  {
   "cell_type": "code",
   "execution_count": null,
   "id": "d1082c75-b9fa-4551-a331-0bda2374d5c1",
   "metadata": {},
   "outputs": [],
   "source": [
    "other_cv = spc.average_strings_to_cv(cv_coordinates, other_cv_id)"
   ]
  },
  {
   "cell_type": "code",
   "execution_count": null,
   "id": "b1c61bac-4489-4852-b5b1-997536717092",
   "metadata": {},
   "outputs": [],
   "source": [
    "cvs = np.concatenate([s_path, other_cv], axis=2)"
   ]
  },
  {
   "cell_type": "code",
   "execution_count": null,
   "id": "6d537dcc-5be0-43cb-acce-230fdae3cfe1",
   "metadata": {},
   "outputs": [],
   "source": [
    "%%time\n",
    "bandwidth = 0.05\n",
    "p_of_cv, extent = spc.get_kde(cvs, weights, bandwidth)\n",
    "F0 = -np.log(p_of_cv)\n",
    "F = F0 - F0.min()\n",
    "F[F > 40] = np.nan"
   ]
  },
  {
   "cell_type": "markdown",
   "id": "e5679c98-dbc3-428e-b5e8-3544d93a188a",
   "metadata": {},
   "source": [
    "Do the projection and take log. You have to choose a bandwidth for the [KDE](https://en.wikipedia.org/wiki/Kernel_density_estimation) of the histogram. It should be big enough to reduce noise but not so big to remove features. If you give `None`"
   ]
  },
  {
   "cell_type": "code",
   "execution_count": null,
   "id": "fa37cd29-baca-4d1b-baa7-a60067df2023",
   "metadata": {},
   "outputs": [],
   "source": [
    "np.save(f\"{path_processed}FES_{cv_name}_path.npy\", F)"
   ]
  },
  {
   "cell_type": "code",
   "execution_count": null,
   "id": "d81366ef-c94c-4a02-af24-4678c5b58705",
   "metadata": {},
   "outputs": [],
   "source": [
    "np.save(f\"{path_processed}FES_{cv_name}_path_extent.npy\", extent)"
   ]
  },
  {
   "cell_type": "code",
   "execution_count": null,
   "id": "9bbcdf0f-41e1-495b-bbc5-027ddb16148a",
   "metadata": {},
   "outputs": [],
   "source": [
    "fig, ax = spc.plot_2D_heatmap(\n",
    "    F,\n",
    "    extent,\n",
    "    f_max=25,\n",
    "    f_min=0,\n",
    "    cbar_label=\"Free Energy (kT)\",\n",
    "    xlabel=\"s[path]\",\n",
    "    ylabel=cv_fig_label,\n",
    ")\n",
    "ax.set_xlim(extent[0], extent[1])\n",
    "ax.set_ylim(extent[2], extent[3])\n",
    "spc.add_XRD_values(XRD_dictionary, valy=\"I100-F103\", size=4, ax=ax, color=\"g\")\n",
    "fig.tight_layout()\n",
    "fig.savefig(path_report + \"FES.png\")\n",
    "fig.savefig(path_report + f\"FES_{cv_name}.png\")"
   ]
  },
  {
   "cell_type": "markdown",
   "id": "fe13e5da-c980-46aa-ba5d-da12a6cad9c4",
   "metadata": {
    "tags": []
   },
   "source": [
    "## Path vs I100 $\\chi_1$"
   ]
  },
  {
   "cell_type": "code",
   "execution_count": null,
   "id": "aedadf07-a511-4263-9947-c675daa23ffd",
   "metadata": {},
   "outputs": [],
   "source": [
    "cv_name = \"chi1_I100\"\n",
    "cv_fig_label = \"$\\chi_1$ I100 ($\\deg$)\""
   ]
  },
  {
   "cell_type": "code",
   "execution_count": null,
   "id": "3b9ac986-6ead-4f02-accd-ef83b6a794ca",
   "metadata": {},
   "outputs": [],
   "source": [
    "other_cv = np.load(f\"{path_interim}/{cv_name}.npy\")"
   ]
  },
  {
   "cell_type": "code",
   "execution_count": null,
   "id": "58976913-59c4-48ed-b060-ef619d86bfe9",
   "metadata": {
    "tags": []
   },
   "outputs": [],
   "source": [
    "cvs = np.concatenate([s_path, other_cv.reshape([other_cv.shape[0] // 2, 2, 1])], axis=2)"
   ]
  },
  {
   "cell_type": "code",
   "execution_count": null,
   "id": "8b0d9296-7385-4e41-b418-980f07a33d8f",
   "metadata": {},
   "outputs": [],
   "source": [
    "%%time\n",
    "bandwidth = 0.05\n",
    "p_of_cv, extent = spc.get_kde(cvs, weights, bandwidth)\n",
    "F0 = -np.log(p_of_cv)\n",
    "F = F0 - F0.min()\n",
    "F[F > 40] = np.nan"
   ]
  },
  {
   "cell_type": "markdown",
   "id": "4ed4e703-6ef4-4344-8d66-fee72ef63534",
   "metadata": {},
   "source": [
    "Do the projection and take log. You have to choose a bandwidth for the [KDE](https://en.wikipedia.org/wiki/Kernel_density_estimation) of the histogram. It should be big enough to reduce noise but not so big to remove features. If you give `None`"
   ]
  },
  {
   "cell_type": "code",
   "execution_count": null,
   "id": "29becde0-dcc4-4562-b369-3dcedafc1aca",
   "metadata": {},
   "outputs": [],
   "source": [
    "np.save(f\"{path_processed}FES_{cv_name}_path.npy\", F)"
   ]
  },
  {
   "cell_type": "code",
   "execution_count": null,
   "id": "18f3df64-aa52-4905-b509-d374ef9a0419",
   "metadata": {},
   "outputs": [],
   "source": [
    "np.save(f\"{path_processed}FES_{cv_name}_path_extent.npy\", extent)"
   ]
  },
  {
   "cell_type": "code",
   "execution_count": null,
   "id": "4b3fa99d-d9fd-464d-94cf-a87ea05e1dc1",
   "metadata": {},
   "outputs": [],
   "source": [
    "fig, ax = spc.plot_2D_heatmap(\n",
    "    F,\n",
    "    extent,\n",
    "    f_max=20,\n",
    "    f_min=0,\n",
    "    cbar_label=\"Free Energy (kT)\",\n",
    "    xlabel=\"s[path]\",\n",
    "    ylabel=cv_fig_label,\n",
    ")\n",
    "ax.set_xlim(extent[0], extent[1])\n",
    "ax.set_ylim(extent[2], extent[3])\n",
    "# spc.add_XRD_values(XRD_dictionary, valy=\"I100-F103\", size=4, ax=ax, color=\"g\")\n",
    "fig.tight_layout()\n",
    "fig.savefig(path_report + f\"FES_{cv_name}.png\")"
   ]
  },
  {
   "cell_type": "markdown",
   "id": "439e7105-f3e6-4c7b-8e6b-59873aaf7caf",
   "metadata": {
    "tags": []
   },
   "source": [
    "## Path vs F103 $\\chi_1$"
   ]
  },
  {
   "cell_type": "code",
   "execution_count": null,
   "id": "bd994021-c6eb-4928-8269-8a69c50d6dff",
   "metadata": {},
   "outputs": [],
   "source": [
    "cv_name = \"chi1_F103\"\n",
    "cv_fig_label = \"$\\chi_1$ F103 ($\\deg$)\""
   ]
  },
  {
   "cell_type": "code",
   "execution_count": null,
   "id": "50524200-face-4d3c-aaab-3e4292d3a50a",
   "metadata": {},
   "outputs": [],
   "source": [
    "other_cv = np.load(f\"{path_interim}/{cv_name}.npy\")"
   ]
  },
  {
   "cell_type": "code",
   "execution_count": null,
   "id": "3f49df8b-7143-4893-bfce-0d48417b3a03",
   "metadata": {},
   "outputs": [],
   "source": [
    "cvs = np.concatenate([s_path, other_cv.reshape([other_cv.shape[0] // 2, 2, 1])], axis=2)"
   ]
  },
  {
   "cell_type": "code",
   "execution_count": null,
   "id": "86b69628-f5fc-4e71-8803-713329a4fdcb",
   "metadata": {},
   "outputs": [],
   "source": [
    "%%time\n",
    "bandwidth = 0.05\n",
    "p_of_cv, extent = spc.get_kde(cvs, weights, bandwidth)\n",
    "F0 = -np.log(p_of_cv)\n",
    "F = F0 - F0.min()\n",
    "F[F > 40] = np.nan"
   ]
  },
  {
   "cell_type": "markdown",
   "id": "a20e350a-3e9a-4589-8c1d-473af9267801",
   "metadata": {},
   "source": [
    "Do the projection and take log. You have to choose a bandwidth for the [KDE](https://en.wikipedia.org/wiki/Kernel_density_estimation) of the histogram. It should be big enough to reduce noise but not so big to remove features. If you give `None`"
   ]
  },
  {
   "cell_type": "code",
   "execution_count": null,
   "id": "175013ce-c552-4fa7-8854-82ea38e8c866",
   "metadata": {},
   "outputs": [],
   "source": [
    "np.save(f\"{path_processed}FES_{cv_name}_path.npy\", F)"
   ]
  },
  {
   "cell_type": "code",
   "execution_count": null,
   "id": "466cb513-6d86-4bf2-8f77-4b1a7b4dab5c",
   "metadata": {},
   "outputs": [],
   "source": [
    "np.save(f\"{path_processed}FES_{cv_name}_path_extent.npy\", extent)"
   ]
  },
  {
   "cell_type": "code",
   "execution_count": null,
   "id": "b2ef2701-2bca-4da5-b7e4-7d6a3ad0c31b",
   "metadata": {},
   "outputs": [],
   "source": [
    "fig, ax = spc.plot_2D_heatmap(\n",
    "    F,\n",
    "    extent,\n",
    "    f_max=20,\n",
    "    f_min=0,\n",
    "    cbar_label=\"Free Energy (kT)\",\n",
    "    xlabel=\"s[path]\",\n",
    "    ylabel=cv_fig_label,\n",
    ")\n",
    "ax.set_xlim(extent[0], extent[1])\n",
    "ax.set_ylim(extent[2], extent[3])\n",
    "# spc.add_XRD_values(XRD_dictionary, valy=\"I100-F103\", size=4, ax=ax, color=\"g\")\n",
    "fig.tight_layout()\n",
    "fig.savefig(path_report + f\"FES_{cv_name}.png\")"
   ]
  },
  {
   "cell_type": "markdown",
   "id": "af62ff95-20c7-41df-bdf6-7f1fd6673087",
   "metadata": {
    "tags": []
   },
   "source": [
    "## Path vs E71 $\\chi_1$"
   ]
  },
  {
   "cell_type": "code",
   "execution_count": null,
   "id": "2de12df9-1a68-4de5-992e-ca07be2f98fd",
   "metadata": {},
   "outputs": [],
   "source": [
    "cv_name = \"chi1_E71\"\n",
    "cv_fig_label = \"$\\chi_1$ E71 ($\\deg$)\""
   ]
  },
  {
   "cell_type": "code",
   "execution_count": null,
   "id": "d5a0890a-6313-4b81-98f3-e081c978e117",
   "metadata": {},
   "outputs": [],
   "source": [
    "other_cv = np.load(f\"{path_interim}/{cv_name}.npy\")"
   ]
  },
  {
   "cell_type": "code",
   "execution_count": null,
   "id": "c812f325-a541-4757-acfb-784f4c7f731d",
   "metadata": {},
   "outputs": [],
   "source": [
    "cvs = np.concatenate([s_path, other_cv.reshape([other_cv.shape[0] // 2, 2, 1])], axis=2)"
   ]
  },
  {
   "cell_type": "code",
   "execution_count": null,
   "id": "03e66d01-7c23-449f-9c88-81d4c53e1f7a",
   "metadata": {},
   "outputs": [],
   "source": [
    "%%time\n",
    "bandwidth = 0.05\n",
    "p_of_cv, extent = spc.get_kde(cvs, weights, bandwidth)\n",
    "F0 = -np.log(p_of_cv)\n",
    "F = F0 - F0.min()\n",
    "F[F > 40] = np.nan"
   ]
  },
  {
   "cell_type": "markdown",
   "id": "98b4e7c1-ab7e-49cc-9440-0d0258e62622",
   "metadata": {},
   "source": [
    "Do the projection and take log. You have to choose a bandwidth for the [KDE](https://en.wikipedia.org/wiki/Kernel_density_estimation) of the histogram. It should be big enough to reduce noise but not so big to remove features. If you give `None`"
   ]
  },
  {
   "cell_type": "code",
   "execution_count": null,
   "id": "e68f2932-918b-4abd-9ed3-2468160678a3",
   "metadata": {},
   "outputs": [],
   "source": [
    "np.save(f\"{path_processed}FES_{cv_name}_path.npy\", F)"
   ]
  },
  {
   "cell_type": "code",
   "execution_count": null,
   "id": "bcd296d3-788a-4271-a3a9-b9a24fa44b12",
   "metadata": {},
   "outputs": [],
   "source": [
    "np.save(f\"{path_processed}FES_{cv_name}_path_extent.npy\", extent)"
   ]
  },
  {
   "cell_type": "code",
   "execution_count": null,
   "id": "530ce229-fbba-498c-93a4-22d13e85f037",
   "metadata": {},
   "outputs": [],
   "source": [
    "fig, ax = spc.plot_2D_heatmap(\n",
    "    F,\n",
    "    extent,\n",
    "    f_max=20,\n",
    "    f_min=0,\n",
    "    cbar_label=\"Free Energy (kT)\",\n",
    "    xlabel=\"s[path]\",\n",
    "    ylabel=cv_fig_label,\n",
    ")\n",
    "ax.set_xlim(extent[0], extent[1])\n",
    "ax.set_ylim(extent[2], extent[3])\n",
    "# spc.add_XRD_values(XRD_dictionary, valy=\"I100-F103\", size=4, ax=ax, color=\"g\")\n",
    "fig.tight_layout()\n",
    "fig.savefig(path_report + f\"FES_{cv_name}.png\")"
   ]
  },
  {
   "cell_type": "markdown",
   "id": "e4bd8b18-263b-4387-9d46-23688efb430c",
   "metadata": {
    "tags": []
   },
   "source": [
    "## Path vs E72 $\\chi_2$"
   ]
  },
  {
   "cell_type": "code",
   "execution_count": null,
   "id": "14ca4cbf-3c42-4824-8bfc-4ac1318feff2",
   "metadata": {},
   "outputs": [],
   "source": [
    "cv_name = \"chi2_E71\"\n",
    "cv_fig_label = \"$\\chi_2$ E71 ($\\deg$)\""
   ]
  },
  {
   "cell_type": "code",
   "execution_count": null,
   "id": "84ee6daa-955e-4709-8473-04b11a88e3f8",
   "metadata": {},
   "outputs": [],
   "source": [
    "other_cv = np.load(f\"{path_interim}/{cv_name}.npy\")"
   ]
  },
  {
   "cell_type": "code",
   "execution_count": null,
   "id": "fb9dd2ce-b42e-457a-8c05-20baf92cd315",
   "metadata": {},
   "outputs": [],
   "source": [
    "cvs = np.concatenate([s_path, other_cv.reshape([other_cv.shape[0] // 2, 2, 1])], axis=2)"
   ]
  },
  {
   "cell_type": "code",
   "execution_count": null,
   "id": "885bbd77-88eb-437f-bc77-37518630f020",
   "metadata": {},
   "outputs": [],
   "source": [
    "%%time\n",
    "bandwidth = 0.05\n",
    "p_of_cv, extent = spc.get_kde(cvs, weights, bandwidth)\n",
    "F0 = -np.log(p_of_cv)\n",
    "F = F0 - F0.min()\n",
    "F[F > 40] = np.nan"
   ]
  },
  {
   "cell_type": "markdown",
   "id": "e1a2a88d-527a-4684-b11f-6060a542a0eb",
   "metadata": {},
   "source": [
    "Do the projection and take log. You have to choose a bandwidth for the [KDE](https://en.wikipedia.org/wiki/Kernel_density_estimation) of the histogram. It should be big enough to reduce noise but not so big to remove features. If you give `None`"
   ]
  },
  {
   "cell_type": "code",
   "execution_count": null,
   "id": "095a5520-95d5-4441-ba7c-869937e93d4a",
   "metadata": {},
   "outputs": [],
   "source": [
    "np.save(f\"{path_processed}FES_{cv_name}_path.npy\", F)"
   ]
  },
  {
   "cell_type": "code",
   "execution_count": null,
   "id": "60fa08f1-a278-4f95-83e5-65cd2a23fa16",
   "metadata": {},
   "outputs": [],
   "source": [
    "np.save(f\"{path_processed}FES_{cv_name}_path_extent.npy\", extent)"
   ]
  },
  {
   "cell_type": "code",
   "execution_count": null,
   "id": "c34236e5-c8dd-45ab-9de2-aed4af10c3a4",
   "metadata": {},
   "outputs": [],
   "source": [
    "fig, ax = spc.plot_2D_heatmap(\n",
    "    F,\n",
    "    extent,\n",
    "    f_max=20,\n",
    "    f_min=0,\n",
    "    cbar_label=\"Free Energy (kT)\",\n",
    "    xlabel=\"s[path]\",\n",
    "    ylabel=cv_fig_label,\n",
    ")\n",
    "ax.set_xlim(extent[0], extent[1])\n",
    "ax.set_ylim(extent[2], extent[3])\n",
    "# spc.add_XRD_values(XRD_dictionary, valy=\"I100-F103\", size=4, ax=ax, color=\"g\")\n",
    "fig.tight_layout()\n",
    "fig.savefig(path_report + f\"FES_{cv_name}.png\")"
   ]
  },
  {
   "cell_type": "markdown",
   "id": "6ffed272-188e-4c43-8c45-8ec15b4c8d12",
   "metadata": {
    "tags": []
   },
   "source": [
    "## Path vs T74-F103"
   ]
  },
  {
   "cell_type": "code",
   "execution_count": null,
   "id": "1b2a8f28-a930-4d82-a8e7-fb56e5c7f14d",
   "metadata": {},
   "outputs": [],
   "source": [
    "cv_name = \"dis_T74-F103\"\n",
    "cv_fig_label = \"T74-F103 (nm)\""
   ]
  },
  {
   "cell_type": "code",
   "execution_count": null,
   "id": "069fbf72-3cef-4b0d-9d99-162377c63789",
   "metadata": {},
   "outputs": [],
   "source": [
    "other_cv = np.load(f\"{path_interim}/{cv_name}.npy\")"
   ]
  },
  {
   "cell_type": "code",
   "execution_count": null,
   "id": "3d1b845c-733d-4bd4-89a6-f6ffc9783779",
   "metadata": {},
   "outputs": [],
   "source": [
    "cvs = np.concatenate([s_path, other_cv.reshape([other_cv.shape[0] // 2, 2, 1])], axis=2)"
   ]
  },
  {
   "cell_type": "code",
   "execution_count": null,
   "id": "9d6cba10-bc5b-4b1c-b0ea-4c843bd0266f",
   "metadata": {},
   "outputs": [],
   "source": [
    "%%time\n",
    "bandwidth = 0.05\n",
    "p_of_cv, extent = spc.get_kde(cvs, weights, bandwidth)\n",
    "F0 = -np.log(p_of_cv)\n",
    "F = F0 - F0.min()\n",
    "F[F > 40] = np.nan"
   ]
  },
  {
   "cell_type": "markdown",
   "id": "87b8288a-779d-4ee2-a588-7eaacf93789a",
   "metadata": {},
   "source": [
    "Do the projection and take log. You have to choose a bandwidth for the [KDE](https://en.wikipedia.org/wiki/Kernel_density_estimation) of the histogram. It should be big enough to reduce noise but not so big to remove features. If you give `None`"
   ]
  },
  {
   "cell_type": "code",
   "execution_count": null,
   "id": "07b0152f-cd73-4474-b812-f858603c7d2c",
   "metadata": {},
   "outputs": [],
   "source": [
    "np.save(f\"{path_processed}FES_{cv_name}_path.npy\", F)"
   ]
  },
  {
   "cell_type": "code",
   "execution_count": null,
   "id": "ca011c56-148a-43e5-9d25-a59ae9f8f128",
   "metadata": {},
   "outputs": [],
   "source": [
    "np.save(f\"{path_processed}FES_{cv_name}_path_extent.npy\", extent)"
   ]
  },
  {
   "cell_type": "code",
   "execution_count": null,
   "id": "a6401642-c320-42b7-abf0-ceb3817a8799",
   "metadata": {},
   "outputs": [],
   "source": [
    "fig, ax = spc.plot_2D_heatmap(\n",
    "    F,\n",
    "    extent,\n",
    "    f_max=20,\n",
    "    f_min=0,\n",
    "    cbar_label=\"Free Energy (kT)\",\n",
    "    xlabel=\"s[path]\",\n",
    "    ylabel=cv_fig_label,\n",
    ")\n",
    "ax.set_xlim(extent[0], extent[1])\n",
    "ax.set_ylim(extent[2], extent[3])\n",
    "# spc.add_XRD_values(XRD_dictionary, valy=\"I100-F103\", size=4, ax=ax, color=\"g\")\n",
    "fig.tight_layout()\n",
    "fig.savefig(path_report + f\"FES_{cv_name}.png\")"
   ]
  },
  {
   "cell_type": "markdown",
   "id": "33be393c-f038-4374-9612-316e0cb69752",
   "metadata": {
    "tags": []
   },
   "source": [
    "## Path vs T74-I100"
   ]
  },
  {
   "cell_type": "code",
   "execution_count": null,
   "id": "23182663-1c2a-45f6-ba30-189f5225feb2",
   "metadata": {},
   "outputs": [],
   "source": [
    "cv_name = \"dis_T74-I100\"\n",
    "cv_fig_label = \"T74-I100 (nm)\""
   ]
  },
  {
   "cell_type": "code",
   "execution_count": null,
   "id": "eb47d9ad-c2a2-44b6-a60e-549d0ba590c4",
   "metadata": {},
   "outputs": [],
   "source": [
    "other_cv = np.load(f\"{path_interim}/{cv_name}.npy\")"
   ]
  },
  {
   "cell_type": "code",
   "execution_count": null,
   "id": "55ed48ae-54d0-4fa2-a739-2cee13729800",
   "metadata": {},
   "outputs": [],
   "source": [
    "cvs = np.concatenate([s_path, other_cv.reshape([other_cv.shape[0] // 2, 2, 1])], axis=2)"
   ]
  },
  {
   "cell_type": "code",
   "execution_count": null,
   "id": "a77a3a15-fa65-4b91-95a6-2c41d1bc7126",
   "metadata": {},
   "outputs": [],
   "source": [
    "%%time\n",
    "bandwidth = 0.05\n",
    "p_of_cv, extent = spc.get_kde(cvs, weights, bandwidth)\n",
    "F0 = -np.log(p_of_cv)\n",
    "F = F0 - F0.min()\n",
    "F[F > 40] = np.nan"
   ]
  },
  {
   "cell_type": "markdown",
   "id": "d71267f9-b977-456b-8657-bb68790d9cd9",
   "metadata": {},
   "source": [
    "Do the projection and take log. You have to choose a bandwidth for the [KDE](https://en.wikipedia.org/wiki/Kernel_density_estimation) of the histogram. It should be big enough to reduce noise but not so big to remove features. If you give `None`"
   ]
  },
  {
   "cell_type": "code",
   "execution_count": null,
   "id": "dbec9380-4bc0-4c74-993c-428734bd9298",
   "metadata": {},
   "outputs": [],
   "source": [
    "np.save(f\"{path_processed}FES_{cv_name}_path.npy\", F)"
   ]
  },
  {
   "cell_type": "code",
   "execution_count": null,
   "id": "bba77a63-dcb2-48c0-839c-6e1b59e8a789",
   "metadata": {},
   "outputs": [],
   "source": [
    "np.save(f\"{path_processed}FES_{cv_name}_path_extent.npy\", extent)"
   ]
  },
  {
   "cell_type": "code",
   "execution_count": null,
   "id": "af34950f-63a1-413f-9fd5-135d1a939186",
   "metadata": {},
   "outputs": [],
   "source": [
    "fig, ax = spc.plot_2D_heatmap(\n",
    "    F,\n",
    "    extent,\n",
    "    f_max=20,\n",
    "    f_min=0,\n",
    "    cbar_label=\"Free Energy (kT)\",\n",
    "    xlabel=\"s[path]\",\n",
    "    ylabel=cv_fig_label,\n",
    ")\n",
    "ax.set_xlim(extent[0], extent[1])\n",
    "ax.set_ylim(extent[2], extent[3])\n",
    "# spc.add_XRD_values(XRD_dictionary, valy=\"I100-F103\", size=4, ax=ax, color=\"g\")\n",
    "fig.tight_layout()\n",
    "fig.savefig(path_report + f\"FES_{cv_name}.png\")"
   ]
  },
  {
   "cell_type": "markdown",
   "id": "a9611801-716a-47fb-8dae-c60167c308cd",
   "metadata": {
    "tags": []
   },
   "source": [
    "## Path vs P-R64"
   ]
  },
  {
   "cell_type": "code",
   "execution_count": null,
   "id": "85f62e6a-89c7-4daf-9150-82f579db0351",
   "metadata": {},
   "outputs": [],
   "source": [
    "cv_name = \"dis_P-R64\"\n",
    "cv_fig_label = \"P-R64 (nm)\""
   ]
  },
  {
   "cell_type": "code",
   "execution_count": null,
   "id": "87962a43-3cef-45e5-b0c3-0a98579f59b8",
   "metadata": {},
   "outputs": [],
   "source": [
    "other_cv = np.load(f\"{path_interim}/{cv_name}.npy\")"
   ]
  },
  {
   "cell_type": "code",
   "execution_count": null,
   "id": "995993ae-4bfb-4cc6-b157-c62715d3e89c",
   "metadata": {},
   "outputs": [],
   "source": [
    "cvs = np.concatenate([s_path, other_cv.reshape([other_cv.shape[0] // 2, 2, 1])], axis=2)"
   ]
  },
  {
   "cell_type": "code",
   "execution_count": null,
   "id": "4ad650d7-d52e-46c3-b720-b5bb82608a80",
   "metadata": {},
   "outputs": [],
   "source": [
    "%%time\n",
    "bandwidth = 0.05\n",
    "p_of_cv, extent = spc.get_kde(cvs, weights, bandwidth)\n",
    "F0 = -np.log(p_of_cv)\n",
    "F = F0 - F0.min()\n",
    "F[F > 40] = np.nan"
   ]
  },
  {
   "cell_type": "markdown",
   "id": "2a8f7e0d-700a-4702-851e-7b4c9e544512",
   "metadata": {},
   "source": [
    "Do the projection and take log. You have to choose a bandwidth for the [KDE](https://en.wikipedia.org/wiki/Kernel_density_estimation) of the histogram. It should be big enough to reduce noise but not so big to remove features. If you give `None`"
   ]
  },
  {
   "cell_type": "code",
   "execution_count": null,
   "id": "e189f956-d266-4230-9635-9e9f6373b193",
   "metadata": {},
   "outputs": [],
   "source": [
    "np.save(f\"{path_processed}FES_{cv_name}_path.npy\", F)"
   ]
  },
  {
   "cell_type": "code",
   "execution_count": null,
   "id": "a49cad82-a7c3-4138-bc37-2841d2dfb7aa",
   "metadata": {},
   "outputs": [],
   "source": [
    "np.save(f\"{path_processed}FES_{cv_name}_path_extent.npy\", extent)"
   ]
  },
  {
   "cell_type": "code",
   "execution_count": null,
   "id": "052693d2-0195-4b7c-8c8f-e705dc65262d",
   "metadata": {},
   "outputs": [],
   "source": [
    "fig, ax = spc.plot_2D_heatmap(\n",
    "    F,\n",
    "    extent,\n",
    "    f_max=20,\n",
    "    f_min=0,\n",
    "    cbar_label=\"Free Energy (kT)\",\n",
    "    xlabel=\"s[path]\",\n",
    "    ylabel=cv_fig_label,\n",
    ")\n",
    "ax.set_xlim(extent[0], extent[1])\n",
    "ax.set_ylim(extent[2], extent[3])\n",
    "# spc.add_XRD_values(XRD_dictionary, valy=\"I100-F103\", size=4, ax=ax, color=\"g\")\n",
    "fig.tight_layout()\n",
    "fig.savefig(path_report + f\"FES_{cv_name}.png\")"
   ]
  },
  {
   "cell_type": "markdown",
   "id": "dd744a7b-8920-4dd7-9d45-039d0449704e",
   "metadata": {
    "tags": []
   },
   "source": [
    "## Path vs P-R89"
   ]
  },
  {
   "cell_type": "code",
   "execution_count": null,
   "id": "df47f242-fe03-4299-baa1-8c13f5124055",
   "metadata": {},
   "outputs": [],
   "source": [
    "cv_name = \"dis_P-R89\"\n",
    "cv_fig_label = \"P-R89 (nm)\""
   ]
  },
  {
   "cell_type": "code",
   "execution_count": null,
   "id": "3d84db9d-86de-4317-90a8-a6cb3f06f118",
   "metadata": {},
   "outputs": [],
   "source": [
    "other_cv = np.load(f\"{path_interim}/{cv_name}.npy\")"
   ]
  },
  {
   "cell_type": "code",
   "execution_count": null,
   "id": "860cfee3-a4b7-4c16-832b-10022f959e4e",
   "metadata": {},
   "outputs": [],
   "source": [
    "cvs = np.concatenate([s_path, other_cv.reshape([other_cv.shape[0] // 2, 2, 1])], axis=2)"
   ]
  },
  {
   "cell_type": "code",
   "execution_count": null,
   "id": "8030327a-af3d-4ccc-a4a9-739c2cafc1de",
   "metadata": {},
   "outputs": [],
   "source": [
    "%%time\n",
    "bandwidth = 0.05\n",
    "p_of_cv, extent = spc.get_kde(cvs, weights, bandwidth)\n",
    "F0 = -np.log(p_of_cv)\n",
    "F = F0 - F0.min()\n",
    "F[F > 40] = np.nan"
   ]
  },
  {
   "cell_type": "markdown",
   "id": "37c5dd09-d6e0-4e63-bf29-952344f93b2f",
   "metadata": {},
   "source": [
    "Do the projection and take log. You have to choose a bandwidth for the [KDE](https://en.wikipedia.org/wiki/Kernel_density_estimation) of the histogram. It should be big enough to reduce noise but not so big to remove features. If you give `None`"
   ]
  },
  {
   "cell_type": "code",
   "execution_count": null,
   "id": "37e7f9e2-2aab-425f-a46b-30053cc17a26",
   "metadata": {},
   "outputs": [],
   "source": [
    "np.save(f\"{path_processed}FES_{cv_name}_path.npy\", F)"
   ]
  },
  {
   "cell_type": "code",
   "execution_count": null,
   "id": "0eee4e57-be6f-4dc9-8838-bd51bc17d2cc",
   "metadata": {},
   "outputs": [],
   "source": [
    "np.save(f\"{path_processed}FES_{cv_name}_path_extent.npy\", extent)"
   ]
  },
  {
   "cell_type": "code",
   "execution_count": null,
   "id": "b2035f87-97d4-490e-9f2d-ce3e1a5a02fe",
   "metadata": {},
   "outputs": [],
   "source": [
    "fig, ax = spc.plot_2D_heatmap(\n",
    "    F,\n",
    "    extent,\n",
    "    f_max=20,\n",
    "    f_min=0,\n",
    "    cbar_label=\"Free Energy (kT)\",\n",
    "    xlabel=\"s[path]\",\n",
    "    ylabel=cv_fig_label,\n",
    ")\n",
    "ax.set_xlim(extent[0], extent[1])\n",
    "ax.set_ylim(extent[2], extent[3])\n",
    "# spc.add_XRD_values(XRD_dictionary, valy=\"I100-F103\", size=4, ax=ax, color=\"g\")\n",
    "fig.tight_layout()\n",
    "fig.savefig(path_report + f\"FES_{cv_name}.png\")"
   ]
  },
  {
   "cell_type": "markdown",
   "id": "bca0d7df-8637-4ce7-84c1-d356c555bc1c",
   "metadata": {
    "tags": []
   },
   "source": [
    "## Path vs W67-D80"
   ]
  },
  {
   "cell_type": "code",
   "execution_count": null,
   "id": "9fb41802-956c-40de-baaf-b1a9b8c38f39",
   "metadata": {},
   "outputs": [],
   "source": [
    "cv_name = \"dis_W67-D80\"\n",
    "cv_fig_label = \"W67-D80 (nm)\""
   ]
  },
  {
   "cell_type": "code",
   "execution_count": null,
   "id": "ebe66119-7b0c-41a1-a4e6-2cf4607bb4e1",
   "metadata": {},
   "outputs": [],
   "source": [
    "other_cv = np.load(f\"{path_interim}/{cv_name}.npy\")"
   ]
  },
  {
   "cell_type": "code",
   "execution_count": null,
   "id": "dfa5b53c-5461-4b52-bd81-316eef1cf1b7",
   "metadata": {},
   "outputs": [],
   "source": [
    "cvs = np.concatenate([s_path, other_cv.reshape([other_cv.shape[0] // 2, 2, 1])], axis=2)"
   ]
  },
  {
   "cell_type": "code",
   "execution_count": null,
   "id": "e05703d1-7ca2-47f0-8c37-d179b4c2253c",
   "metadata": {},
   "outputs": [],
   "source": [
    "%%time\n",
    "bandwidth = 0.05\n",
    "p_of_cv, extent = spc.get_kde(cvs, weights, bandwidth)\n",
    "F0 = -np.log(p_of_cv)\n",
    "F = F0 - F0.min()\n",
    "F[F > 40] = np.nan"
   ]
  },
  {
   "cell_type": "markdown",
   "id": "b3eb2ae8-5019-4085-8a26-fedbac491a10",
   "metadata": {},
   "source": [
    "Do the projection and take log. You have to choose a bandwidth for the [KDE](https://en.wikipedia.org/wiki/Kernel_density_estimation) of the histogram. It should be big enough to reduce noise but not so big to remove features. If you give `None`"
   ]
  },
  {
   "cell_type": "code",
   "execution_count": null,
   "id": "4e95206c-d404-4ffc-99cb-d1d7af0f506f",
   "metadata": {},
   "outputs": [],
   "source": [
    "np.save(f\"{path_processed}FES_{cv_name}_path.npy\", F)"
   ]
  },
  {
   "cell_type": "code",
   "execution_count": null,
   "id": "1cc5d76f-466a-4c3c-8158-6bf2aa2fef99",
   "metadata": {},
   "outputs": [],
   "source": [
    "np.save(f\"{path_processed}FES_{cv_name}_path_extent.npy\", extent)"
   ]
  },
  {
   "cell_type": "code",
   "execution_count": null,
   "id": "10b12f29-9e1c-4904-a72c-8f5f5dd31089",
   "metadata": {},
   "outputs": [],
   "source": [
    "fig, ax = spc.plot_2D_heatmap(\n",
    "    F,\n",
    "    extent,\n",
    "    f_max=20,\n",
    "    f_min=0,\n",
    "    cbar_label=\"Free Energy (kT)\",\n",
    "    xlabel=\"s[path]\",\n",
    "    ylabel=cv_fig_label,\n",
    ")\n",
    "ax.set_xlim(extent[0], extent[1])\n",
    "ax.set_ylim(extent[2], extent[3])\n",
    "# spc.add_XRD_values(XRD_dictionary, valy=\"I100-F103\", size=4, ax=ax, color=\"g\")\n",
    "fig.tight_layout()\n",
    "fig.savefig(path_report + f\"FES_{cv_name}.png\")"
   ]
  },
  {
   "cell_type": "markdown",
   "id": "3ea41357-c482-467e-8f00-3152e70c3328",
   "metadata": {
    "tags": []
   },
   "source": [
    "## Path vs E71-D80"
   ]
  },
  {
   "cell_type": "code",
   "execution_count": null,
   "id": "10e14f46-5805-4df8-9ab7-cc0a1d2d486f",
   "metadata": {},
   "outputs": [],
   "source": [
    "cv_name = \"dis_E71-D80\"\n",
    "cv_fig_label = \"E71-D80 (nm)\""
   ]
  },
  {
   "cell_type": "code",
   "execution_count": null,
   "id": "a0411cae-5157-42ae-aad6-d21e20757f84",
   "metadata": {},
   "outputs": [],
   "source": [
    "other_cv = np.load(f\"{path_interim}/{cv_name}.npy\")"
   ]
  },
  {
   "cell_type": "code",
   "execution_count": null,
   "id": "5a41dde6-5abf-4e5f-bfba-25be07b8bd58",
   "metadata": {},
   "outputs": [],
   "source": [
    "cvs = np.concatenate([s_path, other_cv.reshape([other_cv.shape[0] // 2, 2, 1])], axis=2)"
   ]
  },
  {
   "cell_type": "code",
   "execution_count": null,
   "id": "714dff4d-47f3-4735-aecc-aa60776022a3",
   "metadata": {},
   "outputs": [],
   "source": [
    "%%time\n",
    "bandwidth = 0.05\n",
    "p_of_cv, extent = spc.get_kde(cvs, weights, bandwidth)\n",
    "F0 = -np.log(p_of_cv)\n",
    "F = F0 - F0.min()\n",
    "F[F > 40] = np.nan"
   ]
  },
  {
   "cell_type": "markdown",
   "id": "3aedb80f-7bb7-4245-b26d-42668966c5d0",
   "metadata": {},
   "source": [
    "Do the projection and take log. You have to choose a bandwidth for the [KDE](https://en.wikipedia.org/wiki/Kernel_density_estimation) of the histogram. It should be big enough to reduce noise but not so big to remove features. If you give `None`"
   ]
  },
  {
   "cell_type": "code",
   "execution_count": null,
   "id": "9d5757c6-e432-4f9e-aa91-cb3a010b11b6",
   "metadata": {},
   "outputs": [],
   "source": [
    "np.save(f\"{path_processed}FES_{cv_name}_path.npy\", F)"
   ]
  },
  {
   "cell_type": "code",
   "execution_count": null,
   "id": "f6b1e639-c7fe-48e2-bfc1-5d6b7b7fa622",
   "metadata": {},
   "outputs": [],
   "source": [
    "np.save(f\"{path_processed}FES_{cv_name}_path_extent.npy\", extent)"
   ]
  },
  {
   "cell_type": "code",
   "execution_count": null,
   "id": "f1406ee2-7698-4589-ac60-a2fabb06dcc0",
   "metadata": {},
   "outputs": [],
   "source": [
    "fig, ax = spc.plot_2D_heatmap(\n",
    "    F,\n",
    "    extent,\n",
    "    f_max=20,\n",
    "    f_min=0,\n",
    "    cbar_label=\"Free Energy (kT)\",\n",
    "    xlabel=\"s[path]\",\n",
    "    ylabel=cv_fig_label,\n",
    ")\n",
    "ax.set_xlim(extent[0], extent[1])\n",
    "ax.set_ylim(extent[2], extent[3])\n",
    "# spc.add_XRD_values(XRD_dictionary, valy=\"I100-F103\", size=4, ax=ax, color=\"g\")\n",
    "fig.tight_layout()\n",
    "fig.savefig(path_report + f\"FES_{cv_name}.png\")"
   ]
  },
  {
   "cell_type": "markdown",
   "id": "020ba9c2-bc26-4049-bb15-62e76e34e7f1",
   "metadata": {
    "tags": []
   },
   "source": [
    "## Path vs E71-G79"
   ]
  },
  {
   "cell_type": "code",
   "execution_count": null,
   "id": "311e566e-fbd1-4869-ac57-33048ceb1985",
   "metadata": {},
   "outputs": [],
   "source": [
    "cv_name = \"dis_E71-G79\"\n",
    "cv_fig_label = \"E71-G79 (nm)\""
   ]
  },
  {
   "cell_type": "code",
   "execution_count": null,
   "id": "e6c36491-0e30-4848-9a36-1b0fb6546451",
   "metadata": {},
   "outputs": [],
   "source": [
    "other_cv = np.load(f\"{path_interim}/{cv_name}.npy\")"
   ]
  },
  {
   "cell_type": "code",
   "execution_count": null,
   "id": "d6c42295-ace5-4eb5-b99c-37fb2cb08e63",
   "metadata": {},
   "outputs": [],
   "source": [
    "cvs = np.concatenate([s_path, other_cv.reshape([other_cv.shape[0] // 2, 2, 1])], axis=2)"
   ]
  },
  {
   "cell_type": "code",
   "execution_count": null,
   "id": "85b7a371-67d1-4c10-80b3-c20505d5f38e",
   "metadata": {},
   "outputs": [],
   "source": [
    "%%time\n",
    "bandwidth = 0.05\n",
    "p_of_cv, extent = spc.get_kde(cvs, weights, bandwidth)\n",
    "F0 = -np.log(p_of_cv)\n",
    "F = F0 - F0.min()\n",
    "F[F > 40] = np.nan"
   ]
  },
  {
   "cell_type": "markdown",
   "id": "5f5171ad-e499-43d8-8c52-cb34bd82efbe",
   "metadata": {},
   "source": [
    "Do the projection and take log. You have to choose a bandwidth for the [KDE](https://en.wikipedia.org/wiki/Kernel_density_estimation) of the histogram. It should be big enough to reduce noise but not so big to remove features. If you give `None`"
   ]
  },
  {
   "cell_type": "code",
   "execution_count": null,
   "id": "1827912b-472b-4789-acca-082c11c43113",
   "metadata": {},
   "outputs": [],
   "source": [
    "np.save(f\"{path_processed}FES_{cv_name}_path.npy\", F)"
   ]
  },
  {
   "cell_type": "code",
   "execution_count": null,
   "id": "22be3911-8e84-4090-b89c-2368d71e9b78",
   "metadata": {},
   "outputs": [],
   "source": [
    "np.save(f\"{path_processed}FES_{cv_name}_path_extent.npy\", extent)"
   ]
  },
  {
   "cell_type": "code",
   "execution_count": null,
   "id": "242acf89-b8b4-4856-a548-f6ec09ae70c6",
   "metadata": {},
   "outputs": [],
   "source": [
    "fig, ax = spc.plot_2D_heatmap(\n",
    "    F,\n",
    "    extent,\n",
    "    f_max=20,\n",
    "    f_min=0,\n",
    "    cbar_label=\"Free Energy (kT)\",\n",
    "    xlabel=\"s[path]\",\n",
    "    ylabel=cv_fig_label,\n",
    ")\n",
    "ax.set_xlim(extent[0], extent[1])\n",
    "ax.set_ylim(extent[2], extent[3])\n",
    "# spc.add_XRD_values(XRD_dictionary, valy=\"I100-F103\", size=4, ax=ax, color=\"g\")\n",
    "fig.tight_layout()\n",
    "fig.savefig(path_report + f\"FES_{cv_name}.png\")"
   ]
  },
  {
   "cell_type": "markdown",
   "id": "538168d7-267f-4fd5-bc00-c9ad28d039e0",
   "metadata": {
    "tags": []
   },
   "source": [
    "## Path vs E71 angle"
   ]
  },
  {
   "cell_type": "code",
   "execution_count": null,
   "id": "d31a3c91-43ba-4d41-afb4-9ba8cd8697c1",
   "metadata": {},
   "outputs": [],
   "source": [
    "cv_name = \"is_E71_horizontal\"\n",
    "cv_fig_label = \"E71 angle (deg)\""
   ]
  },
  {
   "cell_type": "code",
   "execution_count": null,
   "id": "59262a16-ed81-4d7e-b616-5a20a2d451b5",
   "metadata": {},
   "outputs": [],
   "source": [
    "other_cv = np.load(f\"{path_interim}/{cv_name}.npy\")"
   ]
  },
  {
   "cell_type": "code",
   "execution_count": null,
   "id": "ee879b86-8561-4986-a617-b36be0ae0303",
   "metadata": {},
   "outputs": [],
   "source": [
    "cvs = np.concatenate([s_path, other_cv.reshape([other_cv.shape[0] // 2, 2, 1])], axis=2)"
   ]
  },
  {
   "cell_type": "code",
   "execution_count": null,
   "id": "4aa7a2a9-7d92-4b7c-bff8-19b2977b8143",
   "metadata": {},
   "outputs": [],
   "source": [
    "%%time\n",
    "bandwidth = 0.05\n",
    "p_of_cv, extent = spc.get_kde(cvs, weights, bandwidth)\n",
    "F0 = -np.log(p_of_cv)\n",
    "F = F0 - F0.min()\n",
    "F[F > 40] = np.nan"
   ]
  },
  {
   "cell_type": "markdown",
   "id": "da2a4543-1656-432e-b043-6a919b11bfc8",
   "metadata": {},
   "source": [
    "Do the projection and take log. You have to choose a bandwidth for the [KDE](https://en.wikipedia.org/wiki/Kernel_density_estimation) of the histogram. It should be big enough to reduce noise but not so big to remove features. If you give `None`"
   ]
  },
  {
   "cell_type": "code",
   "execution_count": null,
   "id": "253fcb4d-24f6-4738-8dd4-e910f48b8ec9",
   "metadata": {},
   "outputs": [],
   "source": [
    "np.save(f\"{path_processed}FES_{cv_name}_path.npy\", F)"
   ]
  },
  {
   "cell_type": "code",
   "execution_count": null,
   "id": "ef718c5e-aa12-4322-932b-391b6d4a3ae0",
   "metadata": {},
   "outputs": [],
   "source": [
    "np.save(f\"{path_processed}FES_{cv_name}_path_extent.npy\", extent)"
   ]
  },
  {
   "cell_type": "code",
   "execution_count": null,
   "id": "ad20a867-adb1-4eaf-87c0-71e952c90d13",
   "metadata": {},
   "outputs": [],
   "source": [
    "fig, ax = spc.plot_2D_heatmap(\n",
    "    F,\n",
    "    extent,\n",
    "    f_max=20,\n",
    "    f_min=0,\n",
    "    cbar_label=\"Free Energy (kT)\",\n",
    "    xlabel=\"s[path]\",\n",
    "    ylabel=cv_fig_label,\n",
    ")\n",
    "ax.set_xlim(extent[0], extent[1])\n",
    "ax.set_ylim(extent[2], extent[3])\n",
    "# spc.add_XRD_values(XRD_dictionary, valy=\"I100-F103\", size=4, ax=ax, color=\"g\")\n",
    "fig.tight_layout()\n",
    "fig.savefig(path_report + f\"FES_{cv_name}.png\")"
   ]
  },
  {
   "cell_type": "markdown",
   "id": "0ca65c38-8a8d-4a6b-8fbd-63a0cd60d375",
   "metadata": {
    "tags": []
   },
   "source": [
    "## Path vs E71 angle PROB"
   ]
  },
  {
   "cell_type": "code",
   "execution_count": null,
   "id": "655ff8d0-4db6-4c36-99c8-47b80d4ebe49",
   "metadata": {},
   "outputs": [],
   "source": [
    "cv_name = \"is_E71_horizontal_B\"\n",
    "cv_fig_label = \"E71 angle (deg)\""
   ]
  },
  {
   "cell_type": "code",
   "execution_count": null,
   "id": "083c6c16-7319-48a4-825f-05af736ce442",
   "metadata": {},
   "outputs": [],
   "source": [
    "other_cv = np.load(f\"{path_interim}/{cv_name}.npy\")"
   ]
  },
  {
   "cell_type": "code",
   "execution_count": null,
   "id": "edc97593-f0c4-4ee2-a965-d6312f92aae5",
   "metadata": {},
   "outputs": [],
   "source": [
    "cvs = np.concatenate([s_path, other_cv.reshape([other_cv.shape[0] // 2, 2, 1])], axis=2)"
   ]
  },
  {
   "cell_type": "code",
   "execution_count": null,
   "id": "68659fd4-06e7-49d1-9d97-1103749d1570",
   "metadata": {},
   "outputs": [],
   "source": [
    "%%time\n",
    "bandwidth = 0.05\n",
    "p_of_cv, extent = spc.get_kde(cvs, weights, bandwidth)\n",
    "F0 = -np.log(p_of_cv)\n",
    "F = F0 - F0.min()\n",
    "F[F > 40] = np.nan"
   ]
  },
  {
   "cell_type": "markdown",
   "id": "db79d516-95b0-4f47-9ff9-b4a4b97bd987",
   "metadata": {},
   "source": [
    "Do the projection and take log. You have to choose a bandwidth for the [KDE](https://en.wikipedia.org/wiki/Kernel_density_estimation) of the histogram. It should be big enough to reduce noise but not so big to remove features. If you give `None`"
   ]
  },
  {
   "cell_type": "code",
   "execution_count": null,
   "id": "b468e196-177a-4ffd-a87d-262e6c827695",
   "metadata": {},
   "outputs": [],
   "source": [
    "np.save(f\"{path_processed}FES_{cv_name}_path.npy\", F)"
   ]
  },
  {
   "cell_type": "code",
   "execution_count": null,
   "id": "874395b9-25c0-4f1e-9e20-46f62f4bd111",
   "metadata": {},
   "outputs": [],
   "source": [
    "np.save(f\"{path_processed}FES_{cv_name}_path_extent.npy\", extent)"
   ]
  },
  {
   "cell_type": "code",
   "execution_count": null,
   "id": "d4457a29-aa17-4b2f-8720-c0f56a1c2d2b",
   "metadata": {},
   "outputs": [],
   "source": [
    "fig, ax = spc.plot_2D_heatmap(\n",
    "    F,\n",
    "    extent,\n",
    "    f_max=20,\n",
    "    f_min=0,\n",
    "    cbar_label=\"Free Energy (kT)\",\n",
    "    xlabel=\"s[path]\",\n",
    "    ylabel=cv_fig_label,\n",
    ")\n",
    "ax.set_xlim(extent[0], extent[1])\n",
    "ax.set_ylim(extent[2], extent[3])\n",
    "# spc.add_XRD_values(XRD_dictionary, valy=\"I100-F103\", size=4, ax=ax, color=\"g\")\n",
    "fig.tight_layout()\n",
    "fig.savefig(path_report + f\"FES_{cv_name}.png\")"
   ]
  },
  {
   "cell_type": "markdown",
   "id": "0dec657d-cb58-47c3-8364-f59fd276159d",
   "metadata": {
    "tags": []
   },
   "source": [
    "## Path vs E71 angle PROD"
   ]
  },
  {
   "cell_type": "code",
   "execution_count": null,
   "id": "aba81030-ec00-4d2e-96af-c2018e280c6f",
   "metadata": {},
   "outputs": [],
   "source": [
    "cv_name = \"is_E71_horizontal_D\"\n",
    "cv_fig_label = \"E71 angle (deg)\""
   ]
  },
  {
   "cell_type": "code",
   "execution_count": null,
   "id": "1b0a82c6-a916-49d3-8758-22ea931deb63",
   "metadata": {},
   "outputs": [],
   "source": [
    "other_cv = np.load(f\"{path_interim}/{cv_name}.npy\")"
   ]
  },
  {
   "cell_type": "code",
   "execution_count": null,
   "id": "32b84799-4f0b-450d-9c67-4b21014541fb",
   "metadata": {},
   "outputs": [],
   "source": [
    "cvs = np.concatenate([s_path, other_cv.reshape([other_cv.shape[0] // 2, 2, 1])], axis=2)"
   ]
  },
  {
   "cell_type": "code",
   "execution_count": null,
   "id": "41b09009-dad5-4f5b-a627-78357a418c21",
   "metadata": {},
   "outputs": [],
   "source": [
    "%%time\n",
    "bandwidth = 0.05\n",
    "p_of_cv, extent = spc.get_kde(cvs, weights, bandwidth)\n",
    "F0 = -np.log(p_of_cv)\n",
    "F = F0 - F0.min()\n",
    "F[F > 40] = np.nan"
   ]
  },
  {
   "cell_type": "markdown",
   "id": "2ae0d4aa-81c6-41ed-b51d-7d8334a835a3",
   "metadata": {},
   "source": [
    "Do the projection and take log. You have to choose a bandwidth for the [KDE](https://en.wikipedia.org/wiki/Kernel_density_estimation) of the histogram. It should be big enough to reduce noise but not so big to remove features. If you give `None`"
   ]
  },
  {
   "cell_type": "code",
   "execution_count": null,
   "id": "6c2eda68-d2d9-4f6f-b463-471e3de9abbe",
   "metadata": {},
   "outputs": [],
   "source": [
    "np.save(f\"{path_processed}FES_{cv_name}_path.npy\", F)"
   ]
  },
  {
   "cell_type": "code",
   "execution_count": null,
   "id": "ff9cef0e-5d54-46a6-8a67-ca2607b1f339",
   "metadata": {},
   "outputs": [],
   "source": [
    "np.save(f\"{path_processed}FES_{cv_name}_path_extent.npy\", extent)"
   ]
  },
  {
   "cell_type": "code",
   "execution_count": null,
   "id": "789786d3-8f00-4450-b026-e9b9bda933df",
   "metadata": {},
   "outputs": [],
   "source": [
    "fig, ax = spc.plot_2D_heatmap(\n",
    "    F,\n",
    "    extent,\n",
    "    f_max=20,\n",
    "    f_min=0,\n",
    "    cbar_label=\"Free Energy (kT)\",\n",
    "    xlabel=\"s[path]\",\n",
    "    ylabel=cv_fig_label,\n",
    ")\n",
    "ax.set_xlim(extent[0], extent[1])\n",
    "ax.set_ylim(extent[2], extent[3])\n",
    "# spc.add_XRD_values(XRD_dictionary, valy=\"I100-F103\", size=4, ax=ax, color=\"g\")\n",
    "fig.tight_layout()\n",
    "fig.savefig(path_report + f\"FES_{cv_name}.png\")"
   ]
  },
  {
   "cell_type": "markdown",
   "id": "2b8ecf7d-cf5b-446c-b435-ce1c839a8467",
   "metadata": {
    "tags": []
   },
   "source": [
    "## Path vs Water Behind the SF"
   ]
  },
  {
   "cell_type": "markdown",
   "id": "23cbad3c-9752-4afa-b8f5-db3fe88741fe",
   "metadata": {},
   "source": [
    "### All H2O"
   ]
  },
  {
   "cell_type": "code",
   "execution_count": null,
   "id": "e195215f-f9b9-4d69-8ca5-6f8300f992aa",
   "metadata": {},
   "outputs": [],
   "source": [
    "cv_name = \"H2O_behind_SF\"\n",
    "cv_fig_label = \"Number of H2O behind SF\""
   ]
  },
  {
   "cell_type": "code",
   "execution_count": null,
   "id": "252c9a7d-fb56-4cc4-bb52-dcdb94fc38fb",
   "metadata": {},
   "outputs": [],
   "source": [
    "other_cv = np.load(f\"{path_interim}/{cv_name}.npy\")"
   ]
  },
  {
   "cell_type": "code",
   "execution_count": null,
   "id": "0d148300-1540-478d-a124-3b3a9f5fb31c",
   "metadata": {},
   "outputs": [],
   "source": [
    "other_cv = np.sum(other_cv, axis=1, keepdims=True)"
   ]
  },
  {
   "cell_type": "code",
   "execution_count": null,
   "id": "6aa73322-544a-4602-be68-4a3d0b97f0dd",
   "metadata": {},
   "outputs": [],
   "source": [
    "cvs = np.concatenate([s_path, other_cv.reshape([other_cv.shape[0] // 2, 2, 1])], axis=2)"
   ]
  },
  {
   "cell_type": "code",
   "execution_count": null,
   "id": "765f707c-5ad8-4553-b5af-38bb680a4956",
   "metadata": {},
   "outputs": [],
   "source": [
    "%%time\n",
    "bandwidth = 0.3\n",
    "p_of_cv, extent = spc.get_kde(cvs, weights, bandwidth)\n",
    "F0 = -np.log(p_of_cv)\n",
    "F = F0 - F0.min()\n",
    "F[F > 40] = np.nan"
   ]
  },
  {
   "cell_type": "markdown",
   "id": "053b7633-a2c1-4e6c-a79d-5b6e20dc5b76",
   "metadata": {},
   "source": [
    "Do the projection and take log. You have to choose a bandwidth for the [KDE](https://en.wikipedia.org/wiki/Kernel_density_estimation) of the histogram. It should be big enough to reduce noise but not so big to remove features. If you give `None`"
   ]
  },
  {
   "cell_type": "code",
   "execution_count": null,
   "id": "44ead19a-469f-455c-94e9-6409ba09b07d",
   "metadata": {},
   "outputs": [],
   "source": [
    "np.save(f\"{path_processed}FES_{cv_name}_path.npy\", F)"
   ]
  },
  {
   "cell_type": "code",
   "execution_count": null,
   "id": "3a0f6e4b-5695-438a-86db-bb23a0d65ed9",
   "metadata": {},
   "outputs": [],
   "source": [
    "np.save(f\"{path_processed}FES_{cv_name}_path_extent.npy\", extent)"
   ]
  },
  {
   "cell_type": "code",
   "execution_count": null,
   "id": "04cb774a-5b25-4818-a0de-534f646ceb8b",
   "metadata": {},
   "outputs": [],
   "source": [
    "fig, ax = spc.plot_2D_heatmap(\n",
    "    F,\n",
    "    extent,\n",
    "    f_max=20,\n",
    "    f_min=0,\n",
    "    cbar_label=\"Free Energy (kT)\",\n",
    "    xlabel=\"s[path]\",\n",
    "    ylabel=cv_fig_label,\n",
    ")\n",
    "ax.set_xlim(extent[0], extent[1])\n",
    "ax.set_ylim(extent[2], extent[3])\n",
    "# spc.add_XRD_values(XRD_dictionary, valy=\"I100-F103\", size=4, ax=ax, color=\"g\")\n",
    "fig.tight_layout()\n",
    "fig.savefig(path_report + f\"FES_{cv_name}.png\")"
   ]
  }
 ],
 "metadata": {
  "kernelspec": {
   "display_name": "string_sims",
   "language": "python",
   "name": "string_sims"
  },
  "language_info": {
   "codemirror_mode": {
    "name": "ipython",
    "version": 3
   },
   "file_extension": ".py",
   "mimetype": "text/x-python",
   "name": "python",
   "nbconvert_exporter": "python",
   "pygments_lexer": "ipython3",
   "version": "3.8.5"
  }
 },
 "nbformat": 4,
 "nbformat_minor": 5
}
