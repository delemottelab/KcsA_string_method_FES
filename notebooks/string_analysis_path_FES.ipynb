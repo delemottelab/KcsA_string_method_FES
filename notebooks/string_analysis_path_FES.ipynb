{
 "cells": [
  {
   "cell_type": "markdown",
   "id": "32867ee4-ea45-4aa9-b192-176b0801c41c",
   "metadata": {
    "tags": []
   },
   "source": [
    "# String Method Analysis Markov-State-Models\n",
    "## Imports"
   ]
  },
  {
   "cell_type": "code",
   "execution_count": null,
   "id": "75b1c221-b47d-4484-9125-6eac0a75a249",
   "metadata": {
    "tags": []
   },
   "outputs": [],
   "source": [
    "import os\n",
    "import pickle\n",
    "import sys\n",
    "import logging\n",
    "import numpy as np\n",
    "import matplotlib.pyplot as plt\n",
    "import glob\n",
    "from math import ceil\n",
    "from tqdm import tqdm\n",
    "\n",
    "\n",
    "logging.getLogger(\"stringmethod\").setLevel(logging.ERROR)\n",
    "sys.path.append(\"../string-method-gmxapi/\")\n",
    "import src.analysis as spc"
   ]
  },
  {
   "cell_type": "code",
   "execution_count": null,
   "id": "49a829a2-f0ff-42c3-a3be-ec5f9923d705",
   "metadata": {},
   "outputs": [],
   "source": [
    "%load_ext lab_black\n",
    "%load_ext autoreload\n",
    "%autoreload 2"
   ]
  },
  {
   "cell_type": "code",
   "execution_count": null,
   "id": "52f17a05-51c5-4ca5-891e-3a88de85ab4c",
   "metadata": {},
   "outputs": [],
   "source": [
    "spc.jupyter_lab_notification()"
   ]
  },
  {
   "cell_type": "code",
   "execution_count": null,
   "id": "e3fcc696-5ca0-4856-b4e7-b167b2e0d069",
   "metadata": {},
   "outputs": [],
   "source": [
    "spc.jupyter_lab_error()"
   ]
  },
  {
   "cell_type": "markdown",
   "id": "bbe5ac57-8831-47ec-93e0-a26f4fc12469",
   "metadata": {},
   "source": [
    "## Control Variables"
   ]
  },
  {
   "cell_type": "code",
   "execution_count": null,
   "id": "d9bb6243-332b-4786-8e5e-7f6b90e5c5a2",
   "metadata": {},
   "outputs": [],
   "source": [
    "extract_data = False\n",
    "if os.getenv(\"CALC_FES\") == \"True\":\n",
    "    calculate_s_path = True\n",
    "    calculate_z_path = True\n",
    "    calculate_path_errors = True\n",
    "    calculate_converges = True\n",
    "else:\n",
    "    calculate_s_path = False\n",
    "    calculate_z_path = False\n",
    "    calculate_path_errors = False\n",
    "    calculate_converges = False"
   ]
  },
  {
   "cell_type": "code",
   "execution_count": null,
   "id": "bbb48d8b-80b8-42d2-8a2d-4cec80b8448b",
   "metadata": {},
   "outputs": [],
   "source": [
    "beads_per_iter = 18 - 2\n",
    "swarms_per_bead = 32\n",
    "steps_per_swarm = 2"
   ]
  },
  {
   "cell_type": "markdown",
   "id": "6d7af371-cecb-41f7-b46d-77e31ddb70cc",
   "metadata": {
    "tags": []
   },
   "source": [
    "## Load data"
   ]
  },
  {
   "cell_type": "markdown",
   "id": "0249545e-242c-4b87-b632-6268e4fe55aa",
   "metadata": {},
   "source": [
    "This notebook needs to run in the string simulation folder, this cell will get you there. You also set up a path for writing the figures."
   ]
  },
  {
   "cell_type": "code",
   "execution_count": null,
   "id": "ce510b6f-1e1c-416f-b30b-6bbda63671a9",
   "metadata": {
    "tags": []
   },
   "outputs": [],
   "source": [
    "if os.getenv(\"NAME_SIM\") == None:\n",
    "    name_sim = \"C2I_v1_amber/\"  # Done\n",
    "    name_sim = \"C2I_lb_v1_amber/\"  # Done\n",
    "    name_sim = \"C2I_lb_v1/\"  # Done\n",
    "    name_sim = \"C2I_v1/\"  # Done\n",
    "else:\n",
    "    name_sim = os.getenv(\"NAME_SIM\")\n",
    "path_raw = os.path.expanduser(f\"~/Projects/string_sims/data/raw/{name_sim}\")\n",
    "path_interim = os.path.expanduser(f\"~/Projects/string_sims/data/interim/{name_sim}\")\n",
    "path_processed = os.path.expanduser(f\"~/Projects/string_sims/data/processed/{name_sim}\")\n",
    "path_XRD = os.path.expanduser(f\"~/Projects/string_sims/models/raw_pdb/\")\n",
    "path_report = os.path.expanduser(f\"~/Projects/string_sims/reports/figures/{name_sim}\")\n",
    "os.chdir(path_raw)\n",
    "os.getcwd()"
   ]
  },
  {
   "cell_type": "code",
   "execution_count": null,
   "id": "61fb2261-372f-460c-a3db-c958e6114a61",
   "metadata": {},
   "outputs": [],
   "source": [
    "with open(\"cv.pkl\", \"rb\") as file:\n",
    "    cvs, ndx_groups = pickle.load(file)"
   ]
  },
  {
   "cell_type": "markdown",
   "id": "9fadba22-5407-4d9c-a90c-b3ed0888f37b",
   "metadata": {},
   "source": [
    "The `load_swarm_data` function will load the swarm data in the `cv_coordinates`. If you set `extract=True` it will read the data from the swarm files. If you have done this previously you can set `extract=False` so the function just reads `postprocessing/cv_coordinates.npy`. `first_iteration` can be used to exclude initial swarms as equilibration and `last_iteration` can be done to exclude some iterations for example if you want to estimate the FES convergence by comparing blocks of data."
   ]
  },
  {
   "cell_type": "code",
   "execution_count": null,
   "id": "63149e12-b36c-4f3f-af0e-8f3953909509",
   "metadata": {},
   "outputs": [],
   "source": [
    "first_iteration = {\n",
    "    \"C2I_lb_v1/\": 100,\n",
    "    \"C2I_v1/\": 400,\n",
    "    \"C2I_v1_amber/\": 100,\n",
    "    \"C2I_lb_v1_amber/\": 100,\n",
    "}\n",
    "first_iteration = first_iteration[name_sim]"
   ]
  },
  {
   "cell_type": "code",
   "execution_count": null,
   "id": "61d13c71-e851-4926-974b-dbaaec358f06",
   "metadata": {
    "tags": []
   },
   "outputs": [],
   "source": [
    "if extract_data:\n",
    "    cv_coordinates = spc.load_swarm_data(\n",
    "        extract=True, first_iteration=first_iteration, last_iteration=None\n",
    "    )\n",
    "    np.save(f\"{path_interim}cv_coordinates.npy\", cv_coordinates)\n",
    "else:\n",
    "    cv_coordinates = np.load(f\"{path_interim}cv_coordinates.npy\")"
   ]
  },
  {
   "cell_type": "code",
   "execution_count": null,
   "id": "92260863-37d2-4333-8330-31993199d7fe",
   "metadata": {},
   "outputs": [],
   "source": [
    "files = spc.natural_sort(glob.glob(\"./strings/string[0-9]*txt\"))\n",
    "strings = np.array([np.loadtxt(file).T for file in files])"
   ]
  },
  {
   "cell_type": "markdown",
   "id": "2e592613-66f5-42bc-a14a-507b28a389fb",
   "metadata": {},
   "source": [
    "Load pickle with data from XRD"
   ]
  },
  {
   "cell_type": "code",
   "execution_count": null,
   "id": "47e960c8-b86c-41b7-b147-2eac111e86c9",
   "metadata": {},
   "outputs": [],
   "source": [
    "os.chdir(path_XRD)\n",
    "with open(\n",
    "    os.path.expanduser(\"~/Projects/string_sims/data/processed/XRD/XRD.pickle\"), \"rb\"\n",
    ") as handle:\n",
    "    XRD_dictionary = pickle.load(handle)\n",
    "os.chdir(path_raw)"
   ]
  },
  {
   "cell_type": "markdown",
   "id": "f2497853-7e3e-4d32-84b5-0e9b476fab82",
   "metadata": {},
   "source": [
    "Load MSM weights"
   ]
  },
  {
   "cell_type": "code",
   "execution_count": null,
   "id": "6e3f9a93-7a32-47b4-a554-7f0f35eaed7b",
   "metadata": {},
   "outputs": [],
   "source": [
    "weights = np.load(f\"{path_processed}weights.npy\")\n",
    "clusters = np.load(f\"{path_processed}clusters.npy\")"
   ]
  },
  {
   "cell_type": "code",
   "execution_count": null,
   "id": "7c4b6b61-73d4-4255-bc93-e148a36b3f16",
   "metadata": {},
   "outputs": [],
   "source": [
    "F = np.load(f\"{path_processed}FES_SF_IG.npy\")\n",
    "extent = np.load(f\"{path_processed}extent.npy\")"
   ]
  },
  {
   "cell_type": "markdown",
   "id": "76920fc4-2f0a-4715-b002-1fce0a9ac28f",
   "metadata": {
    "tags": []
   },
   "source": [
    "# Path CVs"
   ]
  },
  {
   "cell_type": "markdown",
   "id": "dfe8b3aa-d5fd-4d8e-a5b9-a9968a96b88f",
   "metadata": {},
   "source": [
    "Define path as the average of the last av_last_n_it of the strings. Obtain a reasonable guess of lambda."
   ]
  },
  {
   "cell_type": "code",
   "execution_count": null,
   "id": "63a65c10-8458-4835-b33f-d2d543364a06",
   "metadata": {},
   "outputs": [],
   "source": [
    "n_strings = strings.shape[0]\n",
    "av_last_n_it = 25\n",
    "path = np.mean(strings[n_strings - av_last_n_it :, :, :], axis=0)\n",
    "lam = spc.get_path_lambda(path)\n",
    "print(f\"Default Lambda value for path {lam:.2f}\")\n",
    "lam = {\n",
    "    \"C2I_v1_amber/\": 500,\n",
    "    \"C2I_v1/\": spc.get_path_lambda(path),\n",
    "    \"C2I_lb_v1/\": spc.get_path_lambda(path),\n",
    "    \"C2I_lb_v1_amber/\": 100,\n",
    "}\n",
    "lam = lam[name_sim]\n",
    "print(f\"Lambda value for path {lam:.2f}\")"
   ]
  },
  {
   "cell_type": "markdown",
   "id": "ce39584f-af26-4076-bb62-77fe5e76963a",
   "metadata": {},
   "source": [
    "Let's see if the lambda gives a well behaved path cv. The progress variable (s) should be increasing in the path itself and the distance to path variable (z) be low and constant."
   ]
  },
  {
   "cell_type": "code",
   "execution_count": null,
   "id": "9015194b-073c-4482-89d7-fe8b5199a0e7",
   "metadata": {},
   "outputs": [],
   "source": [
    "np.save(f\"{path_processed}/path_lam{lam:.2f}.npy\", path)"
   ]
  },
  {
   "cell_type": "markdown",
   "id": "39ee9208-2669-4664-9e62-1f6c50684083",
   "metadata": {
    "tags": []
   },
   "source": [
    "## Representation of Path CV"
   ]
  },
  {
   "cell_type": "markdown",
   "id": "2f6eb41e-8096-48ee-9338-29f07e301c89",
   "metadata": {},
   "source": [
    "### Load data and calculate path cvs"
   ]
  },
  {
   "cell_type": "code",
   "execution_count": null,
   "id": "8d58565b-2c26-4159-8015-0a6c0029ed28",
   "metadata": {},
   "outputs": [],
   "source": [
    "cv_of_path = []\n",
    "for p in path.T:\n",
    "    cv_of_path.append(spc.cvs_to_path(p, path=path, lam=lam))\n",
    "cv_of_path = np.array(cv_of_path)"
   ]
  },
  {
   "cell_type": "code",
   "execution_count": null,
   "id": "f547fff7-7642-460b-a5db-43e23f381dc7",
   "metadata": {},
   "outputs": [],
   "source": [
    "cvs_path = []\n",
    "for i in range(cv_coordinates.shape[0]):\n",
    "    cvs_path.append([])\n",
    "    for j in range(cv_coordinates.shape[1]):\n",
    "        cvs_path[i].append(spc.cvs_to_path(cv_coordinates[i, j, :], path=path, lam=lam))\n",
    "cvs_path = np.array(cvs_path)"
   ]
  },
  {
   "cell_type": "code",
   "execution_count": null,
   "id": "3c77728b-e554-42cd-aeb5-e8b472af9e11",
   "metadata": {},
   "outputs": [],
   "source": [
    "cv_proj = spc.cvs_to_SF_IG(cv_coordinates, [0, 1], [10, 11])\n",
    "np.save(f\"{path_interim}cv_proj.npy\", cv_proj)"
   ]
  },
  {
   "cell_type": "markdown",
   "id": "cf98c486-604c-4770-962b-18f7b20eca53",
   "metadata": {},
   "source": [
    "### Path CV on final string"
   ]
  },
  {
   "cell_type": "markdown",
   "id": "72fb600e-d7e1-4eea-8de9-0d7626a382f3",
   "metadata": {},
   "source": [
    "Check how the path cv is represented in the average final string"
   ]
  },
  {
   "cell_type": "code",
   "execution_count": null,
   "id": "25045bd4-b817-4ac4-80b8-9429b3ececf0",
   "metadata": {},
   "outputs": [],
   "source": [
    "fig, ax = plt.subplots(1, 2, figsize=(10 * 2, 7))\n",
    "ax[0].plot(cv_of_path[:, 0], marker=\"o\")\n",
    "ax[1].plot(cv_of_path[:, 1], marker=\"o\")\n",
    "ax[0].set_xlabel(\"bead number\")\n",
    "ax[0].set_ylabel(\"S\")\n",
    "ax[1].set_xlabel(\"bead number\")\n",
    "ax[1].set_ylabel(\"Z\")\n",
    "ax[j].set_title(f\"Path-variable {lam = :.2f}\")\n",
    "ax[1].set_title(f\"Path-variable {lam = :.2f}\")"
   ]
  },
  {
   "cell_type": "markdown",
   "id": "a7bc20b2-ce01-4cc4-8e2b-03d8ba2fa98d",
   "metadata": {},
   "source": [
    "### Path CV projected on IG vs SF"
   ]
  },
  {
   "cell_type": "markdown",
   "id": "2298b980-0a27-426a-a1a5-b0ac0ec4e720",
   "metadata": {},
   "source": [
    "Check how the path variables project onto the canonical inactivation 2CV FES"
   ]
  },
  {
   "cell_type": "code",
   "execution_count": null,
   "id": "196e2f6d-dce7-4370-818b-eb871068e153",
   "metadata": {},
   "outputs": [],
   "source": [
    "bandwidth = 0.05"
   ]
  },
  {
   "cell_type": "code",
   "execution_count": null,
   "id": "681e8900-abb7-4387-a630-c5526d249dc6",
   "metadata": {
    "tags": []
   },
   "outputs": [],
   "source": [
    "if calculate_s_path:\n",
    "    s_of_cv, extent = spc.project_property_on_cv_kde(\n",
    "        cv_proj, weights=weights, proper=cvs_path[:, :, 0:1], bandwidth=bandwidth\n",
    "    )\n",
    "    np.save(f\"{path_processed}s_path_of_SF_IG.npy\", s_of_cv)\n",
    "else:\n",
    "    s_of_cv = np.load(f\"{path_processed}s_path_of_SF_IG.npy\")"
   ]
  },
  {
   "cell_type": "code",
   "execution_count": null,
   "id": "6a88eecf-80b0-4ee8-a2f7-6983fd3a7a9b",
   "metadata": {
    "tags": []
   },
   "outputs": [],
   "source": [
    "if calculate_z_path:\n",
    "    z_of_cv, extent = spc.project_property_on_cv_kde(\n",
    "        cv_proj, weights=weights, proper=cvs_path[:, :, 1:2], bandwidth=bandwidth\n",
    "    )\n",
    "    np.save(f\"{path_processed}z_path_of_SF_IG.npy\", z_of_cv)\n",
    "else:\n",
    "    z_of_cv = np.load(f\"{path_processed}z_path_of_SF_IG.npy\")"
   ]
  },
  {
   "cell_type": "code",
   "execution_count": null,
   "id": "d21fec7d-beb4-48ab-96fc-c29b18cdc87e",
   "metadata": {
    "tags": []
   },
   "outputs": [],
   "source": [
    "fig, ax = plt.subplots(1, 2, figsize=(10 * 2, 7), sharex=True, sharey=True)\n",
    "_ = spc.plot_2D_heatmap(\n",
    "    s_of_cv,\n",
    "    extent,\n",
    "    cbar_label=\"s[path]\",\n",
    "    xlabel=\"SF (nm)\",\n",
    "    ylabel=\"IG (nm)\",\n",
    "    f_min=0,\n",
    "    f_max=1,\n",
    "    fig=fig,\n",
    "    cmap=plt.cm.Spectral,\n",
    "    ax=ax[0],\n",
    "    n_colors=200,\n",
    "    c_density=F,\n",
    "    c_min=0,\n",
    "    c_max=20,\n",
    "    c_color=\"k\",\n",
    ")\n",
    "ax[0].grid(None)\n",
    "_ = spc.plot_2D_heatmap(\n",
    "    z_of_cv,\n",
    "    extent,\n",
    "    cbar_label=\"z[path]\",\n",
    "    xlabel=\"SF (nm)\",\n",
    "    cmap=plt.cm.magma,\n",
    "    f_min=0,\n",
    "    f_max=0.15,\n",
    "    fig=fig,\n",
    "    ax=ax[1],\n",
    "    n_colors=200,\n",
    "    c_density=F,\n",
    "    c_min=0,\n",
    "    c_max=20,\n",
    "    c_color=\"w\",\n",
    ")\n",
    "ax[1].grid(None)\n",
    "spc.add_XRD_values(XRD_dictionary, \"SF\", \"IG\", size=15, ax=ax[1], color=\"g\")\n",
    "spc.add_XRD_values(XRD_dictionary, \"SF\", \"IG\", size=15, ax=ax[0], color=\"g\")\n",
    "fig.tight_layout()\n",
    "fig.savefig(path_report + \"projection_path_cv.png\")"
   ]
  },
  {
   "cell_type": "markdown",
   "id": "bd700155-1b0c-47a7-84b8-935e7083c273",
   "metadata": {
    "tags": []
   },
   "source": [
    "## Calculate FES projected on path CV"
   ]
  },
  {
   "cell_type": "markdown",
   "id": "5c4ea2df-d68a-46fa-9465-5788c23b7bff",
   "metadata": {},
   "source": [
    "Calculate FES preliminarily, for example to optimize `nbins` and `bandwidth`."
   ]
  },
  {
   "cell_type": "code",
   "execution_count": null,
   "id": "d2ceb64f-211e-4094-89c6-e5b1d17d66d8",
   "metadata": {},
   "outputs": [],
   "source": [
    "s_path = cvs_path[:, :, 0:1]"
   ]
  },
  {
   "cell_type": "code",
   "execution_count": null,
   "id": "fdf7124e-ac0b-46b6-9027-00cd182341d5",
   "metadata": {},
   "outputs": [],
   "source": [
    "s_path_bandwidth = {\n",
    "    \"C2I_lb_v1/\": 0.125,\n",
    "    \"C2I_v1/\": 0.175,\n",
    "    \"C2I_v1_amber/\": 0.2,\n",
    "    \"C2I_lb_v1_amber/\": 0.3,\n",
    "}\n",
    "bandwidth = s_path_bandwidth[name_sim]"
   ]
  },
  {
   "cell_type": "code",
   "execution_count": null,
   "id": "95b63135-2018-4ac4-9047-6cf84c134a03",
   "metadata": {},
   "outputs": [],
   "source": [
    "%%time\n",
    "nbins = 200\n",
    "p_of_cv, extent = spc.get_kde(s_path, weights, bandwidth, nbins=nbins)\n",
    "F0 = -np.log(p_of_cv)\n",
    "F = F0 - F0.min()\n",
    "F[F > 40] = np.nan\n",
    "s = np.linspace(extent[0], extent[1], nbins)\n",
    "np.save(f\"{path_processed}FES_path.npy\",np.vstack([s, F]))"
   ]
  },
  {
   "cell_type": "code",
   "execution_count": null,
   "id": "831489c4-2616-4076-8514-3bd963958d2e",
   "metadata": {
    "tags": []
   },
   "outputs": [],
   "source": [
    "fig, ax = plt.subplots(1, 1, figsize=(10, 7))\n",
    "ax.plot(s, F, marker=\".\")\n",
    "ax.legend()\n",
    "ax.set_xlabel(\"s[path]\", size=15)\n",
    "ax.set_ylabel(\"F (kT)\", size=15)\n",
    "ax.set_ylim([0, 25])\n",
    "ax.set_xlim([0, 1])"
   ]
  },
  {
   "cell_type": "code",
   "execution_count": null,
   "id": "b54c5e64-cc04-4082-b743-4e7f93ca518c",
   "metadata": {},
   "outputs": [],
   "source": [
    "e_val_s_path = np.sum(s_path.flatten() * weights)\n",
    "print(f\"The expected value of s_path is {e_val_s_path:.2f}\")"
   ]
  },
  {
   "cell_type": "markdown",
   "id": "c98d9682-cecb-4604-8dad-68ee23a0a7fc",
   "metadata": {
    "tags": []
   },
   "source": [
    "## Calculate errors FES s-path"
   ]
  },
  {
   "cell_type": "code",
   "execution_count": null,
   "id": "0718e5f5-5f84-4754-86b6-38cc55ae2d49",
   "metadata": {
    "tags": []
   },
   "outputs": [],
   "source": [
    "%%time\n",
    "import src.analysis as spc\n",
    "\n",
    "blocks = [2, 4, 8, 16, 32]\n",
    "n_blocks = len(blocks)\n",
    "n_boot = 100\n",
    "if calculate_path_errors:\n",
    "    errors = spc.get_error(\n",
    "        s_path,\n",
    "        clusters,\n",
    "        extent,\n",
    "        n_boot=n_boot,\n",
    "        bandwidth=bandwidth,\n",
    "        nbin=nbins,\n",
    "        blocks=blocks,\n",
    "        seed=28101990,\n",
    "        n_jobs=4,\n",
    "    )\n",
    "    np.save(f\"{path_processed}path_errors_{n_boot}_{n_blocks}.npy\", errors)\n",
    "else:\n",
    "    errors = np.load(f\"{path_processed}path_errors_{n_boot}_{n_blocks}.npy\")"
   ]
  },
  {
   "cell_type": "markdown",
   "id": "3db8291d-3220-4626-a2f3-becbb87c57e6",
   "metadata": {},
   "source": [
    "Choose the number of blocks that gives you a high error.\n",
    "\n",
    "Note,`e_min` and `e_max` are choosen to remove the extremely high or low values of error that are generated due to poor sampling or high free energy. These regions of the \"free error surface\" are not what we care about and thus we remove it from the statistic and the visualization."
   ]
  },
  {
   "cell_type": "code",
   "execution_count": null,
   "id": "3af9c7b6-44fb-4868-9c68-52b5c1e82382",
   "metadata": {
    "tags": []
   },
   "outputs": [],
   "source": [
    "fig, ax = plt.subplots(1, 1)\n",
    "error_block = 16\n",
    "n_boot = 100\n",
    "n_blocks = len(blocks)\n",
    "s = np.linspace(extent[0], extent[1], nbins)\n",
    "error = np.load(f\"{path_processed}path_errors_{n_boot}_{n_blocks}.npy\")\n",
    "error = error[blocks.index(error_block), :]\n",
    "ax.fill_between(s, F + error, F - error, alpha=0.3)\n",
    "ax.plot(s, F, label=f\"{n_boot=}\", marker=\".\")\n",
    "ax.legend()\n",
    "ax.set_xlabel(\"s[path]\", size=15)\n",
    "ax.set_ylabel(\"F (kT)\", size=15)\n",
    "fig.savefig(path_report + \"FES_path_cv.png\")"
   ]
  },
  {
   "cell_type": "markdown",
   "id": "9b7e7e9f-f83a-4158-84e1-f7984ddc06f4",
   "metadata": {},
   "source": [
    "### Study convergence of the FES as function of path"
   ]
  },
  {
   "cell_type": "code",
   "execution_count": null,
   "id": "c4aa04a7-43bb-42b3-bdb0-31c109572646",
   "metadata": {},
   "outputs": [],
   "source": [
    "k = {\n",
    "    \"C2I_lb_v1_amber/\": 75,\n",
    "    \"C2I_lb_v1/\": 30,\n",
    "    \"C2I_v1/\": 50,\n",
    "    \"C2I_v1_amber/\": 75,\n",
    "}\n",
    "k = k[name_sim]"
   ]
  },
  {
   "cell_type": "code",
   "execution_count": null,
   "id": "bac21246-dfba-48b1-9b3f-7bb73d69b319",
   "metadata": {},
   "outputs": [],
   "source": [
    "%%time\n",
    "n_swarms = 36\n",
    "n_beads = 18\n",
    "step = 50\n",
    "step = step * n_swarms * n_beads\n",
    "bandwidth = s_path_bandwidth[name_sim]\n",
    "final_factor = np.cov(s_path.flatten(), aweights=weights) * bandwidth\n",
    "\n",
    "if calculate_converges:\n",
    "    FES_vs_t = []\n",
    "    FES_vs_t.append(np.linspace(extent[0], extent[1], nbins))\n",
    "    for i in tqdm(range(step, s_path.shape[0]+step,step)):\n",
    "        print(i)\n",
    "        s = s_path[: i , :, :]\n",
    "        c = cv_coordinates[: i, :, :]\n",
    "        t = spc.cvs_to_tica(c, reversible=True) \n",
    "        cl = spc.k_means_cluster(t, k, stride=1, max_iter=500, n_jobs=4, seed=28101990)\n",
    "        try:\n",
    "            _, w= spc.get_msm(cl, n_jobs=4, reversible=True)\n",
    "        except:\n",
    "            print(f\"didn't get msm for {i}\")\n",
    "            continue\n",
    "        b = final_factor / np.cov(s_path.flatten(), aweights=weights)\n",
    "        print(f\"final factor {b}\")\n",
    "        p_of_cv, extent = spc.get_kde(\n",
    "            s,\n",
    "            w,\n",
    "            b,\n",
    "            nbins=nbins,\n",
    "        )\n",
    "        print(bandwidth*np.cov(s.flatten(), aweights=w))\n",
    "        f0 = -np.log(p_of_cv)\n",
    "        f = f0 - f0.min()\n",
    "        f[f > 40] = np.nan\n",
    "        FES_vs_t.append(f)\n",
    "    FES_vs_t.append(F)\n",
    "    FES_vs_t = np.array(FES_vs_t)\n",
    "    np.save(f\"{path_processed}FES_path_vs_t.npy\", FES_vs_t)\n",
    "else:\n",
    "    FES_vs_t = np.load(f\"{path_processed}FES_path_vs_t.npy\")"
   ]
  },
  {
   "cell_type": "code",
   "execution_count": null,
   "id": "29874a35-13a5-46d2-9594-73e340b91c13",
   "metadata": {},
   "outputs": [],
   "source": [
    "fig, ax = spc.plot_FES_1d_vs_t(FES_vs_t[:, :], xlabel=\"s[path] (nm)\", error=error)\n",
    "ax.set_ylim([0, 25])\n",
    "ax.set_xlim([0, 1])\n",
    "fig.savefig(path_report + \"FES_path_convergence.png\")"
   ]
  },
  {
   "cell_type": "markdown",
   "id": "d8775043-2f50-4181-ab7f-c497195d5cca",
   "metadata": {
    "tags": []
   },
   "source": [
    "## FES s-path vs property"
   ]
  },
  {
   "cell_type": "code",
   "execution_count": null,
   "id": "6e2483d4-012b-44db-a65b-2ed28eed8e1b",
   "metadata": {},
   "outputs": [],
   "source": [
    "s_path = cvs_path[:, :, 0:1]"
   ]
  },
  {
   "cell_type": "markdown",
   "id": "74a3479d-db41-4716-92ac-bd52911b70a7",
   "metadata": {
    "tags": []
   },
   "source": [
    "## Path vs IG and SF (checks)"
   ]
  },
  {
   "cell_type": "markdown",
   "id": "681e3814-1c65-4765-9635-537f3afdd180",
   "metadata": {
    "tags": []
   },
   "source": [
    "### SF"
   ]
  },
  {
   "cell_type": "code",
   "execution_count": null,
   "id": "709925e6-226e-4047-98d7-b98a9d959bf9",
   "metadata": {},
   "outputs": [],
   "source": [
    "other_cv_id = [0, 1]\n",
    "other_cv = spc.average_strings_to_cv(cv_coordinates, other_cv_id)\n",
    "cv_name = \"SF\"\n",
    "cv_fig_label = \"SF (nm)\"\n",
    "f_max = 25\n",
    "bandwidth = 0.05\n",
    "save_npy = f\"{path_processed}FES_{cv_name}_path.npy\"\n",
    "save_fig = path_report + f\"FES_{cv_name}.png\"\n",
    "save_extent = f\"{path_processed}/extent_{cv_name}_path.npy\"\n",
    "spc.plot_path_vs_cv_FES(\n",
    "    s_path,\n",
    "    other_cv,\n",
    "    weights,\n",
    "    cv_name,\n",
    "    cv_fig_label,\n",
    "    bandwidth,\n",
    "    f_max,\n",
    "    save_npy,\n",
    "    save_fig,\n",
    "    save_extent,\n",
    ")"
   ]
  },
  {
   "cell_type": "markdown",
   "id": "39680383-fc5a-4035-a4c4-fa32746f85e4",
   "metadata": {},
   "source": [
    "Do the projection and take log. You have to choose a bandwidth for the [KDE](https://en.wikipedia.org/wiki/Kernel_density_estimation) of the histogram. It should be big enough to reduce noise but not so big to remove features. If you give `None`"
   ]
  },
  {
   "cell_type": "markdown",
   "id": "ec294e2c-2c2e-4bae-937c-1a3c946ba1c3",
   "metadata": {},
   "source": [
    "### IG"
   ]
  },
  {
   "cell_type": "code",
   "execution_count": null,
   "id": "0e67700b-782f-435a-9253-de3445c37370",
   "metadata": {},
   "outputs": [],
   "source": [
    "other_cv_id = [10, 11]\n",
    "cv_name = \"IG\"\n",
    "cv_fig_label = \"IG (nm)\"\n",
    "other_cv = spc.average_strings_to_cv(cv_coordinates, other_cv_id)\n",
    "f_max = 25\n",
    "bandwidth = 0.05\n",
    "save_npy = f\"{path_processed}FES_{cv_name}_path.npy\"\n",
    "save_fig = path_report + f\"FES_{cv_name}.png\"\n",
    "save_extent = f\"{path_processed}/extent_{cv_name}.npy\"\n",
    "save_extent = f\"{path_processed}/extent_{cv_name}_path.npy\"\n",
    "spc.plot_path_vs_cv_FES(\n",
    "    s_path,\n",
    "    other_cv,\n",
    "    weights,\n",
    "    cv_name,\n",
    "    cv_fig_label,\n",
    "    bandwidth,\n",
    "    f_max,\n",
    "    save_npy,\n",
    "    save_fig,\n",
    "    save_extent,\n",
    ")"
   ]
  },
  {
   "cell_type": "markdown",
   "id": "897af7c3-2ed1-45e5-9905-1b874add7a63",
   "metadata": {
    "tags": []
   },
   "source": [
    "## Path vs L81-W67"
   ]
  },
  {
   "cell_type": "code",
   "execution_count": null,
   "id": "31b323f3-e5f5-4e7b-884c-37e71883e58a",
   "metadata": {},
   "outputs": [],
   "source": [
    "other_cv_id = [32, 33, 34, 35]\n",
    "cv_name = \"L81-W67\"\n",
    "cv_fig_label = \"L81-W67 (nm)\"\n",
    "other_cv = spc.average_strings_to_cv(cv_coordinates, other_cv_id)\n",
    "f_max = 25\n",
    "bandwidth = 0.05\n",
    "save_npy = f\"{path_processed}FES_{cv_name}_path.npy\"\n",
    "save_fig = path_report + f\"FES_{cv_name}.png\"\n",
    "save_extent = f\"{path_processed}/extent_{cv_name}_path.npy\"\n",
    "spc.plot_path_vs_cv_FES(\n",
    "    s_path,\n",
    "    other_cv,\n",
    "    weights,\n",
    "    cv_name,\n",
    "    cv_fig_label,\n",
    "    bandwidth,\n",
    "    f_max,\n",
    "    save_npy,\n",
    "    save_fig,\n",
    "    save_extent,\n",
    ")"
   ]
  },
  {
   "cell_type": "markdown",
   "id": "e277e14a-3e0b-4f34-b719-45871b6573b9",
   "metadata": {
    "tags": []
   },
   "source": [
    "## Path vs L81-W67 0"
   ]
  },
  {
   "cell_type": "code",
   "execution_count": null,
   "id": "851e77c8-037c-4d0f-8cf7-c867744db51e",
   "metadata": {},
   "outputs": [],
   "source": [
    "other_cv_id = 32\n",
    "cv_name = \"L81-W67_0\"\n",
    "cv_fig_label = \"L81-W67 0th (nm)\"\n",
    "other_cv = cv_coordinates[:, :, other_cv_id : other_cv_id + 1]\n",
    "f_max = 25\n",
    "bandwidth = 0.05\n",
    "save_npy = f\"{path_processed}FES_{cv_name}_path.npy\"\n",
    "save_fig = path_report + f\"FES_{cv_name}.png\"\n",
    "save_extent = f\"{path_processed}/extent_{cv_name}_path.npy\"\n",
    "spc.plot_path_vs_cv_FES(\n",
    "    s_path,\n",
    "    other_cv,\n",
    "    weights,\n",
    "    cv_name,\n",
    "    cv_fig_label,\n",
    "    bandwidth,\n",
    "    f_max,\n",
    "    save_npy,\n",
    "    save_fig,\n",
    "    save_extent,\n",
    ")"
   ]
  },
  {
   "cell_type": "markdown",
   "id": "9b7fa37b-3f8c-497a-a089-88d87a62fc7c",
   "metadata": {
    "tags": []
   },
   "source": [
    "## Path vs L81-W67 1"
   ]
  },
  {
   "cell_type": "code",
   "execution_count": null,
   "id": "9593f851-3990-4cb7-8c7d-26a08dff4710",
   "metadata": {},
   "outputs": [],
   "source": [
    "other_cv_id = 33\n",
    "cv_name = \"L81-W67_1\"\n",
    "cv_fig_label = \"L81-W67 1th (nm)\"\n",
    "other_cv = cv_coordinates[:, :, other_cv_id : other_cv_id + 1]\n",
    "f_max = 25\n",
    "bandwidth = 0.05\n",
    "save_npy = f\"{path_processed}FES_{cv_name}_path.npy\"\n",
    "save_fig = path_report + f\"FES_{cv_name}.png\"\n",
    "save_extent = f\"{path_processed}/extent_{cv_name}_path.npy\"\n",
    "spc.plot_path_vs_cv_FES(\n",
    "    s_path,\n",
    "    other_cv,\n",
    "    weights,\n",
    "    cv_name,\n",
    "    cv_fig_label,\n",
    "    bandwidth,\n",
    "    f_max,\n",
    "    save_npy,\n",
    "    save_fig,\n",
    "    save_extent,\n",
    ")"
   ]
  },
  {
   "cell_type": "markdown",
   "id": "e7795802-1fc7-448f-8403-15aeedb795d1",
   "metadata": {
    "tags": []
   },
   "source": [
    "## Path vs L81-W67 2"
   ]
  },
  {
   "cell_type": "code",
   "execution_count": null,
   "id": "d79593d9-3645-4e0a-a5be-8a2b568b7b36",
   "metadata": {},
   "outputs": [],
   "source": [
    "other_cv_id = 34\n",
    "cv_name = \"L81-W67_2\"\n",
    "cv_fig_label = \"L81-W67 2th (nm)\"\n",
    "other_cv = cv_coordinates[:, :, other_cv_id : other_cv_id + 1]\n",
    "f_max = 25\n",
    "bandwidth = 0.05\n",
    "save_npy = f\"{path_processed}FES_{cv_name}_path.npy\"\n",
    "save_fig = path_report + f\"FES_{cv_name}.png\"\n",
    "save_extent = f\"{path_processed}/extent_{cv_name}_path.npy\"\n",
    "spc.plot_path_vs_cv_FES(\n",
    "    s_path,\n",
    "    other_cv,\n",
    "    weights,\n",
    "    cv_name,\n",
    "    cv_fig_label,\n",
    "    bandwidth,\n",
    "    f_max,\n",
    "    save_npy,\n",
    "    save_fig,\n",
    "    save_extent,\n",
    ")"
   ]
  },
  {
   "cell_type": "markdown",
   "id": "a79d735b-5e25-4f93-b8fc-27637d2fb275",
   "metadata": {
    "tags": []
   },
   "source": [
    "## Path vs L81-W67 3"
   ]
  },
  {
   "cell_type": "code",
   "execution_count": null,
   "id": "ec913744-7775-4b43-a7dd-4855a93baa97",
   "metadata": {},
   "outputs": [],
   "source": [
    "other_cv_id = 35\n",
    "cv_name = \"L81-W67_3\"\n",
    "cv_fig_label = \"L81-W67 3th (nm)\"\n",
    "other_cv = cv_coordinates[:, :, other_cv_id : other_cv_id + 1]\n",
    "f_max = 25\n",
    "bandwidth = 0.05\n",
    "save_npy = f\"{path_processed}FES_{cv_name}_path.npy\"\n",
    "save_fig = path_report + f\"FES_{cv_name}.png\"\n",
    "save_extent = f\"{path_processed}/extent_{cv_name}_path.npy\"\n",
    "spc.plot_path_vs_cv_FES(\n",
    "    s_path,\n",
    "    other_cv,\n",
    "    weights,\n",
    "    cv_name,\n",
    "    cv_fig_label,\n",
    "    bandwidth,\n",
    "    f_max,\n",
    "    save_npy,\n",
    "    save_fig,\n",
    "    save_extent,\n",
    ")"
   ]
  },
  {
   "cell_type": "markdown",
   "id": "94c9513f-47a1-46cd-a6dc-ac4fb6bf6f38",
   "metadata": {
    "tags": []
   },
   "source": [
    "## Path vs I100-F103 (checks)"
   ]
  },
  {
   "cell_type": "code",
   "execution_count": null,
   "id": "31d91a96-acdb-41fc-9429-e20120381457",
   "metadata": {},
   "outputs": [],
   "source": [
    "other_cv_id = [12, 13, 14, 15]\n",
    "cv_name = \"I100-F103\"\n",
    "cv_fig_label = \"I100-F103 (nm)\"\n",
    "other_cv = spc.average_strings_to_cv(cv_coordinates, other_cv_id)\n",
    "f_max = 25\n",
    "bandwidth = 0.05\n",
    "save_npy = f\"{path_processed}FES_{cv_name}_path.npy\"\n",
    "save_fig = path_report + f\"FES_{cv_name}.png\"\n",
    "save_extent = f\"{path_processed}/extent_{cv_name}_path.npy\"\n",
    "spc.plot_path_vs_cv_FES(\n",
    "    s_path,\n",
    "    other_cv,\n",
    "    weights,\n",
    "    cv_name,\n",
    "    cv_fig_label,\n",
    "    bandwidth,\n",
    "    f_max,\n",
    "    save_npy,\n",
    "    save_fig,\n",
    "    save_extent,\n",
    ")"
   ]
  },
  {
   "cell_type": "markdown",
   "id": "2edbc0a0-4216-4ea1-98ca-e1e30ed74db7",
   "metadata": {
    "tags": []
   },
   "source": [
    "## Path vs F114-A32 TWIST"
   ]
  },
  {
   "cell_type": "code",
   "execution_count": null,
   "id": "a43cad33-afe4-4a4c-93f5-25c89b93431b",
   "metadata": {},
   "outputs": [],
   "source": [
    "other_cv_id = [16, 17, 18, 19]\n",
    "cv_name = \"F114-A32\"\n",
    "cv_fig_label = \"F114-A32 (nm)\"\n",
    "other_cv = spc.average_strings_to_cv(cv_coordinates, other_cv_id)\n",
    "f_max = 25\n",
    "bandwidth = 0.05\n",
    "save_npy = f\"{path_processed}FES_{cv_name}_path.npy\"\n",
    "save_fig = path_report + f\"FES_{cv_name}.png\"\n",
    "save_extent = f\"{path_processed}/extent_{cv_name}_path.npy\"\n",
    "spc.plot_path_vs_cv_FES(\n",
    "    s_path,\n",
    "    other_cv,\n",
    "    weights,\n",
    "    cv_name,\n",
    "    cv_fig_label,\n",
    "    bandwidth,\n",
    "    f_max,\n",
    "    save_npy,\n",
    "    save_fig,\n",
    "    save_extent,\n",
    ")"
   ]
  },
  {
   "cell_type": "markdown",
   "id": "81a5fd54-e354-4950-926c-d6aaaf9bb21f",
   "metadata": {
    "tags": []
   },
   "source": [
    "## Path vs E118-A28 TWIST"
   ]
  },
  {
   "cell_type": "code",
   "execution_count": null,
   "id": "1c4a1126-7b28-45ce-9bec-304ffb3fab80",
   "metadata": {},
   "outputs": [],
   "source": [
    "other_cv_id = [24, 25, 26, 27]\n",
    "cv_name = \"E118-A28\"\n",
    "cv_fig_label = \"E118-A28 (nm)\"\n",
    "other_cv = spc.average_strings_to_cv(cv_coordinates, other_cv_id)\n",
    "f_max = 25\n",
    "bandwidth = 0.05\n",
    "save_npy = f\"{path_processed}FES_{cv_name}_path.npy\"\n",
    "save_fig = path_report + f\"FES_{cv_name}.png\"\n",
    "save_extent = f\"{path_processed}/extent_{cv_name}_path.npy\"\n",
    "spc.plot_path_vs_cv_FES(\n",
    "    s_path,\n",
    "    other_cv,\n",
    "    weights,\n",
    "    cv_name,\n",
    "    cv_fig_label,\n",
    "    bandwidth,\n",
    "    f_max,\n",
    "    save_npy,\n",
    "    save_fig,\n",
    "    save_extent,\n",
    ")"
   ]
  },
  {
   "cell_type": "markdown",
   "id": "fe13e5da-c980-46aa-ba5d-da12a6cad9c4",
   "metadata": {
    "tags": []
   },
   "source": [
    "## Path vs I100 $\\chi_1$"
   ]
  },
  {
   "cell_type": "code",
   "execution_count": null,
   "id": "48cfc57a-fe88-4b7f-8bd1-3ec0ccc3a398",
   "metadata": {},
   "outputs": [],
   "source": [
    "cv_name = \"chi1_I100\"\n",
    "cv_fig_label = \"$\\chi_1$ I100 ($\\deg$)\"\n",
    "other_cv = np.load(f\"{path_interim}/{cv_name}.npy\")[:, :]\n",
    "other_cv = other_cv.reshape([other_cv.shape[0] // 2, 2, 1])\n",
    "f_max = 25\n",
    "bandwidth = 0.05\n",
    "save_npy = f\"{path_processed}FES_{cv_name}_path.npy\"\n",
    "save_fig = path_report + f\"FES_{cv_name}.png\"\n",
    "save_extent = f\"{path_processed}/extent_{cv_name}_path.npy\"\n",
    "spc.plot_path_vs_cv_FES(\n",
    "    s_path,\n",
    "    other_cv,\n",
    "    weights,\n",
    "    cv_name,\n",
    "    cv_fig_label,\n",
    "    bandwidth,\n",
    "    f_max,\n",
    "    save_npy,\n",
    "    save_fig,\n",
    "    save_extent,\n",
    ")"
   ]
  },
  {
   "cell_type": "markdown",
   "id": "439e7105-f3e6-4c7b-8e6b-59873aaf7caf",
   "metadata": {
    "tags": []
   },
   "source": [
    "## Path vs F103 $\\chi_1$"
   ]
  },
  {
   "cell_type": "code",
   "execution_count": null,
   "id": "6bf43499-c61f-4485-b143-f99fb3df9f2f",
   "metadata": {},
   "outputs": [],
   "source": [
    "cv_name = \"chi1_F103\"\n",
    "cv_fig_label = \"$\\chi_1$ F103 ($\\deg$)\"\n",
    "other_cv = np.load(f\"{path_interim}/{cv_name}.npy\")[:, :]\n",
    "other_cv = other_cv.reshape([other_cv.shape[0] // 2, 2, 1])\n",
    "f_max = 25\n",
    "bandwidth = 0.05\n",
    "save_npy = f\"{path_processed}FES_{cv_name}_path.npy\"\n",
    "save_fig = path_report + f\"FES_{cv_name}.png\"\n",
    "save_extent = f\"{path_processed}/extent_{cv_name}_path.npy\"\n",
    "spc.plot_path_vs_cv_FES(\n",
    "    s_path,\n",
    "    other_cv,\n",
    "    weights,\n",
    "    cv_name,\n",
    "    cv_fig_label,\n",
    "    bandwidth,\n",
    "    f_max,\n",
    "    save_npy,\n",
    "    save_fig,\n",
    "    save_extent,\n",
    ")"
   ]
  },
  {
   "cell_type": "markdown",
   "id": "af62ff95-20c7-41df-bdf6-7f1fd6673087",
   "metadata": {
    "tags": []
   },
   "source": [
    "## Path vs E71 $\\chi_1$"
   ]
  },
  {
   "cell_type": "code",
   "execution_count": null,
   "id": "1d0da581-dd3f-4145-bd58-9d85979341cb",
   "metadata": {},
   "outputs": [],
   "source": [
    "cv_name = \"chi1_E71\"\n",
    "cv_fig_label = \"$\\chi_1$ E71 ($\\deg$)\"\n",
    "other_cv = np.load(f\"{path_interim}/{cv_name}.npy\")[:, :]\n",
    "other_cv = other_cv.reshape([other_cv.shape[0] // 2, 2, 1])\n",
    "f_max = 25\n",
    "bandwidth = 0.05\n",
    "save_npy = f\"{path_processed}FES_{cv_name}_path.npy\"\n",
    "save_fig = path_report + f\"FES_{cv_name}.png\"\n",
    "save_extent = f\"{path_processed}/extent_{cv_name}_path.npy\"\n",
    "spc.plot_path_vs_cv_FES(\n",
    "    s_path,\n",
    "    other_cv,\n",
    "    weights,\n",
    "    cv_name,\n",
    "    cv_fig_label,\n",
    "    bandwidth,\n",
    "    f_max,\n",
    "    save_npy,\n",
    "    save_fig,\n",
    "    save_extent,\n",
    ")"
   ]
  },
  {
   "cell_type": "markdown",
   "id": "e4bd8b18-263b-4387-9d46-23688efb430c",
   "metadata": {
    "tags": []
   },
   "source": [
    "## Path vs E72 $\\chi_2$"
   ]
  },
  {
   "cell_type": "code",
   "execution_count": null,
   "id": "84703540-a757-4d65-9ce5-575fdc55f99a",
   "metadata": {},
   "outputs": [],
   "source": [
    "cv_name = \"chi2_E71\"\n",
    "cv_fig_label = \"$\\chi_2$ E71 ($\\deg$)\"\n",
    "other_cv = np.load(f\"{path_interim}/{cv_name}.npy\")[:, :]\n",
    "other_cv = other_cv.reshape([other_cv.shape[0] // 2, 2, 1])\n",
    "f_max = 25\n",
    "bandwidth = 0.05\n",
    "save_npy = f\"{path_processed}FES_{cv_name}_path.npy\"\n",
    "save_fig = path_report + f\"FES_{cv_name}.png\"\n",
    "save_extent = f\"{path_processed}/extent_{cv_name}_path.npy\"\n",
    "spc.plot_path_vs_cv_FES(\n",
    "    s_path,\n",
    "    other_cv,\n",
    "    weights,\n",
    "    cv_name,\n",
    "    cv_fig_label,\n",
    "    bandwidth,\n",
    "    f_max,\n",
    "    save_npy,\n",
    "    save_fig,\n",
    "    save_extent,\n",
    ")"
   ]
  },
  {
   "cell_type": "markdown",
   "id": "01d05bf8-e378-4e04-9fb5-de3ca4f65614",
   "metadata": {
    "tags": []
   },
   "source": [
    "## Path vs Y82 $\\chi_1$"
   ]
  },
  {
   "cell_type": "code",
   "execution_count": null,
   "id": "d6f405b4-f472-4e20-b420-7dd402b34862",
   "metadata": {},
   "outputs": [],
   "source": [
    "cv_name = \"chi1_Y82\"\n",
    "cv_fig_label = \"$\\chi_1$ Y82 ($\\deg$)\"\n",
    "other_cv = np.load(f\"{path_interim}/{cv_name}.npy\")[:, :]\n",
    "other_cv = np.mean(other_cv, axis=1, keepdims=True)\n",
    "other_cv = other_cv.reshape([other_cv.shape[0] // 2, 2, 1])\n",
    "f_max = 25\n",
    "bandwidth = 0.05\n",
    "save_npy = f\"{path_processed}FES_{cv_name}_path.npy\"\n",
    "save_fig = path_report + f\"FES_{cv_name}.png\"\n",
    "save_extent = f\"{path_processed}/extent_{cv_name}_path.npy\"\n",
    "spc.plot_path_vs_cv_FES(\n",
    "    s_path,\n",
    "    other_cv,\n",
    "    weights,\n",
    "    cv_name,\n",
    "    cv_fig_label,\n",
    "    bandwidth,\n",
    "    f_max,\n",
    "    save_npy,\n",
    "    save_fig,\n",
    "    save_extent,\n",
    ")"
   ]
  },
  {
   "cell_type": "markdown",
   "id": "686d50fd-0524-4715-9ba9-fe8bd9dbcb59",
   "metadata": {},
   "source": [
    "### SU 0"
   ]
  },
  {
   "cell_type": "code",
   "execution_count": null,
   "id": "086b11b4-3cad-4f01-b469-5fe566eafcff",
   "metadata": {},
   "outputs": [],
   "source": [
    "cv_name = \"chi1_Y82\"\n",
    "cv_fig_label = \"$\\chi_1$ Y82 SU0 ($\\deg$)\"\n",
    "other_cv = np.load(f\"{path_interim}/{cv_name}.npy\")[:, 0]\n",
    "other_cv = other_cv.reshape([other_cv.shape[0] // 2, 2, 1])\n",
    "f_max = 25\n",
    "bandwidth = 0.05\n",
    "save_npy = f\"{path_processed}FES_{cv_name}_path.npy\"\n",
    "save_fig = path_report + f\"FES_{cv_name}.png\"\n",
    "save_extent = f\"{path_processed}/extent_{cv_name}_path.npy\"\n",
    "spc.plot_path_vs_cv_FES(\n",
    "    s_path,\n",
    "    other_cv,\n",
    "    weights,\n",
    "    cv_name,\n",
    "    cv_fig_label,\n",
    "    bandwidth,\n",
    "    f_max,\n",
    "    save_npy,\n",
    "    save_fig,\n",
    "    save_extent,\n",
    ")"
   ]
  },
  {
   "cell_type": "markdown",
   "id": "0189654a-16b0-4b84-b25b-017e139ba120",
   "metadata": {},
   "source": [
    "### SU 1"
   ]
  },
  {
   "cell_type": "code",
   "execution_count": null,
   "id": "55d79d5c-4607-4450-bcd5-f464031a8950",
   "metadata": {},
   "outputs": [],
   "source": [
    "cv_name = \"chi1_Y82\"\n",
    "cv_fig_label = \"$\\chi_1$ Y82 SU1 ($\\deg$)\"\n",
    "other_cv = np.load(f\"{path_interim}/{cv_name}.npy\")[:, 1]\n",
    "other_cv = other_cv.reshape([other_cv.shape[0] // 2, 2, 1])\n",
    "f_max = 25\n",
    "bandwidth = 0.05\n",
    "save_npy = f\"{path_processed}FES_{cv_name}_path.npy\"\n",
    "save_fig = path_report + f\"FES_{cv_name}.png\"\n",
    "save_extent = f\"{path_processed}/extent_{cv_name}_path.npy\"\n",
    "spc.plot_path_vs_cv_FES(\n",
    "    s_path,\n",
    "    other_cv,\n",
    "    weights,\n",
    "    cv_name,\n",
    "    cv_fig_label,\n",
    "    bandwidth,\n",
    "    f_max,\n",
    "    save_npy,\n",
    "    save_fig,\n",
    "    save_extent,\n",
    ")"
   ]
  },
  {
   "cell_type": "markdown",
   "id": "acebad52-3f1e-438d-a177-f6ab045469a3",
   "metadata": {},
   "source": [
    "### SU 2"
   ]
  },
  {
   "cell_type": "code",
   "execution_count": null,
   "id": "a4af1fb0-ef7d-49bd-b85e-eff6d3563ad6",
   "metadata": {},
   "outputs": [],
   "source": [
    "cv_name = \"chi1_Y82\"\n",
    "cv_fig_label = \"$\\chi_1$ Y82 SU2 ($\\deg$)\"\n",
    "other_cv = np.load(f\"{path_interim}/{cv_name}.npy\")[:, 2]\n",
    "other_cv = other_cv.reshape([other_cv.shape[0] // 2, 2, 1])\n",
    "f_max = 25\n",
    "bandwidth = 0.05\n",
    "save_npy = f\"{path_processed}FES_{cv_name}_path.npy\"\n",
    "save_fig = path_report + f\"FES_{cv_name}.png\"\n",
    "save_extent = f\"{path_processed}/extent_{cv_name}_path.npy\"\n",
    "spc.plot_path_vs_cv_FES(\n",
    "    s_path,\n",
    "    other_cv,\n",
    "    weights,\n",
    "    cv_name,\n",
    "    cv_fig_label,\n",
    "    bandwidth,\n",
    "    f_max,\n",
    "    save_npy,\n",
    "    save_fig,\n",
    "    save_extent,\n",
    ")"
   ]
  },
  {
   "cell_type": "markdown",
   "id": "67d2422a-785a-4289-ba73-55f56daffd8d",
   "metadata": {},
   "source": [
    "### SU 3"
   ]
  },
  {
   "cell_type": "code",
   "execution_count": null,
   "id": "9498d966-fa4e-4f9b-9245-2d72a4ff71d4",
   "metadata": {},
   "outputs": [],
   "source": [
    "cv_name = \"chi1_Y82\"\n",
    "cv_fig_label = \"$\\chi_1$ Y82 SU3 ($\\deg$)\"\n",
    "other_cv = np.load(f\"{path_interim}/{cv_name}.npy\")[:, 3]\n",
    "other_cv = other_cv.reshape([other_cv.shape[0] // 2, 2, 1])\n",
    "f_max = 25\n",
    "bandwidth = 0.05\n",
    "save_npy = f\"{path_processed}FES_{cv_name}_path.npy\"\n",
    "save_fig = path_report + f\"FES_{cv_name}.png\"\n",
    "save_extent = f\"{path_processed}/extent_{cv_name}_path.npy\"\n",
    "spc.plot_path_vs_cv_FES(\n",
    "    s_path,\n",
    "    other_cv,\n",
    "    weights,\n",
    "    cv_name,\n",
    "    cv_fig_label,\n",
    "    bandwidth,\n",
    "    f_max,\n",
    "    save_npy,\n",
    "    save_fig,\n",
    "    save_extent,\n",
    ")"
   ]
  },
  {
   "cell_type": "markdown",
   "id": "2d56c18b-d0f8-421a-b047-b7464ad094b6",
   "metadata": {
    "tags": []
   },
   "source": [
    "## Path vs Y82 $\\chi_2$"
   ]
  },
  {
   "cell_type": "code",
   "execution_count": null,
   "id": "2ca5e9e2-dc72-4786-aa8c-fc72b8b87d5b",
   "metadata": {},
   "outputs": [],
   "source": [
    "cv_name = \"chi2_Y82\"\n",
    "cv_fig_label = \"$\\chi_2$ Y82 ($\\deg$)\"\n",
    "other_cv = np.load(f\"{path_interim}/{cv_name}.npy\")[:, :]\n",
    "other_cv = np.mean(other_cv, axis=1, keepdims=True)\n",
    "other_cv = other_cv.reshape([other_cv.shape[0] // 2, 2, 1])\n",
    "f_max = 25\n",
    "bandwidth = 0.05\n",
    "save_npy = f\"{path_processed}FES_{cv_name}_path.npy\"\n",
    "save_fig = path_report + f\"FES_{cv_name}.png\"\n",
    "save_extent = f\"{path_processed}/extent_{cv_name}_path.npy\"\n",
    "spc.plot_path_vs_cv_FES(\n",
    "    s_path,\n",
    "    other_cv,\n",
    "    weights,\n",
    "    cv_name,\n",
    "    cv_fig_label,\n",
    "    bandwidth,\n",
    "    f_max,\n",
    "    save_npy,\n",
    "    save_fig,\n",
    "    save_extent,\n",
    ")"
   ]
  },
  {
   "cell_type": "markdown",
   "id": "37d6c12b-d570-4a4e-b6a0-3d7ad977d77e",
   "metadata": {},
   "source": [
    "### SU 0"
   ]
  },
  {
   "cell_type": "code",
   "execution_count": null,
   "id": "3bc4c553-cfce-4409-a758-5b09df2b1534",
   "metadata": {},
   "outputs": [],
   "source": [
    "cv_name = \"chi2_Y82\"\n",
    "cv_fig_label = \"$\\chi_2$ Y82 SU0 ($\\deg$)\"\n",
    "other_cv = np.load(f\"{path_interim}/{cv_name}.npy\")[:, 0]\n",
    "other_cv = other_cv.reshape([other_cv.shape[0] // 2, 2, 1])\n",
    "f_max = 25\n",
    "bandwidth = 0.05\n",
    "save_npy = f\"{path_processed}FES_{cv_name}_path.npy\"\n",
    "save_fig = path_report + f\"FES_{cv_name}.png\"\n",
    "save_extent = f\"{path_processed}/extent_{cv_name}_path.npy\"\n",
    "spc.plot_path_vs_cv_FES(\n",
    "    s_path,\n",
    "    other_cv,\n",
    "    weights,\n",
    "    cv_name,\n",
    "    cv_fig_label,\n",
    "    bandwidth,\n",
    "    f_max,\n",
    "    save_npy,\n",
    "    save_fig,\n",
    "    save_extent,\n",
    ")"
   ]
  },
  {
   "cell_type": "markdown",
   "id": "86c8e4fd-40e6-4f77-bb2f-79da84011ef0",
   "metadata": {},
   "source": [
    "### SU 1"
   ]
  },
  {
   "cell_type": "code",
   "execution_count": null,
   "id": "d53c7672-8d0e-4368-bac7-3c2035b4c749",
   "metadata": {},
   "outputs": [],
   "source": [
    "cv_name = \"chi2_Y82\"\n",
    "cv_fig_label = \"$\\chi_2$ Y82 SU1 ($\\deg$)\"\n",
    "other_cv = np.load(f\"{path_interim}/{cv_name}.npy\")[:, 1]\n",
    "other_cv = other_cv.reshape([other_cv.shape[0] // 2, 2, 1])\n",
    "f_max = 25\n",
    "bandwidth = 0.05\n",
    "save_npy = f\"{path_processed}FES_{cv_name}_path.npy\"\n",
    "save_fig = path_report + f\"FES_{cv_name}.png\"\n",
    "save_extent = f\"{path_processed}/extent_{cv_name}_path.npy\"\n",
    "spc.plot_path_vs_cv_FES(\n",
    "    s_path,\n",
    "    other_cv,\n",
    "    weights,\n",
    "    cv_name,\n",
    "    cv_fig_label,\n",
    "    bandwidth,\n",
    "    f_max,\n",
    "    save_npy,\n",
    "    save_fig,\n",
    "    save_extent,\n",
    ")"
   ]
  },
  {
   "cell_type": "markdown",
   "id": "31788bcb-1e8e-4df6-81b6-e86b052f7453",
   "metadata": {},
   "source": [
    "### SU 2"
   ]
  },
  {
   "cell_type": "code",
   "execution_count": null,
   "id": "9ccee87e-4381-4263-99d0-292b13164393",
   "metadata": {},
   "outputs": [],
   "source": [
    "cv_name = \"chi2_Y82\"\n",
    "cv_fig_label = \"$\\chi_2$ Y82 SU2 ($\\deg$)\"\n",
    "other_cv = np.load(f\"{path_interim}/{cv_name}.npy\")[:, 2]\n",
    "other_cv = other_cv.reshape([other_cv.shape[0] // 2, 2, 1])\n",
    "f_max = 25\n",
    "bandwidth = 0.05\n",
    "save_npy = f\"{path_processed}FES_{cv_name}_path.npy\"\n",
    "save_fig = path_report + f\"FES_{cv_name}.png\"\n",
    "save_extent = f\"{path_processed}/extent_{cv_name}_path.npy\"\n",
    "spc.plot_path_vs_cv_FES(\n",
    "    s_path,\n",
    "    other_cv,\n",
    "    weights,\n",
    "    cv_name,\n",
    "    cv_fig_label,\n",
    "    bandwidth,\n",
    "    f_max,\n",
    "    save_npy,\n",
    "    save_fig,\n",
    "    save_extent,\n",
    ")"
   ]
  },
  {
   "cell_type": "markdown",
   "id": "96f22220-3666-4b9e-9353-beeda8f97bad",
   "metadata": {},
   "source": [
    "### SU 3"
   ]
  },
  {
   "cell_type": "code",
   "execution_count": null,
   "id": "70297fd3-403d-46ae-b738-7c72a0680a2d",
   "metadata": {},
   "outputs": [],
   "source": [
    "cv_name = \"chi2_Y82\"\n",
    "cv_fig_label = \"$\\chi_2$ Y82 SU3 ($\\deg$)\"\n",
    "other_cv = np.load(f\"{path_interim}/{cv_name}.npy\")[:, 3]\n",
    "other_cv = other_cv.reshape([other_cv.shape[0] // 2, 2, 1])\n",
    "f_max = 25\n",
    "bandwidth = 0.05\n",
    "save_npy = f\"{path_processed}FES_{cv_name}_path.npy\"\n",
    "save_fig = path_report + f\"FES_{cv_name}.png\"\n",
    "save_extent = f\"{path_processed}/extent_{cv_name}_path.npy\"\n",
    "spc.plot_path_vs_cv_FES(\n",
    "    s_path,\n",
    "    other_cv,\n",
    "    weights,\n",
    "    cv_name,\n",
    "    cv_fig_label,\n",
    "    bandwidth,\n",
    "    f_max,\n",
    "    save_npy,\n",
    "    save_fig,\n",
    "    save_extent,\n",
    ")"
   ]
  },
  {
   "cell_type": "markdown",
   "id": "6ffed272-188e-4c43-8c45-8ec15b4c8d12",
   "metadata": {
    "tags": []
   },
   "source": [
    "## Path vs T74-F103"
   ]
  },
  {
   "cell_type": "code",
   "execution_count": null,
   "id": "65373601-58d1-4e98-ba23-f5856cf5285f",
   "metadata": {},
   "outputs": [],
   "source": [
    "cv_name = \"dis_T74-F103\"\n",
    "cv_fig_label = \"T74-F103 (nm)\"\n",
    "other_cv = np.load(f\"{path_interim}/{cv_name}.npy\")[:, :]\n",
    "other_cv = other_cv.reshape([other_cv.shape[0] // 2, 2, 1])\n",
    "f_max = 25\n",
    "bandwidth = 0.05\n",
    "save_npy = f\"{path_processed}FES_{cv_name}_path.npy\"\n",
    "save_fig = path_report + f\"FES_{cv_name}.png\"\n",
    "save_extent = f\"{path_processed}/extent_{cv_name}_path.npy\"\n",
    "spc.plot_path_vs_cv_FES(\n",
    "    s_path,\n",
    "    other_cv,\n",
    "    weights,\n",
    "    cv_name,\n",
    "    cv_fig_label,\n",
    "    bandwidth,\n",
    "    f_max,\n",
    "    save_npy,\n",
    "    save_fig,\n",
    "    save_extent,\n",
    ")"
   ]
  },
  {
   "cell_type": "markdown",
   "id": "33be393c-f038-4374-9612-316e0cb69752",
   "metadata": {
    "tags": []
   },
   "source": [
    "## Path vs T74-I100"
   ]
  },
  {
   "cell_type": "code",
   "execution_count": null,
   "id": "730d7040-50ff-4f53-ac7b-42ee2fe2001a",
   "metadata": {},
   "outputs": [],
   "source": [
    "cv_name = \"dis_T74-I100\"\n",
    "cv_fig_label = \"T74-I100 (nm)\"\n",
    "other_cv = np.load(f\"{path_interim}/{cv_name}.npy\")[:, :]\n",
    "other_cv = other_cv.reshape([other_cv.shape[0] // 2, 2, 1])\n",
    "f_max = 25\n",
    "bandwidth = 0.05\n",
    "save_npy = f\"{path_processed}FES_{cv_name}_path.npy\"\n",
    "save_fig = path_report + f\"FES_{cv_name}.png\"\n",
    "save_extent = f\"{path_processed}/extent_{cv_name}_path.npy\"\n",
    "spc.plot_path_vs_cv_FES(\n",
    "    s_path,\n",
    "    other_cv,\n",
    "    weights,\n",
    "    cv_name,\n",
    "    cv_fig_label,\n",
    "    bandwidth,\n",
    "    f_max,\n",
    "    save_npy,\n",
    "    save_fig,\n",
    "    save_extent,\n",
    ")"
   ]
  },
  {
   "cell_type": "markdown",
   "id": "a9611801-716a-47fb-8dae-c60167c308cd",
   "metadata": {
    "tags": []
   },
   "source": [
    "## Path vs P-R64"
   ]
  },
  {
   "cell_type": "code",
   "execution_count": null,
   "id": "7c09744b-8bea-45b9-8376-17a594c8465e",
   "metadata": {},
   "outputs": [],
   "source": [
    "cv_name = \"dis_P-R64\"\n",
    "cv_fig_label = \"P-R64 (nm)\"\n",
    "other_cv = np.load(f\"{path_interim}/{cv_name}.npy\")[:, :]\n",
    "other_cv = other_cv.reshape([other_cv.shape[0] // 2, 2, 1])\n",
    "f_max = 25\n",
    "bandwidth = 0.05\n",
    "save_npy = f\"{path_processed}FES_{cv_name}_path.npy\"\n",
    "save_fig = path_report + f\"FES_{cv_name}.png\"\n",
    "save_extent = f\"{path_processed}/extent_{cv_name}_path.npy\"\n",
    "spc.plot_path_vs_cv_FES(\n",
    "    s_path,\n",
    "    other_cv,\n",
    "    weights,\n",
    "    cv_name,\n",
    "    cv_fig_label,\n",
    "    bandwidth,\n",
    "    f_max,\n",
    "    save_npy,\n",
    "    save_fig,\n",
    "    save_extent,\n",
    ")"
   ]
  },
  {
   "cell_type": "markdown",
   "id": "dd744a7b-8920-4dd7-9d45-039d0449704e",
   "metadata": {
    "tags": []
   },
   "source": [
    "## Path vs P-R89"
   ]
  },
  {
   "cell_type": "code",
   "execution_count": null,
   "id": "2e3aa376-173d-4b15-851a-a5f4fb622c83",
   "metadata": {},
   "outputs": [],
   "source": [
    "cv_name = \"dis_P-R89\"\n",
    "cv_fig_label = \"P-R89 (nm)\"\n",
    "other_cv = np.load(f\"{path_interim}/{cv_name}.npy\")[:, :]\n",
    "other_cv = other_cv.reshape([other_cv.shape[0] // 2, 2, 1])\n",
    "f_max = 25\n",
    "bandwidth = 0.05\n",
    "save_npy = f\"{path_processed}FES_{cv_name}_path.npy\"\n",
    "save_fig = path_report + f\"FES_{cv_name}.png\"\n",
    "save_extent = f\"{path_processed}/extent_{cv_name}_path.npy\"\n",
    "spc.plot_path_vs_cv_FES(\n",
    "    s_path,\n",
    "    other_cv,\n",
    "    weights,\n",
    "    cv_name,\n",
    "    cv_fig_label,\n",
    "    bandwidth,\n",
    "    f_max,\n",
    "    save_npy,\n",
    "    save_fig,\n",
    "    save_extent,\n",
    ")"
   ]
  },
  {
   "cell_type": "markdown",
   "id": "020ba9c2-bc26-4049-bb15-62e76e34e7f1",
   "metadata": {
    "tags": []
   },
   "source": [
    "## Path vs E71-G79"
   ]
  },
  {
   "cell_type": "code",
   "execution_count": null,
   "id": "29b8f771-8b50-4d42-8087-7c12321ead3e",
   "metadata": {},
   "outputs": [],
   "source": [
    "cv_name = \"dis_E71-G79\"\n",
    "cv_fig_label = \"E71-G79 (nm)\"\n",
    "other_cv = np.load(f\"{path_interim}/{cv_name}.npy\")[:, :]\n",
    "other_cv = other_cv.reshape([other_cv.shape[0] // 2, 2, 1])\n",
    "f_max = 25\n",
    "bandwidth = 0.05\n",
    "save_npy = f\"{path_processed}FES_{cv_name}_path.npy\"\n",
    "save_fig = path_report + f\"FES_{cv_name}.png\"\n",
    "save_extent = f\"{path_processed}/extent_{cv_name}_path.npy\"\n",
    "spc.plot_path_vs_cv_FES(\n",
    "    s_path,\n",
    "    other_cv,\n",
    "    weights,\n",
    "    cv_name,\n",
    "    cv_fig_label,\n",
    "    bandwidth,\n",
    "    f_max,\n",
    "    save_npy,\n",
    "    save_fig,\n",
    "    save_extent,\n",
    ")"
   ]
  },
  {
   "cell_type": "markdown",
   "id": "538168d7-267f-4fd5-bc00-c9ad28d039e0",
   "metadata": {
    "tags": []
   },
   "source": [
    "## Path vs E71 angle"
   ]
  },
  {
   "cell_type": "code",
   "execution_count": null,
   "id": "c6b98bd2-2a0a-4c68-aaeb-077296a3ba85",
   "metadata": {},
   "outputs": [],
   "source": [
    "cv_name = \"is_E71_horizontal\"\n",
    "cv_fig_label = \"E71 angle (deg)\"\n",
    "other_cv = np.load(f\"{path_interim}/{cv_name}.npy\")[:, :]\n",
    "other_cv = other_cv.reshape([other_cv.shape[0] // 2, 2, 1])\n",
    "f_max = 25\n",
    "bandwidth = 0.05\n",
    "save_npy = f\"{path_processed}FES_{cv_name}_path.npy\"\n",
    "save_fig = path_report + f\"FES_{cv_name}.png\"\n",
    "save_extent = f\"{path_processed}/extent_{cv_name}_path.npy\"\n",
    "spc.plot_path_vs_cv_FES(\n",
    "    s_path,\n",
    "    other_cv,\n",
    "    weights,\n",
    "    cv_name,\n",
    "    cv_fig_label,\n",
    "    bandwidth,\n",
    "    f_max,\n",
    "    save_npy,\n",
    "    save_fig,\n",
    "    save_extent,\n",
    ")"
   ]
  },
  {
   "cell_type": "markdown",
   "id": "0ca65c38-8a8d-4a6b-8fbd-63a0cd60d375",
   "metadata": {
    "tags": []
   },
   "source": [
    "## Path vs E71 angle PROB"
   ]
  },
  {
   "cell_type": "code",
   "execution_count": null,
   "id": "5dae3748-30c8-4f04-8620-54bb6e9a6b7b",
   "metadata": {},
   "outputs": [],
   "source": [
    "cv_name = \"is_E71_horizontal_B\"\n",
    "cv_fig_label = \"E71 angle (deg)\"\n",
    "other_cv = np.load(f\"{path_interim}/{cv_name}.npy\")[:, :]\n",
    "other_cv = other_cv.reshape([other_cv.shape[0] // 2, 2, 1])\n",
    "f_max = 25\n",
    "bandwidth = 0.05\n",
    "save_npy = f\"{path_processed}FES_{cv_name}_path.npy\"\n",
    "save_fig = path_report + f\"FES_{cv_name}.png\"\n",
    "save_extent = f\"{path_processed}/extent_{cv_name}_path.npy\"\n",
    "spc.plot_path_vs_cv_FES(\n",
    "    s_path,\n",
    "    other_cv,\n",
    "    weights,\n",
    "    cv_name,\n",
    "    cv_fig_label,\n",
    "    bandwidth,\n",
    "    f_max,\n",
    "    save_npy,\n",
    "    save_fig,\n",
    "    save_extent,\n",
    ")"
   ]
  },
  {
   "cell_type": "markdown",
   "id": "0dec657d-cb58-47c3-8364-f59fd276159d",
   "metadata": {
    "tags": []
   },
   "source": [
    "## Path vs E71 angle PROD"
   ]
  },
  {
   "cell_type": "code",
   "execution_count": null,
   "id": "c43a6c5a-8aac-4c09-a591-e7ca807c9f31",
   "metadata": {},
   "outputs": [],
   "source": [
    "cv_name = \"is_E71_horizontal_D\"\n",
    "cv_fig_label = \"E71 angle (deg)\"\n",
    "other_cv = np.load(f\"{path_interim}/{cv_name}.npy\")[:, :]\n",
    "other_cv = other_cv.reshape([other_cv.shape[0] // 2, 2, 1])\n",
    "f_max = 25\n",
    "bandwidth = 0.05\n",
    "save_npy = f\"{path_processed}FES_{cv_name}_path.npy\"\n",
    "save_fig = path_report + f\"FES_{cv_name}.png\"\n",
    "save_extent = f\"{path_processed}/extent_{cv_name}_path.npy\"\n",
    "spc.plot_path_vs_cv_FES(\n",
    "    s_path,\n",
    "    other_cv,\n",
    "    weights,\n",
    "    cv_name,\n",
    "    cv_fig_label,\n",
    "    bandwidth,\n",
    "    f_max,\n",
    "    save_npy,\n",
    "    save_fig,\n",
    "    save_extent,\n",
    ")"
   ]
  },
  {
   "cell_type": "markdown",
   "id": "21648668-2647-4817-a288-8909b446ba54",
   "metadata": {
    "tags": []
   },
   "source": [
    "## Path vs W67-D80"
   ]
  },
  {
   "cell_type": "markdown",
   "id": "70eb1ed7-db89-44cb-92b0-3148eff5040b",
   "metadata": {},
   "source": [
    "### Mean"
   ]
  },
  {
   "cell_type": "code",
   "execution_count": null,
   "id": "622960d6-3c8a-4c85-8e62-9ac30584b3e6",
   "metadata": {
    "tags": []
   },
   "outputs": [],
   "source": [
    "cv_name = \"dis_W67-D80\"\n",
    "cv_fig_label = \"W67-D80 (nm)\"\n",
    "other_cv = np.load(f\"{path_interim}/{cv_name}.npy\")[:, :]\n",
    "other_cv = np.mean(other_cv, axis=1, keepdims=True)\n",
    "other_cv = other_cv.reshape([other_cv.shape[0] // 2, 2, 1])\n",
    "f_max = 25\n",
    "bandwidth = 0.05\n",
    "save_npy = f\"{path_processed}FES_{cv_name}_path.npy\"\n",
    "save_fig = path_report + f\"FES_{cv_name}.png\"\n",
    "save_extent = f\"{path_processed}/extent_{cv_name}_path.npy\"\n",
    "spc.plot_path_vs_cv_FES(\n",
    "    s_path,\n",
    "    other_cv,\n",
    "    weights,\n",
    "    cv_name,\n",
    "    cv_fig_label,\n",
    "    bandwidth,\n",
    "    f_max,\n",
    "    save_npy,\n",
    "    save_fig,\n",
    "    save_extent,\n",
    ")"
   ]
  },
  {
   "cell_type": "markdown",
   "id": "9185fd52-b324-428d-b129-8e2be5cc7969",
   "metadata": {},
   "source": [
    "### 0th SU"
   ]
  },
  {
   "cell_type": "code",
   "execution_count": null,
   "id": "8db013c7-2679-439a-9068-753fdddac72a",
   "metadata": {},
   "outputs": [],
   "source": [
    "cv_name = \"dis_W67-D80\"\n",
    "n_su = 0\n",
    "cv_fig_label = f\"W67-D80 {n_su}th SU (nm)\"\n",
    "other_cv = np.load(f\"{path_interim}/{cv_name}.npy\")[:, :]\n",
    "other_cv = other_cv[:, n_su : n_su + 1]\n",
    "other_cv = other_cv.reshape([other_cv.shape[0] // 2, 2, 1])\n",
    "f_max = 25\n",
    "bandwidth = 0.05\n",
    "save_npy = f\"{path_processed}FES_{cv_name}_path_{n_su}.npy\"\n",
    "save_fig = path_report + f\"FES_{cv_name}_{n_su}.png\"\n",
    "save_extent = f\"{path_processed}/extent_{cv_name}_path.npy\"\n",
    "spc.plot_path_vs_cv_FES(\n",
    "    s_path,\n",
    "    other_cv,\n",
    "    weights,\n",
    "    cv_name,\n",
    "    cv_fig_label,\n",
    "    bandwidth,\n",
    "    f_max,\n",
    "    save_npy,\n",
    "    save_fig,\n",
    "    save_extent,\n",
    ")"
   ]
  },
  {
   "cell_type": "markdown",
   "id": "6525ccb8-50fc-488e-8007-63ee26f11930",
   "metadata": {
    "tags": []
   },
   "source": [
    "### 1th SU"
   ]
  },
  {
   "cell_type": "code",
   "execution_count": null,
   "id": "ea700397-310e-431e-8922-c4199d6125cf",
   "metadata": {},
   "outputs": [],
   "source": [
    "cv_name = \"dis_W67-D80\"\n",
    "n_su = 1\n",
    "cv_fig_label = f\"W67-D80 {n_su}th SU (nm)\"\n",
    "other_cv = np.load(f\"{path_interim}/{cv_name}.npy\")[:, :]\n",
    "other_cv = other_cv[:, n_su : n_su + 1]\n",
    "other_cv = other_cv.reshape([other_cv.shape[0] // 2, 2, 1])\n",
    "f_max = 25\n",
    "bandwidth = 0.05\n",
    "save_npy = f\"{path_processed}FES_{cv_name}_path_{n_su}.npy\"\n",
    "save_fig = path_report + f\"FES_{cv_name}_{n_su}.png\"\n",
    "save_extent = f\"{path_processed}/extent_{cv_name}_path.npy\"\n",
    "spc.plot_path_vs_cv_FES(\n",
    "    s_path,\n",
    "    other_cv,\n",
    "    weights,\n",
    "    cv_name,\n",
    "    cv_fig_label,\n",
    "    bandwidth,\n",
    "    f_max,\n",
    "    save_npy,\n",
    "    save_fig,\n",
    "    save_extent,\n",
    ")"
   ]
  },
  {
   "cell_type": "markdown",
   "id": "5b7693b2-5d13-4d4d-972a-e144cda33856",
   "metadata": {
    "tags": []
   },
   "source": [
    "### 2th SU"
   ]
  },
  {
   "cell_type": "code",
   "execution_count": null,
   "id": "c422510d-2c04-4800-8beb-3c8fc4b1e132",
   "metadata": {},
   "outputs": [],
   "source": [
    "cv_name = \"dis_W67-D80\"\n",
    "n_su = 2\n",
    "cv_fig_label = f\"W67-D80 {n_su}th SU (nm)\"\n",
    "other_cv = np.load(f\"{path_interim}/{cv_name}.npy\")[:, :]\n",
    "other_cv = other_cv[:, n_su : n_su + 1]\n",
    "other_cv = other_cv.reshape([other_cv.shape[0] // 2, 2, 1])\n",
    "f_max = 25\n",
    "bandwidth = 0.05\n",
    "save_npy = f\"{path_processed}FES_{cv_name}_path_{n_su}.npy\"\n",
    "save_fig = path_report + f\"FES_{cv_name}_{n_su}.png\"\n",
    "save_extent = f\"{path_processed}/extent_{cv_name}_path.npy\"\n",
    "spc.plot_path_vs_cv_FES(\n",
    "    s_path,\n",
    "    other_cv,\n",
    "    weights,\n",
    "    cv_name,\n",
    "    cv_fig_label,\n",
    "    bandwidth,\n",
    "    f_max,\n",
    "    save_npy,\n",
    "    save_fig,\n",
    "    save_extent,\n",
    ")"
   ]
  },
  {
   "cell_type": "markdown",
   "id": "e59e7ada-8238-4f77-b42d-1a20b9c4627c",
   "metadata": {
    "tags": []
   },
   "source": [
    "### 3th SU"
   ]
  },
  {
   "cell_type": "code",
   "execution_count": null,
   "id": "0847f668-ad2e-48bb-b616-e72a022412c0",
   "metadata": {},
   "outputs": [],
   "source": [
    "cv_name = \"dis_W67-D80\"\n",
    "n_su = 3\n",
    "cv_fig_label = f\"W67-D80 {n_su}th SU (nm)\"\n",
    "other_cv = np.load(f\"{path_interim}/{cv_name}.npy\")[:, :]\n",
    "other_cv = other_cv[:, n_su : n_su + 1]\n",
    "other_cv = other_cv.reshape([other_cv.shape[0] // 2, 2, 1])\n",
    "f_max = 25\n",
    "bandwidth = 0.05\n",
    "save_npy = f\"{path_processed}FES_{cv_name}_path_{n_su}.npy\"\n",
    "save_fig = path_report + f\"FES_{cv_name}_{n_su}.png\"\n",
    "save_extent = f\"{path_processed}/extent_{cv_name}_path.npy\"\n",
    "spc.plot_path_vs_cv_FES(\n",
    "    s_path,\n",
    "    other_cv,\n",
    "    weights,\n",
    "    cv_name,\n",
    "    cv_fig_label,\n",
    "    bandwidth,\n",
    "    f_max,\n",
    "    save_npy,\n",
    "    save_fig,\n",
    "    save_extent,\n",
    ")"
   ]
  },
  {
   "cell_type": "markdown",
   "id": "edecd3f0-b1f3-4ac6-b064-503aa9489990",
   "metadata": {
    "tags": []
   },
   "source": [
    "## Path vs E71-D80"
   ]
  },
  {
   "cell_type": "markdown",
   "id": "a45aef61-647b-489e-b79c-bc42390e62b9",
   "metadata": {},
   "source": [
    "### Mean"
   ]
  },
  {
   "cell_type": "code",
   "execution_count": null,
   "id": "d60f512b-fa9e-4c12-b15a-02abf57adbe4",
   "metadata": {},
   "outputs": [],
   "source": [
    "cv_name = \"dis_E71-D80\"\n",
    "cv_fig_label = \"E71-D80 (nm)\"\n",
    "other_cv = np.load(f\"{path_interim}/{cv_name}.npy\")[:, :]\n",
    "other_cv = np.mean(other_cv, axis=1, keepdims=True)\n",
    "other_cv = other_cv.reshape([other_cv.shape[0] // 2, 2, 1])\n",
    "f_max = 25\n",
    "bandwidth = 0.05\n",
    "save_npy = f\"{path_processed}FES_{cv_name}_path.npy\"\n",
    "save_fig = path_report + f\"FES_{cv_name}.png\"\n",
    "save_extent = f\"{path_processed}/extent_{cv_name}_path.npy\"\n",
    "spc.plot_path_vs_cv_FES(\n",
    "    s_path,\n",
    "    other_cv,\n",
    "    weights,\n",
    "    cv_name,\n",
    "    cv_fig_label,\n",
    "    bandwidth,\n",
    "    f_max,\n",
    "    save_npy,\n",
    "    save_fig,\n",
    "    save_extent,\n",
    ")"
   ]
  },
  {
   "cell_type": "markdown",
   "id": "821a7a07-c21d-4bab-8dc8-869fab01b6b9",
   "metadata": {},
   "source": [
    "### 0th SU"
   ]
  },
  {
   "cell_type": "code",
   "execution_count": null,
   "id": "753a0140-2f0e-4562-b8ac-8e93f88f41c2",
   "metadata": {},
   "outputs": [],
   "source": [
    "cv_name = \"dis_E71-D80\"\n",
    "n_su = 0\n",
    "cv_fig_label = f\"E71-D80 {n_su}th SU (nm)\"\n",
    "other_cv = np.load(f\"{path_interim}/{cv_name}.npy\")[:, :]\n",
    "other_cv = other_cv[:, n_su : n_su + 1]\n",
    "other_cv = other_cv.reshape([other_cv.shape[0] // 2, 2, 1])\n",
    "f_max = 35\n",
    "bandwidth = 0.05\n",
    "save_npy = f\"{path_processed}FES_{cv_name}_path_{n_su}.npy\"\n",
    "save_fig = path_report + f\"FES_{cv_name}_{n_su}.png\"\n",
    "save_extent = f\"{path_processed}/extent_{cv_name}_path.npy\"\n",
    "spc.plot_path_vs_cv_FES(\n",
    "    s_path,\n",
    "    other_cv,\n",
    "    weights,\n",
    "    cv_name,\n",
    "    cv_fig_label,\n",
    "    bandwidth,\n",
    "    f_max,\n",
    "    save_npy,\n",
    "    save_fig,\n",
    "    save_extent,\n",
    ")"
   ]
  },
  {
   "cell_type": "markdown",
   "id": "362a6302-04f1-4f93-9b69-efccef9691fb",
   "metadata": {
    "tags": []
   },
   "source": [
    "### 1th SU"
   ]
  },
  {
   "cell_type": "code",
   "execution_count": null,
   "id": "85b03688-89b2-438d-9363-1eb7483a0489",
   "metadata": {},
   "outputs": [],
   "source": [
    "cv_name = \"dis_E71-D80\"\n",
    "n_su = 1\n",
    "cv_fig_label = f\"E71-D80 {n_su}th SU (nm)\"\n",
    "other_cv = np.load(f\"{path_interim}/{cv_name}.npy\")[:, :]\n",
    "other_cv = other_cv[:, n_su : n_su + 1]\n",
    "other_cv = other_cv.reshape([other_cv.shape[0] // 2, 2, 1])\n",
    "f_max = 35\n",
    "bandwidth = 0.05\n",
    "save_npy = f\"{path_processed}FES_{cv_name}_path_{n_su}.npy\"\n",
    "save_fig = path_report + f\"FES_{cv_name}_{n_su}.png\"\n",
    "save_extent = f\"{path_processed}/extent_{cv_name}_path.npy\"\n",
    "spc.plot_path_vs_cv_FES(\n",
    "    s_path,\n",
    "    other_cv,\n",
    "    weights,\n",
    "    cv_name,\n",
    "    cv_fig_label,\n",
    "    bandwidth,\n",
    "    f_max,\n",
    "    save_npy,\n",
    "    save_fig,\n",
    "    save_extent,\n",
    ")"
   ]
  },
  {
   "cell_type": "markdown",
   "id": "d84324fc-200b-4cf6-b281-ec2a1bca28b2",
   "metadata": {
    "tags": []
   },
   "source": [
    "### 2th SU"
   ]
  },
  {
   "cell_type": "code",
   "execution_count": null,
   "id": "c04d85d0-1a36-4af6-9957-ca7f186f170e",
   "metadata": {},
   "outputs": [],
   "source": [
    "cv_name = \"dis_E71-D80\"\n",
    "n_su = 2\n",
    "cv_fig_label = f\"E71-D80 {n_su}th SU (nm)\"\n",
    "other_cv = np.load(f\"{path_interim}/{cv_name}.npy\")[:, :]\n",
    "other_cv = other_cv[:, n_su : n_su + 1]\n",
    "other_cv = other_cv.reshape([other_cv.shape[0] // 2, 2, 1])\n",
    "f_max = 35\n",
    "bandwidth = 0.05\n",
    "save_npy = f\"{path_processed}FES_{cv_name}_path_{n_su}.npy\"\n",
    "save_fig = path_report + f\"FES_{cv_name}_{n_su}.png\"\n",
    "save_extent = f\"{path_processed}/extent_{cv_name}_path.npy\"\n",
    "spc.plot_path_vs_cv_FES(\n",
    "    s_path,\n",
    "    other_cv,\n",
    "    weights,\n",
    "    cv_name,\n",
    "    cv_fig_label,\n",
    "    bandwidth,\n",
    "    f_max,\n",
    "    save_npy,\n",
    "    save_fig,\n",
    "    save_extent,\n",
    ")"
   ]
  },
  {
   "cell_type": "markdown",
   "id": "7e871b25-ec68-4296-80ce-52c3b086e047",
   "metadata": {
    "tags": []
   },
   "source": [
    "### 3th SU"
   ]
  },
  {
   "cell_type": "code",
   "execution_count": null,
   "id": "ece2fc46-1975-4450-8012-518ec0c2d83b",
   "metadata": {},
   "outputs": [],
   "source": [
    "cv_name = \"dis_E71-D80\"\n",
    "n_su = 3\n",
    "cv_fig_label = f\"E71-D80 {n_su}th SU (nm)\"\n",
    "other_cv = np.load(f\"{path_interim}/{cv_name}.npy\")[:, :]\n",
    "other_cv = other_cv[:, n_su : n_su + 1]\n",
    "other_cv = other_cv.reshape([other_cv.shape[0] // 2, 2, 1])\n",
    "f_max = 25\n",
    "bandwidth = 0.05\n",
    "save_npy = f\"{path_processed}FES_{cv_name}_path_{n_su}.npy\"\n",
    "save_fig = path_report + f\"FES_{cv_name}_{n_su}.png\"\n",
    "save_extent = f\"{path_processed}/extent_{cv_name}_path.npy\"\n",
    "spc.plot_path_vs_cv_FES(\n",
    "    s_path,\n",
    "    other_cv,\n",
    "    weights,\n",
    "    cv_name,\n",
    "    cv_fig_label,\n",
    "    bandwidth,\n",
    "    f_max,\n",
    "    save_npy,\n",
    "    save_fig,\n",
    "    save_extent,\n",
    ")"
   ]
  },
  {
   "cell_type": "markdown",
   "id": "5daf9f66-9671-45b5-bb82-1e9c5b46c73b",
   "metadata": {
    "tags": []
   },
   "source": [
    "## Path vs R89-D80"
   ]
  },
  {
   "cell_type": "markdown",
   "id": "96a1c872-1fce-4ea0-bd3a-63807553e160",
   "metadata": {},
   "source": [
    "### Mean"
   ]
  },
  {
   "cell_type": "code",
   "execution_count": null,
   "id": "2c3761f0-1e90-46cf-b5fb-5e7ad3f290e4",
   "metadata": {},
   "outputs": [],
   "source": [
    "cv_name = \"dis_R89-D80\"\n",
    "cv_fig_label = \"R89-D80 (nm)\"\n",
    "other_cv = np.load(f\"{path_interim}/{cv_name}.npy\")[:, :]\n",
    "other_cv = np.mean(other_cv, axis=1, keepdims=True)\n",
    "other_cv = other_cv.reshape([other_cv.shape[0] // 2, 2, 1])\n",
    "f_max = 25\n",
    "bandwidth = 0.05\n",
    "save_npy = f\"{path_processed}FES_{cv_name}_path.npy\"\n",
    "save_fig = path_report + f\"FES_{cv_name}.png\"\n",
    "save_extent = f\"{path_processed}/extent_{cv_name}_path.npy\"\n",
    "spc.plot_path_vs_cv_FES(\n",
    "    s_path,\n",
    "    other_cv,\n",
    "    weights,\n",
    "    cv_name,\n",
    "    cv_fig_label,\n",
    "    bandwidth,\n",
    "    f_max,\n",
    "    save_npy,\n",
    "    save_fig,\n",
    "    save_extent,\n",
    ")"
   ]
  },
  {
   "cell_type": "markdown",
   "id": "6ad9f148-6977-476f-a39e-e0adf32f0800",
   "metadata": {
    "tags": []
   },
   "source": [
    "## Path vs G79-Y82"
   ]
  },
  {
   "cell_type": "markdown",
   "id": "5b1894e0-d4c2-41c3-9de1-651fbe3112d5",
   "metadata": {},
   "source": [
    "### Mean"
   ]
  },
  {
   "cell_type": "code",
   "execution_count": null,
   "id": "7cbac245-44d9-4620-8cad-62a1fd37b929",
   "metadata": {},
   "outputs": [],
   "source": [
    "cv_name = \"dis_G79-Y82\"\n",
    "cv_fig_label = \"G79-Y82 (nm)\"\n",
    "other_cv = np.load(f\"{path_interim}/{cv_name}.npy\")[:, :]\n",
    "other_cv = np.mean(other_cv, axis=1, keepdims=True)\n",
    "other_cv = other_cv.reshape([other_cv.shape[0] // 2, 2, 1])\n",
    "f_max = 25\n",
    "bandwidth = 0.05\n",
    "save_npy = f\"{path_processed}FES_{cv_name}_path.npy\"\n",
    "save_fig = path_report + f\"FES_{cv_name}.png\"\n",
    "save_extent = f\"{path_processed}/extent_{cv_name}_path.npy\"\n",
    "spc.plot_path_vs_cv_FES(\n",
    "    s_path,\n",
    "    other_cv,\n",
    "    weights,\n",
    "    cv_name,\n",
    "    cv_fig_label,\n",
    "    bandwidth,\n",
    "    f_max,\n",
    "    save_npy,\n",
    "    save_fig,\n",
    "    save_extent,\n",
    ")"
   ]
  },
  {
   "cell_type": "markdown",
   "id": "cd4a24cf-6e3c-44c6-90d7-ae545f43f889",
   "metadata": {},
   "source": [
    "### 0th SU"
   ]
  },
  {
   "cell_type": "code",
   "execution_count": null,
   "id": "ab303045-5aff-46af-a47f-1b70282d9dd8",
   "metadata": {},
   "outputs": [],
   "source": [
    "cv_name = \"dis_G79-Y82\"\n",
    "n_su = 0\n",
    "cv_fig_label = f\"G79-Y82 {n_su}th SU (nm)\"\n",
    "other_cv = np.load(f\"{path_interim}/{cv_name}.npy\")[:, :]\n",
    "other_cv = other_cv[:, n_su : n_su + 1]\n",
    "other_cv = other_cv.reshape([other_cv.shape[0] // 2, 2, 1])\n",
    "f_max = 25\n",
    "bandwidth = 0.05\n",
    "save_npy = f\"{path_processed}FES_{cv_name}_path_{n_su}.npy\"\n",
    "save_fig = path_report + f\"FES_{cv_name}_{n_su}.png\"\n",
    "save_extent = f\"{path_processed}/extent_{cv_name}_path.npy\"\n",
    "spc.plot_path_vs_cv_FES(\n",
    "    s_path,\n",
    "    other_cv,\n",
    "    weights,\n",
    "    cv_name,\n",
    "    cv_fig_label,\n",
    "    bandwidth,\n",
    "    f_max,\n",
    "    save_npy,\n",
    "    save_fig,\n",
    "    save_extent,\n",
    ")"
   ]
  },
  {
   "cell_type": "markdown",
   "id": "36aa25c3-8e57-4991-af73-ceb091d27858",
   "metadata": {
    "tags": []
   },
   "source": [
    "### 1th SU"
   ]
  },
  {
   "cell_type": "code",
   "execution_count": null,
   "id": "7c74ef28-031a-4337-9d4b-abe8e870af40",
   "metadata": {},
   "outputs": [],
   "source": [
    "cv_name = \"dis_G79-Y82\"\n",
    "n_su = 1\n",
    "cv_fig_label = f\"G79-Y82 {n_su}th SU (nm)\"\n",
    "other_cv = np.load(f\"{path_interim}/{cv_name}.npy\")[:, :]\n",
    "other_cv = other_cv[:, n_su : n_su + 1]\n",
    "other_cv = other_cv.reshape([other_cv.shape[0] // 2, 2, 1])\n",
    "f_max = 25\n",
    "bandwidth = 0.05\n",
    "save_npy = f\"{path_processed}FES_{cv_name}_path_{n_su}.npy\"\n",
    "save_fig = path_report + f\"FES_{cv_name}_{n_su}.png\"\n",
    "save_extent = f\"{path_processed}/extent_{cv_name}_path.npy\"\n",
    "spc.plot_path_vs_cv_FES(\n",
    "    s_path,\n",
    "    other_cv,\n",
    "    weights,\n",
    "    cv_name,\n",
    "    cv_fig_label,\n",
    "    bandwidth,\n",
    "    f_max,\n",
    "    save_npy,\n",
    "    save_fig,\n",
    "    save_extent,\n",
    ")"
   ]
  },
  {
   "cell_type": "markdown",
   "id": "5161b33d-4aa0-4a04-8ab7-6c997391c415",
   "metadata": {
    "tags": []
   },
   "source": [
    "### 2th SU"
   ]
  },
  {
   "cell_type": "code",
   "execution_count": null,
   "id": "343b4ce8-aff6-456a-becd-9a47ef4878a7",
   "metadata": {},
   "outputs": [],
   "source": [
    "cv_name = \"dis_G79-Y82\"\n",
    "n_su = 2\n",
    "cv_fig_label = f\"G79-Y82 {n_su}th SU (nm)\"\n",
    "other_cv = np.load(f\"{path_interim}/{cv_name}.npy\")[:, :]\n",
    "other_cv = other_cv[:, n_su : n_su + 1]\n",
    "other_cv = other_cv.reshape([other_cv.shape[0] // 2, 2, 1])\n",
    "f_max = 25\n",
    "bandwidth = 0.05\n",
    "save_npy = f\"{path_processed}FES_{cv_name}_path_{n_su}.npy\"\n",
    "save_fig = path_report + f\"FES_{cv_name}_{n_su}.png\"\n",
    "save_extent = f\"{path_processed}/extent_{cv_name}_path.npy\"\n",
    "spc.plot_path_vs_cv_FES(\n",
    "    s_path,\n",
    "    other_cv,\n",
    "    weights,\n",
    "    cv_name,\n",
    "    cv_fig_label,\n",
    "    bandwidth,\n",
    "    f_max,\n",
    "    save_npy,\n",
    "    save_fig,\n",
    "    save_extent,\n",
    ")"
   ]
  },
  {
   "cell_type": "markdown",
   "id": "f56a0db0-2824-4a51-a0b9-f4a456b28528",
   "metadata": {
    "tags": []
   },
   "source": [
    "### 3th SU"
   ]
  },
  {
   "cell_type": "code",
   "execution_count": null,
   "id": "5d1a4e28-6d34-4d50-8959-51c7bf19d034",
   "metadata": {},
   "outputs": [],
   "source": [
    "cv_name = \"dis_G79-Y82\"\n",
    "n_su = 3\n",
    "cv_fig_label = f\"G79-Y82 {n_su}th SU (nm)\"\n",
    "other_cv = np.load(f\"{path_interim}/{cv_name}.npy\")[:, :]\n",
    "other_cv = other_cv[:, n_su : n_su + 1]\n",
    "other_cv = other_cv.reshape([other_cv.shape[0] // 2, 2, 1])\n",
    "f_max = 25\n",
    "bandwidth = 0.05\n",
    "save_npy = f\"{path_processed}FES_{cv_name}_path_{n_su}.npy\"\n",
    "save_fig = path_report + f\"FES_{cv_name}_{n_su}.png\"\n",
    "save_extent = f\"{path_processed}/extent_{cv_name}_path.npy\"\n",
    "spc.plot_path_vs_cv_FES(\n",
    "    s_path,\n",
    "    other_cv,\n",
    "    weights,\n",
    "    cv_name,\n",
    "    cv_fig_label,\n",
    "    bandwidth,\n",
    "    f_max,\n",
    "    save_npy,\n",
    "    save_fig,\n",
    "    save_extent,\n",
    ")"
   ]
  },
  {
   "cell_type": "markdown",
   "id": "aa2ae104-bda5-4d5c-bd48-61564cb134ac",
   "metadata": {
    "tags": []
   },
   "source": [
    "## Path vs R64-D80"
   ]
  },
  {
   "cell_type": "markdown",
   "id": "4851259a-3011-433b-ad43-dcdfbe85d0c7",
   "metadata": {},
   "source": [
    "### Mean"
   ]
  },
  {
   "cell_type": "code",
   "execution_count": null,
   "id": "f0e0c5aa-1f5c-487b-b6d0-f7ed8534b209",
   "metadata": {},
   "outputs": [],
   "source": [
    "cv_name = \"dis_R64-D80\"\n",
    "cv_fig_label = \"R64-D80 (nm)\"\n",
    "other_cv = np.load(f\"{path_interim}/{cv_name}.npy\")[:, :]\n",
    "other_cv = np.mean(other_cv, axis=1, keepdims=True)\n",
    "other_cv = other_cv.reshape([other_cv.shape[0] // 2, 2, 1])\n",
    "f_max = 25\n",
    "bandwidth = 0.05\n",
    "save_npy = f\"{path_processed}FES_{cv_name}_path.npy\"\n",
    "save_fig = path_report + f\"FES_{cv_name}.png\"\n",
    "save_extent = f\"{path_processed}/extent_{cv_name}_path.npy\"\n",
    "spc.plot_path_vs_cv_FES(\n",
    "    s_path,\n",
    "    other_cv,\n",
    "    weights,\n",
    "    cv_name,\n",
    "    cv_fig_label,\n",
    "    bandwidth,\n",
    "    f_max,\n",
    "    save_npy,\n",
    "    save_fig,\n",
    "    save_extent,\n",
    ")"
   ]
  },
  {
   "cell_type": "markdown",
   "id": "cf38f9f4-8376-4d11-8ccf-db46ef7fb8f2",
   "metadata": {},
   "source": [
    "### 0th SU"
   ]
  },
  {
   "cell_type": "code",
   "execution_count": null,
   "id": "560de735-e0dd-4460-8e80-62d5c17cb231",
   "metadata": {},
   "outputs": [],
   "source": [
    "cv_name = \"dis_R64-D80\"\n",
    "n_su = 0\n",
    "cv_fig_label = f\"R64-D80 {n_su}th SU (nm)\"\n",
    "other_cv = np.load(f\"{path_interim}/{cv_name}.npy\")[:, :]\n",
    "other_cv = other_cv[:, n_su : n_su + 1]\n",
    "other_cv = other_cv.reshape([other_cv.shape[0] // 2, 2, 1])\n",
    "f_max = 25\n",
    "bandwidth = 0.05\n",
    "save_npy = f\"{path_processed}FES_{cv_name}_path_{n_su}.npy\"\n",
    "save_fig = path_report + f\"FES_{cv_name}_{n_su}.png\"\n",
    "save_extent = f\"{path_processed}/extent_{cv_name}_path.npy\"\n",
    "spc.plot_path_vs_cv_FES(\n",
    "    s_path,\n",
    "    other_cv,\n",
    "    weights,\n",
    "    cv_name,\n",
    "    cv_fig_label,\n",
    "    bandwidth,\n",
    "    f_max,\n",
    "    save_npy,\n",
    "    save_fig,\n",
    "    save_extent,\n",
    ")"
   ]
  },
  {
   "cell_type": "markdown",
   "id": "fdb9c889-b0b6-4bc7-b5d5-513877a58c6e",
   "metadata": {
    "tags": []
   },
   "source": [
    "### 1th SU"
   ]
  },
  {
   "cell_type": "code",
   "execution_count": null,
   "id": "2fd0f0e6-0113-47e7-ba45-98289414e7b1",
   "metadata": {},
   "outputs": [],
   "source": [
    "cv_name = \"dis_R64-D80\"\n",
    "n_su = 1\n",
    "cv_fig_label = f\"R64-D80 {n_su}th SU (nm)\"\n",
    "other_cv = np.load(f\"{path_interim}/{cv_name}.npy\")[:, :]\n",
    "other_cv = other_cv[:, n_su : n_su + 1]\n",
    "other_cv = other_cv.reshape([other_cv.shape[0] // 2, 2, 1])\n",
    "f_max = 25\n",
    "bandwidth = 0.05\n",
    "save_npy = f\"{path_processed}FES_{cv_name}_path_{n_su}.npy\"\n",
    "save_fig = path_report + f\"FES_{cv_name}_{n_su}.png\"\n",
    "save_extent = f\"{path_processed}/extent_{cv_name}_path.npy\"\n",
    "spc.plot_path_vs_cv_FES(\n",
    "    s_path,\n",
    "    other_cv,\n",
    "    weights,\n",
    "    cv_name,\n",
    "    cv_fig_label,\n",
    "    bandwidth,\n",
    "    f_max,\n",
    "    save_npy,\n",
    "    save_fig,\n",
    "    save_extent,\n",
    ")"
   ]
  },
  {
   "cell_type": "markdown",
   "id": "8d79be28-d901-4ec2-ae99-06af69288e89",
   "metadata": {
    "tags": []
   },
   "source": [
    "### 2th SU"
   ]
  },
  {
   "cell_type": "code",
   "execution_count": null,
   "id": "f34cb224-dcda-4730-ba41-8f2a057e5a00",
   "metadata": {},
   "outputs": [],
   "source": [
    "cv_name = \"dis_R64-D80\"\n",
    "n_su = 2\n",
    "cv_fig_label = f\"R64-D80 {n_su}th SU (nm)\"\n",
    "other_cv = np.load(f\"{path_interim}/{cv_name}.npy\")[:, :]\n",
    "other_cv = other_cv[:, n_su : n_su + 1]\n",
    "other_cv = other_cv.reshape([other_cv.shape[0] // 2, 2, 1])\n",
    "f_max = 25\n",
    "bandwidth = 0.05\n",
    "save_npy = f\"{path_processed}FES_{cv_name}_path_{n_su}.npy\"\n",
    "save_fig = path_report + f\"FES_{cv_name}_{n_su}.png\"\n",
    "save_extent = f\"{path_processed}/extent_{cv_name}_path.npy\"\n",
    "spc.plot_path_vs_cv_FES(\n",
    "    s_path,\n",
    "    other_cv,\n",
    "    weights,\n",
    "    cv_name,\n",
    "    cv_fig_label,\n",
    "    bandwidth,\n",
    "    f_max,\n",
    "    save_npy,\n",
    "    save_fig,\n",
    "    save_extent,\n",
    ")"
   ]
  },
  {
   "cell_type": "markdown",
   "id": "760e39a2-91f4-4552-be94-e039db407002",
   "metadata": {
    "tags": []
   },
   "source": [
    "### 3th SU"
   ]
  },
  {
   "cell_type": "code",
   "execution_count": null,
   "id": "e0135aca-af95-43e0-b765-722a86c3d73c",
   "metadata": {},
   "outputs": [],
   "source": [
    "cv_name = \"dis_R64-D80\"\n",
    "n_su = 3\n",
    "cv_fig_label = f\"R64-D80 {n_su}th SU (nm)\"\n",
    "other_cv = np.load(f\"{path_interim}/{cv_name}.npy\")[:, :]\n",
    "other_cv = other_cv[:, n_su : n_su + 1]\n",
    "other_cv = other_cv.reshape([other_cv.shape[0] // 2, 2, 1])\n",
    "f_max = 25\n",
    "bandwidth = 0.05\n",
    "save_npy = f\"{path_processed}FES_{cv_name}_path_{n_su}.npy\"\n",
    "save_fig = path_report + f\"FES_{cv_name}_{n_su}.png\"\n",
    "save_extent = f\"{path_processed}/extent_{cv_name}_path.npy\"\n",
    "spc.plot_path_vs_cv_FES(\n",
    "    s_path,\n",
    "    other_cv,\n",
    "    weights,\n",
    "    cv_name,\n",
    "    cv_fig_label,\n",
    "    bandwidth,\n",
    "    f_max,\n",
    "    save_npy,\n",
    "    save_fig,\n",
    "    save_extent,\n",
    ")"
   ]
  },
  {
   "cell_type": "code",
   "execution_count": null,
   "id": "e52a0f1d-7fa4-4ea2-b417-64744536c0cb",
   "metadata": {},
   "outputs": [],
   "source": []
  }
 ],
 "metadata": {
  "kernelspec": {
   "display_name": "string_sims",
   "language": "python",
   "name": "string_sims"
  },
  "language_info": {
   "codemirror_mode": {
    "name": "ipython",
    "version": 3
   },
   "file_extension": ".py",
   "mimetype": "text/x-python",
   "name": "python",
   "nbconvert_exporter": "python",
   "pygments_lexer": "ipython3",
   "version": "3.8.5"
  }
 },
 "nbformat": 4,
 "nbformat_minor": 5
}
