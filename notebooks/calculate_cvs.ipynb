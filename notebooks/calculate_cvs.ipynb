{
 "cells": [
  {
   "cell_type": "code",
   "execution_count": null,
   "id": "87034248-066e-45c1-a5c0-33f584683dd4",
   "metadata": {
    "tags": []
   },
   "outputs": [],
   "source": [
    "import os\n",
    "import sys\n",
    "import numpy as np\n",
    "import glob\n",
    "import pickle\n",
    "import matplotlib.pyplot as plt\n",
    "import src.analysis as spc\n",
    "import MDAnalysis as mda\n",
    "from nglview import show_mdanalysis as nglview\n",
    "import logging\n",
    "\n",
    "logging.getLogger(\"MDAnalysis\").setLevel(logging.ERROR)"
   ]
  },
  {
   "cell_type": "code",
   "execution_count": null,
   "id": "966f74bd-bb91-4e22-9e8c-91a0d58c10b9",
   "metadata": {
    "tags": []
   },
   "outputs": [],
   "source": [
    "%load_ext lab_black\n",
    "#%load_ext autoreload\n",
    "#%autoreload 2"
   ]
  },
  {
   "cell_type": "code",
   "execution_count": null,
   "id": "da822fda-00c9-481e-9514-a2b1a666f2d5",
   "metadata": {
    "tags": []
   },
   "outputs": [],
   "source": [
    "name_sim = \"C2I_lb_v1/\"\n",
    "path_processed = f\"/nethome/sperez/Projects/string_sims/data/processed/{name_sim}\"\n",
    "path_interim = f\"/nethome/sperez/Projects/string_sims/data/interim/{name_sim}\"\n",
    "path_raw = f\"/nethome/sperez/Projects/string_sims/data/raw/{name_sim}\"\n",
    "path_report = f\"/nethome/sperez/Projects/string_sims/reports/figures/{name_sim}\"\n",
    "path_topology = f\"{path_raw}/topology/charmm_final.pdb\""
   ]
  },
  {
   "cell_type": "markdown",
   "id": "15c35d7c-bae1-4198-a3c9-3bdc6e534685",
   "metadata": {
    "tags": []
   },
   "source": [
    "# Calculate Stuff"
   ]
  },
  {
   "cell_type": "markdown",
   "id": "591cae4a-886c-4204-a3a7-73d3f256a8d6",
   "metadata": {
    "tags": []
   },
   "source": [
    "## Roux CVs\n",
    "### Chi1 I100"
   ]
  },
  {
   "cell_type": "code",
   "execution_count": null,
   "id": "1d4b3820-2afa-4cd5-bbe1-7b07bbfc573d",
   "metadata": {
    "tags": []
   },
   "outputs": [],
   "source": [
    "%%time\n",
    "name_cv = \"chi1_I100\"\n",
    "mda_sel_txt = \"resid 100\"\n",
    "mda_object = spc.janin_chi1_av\n",
    "data = spc.loop_over_iter(path_raw, path_topology, mda_object, start=100,  n_jobs=4, mda_sel_txt=mda_sel_txt)\n",
    "np.save(f\"{path_interim}/{name_cv}.npy\", data)"
   ]
  },
  {
   "cell_type": "markdown",
   "id": "a9d95a31-9e61-4540-8a2a-359b65fdce4e",
   "metadata": {
    "tags": []
   },
   "source": [
    "### Chi1 F103"
   ]
  },
  {
   "cell_type": "code",
   "execution_count": null,
   "id": "18f7ee20-a018-494d-89fc-d47342312402",
   "metadata": {
    "tags": []
   },
   "outputs": [],
   "source": [
    "%%time\n",
    "name_cv = \"chi1_F103\"\n",
    "mda_sel_txt = \"resid 103\"\n",
    "mda_object = spc.janin_chi1_av\n",
    "data = spc.loop_over_iter(path_raw, path_topology, mda_object, start=100,  n_jobs=4, mda_sel_txt=mda_sel_txt)\n",
    "np.save(f\"{path_interim}/{name_cv}.npy\", data)"
   ]
  },
  {
   "cell_type": "markdown",
   "id": "f9c214ab-2ba3-4bb4-b37d-80680b68f58e",
   "metadata": {
    "tags": []
   },
   "source": [
    "### Chi1 E71"
   ]
  },
  {
   "cell_type": "code",
   "execution_count": null,
   "id": "3974e1f0-3688-4b15-a36d-21b84156b4c6",
   "metadata": {
    "tags": []
   },
   "outputs": [],
   "source": [
    "%%time\n",
    "name_cv = \"chi1_E71\"\n",
    "mda_sel_txt = \"resid 71\"\n",
    "mda_object = spc.janin_chi1_av\n",
    "data = spc.loop_over_iter(path_raw, path_topology, mda_object, start=100,  n_jobs=32, mda_sel_txt=mda_sel_txt)\n",
    "np.save(f\"{path_interim}/{name_cv}.npy\", data)"
   ]
  },
  {
   "cell_type": "markdown",
   "id": "0a315b8a-1b49-4d23-91d3-ae23480ef960",
   "metadata": {
    "tags": []
   },
   "source": [
    "### Chi2 E71"
   ]
  },
  {
   "cell_type": "code",
   "execution_count": null,
   "id": "4b742ead-3f75-4d74-b556-774008a9b082",
   "metadata": {
    "tags": []
   },
   "outputs": [],
   "source": [
    "%%time\n",
    "name_cv = \"chi2_E71\"\n",
    "mda_sel_txt = \"resid 71\"\n",
    "mda_object = spc.janin_chi2_av\n",
    "data = spc.loop_over_iter(path_raw, path_topology, mda_object, start=100,  n_jobs=32, mda_sel_txt=mda_sel_txt)\n",
    "np.save(f\"{path_interim}/{name_cv}.npy\", data)"
   ]
  },
  {
   "cell_type": "markdown",
   "id": "b2eae8b2-cd1b-407b-9cc9-da5c97697c28",
   "metadata": {
    "tags": []
   },
   "source": [
    "### Dis T74-F103 "
   ]
  },
  {
   "cell_type": "code",
   "execution_count": null,
   "id": "b48d40d1-ebf9-4ecd-99ed-ee3a4d5cc3a0",
   "metadata": {
    "tags": []
   },
   "outputs": [],
   "source": [
    "%%time\n",
    "name_cv = \"dis_T74-F103\"\n",
    "mda_object = spc.distance_pairs_av\n",
    "mda_sel_txt0 = \"resid 74 and name CA\"\n",
    "mda_sel_txt1 = \"resid 103 and name CA\"\n",
    "data = spc.loop_over_iter(path_raw, path_topology, mda_object, start=100,  n_jobs=32, mda_sel_txt0=mda_sel_txt0, mda_sel_txt1=mda_sel_txt1, verbose=False)\n",
    "np.save(f\"{path_interim}/{name_cv}.npy\", data)"
   ]
  },
  {
   "cell_type": "markdown",
   "id": "497fcef2-f76d-4f87-99d6-6349263009db",
   "metadata": {
    "tags": []
   },
   "source": [
    "### Dis T74-I100 "
   ]
  },
  {
   "cell_type": "code",
   "execution_count": null,
   "id": "cd365085-3652-4d65-9a1b-290b0a9209cc",
   "metadata": {
    "tags": []
   },
   "outputs": [],
   "source": [
    "%%time\n",
    "name_cv = \"dis_T74-I100\"\n",
    "mda_object = spc.distance_pairs_av\n",
    "mda_sel_txt0 = \"resid 74 and name CA and segid PROA PROB PROC PROD\"\n",
    "mda_sel_txt1 = \"resid 100 and name CA and segid PROD PROC PROA PROB\"\n",
    "data = spc.loop_over_iter(path_raw, path_topology, mda_object, start=100,  n_jobs=32, mda_sel_txt0=mda_sel_txt0, mda_sel_txt1=mda_sel_txt1, verbose=False)\n",
    "np.save(f\"{path_interim}/{name_cv}.npy\", data)"
   ]
  },
  {
   "cell_type": "markdown",
   "id": "09058963-8620-431c-bf03-7681d5ba6506",
   "metadata": {
    "tags": []
   },
   "source": [
    "### Dis P-R64"
   ]
  },
  {
   "cell_type": "code",
   "execution_count": null,
   "id": "7c261bd8-eb72-4acc-a30c-df36a394315b",
   "metadata": {
    "tags": []
   },
   "outputs": [],
   "source": [
    "%%time\n",
    "name_cv = \"dis_P-R64\"\n",
    "mda_object = spc.distance_pairs_av\n",
    "mda_sel_txt0 = \"resid 129 130 131 132 and name P\"\n",
    "mda_sel_txt1 = \"resid 64 and name CZ and segid PROA PROC PROD PROB\"\n",
    "data = spc.loop_over_iter(path_raw, path_topology, mda_object, start=100,  n_jobs=32, mda_sel_txt0=mda_sel_txt0, mda_sel_txt1=mda_sel_txt1, verbose=False)\n",
    "np.save(f\"{path_interim}/{name_cv}.npy\", data)"
   ]
  },
  {
   "cell_type": "markdown",
   "id": "d2277daa-4ab4-4d9f-907d-5ebf78ea9861",
   "metadata": {
    "tags": []
   },
   "source": [
    "### Dis P-R89"
   ]
  },
  {
   "cell_type": "code",
   "execution_count": null,
   "id": "e714ee97-2e28-4f67-b6d3-5463b298179d",
   "metadata": {
    "tags": []
   },
   "outputs": [],
   "source": [
    "%%time\n",
    "name_cv = \"dis_P-R89\"\n",
    "mda_object = spc.distance_pairs_av\n",
    "mda_sel_txt0 = \"resid 129 130 131 132 and name P\"\n",
    "mda_sel_txt1 = \"resid 89 and name CZ and segid PROD PROC PROB PROA\"\n",
    "data = spc.loop_over_iter(path_raw, path_topology, mda_object, start=100,  n_jobs=32, mda_sel_txt0=mda_sel_txt0, mda_sel_txt1=mda_sel_txt1, verbose=False)\n",
    "np.save(f\"{path_interim}/{name_cv}.npy\", data)"
   ]
  },
  {
   "cell_type": "markdown",
   "id": "698602d6-8a4e-4828-844f-32d50992ae23",
   "metadata": {
    "tags": []
   },
   "source": [
    "### Is E71 horizontal?"
   ]
  },
  {
   "cell_type": "code",
   "execution_count": null,
   "id": "dbb2fdbb-59fa-439b-92da-f1e13d71d4cb",
   "metadata": {
    "tags": []
   },
   "outputs": [],
   "source": [
    "%%time\n",
    "name_cv = \"is_E71_horizontal_binary\"\n",
    "mda_object = spc.is_E71_horizontal\n",
    "segid = \"segid PROA PROB PROC PROD\"\n",
    "binary = True\n",
    "data = spc.loop_over_iter(path_raw, path_topology, mda_object, start=100,  n_jobs=32, binary=binary, segid=segid, verbose=False)\n",
    "np.save(f\"{path_interim}/{name_cv}.npy\", data)"
   ]
  },
  {
   "cell_type": "code",
   "execution_count": null,
   "id": "95e372f2-2a73-42ee-956a-19c394ac65b7",
   "metadata": {
    "tags": []
   },
   "outputs": [],
   "source": [
    "%%time\n",
    "name_cv = \"is_E71_horizontal\"\n",
    "mda_object = spc.is_E71_horizontal\n",
    "segid = \"segid PROA PROB PROC PROD\"\n",
    "binary = False\n",
    "data = spc.loop_over_iter(path_raw, path_topology, mda_object, start=100,  n_jobs=32, binary=binary, segid=segid, verbose=False)\n",
    "np.save(f\"{path_interim}/{name_cv}.npy\", data)"
   ]
  },
  {
   "cell_type": "code",
   "execution_count": null,
   "id": "26dd5abc-de5d-481a-a9e2-b3169a36765e",
   "metadata": {},
   "outputs": [],
   "source": [
    "data = np.load(f\"{path_interim}/{name_cv}.npy\")\n",
    "data[data < 55] = 0\n",
    "data[data > 55] = 1\n",
    "np.unique(data, return_counts=True)"
   ]
  },
  {
   "cell_type": "code",
   "execution_count": null,
   "id": "fb61a713-675b-476c-9f13-9496f82cc916",
   "metadata": {
    "tags": []
   },
   "outputs": [],
   "source": [
    "%%time\n",
    "name_cv = \"is_E71_horizontal_A\"\n",
    "mda_object = spc.is_E71_horizontal\n",
    "segid = \"segid PROA\"\n",
    "binary = False\n",
    "data = spc.loop_over_iter(path_raw, path_topology, mda_object, start=100,  n_jobs=32, binary=binary, segid=segid, verbose=False)\n",
    "np.save(f\"{path_interim}/{name_cv}.npy\", data)"
   ]
  },
  {
   "cell_type": "code",
   "execution_count": null,
   "id": "d62ca9cd-2b03-4430-b482-aab58914ca10",
   "metadata": {},
   "outputs": [],
   "source": [
    "data = np.load(f\"{path_interim}/{name_cv}.npy\")\n",
    "data[data < 55] = 0\n",
    "data[data > 55] = 1\n",
    "np.unique(data, return_counts=True)"
   ]
  },
  {
   "cell_type": "code",
   "execution_count": null,
   "id": "e354818c-7aa6-47a9-a1b5-8222dffebc95",
   "metadata": {
    "tags": []
   },
   "outputs": [],
   "source": [
    "%%time\n",
    "name_cv = \"is_E71_horizontal_B\"\n",
    "mda_object = spc.is_E71_horizontal\n",
    "segid = \"segid PROB\"\n",
    "binary = False\n",
    "data = spc.loop_over_iter(path_raw, path_topology, mda_object, start=100,  n_jobs=32, binary=binary, segid=segid, verbose=False)\n",
    "np.save(f\"{path_interim}/{name_cv}.npy\", data)"
   ]
  },
  {
   "cell_type": "code",
   "execution_count": null,
   "id": "1377671f-865c-4121-9169-546bd08f857b",
   "metadata": {},
   "outputs": [],
   "source": [
    "data = np.load(f\"{path_interim}/{name_cv}.npy\")\n",
    "data[data < 55] = 0\n",
    "data[data > 55] = 1\n",
    "np.unique(data, return_counts=True)"
   ]
  },
  {
   "cell_type": "code",
   "execution_count": null,
   "id": "4df07e71-761f-46b7-a88a-fe00ce469419",
   "metadata": {
    "tags": []
   },
   "outputs": [],
   "source": [
    "%%time\n",
    "name_cv = \"is_E71_horizontal_C\"\n",
    "mda_object = spc.is_E71_horizontal\n",
    "segid = \"segid PROC\"\n",
    "binary = False\n",
    "data = spc.loop_over_iter(path_raw, path_topology, mda_object, start=100,  n_jobs=32, binary=binary, segid=segid, verbose=False)\n",
    "np.save(f\"{path_interim}/{name_cv}.npy\", data)"
   ]
  },
  {
   "cell_type": "code",
   "execution_count": null,
   "id": "ed1da6ff-58a2-4f35-96e1-f18b88373ea2",
   "metadata": {},
   "outputs": [],
   "source": [
    "data = np.load(f\"{path_interim}/{name_cv}.npy\")\n",
    "data[data < 55] = 0\n",
    "data[data > 55] = 1\n",
    "np.unique(data, return_counts=True)"
   ]
  },
  {
   "cell_type": "code",
   "execution_count": null,
   "id": "a196d3cb-24de-4ae6-a247-93701639cb2d",
   "metadata": {
    "tags": []
   },
   "outputs": [],
   "source": [
    "%%time\n",
    "name_cv = \"is_E71_horizontal_D\"\n",
    "mda_object = spc.is_E71_horizontal\n",
    "segid = \"segid PROD\"\n",
    "binary = False\n",
    "data = spc.loop_over_iter(path_raw, path_topology, mda_object, start=100,  n_jobs=32, binary=binary, segid=segid, verbose=False)\n",
    "np.save(f\"{path_interim}/{name_cv}.npy\", data)"
   ]
  },
  {
   "cell_type": "code",
   "execution_count": null,
   "id": "a7aab484-a98d-4e1f-89bd-0642f9f710c3",
   "metadata": {},
   "outputs": [],
   "source": [
    "data = np.load(f\"{path_interim}/{name_cv}.npy\")\n",
    "data[data < 55] = 0\n",
    "data[data > 55] = 1\n",
    "np.unique(data, return_counts=True)"
   ]
  },
  {
   "cell_type": "markdown",
   "id": "24e45f17-fa91-4931-9464-9181c0116c3e",
   "metadata": {
    "tags": []
   },
   "source": [
    "### Dis W67-D80"
   ]
  },
  {
   "cell_type": "code",
   "execution_count": null,
   "id": "db7f3990-fc87-4f0f-b205-bc77b7cd150e",
   "metadata": {
    "tags": []
   },
   "outputs": [],
   "source": [
    "%%time\n",
    "name_cv = \"dis_W67-D80\"\n",
    "mda_object = spc.distance_pairs_av\n",
    "mda_sel_txt0 = \"resid 67 and name NE1\"\n",
    "mda_sel_txt1 = \"resid 80 and name CG\" \n",
    "data = spc.loop_over_iter(path_raw, path_topology, mda_object, start=100,  n_jobs=32, mda_sel_txt0=mda_sel_txt0, mda_sel_txt1=mda_sel_txt1, verbose=False)\n",
    "np.save(f\"{path_interim}/{name_cv}.npy\", data)"
   ]
  },
  {
   "cell_type": "markdown",
   "id": "a7b4afe6-2af0-4c17-acfb-64d3b368bf45",
   "metadata": {
    "tags": []
   },
   "source": [
    "### Dis E71-D80"
   ]
  },
  {
   "cell_type": "code",
   "execution_count": null,
   "id": "8342061b-a24c-4a58-aea0-a975607e5139",
   "metadata": {
    "tags": []
   },
   "outputs": [],
   "source": [
    "%%time\n",
    "name_cv = \"dis_E71-D80\"\n",
    "mda_object = spc.distance_pairs_av\n",
    "mda_sel_txt0 = \"resid 71 and name OE2\"\n",
    "mda_sel_txt1 = \"resid 80 and name CG\" \n",
    "data = spc.loop_over_iter(path_raw, path_topology, mda_object, start=100,  n_jobs=32, mda_sel_txt0=mda_sel_txt0, mda_sel_txt1=mda_sel_txt1, verbose=False)\n",
    "np.save(f\"{path_interim}/{name_cv}.npy\", data)"
   ]
  },
  {
   "cell_type": "markdown",
   "id": "2b450645-222f-4302-ab8d-2d91ae916093",
   "metadata": {
    "tags": []
   },
   "source": [
    "### Dis E71-G79"
   ]
  },
  {
   "cell_type": "code",
   "execution_count": null,
   "id": "38c535a6-a3b3-460c-8e0c-4702718f4e8b",
   "metadata": {
    "tags": []
   },
   "outputs": [],
   "source": [
    "%%time\n",
    "name_cv = \"dis_E71-G79\"\n",
    "mda_object = spc.distance_pairs_av\n",
    "mda_sel_txt0 = \"resid 71 and name OE1\"\n",
    "mda_sel_txt1 = \"resid 79 and name N\" \n",
    "data = spc.loop_over_iter(path_raw, path_topology, mda_object, start=100,  n_jobs=32, mda_sel_txt0=mda_sel_txt0, mda_sel_txt1=mda_sel_txt1, verbose=False)\n",
    "np.save(f\"{path_interim}/{name_cv}.npy\", data)"
   ]
  },
  {
   "cell_type": "markdown",
   "id": "730cc022-5321-4729-b2da-d5678b6b3b04",
   "metadata": {
    "tags": []
   },
   "source": [
    "### "
   ]
  },
  {
   "cell_type": "code",
   "execution_count": null,
   "id": "55bb1c68-654f-4059-bf42-4f106a2e367f",
   "metadata": {
    "tags": []
   },
   "outputs": [],
   "source": [
    "%%time\n",
    "name_cv = \"chi2_E71\"\n",
    "mda_sel_txt = \"resid 71\"\n",
    "mda_object = spc.janin_chi2_av\n",
    "data = spc.loop_over_iter(path_raw, path_topology, mda_object, start=100,  n_jobs=32, mda_sel_txt=mda_sel_txt)\n",
    "np.save(f\"{path_interim}/{name_cv}.npy\", data)"
   ]
  },
  {
   "cell_type": "code",
   "execution_count": null,
   "id": "e8de0773-0725-4b09-b202-b9d8179a3927",
   "metadata": {},
   "outputs": [],
   "source": []
  }
 ],
 "metadata": {
  "kernelspec": {
   "display_name": "string_sims_cpu01",
   "language": "python",
   "name": "string_sims_cpu01"
  },
  "language_info": {
   "codemirror_mode": {
    "name": "ipython",
    "version": 3
   },
   "file_extension": ".py",
   "mimetype": "text/x-python",
   "name": "python",
   "nbconvert_exporter": "python",
   "pygments_lexer": "ipython3",
   "version": "3.8.5"
  }
 },
 "nbformat": 4,
 "nbformat_minor": 5
}
