{
 "cells": [
  {
   "cell_type": "code",
   "execution_count": null,
   "id": "af33bca1-e0a9-4d68-bf8d-37fa3777d1e2",
   "metadata": {},
   "outputs": [],
   "source": [
    "%cd .."
   ]
  },
  {
   "cell_type": "code",
   "execution_count": null,
   "id": "87034248-066e-45c1-a5c0-33f584683dd4",
   "metadata": {
    "tags": []
   },
   "outputs": [],
   "source": [
    "import os\n",
    "import sys\n",
    "import numpy as np\n",
    "import glob\n",
    "import pickle\n",
    "import matplotlib.pyplot as plt\n",
    "import src.analysis as spc\n",
    "import MDAnalysis as mda\n",
    "from nglview import show_mdanalysis as nglview\n",
    "import logging\n",
    "\n",
    "logging.getLogger(\"MDAnalysis\").setLevel(logging.ERROR)"
   ]
  },
  {
   "cell_type": "code",
   "execution_count": null,
   "id": "966f74bd-bb91-4e22-9e8c-91a0d58c10b9",
   "metadata": {
    "tags": []
   },
   "outputs": [],
   "source": [
    "%load_ext lab_black\n",
    "#%load_ext autoreload\n",
    "#%autoreload 2"
   ]
  },
  {
   "cell_type": "code",
   "execution_count": null,
   "id": "da822fda-00c9-481e-9514-a2b1a666f2d5",
   "metadata": {
    "tags": []
   },
   "outputs": [],
   "source": [
    "name_sim = \"C2I_lb_v1_amber/\"\n",
    "path_processed = f\"/nethome/sperez/Projects/string_sims/data/processed/{name_sim}\"\n",
    "path_interim = f\"/nethome/sperez/Projects/string_sims/data/interim/{name_sim}\"\n",
    "path_raw = f\"/nethome/sperez/Projects/string_sims/data/raw/{name_sim}\"\n",
    "path_report = f\"/nethome/sperez/Projects/string_sims/reports/figures/{name_sim}\"\n",
    "path_topology = f\"{path_raw}/topology/charmm_final.pdb\""
   ]
  },
  {
   "cell_type": "code",
   "execution_count": null,
   "id": "b086fd5b-dce1-42e3-bc74-4b2186c766b6",
   "metadata": {},
   "outputs": [],
   "source": [
    "# path_raw = f\"/nethome/sperez/my_volumes/KcsA_string_method_swarms/string_sims/data/raw/{name_sim}/\""
   ]
  },
  {
   "cell_type": "code",
   "execution_count": null,
   "id": "1441934e-c517-4c5d-8114-6896ae133057",
   "metadata": {},
   "outputs": [],
   "source": [
    "n_jobs = 16"
   ]
  },
  {
   "cell_type": "markdown",
   "id": "15c35d7c-bae1-4198-a3c9-3bdc6e534685",
   "metadata": {
    "tags": []
   },
   "source": [
    "# Calculate Stuff"
   ]
  },
  {
   "cell_type": "markdown",
   "id": "591cae4a-886c-4204-a3a7-73d3f256a8d6",
   "metadata": {
    "tags": []
   },
   "source": [
    "## Roux CVs\n",
    "### Chi1 I100"
   ]
  },
  {
   "cell_type": "code",
   "execution_count": null,
   "id": "0f81297c-da83-4c14-b3d7-c3e232a8c487",
   "metadata": {
    "tags": []
   },
   "outputs": [],
   "source": [
    "%%time\n",
    "name_cv = \"chi1_I100\"\n",
    "mda_sel_txt = \"resid 100\"\n",
    "mda_object = spc.janin_chi1_av\n",
    "data = spc.loop_over_iter(path_raw, path_topology, mda_object, start=100,  n_jobs=n_jobs, mda_sel_txt=mda_sel_txt)\n",
    "np.save(f\"{path_interim}/{name_cv}.npy\", data)"
   ]
  },
  {
   "cell_type": "markdown",
   "id": "a9d95a31-9e61-4540-8a2a-359b65fdce4e",
   "metadata": {
    "tags": []
   },
   "source": [
    "### Chi1 F103"
   ]
  },
  {
   "cell_type": "code",
   "execution_count": null,
   "id": "18f7ee20-a018-494d-89fc-d47342312402",
   "metadata": {
    "tags": []
   },
   "outputs": [],
   "source": [
    "%%time\n",
    "name_cv = \"chi1_F103\"\n",
    "mda_sel_txt = \"resid 103\"\n",
    "mda_object = spc.janin_chi1_av\n",
    "data = spc.loop_over_iter(path_raw, path_topology, mda_object, start=100,  n_jobs=n_jobs, mda_sel_txt=mda_sel_txt)\n",
    "np.save(f\"{path_interim}/{name_cv}.npy\", data)"
   ]
  },
  {
   "cell_type": "markdown",
   "id": "f9c214ab-2ba3-4bb4-b37d-80680b68f58e",
   "metadata": {
    "tags": []
   },
   "source": [
    "### Chi1 E71"
   ]
  },
  {
   "cell_type": "code",
   "execution_count": null,
   "id": "3974e1f0-3688-4b15-a36d-21b84156b4c6",
   "metadata": {
    "tags": []
   },
   "outputs": [],
   "source": [
    "%%time\n",
    "name_cv = \"chi1_E71\"\n",
    "mda_sel_txt = \"resid 71\"\n",
    "mda_object = spc.janin_chi1_av\n",
    "data = spc.loop_over_iter(path_raw, path_topology, mda_object, start=100,  n_jobs=n_jobs, mda_sel_txt=mda_sel_txt)\n",
    "np.save(f\"{path_interim}/{name_cv}.npy\", data)"
   ]
  },
  {
   "cell_type": "markdown",
   "id": "0a315b8a-1b49-4d23-91d3-ae23480ef960",
   "metadata": {
    "tags": []
   },
   "source": [
    "### Chi2 E71"
   ]
  },
  {
   "cell_type": "code",
   "execution_count": null,
   "id": "4b742ead-3f75-4d74-b556-774008a9b082",
   "metadata": {
    "tags": []
   },
   "outputs": [],
   "source": [
    "%%time\n",
    "name_cv = \"chi2_E71\"\n",
    "mda_sel_txt = \"resid 71\"\n",
    "mda_object = spc.janin_chi2_av\n",
    "data = spc.loop_over_iter(path_raw, path_topology, mda_object, start=100,  n_jobs=n_jobs, mda_sel_txt=mda_sel_txt)\n",
    "np.save(f\"{path_interim}/{name_cv}.npy\", data)"
   ]
  },
  {
   "cell_type": "markdown",
   "id": "b2eae8b2-cd1b-407b-9cc9-da5c97697c28",
   "metadata": {
    "tags": []
   },
   "source": [
    "### Dis T74-F103 "
   ]
  },
  {
   "cell_type": "code",
   "execution_count": null,
   "id": "b48d40d1-ebf9-4ecd-99ed-ee3a4d5cc3a0",
   "metadata": {
    "tags": []
   },
   "outputs": [],
   "source": [
    "%%time\n",
    "name_cv = \"dis_T74-F103\"\n",
    "mda_object = spc.distance_pairs_av\n",
    "mda_sel_txt0 = \"resid 74 and name CA\"\n",
    "mda_sel_txt1 = \"resid 103 and name CA\"\n",
    "data = spc.loop_over_iter(path_raw, path_topology, mda_object, start=100,  n_jobs=n_jobs, mda_sel_txt0=mda_sel_txt0, mda_sel_txt1=mda_sel_txt1, verbose=False)\n",
    "np.save(f\"{path_interim}/{name_cv}.npy\", data)"
   ]
  },
  {
   "cell_type": "markdown",
   "id": "497fcef2-f76d-4f87-99d6-6349263009db",
   "metadata": {
    "tags": []
   },
   "source": [
    "### Dis T74-I100 "
   ]
  },
  {
   "cell_type": "code",
   "execution_count": null,
   "id": "cd365085-3652-4d65-9a1b-290b0a9209cc",
   "metadata": {
    "tags": []
   },
   "outputs": [],
   "source": [
    "%%time\n",
    "name_cv = \"dis_T74-I100\"\n",
    "mda_object = spc.distance_pairs_av\n",
    "mda_sel_txt0 = \"resid 74 and name CA and segid PROA PROB PROC PROD\"\n",
    "mda_sel_txt1 = [\"resid 100 and name CA and segid PROD \",\n",
    "\"resid 100 and name CA and segid PROC \",\n",
    "\"resid 100 and name CA and segid PROA \",\n",
    "\"resid 100 and name CA and segid PROB\"\n",
    "               ]\n",
    "data = spc.loop_over_iter(path_raw, path_topology, mda_object, start=100,  n_jobs=n_jobs, mda_sel_txt0=mda_sel_txt0, mda_sel_txt1=mda_sel_txt1, verbose=False)\n",
    "np.save(f\"{path_interim}/{name_cv}.npy\", data)"
   ]
  },
  {
   "cell_type": "markdown",
   "id": "09058963-8620-431c-bf03-7681d5ba6506",
   "metadata": {
    "tags": []
   },
   "source": [
    "### Dis P-R64"
   ]
  },
  {
   "cell_type": "code",
   "execution_count": null,
   "id": "7c261bd8-eb72-4acc-a30c-df36a394315b",
   "metadata": {
    "tags": []
   },
   "outputs": [],
   "source": [
    "%%time\n",
    "name_cv = \"dis_P-R64\"\n",
    "mda_object = spc.distance_pairs_av\n",
    "mda_sel_txt0 = \"resid 129 130 131 132 and name P\"\n",
    "mda_sel_txt1 = [\"resid 64 and name CZ and segid PROA \",\n",
    "\"resid 64 and name CZ and segid PROC \",\n",
    "\"resid 64 and name CZ and segid PROD \",\n",
    "\"resid 64 and name CZ and segid PROB\",\n",
    "               ]\n",
    "data = spc.loop_over_iter(path_raw, path_topology, mda_object, start=100,  n_jobs=n_jobs, mda_sel_txt0=mda_sel_txt0, mda_sel_txt1=mda_sel_txt1, verbose=False)\n",
    "np.save(f\"{path_interim}/{name_cv}.npy\", data)"
   ]
  },
  {
   "cell_type": "markdown",
   "id": "d2277daa-4ab4-4d9f-907d-5ebf78ea9861",
   "metadata": {
    "tags": []
   },
   "source": [
    "### Dis P-R89"
   ]
  },
  {
   "cell_type": "code",
   "execution_count": null,
   "id": "e714ee97-2e28-4f67-b6d3-5463b298179d",
   "metadata": {
    "tags": []
   },
   "outputs": [],
   "source": [
    "%%time\n",
    "name_cv = \"dis_P-R89\"\n",
    "mda_object = spc.distance_pairs_av\n",
    "mda_sel_txt0 = \"resid 129 130 131 132 and name P\"\n",
    "mda_sel_txt1 = [\"resid 89 and name CZ and segid PROD \",\n",
    "\"resid 89 and name CZ and segid PROC \",\n",
    "\"resid 89 and name CZ and segid PROB \",\n",
    "\"resid 89 and name CZ and segid PROA\",\n",
    "               ]\n",
    "data = spc.loop_over_iter(path_raw, path_topology, mda_object, start=100,  n_jobs=n_jobs, mda_sel_txt0=mda_sel_txt0, mda_sel_txt1=mda_sel_txt1, verbose=False)\n",
    "np.save(f\"{path_interim}/{name_cv}.npy\", data)"
   ]
  },
  {
   "cell_type": "markdown",
   "id": "698602d6-8a4e-4828-844f-32d50992ae23",
   "metadata": {
    "tags": []
   },
   "source": [
    "### Is E71 horizontal?"
   ]
  },
  {
   "cell_type": "code",
   "execution_count": null,
   "id": "dbb2fdbb-59fa-439b-92da-f1e13d71d4cb",
   "metadata": {
    "tags": []
   },
   "outputs": [],
   "source": [
    "%%time\n",
    "name_cv = \"is_E71_horizontal_binary\"\n",
    "mda_object = spc.is_E71_horizontal\n",
    "segid = \"segid PROA PROB PROC PROD\"\n",
    "binary = True\n",
    "data = spc.loop_over_iter(path_raw, path_topology, mda_object, start=100,  n_jobs=n_jobs, binary=binary, segid=segid, verbose=False)\n",
    "np.save(f\"{path_interim}/{name_cv}.npy\", data)"
   ]
  },
  {
   "cell_type": "code",
   "execution_count": null,
   "id": "95e372f2-2a73-42ee-956a-19c394ac65b7",
   "metadata": {
    "tags": []
   },
   "outputs": [],
   "source": [
    "%%time\n",
    "name_cv = \"is_E71_horizontal\"\n",
    "mda_object = spc.is_E71_horizontal\n",
    "segid = \"segid PROA PROB PROC PROD\"\n",
    "binary = False\n",
    "data = spc.loop_over_iter(path_raw, path_topology, mda_object, start=100,  n_jobs=n_jobs, binary=binary, segid=segid, verbose=False)\n",
    "np.save(f\"{path_interim}/{name_cv}.npy\", data)"
   ]
  },
  {
   "cell_type": "code",
   "execution_count": null,
   "id": "26dd5abc-de5d-481a-a9e2-b3169a36765e",
   "metadata": {},
   "outputs": [],
   "source": [
    "data = np.load(f\"{path_interim}/{name_cv}.npy\")\n",
    "data[data < 55] = 0\n",
    "data[data > 55] = 1\n",
    "np.unique(data, return_counts=True)"
   ]
  },
  {
   "cell_type": "code",
   "execution_count": null,
   "id": "fb61a713-675b-476c-9f13-9496f82cc916",
   "metadata": {
    "tags": []
   },
   "outputs": [],
   "source": [
    "%%time\n",
    "name_cv = \"is_E71_horizontal_A\"\n",
    "mda_object = spc.is_E71_horizontal\n",
    "segid = \"segid PROA\"\n",
    "binary = False\n",
    "data = spc.loop_over_iter(path_raw, path_topology, mda_object, start=100,  n_jobs=n_jobs, binary=binary, segid=segid, verbose=False)\n",
    "np.save(f\"{path_interim}/{name_cv}.npy\", data)"
   ]
  },
  {
   "cell_type": "code",
   "execution_count": null,
   "id": "d62ca9cd-2b03-4430-b482-aab58914ca10",
   "metadata": {},
   "outputs": [],
   "source": [
    "data = np.load(f\"{path_interim}/{name_cv}.npy\")\n",
    "data[data < 55] = 0\n",
    "data[data > 55] = 1\n",
    "np.unique(data, return_counts=True)"
   ]
  },
  {
   "cell_type": "code",
   "execution_count": null,
   "id": "e354818c-7aa6-47a9-a1b5-8222dffebc95",
   "metadata": {
    "tags": []
   },
   "outputs": [],
   "source": [
    "%%time\n",
    "name_cv = \"is_E71_horizontal_B\"\n",
    "mda_object = spc.is_E71_horizontal\n",
    "segid = \"segid PROB\"\n",
    "binary = False\n",
    "data = spc.loop_over_iter(path_raw, path_topology, mda_object, start=100,  n_jobs=n_jobs, binary=binary, segid=segid, verbose=False)\n",
    "np.save(f\"{path_interim}/{name_cv}.npy\", data)"
   ]
  },
  {
   "cell_type": "code",
   "execution_count": null,
   "id": "1377671f-865c-4121-9169-546bd08f857b",
   "metadata": {},
   "outputs": [],
   "source": [
    "data = np.load(f\"{path_interim}/{name_cv}.npy\")\n",
    "data[data < 55] = 0\n",
    "data[data > 55] = 1\n",
    "np.unique(data, return_counts=True)"
   ]
  },
  {
   "cell_type": "code",
   "execution_count": null,
   "id": "4df07e71-761f-46b7-a88a-fe00ce469419",
   "metadata": {
    "tags": []
   },
   "outputs": [],
   "source": [
    "%%time\n",
    "name_cv = \"is_E71_horizontal_C\"\n",
    "mda_object = spc.is_E71_horizontal\n",
    "segid = \"segid PROC\"\n",
    "binary = False\n",
    "data = spc.loop_over_iter(path_raw, path_topology, mda_object, start=100,  n_jobs=n_jobs, binary=binary, segid=segid, verbose=False)\n",
    "np.save(f\"{path_interim}/{name_cv}.npy\", data)"
   ]
  },
  {
   "cell_type": "code",
   "execution_count": null,
   "id": "ed1da6ff-58a2-4f35-96e1-f18b88373ea2",
   "metadata": {},
   "outputs": [],
   "source": [
    "data = np.load(f\"{path_interim}/{name_cv}.npy\")\n",
    "data[data < 55] = 0\n",
    "data[data > 55] = 1\n",
    "np.unique(data, return_counts=True)"
   ]
  },
  {
   "cell_type": "code",
   "execution_count": null,
   "id": "a196d3cb-24de-4ae6-a247-93701639cb2d",
   "metadata": {
    "tags": []
   },
   "outputs": [],
   "source": [
    "%%time\n",
    "name_cv = \"is_E71_horizontal_D\"\n",
    "mda_object = spc.is_E71_horizontal\n",
    "segid = \"segid PROD\"\n",
    "binary = False\n",
    "data = spc.loop_over_iter(path_raw, path_topology, mda_object, start=100,  n_jobs=n_jobs, binary=binary, segid=segid, verbose=False)\n",
    "np.save(f\"{path_interim}/{name_cv}.npy\", data)"
   ]
  },
  {
   "cell_type": "code",
   "execution_count": null,
   "id": "a7aab484-a98d-4e1f-89bd-0642f9f710c3",
   "metadata": {},
   "outputs": [],
   "source": [
    "data = np.load(f\"{path_interim}/{name_cv}.npy\")\n",
    "data[data < 55] = 0\n",
    "data[data > 55] = 1\n",
    "np.unique(data, return_counts=True)"
   ]
  },
  {
   "cell_type": "markdown",
   "id": "2b450645-222f-4302-ab8d-2d91ae916093",
   "metadata": {
    "tags": []
   },
   "source": [
    "### Dis E71-G79"
   ]
  },
  {
   "cell_type": "code",
   "execution_count": null,
   "id": "38c535a6-a3b3-460c-8e0c-4702718f4e8b",
   "metadata": {
    "tags": []
   },
   "outputs": [],
   "source": [
    "%%time\n",
    "name_cv = \"dis_E71-G79\"\n",
    "mda_object = spc.distance_pairs_av\n",
    "mda_sel_txt0 = \"resid 71 and name OE1\"\n",
    "mda_sel_txt1 = \"resid 79 and name N\" \n",
    "data = spc.loop_over_iter(path_raw, path_topology, mda_object, start=100,  n_jobs=n_jobs, mda_sel_txt0=mda_sel_txt0, mda_sel_txt1=mda_sel_txt1, verbose=False)\n",
    "np.save(f\"{path_interim}/{name_cv}.npy\", data)"
   ]
  },
  {
   "cell_type": "markdown",
   "id": "730cc022-5321-4729-b2da-d5678b6b3b04",
   "metadata": {
    "tags": []
   },
   "source": [
    "### "
   ]
  },
  {
   "cell_type": "code",
   "execution_count": null,
   "id": "55bb1c68-654f-4059-bf42-4f106a2e367f",
   "metadata": {
    "tags": []
   },
   "outputs": [],
   "source": [
    "%%time\n",
    "name_cv = \"chi2_E71\"\n",
    "mda_sel_txt = \"resid 71\"\n",
    "mda_object = spc.janin_chi2_av\n",
    "data = spc.loop_over_iter(path_raw, path_topology, mda_object, start=100,  n_jobs=n_jobs, mda_sel_txt=mda_sel_txt)\n",
    "np.save(f\"{path_interim}/{name_cv}.npy\", data)"
   ]
  },
  {
   "cell_type": "markdown",
   "id": "6d2ce233-3546-4dcc-a705-e34d92fe357d",
   "metadata": {},
   "source": [
    "### Water Behind SF"
   ]
  },
  {
   "cell_type": "code",
   "execution_count": null,
   "id": "5169bcca-82d9-4952-bbef-4c24f409e90c",
   "metadata": {
    "tags": []
   },
   "outputs": [],
   "source": [
    "%%time\n",
    "name_cv = \"H2O_behind_SF\"\n",
    "mda_object = spc.water_behind_SF_discrete\n",
    "rcut = 3.5\n",
    "data = spc.loop_over_iter(path_raw, path_topology, mda_object, start=100, n_jobs=n_jobs, rcut=rcut, sum=False, verbose=False)\n",
    "np.save(f\"{path_interim}/{name_cv}.npy\", data)"
   ]
  },
  {
   "cell_type": "markdown",
   "id": "2f23af39-8224-4ecb-8040-471ba96c8457",
   "metadata": {
    "tags": []
   },
   "source": [
    "### Dis W67-D80"
   ]
  },
  {
   "cell_type": "code",
   "execution_count": null,
   "id": "12fb9985-aae7-4fff-b381-fa4d64c5c5d1",
   "metadata": {
    "tags": []
   },
   "outputs": [],
   "source": [
    "%%time\n",
    "name_cv = \"dis_W67-D80\"\n",
    "mda_object = spc.distance_pairs_av\n",
    "mda_sel_txt0 = \"resid 67 and name NE1\"\n",
    "mda_sel_txt1 = \"resid 80 and name CG\" \n",
    "data = spc.loop_over_iter(path_raw, path_topology, mda_object, start=100, n_jobs=n_jobs, mda_sel_txt0=mda_sel_txt0, mda_sel_txt1=mda_sel_txt1, average=False, verbose=False)\n",
    "np.save(f\"{path_interim}/{name_cv}.npy\", data)"
   ]
  },
  {
   "cell_type": "markdown",
   "id": "dd8e347c-3bed-4b03-8ee1-b139150ce25e",
   "metadata": {
    "tags": []
   },
   "source": [
    "### Dis E71-D80"
   ]
  },
  {
   "cell_type": "code",
   "execution_count": null,
   "id": "70f6b7a1-6767-489f-b45a-79b303742022",
   "metadata": {
    "tags": []
   },
   "outputs": [],
   "source": [
    "%%time\n",
    "name_cv = \"dis_E71-D80\"\n",
    "mda_object = spc.distance_pairs_av\n",
    "mda_sel_txt0 = \"resid 71 and name OE2\"\n",
    "mda_sel_txt1 = \"resid 80 and name CG\" \n",
    "data = spc.loop_over_iter(path_raw, path_topology, mda_object, start=100,  n_jobs=n_jobs, mda_sel_txt0=mda_sel_txt0, mda_sel_txt1=mda_sel_txt1, average=False, verbose=False)\n",
    "np.save(f\"{path_interim}/{name_cv}.npy\", data)"
   ]
  },
  {
   "cell_type": "markdown",
   "id": "2ebd239a-bee9-4989-ad01-18bea7d6cff2",
   "metadata": {
    "tags": []
   },
   "source": [
    "### Dis R64-D80"
   ]
  },
  {
   "cell_type": "code",
   "execution_count": null,
   "id": "cbfb4a1a-9327-4e6c-a0f4-5403f130ca0c",
   "metadata": {
    "tags": []
   },
   "outputs": [],
   "source": [
    "%%time\n",
    "name_cv = \"dis_R64-D80\"\n",
    "mda_object = spc.distance_pairs_av\n",
    "mda_sel_txt0 = \"resid 64 and name CZ\"\n",
    "mda_sel_txt1 = \"resid 80 and name CG\" \n",
    "data = spc.loop_over_iter(path_raw, path_topology, mda_object, start=100,  n_jobs=n_jobs, mda_sel_txt0=mda_sel_txt0, mda_sel_txt1=mda_sel_txt1, average=False, verbose=False)\n",
    "np.save(f\"{path_interim}/{name_cv}.npy\", data)"
   ]
  },
  {
   "cell_type": "markdown",
   "id": "c7dd256a-8c87-44e1-aec6-0f5865b87eea",
   "metadata": {
    "tags": []
   },
   "source": [
    "### Dis L81-R64_CA"
   ]
  },
  {
   "cell_type": "code",
   "execution_count": null,
   "id": "10d32bba-464b-412d-a38f-18aa993335d5",
   "metadata": {
    "tags": []
   },
   "outputs": [],
   "source": [
    "%%time\n",
    "name_cv = \"dis_L81-R64_CA\"\n",
    "mda_object = spc.distance_pairs_av\n",
    "mda_sel_txt0 = \"resid 81 and name CA\"\n",
    "mda_sel_txt1 = \"resid 64 and name CA\" \n",
    "data = spc.loop_over_iter(path_raw, path_topology, mda_object, start=100,  n_jobs=n_jobs, mda_sel_txt0=mda_sel_txt0, mda_sel_txt1=mda_sel_txt1, average=False, verbose=False)\n",
    "np.save(f\"{path_interim}/{name_cv}.npy\", data)"
   ]
  },
  {
   "cell_type": "markdown",
   "id": "a0a2e52f-41a9-4d35-b888-77e8007c1b7d",
   "metadata": {
    "tags": []
   },
   "source": [
    "### Dis L81-W67_CA"
   ]
  },
  {
   "cell_type": "code",
   "execution_count": null,
   "id": "338c88e7-f53b-408f-82c1-2b2e2e5ffcb7",
   "metadata": {
    "tags": []
   },
   "outputs": [],
   "source": [
    "%%time\n",
    "name_cv = \"dis_L81-R64_CA\"\n",
    "mda_object = spc.distance_pairs_av\n",
    "mda_sel_txt0 = \"resid 81 and name CA\"\n",
    "mda_sel_txt1 = \"resid 67 and name CA\" \n",
    "data = spc.loop_over_iter(path_raw, path_topology, mda_object, start=100,  n_jobs=n_jobs, mda_sel_txt0=mda_sel_txt0, mda_sel_txt1=mda_sel_txt1, average=False, verbose=False)\n",
    "np.save(f\"{path_interim}/{name_cv}.npy\", data)"
   ]
  },
  {
   "cell_type": "markdown",
   "id": "9bcdc243-bda3-4982-bcb1-4a835ac34105",
   "metadata": {},
   "source": [
    "## SF Occupation"
   ]
  },
  {
   "cell_type": "code",
   "execution_count": null,
   "id": "b95c1671-9065-4268-9923-e4b4e4eb64bf",
   "metadata": {},
   "outputs": [],
   "source": [
    "%%time\n",
    "name_cv = \"SF_occupation\"\n",
    "mda_object = spc.SF_occupation\n",
    "n_jobs = 1\n",
    "data = spc.loop_over_iter(path_raw, path_topology, mda_object, gro_path=path_topology,clean_up=False, start=100, stop=101, use_universe=False, n_jobs=n_jobs, verbose=False)\n",
    "np.save(f\"{path_interim}/{name_cv}.npy\", data)"
   ]
  }
 ],
 "metadata": {
  "kernelspec": {
   "display_name": "string_sims",
   "language": "python",
   "name": "string_sims"
  },
  "language_info": {
   "codemirror_mode": {
    "name": "ipython",
    "version": 3
   },
   "file_extension": ".py",
   "mimetype": "text/x-python",
   "name": "python",
   "nbconvert_exporter": "python",
   "pygments_lexer": "ipython3",
   "version": "3.8.5"
  }
 },
 "nbformat": 4,
 "nbformat_minor": 5
}
