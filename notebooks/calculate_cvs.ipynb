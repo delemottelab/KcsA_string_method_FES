{
 "cells": [
  {
   "cell_type": "code",
   "execution_count": null,
   "id": "87034248-066e-45c1-a5c0-33f584683dd4",
   "metadata": {
    "tags": []
   },
   "outputs": [],
   "source": [
    "import os\n",
    "import sys\n",
    "import numpy as np\n",
    "import glob\n",
    "import pickle\n",
    "import matplotlib.pyplot as plt\n",
    "import src.analysis as spc\n",
    "import MDAnalysis as mda\n",
    "from nglview import show_mdanalysis as nglview"
   ]
  },
  {
   "cell_type": "code",
   "execution_count": null,
   "id": "966f74bd-bb91-4e22-9e8c-91a0d58c10b9",
   "metadata": {
    "tags": []
   },
   "outputs": [],
   "source": [
    "%load_ext lab_black\n",
    "#%load_ext autoreload\n",
    "#%autoreload 2"
   ]
  },
  {
   "cell_type": "code",
   "execution_count": null,
   "id": "da822fda-00c9-481e-9514-a2b1a666f2d5",
   "metadata": {
    "tags": []
   },
   "outputs": [],
   "source": [
    "name_sim = \"C2I_lb_v1/\"\n",
    "path_processed = f\"/data/sperez/Projects/string_sims/data/processed/{name_sim}\"\n",
    "path_interim = f\"/data/sperez/Projects/string_sims/data/interim/{name_sim}\"\n",
    "path_raw = f\"/data/sperez/Projects/string_sims/data/raw/{name_sim}\"\n",
    "path_report = f\"/data/sperez/Projects/string_sims/reports/figures/{name_sim}\"\n",
    "path_topology = f\"{path_raw}/topology/charmm_final.pdb\""
   ]
  },
  {
   "cell_type": "markdown",
   "id": "15c35d7c-bae1-4198-a3c9-3bdc6e534685",
   "metadata": {
    "tags": []
   },
   "source": [
    "# Calculate Stuff"
   ]
  },
  {
   "cell_type": "markdown",
   "id": "591cae4a-886c-4204-a3a7-73d3f256a8d6",
   "metadata": {
    "tags": []
   },
   "source": [
    "## Roux CVs\n",
    "### Chi1 I100"
   ]
  },
  {
   "cell_type": "code",
   "execution_count": null,
   "id": "1d4b3820-2afa-4cd5-bbe1-7b07bbfc573d",
   "metadata": {
    "tags": []
   },
   "outputs": [],
   "source": [
    "%%time\n",
    "name_cv = \"chi1_I100\"\n",
    "mda_sel_txt = \"resid 100\"\n",
    "mda_object = spc.janin_chi1_av\n",
    "data = spc.loop_over_iter(path_raw, path_topology, mda_object, start=100,  n_jobs=4, mda_sel_txt=mda_sel_txt)\n",
    "np.save(f\"{path_interim}/{name_cv}.npy\", data)"
   ]
  },
  {
   "cell_type": "markdown",
   "id": "a9d95a31-9e61-4540-8a2a-359b65fdce4e",
   "metadata": {
    "tags": []
   },
   "source": [
    "### Chi1 F103"
   ]
  },
  {
   "cell_type": "code",
   "execution_count": null,
   "id": "18f7ee20-a018-494d-89fc-d47342312402",
   "metadata": {
    "tags": []
   },
   "outputs": [],
   "source": [
    "%%time\n",
    "name_cv = \"chi1_F103\"\n",
    "mda_sel_txt = \"resid 103\"\n",
    "mda_object = spc.janin_chi1_av\n",
    "data = spc.loop_over_iter(path_raw, path_topology, mda_object, start=100,  n_jobs=4, mda_sel_txt=mda_sel_txt)\n",
    "np.save(f\"{path_interim}/{name_cv}.npy\", data)"
   ]
  },
  {
   "cell_type": "markdown",
   "id": "3d022318-305c-4323-b385-426026a32928",
   "metadata": {},
   "source": [
    "To Do:\n",
    "Automatic way of checking number of iterations, beads and swarms in both scripts.\n",
    "Call checker in this notebook.\n",
    "Check if I am reducing loggin in MDA\n",
    "Are those itersomewhere?"
   ]
  }
 ],
 "metadata": {
  "kernelspec": {
   "display_name": "string_sims",
   "language": "python",
   "name": "string_sims"
  },
  "language_info": {
   "codemirror_mode": {
    "name": "ipython",
    "version": 3
   },
   "file_extension": ".py",
   "mimetype": "text/x-python",
   "name": "python",
   "nbconvert_exporter": "python",
   "pygments_lexer": "ipython3",
   "version": "3.8.5"
  }
 },
 "nbformat": 4,
 "nbformat_minor": 5
}
