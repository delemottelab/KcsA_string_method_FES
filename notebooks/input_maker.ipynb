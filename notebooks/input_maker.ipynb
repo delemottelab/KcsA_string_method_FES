{
 "cells": [
  {
   "cell_type": "markdown",
   "metadata": {},
   "source": [
    "# Input Maker for String-method simulations.\n",
    "\n",
    "With this notebook you will be able to prepare the input files for string-method simulation as well as the optional preparatory steering simulation. The necessary `.mdp` files will be generated, the cvs will be defined as well as optionally the initial string. \n",
    "\n",
    "This notebook only deals with cvs that are distances between atoms or centers of mass of groups of atoms. Nevertheless, we invite you to try it to understand the logic of the pull coordinates and mdp file creation so you can later adapt it to your own cvs (dihedrals, angles etc). The main limitation of the CVs that can be used is the feature availability of the pull-code of gromacs. \n",
    "\n",
    "Let's get started!"
   ]
  },
  {
   "cell_type": "markdown",
   "metadata": {},
   "source": [
    "Make sure you have installed the imports in this library. "
   ]
  },
  {
   "cell_type": "code",
   "execution_count": null,
   "metadata": {},
   "outputs": [],
   "source": [
    "import sys\n",
    "import MDAnalysis as mda\n",
    "import numpy as np\n",
    "import glob\n",
    "import matplotlib.pyplot as plt\n",
    "from math import ceil\n",
    "import os\n",
    "import shutil\n",
    "import pickle\n",
    "from string import ascii_lowercase"
   ]
  },
  {
   "cell_type": "code",
   "execution_count": null,
   "metadata": {},
   "outputs": [],
   "source": [
    "def distance_atom_groups(u, sel1, sel2, progressbar=True, center_of_mass=False):\n",
    "    \"\"\"\n",
    "    Calculate the distance between the centers of geometry (or mass) between two groups (sel1, sel2) as a function of time in the trajectory trj.\n",
    "\n",
    "    Parameters\n",
    "    ----------\n",
    "    u: MDA universe to analyz trajectory to analyze.\n",
    "    sel1: MDA selection containing at least 1 atom.\n",
    "    sel2: MDA selection containing at least 1 atom.\n",
    "    center_of_mass: Use the center of mass instead of center of geometry.\n",
    "    progressbar: Show progressbar.\n",
    "\n",
    "    Returns\n",
    "    -------\n",
    "    d: matplotlib figure object.\n",
    "    \"\"\"\n",
    "    from MDAnalysis import Universe\n",
    "    from MDAnalysis import AtomGroup\n",
    "    from numpy import array\n",
    "    from tqdm import tqdm\n",
    "    from numpy.linalg import norm\n",
    "\n",
    "    assert isinstance(u, Universe), \"u should be a MDAnlaysis universe.\"\n",
    "    assert isinstance(sel1, AtomGroup), \"sel1 should be a MDAnlaysis universe.\"\n",
    "    assert isinstance(sel2, AtomGroup), \"sel2 should be a MDAnlaysis universe.\"\n",
    "    assert isinstance(progressbar, bool), \"progressbar should be boolean.\"\n",
    "    assert sel1.n_atoms >= 1, \"sel1 should have at least 1 atom.\"\n",
    "    assert sel2.n_atoms >= 1, \"sel2 should have at least 1 atom.\"\n",
    "\n",
    "    d = []\n",
    "    for i, ts in tqdm(\n",
    "        enumerate(u.trajectory), total=u.trajectory.n_frames, disable=not progressbar\n",
    "    ):\n",
    "        if center_of_mass:\n",
    "            csel1 = sel1.center_of_mass()\n",
    "            csel2 = sel2.center_of_mass()\n",
    "        else:\n",
    "            csel1 = sel1.centroid()\n",
    "            csel2 = sel2.centroid()\n",
    "        d.append([ts.dt * i, norm(csel1 - csel2)])\n",
    "    return array(d)"
   ]
  },
  {
   "cell_type": "markdown",
   "metadata": {},
   "source": [
    "## Choose working directory\n",
    "\n",
    "In the cell bellow you can select which will be the simulation directory (in case this notebook is elsewhere). If the notebook is in the simulation directory just leave it as \".\"."
   ]
  },
  {
   "cell_type": "code",
   "execution_count": null,
   "metadata": {},
   "outputs": [],
   "source": [
    "%ls ../data/interim/"
   ]
  },
  {
   "cell_type": "code",
   "execution_count": null,
   "metadata": {
    "tags": []
   },
   "outputs": [],
   "source": [
    "simulation_directory = \"../data/raw/C2I_v1_amber/\"\n",
    "os.chdir(simulation_directory)\n",
    "os.getcwd()"
   ]
  },
  {
   "cell_type": "markdown",
   "metadata": {},
   "source": [
    "## Choosing starting and final configurations\n",
    "\n",
    "With `start.gro` and `end.gro` are used to define the initial and final values of the cvs in the string.\n",
    "\n",
    "Note that since `.gro` files don't always have the best topology information might need to add some sort of topology file like so:\n",
    "```python\n",
    "start = mda.Universe('topology/top.pdb', 'topology/start.gro')\n",
    "```\n",
    "Of course, `start.pdb` or `end.pdb` can also be used directly"
   ]
  },
  {
   "cell_type": "markdown",
   "metadata": {},
   "source": [
    "## Choosing number of bead on string\n",
    "\n",
    "Choose the number of beads of the string. This should be done keeping in mind the parallelization conditions that will be used and if the first and last strings of the bead will be mobile or fixed. For the @DelemotteLab HPC environment 34 beads (32 of them moving) is a good starting point. Additional information about the parallelization can be found in the main `README.md` of the repository."
   ]
  },
  {
   "cell_type": "code",
   "execution_count": null,
   "metadata": {},
   "outputs": [],
   "source": [
    "start = mda.Universe(\"topology/5VKH.pdb\")"
   ]
  },
  {
   "cell_type": "markdown",
   "metadata": {},
   "source": [
    "## Defining the CVs\n",
    "\n",
    "The dictionary `ndx_groups` defines the index groups that will be added to `index0.ndx` and will be used by gmx to calculate the string cvs. The key-value pairs of the dictionary are the alias of the index group (no spaces please) and the `MDAnalysis` selection-string of the group. You can read more about MDAnalysis selections [here](https://docs.mdanalysis.org/stable/documentation_pages/selections.html). \n",
    "\n",
    "The cvs will be the distances between the centers of mass of the consequtive pairs of groups.\n",
    "\n",
    "In this example bellow there would be two CVs: \n",
    "```python \n",
    "ndx_groups = {\n",
    "    \"CA_77_A\": \"name CA and resid 77 and segid PROA\",\n",
    "    \"CA_77_B\": \"name CA and resid 77 and segid PROB\",\n",
    "    \"112_A\": \"resid 112 and segid PROA\",\n",
    "    \"13_C\": \"resid 13 and segid PROC\",\n",
    "}\n",
    "```\n",
    "1. The distance between CA atoms of resid 77 of segid PROA and resid 77 of segment PROB.\n",
    "2. The distance between the center of mass of resid 112 of segid PROA and the center of mass of resid 13 of segid PROC. \n",
    "\n",
    "For this example we will use other CVs special for GPCRs. In this case we will select the atoms by using their index number. If a group or groups are involved in two distances, for the set up of this notebook, its best to write them twice in this list with a slightly different name. This is the case for `a_4334`  which is involved in two distances with `a_863` and also `a_1971`. For this reason we add the entries `a_863b` and also `a_1971b`."
   ]
  },
  {
   "cell_type": "markdown",
   "metadata": {},
   "source": [
    "The next cell will show you which pairs will be used as cvs:"
   ]
  },
  {
   "cell_type": "code",
   "execution_count": null,
   "metadata": {},
   "outputs": [],
   "source": [
    "ndx_groups = {\n",
    "    \"CA_77_A\": \"name CA and resid 77 and segid PROA\",\n",
    "    \"CA_77_B\": \"name CA and resid 77 and segid PROB\",\n",
    "    \"CA_77_C\": \"name CA and resid 77 and segid PROC\",\n",
    "    \"CA_77_D\": \"name CA and resid 77 and segid PROD\",\n",
    "    #\n",
    "    \"CA_77_A_2\": \"name CA and resid 77 and segid PROA\",\n",
    "    \"CA_77_C_2\": \"name CA and resid 77 and segid PROC\",\n",
    "    \"CA_77_D_2\": \"name CA and resid 77 and segid PROD\",\n",
    "    \"CA_77_B_2\": \"name CA and resid 77 and segid PROB\",\n",
    "    \"CA_77_A_3\": \"name CA and resid 77 and segid PROA\",\n",
    "    \"CA_77_D_3\": \"name CA and resid 77 and segid PROD\",\n",
    "    \"CA_77_C_3\": \"name CA and resid 77 and segid PROC\",\n",
    "    \"CA_77_B_3\": \"name CA and resid 77 and segid PROB\",\n",
    "    #\n",
    "    \"CA_104_A\": \"name CA and resid 104 and segid PROA\",\n",
    "    \"CA_104_B\": \"name CA and resid 104 and segid PROB\",\n",
    "    \"CA_104_C\": \"name CA and resid 104 and segid PROC\",\n",
    "    \"CA_104_D\": \"name CA and resid 104 and segid PROD\",\n",
    "    #\n",
    "    \"CA_108_A\": \"name CA and resid 108 and segid PROA\",\n",
    "    \"CA_108_B\": \"name CA and resid 108 and segid PROB\",\n",
    "    \"CA_108_C\": \"name CA and resid 108 and segid PROC\",\n",
    "    \"CA_108_D\": \"name CA and resid 108 and segid PROD\",\n",
    "    #\n",
    "    \"CA_112_A\": \"name CA and resid 112 and segid PROA\",\n",
    "    \"CA_112_B\": \"name CA and resid 112 and segid PROB\",\n",
    "    \"CA_112_C\": \"name CA and resid 112 and segid PROC\",\n",
    "    \"CA_112_D\": \"name CA and resid 112 and segid PROD\",\n",
    "    #\n",
    "    \"CZ_103_A\": \"resid 103 and name CZ and segid PROA\",\n",
    "    \"CG2_74_A\": \"resid 74 and name CG2 and segid PROA\",\n",
    "    \"CZ_103_B\": \"resid 103 and name CZ and segid PROB\",\n",
    "    \"CG2_74_B\": \"resid 74 and name CG2 and segid PROB\",\n",
    "    \"CZ_103_C\": \"resid 103 and name CZ and segid PROC\",\n",
    "    \"CG2_74_C\": \"resid 74 and name CG2 and segid PROC\",\n",
    "    \"CZ_103_D\": \"resid 103 and name CZ and segid PROD\",\n",
    "    \"CG2_74_D\": \"resid 74 and name CG2 and segid PROD\",\n",
    "    #\n",
    "    \"CD_100_A\": \"resid 100 and name CD and segid PROA\",\n",
    "    \"CG2_75_A\": \"resid 75 and name CG2 and segid PROA\",\n",
    "    \"CD_100_B\": \"resid 100 and name CD and segid PROB\",\n",
    "    \"CG2_75_B\": \"resid 75 and name CG2 and segid PROB\",\n",
    "    \"CD_100_C\": \"resid 100 and name CD and segid PROC\",\n",
    "    \"CG2_75_C\": \"resid 75 and name CG2 and segid PROC\",\n",
    "    \"CD_100_D\": \"resid 100 and name CD and segid PROD\",\n",
    "    \"CG2_75_D\": \"resid 75 and name CG2 and segid PROD\",\n",
    "    #\n",
    "    \"CZ_103_A_2\": \"resid 103 and name CZ and segid PROA\",\n",
    "    \"CD_100_D_2\": \"resid 100 and name CD and segid PROD\",\n",
    "    \"CD_100_B_2\": \"resid 100 and name CD and segid PROB\",\n",
    "    \"CZ_103_D_2\": \"resid 103 and name CZ and segid PROD\",\n",
    "    \"CZ_103_B_2\": \"resid 103 and name CZ and segid PROB\",\n",
    "    \"CD_100_C_2\": \"resid 100 and name CD and segid PROC\",\n",
    "    \"CD_100_A_2\": \"resid 100 and name CD and segid PROA\",\n",
    "    \"CZ_103_C_2\": \"resid 103 and name CZ and segid PROC\",\n",
    "    #\n",
    "    \"CA_114_A\": \"resid 114 and name CA and segid PROA\",\n",
    "    \"CA_32_D\": \"resid 32 and name CA and segid PROD\",\n",
    "    \"CA_32_B\": \"resid 32 and name CA and segid PROB\",\n",
    "    \"CA_114_D\": \"resid 114 and name CA and segid PROD\",\n",
    "    \"CA_114_B\": \"resid 114 and name CA and segid PROB\",\n",
    "    \"CA_32_C\": \"resid 32 and name CA and segid PROC\",\n",
    "    \"CA_32_A\": \"resid 32 and name CA and segid PROA\",\n",
    "    \"CA_114_C\": \"resid 114 and name CA and segid PROC\",\n",
    "    #\n",
    "    \"CA_32_A_2\": \"resid 32 and name CA and segid PROA\",\n",
    "    \"CA_114_A_2\": \"resid 114 and name CA and segid PROA\",\n",
    "    \"CA_32_B_2\": \"resid 32 and name CA and segid PROB\",\n",
    "    \"CA_114_B_2\": \"resid 114 and name CA and segid PROB\",\n",
    "    \"CA_32_C_2\": \"resid 32 and name CA and segid PROC\",\n",
    "    \"CA_114_C_2\": \"resid 114 and name CA and segid PROC\",\n",
    "    \"CA_32_D_2\": \"resid 32 and name CA and segid PROD\",\n",
    "    \"CA_114_D_2\": \"resid 114 and name CA and segid PROD\",\n",
    "    #\n",
    "    \"CA_118_A\": \"resid 118 and name CA and segid PROA\",\n",
    "    \"CA_28_D\": \"resid 28 and name CA and segid PROD\",\n",
    "    \"CA_28_B\": \"resid 28 and name CA and segid PROB\",\n",
    "    \"CA_118_D\": \"resid 118 and name CA and segid PROD\",\n",
    "    \"CA_118_B\": \"resid 118 and name CA and segid PROB\",\n",
    "    \"CA_28_C\": \"resid 28 and name CA and segid PROC\",\n",
    "    \"CA_28_A\": \"resid 28 and name CA and segid PROA\",\n",
    "    \"CA_118_C\": \"resid 118 and name CA and segid PROC\",\n",
    "    #\n",
    "    \"OG1_107_A\": \"resid 107 and name OG1 and segid PROA\",\n",
    "    \"OG1_101_D\": \"resid 101 and name OG1 and segid PROD\",\n",
    "    \"OG1_101_B\": \"resid 101 and name OG1 and segid PROB\",\n",
    "    \"OG1_107_D\": \"resid 107 and name OG1 and segid PROD\",\n",
    "    \"OG1_107_B\": \"resid 107 and name OG1 and segid PROB\",\n",
    "    \"OG1_101_C\": \"resid 101 and name OG1 and segid PROC\",\n",
    "    \"OG1_101_A\": \"resid 101 and name OG1 and segid PROA\",\n",
    "    \"OG1_107_C\": \"resid 107 and name OG1 and segid PROC\",\n",
    "    #\n",
    "    \"NE1_67_A\": \"resid 67 and name NE1 and segid PROA\",\n",
    "    \"CG_80_A\": \"resid 80 and name CG and segid PROA\",\n",
    "    \"NE1_67_B\": \"resid 67 and name NE1 and segid PROB\",\n",
    "    \"CG_80_B\": \"resid 80 and name CG and segid PROB\",\n",
    "    \"NE1_67_C\": \"resid 67 and name NE1 and segid PROC\",\n",
    "    \"CG_80_C\": \"resid 80 and name CG and segid PROC\",\n",
    "    \"NE1_67_D\": \"resid 67 and name NE1 and segid PROD\",\n",
    "    \"CG_80_D\": \"resid 80 and name CG and segid PROD\",\n",
    "    #\n",
    "    \"OE1_71_A_2\": \"resid 71 and name OE1 and segid PROA\",\n",
    "    \"CA_68_A\": \"resid 68 and name CA and segid PROA\",\n",
    "    \"OE1_71_B_2\": \"resid 71 and name OE1 and segid PROB\",\n",
    "    \"CA_68_B\": \"resid 68 and name CA and segid PROB\",\n",
    "    \"OE1_71_C_2\": \"resid 71 and name OE1 and segid PROC\",\n",
    "    \"CA_68_C\": \"resid 68 and name CA and segid PROC\",\n",
    "    \"OE1_71_D_2\": \"resid 71 and name OE1 and segid PROD\",\n",
    "    \"CA_68_D\": \"resid 68 and name CA and segid PROD\",\n",
    "    #\n",
    "    \"OE1_71_A\": \"resid 71 and name OE1 and segid PROA\",\n",
    "    \"HN_78_A\": \"resid 78 and name HN and segid PROA\",\n",
    "    \"OE1_71_B\": \"resid 71 and name OE1 and segid PROB\",\n",
    "    \"HN_78_B\": \"resid 78 and name HN and segid PROB\",\n",
    "    \"OE1_71_C\": \"resid 71 and name OE1 and segid PROC\",\n",
    "    \"HN_78_C\": \"resid 78 and name HN and segid PROC\",\n",
    "    \"OE1_71_D\": \"resid 71 and name OE1 and segid PROD\",\n",
    "    \"HN_78_D\": \"resid 78 and name HN and segid PROD\",\n",
    "    #\n",
    "    \"CA_74_A\": \"resid 74 and name CA and segid PROA\",\n",
    "    \"CA_79_A\": \"resid 79 and name CA and segid PROA\",\n",
    "    \"CA_74_B\": \"resid 74 and name CA and segid PROB\",\n",
    "    \"CA_79_B\": \"resid 79 and name CA and segid PROB\",\n",
    "    \"CA_74_C\": \"resid 74 and name CA and segid PROC\",\n",
    "    \"CA_79_C\": \"resid 79 and name CA and segid PROC\",\n",
    "    \"CA_74_D\": \"resid 74 and name CA and segid PROD\",\n",
    "    \"CA_79_D\": \"resid 79 and name CA and segid PROD\",\n",
    "    #\n",
    "#    \"O_76_A\": \"resid 76 and name O and segid PROA\",\n",
    "#    \"HN_77_D\": \"resid 77 and name HN and segid PROD\",\n",
    "#    \"O_76_B\": \"resid 76 and name O and segid PROB\",\n",
    "#    \"HN_77_C\": \"resid 77 and name HN and segid PROC\",\n",
    "#    \"O_76_C\": \"resid 76 and name O and segid PROC\",\n",
    "#    \"HN_77_A\": \"resid 77 and name HN and segid PROA\",\n",
    "#    \"O_76_D\": \"resid 76 and name O and segid PROD\",\n",
    "#    \"HN_77_B\": \"resid 77 and name HN and segid PROB\",\n",
    "    #\n",
    "#    \"OE1_71_A\": \"resid 71 and name OE1 and segid PROA\",\n",
    "#    \"HE1_67_A\": \"resid 67 and name HE1 and segid PROA\",\n",
    "#    \"OE1_71_B\": \"resid 71 and name OE1 and segid PROB\",\n",
    "#    \"HE1_67_B\": \"resid 67 and name HE1 and segid PROB\",\n",
    "#    \"OE1_71_C\": \"resid 71 and name OE1 and segid PROC\",\n",
    "#    \"HE1_67_C\": \"resid 67 and name HE1 and segid PROC\",\n",
    "#    \"OE1_71_D\": \"resid 71 and name OE1 and segid PROD\",\n",
    "#    \"HE1_67_D\": \"resid 67 and name HE1 and segid PROD\",\n",
    "#    #\n",
    "#    \"OE1_71_A\": \"resid 71 and name OE1 and segid PROA\",\n",
    "#    \"HE1_67_A\": \"resid 67 and name HE1 and segid PROA\",\n",
    "#    \"OE1_71_B\": \"resid 71 and name OE1 and segid PROB\",\n",
    "#    \"HE1_67_B\": \"resid 67 and name HE1 and segid PROB\",\n",
    "#    \"OE1_71_C\": \"resid 71 and name OE1 and segid PROC\",\n",
    "#    \"HE1_67_C\": \"resid 67 and name HE1 and segid PROC\",\n",
    "#    \"OE1_71_D\": \"resid 71 and name OE1 and segid PROD\",\n",
    "#    \"HE1_67_D\": \"resid 67 and name HE1 and segid PROD\",\n",
    "#    #\n",
    "    \"CD1_67_A\": \"resid 67 and name CD1 and segid PROA\",\n",
    "    \"CG_81_A\": \"resid 81 and name CG and segid PROA\",\n",
    "    \"CD1_67_B\": \"resid 67 and name CD1 and segid PROB\",\n",
    "    \"CG_81_B\": \"resid 81 and name CG and segid PROB\",\n",
    "    \"CD1_67_C\": \"resid 67 and name CD1 and segid PROC\",\n",
    "    \"CG_81_C\": \"resid 81 and name CG and segid PROC\",\n",
    "    \"CD1_67_D\": \"resid 67 and name CD1 and segid PROD\",\n",
    "    \"CG_81_D\": \"resid 81 and name CG and segid PROD\",\n",
    "}\n",
    "n_groups = len(ndx_groups.keys())"
   ]
  },
  {
   "cell_type": "code",
   "execution_count": null,
   "metadata": {
    "tags": []
   },
   "outputs": [],
   "source": [
    "cvs = []\n",
    "for i in range(1, len(ndx_groups) + 1, 2):\n",
    "    cvs.append([i, i + 1])\n",
    "n_cvs = len(cvs)\n",
    "print(\"Pairs of groups whose distance are cvs:\")\n",
    "keys_groups = list(ndx_groups.keys())\n",
    "for i in range(n_cvs):\n",
    "    print(f\"cv{i} {keys_groups[cvs[i][0]-1]} - {keys_groups[cvs[i][1]-1]}\")"
   ]
  },
  {
   "cell_type": "markdown",
   "metadata": {},
   "source": [
    "If your atoms groups have more than 1 atom. With the code bellow you can check the masses of the atoms used in the groups to see if something is fishy:"
   ]
  },
  {
   "cell_type": "code",
   "execution_count": null,
   "metadata": {
    "tags": []
   },
   "outputs": [],
   "source": [
    "print(\"Masses for the start config.\")\n",
    "print(\" \")\n",
    "for key in ndx_groups.keys():\n",
    "    mass = start.select_atoms(ndx_groups[key]).masses\n",
    "    print(f\"Masses of {key}: \", end=\" \")\n",
    "    for i in mass:\n",
    "        print(i, end=\" \")\n",
    "    print()"
   ]
  },
  {
   "cell_type": "markdown",
   "metadata": {},
   "source": [
    "## Choosing force constants\n",
    "\n",
    "The list `kappas` contains the force constants for the steered simulation, the restrained portions of the string-simulation and the swarms of the the string-simulation.\n",
    "\n",
    "The force constant of the swarm simulation should always be 0."
   ]
  },
  {
   "cell_type": "code",
   "execution_count": null,
   "metadata": {},
   "outputs": [],
   "source": [
    "kappas = [10000.0, 10000.0, 0.0]\n",
    "assert kappas[2] == 0.0, \"The kappa of the swarm simulation should be 0\""
   ]
  },
  {
   "cell_type": "markdown",
   "metadata": {},
   "source": [
    "These are the printing frequency of the cvs (pull-coordinates), best not to modify."
   ]
  },
  {
   "cell_type": "code",
   "execution_count": null,
   "metadata": {},
   "outputs": [],
   "source": [
    "nstxout = [50000, 5000, 5000]"
   ]
  },
  {
   "cell_type": "markdown",
   "metadata": {},
   "source": [
    "## Making the input files:\n",
    "\n",
    "At this point you need to modify `swarms.mdp`, `restrained.mdp` and `steered.mdp`. There are instructions inside of which parts need to be modified. The pull section will be modified by this notebook.\n",
    "\n",
    "The cell bellow will append the pull-coord parameters to the `mdp` files and append the groups for cvs to `index0.ndx` generating `index.ndx`.\n",
    "\n",
    "A pickle file with the `cvs`and `ndx_groups` will be generated for future reference.\n",
    "\n",
    "If you are re-running this notebook to check the steering simulation set `write_mdps = False`."
   ]
  },
  {
   "cell_type": "code",
   "execution_count": null,
   "metadata": {},
   "outputs": [],
   "source": [
    "write_mdps = True"
   ]
  },
  {
   "cell_type": "code",
   "execution_count": null,
   "metadata": {},
   "outputs": [],
   "source": [
    "pickle.dump([cvs, ndx_groups], open(\"cv_steer.pkl\", \"wb\"))"
   ]
  },
  {
   "cell_type": "code",
   "execution_count": null,
   "metadata": {},
   "outputs": [],
   "source": [
    "shutil.copy(\"topology/index0.ndx\", \"topology/index.ndx\")\n",
    "\n",
    "for key in ndx_groups.keys():\n",
    "    group = start.select_atoms(ndx_groups[key])\n",
    "    group.write(\"topology/index.ndx\", name=key, mode=\"a\")\n",
    "\n",
    "files = [\n",
    "    open(file, \"r\").readlines()\n",
    "    for file in [\"mdp/steered.mdp\", \"mdp/restrained.mdp\", \"mdp/swarms.mdp\"]\n",
    "]\n",
    "\n",
    "for j, file in enumerate(files):\n",
    "    final_line = len(file)\n",
    "    for i, line in enumerate(file):\n",
    "        if line.strip() == \";start pull\":\n",
    "            final_line = i\n",
    "            break\n",
    "    if line.strip() != \";start pull\":\n",
    "        file.append(\";start pull\")\n",
    "    files[j] = file[0 : final_line + 1]\n",
    "\n",
    "for f, file in enumerate(files):\n",
    "    file.append(\"\\n\")\n",
    "    file.append(\"pull = yes\\n\")\n",
    "    file.append(f\"pull-ngroups = {n_groups}\\n\")\n",
    "    file.append(\"\\n\")\n",
    "    for i, key in enumerate(ndx_groups.keys()):\n",
    "        file.append(f\"pull-group{i+1}-name = {key}\\n\")\n",
    "    file.append(\"\\n\")\n",
    "    file.append(f\"pull-ncoords = {n_cvs}\\n\")\n",
    "    for i, cv in enumerate(cvs):\n",
    "        if len(cv) == 2:\n",
    "            file.append(f\"pull-coord{i+1}-geometry = distance\\n\")\n",
    "            file.append(f\"pull-coord{i+1}-k = {kappas[f]}\\n\")\n",
    "            g = \" \".join(str(e) for e in cv)\n",
    "            file.append(f\"pull-coord{i+1}-groups = {g}\\n\")\n",
    "    file.append(\"\\n\")\n",
    "    file.append(\"pull-print-components = no\\n\")\n",
    "    file.append(f\"pull-nstxout = {nstxout[f]}\\n\")\n",
    "    file.append(\"pull-nstfout = 0\\n\")\n",
    "\n",
    "if write_mdps:\n",
    "    for f, file_string in enumerate(\n",
    "        [\"mdp/steered.mdp\", \"mdp/restrained.mdp\", \"mdp/swarms.mdp\"]\n",
    "    ):\n",
    "        with open(file_string, \"w\") as file:\n",
    "            for line in files[f]:\n",
    "                file.write(line)"
   ]
  },
  {
   "cell_type": "markdown",
   "metadata": {},
   "source": [
    "Now that the `.mdp` files and indeces have been made it is always a good idea to check them out and see they do what you want them to. The pull coordinates are missing some parameters that are automatically added during simulation. Here are mdp parameters of gmx for [reference](https://manual.gromacs.org/documentation/2020/user-guide/mdp-options.html#com-pulling)."
   ]
  },
  {
   "cell_type": "markdown",
   "metadata": {},
   "source": [
    "## Making the initial string `string0.txt`"
   ]
  },
  {
   "cell_type": "markdown",
   "metadata": {},
   "source": [
    "If you have made your own string you can skip this section and place its corresponding file in `strings/string0.txt`. Remember this file must follow the `np.savetxt` format and have shape (n_bead, ncvs).\n",
    "\n",
    "If you don't have a string0.txt. You can created with the code below. The code makes a linear interpolation between the value of the CVs at `start.gro` and `end.gro`. If you want something fancier, you can program any thing you want."
   ]
  },
  {
   "cell_type": "code",
   "execution_count": null,
   "metadata": {},
   "outputs": [],
   "source": [
    "# 12+12+12\n",
    "n_beads = 12"
   ]
  },
  {
   "cell_type": "code",
   "execution_count": null,
   "metadata": {},
   "outputs": [],
   "source": [
    "%rm string/string_*"
   ]
  },
  {
   "cell_type": "code",
   "execution_count": null,
   "metadata": {},
   "outputs": [],
   "source": [
    "universes = [\n",
    "mda.Universe(\"topology/5VKH.pdb\"),\n",
    "mda.Universe(\"topology/3FB5.pdb\"),\n",
    "mda.Universe(\"topology/5VK6.pdb\"),\n",
    "mda.Universe(\"topology/5VKE.pdb\"),\n",
    "]\n",
    "initial=universes[0]\n",
    "letters = ascii_lowercase\n",
    "for i, final in enumerate(universes[1:]):\n",
    "    dis_s = []\n",
    "    dis_e = []\n",
    "    for cv in cvs:\n",
    "        dis_s.append(\n",
    "            distance_atom_groups(\n",
    "                initial,\n",
    "                initial.select_atoms(ndx_groups[list(ndx_groups.keys())[cv[0] - 1]]),\n",
    "                initial.select_atoms(ndx_groups[list(ndx_groups.keys())[cv[1] - 1]]),\n",
    "                progressbar=False,\n",
    "                center_of_mass=True,\n",
    "            )[0][1]\n",
    "        )\n",
    "        dis_e.append(\n",
    "            distance_atom_groups(\n",
    "                final,\n",
    "                final.select_atoms(ndx_groups[list(ndx_groups.keys())[cv[0] - 1]]),\n",
    "                final.select_atoms(ndx_groups[list(ndx_groups.keys())[cv[1] - 1]]),\n",
    "                progressbar=False,\n",
    "                center_of_mass=True,\n",
    "            )[0][1]\n",
    "        )\n",
    "    dis_s = np.array(dis_s)\n",
    "    dis_e = np.array(dis_e)\n",
    "    string = np.linspace(dis_s, dis_e, n_beads) / 10\n",
    "    np.savetxt(f\"strings/string_{letters[i]}.txt\", string)\n",
    "    initial = final\n",
    "    print(f\"strings/string_{letters[i]}.txt\")"
   ]
  },
  {
   "cell_type": "code",
   "execution_count": null,
   "metadata": {},
   "outputs": [],
   "source": [
    "%ls strings"
   ]
  },
  {
   "cell_type": "markdown",
   "metadata": {},
   "source": [
    "Print out the string."
   ]
  },
  {
   "cell_type": "code",
   "execution_count": null,
   "metadata": {},
   "outputs": [],
   "source": [
    "string = np.concatenate(\n",
    "    [\n",
    "        np.loadtxt(\"strings/string_a.txt\"),\n",
    "        np.loadtxt(\"strings/string_b.txt\")[1:],\n",
    "        np.loadtxt(\"strings/string_c.txt\")[1:],\n",
    "    ]\n",
    ")"
   ]
  },
  {
   "cell_type": "markdown",
   "metadata": {},
   "source": [
    "FROM CLOSED TO INACTIVATED"
   ]
  },
  {
   "cell_type": "code",
   "execution_count": null,
   "metadata": {},
   "outputs": [],
   "source": [
    "k = np.linspace(string[0, 48:56], string[22, 48:56], 23)"
   ]
  },
  {
   "cell_type": "code",
   "execution_count": null,
   "metadata": {},
   "outputs": [],
   "source": [
    "string[0:23, 48:56] = k"
   ]
  },
  {
   "cell_type": "code",
   "execution_count": null,
   "metadata": {},
   "outputs": [],
   "source": [
    "k = np.concatenate([\n",
    "    np.linspace(5.2,7, 3),\n",
    "    np.linspace(7, 7, 9),\n",
    "    np.linspace(7, 5.2, 4),\n",
    "    np.linspace(5.2, 5.2, 18),\n",
    "])/10."
   ]
  },
  {
   "cell_type": "code",
   "execution_count": null,
   "metadata": {},
   "outputs": [],
   "source": [
    "k = k[::-1]"
   ]
  },
  {
   "cell_type": "code",
   "execution_count": null,
   "metadata": {},
   "outputs": [],
   "source": [
    "k"
   ]
  },
  {
   "cell_type": "code",
   "execution_count": null,
   "metadata": {},
   "outputs": [],
   "source": [
    "for i in range(1,5):\n",
    "    string[:,-i] = k"
   ]
  },
  {
   "cell_type": "code",
   "execution_count": null,
   "metadata": {},
   "outputs": [],
   "source": [
    "np.savetxt(\"strings/string0.txt\", string)"
   ]
  },
  {
   "cell_type": "code",
   "execution_count": null,
   "metadata": {},
   "outputs": [],
   "source": [
    "np.savetxt(\"strings/string_steer.txt\", string)"
   ]
  },
  {
   "cell_type": "markdown",
   "metadata": {},
   "source": [
    "## Visualize the string"
   ]
  },
  {
   "cell_type": "code",
   "execution_count": null,
   "metadata": {},
   "outputs": [],
   "source": [
    "with open(\"topology/show_cv.tcl\",\"w\") as file:\n",
    "    file.write(\"set mol [molinfo top]\\n\")\n",
    "    for cv in cvs:\n",
    "        i=start.select_atoms(ndx_groups[list(ndx_groups.keys())[cv[0] - 1]]).indices[0]\n",
    "        j=start.select_atoms(ndx_groups[list(ndx_groups.keys())[cv[1] - 1]]).indices[0]\n",
    "        file.write(f\"label add Bonds $mol/{i} $mol/{j}\\n\")"
   ]
  },
  {
   "cell_type": "markdown",
   "metadata": {},
   "source": [
    "Independently of if you have made your own string or with this program you can visualize it with the cell bellow. "
   ]
  },
  {
   "cell_type": "code",
   "execution_count": null,
   "metadata": {},
   "outputs": [],
   "source": [
    "string = np.loadtxt(\"strings/string0.txt\")\n",
    "n_plots = string.shape[1]\n",
    "fig, ax = plt.subplots(ceil(n_plots / 2), 2, figsize=(15, 4 * ceil(n_plots / 2)))\n",
    "ax = ax.flatten()\n",
    "for i in range(n_plots):\n",
    "    ax[i].plot(string[:, i], ls=\"\", marker=\"x\", label=\"string0\")\n",
    "    ax[i].set_xlabel(\n",
    "        f\"{list(ndx_groups.keys())[2*i]} - {list(ndx_groups.keys())[2*i+1]}\", size=16\n",
    "    )\n",
    "    ax[i].set_ylabel(\"d (nm)\", size=16)\n",
    "    ax[i].tick_params(axis=\"both\", which=\"major\", labelsize=13)\n",
    "    ax[i].set_title(f\"cv{i}\")\n",
    "ax[1].legend()\n",
    "if n_plots % 2:\n",
    "    fig.delaxes(ax[-1])\n",
    "fig.tight_layout()"
   ]
  },
  {
   "cell_type": "markdown",
   "metadata": {},
   "source": [
    "## Next steps"
   ]
  },
  {
   "cell_type": "markdown",
   "metadata": {},
   "source": [
    "At this point, we are ready to prepared to run the steering simulations if needed. Refer to the README.md for further indications."
   ]
  },
  {
   "cell_type": "code",
   "execution_count": null,
   "metadata": {},
   "outputs": [],
   "source": []
  }
 ],
 "metadata": {
  "kernelspec": {
   "display_name": "string_method",
   "language": "python",
   "name": "string_method"
  },
  "language_info": {
   "codemirror_mode": {
    "name": "ipython",
    "version": 3
   },
   "file_extension": ".py",
   "mimetype": "text/x-python",
   "name": "python",
   "nbconvert_exporter": "python",
   "pygments_lexer": "ipython3",
   "version": "3.8.5"
  },
  "widgets": {
   "application/vnd.jupyter.widget-state+json": {
    "state": {},
    "version_major": 2,
    "version_minor": 0
   }
  }
 },
 "nbformat": 4,
 "nbformat_minor": 4
}
