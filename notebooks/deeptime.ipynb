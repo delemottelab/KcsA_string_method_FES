{
 "cells": [
  {
   "cell_type": "code",
   "execution_count": null,
   "id": "4e563d39-002b-4fc4-9f3e-641da84c5cb1",
   "metadata": {},
   "outputs": [],
   "source": [
    "import deeptime.markov as markov\n",
    "\n",
    "estimator = markov.msm.MaximumLikelihoodMSM(\n",
    "    reversible=True,\n",
    "    stationary_distribution_constraint=None\n",
    ")"
   ]
  },
  {
   "cell_type": "code",
   "execution_count": null,
   "id": "0f086184-292a-4176-b587-a4e7478efa1a",
   "metadata": {},
   "outputs": [],
   "source": [
    "import numpy as np\n",
    "\n",
    "p11 = 0.97\n",
    "p22 = 0.97\n",
    "p33 = 0.97\n",
    "P = np.array([[p11, 1 - p11, 0], [.5*(1 - p22), p22, 0.5*(1-p22)], [0, 1-p33, p33]])\n",
    "true_msm = markov.msm.MarkovStateModel(P)"
   ]
  },
  {
   "cell_type": "code",
   "execution_count": null,
   "id": "df77739c-7d2c-450f-b193-7580dabde8b8",
   "metadata": {},
   "outputs": [],
   "source": [
    "trajectory = true_msm.simulate(50000)\n"
   ]
  },
  {
   "cell_type": "code",
   "execution_count": null,
   "id": "3654e5e3-4d31-4962-9490-3e82b31e449f",
   "metadata": {},
   "outputs": [],
   "source": [
    "counts_estimator = markov.TransitionCountEstimator(\n",
    "    lagtime=1, count_mode=\"sliding\"\n",
    ")\n",
    "counts = counts_estimator.fit([trajectory[i:i+10000] for i in range(5)]).fetch_model()"
   ]
  },
  {
   "cell_type": "code",
   "execution_count": null,
   "id": "5d9a3b58-9483-4f2b-a07b-6e49a1ad23ed",
   "metadata": {},
   "outputs": [],
   "source": [
    "msm = estimator.fit(counts).fetch_model()\n"
   ]
  },
  {
   "cell_type": "code",
   "execution_count": null,
   "id": "fefec77e-8c3a-4c73-af6d-89e53d011c63",
   "metadata": {},
   "outputs": [],
   "source": [
    "print(\"Estimated transition matrix:\", msm.transition_matrix)\n",
    "print(\"Estimated stationary distribution:\", msm.stationary_distribution)"
   ]
  },
  {
   "cell_type": "code",
   "execution_count": null,
   "id": "9e93e549-5158-4a00-af4f-2051aca855c1",
   "metadata": {},
   "outputs": [],
   "source": [
    "3*[trajectory]"
   ]
  },
  {
   "cell_type": "code",
   "execution_count": null,
   "id": "864377b9-0652-4a5f-896b-2754a340b821",
   "metadata": {},
   "outputs": [],
   "source": [
    "counts"
   ]
  },
  {
   "cell_type": "code",
   "execution_count": null,
   "id": "b9b18377-af0f-4352-a74b-9e3e2a452d18",
   "metadata": {},
   "outputs": [],
   "source": [
    "import numpy as np"
   ]
  },
  {
   "cell_type": "code",
   "execution_count": null,
   "id": "ffb7281a-d497-43ff-8705-662b9bb98cad",
   "metadata": {},
   "outputs": [],
   "source": [
    "np.array([12505, 24090, 13405]).sum()"
   ]
  },
  {
   "cell_type": "code",
   "execution_count": null,
   "id": "0d0e3ce4-a4ab-4913-b12c-9d6a896f5772",
   "metadata": {},
   "outputs": [],
   "source": []
  }
 ],
 "metadata": {
  "kernelspec": {
   "display_name": "string_method",
   "language": "python",
   "name": "string_method"
  },
  "language_info": {
   "codemirror_mode": {
    "name": "ipython",
    "version": 3
   },
   "file_extension": ".py",
   "mimetype": "text/x-python",
   "name": "python",
   "nbconvert_exporter": "python",
   "pygments_lexer": "ipython3",
   "version": "3.8.5"
  },
  "widgets": {
   "application/vnd.jupyter.widget-state+json": {
    "state": {},
    "version_major": 2,
    "version_minor": 0
   }
  }
 },
 "nbformat": 4,
 "nbformat_minor": 5
}
