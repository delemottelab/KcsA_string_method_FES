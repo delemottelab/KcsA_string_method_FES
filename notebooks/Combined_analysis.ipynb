{
 "cells": [
  {
   "cell_type": "code",
   "execution_count": null,
   "id": "e6a8738b-6ae1-4e56-aa6f-6932f2f82cc3",
   "metadata": {
    "tags": []
   },
   "outputs": [],
   "source": [
    "import os\n",
    "import sys\n",
    "import logging\n",
    "import numpy as np\n",
    "import matplotlib.pyplot as plt\n",
    "\n",
    "logging.getLogger(\"stringmethod\").setLevel(logging.ERROR)\n",
    "sys.path.append(\"../string-method-gmxapi/\")\n",
    "import src.analysis as spc"
   ]
  },
  {
   "cell_type": "code",
   "execution_count": null,
   "id": "5aba87b6-8cb8-4955-a8bc-7e43235c5332",
   "metadata": {},
   "outputs": [],
   "source": [
    "%load_ext lab_black\n",
    "%load_ext autoreload\n",
    "%autoreload 2"
   ]
  },
  {
   "cell_type": "markdown",
   "id": "fe28ba67-be3b-4beb-93c0-bfacd47127dc",
   "metadata": {
    "tags": []
   },
   "source": [
    "## Load data"
   ]
  },
  {
   "cell_type": "markdown",
   "id": "aaf6f94a-f5fc-46cb-91b0-406451adb396",
   "metadata": {},
   "source": [
    "This notebook needs to run in the string simulation folder, this cell will get you there. You also set up a path for writing the figures."
   ]
  },
  {
   "cell_type": "code",
   "execution_count": null,
   "id": "10f03e87-b85d-418f-899b-63702270899c",
   "metadata": {},
   "outputs": [],
   "source": [
    "path_raw = f\"/data/sperez/Projects/string_sims/data/raw/\"\n",
    "path_interim = f\"/data/sperez/Projects/string_sims/data/interim/\"\n",
    "path_processed = f\"/data/sperez/Projects/string_sims/data/processed/\"\n",
    "path_report = f\"/data/sperez/Projects/string_sims/reports/figures/all/\"\n",
    "os.chdir(path_raw)\n",
    "os.getcwd()"
   ]
  },
  {
   "cell_type": "code",
   "execution_count": null,
   "id": "050cf7e4-4a93-428a-be9a-3f2a6cc5bd94",
   "metadata": {},
   "outputs": [],
   "source": [
    "sim_name = {\n",
    "    \"C2I_lb_v1/\": \"PG-bound (CHARMM)\",\n",
    "    \"C2I_lb_v1_amber/\": \"PG-bound (AMBER)\",\n",
    "    \"C2I_v1/\": \"unbound (CHARMM)\",\n",
    "    \"C2I_v1_amber/\": \"unbound (AMBER)\",\n",
    "}"
   ]
  },
  {
   "cell_type": "code",
   "execution_count": null,
   "id": "853b5b8a-05c5-4f60-8127-a2da4ca89be4",
   "metadata": {},
   "outputs": [],
   "source": [
    "colors = {\n",
    "    \"C2I_lb_v1/\": \"C0\",\n",
    "    \"C2I_lb_v1_amber/\": \"C1\",\n",
    "    \"C2I_v1/\": \"C2\",\n",
    "    \"C2I_v1_amber/\": \"C3\",\n",
    "}"
   ]
  },
  {
   "cell_type": "markdown",
   "id": "285c3372-c72c-4562-8e7b-411c7db6657e",
   "metadata": {
    "tags": []
   },
   "source": [
    "## Path CVs FES"
   ]
  },
  {
   "cell_type": "code",
   "execution_count": null,
   "id": "d2920c0e-4858-4e0f-b351-1d1a9b34de1d",
   "metadata": {},
   "outputs": [],
   "source": [
    "error = {\n",
    "    \"C2I_lb_v1/\": [50, 3],\n",
    "    \"C2I_lb_v1_amber/\": [150, 3],\n",
    "    \"C2I_v1/\": [50, 3],\n",
    "    \"C2I_v1_amber/\": [50, 3],\n",
    "}"
   ]
  },
  {
   "cell_type": "code",
   "execution_count": null,
   "id": "d2f2e27f-0915-49eb-9be3-2abc4e9dbe39",
   "metadata": {},
   "outputs": [],
   "source": [
    "fig, ax = plt.subplots(1, 2, figsize=(20, 8), sharex=True, sharey=True)\n",
    "for i, names in enumerate(\n",
    "    [[\"C2I_lb_v1/\", \"C2I_v1/\"], [\"C2I_lb_v1/\", \"C2I_lb_v1_amber/\"]]\n",
    "):\n",
    "    for name in names:\n",
    "        F = np.load(f\"{path_processed}{name}FES_path.npy\")\n",
    "        ax[i].plot(F[0], F[1], marker=\".\", label=sim_name[name], color=colors[name])\n",
    "        n_boot = error[name][0]\n",
    "        error_block = error[name][1]\n",
    "        hdis = np.load(f\"{path_processed}{name}path_hdis_{n_boot}_5.npy\")\n",
    "        low = hdis[error_block, 0, :]\n",
    "        high = hdis[error_block, 1, :]\n",
    "        ax[i].fill_between(F[0], high, low, alpha=0.3, color=colors[name])\n",
    "    ax[i].legend(prop={\"size\": 20}, loc=\"best\")\n",
    "    ax[i].set_xlabel(\"s[path]\", size=20)\n",
    "    ax[i].set_ylabel(\"F (kT)\", size=20)\n",
    "fig.savefig(path_report + \"FES_path_cv.png\")"
   ]
  },
  {
   "cell_type": "code",
   "execution_count": null,
   "id": "6fffe653-a674-42be-a042-5deab5f7cca5",
   "metadata": {
    "tags": []
   },
   "outputs": [],
   "source": [
    "error_block = 16\n",
    "n_boot = 50\n",
    "n_blocks = len(blocks)\n",
    "fig, ax = plt.subplots(1, 1)\n",
    "s = np.linspace(extent[0], extent[1], nbins)\n",
    "hdis = np.load(f\"{path_processed}path_hdis_{n_boot}_{n_blocks}.npy\")\n",
    "low = hdis[blocks.index(error_block), 0, :]\n",
    "high = hdis[blocks.index(error_block), 1, :]\n",
    "ax.plot(s, F, marker=\"o\", label=label)\n",
    "ax.fill_between(s, high, low, alpha=0.3)\n",
    "ax.legend()\n",
    "ax.set_xlabel(\"s[path]\", size=15)\n",
    "ax.set_ylabel(\"FES (kT)\", size=15)\n",
    "fig.savefig(path_report + \"FES_path_cv.png\")"
   ]
  }
 ],
 "metadata": {
  "kernelspec": {
   "display_name": "string_method",
   "language": "python",
   "name": "string_method"
  },
  "language_info": {
   "codemirror_mode": {
    "name": "ipython",
    "version": 3
   },
   "file_extension": ".py",
   "mimetype": "text/x-python",
   "name": "python",
   "nbconvert_exporter": "python",
   "pygments_lexer": "ipython3",
   "version": "3.8.12"
  }
 },
 "nbformat": 4,
 "nbformat_minor": 5
}
