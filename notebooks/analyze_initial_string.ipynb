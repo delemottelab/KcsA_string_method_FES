{
 "cells": [
  {
   "cell_type": "markdown",
   "id": "running-deviation",
   "metadata": {},
   "source": [
    "# Analyze Initial String\n",
    "\n",
    "With this notebook you will be able to see if the initial string obtained from steering simulations (or the configurations you got some other way) are following the `string0.txt`. You will also be able to visualize the structures of the beads and compare them to the starting and final configurations."
   ]
  },
  {
   "cell_type": "code",
   "execution_count": null,
   "id": "actual-finland",
   "metadata": {},
   "outputs": [],
   "source": [
    "import glob\n",
    "import re\n",
    "import MDAnalysis as mda\n",
    "import matplotlib.pyplot as plt\n",
    "import pickle\n",
    "import numpy as np\n",
    "import os \n",
    "from math import ceil\n",
    "import nglview as nv\n",
    "import shutil\n",
    "\n",
    "\n",
    "def natural_sort(l):\n",
    "    \"\"\"\n",
    "    Takes as input a list l of strings and sorts it with natural order.\n",
    "      Parameters\n",
    "      ----------\n",
    "      l: list of strings.\n",
    "      Returns\n",
    "      -------\n",
    "      l sorted\n",
    "    \"\"\"\n",
    "    assert isinstance(l, list), \"l is not a list!\"\n",
    "    for i in l:\n",
    "        assert isinstance(i, str), \"List contains non-string elements.\"\n",
    "    convert = lambda text: int(text) if text.isdigit() else text.lower()\n",
    "    alphanum_key = lambda key: [convert(c) for c in re.split(\"([0-9]+)\", key)]\n",
    "    return sorted(l, key=alphanum_key)"
   ]
  },
  {
   "cell_type": "code",
   "execution_count": null,
   "id": "tough-affairs",
   "metadata": {},
   "outputs": [],
   "source": [
    "def distance_atom_groups(u, sel1, sel2, progressbar=True, center_of_mass=False):\n",
    "    \"\"\"\n",
    "    Calculate the distance between the centers of geometry (or mass) between two groups (sel1, sel2) as a function of time in the trajectory trj.\n",
    "\n",
    "    Parameters\n",
    "    ----------\n",
    "    u: MDA universe to analyz trajectory to analyze.\n",
    "    sel1: MDA selection containing at least 1 atom.\n",
    "    sel2: MDA selection containing at least 1 atom.\n",
    "    center_of_mass: Use the center of mass instead of center of geometry.\n",
    "    progressbar: Show progressbar.\n",
    "\n",
    "    Returns\n",
    "    -------\n",
    "    d: matplotlib figure object.\n",
    "    \"\"\"\n",
    "    from MDAnalysis import Universe\n",
    "    from MDAnalysis import AtomGroup\n",
    "    from numpy import array\n",
    "    from tqdm import tqdm\n",
    "    from numpy.linalg import norm\n",
    "\n",
    "    assert isinstance(u, Universe), \"u should be a MDAnlaysis universe.\"\n",
    "    assert isinstance(sel1, AtomGroup), \"sel1 should be a MDAnlaysis universe.\"\n",
    "    assert isinstance(sel2, AtomGroup), \"sel2 should be a MDAnlaysis universe.\"\n",
    "    assert isinstance(progressbar, bool), \"progressbar should be boolean.\"\n",
    "    assert sel1.n_atoms >= 1, \"sel1 should have at least 1 atom.\"\n",
    "    assert sel2.n_atoms >= 1, \"sel2 should have at least 1 atom.\"\n",
    "\n",
    "    d = []\n",
    "    for i, ts in tqdm(\n",
    "        enumerate(u.trajectory), total=u.trajectory.n_frames, disable=not progressbar\n",
    "    ):\n",
    "        if center_of_mass:\n",
    "            csel1 = sel1.center_of_mass()\n",
    "            csel2 = sel2.center_of_mass()\n",
    "        else:\n",
    "            csel1 = sel1.centroid()\n",
    "            csel2 = sel2.centroid()\n",
    "        d.append([ts.dt * i, norm(csel1 - csel2)])\n",
    "    return array(d)"
   ]
  },
  {
   "cell_type": "markdown",
   "id": "46958ff9-96cc-4913-885a-334a8dcc55dd",
   "metadata": {},
   "source": [
    "Choose working directory\n",
    "\n",
    "In the cell bellow you can select which will be the simulation directory (in case this notebook is elsewhere). If the notebook is in the simulation directory just leave it as \".\"."
   ]
  },
  {
   "cell_type": "code",
   "execution_count": null,
   "id": "24f997b5-91f1-4ba7-982c-1942370a09b9",
   "metadata": {},
   "outputs": [],
   "source": [
    "%ls ../data/raw"
   ]
  },
  {
   "cell_type": "code",
   "execution_count": null,
   "id": "5f12dc50-3232-4168-931e-a796384ababb",
   "metadata": {},
   "outputs": [],
   "source": [
    "simulation_directory = \"/data/sperez/Projects/string_sims/data/raw/C2I_v1_amber/\"\n",
    "os.chdir(simulation_directory)\n",
    "os.getcwd()"
   ]
  },
  {
   "cell_type": "markdown",
   "id": "spare-reducing",
   "metadata": {},
   "source": [
    "Read in the bead paths and cv variables."
   ]
  },
  {
   "cell_type": "code",
   "execution_count": null,
   "id": "7df9c1cf-6514-4df2-99db-fb750e1045e0",
   "metadata": {},
   "outputs": [],
   "source": [
    "beads = [\"0\",\"2\",\"4\",\"6\",\"8\",\"10\",\"12\",\"14\",\"16\",\"18\",\"20\",\"22\",\"24\",\"26\",\"28\" ,\"30\",\"32\", \"33\"]\n",
    "for i in range(len(beads)):\n",
    "    beads[i] = f\"0_save/{beads[i]}/restrained\""
   ]
  },
  {
   "cell_type": "code",
   "execution_count": null,
   "id": "distant-cassette",
   "metadata": {},
   "outputs": [],
   "source": [
    "beads = natural_sort(glob.glob(\"md/1/*/restrained\"))"
   ]
  },
  {
   "cell_type": "code",
   "execution_count": null,
   "id": "ae13b307-c8f5-4f29-aa69-88fdc1585bd7",
   "metadata": {},
   "outputs": [],
   "source": [
    "beads = natural_sort(glob.glob(\"0_34beads/*/restrained\"))"
   ]
  },
  {
   "cell_type": "code",
   "execution_count": null,
   "id": "d8d51804-d292-4c94-bbe9-7b32e9971f53",
   "metadata": {},
   "outputs": [],
   "source": [
    "cvs, ndx_groups = pickle.load(open(\"cv_steer.pkl\", \"rb\"))"
   ]
  },
  {
   "cell_type": "code",
   "execution_count": null,
   "id": "ea2c957d-0a44-40b3-acd2-31bb3b1207c3",
   "metadata": {},
   "outputs": [],
   "source": [
    "cvs, ndx_groups = pickle.load(open(\"cv.pkl\", \"rb\"))"
   ]
  },
  {
   "cell_type": "code",
   "execution_count": null,
   "id": "364ddabd-afec-4b47-a9f5-5f8d3cfb2192",
   "metadata": {},
   "outputs": [],
   "source": [
    "len(ndx_groups)"
   ]
  },
  {
   "cell_type": "markdown",
   "id": "opening-major",
   "metadata": {},
   "source": [
    "Calculate the values of the CVs in the `md/0/*/restrained/confout.gro` files."
   ]
  },
  {
   "cell_type": "code",
   "execution_count": null,
   "id": "painted-accused",
   "metadata": {},
   "outputs": [],
   "source": [
    "topology = 'topology/5VKH.pdb'\n",
    "dis = []\n",
    "\n",
    "for b in beads[:]:\n",
    "\n",
    "    if topology != None:\n",
    "        u = mda.Universe(topology, b + \"/confout.gro\")\n",
    "    else:\n",
    "        u = mda.Universe(b + \"/confout.gro\")\n",
    "    d = []\n",
    "    for cv in cvs:\n",
    "        d.append(\n",
    "            distance_atom_groups(\n",
    "                u,\n",
    "                u.select_atoms(ndx_groups[list(ndx_groups.keys())[cv[0] - 1]]),\n",
    "                u.select_atoms(ndx_groups[list(ndx_groups.keys())[cv[1] - 1]]),\n",
    "                progressbar=False,\n",
    "            )[-1, 1]\n",
    "        )\n",
    "    dis.append(np.array(d))\n",
    "dis = np.array(dis) / 10"
   ]
  },
  {
   "cell_type": "code",
   "execution_count": null,
   "id": "633c079e-09cd-4e86-a160-a5cad270b82b",
   "metadata": {},
   "outputs": [],
   "source": [
    "#shutil.copy('strings/string0.txt','strings/string_steer.txt')\n",
    "#np.savetxt('strings/string0.txt', dis)"
   ]
  },
  {
   "cell_type": "markdown",
   "id": "pending-quebec",
   "metadata": {},
   "source": [
    "## Plot of `string0.txt` versus the configs that will be used.\n",
    "\n",
    "The value of the cvs in the `confout.gro` should approximatelly follow `string0.txt`. If it doesn't you can increase the steering `kappa` and also make the steering simulation longer by increasing the `nsteps` per bead."
   ]
  },
  {
   "cell_type": "code",
   "execution_count": null,
   "id": "formal-binding",
   "metadata": {},
   "outputs": [],
   "source": [
    "string = np.loadtxt(\"strings/string_steer.txt\")\n",
    "string = np.loadtxt(\"strings/string0.txt\")\n",
    "n_plots = string.shape[1]\n",
    "fig, ax = plt.subplots(ceil(n_plots / 2), 2, figsize=(15, 4 * ceil(n_plots / 2)))\n",
    "ax = ax.flatten()\n",
    "for i in range(n_plots):\n",
    "    ax[i].plot(string[:, i], ls=\"\", marker=\"x\", label=\"string0\")\n",
    "    ax[i].set_xlabel(\n",
    "        f\"{list(ndx_groups.keys())[2*i]} - {list(ndx_groups.keys())[2*i+1]}\", size=16\n",
    "    )\n",
    "    ax[i].set_ylabel(\"d (nm)\", size=16)\n",
    "    ax[i].tick_params(axis=\"both\", which=\"major\", labelsize=13)\n",
    "bead_numbers = [int(b.split(\"/\")[2]) for b in beads]\n",
    "if len(dis) != 0:\n",
    "    for i in range(n_plots):\n",
    "        ax[i].plot(bead_numbers, dis[:, i], ls=\"\", marker=\".\", label=\"confout\")\n",
    "        ax[i].set_title(f\"cv{i}\")\n",
    "ax[1].legend()\n",
    "if n_plots % 2:\n",
    "    fig.delaxes(ax[-1])\n",
    "fig.tight_layout()"
   ]
  },
  {
   "cell_type": "code",
   "execution_count": null,
   "id": "1b187495-0c92-4ac8-adc4-d95dc2c03059",
   "metadata": {},
   "outputs": [],
   "source": []
  },
  {
   "cell_type": "code",
   "execution_count": null,
   "id": "8bb9d396-b1c0-4ff0-8ccd-d0fa1de921cc",
   "metadata": {},
   "outputs": [],
   "source": []
  },
  {
   "cell_type": "code",
   "execution_count": null,
   "id": "93f510d5-802e-4263-a927-9e82eefa2b2f",
   "metadata": {},
   "outputs": [],
   "source": []
  }
 ],
 "metadata": {
  "kernelspec": {
   "display_name": "string_sims",
   "language": "python",
   "name": "string_sims"
  },
  "language_info": {
   "codemirror_mode": {
    "name": "ipython",
    "version": 3
   },
   "file_extension": ".py",
   "mimetype": "text/x-python",
   "name": "python",
   "nbconvert_exporter": "python",
   "pygments_lexer": "ipython3",
   "version": "3.8.5"
  }
 },
 "nbformat": 4,
 "nbformat_minor": 5
}
