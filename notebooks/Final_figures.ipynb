{
 "cells": [
  {
   "cell_type": "code",
   "execution_count": null,
   "id": "e6a8738b-6ae1-4e56-aa6f-6932f2f82cc3",
   "metadata": {
    "tags": []
   },
   "outputs": [],
   "source": [
    "import os\n",
    "import sys\n",
    "import logging\n",
    "import numpy as np\n",
    "import matplotlib.pyplot as plt\n",
    "import pickle\n",
    "\n",
    "logging.getLogger(\"stringmethod\").setLevel(logging.ERROR)\n",
    "sys.path.append(\"../string-method-gmxapi/\")\n",
    "sys.path.append(\"../string-method-gmxapi/src/\")\n",
    "import src.analysis as spc\n",
    "import src.analysis.figures as figures"
   ]
  },
  {
   "cell_type": "code",
   "execution_count": null,
   "id": "5aba87b6-8cb8-4955-a8bc-7e43235c5332",
   "metadata": {},
   "outputs": [],
   "source": [
    "%load_ext lab_black\n",
    "%load_ext autoreload\n",
    "%autoreload 2"
   ]
  },
  {
   "cell_type": "markdown",
   "id": "516d1c31-e807-43f6-ab98-55ad719969a0",
   "metadata": {},
   "source": [
    "# Main text"
   ]
  },
  {
   "cell_type": "markdown",
   "id": "fe28ba67-be3b-4beb-93c0-bfacd47127dc",
   "metadata": {
    "tags": []
   },
   "source": [
    "## Load data"
   ]
  },
  {
   "cell_type": "markdown",
   "id": "aaf6f94a-f5fc-46cb-91b0-406451adb396",
   "metadata": {},
   "source": [
    "This notebook needs to run in the string simulation folder, this cell will get you there. You also set up a path for writing the figures."
   ]
  },
  {
   "cell_type": "code",
   "execution_count": null,
   "id": "1d077fc5-604a-4137-bd07-767b0d2958cd",
   "metadata": {},
   "outputs": [],
   "source": [
    "path_raw = os.path.expanduser(f\"~/Projects/string_sims/data/raw/\")\n",
    "path_interim = os.path.expanduser(f\"~/Projects/string_sims/data/interim/\")\n",
    "path_processed = os.path.expanduser(f\"~/Projects/string_sims/data/processed/\")\n",
    "path_XRD = os.path.expanduser(f\"~/Projects/string_sims/models/raw_pdb/\")\n",
    "path_report = os.path.expanduser(f\"~/Projects/string_sims/reports/final_figures/plots/\")\n",
    "path_report_si = os.path.expanduser(\n",
    "    f\"~/Projects/string_sims/reports/final_figures_si/plots/\"\n",
    ")\n",
    "os.chdir(path_raw)\n",
    "os.getcwd()"
   ]
  },
  {
   "cell_type": "code",
   "execution_count": null,
   "id": "47e960c8-b86c-41b7-b147-2eac111e86c9",
   "metadata": {},
   "outputs": [],
   "source": [
    "os.chdir(path_XRD)\n",
    "with open(\n",
    "    os.path.expanduser(\"~/Projects/string_sims/data/processed/XRD/XRD.pickle\"), \"rb\"\n",
    ") as handle:\n",
    "    XRD_dictionary = pickle.load(handle)\n",
    "os.chdir(path_raw)"
   ]
  },
  {
   "cell_type": "code",
   "execution_count": null,
   "id": "050cf7e4-4a93-428a-be9a-3f2a6cc5bd94",
   "metadata": {},
   "outputs": [],
   "source": [
    "sim_name = {\n",
    "    \"LB-CHARMM\": \"LB-CHARMM\",\n",
    "    \"LB-AMBER\": \"LB-AMBER\",\n",
    "    \"noLB-AMBER\": \"noLB-AMBER\",\n",
    "}"
   ]
  },
  {
   "cell_type": "code",
   "execution_count": null,
   "id": "853b5b8a-05c5-4f60-8127-a2da4ca89be4",
   "metadata": {},
   "outputs": [],
   "source": [
    "colors = {\n",
    "    \"LB-CHARMM\": \"C0\",\n",
    "    \"LB-AMBER\": \"C1\",\n",
    "    \"noLB-AMBER\": \"C3\",\n",
    "}"
   ]
  },
  {
   "cell_type": "markdown",
   "id": "65f1a66f-1293-434b-9631-e27960087f6b",
   "metadata": {
    "tags": []
   },
   "source": [
    "## SF vs IG FES"
   ]
  },
  {
   "cell_type": "code",
   "execution_count": null,
   "id": "de3e3073-f3af-49b6-b057-724e58212b9d",
   "metadata": {},
   "outputs": [],
   "source": [
    "name = \"noLB-AMBER\"\n",
    "fig_title = \"noLB-AMBER\"\n",
    "fig, ax = figures.final_FES_IG_SF(\n",
    "    name, path_processed, path_report, XRD_dictionary, fig_title, show_cbar=True\n",
    ")"
   ]
  },
  {
   "cell_type": "code",
   "execution_count": null,
   "id": "4b0d3968-e059-4bf6-9bc2-7aca0ad3b9b3",
   "metadata": {},
   "outputs": [],
   "source": [
    "name = \"LB-AMBER\"\n",
    "fig_title = \"AMBER\"\n",
    "fig, ax = figures.final_FES_IG_SF(\n",
    "    name, path_processed, path_report, XRD_dictionary, fig_title, show_cbar=False\n",
    ")"
   ]
  },
  {
   "cell_type": "code",
   "execution_count": null,
   "id": "4f56c6a5-cf8d-40ff-9eb5-78cc9eda93a7",
   "metadata": {
    "tags": []
   },
   "outputs": [],
   "source": [
    "name = \"LB-AMBER\"\n",
    "fig_title = \"LB-AMBER\"\n",
    "fig, ax = figures.final_FES_IG_SF(\n",
    "    name,\n",
    "    path_processed,\n",
    "    path_report,\n",
    "    XRD_dictionary,\n",
    "    fig_title,\n",
    "    show_cbar=False,\n",
    "    version=\"v2\",\n",
    ")"
   ]
  },
  {
   "cell_type": "code",
   "execution_count": null,
   "id": "809f5ddc-a785-413a-a11f-eaae3d42a95a",
   "metadata": {},
   "outputs": [],
   "source": [
    "name = \"LB-CHARMM\"\n",
    "fig_title = \"CHARMM\"\n",
    "fig, ax = figures.final_FES_IG_SF(\n",
    "    name, path_processed, path_report, XRD_dictionary, fig_title, show_cbar=True\n",
    ")"
   ]
  },
  {
   "cell_type": "markdown",
   "id": "285c3372-c72c-4562-8e7b-411c7db6657e",
   "metadata": {
    "tags": []
   },
   "source": [
    "## Path CVs FES"
   ]
  },
  {
   "cell_type": "code",
   "execution_count": null,
   "id": "d2920c0e-4858-4e0f-b351-1d1a9b34de1d",
   "metadata": {},
   "outputs": [],
   "source": [
    "error = {\n",
    "    \"LB-CHARMM\": [100, 3],\n",
    "    \"LB-AMBER\": [100, 3],\n",
    "    \"noLB-AMBER\": [100, 3],\n",
    "}"
   ]
  },
  {
   "cell_type": "code",
   "execution_count": null,
   "id": "d3c02272-2f6a-4d8e-ae9e-aca75354f549",
   "metadata": {},
   "outputs": [],
   "source": [
    "name = \"LB-CHARMM\"\n",
    "annotations = {\n",
    "    \"positions\": [[0.23, 3], [0.35, 3], [0.87, 8]],\n",
    "    \"names\": [r\"$\\bf{C}$\", r\"$\\bf{PO}$\", r\"$\\bf{I}$\"],\n",
    "    \"fontsize\": 25,\n",
    "    \"color\": colors[name],\n",
    "}\n",
    "figures.final_1D_path(\n",
    "    path_processed,\n",
    "    name,\n",
    "    error[name],\n",
    "    \"CHARMM\",\n",
    "    colors[name],\n",
    "    path_report,\n",
    "    annotations=annotations,\n",
    ")"
   ]
  },
  {
   "cell_type": "code",
   "execution_count": null,
   "id": "d35d6b7c-38d6-4181-80d2-ecaaceddbecb",
   "metadata": {},
   "outputs": [],
   "source": [
    "name = \"LB-AMBER\"\n",
    "annotations = {\n",
    "    \"positions\": [[0.24, 2.5], [0.42, 4.35], [0.62, 7.5], [0.93, 15.5]],\n",
    "    \"names\": [r\"$\\bf{C}$\", r\"$\\bf{PO}$\", r\"$\\bf{FO}$\", r\"$\\bf{I}$\"],\n",
    "    \"fontsize\": 25,\n",
    "    \"color\": colors[name],\n",
    "}\n",
    "figures.final_1D_path(\n",
    "    path_processed,\n",
    "    name,\n",
    "    error[name],\n",
    "    \"AMBER\",\n",
    "    colors[name],\n",
    "    path_report,\n",
    "    annotations=annotations,\n",
    ")"
   ]
  },
  {
   "cell_type": "code",
   "execution_count": null,
   "id": "0d172a40-772b-4917-aa41-2403d033d69c",
   "metadata": {},
   "outputs": [],
   "source": [
    "name = \"LB-AMBER\"\n",
    "annotations = {\n",
    "    \"positions\": [[0.24, 2.5], [0.42, 4.35], [0.62, 7.5], [0.93, 15.5]],\n",
    "    \"names\": [r\"$\\bf{C}$\", r\"$\\bf{PO}$\", r\"$\\bf{FO}$\", r\"$\\bf{I}$\"],\n",
    "    \"fontsize\": 25,\n",
    "    \"color\": colors[name],\n",
    "}\n",
    "figures.final_1D_path(\n",
    "    path_processed,\n",
    "    name,\n",
    "    error[name],\n",
    "    \"LB-AMBER\",\n",
    "    colors[name],\n",
    "    path_report,\n",
    "    version=\"_v2\",\n",
    "    annotations=annotations,\n",
    ")"
   ]
  },
  {
   "cell_type": "code",
   "execution_count": null,
   "id": "de7e0082-380c-46ed-8279-8d3e298ea8d1",
   "metadata": {},
   "outputs": [],
   "source": [
    "name = \"noLB-AMBER\"\n",
    "annotations = {\n",
    "    \"positions\": [[0.24, 2.5], [0.46, 3.0], [0.57, 4.7], [0.88, 16.7]],\n",
    "    \"names\": [r\"$\\bf{C}$\", r\"$\\bf{PO}$\", r\"$\\bf{FO}$\", r\"$\\bf{I}$\"],\n",
    "    \"fontsize\": 25,\n",
    "    \"color\": colors[name],\n",
    "}\n",
    "figures.final_1D_path(\n",
    "    path_processed,\n",
    "    name,\n",
    "    error[name],\n",
    "    \"noLB-AMBER\",\n",
    "    colors[name],\n",
    "    path_report,\n",
    "    annotations=annotations,\n",
    ")"
   ]
  },
  {
   "cell_type": "markdown",
   "id": "3e176cd1-269e-448b-8b6c-ff8cc8dcc0a0",
   "metadata": {},
   "source": [
    "## Project water in SF"
   ]
  },
  {
   "cell_type": "code",
   "execution_count": null,
   "id": "f2de9d17-4e8d-4fc7-aa03-6134f8fec6a8",
   "metadata": {},
   "outputs": [],
   "source": [
    "name = \"LB-AMBER\"\n",
    "fig_title = \"AMBER\"\n",
    "with open(f\"{path_processed}/{name}/SF_occupation_data.pkl\", \"rb\") as handle:\n",
    "    SF_occupation_data = pickle.load(handle)\n",
    "cv_data = SF_occupation_data[\"W\"][\"all\"]\n",
    "cv_label = \"Water Molecules in SF\"\n",
    "cv_name = f\"H2O_in_SF_{name}\"\n",
    "fig, ax = figures.final_cv_projection(\n",
    "    name,\n",
    "    path_processed,\n",
    "    path_report,\n",
    "    cv_name,\n",
    "    cv_data,\n",
    "    cv_label,\n",
    "    XRD_dictionary,\n",
    "    fig_title,\n",
    "    show_cbar=True,\n",
    "    f_max=3,\n",
    ")"
   ]
  },
  {
   "cell_type": "markdown",
   "id": "d058b8d3-a85b-4101-9f35-ea8eaed5566c",
   "metadata": {},
   "source": [
    "## Path CV vs CV FES"
   ]
  },
  {
   "cell_type": "code",
   "execution_count": null,
   "id": "04480762-09f2-4466-9c93-2466c7965c59",
   "metadata": {},
   "outputs": [],
   "source": [
    "name = \"LB-AMBER\"\n",
    "fig_title = \"AMBER\"\n",
    "cv_name = \"SF\"\n",
    "ylabel = \"Selectivity Filter (nm)\"\n",
    "fig, ax = figures.final_FES_path_CV(\n",
    "    name,\n",
    "    cv_name,\n",
    "    path_processed,\n",
    "    path_report,\n",
    "    XRD_dictionary,\n",
    "    fig_title,\n",
    "    ylabel,\n",
    "    show_cbar=True,\n",
    ")"
   ]
  },
  {
   "cell_type": "code",
   "execution_count": null,
   "id": "4c94e8af-19f0-418f-b37d-8276c4afb0b9",
   "metadata": {
    "tags": []
   },
   "outputs": [],
   "source": [
    "name = \"LB-AMBER\"\n",
    "fig_title = \"AMBER\"\n",
    "cv_name = \"IG\"\n",
    "ylabel = \"Inner Gate (nm)\"\n",
    "fig, ax = figures.final_FES_path_CV(\n",
    "    name,\n",
    "    cv_name,\n",
    "    path_processed,\n",
    "    path_report,\n",
    "    XRD_dictionary,\n",
    "    fig_title,\n",
    "    ylabel,\n",
    "    show_cbar=False,\n",
    ")"
   ]
  },
  {
   "cell_type": "code",
   "execution_count": null,
   "id": "12b03a6a-726d-45a6-ba84-d9dcf5f887ea",
   "metadata": {
    "tags": []
   },
   "outputs": [],
   "source": [
    "name = \"LB-CHARMM\"\n",
    "fig_title = \"CHARMM\"\n",
    "cv_name = \"L81-W67\"\n",
    "ylabel = \"L81-W67 distance (nm)\"\n",
    "fig, ax = figures.final_FES_path_CV(\n",
    "    name,\n",
    "    cv_name,\n",
    "    path_processed,\n",
    "    path_report,\n",
    "    XRD_dictionary,\n",
    "    fig_title,\n",
    "    ylabel,\n",
    "    show_cbar=False,\n",
    ")"
   ]
  },
  {
   "cell_type": "code",
   "execution_count": null,
   "id": "59deb5c7-dbef-48c6-90c3-422a3035131c",
   "metadata": {
    "tags": []
   },
   "outputs": [],
   "source": [
    "name = \"LB-AMBER\"\n",
    "fig_title = \"AMBER\"\n",
    "cv_name = \"chi1_F103\"\n",
    "ylabel = r\"$\\chi_1$ F103 ($^\\circ$)\"\n",
    "fig, ax = figures.final_FES_path_CV(\n",
    "    name,\n",
    "    cv_name,\n",
    "    path_processed,\n",
    "    path_report,\n",
    "    XRD_dictionary,\n",
    "    fig_title,\n",
    "    ylabel,\n",
    "    show_cbar=True,\n",
    ")"
   ]
  },
  {
   "cell_type": "code",
   "execution_count": null,
   "id": "a8f6ef3c-244a-4af3-b2dc-c5f52929c6b7",
   "metadata": {
    "tags": []
   },
   "outputs": [],
   "source": [
    "name = \"LB-AMBER\"\n",
    "fig_title = \"AMBER\"\n",
    "cv_name = \"chi1_E71\"\n",
    "ylabel = r\"$\\chi_1$ E71 ($^\\circ$)\"\n",
    "fig, ax = figures.final_FES_path_CV(\n",
    "    name,\n",
    "    cv_name,\n",
    "    path_processed,\n",
    "    path_report,\n",
    "    XRD_dictionary,\n",
    "    fig_title,\n",
    "    ylabel,\n",
    "    show_cbar=False,\n",
    ")"
   ]
  },
  {
   "cell_type": "code",
   "execution_count": null,
   "id": "1a470435-7e8e-4168-ac0b-068c88d011b4",
   "metadata": {
    "tags": []
   },
   "outputs": [],
   "source": [
    "name = \"LB-AMBER\"\n",
    "fig_title = \"AMBER\"\n",
    "cv_name = \"dis_T74-F103\"\n",
    "ylabel = \"T74-F103 distance (nm)\"\n",
    "fig, ax = figures.final_FES_path_CV(\n",
    "    name,\n",
    "    cv_name,\n",
    "    path_processed,\n",
    "    path_report,\n",
    "    XRD_dictionary,\n",
    "    fig_title,\n",
    "    ylabel,\n",
    "    show_cbar=True,\n",
    ")"
   ]
  },
  {
   "cell_type": "code",
   "execution_count": null,
   "id": "9717f827-747b-40ce-b1ef-b6d24e13e805",
   "metadata": {
    "tags": []
   },
   "outputs": [],
   "source": [
    "name = \"LB-AMBER\"\n",
    "fig_title = \"AMBER\"\n",
    "cv_name = \"dis_R64-D80\"\n",
    "ylabel = \"R64-D80 distance (nm)\"\n",
    "fig, ax = figures.final_FES_path_CV(\n",
    "    name,\n",
    "    cv_name,\n",
    "    path_processed,\n",
    "    path_report,\n",
    "    XRD_dictionary,\n",
    "    fig_title,\n",
    "    ylabel,\n",
    "    show_cbar=False,\n",
    ")"
   ]
  },
  {
   "cell_type": "markdown",
   "id": "727dfcda-ef11-4d34-86ab-35363b76e4fb",
   "metadata": {},
   "source": [
    "# Supplementary info"
   ]
  },
  {
   "cell_type": "markdown",
   "id": "07420073-8934-498e-ab56-42424e6e2e10",
   "metadata": {},
   "source": [
    "## 2D string convergence"
   ]
  },
  {
   "cell_type": "code",
   "execution_count": null,
   "id": "b285cf91-a0b2-4726-aa99-8b6ac08e84ee",
   "metadata": {
    "tags": []
   },
   "outputs": [],
   "source": [
    "name = \"LB-AMBER\"\n",
    "fig_title = \"LB-AMBER\"\n",
    "inset_pos = [0.2, 0.35, 0.35, 0.35]\n",
    "figures.final_2D_string_convergence(\n",
    "    name, path_raw, path_report_si, fig_title, inset_pos\n",
    ")"
   ]
  },
  {
   "cell_type": "code",
   "execution_count": null,
   "id": "76295149-7135-43a9-b153-2be460399b6b",
   "metadata": {
    "tags": []
   },
   "outputs": [],
   "source": [
    "name = \"noLB-AMBER\"\n",
    "fig_title = \"noLB-AMBER\"\n",
    "inset_pos = [0.2, 0.35, 0.35, 0.35]\n",
    "figures.final_2D_string_convergence(\n",
    "    name, path_raw, path_report_si, fig_title, inset_pos\n",
    ")"
   ]
  },
  {
   "cell_type": "code",
   "execution_count": null,
   "id": "7623d8d6-c2d1-4642-8c24-a2b3f5e0d637",
   "metadata": {
    "tags": []
   },
   "outputs": [],
   "source": [
    "name = \"LB-CHARMM\"\n",
    "fig_title = \"LB-CHARMM\"\n",
    "inset_pos = [0.17, 0.3, 0.3, 0.3]\n",
    "figures.final_2D_string_convergence(\n",
    "    name, path_raw, path_report_si, fig_title, inset_pos\n",
    ")"
   ]
  },
  {
   "cell_type": "markdown",
   "id": "bc90fc96-5083-4dec-9e48-9ebee24aa1be",
   "metadata": {
    "tags": []
   },
   "source": [
    "## RMSD convergence"
   ]
  },
  {
   "cell_type": "code",
   "execution_count": null,
   "id": "498e15db-4e6b-4d5f-b39f-77e1bebfd3f8",
   "metadata": {},
   "outputs": [],
   "source": [
    "fig, ax = figures.final_rmsd_string(path_raw, path_report_si, sim_name)"
   ]
  },
  {
   "cell_type": "markdown",
   "id": "bfe9f5e5-8f2b-4556-ac05-116b1472fb47",
   "metadata": {},
   "source": [
    "## Time series of W67-L81 contact"
   ]
  },
  {
   "cell_type": "code",
   "execution_count": null,
   "id": "e4dd7aa0-87c3-47dc-8f51-a473ed270b87",
   "metadata": {},
   "outputs": [],
   "source": [
    "name = \"LB-CHARMM\"\n",
    "fig_title = \"LB-CHARMM\"\n",
    "select = [\n",
    "    \"CD1_67_A\",\n",
    "    \"CG_81_A\",\n",
    "    \"CD1_67_B\",\n",
    "    \"CG_81_B\",\n",
    "    \"CD1_67_C\",\n",
    "    \"CG_81_C\",\n",
    "    \"CD1_67_D\",\n",
    "    \"CG_81_D\",\n",
    "]\n",
    "ylabels = [\n",
    "    \"W67-L81, SU0 dist. (nm)\",\n",
    "    \"W67-L81, SU1 dist. (nm)\",\n",
    "    \"W67-L81, SU2 dist. (nm)\",\n",
    "    \"W67-L81, SU3 dist. (nm)\",\n",
    "]\n",
    "fig, ax = figures.final_strings_vs_time_series(\n",
    "    name, path_raw, path_report_si, fig_title, select, ylabels\n",
    ")"
   ]
  },
  {
   "cell_type": "code",
   "execution_count": null,
   "id": "6631bbe5-8d06-442b-ab29-08e6fb780c07",
   "metadata": {},
   "outputs": [],
   "source": [
    "name = \"LB-AMBER\"\n",
    "fig_title = \"LB-AMBER\"\n",
    "select = [\n",
    "    \"CD1_67_A\",\n",
    "    \"CG_81_A\",\n",
    "    \"CD1_67_B\",\n",
    "    \"CG_81_B\",\n",
    "    \"CD1_67_C\",\n",
    "    \"CG_81_C\",\n",
    "    \"CD1_67_D\",\n",
    "    \"CG_81_D\",\n",
    "]\n",
    "ylabels = [\n",
    "    \"W67-L81, SU0 dist. (nm)\",\n",
    "    \"W67-L81, SU1 dist. (nm)\",\n",
    "    \"W67-L81, SU2 dist. (nm)\",\n",
    "    \"W67-L81, SU3 dist. (nm)\",\n",
    "]\n",
    "fig, ax = figures.final_strings_vs_time_series(\n",
    "    name, path_raw, path_report_si, fig_title, select, ylabels\n",
    ")"
   ]
  },
  {
   "cell_type": "markdown",
   "id": "dc045169-ef02-42f2-afa2-2cdd2ed20cf4",
   "metadata": {},
   "source": [
    "## Time series of W67-D80 contact"
   ]
  },
  {
   "cell_type": "code",
   "execution_count": null,
   "id": "97ee6ff1-ea4d-4a80-9a23-661d45e8fdc9",
   "metadata": {
    "tags": []
   },
   "outputs": [],
   "source": [
    "name = \"dis_W67-D80\"\n",
    "fig_title = \"LB-AMBER\"\n",
    "system_name = \"LB-AMBER\"\n",
    "select = [\n",
    "    \"NE1_67_A\",\n",
    "    \"CG_80_A\",\n",
    "    \"NE1_67_B\",\n",
    "    \"CG_80_B\",\n",
    "    \"NE1_67_C\",\n",
    "    \"CG_80_C\",\n",
    "    \"NE1_67_D\",\n",
    "    \"CG_80_D\",\n",
    "]\n",
    "ylabels = [\n",
    "    \"W67-D80, SU0 dist. (nm)\",\n",
    "    \"W67-D80, SU1 dist. (nm)\",\n",
    "    \"W67-D80, SU2 dist. (nm)\",\n",
    "    \"W67-D80, SU3 dist. (nm)\",\n",
    "]\n",
    "starts = np.array([4.1, 3.87, 3.8, 4.0])\n",
    "ends = np.array([4.76, 4.84, 4.63, 4.7])\n",
    "fig, ax = figures.final_cv_vs_time_series(\n",
    "    name,\n",
    "    path_interim,\n",
    "    system_name,\n",
    "    path_report_si,\n",
    "    fig_title,\n",
    "    select,\n",
    "    ylabels,\n",
    "    starts,\n",
    "    ends,\n",
    ")"
   ]
  },
  {
   "cell_type": "code",
   "execution_count": null,
   "id": "42db2154-1b99-42da-8de7-541b9072e205",
   "metadata": {
    "tags": []
   },
   "outputs": [],
   "source": [
    "name = \"dis_W67-D80\"\n",
    "fig_title = \"LB-CHARMM\"\n",
    "system_name = \"LB-CHARMM\"\n",
    "select = [\n",
    "    \"NE1_67_A\",\n",
    "    \"CG_80_A\",\n",
    "    \"NE1_67_B\",\n",
    "    \"CG_80_B\",\n",
    "    \"NE1_67_C\",\n",
    "    \"CG_80_C\",\n",
    "    \"NE1_67_D\",\n",
    "    \"CG_80_D\",\n",
    "]\n",
    "ylabels = [\n",
    "    \"W67-D80, SU0 dist. (nm)\",\n",
    "    \"W67-D80, SU1 dist. (nm)\",\n",
    "    \"W67-D80, SU2 dist. (nm)\",\n",
    "    \"W67-D80, SU3 dist. (nm)\",\n",
    "]\n",
    "starts = np.array([3.9, 4.0, 3.74, 3.8])\n",
    "ends = np.array([4.8, 4.75, 4.75, 4.93])\n",
    "fig, ax = figures.final_cv_vs_time_series(\n",
    "    name,\n",
    "    path_interim,\n",
    "    system_name,\n",
    "    path_report_si,\n",
    "    fig_title,\n",
    "    select,\n",
    "    ylabels,\n",
    "    starts,\n",
    "    ends,\n",
    ")"
   ]
  },
  {
   "cell_type": "markdown",
   "id": "81caa37d-8bdd-4eb1-b8b7-941b9a8ff74a",
   "metadata": {
    "tags": []
   },
   "source": [
    "## Error SF vs IG FES"
   ]
  },
  {
   "cell_type": "code",
   "execution_count": null,
   "id": "52a90a9d-3fa2-4632-9e3e-d59dc1a3ff96",
   "metadata": {},
   "outputs": [],
   "source": [
    "name = \"LB-AMBER\"\n",
    "fig_title = \"LB-AMBER\"\n",
    "fig, ax = figures.final_FES_IG_SF_error(\n",
    "    name, path_processed, path_report_si, XRD_dictionary, fig_title, show_cbar=False\n",
    ")"
   ]
  },
  {
   "cell_type": "code",
   "execution_count": null,
   "id": "2b48add5-3386-4ceb-b238-03e8da48c99c",
   "metadata": {},
   "outputs": [],
   "source": [
    "name = \"noLB-AMBER\"\n",
    "fig_title = \"noLB-AMBER\"\n",
    "fig, ax = figures.final_FES_IG_SF_error(\n",
    "    name, path_processed, path_report_si, XRD_dictionary, fig_title, show_cbar=False\n",
    ")"
   ]
  },
  {
   "cell_type": "code",
   "execution_count": null,
   "id": "d63a03a0-57a9-438f-9924-22522c35711a",
   "metadata": {},
   "outputs": [],
   "source": [
    "name = \"LB-CHARMM\"\n",
    "fig_title = \"LB-CHARMM\"\n",
    "fig, ax = figures.final_FES_IG_SF_error(\n",
    "    name, path_processed, path_report_si, XRD_dictionary, fig_title, show_cbar=True\n",
    ")"
   ]
  },
  {
   "cell_type": "markdown",
   "id": "2e18c1b4-a7c2-4d5b-a4ad-ee82f07e9d43",
   "metadata": {
    "tags": []
   },
   "source": [
    "## SF vs IG FES Trajectories"
   ]
  },
  {
   "cell_type": "code",
   "execution_count": null,
   "id": "93e6f26e-7922-4851-9cd7-cdde3b1ad141",
   "metadata": {},
   "outputs": [],
   "source": [
    "name = \"noLB-AMBER\"\n",
    "fig_title = \"noLB-AMBER\"\n",
    "fig, ax = figures.final_FES_IG_SF(\n",
    "    name,\n",
    "    path_processed,\n",
    "    path_report_si,\n",
    "    None,\n",
    "    fig_title,\n",
    "    show_cbar=False,\n",
    "    restarts=True,\n",
    "    version=\"_traj\",\n",
    ")"
   ]
  },
  {
   "cell_type": "code",
   "execution_count": null,
   "id": "49bf0fda-046c-4f94-b0f1-cc49f9afbf62",
   "metadata": {},
   "outputs": [],
   "source": [
    "name = \"LB-AMBER\"\n",
    "fig_title = \"LB-AMBER\"\n",
    "fig, ax = figures.final_FES_IG_SF(\n",
    "    name,\n",
    "    path_processed,\n",
    "    path_report_si,\n",
    "    None,\n",
    "    fig_title,\n",
    "    show_cbar=False,\n",
    "    restarts=True,\n",
    "    version=\"_traj\",\n",
    ")"
   ]
  },
  {
   "cell_type": "code",
   "execution_count": null,
   "id": "1541ccb3-b6e5-4b96-b6d6-96f101031e44",
   "metadata": {},
   "outputs": [],
   "source": [
    "name = \"LB-CHARMM\"\n",
    "fig_title = \"LB-CHARMM\"\n",
    "fig, ax = figures.final_FES_IG_SF(\n",
    "    name,\n",
    "    path_processed,\n",
    "    path_report_si,\n",
    "    None,\n",
    "    fig_title,\n",
    "    show_cbar=True,\n",
    "    restarts=True,\n",
    "    version=\"_traj\",\n",
    ")"
   ]
  },
  {
   "cell_type": "markdown",
   "id": "090d550c-27db-4b64-b703-5ddf24079f45",
   "metadata": {},
   "source": [
    "## Project water in SF\n",
    "### noLB-AMBER"
   ]
  },
  {
   "cell_type": "code",
   "execution_count": null,
   "id": "fe658ab2-23ea-4eb9-9b6b-6f0a6a9db9c9",
   "metadata": {
    "tags": []
   },
   "outputs": [],
   "source": [
    "name = \"noLB-AMBER\"\n",
    "fig_title = \"noLB-AMBER\"\n",
    "with open(f\"{path_processed}/{name}/SF_occupation_data.pkl\", \"rb\") as handle:\n",
    "    SF_occupation_data = pickle.load(handle)\n",
    "cv_data = SF_occupation_data[\"W\"][\"all\"]\n",
    "cv_label = \"Water Molecules in SF\"\n",
    "cv_name = f\"H2O_in_SF_{name}\"\n",
    "fig, ax = figures.final_cv_projection(\n",
    "    name,\n",
    "    path_processed,\n",
    "    path_report_si,\n",
    "    cv_name,\n",
    "    cv_data,\n",
    "    cv_label,\n",
    "    XRD_dictionary,\n",
    "    fig_title,\n",
    "    show_cbar=True,\n",
    "    f_max=3,\n",
    ")"
   ]
  },
  {
   "cell_type": "markdown",
   "id": "83d2fa10-36b4-4630-aff0-d8b1c5c4f8c0",
   "metadata": {},
   "source": [
    "### LB-CHARMM"
   ]
  },
  {
   "cell_type": "code",
   "execution_count": null,
   "id": "b7b21c83-ce40-42da-952a-01d4a959d137",
   "metadata": {
    "tags": []
   },
   "outputs": [],
   "source": [
    "name = \"LB-CHARMM\"\n",
    "fig_title = \"CHARMM\"\n",
    "with open(f\"{path_processed}/{name}/SF_occupation_data.pkl\", \"rb\") as handle:\n",
    "    SF_occupation_data = pickle.load(handle)\n",
    "cv_data = SF_occupation_data[\"W\"][\"all\"]\n",
    "cv_label = \"Water Molecules in SF\"\n",
    "cv_name = f\"H2O_in_SF_{name}\"\n",
    "fig, ax = figures.final_cv_projection(\n",
    "    name,\n",
    "    path_processed,\n",
    "    path_report_si,\n",
    "    cv_name,\n",
    "    cv_data,\n",
    "    cv_label,\n",
    "    XRD_dictionary,\n",
    "    fig_title,\n",
    "    show_cbar=True,\n",
    "    f_max=3,\n",
    ")"
   ]
  },
  {
   "cell_type": "markdown",
   "id": "46b982e3-faa0-495d-9ce2-230abd932bfa",
   "metadata": {},
   "source": [
    "## Project s_path on FES\n",
    "### noLB-AMBER"
   ]
  },
  {
   "cell_type": "code",
   "execution_count": null,
   "id": "1fdf2d50-eec7-4907-88df-d407ce7e92fd",
   "metadata": {
    "tags": []
   },
   "outputs": [],
   "source": [
    "name = \"noLB-AMBER\"\n",
    "fig_title = \"noLB-AMBER\"\n",
    "cv_data = np.load(f\"{path_processed}/{name}/s_path_of_SF_IG.npy\")\n",
    "cv_label = \"$s_{path}$\"\n",
    "cv_name = f\"s_path_{name}\"\n",
    "fig, ax = figures.final_cv_projection(\n",
    "    name,\n",
    "    path_processed,\n",
    "    path_report_si,\n",
    "    cv_name,\n",
    "    cv_data,\n",
    "    cv_label,\n",
    "    XRD_dictionary,\n",
    "    fig_title,\n",
    "    show_cbar=True,\n",
    "    f_max=None,\n",
    "    cmap=plt.cm.plasma,\n",
    ")"
   ]
  },
  {
   "cell_type": "markdown",
   "id": "39b27ee0-3e68-467c-9abf-9af42f04ef7a",
   "metadata": {},
   "source": [
    "### LB-AMBER"
   ]
  },
  {
   "cell_type": "code",
   "execution_count": null,
   "id": "42283922-77ce-4ffa-b0ae-37f8b4421ab0",
   "metadata": {
    "tags": []
   },
   "outputs": [],
   "source": [
    "name = \"LB-AMBER\"\n",
    "fig_title = \"LB-AMBER\"\n",
    "cv_data = np.load(f\"{path_processed}/{name}/s_path_of_SF_IG.npy\")\n",
    "cv_label = \"$s_{path}$\"\n",
    "cv_name = f\"s_path_{name}\"\n",
    "fig, ax = figures.final_cv_projection(\n",
    "    name,\n",
    "    path_processed,\n",
    "    path_report_si,\n",
    "    cv_name,\n",
    "    cv_data,\n",
    "    cv_label,\n",
    "    XRD_dictionary,\n",
    "    fig_title,\n",
    "    show_cbar=True,\n",
    "    f_max=None,\n",
    "    cmap=plt.cm.plasma,\n",
    ")"
   ]
  },
  {
   "cell_type": "markdown",
   "id": "45a50e5b-7e13-4c0f-946e-48df068ce022",
   "metadata": {},
   "source": [
    "### LB-CHARMM"
   ]
  },
  {
   "cell_type": "code",
   "execution_count": null,
   "id": "76069f82-f45f-468f-b499-ee49744d5e9c",
   "metadata": {
    "tags": []
   },
   "outputs": [],
   "source": [
    "name = \"LB-CHARMM\"\n",
    "fig_title = \"LB-CHARMM\"\n",
    "cv_data = np.load(f\"{path_processed}/{name}/s_path_of_SF_IG.npy\")\n",
    "cv_label = \"$s_{path}$\"\n",
    "cv_name = f\"s_path_{name}\"\n",
    "fig, ax = figures.final_cv_projection(\n",
    "    name,\n",
    "    path_processed,\n",
    "    path_report_si,\n",
    "    cv_name,\n",
    "    cv_data,\n",
    "    cv_label,\n",
    "    XRD_dictionary,\n",
    "    fig_title,\n",
    "    show_cbar=True,\n",
    "    f_max=None,\n",
    "    cmap=plt.cm.plasma,\n",
    ")"
   ]
  },
  {
   "cell_type": "markdown",
   "id": "91d5dc36-3cc4-4add-831e-575ce8efc5af",
   "metadata": {},
   "source": [
    "## Project per site SF content"
   ]
  },
  {
   "cell_type": "code",
   "execution_count": null,
   "id": "0486836e-fd14-42e0-a4cc-1a025afb81b1",
   "metadata": {},
   "outputs": [],
   "source": [
    "name = \"LB-CHARMM\"\n",
    "fig_title = \"LB-CHARMM\"\n",
    "fig, ax = figures.final_SF_content(name, path_processed, path_report_si, fig_title)"
   ]
  },
  {
   "cell_type": "code",
   "execution_count": null,
   "id": "2b16b7c5-0d3f-4ebb-b5cd-39635265ef44",
   "metadata": {},
   "outputs": [],
   "source": [
    "name = \"LB-AMBER\"\n",
    "fig_title = \"LB-AMBER\"\n",
    "fig, ax = figures.final_SF_content(name, path_processed, path_report_si, fig_title)"
   ]
  },
  {
   "cell_type": "code",
   "execution_count": null,
   "id": "6000e2e9-a2f2-42ac-8f34-37882922604d",
   "metadata": {},
   "outputs": [],
   "source": [
    "name = \"noLB-AMBER\"\n",
    "fig_title = \"noLB-AMBER\"\n",
    "fig, ax = figures.final_SF_content(name, path_processed, path_report_si, fig_title)"
   ]
  },
  {
   "cell_type": "markdown",
   "id": "95280baf-bb9f-4a8f-b6ee-184d51b11afa",
   "metadata": {
    "tags": []
   },
   "source": [
    "## Path CV vs CV FES"
   ]
  },
  {
   "cell_type": "markdown",
   "id": "05c39b01-9bf3-4f4d-89a0-b94811ab975d",
   "metadata": {
    "tags": []
   },
   "source": [
    "### LB-AMBER"
   ]
  },
  {
   "cell_type": "code",
   "execution_count": null,
   "id": "bd76ce00-3918-4f6e-8840-036d5b6dab9c",
   "metadata": {
    "tags": []
   },
   "outputs": [],
   "source": [
    "name = \"LB-AMBER\"\n",
    "fig_title = \"AMBER\"\n",
    "plots = {\n",
    "    \"cv_name\": [\"L81-W67\", \"dis_T74-I100\", \"dis_R89-D80\", \"dis_P-R64\", \"dis_P-R89\"],\n",
    "    \"ylabel\": [\n",
    "        \"L81-W67 distance (nm)\",\n",
    "        \"T74-I100 distance (nm)\",\n",
    "        \"R89-D80 distance (nm)\",\n",
    "        \"DOPG-R64 distance (nm)\",\n",
    "        \"DOPG-R89 distance (nm)\",\n",
    "    ],\n",
    "}\n",
    "for i in range(len(plots[\"cv_name\"])):\n",
    "    fig, ax = figures.final_FES_path_CV(\n",
    "        name,\n",
    "        plots[\"cv_name\"][i],\n",
    "        path_processed,\n",
    "        path_report_si,\n",
    "        XRD_dictionary,\n",
    "        fig_title,\n",
    "        plots[\"ylabel\"][i],\n",
    "        show_cbar=True,\n",
    "        version=\"_AMBER\",\n",
    "    )"
   ]
  },
  {
   "cell_type": "markdown",
   "id": "908807fa-fe22-43c1-97a5-6e09e25cbb3d",
   "metadata": {},
   "source": [
    "### LB-CHARMM"
   ]
  },
  {
   "cell_type": "code",
   "execution_count": null,
   "id": "4b8c1611-f12e-4592-ae5d-b1d8a11a3c13",
   "metadata": {
    "tags": []
   },
   "outputs": [],
   "source": [
    "name = \"LB-CHARMM\"\n",
    "fig_title = \"CHARMM\"\n",
    "plots = {\n",
    "    \"cv_name\": [\n",
    "        \"SF\",\n",
    "        \"IG\",\n",
    "        \"L81-W67\",\n",
    "        \"chi1_F103\",\n",
    "        \"chi1_E71\",\n",
    "        \"dis_T74-F103\",\n",
    "        \"dis_T74-I100\",\n",
    "        \"dis_R64-D80\",\n",
    "        \"dis_R89-D80\",\n",
    "        \"dis_P-R64\",\n",
    "        \"dis_P-R89\",\n",
    "    ],\n",
    "    \"ylabel\": [\n",
    "        \"Inner Gate (nm)\",\n",
    "        \"Selectivity Filter (nm)\",\n",
    "        \"L81-W67 distance (nm)\",\n",
    "        \"$\\chi_1$ F103 ($^\\circ$)\",\n",
    "        \"$\\chi_1$ E71 ($^\\circ$)\",\n",
    "        \"T74-F103 distance (nm)\",\n",
    "        \"T74-I100 distance (nm)\",\n",
    "        \"R64-D80 distance (nm)\",\n",
    "        \"R89-D80 distance (nm)\",\n",
    "        \"DOPG-R64 distance (nm)\",\n",
    "        \"DOPG-P89 distance (nm)\",\n",
    "    ],\n",
    "}\n",
    "for i in range(len(plots[\"cv_name\"])):\n",
    "    fig, ax = figures.final_FES_path_CV(\n",
    "        name,\n",
    "        plots[\"cv_name\"][i],\n",
    "        path_processed,\n",
    "        path_report_si,\n",
    "        XRD_dictionary,\n",
    "        fig_title,\n",
    "        plots[\"ylabel\"][i],\n",
    "        show_cbar=True,\n",
    "        version=\"_CHARMM\",\n",
    "    )"
   ]
  },
  {
   "cell_type": "markdown",
   "id": "f1c201a2-67ca-4d88-8529-cfe111703784",
   "metadata": {},
   "source": [
    "### noLB-AMBER"
   ]
  },
  {
   "cell_type": "code",
   "execution_count": null,
   "id": "313a5835-ea82-4764-bb10-3903119b8f76",
   "metadata": {
    "tags": []
   },
   "outputs": [],
   "source": [
    "name = \"noLB-AMBER\"\n",
    "fig_title = \"noLB-AMBER\"\n",
    "plots = {\n",
    "    \"cv_name\": [\n",
    "        \"SF\",\n",
    "        \"IG\",\n",
    "        \"L81-W67\",\n",
    "        \"chi1_F103\",\n",
    "        \"chi1_E71\",\n",
    "        \"dis_T74-F103\",\n",
    "        \"dis_T74-I100\",\n",
    "        \"dis_R64-D80\",\n",
    "        \"dis_R89-D80\",\n",
    "        \"dis_P-R64\",\n",
    "        \"dis_P-R89\",\n",
    "    ],\n",
    "    \"ylabel\": [\n",
    "        \"Inner Gate (nm)\",\n",
    "        \"Selectivity Filter (nm)\",\n",
    "        \"L81-W67 distance (nm)\",\n",
    "        \"$\\chi_1$ F103 ($^\\circ$)\",\n",
    "        \"$\\chi_1$ E71 ($^\\circ$)\",\n",
    "        \"T74-F103 distance (nm)\",\n",
    "        \"T74-I100 distance (nm)\",\n",
    "        \"R64-D80 distance (nm)\",\n",
    "        \"R89-D80 distance (nm)\",\n",
    "        \"DOPG-R64 distance (nm)\",\n",
    "        \"DOPG-R89 distance (nm)\",\n",
    "    ],\n",
    "}\n",
    "for i in range(len(plots[\"cv_name\"])):\n",
    "    fig, ax = figures.final_FES_path_CV(\n",
    "        name,\n",
    "        plots[\"cv_name\"][i],\n",
    "        path_processed,\n",
    "        path_report_si,\n",
    "        XRD_dictionary,\n",
    "        fig_title,\n",
    "        plots[\"ylabel\"][i],\n",
    "        show_cbar=True,\n",
    "        version=\"_noLB\",\n",
    "    )"
   ]
  },
  {
   "cell_type": "code",
   "execution_count": null,
   "id": "e801595b-bb04-45d3-93a0-d33618cc7c5b",
   "metadata": {},
   "outputs": [],
   "source": []
  }
 ],
 "metadata": {
  "kernelspec": {
   "display_name": "string_sims",
   "language": "python",
   "name": "string_sims"
  },
  "language_info": {
   "codemirror_mode": {
    "name": "ipython",
    "version": 3
   },
   "file_extension": ".py",
   "mimetype": "text/x-python",
   "name": "python",
   "nbconvert_exporter": "python",
   "pygments_lexer": "ipython3",
   "version": "3.8.5"
  }
 },
 "nbformat": 4,
 "nbformat_minor": 5
}
