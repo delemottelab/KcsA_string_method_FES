{
 "cells": [
  {
   "cell_type": "code",
   "execution_count": null,
   "id": "e6a8738b-6ae1-4e56-aa6f-6932f2f82cc3",
   "metadata": {
    "tags": []
   },
   "outputs": [],
   "source": [
    "import os\n",
    "import sys\n",
    "import logging\n",
    "import numpy as np\n",
    "import matplotlib.pyplot as plt\n",
    "import pickle\n",
    "\n",
    "logging.getLogger(\"stringmethod\").setLevel(logging.ERROR)\n",
    "sys.path.append(\"../string-method-gmxapi/\")\n",
    "import src.analysis as spc\n",
    "import src.analysis.figures as figures"
   ]
  },
  {
   "cell_type": "code",
   "execution_count": null,
   "id": "5aba87b6-8cb8-4955-a8bc-7e43235c5332",
   "metadata": {},
   "outputs": [],
   "source": [
    "%load_ext lab_black\n",
    "%load_ext autoreload\n",
    "%autoreload 2"
   ]
  },
  {
   "cell_type": "markdown",
   "id": "fe28ba67-be3b-4beb-93c0-bfacd47127dc",
   "metadata": {
    "tags": []
   },
   "source": [
    "## Load data"
   ]
  },
  {
   "cell_type": "markdown",
   "id": "aaf6f94a-f5fc-46cb-91b0-406451adb396",
   "metadata": {},
   "source": [
    "This notebook needs to run in the string simulation folder, this cell will get you there. You also set up a path for writing the figures."
   ]
  },
  {
   "cell_type": "code",
   "execution_count": null,
   "id": "1d077fc5-604a-4137-bd07-767b0d2958cd",
   "metadata": {},
   "outputs": [],
   "source": [
    "path_raw = os.path.expanduser(f\"~/Projects/string_sims/data/raw/\")\n",
    "path_interim = os.path.expanduser(f\"~/Projects/string_sims/data/interim/\")\n",
    "path_processed = os.path.expanduser(f\"~/Projects/string_sims/data/processed/\")\n",
    "path_XRD = os.path.expanduser(f\"~/Projects/string_sims/models/raw_pdb/\")\n",
    "path_report = os.path.expanduser(f\"~/Projects/string_sims/reports/final_figures/\")\n",
    "os.chdir(path_raw)\n",
    "os.getcwd()"
   ]
  },
  {
   "cell_type": "code",
   "execution_count": null,
   "id": "47e960c8-b86c-41b7-b147-2eac111e86c9",
   "metadata": {},
   "outputs": [],
   "source": [
    "os.chdir(path_XRD)\n",
    "with open(\n",
    "    os.path.expanduser(\"~/Projects/string_sims/data/processed/XRD/XRD.pickle\"), \"rb\"\n",
    ") as handle:\n",
    "    XRD_dictionary = pickle.load(handle)\n",
    "os.chdir(path_raw)"
   ]
  },
  {
   "cell_type": "code",
   "execution_count": null,
   "id": "050cf7e4-4a93-428a-be9a-3f2a6cc5bd94",
   "metadata": {},
   "outputs": [],
   "source": [
    "sim_name = {\n",
    "    \"C2I_lb_v1/\": \"LB-CHARMM\",\n",
    "    \"C2I_lb_v1_amber/\": \"LB-AMBER\",\n",
    "    \"C2I_v1/\": \"noLB-CHARMM\",\n",
    "    \"C2I_v1_amber/\": \"noLB-AMBER\",\n",
    "}"
   ]
  },
  {
   "cell_type": "code",
   "execution_count": null,
   "id": "853b5b8a-05c5-4f60-8127-a2da4ca89be4",
   "metadata": {},
   "outputs": [],
   "source": [
    "colors = {\n",
    "    \"C2I_lb_v1/\": \"C0\",\n",
    "    \"C2I_lb_v1_amber/\": \"C1\",\n",
    "    \"C2I_v1/\": \"C2\",\n",
    "    \"C2I_v1_amber/\": \"C3\",\n",
    "}"
   ]
  },
  {
   "cell_type": "markdown",
   "id": "65f1a66f-1293-434b-9631-e27960087f6b",
   "metadata": {
    "tags": []
   },
   "source": [
    "## SF vs IG FES"
   ]
  },
  {
   "cell_type": "code",
   "execution_count": null,
   "id": "de3e3073-f3af-49b6-b057-724e58212b9d",
   "metadata": {},
   "outputs": [],
   "source": [
    "name = \"C2I_v1_amber\"\n",
    "fig_title = \"noLB-AMBER\"\n",
    "fig, ax = figures.final_FES_IG_SF(\n",
    "    name, path_processed, path_report, XRD_dictionary, fig_title, show_cbar=True\n",
    ")"
   ]
  },
  {
   "cell_type": "code",
   "execution_count": null,
   "id": "4f56c6a5-cf8d-40ff-9eb5-78cc9eda93a7",
   "metadata": {},
   "outputs": [],
   "source": [
    "name = \"C2I_lb_v1_amber\"\n",
    "fig_title = \"LB-AMBER\"\n",
    "fig, ax = figures.final_FES_IG_SF(\n",
    "    name, path_processed, path_report, XRD_dictionary, fig_title, show_cbar=False\n",
    ")"
   ]
  },
  {
   "cell_type": "code",
   "execution_count": null,
   "id": "809f5ddc-a785-413a-a11f-eaae3d42a95a",
   "metadata": {},
   "outputs": [],
   "source": [
    "name = \"C2I_lb_v1\"\n",
    "fig_title = \"LB-CHARMM\"\n",
    "fig, ax = figures.final_FES_IG_SF(\n",
    "    name, path_processed, path_report, XRD_dictionary, fig_title, show_cbar=False\n",
    ")"
   ]
  },
  {
   "cell_type": "markdown",
   "id": "285c3372-c72c-4562-8e7b-411c7db6657e",
   "metadata": {
    "tags": []
   },
   "source": [
    "## Path CVs FES"
   ]
  },
  {
   "cell_type": "code",
   "execution_count": null,
   "id": "d2920c0e-4858-4e0f-b351-1d1a9b34de1d",
   "metadata": {},
   "outputs": [],
   "source": [
    "error = {\n",
    "    \"C2I_lb_v1/\": [100, 3],\n",
    "    \"C2I_lb_v1_amber/\": [100, 3],\n",
    "    \"C2I_v1/\": [100, 3],\n",
    "    \"C2I_v1_amber/\": [100, 3],\n",
    "}"
   ]
  },
  {
   "cell_type": "code",
   "execution_count": null,
   "id": "a84146fc-43be-487f-b20f-85529976974d",
   "metadata": {
    "tags": []
   },
   "outputs": [],
   "source": [
    "fig, ax = plt.subplots(1, 1, figsize=(10, 7), sharex=True, sharey=True)\n",
    "for i, name in enumerate([\"C2I_lb_v1/\", \"C2I_lb_v1_amber/\", \"C2I_v1_amber/\"]):\n",
    "    F = np.load(f\"{path_processed}{name}FES_path.npy\")\n",
    "    ax.plot(F[0], F[1], marker=\"\", label=sim_name[name], color=colors[name], lw=3)\n",
    "    n_boot = error[name][0]\n",
    "    error_block = error[name][1]\n",
    "    e = np.load(f\"{path_processed}{name}path_errors_{n_boot}_5.npy\")\n",
    "    e = e[error_block, :]\n",
    "    ax.fill_between(F[0], F[1] + e, F[1] - e, alpha=0.1, color=colors[name])\n",
    "ax.legend(prop={\"size\": 18}, loc=\"best\")\n",
    "ax.set_xlabel(r\"$s_{path}$\", size=25)\n",
    "ax.set_ylabel(\"Free Energy ($k_BT$)\", size=20)\n",
    "ax.set_ylim([-0.5, 20])\n",
    "ax.set_xlim([0.1, 1.01])\n",
    "ax.tick_params(\"x\", labelsize=15)\n",
    "ax.tick_params(\"y\", labelsize=15)\n",
    "ax.grid(False)\n",
    "fig.savefig(path_report + \"main_panel/FES_path_cv.png\")"
   ]
  },
  {
   "cell_type": "markdown",
   "id": "3e176cd1-269e-448b-8b6c-ff8cc8dcc0a0",
   "metadata": {},
   "source": [
    "## Project water in SF"
   ]
  },
  {
   "cell_type": "code",
   "execution_count": null,
   "id": "f2de9d17-4e8d-4fc7-aa03-6134f8fec6a8",
   "metadata": {},
   "outputs": [],
   "source": [
    "name = \"C2I_lb_v1_amber\"\n",
    "fig_title = \"LB-AMBER\"\n",
    "with open(f\"{path_processed}/{name}/SF_occupation_data.pkl\", \"rb\") as handle:\n",
    "    SF_occupation_data = pickle.load(handle)\n",
    "cv_data = SF_occupation_data[\"W\"][\"all\"]\n",
    "cv_label = \"Water Molecules in SF\"\n",
    "cv_name = \"H2O_in_SF\"\n",
    "fig, ax = figures.final_cv_projection(\n",
    "    name,\n",
    "    path_processed,\n",
    "    path_report,\n",
    "    cv_name,\n",
    "    cv_data,\n",
    "    cv_label,\n",
    "    XRD_dictionary,\n",
    "    fig_title,\n",
    "    show_cbar=True,\n",
    "    f_max=3,\n",
    ")"
   ]
  },
  {
   "cell_type": "markdown",
   "id": "d058b8d3-a85b-4101-9f35-ea8eaed5566c",
   "metadata": {},
   "source": [
    "## Path CV vs CV FES"
   ]
  },
  {
   "cell_type": "code",
   "execution_count": null,
   "id": "04480762-09f2-4466-9c93-2466c7965c59",
   "metadata": {},
   "outputs": [],
   "source": [
    "name = \"C2I_lb_v1_amber\"\n",
    "fig_title = \"LB-AMBER\"\n",
    "cv_name = \"SF\"\n",
    "ylabel = \"Selectivity Filter (nm)\"\n",
    "fig, ax = figures.final_FES_path_CV(\n",
    "    name,\n",
    "    cv_name,\n",
    "    path_processed,\n",
    "    path_report,\n",
    "    XRD_dictionary,\n",
    "    fig_title,\n",
    "    ylabel,\n",
    "    show_cbar=True,\n",
    ")"
   ]
  },
  {
   "cell_type": "code",
   "execution_count": null,
   "id": "4c94e8af-19f0-418f-b37d-8276c4afb0b9",
   "metadata": {
    "tags": []
   },
   "outputs": [],
   "source": [
    "name = \"C2I_lb_v1_amber\"\n",
    "fig_title = \"LB-AMBER\"\n",
    "cv_name = \"IG\"\n",
    "ylabel = \"Inner Gate (nm)\"\n",
    "fig, ax = figures.final_FES_path_CV(\n",
    "    name,\n",
    "    cv_name,\n",
    "    path_processed,\n",
    "    path_report,\n",
    "    XRD_dictionary,\n",
    "    fig_title,\n",
    "    ylabel,\n",
    "    show_cbar=False,\n",
    ")"
   ]
  },
  {
   "cell_type": "code",
   "execution_count": null,
   "id": "12b03a6a-726d-45a6-ba84-d9dcf5f887ea",
   "metadata": {
    "tags": []
   },
   "outputs": [],
   "source": [
    "name = \"C2I_lb_v1\"\n",
    "fig_title = \"LB-CHARMM\"\n",
    "cv_name = \"L81-W67\"\n",
    "ylabel = \"L81-W67 distance (nm)\"\n",
    "fig, ax = figures.final_FES_path_CV(\n",
    "    name,\n",
    "    cv_name,\n",
    "    path_processed,\n",
    "    path_report,\n",
    "    XRD_dictionary,\n",
    "    fig_title,\n",
    "    ylabel,\n",
    "    show_cbar=False,\n",
    ")"
   ]
  },
  {
   "cell_type": "code",
   "execution_count": null,
   "id": "59deb5c7-dbef-48c6-90c3-422a3035131c",
   "metadata": {
    "tags": []
   },
   "outputs": [],
   "source": [
    "name = \"C2I_lb_v1_amber\"\n",
    "fig_title = \"LB-AMBER\"\n",
    "cv_name = \"chi1_F103\"\n",
    "ylabel = r\"$\\chi_1$ F103 ($^\\circ$)\"\n",
    "fig, ax = figures.final_FES_path_CV(\n",
    "    name,\n",
    "    cv_name,\n",
    "    path_processed,\n",
    "    path_report,\n",
    "    XRD_dictionary,\n",
    "    fig_title,\n",
    "    ylabel,\n",
    "    show_cbar=False,\n",
    ")"
   ]
  },
  {
   "cell_type": "code",
   "execution_count": null,
   "id": "1a470435-7e8e-4168-ac0b-068c88d011b4",
   "metadata": {
    "tags": []
   },
   "outputs": [],
   "source": [
    "name = \"C2I_lb_v1_amber\"\n",
    "fig_title = \"LB-AMBER\"\n",
    "cv_name = \"dis_T74-F103\"\n",
    "ylabel = \"T74-F103 distance (nm)\"\n",
    "fig, ax = figures.final_FES_path_CV(\n",
    "    name,\n",
    "    cv_name,\n",
    "    path_processed,\n",
    "    path_report,\n",
    "    XRD_dictionary,\n",
    "    fig_title,\n",
    "    ylabel,\n",
    "    show_cbar=True,\n",
    ")"
   ]
  },
  {
   "cell_type": "code",
   "execution_count": null,
   "id": "9717f827-747b-40ce-b1ef-b6d24e13e805",
   "metadata": {
    "tags": []
   },
   "outputs": [],
   "source": [
    "name = \"C2I_lb_v1_amber\"\n",
    "fig_title = \"LB-AMBER\"\n",
    "cv_name = \"dis_R64-D80\"\n",
    "ylabel = \"R64-D80 distance (nm)\"\n",
    "fig, ax = figures.final_FES_path_CV(\n",
    "    name,\n",
    "    cv_name,\n",
    "    path_processed,\n",
    "    path_report,\n",
    "    XRD_dictionary,\n",
    "    fig_title,\n",
    "    ylabel,\n",
    "    show_cbar=True,\n",
    ")"
   ]
  },
  {
   "cell_type": "code",
   "execution_count": null,
   "id": "5965b6d8-e470-43cf-a8b5-ac7a040f9c59",
   "metadata": {},
   "outputs": [],
   "source": []
  }
 ],
 "metadata": {
  "kernelspec": {
   "display_name": "string_sims",
   "language": "python",
   "name": "string_sims"
  },
  "language_info": {
   "codemirror_mode": {
    "name": "ipython",
    "version": 3
   },
   "file_extension": ".py",
   "mimetype": "text/x-python",
   "name": "python",
   "nbconvert_exporter": "python",
   "pygments_lexer": "ipython3",
   "version": "3.8.5"
  }
 },
 "nbformat": 4,
 "nbformat_minor": 5
}
