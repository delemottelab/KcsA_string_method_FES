{
 "cells": [
  {
   "cell_type": "code",
   "execution_count": null,
   "id": "87034248-066e-45c1-a5c0-33f584683dd4",
   "metadata": {
    "tags": []
   },
   "outputs": [],
   "source": [
    "import os\n",
    "import sys\n",
    "import numpy as np\n",
    "import glob\n",
    "import pickle\n",
    "import matplotlib.pyplot as plt\n",
    "import src.analysis as spc\n",
    "import MDAnalysis as mda"
   ]
  },
  {
   "cell_type": "code",
   "execution_count": null,
   "id": "966f74bd-bb91-4e22-9e8c-91a0d58c10b9",
   "metadata": {},
   "outputs": [],
   "source": [
    "%load_ext lab_black\n",
    "%load_ext autoreload\n",
    "%autoreload 2"
   ]
  },
  {
   "cell_type": "code",
   "execution_count": null,
   "id": "da822fda-00c9-481e-9514-a2b1a666f2d5",
   "metadata": {},
   "outputs": [],
   "source": [
    "name_sim = \"XRD/\"\n",
    "path_base = f\"/data/sperez/Projects/string_sims/models/raw_pdb/\"\n",
    "path_processed = f\"/data/sperez/Projects/string_sims/data/processed/{name_sim}\"\n",
    "path_raw = f\"/data/sperez/Projects/string_sims/data/raw\"\n",
    "path_report = f\"/data/sperez/Projects/string_sims/reports/figures/{name_sim}\"\n",
    "os.chdir(path_base)\n",
    "os.getcwd()"
   ]
  },
  {
   "cell_type": "markdown",
   "id": "c9517100-30ed-4d1b-815b-d72290440ed3",
   "metadata": {
    "tags": []
   },
   "source": [
    "# Load Universes"
   ]
  },
  {
   "cell_type": "code",
   "execution_count": null,
   "id": "f742dbed-4bae-4010-9a01-b899aa01c4b1",
   "metadata": {
    "tags": []
   },
   "outputs": [],
   "source": [
    "universes = {\n",
    "    \"5VKH\": {\"marker\": \"o\", \"string0_bead\": 0},\n",
    "    \"3FB5\": {\"marker\": \"X\", \"string0_bead\": 5},\n",
    "    \"5VK6\": {\"marker\": \"*\", \"string0_bead\": 10},\n",
    "    \"5VKE\": {\"marker\": \"s\", \"string0_bead\": 17},\n",
    "}"
   ]
  },
  {
   "cell_type": "code",
   "execution_count": null,
   "id": "b10fb10a-03c2-4507-b3a5-1d28fce750d7",
   "metadata": {},
   "outputs": [],
   "source": [
    "sim_names = [\"C2I_lb_v1\"]"
   ]
  },
  {
   "cell_type": "code",
   "execution_count": null,
   "id": "47fcc9c2-465f-4ed8-8c93-ead6e52f6204",
   "metadata": {},
   "outputs": [],
   "source": [
    "for u in universes.keys():\n",
    "    universes[u][\"u\"] = mda.Universe(f\"{u}.pdb\")"
   ]
  },
  {
   "cell_type": "markdown",
   "id": "61c552fd-a314-49e3-a67b-675be1781380",
   "metadata": {},
   "source": [
    "## Calculate Stuff"
   ]
  },
  {
   "cell_type": "markdown",
   "id": "3adc01a3-a7dd-4d5f-b3a9-24acf9fe8ac8",
   "metadata": {},
   "source": [
    "## SF"
   ]
  },
  {
   "cell_type": "code",
   "execution_count": null,
   "id": "b09bf711-04f5-4cb6-bae6-685f7e3357f4",
   "metadata": {},
   "outputs": [],
   "source": [
    "for name in universes.keys():\n",
    "    u = universes[name][\"u\"]\n",
    "    sel1 = u.select_atoms(\"resid 77 and name CA and segid PROA\")\n",
    "    sel2 = u.select_atoms(\"resid 77 and name CA and segid PROB\")\n",
    "    distance = spc.distance_atom_groups(u, sel1, sel2)\n",
    "    sel1 = u.select_atoms(\"resid 77 and name CA and segid PROC\")\n",
    "    sel2 = u.select_atoms(\"resid 77 and name CA and segid PROD\")\n",
    "    distance += spc.distance_atom_groups(u, sel1, sel2)\n",
    "    universes[name][\"SF\"] = 0.5 * distance"
   ]
  },
  {
   "cell_type": "markdown",
   "id": "a8632bf9-2ab4-4752-aecf-86ee2900c1c6",
   "metadata": {},
   "source": [
    "## IG"
   ]
  },
  {
   "cell_type": "code",
   "execution_count": null,
   "id": "975340dc-a6e8-464c-af1c-885c9a398118",
   "metadata": {},
   "outputs": [],
   "source": [
    "for name in universes.keys():\n",
    "    u = universes[name][\"u\"]\n",
    "    sel1 = u.select_atoms(\"resid 112 and name CA and segid PROA\")\n",
    "    sel2 = u.select_atoms(\"resid 112 and name CA and segid PROB\")\n",
    "    distance = spc.distance_atom_groups(u, sel1, sel2)\n",
    "    sel1 = u.select_atoms(\"resid 112 and name CA and segid PROC\")\n",
    "    sel2 = u.select_atoms(\"resid 112 and name CA and segid PROD\")\n",
    "    distance += spc.distance_atom_groups(u, sel1, sel2)\n",
    "    universes[name][\"IG\"] = 0.5 * distance"
   ]
  },
  {
   "cell_type": "markdown",
   "id": "402fa686-c478-47f9-8ff5-f1ed464bb688",
   "metadata": {},
   "source": [
    "## W67-L81"
   ]
  },
  {
   "cell_type": "code",
   "execution_count": null,
   "id": "8d2f4833-1202-4373-b4a8-e18910b03b0c",
   "metadata": {},
   "outputs": [],
   "source": [
    "for name in universes.keys():\n",
    "    u = universes[name][\"u\"]\n",
    "    sel1 = u.select_atoms(\"resid 67 and name CD1 and segid PROA\")\n",
    "    sel2 = u.select_atoms(\"resid 81 and name CG and segid PROA\")\n",
    "    distance = spc.distance_atom_groups(u, sel1, sel2)\n",
    "    sel1 = u.select_atoms(\"resid 67 and name CD1 and segid PROB\")\n",
    "    sel2 = u.select_atoms(\"resid 81 and name CG and segid PROB\")\n",
    "    distance += spc.distance_atom_groups(u, sel1, sel2)\n",
    "    sel1 = u.select_atoms(\"resid 67 and name CD1 and segid PROC\")\n",
    "    sel2 = u.select_atoms(\"resid 81 and name CG and segid PROC\")\n",
    "    distance += spc.distance_atom_groups(u, sel1, sel2)\n",
    "    sel1 = u.select_atoms(\"resid 67 and name CD1 and segid PROD\")\n",
    "    sel2 = u.select_atoms(\"resid 81 and name CG and segid PROD\")\n",
    "    distance += spc.distance_atom_groups(u, sel1, sel2)\n",
    "    universes[name][\"W67-L81\"] = 0.25 * distance"
   ]
  },
  {
   "cell_type": "markdown",
   "id": "66fa066e-9274-4489-bcca-29cb2d4a9e83",
   "metadata": {},
   "source": [
    "## I100-F103 "
   ]
  },
  {
   "cell_type": "code",
   "execution_count": null,
   "id": "7f5ab58a-1291-4f5b-b3cc-351e72a672a4",
   "metadata": {},
   "outputs": [],
   "source": [
    "for name in universes.keys():\n",
    "    u = universes[name][\"u\"]\n",
    "    sel1 = u.select_atoms(\"resid 100 and name CD and segid PROD\")\n",
    "    sel2 = u.select_atoms(\"resid 103 and name CZ and segid PROA\")\n",
    "    distance = spc.distance_atom_groups(u, sel1, sel2)\n",
    "    sel1 = u.select_atoms(\"resid 100 and name CD and segid PROB\")\n",
    "    sel2 = u.select_atoms(\"resid 103 and name CZ and segid PROD\")\n",
    "    distance += spc.distance_atom_groups(u, sel1, sel2)\n",
    "    sel1 = u.select_atoms(\"resid 100 and name CD and segid PROC\")\n",
    "    sel2 = u.select_atoms(\"resid 103 and name CZ and segid PROB\")\n",
    "    distance += spc.distance_atom_groups(u, sel1, sel2)\n",
    "    sel1 = u.select_atoms(\"resid 100 and name CD and segid PROA\")\n",
    "    sel2 = u.select_atoms(\"resid 103 and name CZ and segid PROC\")\n",
    "    distance += spc.distance_atom_groups(u, sel1, sel2)\n",
    "    universes[name][\"I100-F103\"] = 0.25 * distance"
   ]
  },
  {
   "cell_type": "markdown",
   "id": "8e0d2ab1-3f17-485f-89fc-e93ab77647c4",
   "metadata": {},
   "source": [
    "## Path Values"
   ]
  },
  {
   "cell_type": "code",
   "execution_count": null,
   "id": "f821b4fa-cab2-4651-a788-ce6556cd062d",
   "metadata": {},
   "outputs": [],
   "source": [
    "for sim_name in sim_names:\n",
    "    string0 = np.loadtxt(f\"{path_raw}/{sim_name}/strings/string0.txt\")\n",
    "    file = glob.glob(f\"{path_processed}/../{sim_name}/path_lam*\")[0]\n",
    "    path = np.load(file)\n",
    "    lam = float(file.split(\"_\")[-1][3:][:-4])\n",
    "    for name in universes.keys():\n",
    "        coord = string0[universes[name][\"string0_bead\"], :]\n",
    "        path_cvs = spc.cvs_to_path(coord, path=path, lam=lam)\n",
    "        universes[name][f\"s_path_{sim_name}\"] = path_cvs[0]\n",
    "        universes[name][f\"z_path_{sim_name}\"] = path_cvs[1]"
   ]
  },
  {
   "cell_type": "markdown",
   "id": "70aa7f91-775f-4097-b386-52c3e77e26a2",
   "metadata": {},
   "source": [
    "## Save data"
   ]
  },
  {
   "cell_type": "code",
   "execution_count": null,
   "id": "132bc0d7-cd2f-43ae-b887-4cbc8bad868b",
   "metadata": {},
   "outputs": [],
   "source": [
    "with open(f\"{path_processed}XRD.pickle\", \"wb\") as handle:\n",
    "    pickle.dump(universes, handle, protocol=pickle.HIGHEST_PROTOCOL)"
   ]
  },
  {
   "cell_type": "code",
   "execution_count": null,
   "id": "9f1f850c-ca5a-4da8-8942-78f98c9e2d00",
   "metadata": {},
   "outputs": [],
   "source": [
    "# with open(f\"{path_processed}XRD.pickle\", \"rb\") as handle:\n",
    "#    universes = pickle.load(handle)"
   ]
  },
  {
   "cell_type": "code",
   "execution_count": null,
   "id": "1d453f4b-e3e4-4466-87de-8a16ca13937c",
   "metadata": {},
   "outputs": [],
   "source": []
  }
 ],
 "metadata": {
  "kernelspec": {
   "display_name": "string_sims",
   "language": "python",
   "name": "string_sims"
  },
  "language_info": {
   "codemirror_mode": {
    "name": "ipython",
    "version": 3
   },
   "file_extension": ".py",
   "mimetype": "text/x-python",
   "name": "python",
   "nbconvert_exporter": "python",
   "pygments_lexer": "ipython3",
   "version": "3.9.10"
  }
 },
 "nbformat": 4,
 "nbformat_minor": 5
}
