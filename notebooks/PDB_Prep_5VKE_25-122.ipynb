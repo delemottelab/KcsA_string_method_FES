{
 "cells": [
  {
   "cell_type": "markdown",
   "metadata": {},
   "source": [
    "# PDB Preparation"
   ]
  },
  {
   "cell_type": "code",
   "execution_count": null,
   "metadata": {},
   "outputs": [],
   "source": [
    "import MDAnalysis as mda\n",
    "from MDAnalysis.analysis import align\n",
    "import numpy as np\n",
    "import nglview as nv\n",
    "import spc_os \n",
    "import os\n",
    "import gmxapi as gmx"
   ]
  },
  {
   "cell_type": "code",
   "execution_count": null,
   "metadata": {},
   "outputs": [],
   "source": [
    "roseta_dir = '../models/raw_pdb/rosetta_5VKE/'\n",
    "data_dir = '../data/raw/'"
   ]
  },
  {
   "cell_type": "markdown",
   "metadata": {},
   "source": [
    "# Starting PDB\n",
    "\n",
    "Took initial structure obtained from a previous project of 5VKE with and without lipids. It is a starting structure which was prepared and before it is passed through charmm-gui and had additional changes.\n",
    "This structure is `../models/raw_pdb/full_before_rosetta.pdb`"
   ]
  },
  {
   "cell_type": "markdown",
   "metadata": {},
   "source": [
    "# ROSETTA\n",
    "Add residues so the sequence is between 25 and 121 to the 5VKE pdb with rosetta `models/raw_pdb/rosetta` contains the files.\n",
    "The starting structure is `../models/raw_pdb/full_before_rosetta.pdb` without the caps and just with `segid PROA`"
   ]
  },
  {
   "cell_type": "markdown",
   "metadata": {},
   "source": [
    "## Renumber"
   ]
  },
  {
   "cell_type": "code",
   "execution_count": null,
   "metadata": {},
   "outputs": [],
   "source": [
    "start = mda.Universe(f'{roseta_dir}/output_files/input_0001.pdb')"
   ]
  },
  {
   "cell_type": "code",
   "execution_count": null,
   "metadata": {},
   "outputs": [],
   "source": [
    "start.residues.resids = np.arange(25, start.residues.n_residues+25)"
   ]
  },
  {
   "cell_type": "markdown",
   "metadata": {},
   "source": [
    "## Tetramerize"
   ]
  },
  {
   "cell_type": "code",
   "execution_count": null,
   "metadata": {},
   "outputs": [],
   "source": [
    "%ls ../models/raw_pdb/"
   ]
  },
  {
   "cell_type": "code",
   "execution_count": null,
   "metadata": {},
   "outputs": [],
   "source": [
    "ref = mda.Universe('../models/raw_pdb/full_before_rosetta_5VKE.pdb')"
   ]
  },
  {
   "cell_type": "code",
   "execution_count": null,
   "metadata": {
    "tags": []
   },
   "outputs": [],
   "source": [
    "merge1 = start.copy()\n",
    "align.alignto(start,ref,select=\"name CA and (segid PROB or segid A) and resid 62:73\")\n",
    "merge1.segments.segids = 'B'\n",
    "merge2 = start.copy()\n",
    "align.alignto(start,ref,select=\"name CA and (segid PROC or segid A) and resid 62:73\")\n",
    "merge2.segments.segids = 'C'\n",
    "merge3 = start.copy()\n",
    "align.alignto(start,ref,select=\"name CA and (segid PROD or segid A) and resid 62:73\")\n",
    "merge3.segments.segids = 'D'\n",
    "start.segments.segids = 'A'\n",
    "merged = mda.Merge(start.select_atoms('all'), merge1.select_atoms('all'), merge2.select_atoms('all'), merge3.select_atoms('all'), ref.select_atoms('not protein'))"
   ]
  },
  {
   "cell_type": "code",
   "execution_count": null,
   "metadata": {
    "tags": []
   },
   "outputs": [],
   "source": [
    "merged.atoms.write(\"../models/raw_pdb/rosetta_merged_renumbered_5VKE_lb.pdb\")\n",
    "merged = mda.Merge(start.select_atoms('all'), merge1.select_atoms('all'), merge2.select_atoms('all'), merge3.select_atoms('all'), ref.select_atoms('not protein and not resname DOPG'))\n",
    "merged.atoms.write(\"../models/raw_pdb/rosetta_merged_renumbered_5VKE.pdb\")"
   ]
  },
  {
   "cell_type": "code",
   "execution_count": null,
   "metadata": {},
   "outputs": [],
   "source": [
    "view = nv.show_mdanalysis(merged)\n",
    "view.add_licorice(\"TYR\")\n",
    "view"
   ]
  },
  {
   "cell_type": "markdown",
   "metadata": {},
   "source": [
    "## Upload CHARMM-GUI\n",
    "+ Caps ACE, CT3\n",
    "+ Protonate E71, E118, E120, H25\n",
    "+ ppm server\n",
    "+ generate pore water\n",
    "+ 80Å 3:1 PE/PG chains DO\n",
    "+ 0.1 NaCl\n",
    "+ CHARMM36, gromacs\n",
    "+ lb: 1881606330 not_lb:1881601122 "
   ]
  },
  {
   "cell_type": "markdown",
   "metadata": {},
   "source": [
    "# Modifications\n",
    "+ add to step5_input.pdb the pbc\n",
    "+ add Na such that half is K.\n",
    "+ removed waters that are in the lipids.\n",
    "+ add the helix restrains"
   ]
  },
  {
   "cell_type": "code",
   "execution_count": null,
   "metadata": {},
   "outputs": [],
   "source": [
    "%%bash\n",
    "\n",
    "for sys in 5VKE_25-122 5VKE_lb_25-122\n",
    "do \n",
    "mkdir -p ../data/raw/$sys/opt\n",
    "mkdir -p ../data/raw/$sys/eq\n",
    "for file in charmm_final.pdb topol.top toppar\n",
    "do\n",
    "ln -s ../../../models/charmm-gui/$sys/$file ../data/raw/$sys/$file\n",
    "done\n",
    "done"
   ]
  },
  {
   "cell_type": "code",
   "execution_count": null,
   "metadata": {},
   "outputs": [],
   "source": [
    "%%bash\n",
    "\n",
    "for sys in 5VKE_25-122 5VKE_lb_25-122\n",
    "do \n",
    "ln -s ../../../../models/mdp/opt.mdp ../data/raw/$sys/opt/opt.mdp\n",
    "for i in $(seq 0 7)\n",
    "do\n",
    "ln -s ../../../../models/mdp/NPTres$i.mdp ../data/raw/$sys/eq/NPTres$i.mdp\n",
    "done\n",
    "done"
   ]
  },
  {
   "cell_type": "code",
   "execution_count": null,
   "metadata": {},
   "outputs": [],
   "source": [
    "systems = [\"5VKE_25-122\", \"5VKE_lb_25-122\"]"
   ]
  },
  {
   "cell_type": "code",
   "execution_count": null,
   "metadata": {},
   "outputs": [],
   "source": [
    "selections = {\n",
    "    \"all\": \"all\",\n",
    "    \"protein\": \"protein\",\n",
    "    \"waters\": \"name OH2 H1 H2 and resname TIP3\",\n",
    "    \"waters_or_ions\": \"(name OH2 H1 H2 and resname TIP3) or resname SOD POT CLA CA\",\n",
    "    \"lipids\": \"resname DOPG DOPE POPC POPS CHL1 POPG\",\n",
    "    \"PROA\": \"segid PROA\",\n",
    "    \"PROB\": \"segid PROB\",\n",
    "    \"PROC\": \"segid PROC\",\n",
    "    \"PROD\": \"segid PROD\",\n",
    "}"
   ]
  },
  {
   "cell_type": "code",
   "execution_count": null,
   "metadata": {},
   "outputs": [],
   "source": [
    "for sys in systems:\n",
    "    ndx_path = f\"{data_dir}{sys}/index.ndx\"\n",
    "    spc_os.remove(ndx_path)\n",
    "    univ = mda.Universe(f\"{data_dir}{sys}/charmm_final.pdb\")\n",
    "    for selection in selections.keys():\n",
    "        univ.select_atoms(selections[selection]).write(\n",
    "            ndx_path, name=selection, mode=\"a\"\n",
    "        )"
   ]
  },
  {
   "cell_type": "markdown",
   "metadata": {},
   "source": [
    "## Optimize"
   ]
  },
  {
   "cell_type": "code",
   "execution_count": null,
   "metadata": {},
   "outputs": [],
   "source": [
    "for sys in systems:\n",
    "    path = f\"{data_dir}{sys}/opt\"\n",
    "    cdminus = os.getcwd()\n",
    "    os.chdir(path)\n",
    "    grompp = gmx.commandline_operation(\n",
    "        \"gmx\",\n",
    "        \"grompp\",\n",
    "        input_files={\n",
    "            \"-f\": \"opt.mdp\",\n",
    "            \"-p\": \"../topol.top\",\n",
    "            \"-c\": \"../charmm_final.pdb\",\n",
    "            \"-r\": \"../charmm_final.pdb\",\n",
    "            \"-n\": \"../index.ndx\",\n",
    "            \"-pp\": \"topol.top\",\n",
    "        },\n",
    "        output_files={\"-o\": \"topol.tpr\"},\n",
    "    )\n",
    "    grompp.run()\n",
    "    if grompp.output.erroroutput.result() != \"\":\n",
    "        print(grompp.output.erroroutput.result())\n",
    "    os.chdir(cdminus)"
   ]
  },
  {
   "cell_type": "code",
   "execution_count": null,
   "metadata": {},
   "outputs": [],
   "source": [
    "for sys in systems:\n",
    "    path = f\"{data_dir}{sys}/opt\"\n",
    "    cdminus = os.getcwd()\n",
    "    os.chdir(path)\n",
    "    simulation_input = gmx.read_tpr(\"topol.tpr\")\n",
    "    md = gmx.commandline_operation(\"gmx\", \"mdrun\", input_files={\"-s\": \"topol.tpr\"})\n",
    "    md.run()\n",
    "    os.chdir(cdminus)"
   ]
  },
  {
   "cell_type": "code",
   "execution_count": null,
   "metadata": {},
   "outputs": [],
   "source": []
  }
 ],
 "metadata": {
  "kernelspec": {
   "display_name": "string_sims",
   "language": "python",
   "name": "string_sims"
  },
  "language_info": {
   "codemirror_mode": {
    "name": "ipython",
    "version": 3
   },
   "file_extension": ".py",
   "mimetype": "text/x-python",
   "name": "python",
   "nbconvert_exporter": "python",
   "pygments_lexer": "ipython3",
   "version": "3.8.5"
  }
 },
 "nbformat": 4,
 "nbformat_minor": 4
}
