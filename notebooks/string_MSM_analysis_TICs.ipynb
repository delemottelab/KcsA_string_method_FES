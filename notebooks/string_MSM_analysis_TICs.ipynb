{
 "cells": [
  {
   "cell_type": "markdown",
   "id": "32867ee4-ea45-4aa9-b192-176b0801c41c",
   "metadata": {},
   "source": [
    "# String Method Analysis Markov-State-Models\n",
    "## Imports"
   ]
  },
  {
   "cell_type": "code",
   "execution_count": null,
   "id": "75b1c221-b47d-4484-9125-6eac0a75a249",
   "metadata": {
    "tags": []
   },
   "outputs": [],
   "source": [
    "%load_ext lab_black\n",
    "\n",
    "import matplotlib.pyplot as plt\n",
    "import matplotlib as mpl\n",
    "from matplotlib.ticker import MultipleLocator, FormatStrFormatter, AutoMinorLocator\n",
    "import os\n",
    "import pickle\n",
    "import sys\n",
    "import logging\n",
    "import numpy as np\n",
    "import pyemma\n",
    "\n",
    "logging.getLogger(\"matplotlib\").setLevel(logging.ERROR)\n",
    "logging.getLogger(\"blib2to3.pgen2.driver\").setLevel(logging.WARNING)\n",
    "logging.getLogger(\"pyemma\").setLevel(logging.NOTSET)\n",
    "sys.path.append(\"../string-method-gmxapi/\")\n",
    "from stringmethod.config import *\n",
    "from stringmethod.postprocessing import *"
   ]
  },
  {
   "cell_type": "code",
   "execution_count": null,
   "id": "de3cdeb7-d783-479d-bffa-1be57dbda421",
   "metadata": {},
   "outputs": [],
   "source": [
    "from scipy import stats"
   ]
  },
  {
   "cell_type": "code",
   "execution_count": null,
   "id": "86e748d1-52ad-4643-81be-b3ad1b73940b",
   "metadata": {},
   "outputs": [],
   "source": [
    "def colorbar(mappable, cmap, norm, label0, size=10):\n",
    "    from mpl_toolkits.axes_grid1 import make_axes_locatable\n",
    "\n",
    "    ax = mappable.axes\n",
    "    fig = ax.figure\n",
    "    divider = make_axes_locatable(ax)\n",
    "    cax = divider.append_axes(\"right\", size=\"5%\", pad=0.05)\n",
    "    cbar = mpl.colorbar.ColorbarBase(cax, cmap=cmap, norm=norm)\n",
    "    cbar.set_label(label0, size=size)\n",
    "    return cbar"
   ]
  },
  {
   "cell_type": "code",
   "execution_count": null,
   "id": "65adbb5a-2331-4887-8ac2-d4f234a7f318",
   "metadata": {},
   "outputs": [],
   "source": [
    "def load_swarm_data(extract, first_iteration=1, last_iteration=None):\n",
    "    if last_iteration == None:\n",
    "        last_iteration = sys.maxsize\n",
    "    if extract:\n",
    "        config = load_config(\"config.json\")\n",
    "\n",
    "        ce = CvValueExtractor.from_config(\n",
    "            config=config,\n",
    "            first_iteration=first_iteration,  # Exclude the first iterations to let the system equilibrate.\n",
    "            last_iteration=last_iteration,  # Usefull to make blocks of the simulation\n",
    "        )\n",
    "        ce.run()\n",
    "        ce.persist()\n",
    "    return np.load(\"postprocessing/cv_coordinates.npy\")"
   ]
  },
  {
   "cell_type": "code",
   "execution_count": null,
   "id": "39618c4e-8107-4def-b119-ff00cbca313e",
   "metadata": {},
   "outputs": [],
   "source": [
    "plt.rcParams[\"axes.facecolor\"] = \"#f9f9fb\"\n",
    "plt.rcParams[\"grid.color\"] = \"white\"\n",
    "plt.rcParams[\"grid.linestyle\"] = \"-\"\n",
    "plt.rcParams[\"grid.linewidth\"] = 2\n",
    "plt.rcParams[\"axes.grid\"] = True\n",
    "plt.rcParams[\"lines.solid_capstyle\"] = \"round\""
   ]
  },
  {
   "cell_type": "markdown",
   "id": "6d7af371-cecb-41f7-b46d-77e31ddb70cc",
   "metadata": {},
   "source": [
    "## Load data"
   ]
  },
  {
   "cell_type": "code",
   "execution_count": null,
   "id": "5c55acb3-025b-4c1a-a1ba-6a874e94d895",
   "metadata": {},
   "outputs": [],
   "source": [
    "%ls ../data/raw"
   ]
  },
  {
   "cell_type": "code",
   "execution_count": null,
   "id": "ce510b6f-1e1c-416f-b30b-6bbda63671a9",
   "metadata": {},
   "outputs": [],
   "source": [
    "simulation_directory = \"/data/sperez/Projects/string_sims/data/raw/C2I_lb_v2/\"\n",
    "simulation_directory = \"/data/sperez/Projects/string_sims/data/raw/C2I_lb_v1/\"\n",
    "simulation_directory = \"/data/sperez/Projects/string_sims/data/raw/C2I_v1/\"\n",
    "os.chdir(simulation_directory)\n",
    "os.getcwd()"
   ]
  },
  {
   "cell_type": "code",
   "execution_count": null,
   "id": "61fb2261-372f-460c-a3db-c958e6114a61",
   "metadata": {},
   "outputs": [],
   "source": [
    "with open(\"cv.pkl\", \"rb\") as file:\n",
    "    cvs, ndx_groups = pickle.load(file)"
   ]
  },
  {
   "cell_type": "markdown",
   "id": "9fadba22-5407-4d9c-a90c-b3ed0888f37b",
   "metadata": {},
   "source": [
    "The `load_swarm_data` function will load the swarm data in the `cv_coordinates`. If you set `extract=True` it will read the data from the swarm files. If you have done this previously you can set `extract=False` so the function just reads `postprocessing/cv_coordinates.npy`. `first_iteration` can be used to exclude initial swarms as equilibration and `last_iteration` can be done to exclude some iterations for example if you want to estimate the FES convergence by comparing blocks of data."
   ]
  },
  {
   "cell_type": "code",
   "execution_count": null,
   "id": "73ddb40f-95ec-41d2-a7ec-5df6906f1e21",
   "metadata": {},
   "outputs": [],
   "source": [
    "cv_coordinates0 = load_swarm_data(\n",
    "    extract=True, first_iteration=100, last_iteration=None\n",
    ")"
   ]
  },
  {
   "cell_type": "markdown",
   "id": "cad85885-70f6-4169-bdfb-fc05d145db1d",
   "metadata": {},
   "source": [
    "## Choose cvs to use"
   ]
  },
  {
   "cell_type": "markdown",
   "id": "afec4c2e-b848-407d-a946-79850a81368f",
   "metadata": {},
   "source": [
    "### CVs for MSMs"
   ]
  },
  {
   "cell_type": "code",
   "execution_count": null,
   "id": "826a2818-e8cb-4b0d-aff7-cb474d696d13",
   "metadata": {},
   "outputs": [],
   "source": [
    "data = []\n",
    "for i in range(cv_coordinates0.shape[0]):\n",
    "    data.append(cv_coordinates0[i, :, :])"
   ]
  },
  {
   "cell_type": "code",
   "execution_count": null,
   "id": "ba1518bb-bc07-4449-aa5f-0c9a26fe0f71",
   "metadata": {
    "tags": []
   },
   "outputs": [],
   "source": [
    "data = pyemma.coordinates.tica(data, lag=1).get_output()"
   ]
  },
  {
   "cell_type": "markdown",
   "id": "c4e51e80-a192-4d1a-9bbd-3dfe255bbc21",
   "metadata": {
    "tags": []
   },
   "source": [
    "### CVs for projection"
   ]
  },
  {
   "cell_type": "code",
   "execution_count": null,
   "id": "edb43ff1-9381-43ea-b9c8-c16d10108405",
   "metadata": {},
   "outputs": [],
   "source": [
    "cv_proj = np.concatenate(\n",
    "    [\n",
    "        np.mean([cv_coordinates0[:, :, 0:1], cv_coordinates0[:, :, 1:2]], axis=0),\n",
    "        np.mean([cv_coordinates0[:, :, 10:11], cv_coordinates0[:, :, 11:12]], axis=0),\n",
    "    ],\n",
    "    axis=2,\n",
    ")"
   ]
  },
  {
   "cell_type": "markdown",
   "id": "0334797e-8798-4215-b9d8-1f26ece95a12",
   "metadata": {},
   "source": [
    "### Prepare data for pyemma"
   ]
  },
  {
   "cell_type": "code",
   "execution_count": null,
   "id": "1335c1eb-19a5-4434-931e-d95f55ce07ee",
   "metadata": {},
   "outputs": [],
   "source": [
    "data_proj = []\n",
    "for i in range(cv_proj.shape[0]):\n",
    "    data_proj.append(cv_proj[i, :, :])"
   ]
  },
  {
   "cell_type": "code",
   "execution_count": null,
   "id": "cbd5306f-c120-4d78-b6b7-e2fba1f5ba5f",
   "metadata": {},
   "outputs": [],
   "source": [
    "data_concat = np.concatenate(data)"
   ]
  },
  {
   "cell_type": "code",
   "execution_count": null,
   "id": "b4103469-60bd-4043-b611-1512946cf62c",
   "metadata": {},
   "outputs": [],
   "source": [
    "data_proj_concat = np.concatenate(data_proj)"
   ]
  },
  {
   "cell_type": "markdown",
   "id": "87e0b54f-a57e-4cf9-8f7d-15a9123e2984",
   "metadata": {},
   "source": [
    "## Cluster"
   ]
  },
  {
   "cell_type": "code",
   "execution_count": null,
   "id": "bb837fa7-e05f-44a4-800a-e65466991058",
   "metadata": {},
   "outputs": [],
   "source": [
    "def score_cv(data, dim, lag, number_of_splits=10, validation_fraction=0.5):\n",
    "    \"\"\"Compute a cross-validated VAMP2 score.\n",
    "\n",
    "    We randomly split the list of independent trajectories into\n",
    "    a training and a validation set, compute the VAMP2 score,\n",
    "    and repeat this process several times.\n",
    "\n",
    "    Parameters\n",
    "    ----------\n",
    "    data : list of numpy.ndarrays\n",
    "        The input data.\n",
    "    dim : int\n",
    "        Number of processes to score; equivalent to the dimension\n",
    "        after projecting the data with VAMP2.\n",
    "    lag : int\n",
    "        Lag time for the VAMP2 scoring.\n",
    "    number_of_splits : int, optional, default=10\n",
    "        How often do we repeat the splitting and score calculation.\n",
    "    validation_fraction : int, optional, default=0.5\n",
    "        Fraction of trajectories which should go into the validation\n",
    "        set during a split.\n",
    "    \"\"\"\n",
    "    # we temporarily suppress very short-lived progress bars\n",
    "    pyemma.util.config.show_progress_bars = False\n",
    "    nval = int(len(data) * validation_fraction)\n",
    "    scores = np.zeros(number_of_splits)\n",
    "    for n in range(number_of_splits):\n",
    "        ival = np.random.choice(len(data), size=nval, replace=False)\n",
    "        vamp = pyemma.coordinates.vamp(\n",
    "            [d for i, d in enumerate(data) if i not in ival], lag=lag, dim=dim\n",
    "        )\n",
    "        scores[n] = vamp.score([d for i, d in enumerate(data) if i in ival])\n",
    "    pyemma.util.config.show_progress_bars = True\n",
    "    return scores"
   ]
  },
  {
   "cell_type": "code",
   "execution_count": null,
   "id": "d6cc7250-b5b5-415b-b334-863b6021e6c5",
   "metadata": {
    "tags": []
   },
   "outputs": [],
   "source": [
    "%%time\n",
    "n_clustercenters = [5, 10, 30, \n",
    "                    50, \n",
    "    75,\n",
    "    100, \n",
    "                    200, 500\n",
    "]\n",
    "scores = np.zeros((len(n_clustercenters), 5))\n",
    "pyemma.util.config.show_progress_bars = True\n",
    "clusters = []\n",
    "for n, k in enumerate(n_clustercenters):\n",
    "    print(k)\n",
    "    for m in range(5):\n",
    "        _cl = pyemma.coordinates.cluster_kmeans(data, k=k, max_iter=50, stride=10)\n",
    "        _msm = pyemma.msm.estimate_markov_model(_cl.dtrajs, 1)\n",
    "        scores[n, m] = _msm.score_cv(\n",
    "            _cl.dtrajs, n=1, score_method=\"VAMP2\", score_k=min(10, k)\n",
    "        )\n",
    "    clusters.append(_cl)\n",
    "fig, ax = plt.subplots()\n",
    "lower, upper = pyemma.util.statistics.confidence_interval(scores.T.tolist(), conf=0.9)\n",
    "ax.fill_between(n_clustercenters, lower, upper, alpha=0.3)\n",
    "ax.plot(n_clustercenters, np.mean(scores, axis=1), \"-o\")\n",
    "ax.semilogx()\n",
    "ax.set_xlabel(\"number of cluster centers\")\n",
    "ax.set_ylabel(\"VAMP-2 score\")\n",
    "fig.tight_layout()"
   ]
  },
  {
   "cell_type": "code",
   "execution_count": null,
   "id": "ee8ca7e0-0fe1-4cdf-bb12-fa2f7a7b5ef1",
   "metadata": {},
   "outputs": [],
   "source": [
    "def get_cluster_plot(data, data_proj_concat, dmin, ax):\n",
    "    cluster = pyemma.coordinates.cluster_regspace(data, dmin=dmin)\n",
    "    dtrajs_concatenated = np.concatenate(cluster.dtrajs)\n",
    "    pyemma.plots.plot_density(*data_proj_concat.T, ax=ax, cbar=False, alpha=0.3)\n",
    "    ax.scatter(*cluster.clustercenters.T, s=5, c=\"C1\")\n",
    "    ax.set_xlabel(\"CV 0\")\n",
    "    ax.set_ylabel(\"CV 1\")\n",
    "    return ax, cluster"
   ]
  },
  {
   "cell_type": "code",
   "execution_count": null,
   "id": "101ea5e9-974e-437a-ad84-decdf1bfa338",
   "metadata": {
    "tags": []
   },
   "outputs": [],
   "source": [
    "def get_cluster_plot(data, data_proj_concat, k, ax):\n",
    "    cluster = pyemma.coordinates.cluster_kmeans(\n",
    "        data, k=k, max_iter=500, stride=1, fixed_seed=1\n",
    "    )\n",
    "    dtrajs_concatenated = np.concatenate(cluster.dtrajs)\n",
    "    #    pyemma.plots.plot_density(*data_proj_concat.T, ax=ax, cbar=False, alpha=0.3)\n",
    "    #    ax.scatter(*cluster.clustercenters.T, s=5, c=\"C1\")\n",
    "    #    ax.set_xlabel(\"CV 0\")\n",
    "    #    ax.set_ylabel(\"CV 1\")\n",
    "    return cluster  # , ax"
   ]
  },
  {
   "cell_type": "code",
   "execution_count": null,
   "id": "2c395419-633c-464c-bdf2-54f04a75ffb7",
   "metadata": {},
   "outputs": [],
   "source": [
    "k = 50\n",
    "fig, ax = plt.subplots(1, 1, figsize=(4, 4))\n",
    "cluster = get_cluster_plot(data, data_proj_concat, k, ax)\n",
    "fig.tight_layout()"
   ]
  },
  {
   "cell_type": "markdown",
   "id": "543961fc-9d85-4f21-86b8-2d6c0488e4b1",
   "metadata": {},
   "source": [
    "## MSM"
   ]
  },
  {
   "cell_type": "code",
   "execution_count": null,
   "id": "34cc0fd0-1d0a-4286-8c8b-57abafd6030a",
   "metadata": {},
   "outputs": [],
   "source": [
    "msm = pyemma.msm.bayesian_markov_model(\n",
    "    cluster.dtrajs,\n",
    "    lag=1,\n",
    "    dt_traj=\"0.01 ns\",\n",
    "    nsamples=500,\n",
    "    sparse=True,\n",
    "    reversible=False,\n",
    ")\n",
    "print(\"fraction of states used = {:.2f}\".format(msm.active_state_fraction))\n",
    "print(\"fraction of counts used = {:.2f}\".format(msm.active_count_fraction))"
   ]
  },
  {
   "cell_type": "code",
   "execution_count": null,
   "id": "869ca855-3287-46e7-a4b6-e9e4c952523e",
   "metadata": {},
   "outputs": [],
   "source": [
    "m1 = data_proj_concat[:, 0]\n",
    "m2 = data_proj_concat[:, 1]\n",
    "xmin = m1.min()\n",
    "xmax = m1.max()\n",
    "ymin = m2.min()\n",
    "ymax = m2.max()\n",
    "nbins = 55\n",
    "nbins = nbins * 1j\n",
    "X, Y = np.mgrid[xmin:xmax:nbins, ymin:ymax:nbins]\n",
    "positions = np.vstack([X.ravel(), Y.ravel()])\n",
    "values = np.vstack([m1, m2])\n",
    "kernel = stats.gaussian_kde(\n",
    "    data_proj_concat.T,\n",
    "    weights=np.concatenate(msm.trajectory_weights()),\n",
    "    bw_method=0.1,\n",
    ")\n",
    "Z = -np.log(np.reshape(kernel(positions), X.shape))\n",
    "Z -= Z.min()\n",
    "Z = Z.T\n",
    "Z[Z > 40] = np.nan"
   ]
  },
  {
   "cell_type": "code",
   "execution_count": null,
   "id": "4a767e28-97d1-4d0c-8d1d-1d64a8bc039b",
   "metadata": {
    "tags": []
   },
   "outputs": [],
   "source": [
    "fig, ax = plt.subplots(1, 1, figsize=(10, 7), sharex=True, sharey=True)\n",
    "n_colors = 50\n",
    "f_min = 0\n",
    "f_max = 40\n",
    "cmap = plt.cm.RdYlBu_r\n",
    "colors = cmap(np.linspace(0, 1, n_colors))  # yellow to blue\n",
    "norm = mpl.colors.Normalize(vmin=f_min, vmax=f_max)\n",
    "cbar_label = \"Free Energy (kT)\"\n",
    "ax.contourf(\n",
    "    Z,\n",
    "    cmap=plt.cm.RdYlBu_r,\n",
    "    extent=[xmin, xmax, ymin, ymax],\n",
    "    vmax=f_max,\n",
    "    vmin=f_min,\n",
    "    levels=n_colors,\n",
    ")\n",
    "cbar = colorbar(ax, cmap, norm, cbar_label, 20)\n",
    "fig.tight_layout()"
   ]
  },
  {
   "cell_type": "code",
   "execution_count": null,
   "id": "b73d4394-3ef2-435c-8b5e-c9c9edf4e35d",
   "metadata": {
    "collapsed": true,
    "jupyter": {
     "outputs_hidden": true
    },
    "tags": []
   },
   "outputs": [],
   "source": [
    "pyemma.plots.plot_markov_model(msm)"
   ]
  },
  {
   "cell_type": "code",
   "execution_count": null,
   "id": "e142dd40-28ef-448b-a504-6878dfc3199f",
   "metadata": {},
   "outputs": [],
   "source": [
    "sys.path.append(\"/home/sperez/Projects/InfleCS\")\n",
    "import free_energy_clustering as FEC"
   ]
  },
  {
   "cell_type": "code",
   "execution_count": null,
   "id": "e5aaee74-768e-41c1-99cf-3793c2222b22",
   "metadata": {},
   "outputs": [],
   "source": [
    "data_0 = data_proj_concat[:, 0:1]\n",
    "data_1 = data_proj_concat[:, 1:2]\n",
    "data = np.concatenate((data_0, data_1), axis=1)"
   ]
  },
  {
   "cell_type": "code",
   "execution_count": null,
   "id": "fc412828-48dc-49ae-8689-0471bc0cbb34",
   "metadata": {},
   "outputs": [],
   "source": [
    "fec = FEC.FreeEnergyClustering(\n",
    "    data,\n",
    "    min_n_components=1,\n",
    "    max_n_components=20,\n",
    "    temperature=1.0,\n",
    "    n_iterations=5,\n",
    "    n_grids=80,\n",
    "    n_splits=1,\n",
    "    stack_landscapes=False,\n",
    "    data_weights=np.concatenate(msm.trajectory_weights()),\n",
    ")"
   ]
  },
  {
   "cell_type": "code",
   "execution_count": null,
   "id": "6d90f6ca-9a35-4374-8c81-2488592b1fa4",
   "metadata": {
    "scrolled": true
   },
   "outputs": [],
   "source": [
    "coords, FE_landscape, FE_points = fec.landscape()"
   ]
  },
  {
   "cell_type": "code",
   "execution_count": null,
   "id": "276afb95-c9fd-4f48-bfbe-360dd98dc95d",
   "metadata": {},
   "outputs": [],
   "source": [
    "fec.visualize(\n",
    "    savefig=False,\n",
    "    show_data=False,\n",
    "    vmax=20,\n",
    "    n_contour_levels=50,\n",
    "    ylabel=\"IG (nm)\",\n",
    "    xlabel=\"SF (nm)\",\n",
    "    filename=\"free_energy_landscape\",\n",
    "    title=\"Free energy landscape\",\n",
    ")"
   ]
  },
  {
   "cell_type": "code",
   "execution_count": null,
   "id": "c3e7a9f0-3d54-4841-b04d-e1f057f9a204",
   "metadata": {},
   "outputs": [],
   "source": []
  }
 ],
 "metadata": {
  "kernelspec": {
   "display_name": "string_method",
   "language": "python",
   "name": "string_method"
  },
  "language_info": {
   "codemirror_mode": {
    "name": "ipython",
    "version": 3
   },
   "file_extension": ".py",
   "mimetype": "text/x-python",
   "name": "python",
   "nbconvert_exporter": "python",
   "pygments_lexer": "ipython3",
   "version": "3.8.5"
  },
  "widgets": {
   "application/vnd.jupyter.widget-state+json": {
    "state": {},
    "version_major": 2,
    "version_minor": 0
   }
  }
 },
 "nbformat": 4,
 "nbformat_minor": 5
}
