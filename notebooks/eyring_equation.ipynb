{
 "cells": [
  {
   "cell_type": "code",
   "execution_count": null,
   "id": "c82fc93a-d084-4bb0-8dd2-22207b31fcc6",
   "metadata": {},
   "outputs": [],
   "source": [
    "import numpy as np\n",
    "import matplotlib.pyplot as plt"
   ]
  },
  {
   "cell_type": "code",
   "execution_count": null,
   "id": "583ac05c-c291-48a3-adfa-bff4c57a6cc2",
   "metadata": {},
   "outputs": [],
   "source": [
    "def get_mean_time(dG_kT):\n",
    "    kappa = 1\n",
    "    NA = 6.6022E+23 # mol^-1\n",
    "    h = 6.625E-34 # J s\n",
    "    h_kT = h / 1000 * NA / 2.5 # kT *  s\n",
    "    rate = (kappa / h_kT) * np.exp(-dG_kT)\n",
    "    return 1 / rate"
   ]
  },
  {
   "cell_type": "code",
   "execution_count": null,
   "id": "d1ce0137-8140-43bf-95a0-87951c5a0a7f",
   "metadata": {},
   "outputs": [],
   "source": [
    "dG_kT = np.linspace(0,30,200)"
   ]
  },
  {
   "cell_type": "code",
   "execution_count": null,
   "id": "4d717694-726f-4517-9328-e5f86a583b0e",
   "metadata": {},
   "outputs": [],
   "source": [
    "fig, ax = plt.subplots(1,1)\n",
    "ax.plot(dG_kT, np.log10(get_mean_time(dG_kT)))\n",
    "ax.set_xlabel(r\"$\\Delta G$ barrier ($k_BT$)\")\n",
    "ax.set_ylabel(r\"log10(Mean time (s))\")"
   ]
  },
  {
   "cell_type": "code",
   "execution_count": null,
   "id": "ee64c11e-6c2e-4071-9ea9-5618ba0e1b15",
   "metadata": {},
   "outputs": [],
   "source": [
    "fig, ax = plt.subplots(1,1)\n",
    "ax.plot(dG_kT * 0.6, np.log10(get_mean_time(dG_kT)))\n",
    "ax.set_xlabel(r\"$\\Delta G$ barrier (kcal/mol)\")\n",
    "ax.set_ylabel(r\"log10(Mean time (s))\")"
   ]
  },
  {
   "cell_type": "code",
   "execution_count": null,
   "id": "ab7cfb8e-3f17-4265-97c3-9bf7b400765e",
   "metadata": {},
   "outputs": [],
   "source": [
    "dG_kT = 10\n",
    "print(f\"For a barrier of {dG_kT} kT, the timescale is {get_mean_time(dG_kT): .1e} s\")"
   ]
  },
  {
   "cell_type": "code",
   "execution_count": null,
   "id": "fe9b45b3-9353-4203-9a6a-8c0bf6dce91d",
   "metadata": {},
   "outputs": [],
   "source": [
    "dG_kT = 15\n",
    "print(f\"For a barrier of {dG_kT} kT, the timescale is {get_mean_time(dG_kT): .1e} s\")"
   ]
  },
  {
   "cell_type": "code",
   "execution_count": null,
   "id": "2d79d4b7-e47c-4901-8702-27877138cc47",
   "metadata": {},
   "outputs": [],
   "source": [
    "dG_kT = 25\n",
    "print(f\"For a barrier of {dG_kT} kT, the timescale is {get_mean_time(dG_kT): .1e} s\")"
   ]
  },
  {
   "cell_type": "code",
   "execution_count": null,
   "id": "214def32-255a-4ead-9385-9e01d98479aa",
   "metadata": {},
   "outputs": [],
   "source": [
    "dG_kT = 33\n",
    "print(f\"For a barrier of {dG_kT} kT, the timescale is {get_mean_time(dG_kT): .1e} s\")"
   ]
  },
  {
   "cell_type": "code",
   "execution_count": null,
   "id": "e755581c-1b66-40e9-ad1d-51d007ae37a8",
   "metadata": {},
   "outputs": [],
   "source": []
  },
  {
   "cell_type": "code",
   "execution_count": null,
   "id": "2c20edcf-302f-4be5-b71e-51f4b010626c",
   "metadata": {},
   "outputs": [],
   "source": []
  },
  {
   "cell_type": "code",
   "execution_count": null,
   "id": "738b0db0-667e-47bb-867e-e47d1412b3af",
   "metadata": {},
   "outputs": [],
   "source": []
  }
 ],
 "metadata": {
  "kernelspec": {
   "display_name": "string_sims",
   "language": "python",
   "name": "string_sims"
  },
  "language_info": {
   "codemirror_mode": {
    "name": "ipython",
    "version": 3
   },
   "file_extension": ".py",
   "mimetype": "text/x-python",
   "name": "python",
   "nbconvert_exporter": "python",
   "pygments_lexer": "ipython3",
   "version": "3.8.5"
  }
 },
 "nbformat": 4,
 "nbformat_minor": 5
}
