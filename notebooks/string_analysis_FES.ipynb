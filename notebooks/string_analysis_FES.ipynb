{
 "cells": [
  {
   "cell_type": "markdown",
   "id": "32867ee4-ea45-4aa9-b192-176b0801c41c",
   "metadata": {
    "tags": []
   },
   "source": [
    "# String Method Analysis Markov-State-Models\n",
    "## Imports"
   ]
  },
  {
   "cell_type": "code",
   "execution_count": null,
   "id": "75b1c221-b47d-4484-9125-6eac0a75a249",
   "metadata": {
    "tags": []
   },
   "outputs": [],
   "source": [
    "import os\n",
    "import pickle\n",
    "import sys\n",
    "import logging\n",
    "import numpy as np\n",
    "import matplotlib.pyplot as plt\n",
    "import glob\n",
    "\n",
    "\n",
    "logging.getLogger(\"stringmethod\").setLevel(logging.ERROR)\n",
    "sys.path.append(\"../string-method-gmxapi/\")\n",
    "import src.analysis as spc"
   ]
  },
  {
   "cell_type": "code",
   "execution_count": null,
   "id": "49a829a2-f0ff-42c3-a3be-ec5f9923d705",
   "metadata": {},
   "outputs": [],
   "source": [
    "%load_ext lab_black\n",
    "%load_ext autoreload\n",
    "%autoreload 2"
   ]
  },
  {
   "cell_type": "markdown",
   "id": "6d7af371-cecb-41f7-b46d-77e31ddb70cc",
   "metadata": {
    "tags": []
   },
   "source": [
    "## Load data"
   ]
  },
  {
   "cell_type": "markdown",
   "id": "0249545e-242c-4b87-b632-6268e4fe55aa",
   "metadata": {},
   "source": [
    "This notebook needs to run in the string simulation folder, this cell will get you there. You also set up a path for writing the figures."
   ]
  },
  {
   "cell_type": "code",
   "execution_count": null,
   "id": "ce510b6f-1e1c-416f-b30b-6bbda63671a9",
   "metadata": {},
   "outputs": [],
   "source": [
    "name_sim = \"C2I_lb_v1/\"\n",
    "path_raw = f\"/data/sperez/Projects/string_sims/data/raw/{name_sim}\"\n",
    "path_interim = f\"/data/sperez/Projects/string_sims/data/interim/{name_sim}\"\n",
    "path_processed = f\"/data/sperez/Projects/string_sims/data/processed/{name_sim}\"\n",
    "path_report = f\"/data/sperez/Projects/string_sims/reports/figures/{name_sim}\"\n",
    "os.chdir(path_raw)\n",
    "os.getcwd()"
   ]
  },
  {
   "cell_type": "code",
   "execution_count": null,
   "id": "61fb2261-372f-460c-a3db-c958e6114a61",
   "metadata": {},
   "outputs": [],
   "source": [
    "with open(\"cv.pkl\", \"rb\") as file:\n",
    "    cvs, ndx_groups = pickle.load(file)"
   ]
  },
  {
   "cell_type": "markdown",
   "id": "9fadba22-5407-4d9c-a90c-b3ed0888f37b",
   "metadata": {},
   "source": [
    "The `load_swarm_data` function will load the swarm data in the `cv_coordinates`. If you set `extract=True` it will read the data from the swarm files. If you have done this previously you can set `extract=False` so the function just reads `postprocessing/cv_coordinates.npy`. `first_iteration` can be used to exclude initial swarms as equilibration and `last_iteration` can be done to exclude some iterations for example if you want to estimate the FES convergence by comparing blocks of data."
   ]
  },
  {
   "cell_type": "code",
   "execution_count": null,
   "id": "73ddb40f-95ec-41d2-a7ec-5df6906f1e21",
   "metadata": {
    "tags": []
   },
   "outputs": [],
   "source": [
    "extract = True\n",
    "if extract:\n",
    "    cv_coordinates = spc.load_swarm_data(\n",
    "        extract=extract, first_iteration=100, last_iteration=None\n",
    "    )\n",
    "    np.save(f\"{path_interim}cv_coordinates.npy\", cv_coordinates)\n",
    "else:\n",
    "    cv_coordinates = np.load(f\"{path_interim}cv_coordinates.npy\")"
   ]
  },
  {
   "cell_type": "code",
   "execution_count": null,
   "id": "92260863-37d2-4333-8330-31993199d7fe",
   "metadata": {},
   "outputs": [],
   "source": [
    "files = spc.natural_sort(glob.glob(\"./strings/string[0-9]*txt\"))\n",
    "strings = np.array([np.loadtxt(file).T for file in files])"
   ]
  },
  {
   "cell_type": "markdown",
   "id": "314e8384-096e-4878-a796-c1cfb1ce7f3f",
   "metadata": {},
   "source": [
    "# MSM modelling of free energy surface"
   ]
  },
  {
   "cell_type": "markdown",
   "id": "afec4c2e-b848-407d-a946-79850a81368f",
   "metadata": {},
   "source": [
    "## Dimensionality reduction with TICA"
   ]
  },
  {
   "cell_type": "markdown",
   "id": "ba17c84c-4f42-4e4f-a944-4ad1b6226251",
   "metadata": {},
   "source": [
    "The following cell computes the tica projection of the string cvs and discards the tics that have the lowest kinetic variance. This reduces the cvs space to a lower dimensional space that is adapted to the kinetic variance. You can use the drop keyword to drop certain cvs that are not well converged in the string simulation or that change very little from the beggining to the end of the string. The best case scenario is that `drop=[]` just works."
   ]
  },
  {
   "cell_type": "code",
   "execution_count": null,
   "id": "04164fe3-93ab-4228-a4c4-467efe9ecbdf",
   "metadata": {},
   "outputs": [],
   "source": [
    "tica = spc.cvs_to_tica(cv_coordinates, drop=[20, 21, 22, 23, 32, 33, 34, 35])"
   ]
  },
  {
   "cell_type": "markdown",
   "id": "87e0b54f-a57e-4cf9-8f7d-15a9123e2984",
   "metadata": {
    "tags": []
   },
   "source": [
    "## Cluster"
   ]
  },
  {
   "cell_type": "markdown",
   "id": "0fde8c4f-47c5-4c5f-89d9-1ec645366c6b",
   "metadata": {},
   "source": [
    "The next cell plots the \"vamp score\" of using `n_clustercenters` to make an MSM. You should find that at some point the vamp score saturates. Choose the minimum number of clusters that gives you the saturated vamp score as the value of k for the next steps. This might take a little while."
   ]
  },
  {
   "cell_type": "code",
   "execution_count": null,
   "id": "d37e6526-2107-4133-83ae-47fe3c85c4d4",
   "metadata": {},
   "outputs": [],
   "source": [
    "n_clustercenters = [5, 10, 30, 50, 75, 100, 200, 500][::-1]\n",
    "fig, ax, vamp_scores = spc.get_vamp_vs_k(n_clustercenters, tica, n_jobs=4)  # 6 min\n",
    "np.save(f\"{path_interim}vamp_scores.npy\", vamp_scores)"
   ]
  },
  {
   "cell_type": "markdown",
   "id": "15eab2eb-06eb-4b71-a75f-7d0aa8221de6",
   "metadata": {},
   "source": [
    "If the calculation fails, there is something wrong with your MSM. Either you have too little transitions or there too many cvs in tica to have all the states well connected. Solutions:\n",
    "+ Reduce the maximum number of clusters (drop 200 and 500) of `n_clustercenters` and see if you get a saturated curve.\n",
    "+ Reduce the number of cvs that went into your TICA calculation.\n",
    "+ Do more iterations of the string method."
   ]
  },
  {
   "cell_type": "markdown",
   "id": "819a82df-a07a-4391-ba1e-a320c10b7a05",
   "metadata": {
    "tags": []
   },
   "source": [
    "## MSM Deeptime"
   ]
  },
  {
   "cell_type": "markdown",
   "id": "be88b3d8-10e5-4e85-ad92-0e107eb240c2",
   "metadata": {},
   "source": [
    "Choose the number of clusters, `k`, for the clustering from the previous calculation. Also change n_proc to however many processors you can use."
   ]
  },
  {
   "cell_type": "code",
   "execution_count": null,
   "id": "7701fadd-4a0e-49a9-a6e0-258010e1e54d",
   "metadata": {},
   "outputs": [],
   "source": [
    "k = 100\n",
    "clusters = spc.k_means_cluster(tica, k, stride=1, max_iter=500, n_jobs=4, seed=28101990)"
   ]
  },
  {
   "cell_type": "code",
   "execution_count": null,
   "id": "7d7fcd39-9913-4f1c-8740-2615f430bca6",
   "metadata": {
    "tags": []
   },
   "outputs": [],
   "source": [
    "%%time\n",
    "msm, weights = spc.get_msm(clusters, n_jobs=4)"
   ]
  },
  {
   "cell_type": "markdown",
   "id": "4e1cd948-f7a4-4f4e-a2ca-edde674518d0",
   "metadata": {},
   "source": [
    "# FES projection on IG vs SF"
   ]
  },
  {
   "cell_type": "markdown",
   "id": "3673fc24-a1dd-4577-9ed1-70d614e09bd7",
   "metadata": {
    "tags": []
   },
   "source": [
    "## CVs for projection"
   ]
  },
  {
   "cell_type": "markdown",
   "id": "ecc2733a-eb34-483c-874c-905e45d9b559",
   "metadata": {},
   "source": [
    "Make a `cv_proj` numpy array with shape (n_iteration * n_swarms_iterations, n_frames_per_iter, 2). n_frames_per_iter is usally 2 since you only record the value of the cvs at the begining and end of the swarm. The last dimesions are the cvs on which you would like to project your FES using the weights obtained from the msm. The FES is then the negative log of a *weighted* histogram of the projection cvs using the weights from the msm. The projection cvs can be anything that you can calculate for a structure, not necessarily the cvs of the string. In the example bellow it is the mean of two cvs."
   ]
  },
  {
   "cell_type": "code",
   "execution_count": null,
   "id": "14d189b7-5125-41fd-8d04-a12a11a5bfa7",
   "metadata": {},
   "outputs": [],
   "source": [
    "cv_proj = spc.cvs_to_SF_IG(cv_coordinates, [0, 1], [10, 11])\n",
    "np.save(f\"{path_interim}cv_proj.npy\", cv_proj)"
   ]
  },
  {
   "cell_type": "markdown",
   "id": "baa20877-6de5-4e29-8d35-66b257239baf",
   "metadata": {
    "tags": []
   },
   "source": [
    "## Project FES"
   ]
  },
  {
   "cell_type": "markdown",
   "id": "d4c16874-f139-43e0-a169-6028ea3ec2f1",
   "metadata": {},
   "source": [
    "Do the projection and take log. You have to choose a bandwidth for the [KDE](https://en.wikipedia.org/wiki/Kernel_density_estimation) of the histogram. It should be big enough to reduce noise but not so big to remove features. If you give `None`"
   ]
  },
  {
   "cell_type": "code",
   "execution_count": null,
   "id": "fc6cc621-7b9d-4c83-8f1b-7f0b2a8eea6b",
   "metadata": {},
   "outputs": [],
   "source": [
    "%%time\n",
    "bandwidth = 0.05\n",
    "p_of_cv, extent, _ = spc.get_kde(cv_proj, weights, bandwidth)\n",
    "F0 = -np.log(p_of_cv)\n",
    "F = F0 - F0.min()\n",
    "F[F > 40] = np.nan"
   ]
  },
  {
   "cell_type": "markdown",
   "id": "2ec818b9-9192-42f6-afd2-06cdcd14fe09",
   "metadata": {},
   "source": [
    "Do the projection and take log. You have to choose a bandwidth for the [KDE](https://en.wikipedia.org/wiki/Kernel_density_estimation) of the histogram. It should be big enough to reduce noise but not so big to remove features. If you give `None`"
   ]
  },
  {
   "cell_type": "code",
   "execution_count": null,
   "id": "0826f1ce-e5e4-4683-9575-2560378eabd1",
   "metadata": {},
   "outputs": [],
   "source": [
    "np.save(f\"{path_processed}FES_SF_IG.npy\", F)"
   ]
  },
  {
   "cell_type": "markdown",
   "id": "4feb586f-ebb8-4c91-be92-a09802b5e2bd",
   "metadata": {
    "tags": []
   },
   "source": [
    "## Plot FES"
   ]
  },
  {
   "cell_type": "code",
   "execution_count": null,
   "id": "bed42a66-3599-411b-af26-88990691e49a",
   "metadata": {},
   "outputs": [],
   "source": [
    "fig, ax = spc.plot_2D_heatmap(\n",
    "    F,\n",
    "    extent,\n",
    "    f_max=20,\n",
    "    f_min=0,\n",
    "    cbar_label=\"Free Energy (kT)\",\n",
    "    xlabel=\"SF (nm)\",\n",
    "    ylabel=\"IG (nm)\",\n",
    ")\n",
    "fig.tight_layout()\n",
    "fig.savefig(path_report + \"FES.png\")"
   ]
  },
  {
   "cell_type": "markdown",
   "id": "ac4af9d6-c73a-4b44-b786-a9ec31571f46",
   "metadata": {},
   "source": [
    "## Bootstrap to get error"
   ]
  },
  {
   "cell_type": "markdown",
   "id": "6eaeb808-1306-4705-9bec-e225d9ecf993",
   "metadata": {},
   "source": [
    "The problem with calculating errors in MD is that most statistical techniques for this rely on the data being uncorrelated. MD data is most of the time highly correlated due to the proximity in time and starting structure. Correlated data generates artificially low error estimates. \n",
    "\n",
    "For this reason we use blocking. In our case we will use blocking+bootstrapping. This is very well explained in this [very usefull video](https://www.youtube.com/watch?v=gHXXGYIgasE&t=1854s) by prof. Giovanni Bussi.\n",
    "\n",
    "The uncertainty is calculated as half of the interval containing 95% of the probability of the distribution of histograms generated in the bootstraps."
   ]
  },
  {
   "cell_type": "markdown",
   "id": "e62641e3-4288-47b8-95f3-04a15f1b1ecc",
   "metadata": {},
   "source": [
    "This part is probably going to be slow! Maybe it will go over night. It is actually doing len(blocks) * n_boot msms! The good things is that once you have figured out for your system (and similar systems) what is a reasonable number of blocks then you can just do `blocks=[my_reasonable_number_blocks]`."
   ]
  },
  {
   "cell_type": "code",
   "execution_count": null,
   "id": "23d36c9e-167b-403b-add3-8dffd1fc455d",
   "metadata": {
    "tags": []
   },
   "outputs": [],
   "source": [
    "%%time\n",
    "import src.analysis as spc\n",
    "\n",
    "blocks = [2, 4, 8, 16, 32]\n",
    "n_blocks = len(blocks)\n",
    "n_boot = 100\n",
    "calculate = True\n",
    "if calculate:\n",
    "    errors, his = spc.get_error(\n",
    "        cv_proj,\n",
    "        clusters,\n",
    "        extent,\n",
    "        n_boot=n_boot,\n",
    "        bandwidth=0.05,\n",
    "        nbin=55,\n",
    "        blocks=blocks,\n",
    "        seed=28101990,\n",
    "        n_jobs=4,\n",
    "    )\n",
    "    np.save(f\"{path_processed}errors_{n_boot}_{n_blocks}.npy\", errors)\n",
    "else:\n",
    "    errors = np.load(f\"{path_processed}errors_{n_boot}_{n_blocks}.npy\")"
   ]
  },
  {
   "cell_type": "markdown",
   "id": "6c85dd56-f5c9-4a95-93ad-d1fcd8e3d4d5",
   "metadata": {},
   "source": [
    "Choose the number of blocks that gives you a high error.\n",
    "\n",
    "Note,`e_min` and `e_max` are choosen to remove the extremely high or low values of error that are generated due to poor sampling or high free energy. These regions of the \"free error surface\" are not what we care about and thus we remove it from the statistic and the visualization."
   ]
  },
  {
   "cell_type": "code",
   "execution_count": null,
   "id": "dce89387-9b14-4e7d-bbf4-0c63f3f32abb",
   "metadata": {
    "tags": []
   },
   "outputs": [],
   "source": [
    "fig, ax = plt.subplots(1, 1)\n",
    "for error in glob.glob(path_processed + \"errors_*.npy\"):\n",
    "    errors = np.load(error)\n",
    "    e_max = 6\n",
    "    e_min = 1.0e-03\n",
    "    e = errors.copy()\n",
    "    e[e > e_max] = np.nan\n",
    "    e[e <= e_min] = np.nan\n",
    "    label = f\"n_boot={error.split('/')[-1].split('_')[1]}\"\n",
    "    mean = np.nanmean(e, axis=(1, 2))\n",
    "    std_err = np.nanstd(e, axis=(1, 2)) / np.sqrt(e.shape[0])\n",
    "    ax.plot(np.array(blocks), mean, marker=\"o\", label=label)\n",
    "    ax.fill_between(np.array(blocks), mean + std_err, mean - std_err, alpha=0.3)\n",
    "ax.legend()\n",
    "ax.set_xlabel(\"Number of blocks\", size=15)\n",
    "ax.set_ylabel(\"FES error (kT)\", size=15)"
   ]
  },
  {
   "cell_type": "markdown",
   "id": "0cdea64c-85e5-475a-869b-53ab8c087536",
   "metadata": {},
   "source": [
    "From the previous plot you can see which is the adequate number of blocks that low but still gives you the plateauing (or highest) error."
   ]
  },
  {
   "cell_type": "code",
   "execution_count": null,
   "id": "9718d087-a494-4ab4-8cd9-6b212685982b",
   "metadata": {
    "tags": []
   },
   "outputs": [],
   "source": [
    "number_blocks = 16\n",
    "n_boot = 100\n",
    "n_blocks = len(blocks)\n",
    "errors = np.load(f\"{path_processed}errors_{n_boot}_{n_blocks}.npy\")\n",
    "f_max = 20\n",
    "e_max = 6\n",
    "e_min = 1.0e-03\n",
    "\n",
    "e = errors[blocks.index(number_blocks)].copy()\n",
    "e[e > e_max] = np.nan\n",
    "e[e <= e_min] = np.nan\n",
    "\n",
    "fig, ax = plt.subplots(1, 2, figsize=(10 * 2, 7), sharex=True, sharey=True)\n",
    "_ = spc.plot_2D_heatmap(\n",
    "    F,\n",
    "    extent,\n",
    "    f_max=20,\n",
    "    f_min=0,\n",
    "    cbar_label=\"Free Energy (kT)\",\n",
    "    xlabel=\"SF (nm)\",\n",
    "    ylabel=\"IG (nm)\",\n",
    "    fig=fig,\n",
    "    ax=ax[0],\n",
    ")\n",
    "_ = spc.plot_2D_heatmap(\n",
    "    e,\n",
    "    extent,\n",
    "    f_max=e_max,\n",
    "    f_min=0,\n",
    "    cbar_label=\"FES Uncertainty (kT)\",\n",
    "    xlabel=\"SF (nm)\",\n",
    "    cmap=plt.cm.viridis_r,\n",
    "    fig=fig,\n",
    "    ax=ax[1],\n",
    ")\n",
    "ax[1].set_title(\"Bootstrap Error (95%)\")\n",
    "fig.tight_layout()\n",
    "fig.savefig(path_report + \"FES_error.png\")"
   ]
  },
  {
   "cell_type": "markdown",
   "id": "76920fc4-2f0a-4715-b002-1fce0a9ac28f",
   "metadata": {
    "tags": []
   },
   "source": [
    "# Path CVs"
   ]
  },
  {
   "cell_type": "markdown",
   "id": "dfe8b3aa-d5fd-4d8e-a5b9-a9968a96b88f",
   "metadata": {},
   "source": [
    "Define path as the average of the last av_last_n_it of the strings. Obtain a reasonable guess of lambda."
   ]
  },
  {
   "cell_type": "code",
   "execution_count": null,
   "id": "9dd80863-6871-472d-a54d-f78667094661",
   "metadata": {},
   "outputs": [],
   "source": [
    "n_strings = strings.shape[0]\n",
    "av_last_n_it = 25\n",
    "path = np.mean(strings[n_strings - av_last_n_it :, :, :], axis=0)\n",
    "lam = spc.get_path_lambda(path)\n",
    "print(f\"Lambda value for path {lam:.2f}\")"
   ]
  },
  {
   "cell_type": "markdown",
   "id": "ce39584f-af26-4076-bb62-77fe5e76963a",
   "metadata": {},
   "source": [
    "Let's see if the lambda gives a well behaved path cv. The progress variable (s) should be increasing in the path itself and the distance to path variable (z) be low and constant."
   ]
  },
  {
   "cell_type": "markdown",
   "id": "39ee9208-2669-4664-9e62-1f6c50684083",
   "metadata": {},
   "source": [
    "## Representation of Path CV"
   ]
  },
  {
   "cell_type": "markdown",
   "id": "2f6eb41e-8096-48ee-9338-29f07e301c89",
   "metadata": {},
   "source": [
    "### Load data and calculate path cvs"
   ]
  },
  {
   "cell_type": "code",
   "execution_count": null,
   "id": "8d58565b-2c26-4159-8015-0a6c0029ed28",
   "metadata": {},
   "outputs": [],
   "source": [
    "cv_of_path = []\n",
    "for p in path.T:\n",
    "    cv_of_path.append(spc.cvs_to_path(p, path=path, lam=lam))\n",
    "cv_of_path = np.array(cv_of_path)"
   ]
  },
  {
   "cell_type": "code",
   "execution_count": null,
   "id": "f547fff7-7642-460b-a5db-43e23f381dc7",
   "metadata": {},
   "outputs": [],
   "source": [
    "cvs_path = []\n",
    "for i in range(cv_coordinates.shape[0]):\n",
    "    cvs_path.append([])\n",
    "    for j in range(cv_coordinates.shape[1]):\n",
    "        cvs_path[i].append(spc.cvs_to_path(cv_coordinates[i, j, :], path=path, lam=lam))\n",
    "cvs_path = np.array(cvs_path)"
   ]
  },
  {
   "cell_type": "markdown",
   "id": "cf98c486-604c-4770-962b-18f7b20eca53",
   "metadata": {},
   "source": [
    "### Path CV on final string"
   ]
  },
  {
   "cell_type": "markdown",
   "id": "72fb600e-d7e1-4eea-8de9-0d7626a382f3",
   "metadata": {},
   "source": [
    "Check how the path cv is represented in the average final string"
   ]
  },
  {
   "cell_type": "code",
   "execution_count": null,
   "id": "25045bd4-b817-4ac4-80b8-9429b3ececf0",
   "metadata": {},
   "outputs": [],
   "source": [
    "fig, ax = plt.subplots(1, 2, figsize=(10 * 2, 7))\n",
    "ax[0].plot(cv_of_path[:, 0], marker=\"o\")\n",
    "ax[1].plot(cv_of_path[:, 1], marker=\"o\")\n",
    "ax[0].set_xlabel(\"bead number\")\n",
    "ax[0].set_ylabel(\"S\")\n",
    "ax[0].set_xlabel(\"bead number\")\n",
    "ax[0].set_ylabel(\"Z\")\n",
    "ax[0].set_title(f\"Path-variable {lam = :.2f}\")\n",
    "ax[1].set_title(f\"Path-variable {lam = :.2f}\")"
   ]
  },
  {
   "cell_type": "markdown",
   "id": "a7bc20b2-ce01-4cc4-8e2b-03d8ba2fa98d",
   "metadata": {},
   "source": [
    "### Path CV projected on IG vs SF"
   ]
  },
  {
   "cell_type": "markdown",
   "id": "2298b980-0a27-426a-a1a5-b0ac0ec4e720",
   "metadata": {},
   "source": [
    "Check how the path variables project onto the canonical inactivation 2CV FES"
   ]
  },
  {
   "cell_type": "code",
   "execution_count": null,
   "id": "2c87a7e8-7da7-4b9b-9b1a-3c7fac815f53",
   "metadata": {},
   "outputs": [],
   "source": [
    "bandwidth = None\n",
    "density_cut_off = 0.0000000001"
   ]
  },
  {
   "cell_type": "code",
   "execution_count": null,
   "id": "681e8900-abb7-4387-a630-c5526d249dc6",
   "metadata": {},
   "outputs": [],
   "source": [
    "s_of_cv, extent = spc.project_property_on_cv_kde(\n",
    "    cv_proj,\n",
    "    weights=weights,\n",
    "    proper=cvs_path[:, :, 0:1],\n",
    "    bandwidth=bandwidth,\n",
    "    density_cut_off=density_cut_off,\n",
    ")\n",
    "np.save(f\"{path_processed}s_path_of_SF_IG.npy\", s_of_cv)"
   ]
  },
  {
   "cell_type": "code",
   "execution_count": null,
   "id": "ac6c088f-e5a7-40c6-86c9-035f82b522eb",
   "metadata": {},
   "outputs": [],
   "source": [
    "z_of_cv, extent = spc.project_property_on_cv_kde(\n",
    "    cv_proj,\n",
    "    weights=weights,\n",
    "    proper=cvs_path[:, :, 1:2],\n",
    "    bandwidth=bandwidth,\n",
    "    density_cut_off=density_cut_off,\n",
    ")\n",
    "np.save(f\"{path_processed}z_path_of_SF_IG.npy\", z_of_cv)"
   ]
  },
  {
   "cell_type": "code",
   "execution_count": null,
   "id": "1088e25a-3cb9-429f-8da8-053faa178d86",
   "metadata": {
    "tags": []
   },
   "outputs": [],
   "source": [
    "fig, ax = plt.subplots(1, 2, figsize=(10 * 2, 7), sharex=True, sharey=True)\n",
    "_ = spc.plot_2D_heatmap(\n",
    "    s_of_cv,\n",
    "    extent,\n",
    "    cbar_label=\"s[path]\",\n",
    "    xlabel=\"SF (nm)\",\n",
    "    ylabel=\"IG (nm)\",\n",
    "    f_min=0,\n",
    "    f_max=1,\n",
    "    fig=fig,\n",
    "    cmap=plt.cm.plasma,\n",
    "    ax=ax[0],\n",
    ")\n",
    "_ = spc.plot_2D_heatmap(\n",
    "    z_of_cv,\n",
    "    extent,\n",
    "    cbar_label=\"z[path]\",\n",
    "    xlabel=\"SF (nm)\",\n",
    "    cmap=plt.cm.magma,\n",
    "    f_min=0,\n",
    "    f_max=0.2,\n",
    "    fig=fig,\n",
    "    ax=ax[1],\n",
    ")\n",
    "fig.tight_layout()\n",
    "fig.savefig(path_report + \"projection_path_cv.png\")"
   ]
  },
  {
   "cell_type": "code",
   "execution_count": null,
   "id": "7bc0b332-56d9-4d00-82a6-5e5c38a6c382",
   "metadata": {},
   "outputs": [],
   "source": []
  }
 ],
 "metadata": {
  "kernelspec": {
   "display_name": "string_method",
   "language": "python",
   "name": "string_method"
  },
  "language_info": {
   "codemirror_mode": {
    "name": "ipython",
    "version": 3
   },
   "file_extension": ".py",
   "mimetype": "text/x-python",
   "name": "python",
   "nbconvert_exporter": "python",
   "pygments_lexer": "ipython3",
   "version": "3.8.12"
  },
  "widgets": {
   "application/vnd.jupyter.widget-state+json": {
    "state": {
     "06ed790cd597495ea4e6074610719dff": {
      "model_module": "@jupyter-widgets/base",
      "model_module_version": "1.2.0",
      "model_name": "LayoutModel",
      "state": {}
     },
     "0709880a8545428294e4e7f1df2994cc": {
      "model_module": "@jupyter-widgets/controls",
      "model_module_version": "1.5.0",
      "model_name": "FloatProgressModel",
      "state": {
       "layout": "IPY_MODEL_462180f8e5e34ff9830e76a5808c2122",
       "max": 5,
       "style": "IPY_MODEL_719b32d2ffc94b14b6972a596b0f0a7a",
       "value": 5
      }
     },
     "0bb21e3f7a5042088b7df1d194876d7c": {
      "model_module": "@jupyter-widgets/controls",
      "model_module_version": "1.5.0",
      "model_name": "DescriptionStyleModel",
      "state": {
       "description_width": ""
      }
     },
     "0bc934c8fed944f989aa0dd79a40387e": {
      "model_module": "@jupyter-widgets/base",
      "model_module_version": "1.2.0",
      "model_name": "LayoutModel",
      "state": {}
     },
     "0f9fb1b75a90478986978d4caa8fbb62": {
      "model_module": "@jupyter-widgets/base",
      "model_module_version": "1.2.0",
      "model_name": "LayoutModel",
      "state": {}
     },
     "14671534a3664839a0fc88c0dceb46ba": {
      "model_module": "@jupyter-widgets/base",
      "model_module_version": "1.2.0",
      "model_name": "LayoutModel",
      "state": {}
     },
     "15982baf7cc843239d360d49e4ae8a3b": {
      "model_module": "@jupyter-widgets/base",
      "model_module_version": "1.2.0",
      "model_name": "LayoutModel",
      "state": {}
     },
     "159c88e50a9f44cb8705f0264c05527b": {
      "model_module": "@jupyter-widgets/controls",
      "model_module_version": "1.5.0",
      "model_name": "HTMLModel",
      "state": {
       "layout": "IPY_MODEL_d0218cb760a54a3a84511af9b38f41bd",
       "style": "IPY_MODEL_baaf65af99344b04b4e91f3ed124dbaa",
       "value": " 8/8 [05:10&lt;00:00, 30.92s/it]"
      }
     },
     "15e3d1966e11406abc7d97a2dfa68b06": {
      "model_module": "@jupyter-widgets/controls",
      "model_module_version": "1.5.0",
      "model_name": "HTMLModel",
      "state": {
       "layout": "IPY_MODEL_c05bbc51f7594a5981bef7e624deab5e",
       "style": "IPY_MODEL_2984ce3f2ab4412882ac4780806385fa",
       "value": " 5/5 [00:36&lt;00:00,  7.15s/it]"
      }
     },
     "179f071ee352420ead862e7307a431de": {
      "model_module": "@jupyter-widgets/base",
      "model_module_version": "1.2.0",
      "model_name": "LayoutModel",
      "state": {}
     },
     "192c53bbf0c5472ea5c707d0f2a07c46": {
      "model_module": "@jupyter-widgets/base",
      "model_module_version": "1.2.0",
      "model_name": "LayoutModel",
      "state": {}
     },
     "1b264cd679c44760b28845c9bd241abe": {
      "model_module": "@jupyter-widgets/controls",
      "model_module_version": "1.5.0",
      "model_name": "HTMLModel",
      "state": {
       "layout": "IPY_MODEL_15982baf7cc843239d360d49e4ae8a3b",
       "style": "IPY_MODEL_0bb21e3f7a5042088b7df1d194876d7c",
       "value": " 5/5 [00:50&lt;00:00, 10.03s/it]"
      }
     },
     "1d2ea795ca9a44698688ee7a28db1425": {
      "model_module": "@jupyter-widgets/base",
      "model_module_version": "1.2.0",
      "model_name": "LayoutModel",
      "state": {}
     },
     "21d2dff454984ab1a6f0706b9e94e639": {
      "model_module": "@jupyter-widgets/base",
      "model_module_version": "1.2.0",
      "model_name": "LayoutModel",
      "state": {}
     },
     "22964acdc57048f7a8ec208273e79760": {
      "model_module": "@jupyter-widgets/controls",
      "model_module_version": "1.5.0",
      "model_name": "DescriptionStyleModel",
      "state": {
       "description_width": ""
      }
     },
     "27571c881f0e46fbb2ace85f5fdb3bdd": {
      "model_module": "@jupyter-widgets/base",
      "model_module_version": "1.2.0",
      "model_name": "LayoutModel",
      "state": {}
     },
     "2984ce3f2ab4412882ac4780806385fa": {
      "model_module": "@jupyter-widgets/controls",
      "model_module_version": "1.5.0",
      "model_name": "DescriptionStyleModel",
      "state": {
       "description_width": ""
      }
     },
     "2b3a86e0e6724a818af109e62f13263a": {
      "model_module": "@jupyter-widgets/base",
      "model_module_version": "1.2.0",
      "model_name": "LayoutModel",
      "state": {}
     },
     "3476817f3deb47e3b71e2ab07eba7d3c": {
      "model_module": "@jupyter-widgets/controls",
      "model_module_version": "1.5.0",
      "model_name": "HTMLModel",
      "state": {
       "layout": "IPY_MODEL_4c2af4d4492047ebacb514c6f269d410",
       "style": "IPY_MODEL_dcf16d68693945cd8902a6ecce958921",
       "value": " 5/5 [01:15&lt;00:00, 14.69s/it]"
      }
     },
     "381dff168dc34720847e60216c30a8c3": {
      "model_module": "@jupyter-widgets/controls",
      "model_module_version": "1.5.0",
      "model_name": "HTMLModel",
      "state": {
       "layout": "IPY_MODEL_21d2dff454984ab1a6f0706b9e94e639",
       "style": "IPY_MODEL_aa88ac689617466c9c94cc4b3fda4b1c",
       "value": "Loop over iterations:: 100%"
      }
     },
     "3c3ced63657349bdb0ed076e6fd952b3": {
      "model_module": "@jupyter-widgets/controls",
      "model_module_version": "1.5.0",
      "model_name": "FloatProgressModel",
      "state": {
       "layout": "IPY_MODEL_cd142b7413774b07b767ef94e2164fdc",
       "max": 5,
       "style": "IPY_MODEL_93189f301da64b08951b48d65e4de244",
       "value": 5
      }
     },
     "3c797cad66db4210ac15496cc4fa31a4": {
      "model_module": "@jupyter-widgets/controls",
      "model_module_version": "1.5.0",
      "model_name": "DescriptionStyleModel",
      "state": {
       "description_width": ""
      }
     },
     "42b73f7120774dc3b058dfafa9543293": {
      "model_module": "@jupyter-widgets/controls",
      "model_module_version": "1.5.0",
      "model_name": "DescriptionStyleModel",
      "state": {
       "description_width": ""
      }
     },
     "434d86a3dd784eaea7db44df64fa1799": {
      "model_module": "@jupyter-widgets/controls",
      "model_module_version": "1.5.0",
      "model_name": "DescriptionStyleModel",
      "state": {
       "description_width": ""
      }
     },
     "462180f8e5e34ff9830e76a5808c2122": {
      "model_module": "@jupyter-widgets/base",
      "model_module_version": "1.2.0",
      "model_name": "LayoutModel",
      "state": {}
     },
     "4a867fb7072c4eb3b8ee49d9a5071010": {
      "model_module": "@jupyter-widgets/base",
      "model_module_version": "1.2.0",
      "model_name": "LayoutModel",
      "state": {}
     },
     "4c2af4d4492047ebacb514c6f269d410": {
      "model_module": "@jupyter-widgets/base",
      "model_module_version": "1.2.0",
      "model_name": "LayoutModel",
      "state": {}
     },
     "4fe8b82728734a16aac80f8c9c50cd7c": {
      "model_module": "@jupyter-widgets/base",
      "model_module_version": "1.2.0",
      "model_name": "LayoutModel",
      "state": {}
     },
     "5205577336244ce7862a1bc177482bcf": {
      "model_module": "@jupyter-widgets/controls",
      "model_module_version": "1.5.0",
      "model_name": "DescriptionStyleModel",
      "state": {
       "description_width": ""
      }
     },
     "52525bda78854258b1a734fd8242d5ef": {
      "model_module": "@jupyter-widgets/controls",
      "model_module_version": "1.5.0",
      "model_name": "FloatProgressModel",
      "state": {
       "layout": "IPY_MODEL_06ed790cd597495ea4e6074610719dff",
       "max": 5,
       "style": "IPY_MODEL_a10ce0a238a04a7abb0bef76e7555052",
       "value": 5
      }
     },
     "5b193ad9f8ce446a9a8cf7e89bc0fb71": {
      "model_module": "@jupyter-widgets/base",
      "model_module_version": "1.2.0",
      "model_name": "LayoutModel",
      "state": {}
     },
     "5d1a4a3fdd124abab339b74b251ff254": {
      "model_module": "@jupyter-widgets/controls",
      "model_module_version": "1.5.0",
      "model_name": "HTMLModel",
      "state": {
       "layout": "IPY_MODEL_14671534a3664839a0fc88c0dceb46ba",
       "style": "IPY_MODEL_6f4e4647e09344a8be6e8140fe6c3339",
       "value": "Loop over iterations:: 100%"
      }
     },
     "68304d024694479f927c360a45dc9600": {
      "model_module": "@jupyter-widgets/base",
      "model_module_version": "1.2.0",
      "model_name": "LayoutModel",
      "state": {}
     },
     "6f4e4647e09344a8be6e8140fe6c3339": {
      "model_module": "@jupyter-widgets/controls",
      "model_module_version": "1.5.0",
      "model_name": "DescriptionStyleModel",
      "state": {
       "description_width": ""
      }
     },
     "719b32d2ffc94b14b6972a596b0f0a7a": {
      "model_module": "@jupyter-widgets/controls",
      "model_module_version": "1.5.0",
      "model_name": "ProgressStyleModel",
      "state": {
       "description_width": ""
      }
     },
     "7a6eed835f8e4188b8b7d9bfb26940fd": {
      "model_module": "@jupyter-widgets/base",
      "model_module_version": "1.2.0",
      "model_name": "LayoutModel",
      "state": {}
     },
     "7ab15757d13743dab33aa8fe09c3637e": {
      "model_module": "@jupyter-widgets/base",
      "model_module_version": "1.2.0",
      "model_name": "LayoutModel",
      "state": {}
     },
     "7dbf2f5397f94054a52038039de6f2d3": {
      "model_module": "@jupyter-widgets/controls",
      "model_module_version": "1.5.0",
      "model_name": "HTMLModel",
      "state": {
       "layout": "IPY_MODEL_7a6eed835f8e4188b8b7d9bfb26940fd",
       "style": "IPY_MODEL_434d86a3dd784eaea7db44df64fa1799",
       "value": "Loop over iterations:: 100%"
      }
     },
     "83684cd136f84e83a568261a48acd1f1": {
      "model_module": "@jupyter-widgets/controls",
      "model_module_version": "1.5.0",
      "model_name": "ProgressStyleModel",
      "state": {
       "description_width": ""
      }
     },
     "861eeece33074fcbb9ea0315fd857f32": {
      "model_module": "@jupyter-widgets/controls",
      "model_module_version": "1.5.0",
      "model_name": "HTMLModel",
      "state": {
       "layout": "IPY_MODEL_1d2ea795ca9a44698688ee7a28db1425",
       "style": "IPY_MODEL_93546e71c70049f1ac44e7eda5343ab9",
       "value": " 5/5 [00:33&lt;00:00,  6.77s/it]"
      }
     },
     "8b44393e4ab0438f8ab9517f25fe9713": {
      "model_module": "@jupyter-widgets/controls",
      "model_module_version": "1.5.0",
      "model_name": "HTMLModel",
      "state": {
       "layout": "IPY_MODEL_bd4a68f2a93b4ac296854d01475e1d81",
       "style": "IPY_MODEL_e091a4a0973d46c1be6226de0fa06098",
       "value": " 5/5 [00:30&lt;00:00,  6.08s/it]"
      }
     },
     "90d3de246a93489ca6ef19588715572d": {
      "model_module": "@jupyter-widgets/controls",
      "model_module_version": "1.5.0",
      "model_name": "FloatProgressModel",
      "state": {
       "layout": "IPY_MODEL_9234bbdca1cd4d7d9c59e8a05fa29356",
       "max": 5,
       "style": "IPY_MODEL_e8662d0427f14b809c206c932d1733cc",
       "value": 5
      }
     },
     "9234bbdca1cd4d7d9c59e8a05fa29356": {
      "model_module": "@jupyter-widgets/base",
      "model_module_version": "1.2.0",
      "model_name": "LayoutModel",
      "state": {}
     },
     "93189f301da64b08951b48d65e4de244": {
      "model_module": "@jupyter-widgets/controls",
      "model_module_version": "1.5.0",
      "model_name": "ProgressStyleModel",
      "state": {
       "description_width": ""
      }
     },
     "93546e71c70049f1ac44e7eda5343ab9": {
      "model_module": "@jupyter-widgets/controls",
      "model_module_version": "1.5.0",
      "model_name": "DescriptionStyleModel",
      "state": {
       "description_width": ""
      }
     },
     "93f78a950b334d29a38fe5b20b0b720f": {
      "model_module": "@jupyter-widgets/controls",
      "model_module_version": "1.5.0",
      "model_name": "FloatProgressModel",
      "state": {
       "layout": "IPY_MODEL_d0caba7e6bd34a24a35711d74bd187b2",
       "max": 5,
       "style": "IPY_MODEL_e18fc8d6e5404b78915ed6bb5fadf2d1",
       "value": 5
      }
     },
     "9591c3e3939b4f7aad4483186252cd63": {
      "model_module": "@jupyter-widgets/base",
      "model_module_version": "1.2.0",
      "model_name": "LayoutModel",
      "state": {}
     },
     "9d07e4c183274595b5c4d61a22267978": {
      "model_module": "@jupyter-widgets/base",
      "model_module_version": "1.2.0",
      "model_name": "LayoutModel",
      "state": {}
     },
     "9ec07370fb13423ea5b6c0fc2900641f": {
      "model_module": "@jupyter-widgets/controls",
      "model_module_version": "1.5.0",
      "model_name": "ProgressStyleModel",
      "state": {
       "description_width": ""
      }
     },
     "a10ce0a238a04a7abb0bef76e7555052": {
      "model_module": "@jupyter-widgets/controls",
      "model_module_version": "1.5.0",
      "model_name": "ProgressStyleModel",
      "state": {
       "description_width": ""
      }
     },
     "a6498f2815954703952ea4804db890a3": {
      "model_module": "@jupyter-widgets/controls",
      "model_module_version": "1.5.0",
      "model_name": "DescriptionStyleModel",
      "state": {
       "description_width": ""
      }
     },
     "aa88ac689617466c9c94cc4b3fda4b1c": {
      "model_module": "@jupyter-widgets/controls",
      "model_module_version": "1.5.0",
      "model_name": "DescriptionStyleModel",
      "state": {
       "description_width": ""
      }
     },
     "ab2bcc2982ab42f5a697e89eaa3cdf30": {
      "model_module": "@jupyter-widgets/controls",
      "model_module_version": "1.5.0",
      "model_name": "HTMLModel",
      "state": {
       "layout": "IPY_MODEL_d72a298e3c07431dba90dd31c4d33892",
       "style": "IPY_MODEL_22964acdc57048f7a8ec208273e79760",
       "value": " 5/5 [00:26&lt;00:00,  5.42s/it]"
      }
     },
     "b4e163c4f45d45a992da39c944c40c36": {
      "model_module": "@jupyter-widgets/controls",
      "model_module_version": "1.5.0",
      "model_name": "DescriptionStyleModel",
      "state": {
       "description_width": ""
      }
     },
     "b79be65f30394e0997ca472115d985e0": {
      "model_module": "@jupyter-widgets/controls",
      "model_module_version": "1.5.0",
      "model_name": "FloatProgressModel",
      "state": {
       "layout": "IPY_MODEL_d03b0a5caa084687b07b9461ef9e1d35",
       "max": 5,
       "style": "IPY_MODEL_9ec07370fb13423ea5b6c0fc2900641f",
       "value": 5
      }
     },
     "b9857e0d838640ccb03d21ea9d2f1bc6": {
      "model_module": "@jupyter-widgets/controls",
      "model_module_version": "1.5.0",
      "model_name": "HTMLModel",
      "state": {
       "layout": "IPY_MODEL_7ab15757d13743dab33aa8fe09c3637e",
       "style": "IPY_MODEL_b4e163c4f45d45a992da39c944c40c36",
       "value": "Loop over iterations:: 100%"
      }
     },
     "ba4524463a6642eeb254100fce0370ed": {
      "model_module": "@jupyter-widgets/base",
      "model_module_version": "1.2.0",
      "model_name": "LayoutModel",
      "state": {}
     },
     "baaf65af99344b04b4e91f3ed124dbaa": {
      "model_module": "@jupyter-widgets/controls",
      "model_module_version": "1.5.0",
      "model_name": "DescriptionStyleModel",
      "state": {
       "description_width": ""
      }
     },
     "bad94ddc4b6a4fe3984fdce9b35742ca": {
      "model_module": "@jupyter-widgets/controls",
      "model_module_version": "1.5.0",
      "model_name": "HTMLModel",
      "state": {
       "layout": "IPY_MODEL_0f9fb1b75a90478986978d4caa8fbb62",
       "style": "IPY_MODEL_3c797cad66db4210ac15496cc4fa31a4",
       "value": "Loop over iterations:: 100%"
      }
     },
     "bd4a68f2a93b4ac296854d01475e1d81": {
      "model_module": "@jupyter-widgets/base",
      "model_module_version": "1.2.0",
      "model_name": "LayoutModel",
      "state": {}
     },
     "c05bbc51f7594a5981bef7e624deab5e": {
      "model_module": "@jupyter-widgets/base",
      "model_module_version": "1.2.0",
      "model_name": "LayoutModel",
      "state": {}
     },
     "c735fa75fb2c45f19acef6bbc622ebab": {
      "model_module": "@jupyter-widgets/controls",
      "model_module_version": "1.5.0",
      "model_name": "HTMLModel",
      "state": {
       "layout": "IPY_MODEL_0bc934c8fed944f989aa0dd79a40387e",
       "style": "IPY_MODEL_e9cf3aef6a664813b9f57d103eab311d",
       "value": "Loop over iterations:: 100%"
      }
     },
     "c895b2ff0f554ad29e380c06a93565db": {
      "model_module": "@jupyter-widgets/base",
      "model_module_version": "1.2.0",
      "model_name": "LayoutModel",
      "state": {}
     },
     "cca21c6bd8f745af88170ae507198ee9": {
      "model_module": "@jupyter-widgets/controls",
      "model_module_version": "1.5.0",
      "model_name": "ProgressStyleModel",
      "state": {
       "description_width": ""
      }
     },
     "cd142b7413774b07b767ef94e2164fdc": {
      "model_module": "@jupyter-widgets/base",
      "model_module_version": "1.2.0",
      "model_name": "LayoutModel",
      "state": {}
     },
     "cfadec2272d4498b8e6c500c7180d9fe": {
      "model_module": "@jupyter-widgets/base",
      "model_module_version": "1.2.0",
      "model_name": "LayoutModel",
      "state": {}
     },
     "d0112606cd664252ba13e41346685616": {
      "model_module": "@jupyter-widgets/base",
      "model_module_version": "1.2.0",
      "model_name": "LayoutModel",
      "state": {}
     },
     "d0218cb760a54a3a84511af9b38f41bd": {
      "model_module": "@jupyter-widgets/base",
      "model_module_version": "1.2.0",
      "model_name": "LayoutModel",
      "state": {}
     },
     "d03b0a5caa084687b07b9461ef9e1d35": {
      "model_module": "@jupyter-widgets/base",
      "model_module_version": "1.2.0",
      "model_name": "LayoutModel",
      "state": {}
     },
     "d0caba7e6bd34a24a35711d74bd187b2": {
      "model_module": "@jupyter-widgets/base",
      "model_module_version": "1.2.0",
      "model_name": "LayoutModel",
      "state": {}
     },
     "d15354edc9e54b18b8f0f98fd6e1a58e": {
      "model_module": "@jupyter-widgets/controls",
      "model_module_version": "1.5.0",
      "model_name": "HTMLModel",
      "state": {
       "layout": "IPY_MODEL_d6f4c5eaaf8f4eac9204d0c832b84f40",
       "style": "IPY_MODEL_a6498f2815954703952ea4804db890a3",
       "value": "Loop over iterations:: 100%"
      }
     },
     "d2545e9f13954c23accbaf45d556501b": {
      "model_module": "@jupyter-widgets/base",
      "model_module_version": "1.2.0",
      "model_name": "LayoutModel",
      "state": {}
     },
     "d6ae0c7fc66c410e895edd4718244c90": {
      "model_module": "@jupyter-widgets/controls",
      "model_module_version": "1.5.0",
      "model_name": "HBoxModel",
      "state": {
       "children": [
        "IPY_MODEL_eff9b84244e24752996fd6eafaefda52",
        "IPY_MODEL_ff5e1318bb664247a183fec435215d76",
        "IPY_MODEL_159c88e50a9f44cb8705f0264c05527b"
       ],
       "layout": "IPY_MODEL_4fe8b82728734a16aac80f8c9c50cd7c"
      }
     },
     "d6f4c5eaaf8f4eac9204d0c832b84f40": {
      "model_module": "@jupyter-widgets/base",
      "model_module_version": "1.2.0",
      "model_name": "LayoutModel",
      "state": {}
     },
     "d72a298e3c07431dba90dd31c4d33892": {
      "model_module": "@jupyter-widgets/base",
      "model_module_version": "1.2.0",
      "model_name": "LayoutModel",
      "state": {}
     },
     "d7efa98f5586482d8d26223504067c5f": {
      "model_module": "@jupyter-widgets/controls",
      "model_module_version": "1.5.0",
      "model_name": "HTMLModel",
      "state": {
       "layout": "IPY_MODEL_27571c881f0e46fbb2ace85f5fdb3bdd",
       "style": "IPY_MODEL_e36875cfe1c64b3e818977291acadf9d",
       "value": " 5/5 [00:26&lt;00:00,  5.38s/it]"
      }
     },
     "dcf16d68693945cd8902a6ecce958921": {
      "model_module": "@jupyter-widgets/controls",
      "model_module_version": "1.5.0",
      "model_name": "DescriptionStyleModel",
      "state": {
       "description_width": ""
      }
     },
     "e091a4a0973d46c1be6226de0fa06098": {
      "model_module": "@jupyter-widgets/controls",
      "model_module_version": "1.5.0",
      "model_name": "DescriptionStyleModel",
      "state": {
       "description_width": ""
      }
     },
     "e18fc8d6e5404b78915ed6bb5fadf2d1": {
      "model_module": "@jupyter-widgets/controls",
      "model_module_version": "1.5.0",
      "model_name": "ProgressStyleModel",
      "state": {
       "description_width": ""
      }
     },
     "e2795690e22f4d83ac0482fc29179485": {
      "model_module": "@jupyter-widgets/controls",
      "model_module_version": "1.5.0",
      "model_name": "ProgressStyleModel",
      "state": {
       "description_width": ""
      }
     },
     "e36875cfe1c64b3e818977291acadf9d": {
      "model_module": "@jupyter-widgets/controls",
      "model_module_version": "1.5.0",
      "model_name": "DescriptionStyleModel",
      "state": {
       "description_width": ""
      }
     },
     "e4d16fd0423d46bf925cc9fd38786012": {
      "model_module": "@jupyter-widgets/base",
      "model_module_version": "1.2.0",
      "model_name": "LayoutModel",
      "state": {}
     },
     "e8662d0427f14b809c206c932d1733cc": {
      "model_module": "@jupyter-widgets/controls",
      "model_module_version": "1.5.0",
      "model_name": "ProgressStyleModel",
      "state": {
       "description_width": ""
      }
     },
     "e9cf3aef6a664813b9f57d103eab311d": {
      "model_module": "@jupyter-widgets/controls",
      "model_module_version": "1.5.0",
      "model_name": "DescriptionStyleModel",
      "state": {
       "description_width": ""
      }
     },
     "eb87458e3bb04a71a016c21819212e0f": {
      "model_module": "@jupyter-widgets/controls",
      "model_module_version": "1.5.0",
      "model_name": "FloatProgressModel",
      "state": {
       "layout": "IPY_MODEL_ba4524463a6642eeb254100fce0370ed",
       "max": 5,
       "style": "IPY_MODEL_cca21c6bd8f745af88170ae507198ee9",
       "value": 5
      }
     },
     "eff9b84244e24752996fd6eafaefda52": {
      "model_module": "@jupyter-widgets/controls",
      "model_module_version": "1.5.0",
      "model_name": "HTMLModel",
      "state": {
       "layout": "IPY_MODEL_cfadec2272d4498b8e6c500c7180d9fe",
       "style": "IPY_MODEL_fde3fbb1a7654c5e9c46dd6ca2211f92",
       "value": "Loop over k:: 100%"
      }
     },
     "fa96401e598a463c90107f5b7ce109be": {
      "model_module": "@jupyter-widgets/controls",
      "model_module_version": "1.5.0",
      "model_name": "FloatProgressModel",
      "state": {
       "layout": "IPY_MODEL_4a867fb7072c4eb3b8ee49d9a5071010",
       "max": 5,
       "style": "IPY_MODEL_e2795690e22f4d83ac0482fc29179485",
       "value": 5
      }
     },
     "fadfc82e019b4ec5b50c812213165692": {
      "model_module": "@jupyter-widgets/controls",
      "model_module_version": "1.5.0",
      "model_name": "HTMLModel",
      "state": {
       "layout": "IPY_MODEL_192c53bbf0c5472ea5c707d0f2a07c46",
       "style": "IPY_MODEL_42b73f7120774dc3b058dfafa9543293",
       "value": "Loop over iterations:: 100%"
      }
     },
     "faed6665ad324d7481ed23df6557fca5": {
      "model_module": "@jupyter-widgets/controls",
      "model_module_version": "1.5.0",
      "model_name": "HTMLModel",
      "state": {
       "layout": "IPY_MODEL_5b193ad9f8ce446a9a8cf7e89bc0fb71",
       "style": "IPY_MODEL_5205577336244ce7862a1bc177482bcf",
       "value": " 5/5 [00:29&lt;00:00,  5.96s/it]"
      }
     },
     "fde3fbb1a7654c5e9c46dd6ca2211f92": {
      "model_module": "@jupyter-widgets/controls",
      "model_module_version": "1.5.0",
      "model_name": "DescriptionStyleModel",
      "state": {
       "description_width": ""
      }
     },
     "ff5e1318bb664247a183fec435215d76": {
      "model_module": "@jupyter-widgets/controls",
      "model_module_version": "1.5.0",
      "model_name": "FloatProgressModel",
      "state": {
       "bar_style": "success",
       "layout": "IPY_MODEL_e4d16fd0423d46bf925cc9fd38786012",
       "max": 8,
       "style": "IPY_MODEL_83684cd136f84e83a568261a48acd1f1",
       "value": 8
      }
     }
    },
    "version_major": 2,
    "version_minor": 0
   }
  }
 },
 "nbformat": 4,
 "nbformat_minor": 5
}
