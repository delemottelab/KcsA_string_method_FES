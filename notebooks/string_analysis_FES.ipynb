{
 "cells": [
  {
   "cell_type": "markdown",
   "id": "32867ee4-ea45-4aa9-b192-176b0801c41c",
   "metadata": {
    "tags": []
   },
   "source": [
    "# String Method Analysis Markov-State-Models\n",
    "## Imports"
   ]
  },
  {
   "cell_type": "code",
   "execution_count": null,
   "id": "75b1c221-b47d-4484-9125-6eac0a75a249",
   "metadata": {
    "tags": []
   },
   "outputs": [],
   "source": [
    "import os\n",
    "import pickle\n",
    "import sys\n",
    "import logging\n",
    "import numpy as np\n",
    "import matplotlib.pyplot as plt\n",
    "import glob\n",
    "import MDAnalysis as mda\n",
    "from math import ceil\n",
    "from tqdm import tqdm\n",
    "\n",
    "\n",
    "logging.getLogger(\"stringmethod\").setLevel(logging.ERROR)\n",
    "sys.path.append(\"../string-method-gmxapi/\")\n",
    "import src.analysis as spc"
   ]
  },
  {
   "cell_type": "code",
   "execution_count": null,
   "id": "a7734996-3561-4e0e-9c8b-911d8a9fe875",
   "metadata": {},
   "outputs": [],
   "source": [
    "spc.jupyter_lab_notification()"
   ]
  },
  {
   "cell_type": "code",
   "execution_count": null,
   "id": "feb8bf01-bc45-44bc-9bba-4e3b4e0774de",
   "metadata": {},
   "outputs": [],
   "source": [
    "spc.jupyter_lab_error()"
   ]
  },
  {
   "cell_type": "code",
   "execution_count": null,
   "id": "49a829a2-f0ff-42c3-a3be-ec5f9923d705",
   "metadata": {},
   "outputs": [],
   "source": [
    "%load_ext lab_black\n",
    "%load_ext autoreload\n",
    "%autoreload 2"
   ]
  },
  {
   "cell_type": "markdown",
   "id": "bbe5ac57-8831-47ec-93e0-a26f4fc12469",
   "metadata": {},
   "source": [
    "## Control Variables"
   ]
  },
  {
   "cell_type": "code",
   "execution_count": null,
   "id": "d9bb6243-332b-4786-8e5e-7f6b90e5c5a2",
   "metadata": {},
   "outputs": [],
   "source": [
    "extract_data = True\n",
    "if os.getenv(\"CALC_FES\") == \"True\":\n",
    "    calculate_vamp_scores = True\n",
    "    calculate_FES_errors = True\n",
    "    calculate_H2O_behind_SF = True\n",
    "else:\n",
    "    calculate_vamp_scores = False\n",
    "    calculate_FES_errors = True\n",
    "    calculate_H2O_behind_SF = True\n",
    "    calculate_SF_occupation = True"
   ]
  },
  {
   "cell_type": "markdown",
   "id": "6d7af371-cecb-41f7-b46d-77e31ddb70cc",
   "metadata": {
    "tags": []
   },
   "source": [
    "## Load data"
   ]
  },
  {
   "cell_type": "markdown",
   "id": "0249545e-242c-4b87-b632-6268e4fe55aa",
   "metadata": {},
   "source": [
    "This notebook needs to run in the string simulation folder, this cell will get you there. You also set up a path for writing the figures."
   ]
  },
  {
   "cell_type": "code",
   "execution_count": null,
   "id": "053397cf-d49a-47b8-bcfb-5589a14750e3",
   "metadata": {},
   "outputs": [],
   "source": [
    "beads_per_iter = 18 - 2\n",
    "swarms_per_bead = 32\n",
    "steps_per_swarm = 2"
   ]
  },
  {
   "cell_type": "code",
   "execution_count": null,
   "id": "ce510b6f-1e1c-416f-b30b-6bbda63671a9",
   "metadata": {},
   "outputs": [],
   "source": [
    "if os.getenv(\"NAME_SIM\") == None:\n",
    "    name_sim = \"C2I_v1_amber/\"\n",
    "    name_sim = \"C2I_lb_v1_amber/\"\n",
    "    name_sim = \"C2I_lb_v1/\"\n",
    "    name_sim = \"C2I_v1/\"\n",
    "else:\n",
    "    name_sim = os.getenv(\"NAME_SIM\")\n",
    "path_raw = os.path.expanduser(f\"~/Projects/string_sims/data/raw/{name_sim}\")\n",
    "path_interim = os.path.expanduser(f\"~/Projects/string_sims/data/interim/{name_sim}\")\n",
    "path_processed = os.path.expanduser(f\"~/Projects/string_sims/data/processed/{name_sim}\")\n",
    "path_XRD = os.path.expanduser(f\"~/Projects/string_sims/models/raw_pdb/\")\n",
    "path_report = os.path.expanduser(f\"~/Projects/string_sims/reports/figures/{name_sim}\")\n",
    "os.chdir(path_raw)\n",
    "os.getcwd()"
   ]
  },
  {
   "cell_type": "code",
   "execution_count": null,
   "id": "61fb2261-372f-460c-a3db-c958e6114a61",
   "metadata": {},
   "outputs": [],
   "source": [
    "with open(\"cv.pkl\", \"rb\") as file:\n",
    "    cvs, ndx_groups = pickle.load(file)"
   ]
  },
  {
   "cell_type": "markdown",
   "id": "9fadba22-5407-4d9c-a90c-b3ed0888f37b",
   "metadata": {},
   "source": [
    "The `load_swarm_data` function will load the swarm data in the `cv_coordinates`. If you set `extract=True` it will read the data from the swarm files. If you have done this previously you can set `extract=False` so the function just reads `postprocessing/cv_coordinates.npy`. `first_iteration` can be used to exclude initial swarms as equilibration and `last_iteration` can be done to exclude some iterations for example if you want to estimate the FES convergence by comparing blocks of data."
   ]
  },
  {
   "cell_type": "code",
   "execution_count": null,
   "id": "100bdf05-af6b-40a0-baaf-825839ed87ba",
   "metadata": {},
   "outputs": [],
   "source": [
    "first_iteration = {\n",
    "    \"C2I_lb_v1/\": 100,\n",
    "    \"C2I_v1/\": 400,\n",
    "    \"C2I_v1_amber/\": 100,\n",
    "    \"C2I_lb_v1_amber/\": 100,\n",
    "}\n",
    "first_iteration = first_iteration[name_sim]"
   ]
  },
  {
   "cell_type": "code",
   "execution_count": null,
   "id": "73ddb40f-95ec-41d2-a7ec-5df6906f1e21",
   "metadata": {
    "tags": []
   },
   "outputs": [],
   "source": [
    "if extract_data:\n",
    "    cv_coordinates = spc.load_swarm_data(\n",
    "        extract=True, first_iteration=first_iteration, last_iteration=None\n",
    "    )\n",
    "    np.save(f\"{path_interim}cv_coordinates.npy\", cv_coordinates)\n",
    "else:\n",
    "    cv_coordinates = np.load(f\"{path_interim}cv_coordinates.npy\")"
   ]
  },
  {
   "cell_type": "code",
   "execution_count": null,
   "id": "92260863-37d2-4333-8330-31993199d7fe",
   "metadata": {},
   "outputs": [],
   "source": [
    "files = spc.natural_sort(glob.glob(\"./strings/string[0-9]*txt\"))\n",
    "strings = np.array([np.loadtxt(file).T for file in files])"
   ]
  },
  {
   "cell_type": "markdown",
   "id": "2e592613-66f5-42bc-a14a-507b28a389fb",
   "metadata": {},
   "source": [
    "Load pickle with data from XRD"
   ]
  },
  {
   "cell_type": "code",
   "execution_count": null,
   "id": "47e960c8-b86c-41b7-b147-2eac111e86c9",
   "metadata": {},
   "outputs": [],
   "source": [
    "os.chdir(path_XRD)\n",
    "with open(\n",
    "    os.path.expanduser(\"~/Projects/string_sims/data/processed/XRD/XRD.pickle\"), \"rb\"\n",
    ") as handle:\n",
    "    XRD_dictionary = pickle.load(handle)\n",
    "os.chdir(path_raw)"
   ]
  },
  {
   "cell_type": "markdown",
   "id": "314e8384-096e-4878-a796-c1cfb1ce7f3f",
   "metadata": {
    "tags": []
   },
   "source": [
    "# MSM modelling of free energy surface"
   ]
  },
  {
   "cell_type": "markdown",
   "id": "afec4c2e-b848-407d-a946-79850a81368f",
   "metadata": {},
   "source": [
    "## Dimensionality reduction with TICA"
   ]
  },
  {
   "cell_type": "markdown",
   "id": "ba17c84c-4f42-4e4f-a944-4ad1b6226251",
   "metadata": {},
   "source": [
    "The following cell computes the tica projection of the string cvs and discards the tics that have the lowest kinetic variance. This reduces the cvs space to a lower dimensional space that is adapted to the kinetic variance. You can use the drop keyword to drop certain cvs that are not well converged in the string simulation or that change very little from the beggining to the end of the string. The best case scenario is that `drop=[]` just works."
   ]
  },
  {
   "cell_type": "code",
   "execution_count": null,
   "id": "04164fe3-93ab-4228-a4c4-467efe9ecbdf",
   "metadata": {},
   "outputs": [],
   "source": [
    "tica = spc.cvs_to_tica(cv_coordinates, drop=[], reversible=True)"
   ]
  },
  {
   "cell_type": "markdown",
   "id": "87e0b54f-a57e-4cf9-8f7d-15a9123e2984",
   "metadata": {
    "tags": []
   },
   "source": [
    "## Cluster"
   ]
  },
  {
   "cell_type": "markdown",
   "id": "0fde8c4f-47c5-4c5f-89d9-1ec645366c6b",
   "metadata": {},
   "source": [
    "The next cell plots the \"vamp score\" of using `n_clustercenters` to make an MSM. You should find that at some point the vamp score saturates. Choose the minimum number of clusters that gives you the saturated vamp score as the value of k for the next steps. This might take a little while."
   ]
  },
  {
   "cell_type": "code",
   "execution_count": null,
   "id": "d37e6526-2107-4133-83ae-47fe3c85c4d4",
   "metadata": {
    "tags": []
   },
   "outputs": [],
   "source": [
    "if calculate_vamp_scores:\n",
    "    n_clustercenters = [5, 10, 30, 50, 75, 100, 200][::-1]\n",
    "    fig, ax, vamp_scores = spc.get_vamp_vs_k(\n",
    "        n_clustercenters, tica, n_jobs=4, allow_failed_msms=True, reversible=True\n",
    "    )  # 6 min\n",
    "    np.save(f\"{path_interim}vamp_scores.npy\", vamp_scores)\n",
    "else:\n",
    "    n_clustercenters = [5, 10, 30, 50, 75, 100, 200][::-1]\n",
    "    scores = np.load(f\"{path_interim}vamp_scores.npy\")\n",
    "    fig, ax, vamp_scores = spc.get_vamp_vs_k(\n",
    "        n_clustercenters,\n",
    "        tica,\n",
    "        n_jobs=4,\n",
    "        allow_failed_msms=True,\n",
    "        reversible=True,\n",
    "        scores=scores,\n",
    "    )"
   ]
  },
  {
   "cell_type": "markdown",
   "id": "15eab2eb-06eb-4b71-a75f-7d0aa8221de6",
   "metadata": {},
   "source": [
    "# If the calculation fails, there is something wrong with your MSM. Either you have too little transitions or there too many cvs in tica to have all the states well connected. Solutions:\n",
    "+ Reduce the maximum number of clusters (drop 200 and 500) of `n_clustercenters` and see if you get a saturated curve.\n",
    "+ Reduce the number of cvs that went into your TICA calculation.\n",
    "+ Do more iterations of the string method."
   ]
  },
  {
   "cell_type": "markdown",
   "id": "819a82df-a07a-4391-ba1e-a320c10b7a05",
   "metadata": {
    "tags": []
   },
   "source": [
    "## MSM Deeptime"
   ]
  },
  {
   "cell_type": "markdown",
   "id": "be88b3d8-10e5-4e85-ad92-0e107eb240c2",
   "metadata": {},
   "source": [
    "Choose the number of clusters, `k`, for the clustering from the previous calculation. Also change n_proc to however many processors you can use."
   ]
  },
  {
   "cell_type": "code",
   "execution_count": null,
   "id": "106f3b7c-b8bb-47b1-b023-04c409d2126d",
   "metadata": {},
   "outputs": [],
   "source": [
    "k = {\n",
    "    \"C2I_lb_v1_amber/\": 75,\n",
    "    \"C2I_lb_v1/\": 30,\n",
    "    \"C2I_v1/\": 50,\n",
    "    \"C2I_v1_amber/\": 75,\n",
    "}\n",
    "k = k[name_sim]"
   ]
  },
  {
   "cell_type": "code",
   "execution_count": null,
   "id": "7701fadd-4a0e-49a9-a6e0-258010e1e54d",
   "metadata": {},
   "outputs": [],
   "source": [
    "clusters = spc.k_means_cluster(tica, k, stride=1, max_iter=500, n_jobs=4, seed=28101990)\n",
    "np.save(f\"{path_processed}clusters.npy\", clusters)"
   ]
  },
  {
   "cell_type": "code",
   "execution_count": null,
   "id": "f5c4e552-6c09-4a2a-a1c2-a22459e6947c",
   "metadata": {
    "tags": []
   },
   "outputs": [],
   "source": [
    "%%time\n",
    "msm, weights = spc.get_msm(clusters, n_jobs=4, reversible=True)\n",
    "np.save(f\"{path_processed}weights.npy\", weights)"
   ]
  },
  {
   "cell_type": "markdown",
   "id": "4e1cd948-f7a4-4f4e-a2ca-edde674518d0",
   "metadata": {
    "tags": []
   },
   "source": [
    "# FES projection on IG vs SF"
   ]
  },
  {
   "cell_type": "markdown",
   "id": "3673fc24-a1dd-4577-9ed1-70d614e09bd7",
   "metadata": {
    "tags": []
   },
   "source": [
    "## CVs for projection"
   ]
  },
  {
   "cell_type": "markdown",
   "id": "ecc2733a-eb34-483c-874c-905e45d9b559",
   "metadata": {},
   "source": [
    "Make a `cv_proj` numpy array with shape (n_iteration * n_swarms_iterations, n_frames_per_iter, 2). n_frames_per_iter is usally 2 since you only record the value of the cvs at the begining and end of the swarm. The last dimesions are the cvs on which you would like to project your FES using the weights obtained from the msm. The FES is then the negative log of a *weighted* histogram of the projection cvs using the weights from the msm. The projection cvs can be anything that you can calculate for a structure, not necessarily the cvs of the string. In the example bellow it is the mean of two cvs."
   ]
  },
  {
   "cell_type": "code",
   "execution_count": null,
   "id": "14d189b7-5125-41fd-8d04-a12a11a5bfa7",
   "metadata": {},
   "outputs": [],
   "source": [
    "cv_proj = spc.cvs_to_SF_IG(cv_coordinates, [0, 1], [10, 11])\n",
    "np.save(f\"{path_interim}cv_proj.npy\", cv_proj)"
   ]
  },
  {
   "cell_type": "markdown",
   "id": "baa20877-6de5-4e29-8d35-66b257239baf",
   "metadata": {
    "tags": []
   },
   "source": [
    "## Project FES"
   ]
  },
  {
   "cell_type": "markdown",
   "id": "d4c16874-f139-43e0-a169-6028ea3ec2f1",
   "metadata": {},
   "source": [
    "Do the projection and take log. You have to choose a bandwidth for the [KDE](https://en.wikipedia.org/wiki/Kernel_density_estimation) of the histogram. It should be big enough to reduce noise but not so big to remove features. If you give `None`"
   ]
  },
  {
   "cell_type": "code",
   "execution_count": null,
   "id": "49833273-39b5-4b67-9b21-2c701c4936c0",
   "metadata": {},
   "outputs": [],
   "source": [
    "bandwidth = {\n",
    "    \"C2I_lb_v1/\": 0.05,\n",
    "    \"C2I_v1/\": 0.05,\n",
    "    \"C2I_v1_amber/\": 0.05,\n",
    "    \"C2I_lb_v1_amber/\": 0.05,\n",
    "}\n",
    "bandwidth = bandwidth[name_sim]"
   ]
  },
  {
   "cell_type": "code",
   "execution_count": null,
   "id": "fc6cc621-7b9d-4c83-8f1b-7f0b2a8eea6b",
   "metadata": {},
   "outputs": [],
   "source": [
    "%%time\n",
    "f_max = 25\n",
    "p_of_cv, extent = spc.get_kde(cv_proj, weights, bandwidth)\n",
    "F0 = -np.log(p_of_cv)\n",
    "F = F0 - F0.min()\n",
    "F[F > f_max] = np.nan"
   ]
  },
  {
   "cell_type": "markdown",
   "id": "2ec818b9-9192-42f6-afd2-06cdcd14fe09",
   "metadata": {},
   "source": [
    "Do the projection and take log. You have to choose a bandwidth for the [KDE](https://en.wikipedia.org/wiki/Kernel_density_estimation) of the histogram. It should be big enough to reduce noise but not so big to remove features. If you give `None`"
   ]
  },
  {
   "cell_type": "code",
   "execution_count": null,
   "id": "0826f1ce-e5e4-4683-9575-2560378eabd1",
   "metadata": {},
   "outputs": [],
   "source": [
    "np.save(f\"{path_processed}FES_SF_IG.npy\", F)\n",
    "np.save(f\"{path_processed}extent.npy\", np.array(extent))"
   ]
  },
  {
   "cell_type": "markdown",
   "id": "4feb586f-ebb8-4c91-be92-a09802b5e2bd",
   "metadata": {
    "tags": []
   },
   "source": [
    "## Plot FES"
   ]
  },
  {
   "cell_type": "code",
   "execution_count": null,
   "id": "c8630320-affd-4779-982f-5d3ed0e21ff3",
   "metadata": {
    "tags": []
   },
   "outputs": [],
   "source": [
    "fig, ax = spc.plot_2D_heatmap(\n",
    "    F,\n",
    "    extent,\n",
    "    f_max=f_max,\n",
    "    f_min=0,\n",
    "    cbar_label=\"Free Energy (kT)\",\n",
    "    xlabel=\"SF (nm)\",\n",
    "    ylabel=\"IG (nm)\",\n",
    ")\n",
    "# ax.set_xlim([0.48, 1.0])\n",
    "# ax.set_ylim([1.1, 2.45])\n",
    "spc.add_XRD_values(XRD_dictionary, \"SF\", \"IG\", size=15, ax=ax)\n",
    "fig.tight_layout()\n",
    "fig.savefig(path_report + \"FES.png\")"
   ]
  },
  {
   "cell_type": "markdown",
   "id": "ac4af9d6-c73a-4b44-b786-a9ec31571f46",
   "metadata": {
    "tags": []
   },
   "source": [
    "## Bootstrap to get error"
   ]
  },
  {
   "cell_type": "markdown",
   "id": "6eaeb808-1306-4705-9bec-e225d9ecf993",
   "metadata": {},
   "source": [
    "The problem with calculating errors in MD is that most statistical techniques for this rely on the data being uncorrelated. MD data is most of the time highly correlated due to the proximity in time and starting structure. Correlated data generates artificially low error estimates. \n",
    "\n",
    "For this reason we use blocking. In our case we will use blocking+bootstrapping. This is very well explained in this [very usefull video](https://www.youtube.com/watch?v=gHXXGYIgasE&t=1854s) by prof. Giovanni Bussi.\n",
    "\n",
    "The uncertainty is calculated as half of the interval containing 95% of the probability of the distribution of histograms generated in the bootstraps."
   ]
  },
  {
   "cell_type": "markdown",
   "id": "e62641e3-4288-47b8-95f3-04a15f1b1ecc",
   "metadata": {},
   "source": [
    "This part is probably going to be slow! Maybe it will go over night. It is actually doing len(blocks) * n_boot msms! The good things is that once you have figured out for your system (and similar systems) what is a reasonable number of blocks then you can just do `blocks=[my_reasonable_number_blocks]`."
   ]
  },
  {
   "cell_type": "code",
   "execution_count": null,
   "id": "7ca077e7-f5be-4acc-bfed-2b3a071c7e8a",
   "metadata": {},
   "outputs": [],
   "source": [
    "%%time\n",
    "import src.analysis as spc\n",
    "\n",
    "blocks = [2, 4, 8, 16, 32]\n",
    "n_blocks = len(blocks)\n",
    "n_boot = 100\n",
    "if calculate_FES_errors:\n",
    "    errors = spc.get_error(\n",
    "        cv_proj,\n",
    "        clusters,\n",
    "        extent,\n",
    "        n_boot=n_boot,\n",
    "        bandwidth=bandwidth,\n",
    "        nbin=55,\n",
    "        blocks=blocks,\n",
    "        seed=28101990,\n",
    "        n_jobs=4,\n",
    "    )\n",
    "    np.save(f\"{path_processed}errors_{n_boot}_{n_blocks}.npy\", errors)\n",
    "else:\n",
    "    errors = np.load(f\"{path_processed}errors_{n_boot}_{n_blocks}.npy\")"
   ]
  },
  {
   "cell_type": "markdown",
   "id": "6c85dd56-f5c9-4a95-93ad-d1fcd8e3d4d5",
   "metadata": {},
   "source": [
    "Choose the number of blocks that gives you a high error.\n",
    "\n",
    "Note,`e_min` and `e_max` are choosen to remove the extremely high or low values of error that are generated due to poor sampling or high free energy. These regions of the \"free error surface\" are not what we care about and thus we remove it from the statistic and the visualization."
   ]
  },
  {
   "cell_type": "code",
   "execution_count": null,
   "id": "c1d851cb-24dd-46d4-b957-a4bd4c697c47",
   "metadata": {},
   "outputs": [],
   "source": [
    "fig, ax = plt.subplots(1, 1)\n",
    "for error in glob.glob(path_processed + \"errors_*.npy\"):\n",
    "    errors = np.load(error)\n",
    "    errors[:, ~np.isfinite(F)] = np.nan\n",
    "    label = f\"n_boot={error.split('/')[-1].split('_')[1]}\"\n",
    "    mean = np.nanmean(errors, axis=(1, 2))\n",
    "    std_err = np.nanstd(errors, axis=(1, 2)) / np.sqrt(errors.shape[0])\n",
    "    ax.plot(np.array(blocks), mean, marker=\"o\", label=label)\n",
    "    ax.fill_between(np.array(blocks), mean + std_err, mean - std_err, alpha=0.3)\n",
    "ax.legend()\n",
    "ax.set_xlabel(\"Number of blocks\", size=15)\n",
    "ax.set_ylabel(\"FES error (kT)\", size=15)"
   ]
  },
  {
   "cell_type": "markdown",
   "id": "0cdea64c-85e5-475a-869b-53ab8c087536",
   "metadata": {},
   "source": [
    "From the previous plot you can see which is the adequate number of blocks that low but still gives you the plateauing (or highest) error."
   ]
  },
  {
   "cell_type": "code",
   "execution_count": null,
   "id": "9718d087-a494-4ab4-8cd9-6b212685982b",
   "metadata": {},
   "outputs": [],
   "source": [
    "number_blocks = 16\n",
    "n_boot = 150\n",
    "n_blocks = len(blocks)\n",
    "errors = np.load(f\"{path_processed}errors_{n_boot}_{n_blocks}.npy\")\n",
    "f_max = 25\n",
    "\n",
    "e = errors[blocks.index(number_blocks)].copy()\n",
    "e[~np.isfinite(F)] = np.nan\n",
    "\n",
    "fig, ax = plt.subplots(1, 2, figsize=(10 * 2, 7), sharex=True, sharey=True)\n",
    "_ = spc.plot_2D_heatmap(\n",
    "    F,\n",
    "    extent,\n",
    "    f_max=f_max,\n",
    "    f_min=0,\n",
    "    cbar_label=\"Free Energy (kT)\",\n",
    "    xlabel=\"SF (nm)\",\n",
    "    ylabel=\"IG (nm)\",\n",
    "    fig=fig,\n",
    "    ax=ax[0],\n",
    ")\n",
    "_ = spc.plot_2D_heatmap(\n",
    "    e,\n",
    "    extent,\n",
    "    f_max=4,\n",
    "    f_min=0,\n",
    "    cbar_label=\"FES Uncertainty (kT)\",\n",
    "    xlabel=\"SF (nm)\",\n",
    "    cmap=plt.cm.viridis_r,\n",
    "    fig=fig,\n",
    "    ax=ax[1],\n",
    ")\n",
    "spc.add_XRD_values(XRD_dictionary, \"SF\", \"IG\", size=15, ax=ax[1], color=\"r\")\n",
    "spc.add_XRD_values(XRD_dictionary, \"SF\", \"IG\", size=15, ax=ax[0])\n",
    "ax[1].set_title(\"Bootstrap Error (95%)\")\n",
    "fig.tight_layout()\n",
    "fig.savefig(path_report + \"FES_error.png\")"
   ]
  },
  {
   "cell_type": "markdown",
   "id": "f44ed45c-2052-4205-8c2e-82eb9a631df4",
   "metadata": {
    "tags": []
   },
   "source": [
    "# Project H2O behind SF on FES"
   ]
  },
  {
   "cell_type": "markdown",
   "id": "14994fa0-b557-4170-a02b-13c3d2f17d38",
   "metadata": {},
   "source": [
    "## Sum of all the H2O"
   ]
  },
  {
   "cell_type": "code",
   "execution_count": null,
   "id": "9d161ced-167a-4b77-bf1c-e1daeabada49",
   "metadata": {
    "tags": []
   },
   "outputs": [],
   "source": [
    "H2O_behind_SF = np.load(f\"{path_interim}H2O_behind_SF.npy\")"
   ]
  },
  {
   "cell_type": "code",
   "execution_count": null,
   "id": "a285305b-6618-424a-979d-cf624b6e586f",
   "metadata": {},
   "outputs": [],
   "source": [
    "H2O_behind_SF = np.sum(H2O_behind_SF, axis=1, keepdims=True)"
   ]
  },
  {
   "cell_type": "code",
   "execution_count": null,
   "id": "c149d38b-ce0c-41c9-ba38-1fd434ae5cf9",
   "metadata": {
    "tags": []
   },
   "outputs": [],
   "source": [
    "if calculate_H2O_behind_SF:\n",
    "    if name_sim == \"C2I_v1/\":\n",
    "        start = 300 * beads_per_iter * swarms_per_bead * steps_per_swarm\n",
    "    else:\n",
    "        start = 0\n",
    "    H2O_behind_SF_proj, extent = spc.project_property_on_cv_kde(\n",
    "        cv_proj, weights=weights, proper=H2O_behind_SF[start:, 0], bandwidth=bandwidth\n",
    "    )\n",
    "    np.save(f\"{path_processed}H2O_behind_SF_proj.npy\", H2O_behind_SF_proj)\n",
    "else:\n",
    "    H2O_behind_SF_proj = np.load(f\"{path_processed}H2O_behind_SF_proj.npy\")"
   ]
  },
  {
   "cell_type": "code",
   "execution_count": null,
   "id": "28af1367-e63f-4f47-85ad-84da81fc4371",
   "metadata": {
    "tags": []
   },
   "outputs": [],
   "source": [
    "fig, ax = plt.subplots(1, 1, figsize=(10, 7), sharex=True, sharey=True)\n",
    "_ = spc.plot_2D_heatmap(\n",
    "    H2O_behind_SF_proj,\n",
    "    extent,\n",
    "    cbar_label=\"Number of H2O behind SF\",\n",
    "    xlabel=\"SF (nm)\",\n",
    "    ylabel=\"IG (nm)\",\n",
    "    f_min=0,\n",
    "    # f_max=1,\n",
    "    fig=fig,\n",
    "    cmap=plt.cm.Spectral,\n",
    "    ax=ax,\n",
    "    n_colors=200,\n",
    "    c_density=F,\n",
    "    c_min=0,\n",
    "    c_max=20,\n",
    "    c_color=\"k\",\n",
    ")\n",
    "ax.grid(None)\n",
    "spc.add_XRD_values(XRD_dictionary, \"SF\", \"IG\", size=15, ax=ax, color=\"g\")\n",
    "fig.tight_layout()\n",
    "fig.savefig(path_report + \"projection_H2O_behind_SF.png\")"
   ]
  },
  {
   "cell_type": "markdown",
   "id": "5e479552-a325-4065-9d03-dfb987a9a752",
   "metadata": {
    "tags": []
   },
   "source": [
    "## Lower H2O "
   ]
  },
  {
   "cell_type": "code",
   "execution_count": null,
   "id": "66dc3156-53da-42ed-8b10-0b903c37ab56",
   "metadata": {
    "tags": []
   },
   "outputs": [],
   "source": [
    "H2O_behind_SF = np.load(f\"{path_interim}H2O_behind_SF.npy\")"
   ]
  },
  {
   "cell_type": "code",
   "execution_count": null,
   "id": "7485b369-c15e-4622-bf64-a2f50c5b2318",
   "metadata": {
    "tags": []
   },
   "outputs": [],
   "source": [
    "if calculate_H2O_behind_SF:\n",
    "    if name_sim == \"C2I_v1/\":\n",
    "        start = 300 * beads_per_iter * swarms_per_bead * steps_per_swarm\n",
    "    else:\n",
    "        start = 0\n",
    "    H2O_behind_SF_proj, extent = spc.project_property_on_cv_kde(\n",
    "        cv_proj, weights=weights, proper=H2O_behind_SF[start:, 2], bandwidth=bandwidth\n",
    "    )\n",
    "    np.save(f\"{path_processed}H2O_behind_SF_proj.npy\", H2O_behind_SF_proj)\n",
    "else:\n",
    "    H2O_behind_SF_proj = np.load(f\"{path_processed}H2O_behind_SF_proj.npy\")"
   ]
  },
  {
   "cell_type": "code",
   "execution_count": null,
   "id": "23487939-247f-4eb3-acd5-fcf18a0f0a0e",
   "metadata": {
    "tags": []
   },
   "outputs": [],
   "source": [
    "fig, ax = plt.subplots(1, 1, figsize=(10, 7), sharex=True, sharey=True)\n",
    "_ = spc.plot_2D_heatmap(\n",
    "    H2O_behind_SF_proj,\n",
    "    extent,\n",
    "    cbar_label=\"Number of H2O lower position\",\n",
    "    xlabel=\"SF (nm)\",\n",
    "    ylabel=\"IG (nm)\",\n",
    "    f_min=0,\n",
    "    # f_max=1,\n",
    "    fig=fig,\n",
    "    cmap=plt.cm.Spectral,\n",
    "    ax=ax,\n",
    "    n_colors=200,\n",
    "    c_density=F,\n",
    "    c_min=0,\n",
    "    c_max=20,\n",
    "    c_color=\"k\",\n",
    ")\n",
    "ax.grid(None)\n",
    "spc.add_XRD_values(XRD_dictionary, \"SF\", \"IG\", size=15, ax=ax, color=\"g\")\n",
    "fig.tight_layout()\n",
    "fig.savefig(path_report + \"projection_H2O_lower.png\")"
   ]
  },
  {
   "cell_type": "markdown",
   "id": "68c3fe1f-2fb4-48e1-97a4-b161f7eebc28",
   "metadata": {
    "tags": []
   },
   "source": [
    "## Middle H2O"
   ]
  },
  {
   "cell_type": "code",
   "execution_count": null,
   "id": "362af12b-9d55-4ab1-81fc-2d956534b512",
   "metadata": {
    "tags": []
   },
   "outputs": [],
   "source": [
    "H2O_behind_SF = np.load(f\"{path_interim}H2O_behind_SF.npy\")"
   ]
  },
  {
   "cell_type": "code",
   "execution_count": null,
   "id": "2adf560c-f68d-4584-8788-3fc68b645460",
   "metadata": {
    "tags": []
   },
   "outputs": [],
   "source": [
    "if calculate_H2O_behind_SF:\n",
    "    if name_sim == \"C2I_v1/\":\n",
    "        start = 300 * beads_per_iter * swarms_per_bead * steps_per_swarm\n",
    "    else:\n",
    "        start = 0\n",
    "    H2O_behind_SF_proj, extent = spc.project_property_on_cv_kde(\n",
    "        cv_proj, weights=weights, proper=H2O_behind_SF[start:, 1], bandwidth=bandwidth\n",
    "    )\n",
    "    np.save(f\"{path_processed}H2O_behind_SF_proj.npy\", H2O_behind_SF_proj)\n",
    "else:\n",
    "    H2O_behind_SF_proj = np.load(f\"{path_processed}H2O_behind_SF_proj.npy\")"
   ]
  },
  {
   "cell_type": "code",
   "execution_count": null,
   "id": "d85003ae-4af2-4df1-9025-8b68f19c719e",
   "metadata": {
    "tags": []
   },
   "outputs": [],
   "source": [
    "fig, ax = plt.subplots(1, 1, figsize=(10, 7), sharex=True, sharey=True)\n",
    "_ = spc.plot_2D_heatmap(\n",
    "    H2O_behind_SF_proj,\n",
    "    extent,\n",
    "    cbar_label=\"Number of H2O middle position\",\n",
    "    xlabel=\"SF (nm)\",\n",
    "    ylabel=\"IG (nm)\",\n",
    "    f_min=0,\n",
    "    # f_max=1,\n",
    "    fig=fig,\n",
    "    cmap=plt.cm.Spectral,\n",
    "    ax=ax,\n",
    "    n_colors=200,\n",
    "    c_density=F,\n",
    "    c_min=0,\n",
    "    c_max=20,\n",
    "    c_color=\"k\",\n",
    ")\n",
    "ax.grid(None)\n",
    "spc.add_XRD_values(XRD_dictionary, \"SF\", \"IG\", size=15, ax=ax, color=\"g\")\n",
    "fig.tight_layout()\n",
    "fig.savefig(path_report + \"projection_H2O_middle.png\")"
   ]
  },
  {
   "cell_type": "markdown",
   "id": "d4e50491-90a2-437c-b89b-92ec502c7972",
   "metadata": {
    "tags": []
   },
   "source": [
    "## Top H2O "
   ]
  },
  {
   "cell_type": "code",
   "execution_count": null,
   "id": "0ca0cb0e-0e0a-4a5c-83d1-d831328d2e6d",
   "metadata": {
    "tags": []
   },
   "outputs": [],
   "source": [
    "H2O_behind_SF = np.load(f\"{path_interim}H2O_behind_SF.npy\")"
   ]
  },
  {
   "cell_type": "code",
   "execution_count": null,
   "id": "168c593c-90f0-44fe-874e-230275cd785f",
   "metadata": {
    "tags": []
   },
   "outputs": [],
   "source": [
    "if calculate_H2O_behind_SF:\n",
    "    if name_sim == \"C2I_v1/\":\n",
    "        start = 300 * beads_per_iter * swarms_per_bead * steps_per_swarm\n",
    "    else:\n",
    "        start = 0\n",
    "    H2O_behind_SF_proj, extent = spc.project_property_on_cv_kde(\n",
    "        cv_proj, weights=weights, proper=H2O_behind_SF[start:, 0], bandwidth=bandwidth\n",
    "    )\n",
    "    np.save(f\"{path_processed}H2O_behind_SF_proj.npy\", H2O_behind_SF_proj)\n",
    "else:\n",
    "    H2O_behind_SF_proj = np.load(f\"{path_processed}H2O_behind_SF_proj.npy\")"
   ]
  },
  {
   "cell_type": "code",
   "execution_count": null,
   "id": "a886f2b1-1c4a-41f3-9058-f4bca88982b4",
   "metadata": {
    "tags": []
   },
   "outputs": [],
   "source": [
    "fig, ax = plt.subplots(1, 1, figsize=(10, 7), sharex=True, sharey=True)\n",
    "_ = spc.plot_2D_heatmap(\n",
    "    H2O_behind_SF_proj,\n",
    "    extent,\n",
    "    cbar_label=\"Number of H2O top position\",\n",
    "    xlabel=\"SF (nm)\",\n",
    "    ylabel=\"IG (nm)\",\n",
    "    f_min=0,\n",
    "    # f_max=1,\n",
    "    fig=fig,\n",
    "    cmap=plt.cm.Spectral,\n",
    "    ax=ax,\n",
    "    n_colors=200,\n",
    "    c_density=F,\n",
    "    c_min=0,\n",
    "    c_max=20,\n",
    "    c_color=\"k\",\n",
    ")\n",
    "ax.grid(None)\n",
    "spc.add_XRD_values(XRD_dictionary, \"SF\", \"IG\", size=15, ax=ax, color=\"g\")\n",
    "fig.tight_layout()\n",
    "fig.savefig(path_report + \"projection_H2O_top.png\")"
   ]
  },
  {
   "cell_type": "markdown",
   "id": "d4766d25-dc50-450c-bfb6-6cb5f32323fb",
   "metadata": {},
   "source": [
    "# Find nearest structure"
   ]
  },
  {
   "cell_type": "code",
   "execution_count": null,
   "id": "0c547de0-2a28-429a-ac44-169da6aa1a4a",
   "metadata": {},
   "outputs": [],
   "source": [
    "points = {\n",
    "    \"C2I_lb_v1/\": np.array(\n",
    "        [[0.55, 2.0], [0.825, 1.3], [0.825, 1.65], [0.65, 1.9], [0.81, 1.85]]\n",
    "    ),\n",
    "    \"C2I_v1/\": np.array([[0.54, 2.0], [0.815, 1.3], [0.815, 1.7]]),\n",
    "    \"C2I_lb_v1_amber/\": np.array(\n",
    "        [[0.53, 2.25], [0.89, 1.25], [0.88, 1.65], [0.88, 2.05]]\n",
    "    ),\n",
    "    \"C2I_v1_amber/\": np.array([[0.53, 2.25], [0.89, 1.3], [0.89, 1.55], [0.88, 2.05]]),\n",
    "}"
   ]
  },
  {
   "cell_type": "code",
   "execution_count": null,
   "id": "6c322f45-f770-4aff-aa14-d4727d911969",
   "metadata": {},
   "outputs": [],
   "source": [
    "for point in points[name_sim]:\n",
    "    nearest, distance = spc.find_nearest_point(cv_proj[:, 0, :], point)\n",
    "    # nearest = 10 * swarms_per_bead * beads_per_iter + 3 * swarms_per_bead + 3\n",
    "    iteration = nearest // (swarms_per_bead * beads_per_iter)\n",
    "    bead = nearest % (swarms_per_bead * beads_per_iter) // swarms_per_bead + 1\n",
    "    swarm = nearest % swarms_per_bead\n",
    "    print(\n",
    "        f\"Nearest point to x={point[0]}, y={point[1]}, iteration={iteration+ first_iteration} , bead={bead}, swarm={swarm} distance={distance}\"\n",
    "    )\n",
    "    print(f\"{cv_proj[nearest, 0, :]}\")"
   ]
  },
  {
   "cell_type": "markdown",
   "id": "6572e67f-55cc-4ed9-b244-b1fcbd54e6f1",
   "metadata": {},
   "source": [
    "## Plot Restarted Trajectories in Basins"
   ]
  },
  {
   "cell_type": "code",
   "execution_count": null,
   "id": "8b189a37-a0b2-44f7-98ad-2de969aa778b",
   "metadata": {},
   "outputs": [],
   "source": [
    "SF_txt0 = [\n",
    "    \"segid PROA and name CA and resid 77\",\n",
    "    \"segid PROC and name CA and resid 77\",\n",
    "]\n",
    "SF_txt1 = [\n",
    "    \"segid PROB and name CA and resid 77\",\n",
    "    \"segid PROD and name CA and resid 77\",\n",
    "]\n",
    "IG_txt0 = [\n",
    "    \"segid PROA and name CA and resid 112\",\n",
    "    \"segid PROC and name CA and resid 112\",\n",
    "]\n",
    "IG_txt1 = [\n",
    "    \"segid PROB and name CA and resid 112\",\n",
    "    \"segid PROD and name CA and resid 112\",\n",
    "]"
   ]
  },
  {
   "cell_type": "code",
   "execution_count": null,
   "id": "af14ae29-3e96-4a55-8340-9235502069ab",
   "metadata": {},
   "outputs": [],
   "source": [
    "list_restarts = spc.natural_sort(glob.glob(f\"{path_raw}restarts/*\"))\n",
    "trajectories = []\n",
    "for restart in list_restarts:\n",
    "    u = mda.Universe(f\"{path_raw}topology/5VKH.pdb\", f\"{restart}/traj_comp.xtc\")\n",
    "    print(u.trajectory.n_frames)\n",
    "    SF = spc.distance_pairs_av(u, SF_txt0, SF_txt1, verbose=False).run().results_pp\n",
    "    IG = spc.distance_pairs_av(u, IG_txt0, IG_txt1, verbose=False).run().results_pp\n",
    "    trajectories.append([SF.copy(), IG.copy()])\n",
    "trajectories = np.array(trajectories)\n",
    "np.save(f\"{path_processed}/SF_IG_restarts.npy\", trajectories)"
   ]
  },
  {
   "cell_type": "code",
   "execution_count": null,
   "id": "7794aa4f-97a8-4807-978e-f4493145b85c",
   "metadata": {
    "tags": []
   },
   "outputs": [],
   "source": [
    "fig, ax = spc.plot_2D_heatmap(\n",
    "    F,\n",
    "    extent,\n",
    "    f_max=f_max,\n",
    "    f_min=0,\n",
    "    cbar_label=\"Free Energy (kT)\",\n",
    "    xlabel=\"SF (nm)\",\n",
    "    ylabel=\"IG (nm)\",\n",
    ")\n",
    "ax.plot(*points[name_sim].T, ls=\"\", marker=\"^\", c=\"k\", ms=15)\n",
    "for i, trajectory in enumerate(trajectories):\n",
    "    ax.plot(trajectory[0] / 10, trajectory[1] / 10, ls=\"\", marker=\".\", c=f\"C{i}\", ms=8)\n",
    "    ax.plot(\n",
    "        trajectory[0][:1] / 10,\n",
    "        trajectory[1][:1] / 10,\n",
    "        ls=\"\",\n",
    "        marker=\"^\",\n",
    "        c=f\"C{i}\",\n",
    "        ms=15,\n",
    "    )\n",
    "# ax.scatter(\n",
    "#    trajectories[2][0] / 10,\n",
    "#    trajectories[2][1] / 10,\n",
    "#    marker=\".\",\n",
    "#    c=np.arange(trajectories[2][0].shape[0]),\n",
    "#    s=15,\n",
    "# )\n",
    "# ax.set_xlim([0.48, 1.0])\n",
    "# ax.set_ylim([1.1, 2.45])\n",
    "fig.tight_layout()\n",
    "spc.add_XRD_values(XRD_dictionary, \"SF\", \"IG\", size=15, ax=ax, color=\"purple\")\n",
    "fig.savefig(path_report + \"FES_restarts.png\")"
   ]
  },
  {
   "cell_type": "markdown",
   "id": "6f7c5b39-7273-459d-8810-d3a03e755321",
   "metadata": {
    "tags": []
   },
   "source": [
    "# Project H2O behind SF on FES"
   ]
  },
  {
   "cell_type": "code",
   "execution_count": null,
   "id": "aabd1d13-d68f-4018-b841-74ac0fdfa848",
   "metadata": {},
   "outputs": [],
   "source": [
    "SF_occupation = np.load(f\"{path_interim}SF_occupation.npy\")"
   ]
  },
  {
   "cell_type": "code",
   "execution_count": null,
   "id": "1ddd9f1f-4611-4b99-baae-d16019f58043",
   "metadata": {
    "tags": []
   },
   "outputs": [],
   "source": [
    "if name_sim == \"C2I_v1/\":\n",
    "    start = 300 * beads_per_iter * swarms_per_bead * steps_per_swarm\n",
    "else:\n",
    "    start = 0"
   ]
  },
  {
   "cell_type": "code",
   "execution_count": null,
   "id": "4993ced9-20f6-44b1-bf83-60c56b29cb95",
   "metadata": {
    "tags": []
   },
   "outputs": [],
   "source": [
    "if calculate_SF_occupation:\n",
    "    SF_CV = spc.count_occurrances(SF_occupation, \"W\")[:, 0]\n",
    "    H2O_in_SF_proj, extent = spc.project_property_on_cv_kde(\n",
    "        cv_proj, weights=weights, proper=SF_CV[start:], bandwidth=bandwidth\n",
    "    )\n",
    "    np.save(f\"{path_processed}H2O_in_SF_proj.npy\", H2O_in_SF_proj)\n",
    "    SF_CV = spc.count_occurrances(SF_occupation, \"K\")[:, 0]\n",
    "    K_in_SF_proj, extent = spc.project_property_on_cv_kde(\n",
    "        cv_proj, weights=weights, proper=SF_CV[start:], bandwidth=bandwidth\n",
    "    )\n",
    "    np.save(f\"{path_processed}K_in_SF_proj.npy\", K_in_SF_proj)\n",
    "else:\n",
    "    H2O_in_SF_proj = np.load(f\"{path_processed}H2O_in_SF_proj.npy\")\n",
    "    K_in_SF_proj = np.load(f\"{path_processed}K_in_SF_proj.npy\")"
   ]
  },
  {
   "cell_type": "code",
   "execution_count": null,
   "id": "af6e3cdc-c234-4c28-8199-087147e4efda",
   "metadata": {
    "tags": []
   },
   "outputs": [],
   "source": [
    "fig, ax = plt.subplots(1, 2, figsize=(10, 7), sharex=True, sharey=True)\n",
    "_ = spc.plot_2D_heatmap(\n",
    "    H2O_in_SF_proj,\n",
    "    extent,\n",
    "    cbar_label=\"Number of H2O in SF\",\n",
    "    xlabel=\"SF (nm)\",\n",
    "    ylabel=\"IG (nm)\",\n",
    "    f_min=0,\n",
    "    # f_max=1,\n",
    "    fig=fig,\n",
    "    cmap=plt.cm.Spectral,\n",
    "    ax=ax[0],\n",
    "    n_colors=200,\n",
    "    c_density=F,\n",
    "    c_min=0,\n",
    "    c_max=20,\n",
    "    c_color=\"k\",\n",
    ")\n",
    "_ = spc.plot_2D_heatmap(\n",
    "    K_in_SF_proj,\n",
    "    extent,\n",
    "    cbar_label=\"Number of K in SF\",\n",
    "    xlabel=\"SF (nm)\",\n",
    "    ylabel=\"IG (nm)\",\n",
    "    f_min=0,\n",
    "    # f_max=1,\n",
    "    fig=fig,\n",
    "    cmap=plt.cm.Spectral,\n",
    "    ax=ax[1],\n",
    "    n_colors=200,\n",
    "    c_density=F,\n",
    "    c_min=0,\n",
    "    c_max=20,\n",
    "    c_color=\"k\",\n",
    ")\n",
    "ax[0].grid(None)\n",
    "ax[1].grid(None)\n",
    "spc.add_XRD_values(XRD_dictionary, \"SF\", \"IG\", size=15, ax=ax[0], color=\"g\")\n",
    "spc.add_XRD_values(XRD_dictionary, \"SF\", \"IG\", size=15, ax=ax[1], color=\"g\")\n",
    "fig.tight_layout()\n",
    "fig.savefig(path_report + \"projection_SF_totals.png\")"
   ]
  },
  {
   "cell_type": "code",
   "execution_count": null,
   "id": "340f8987-15f4-4569-94c5-e1f6d087df3f",
   "metadata": {},
   "outputs": [],
   "source": []
  }
 ],
 "metadata": {
  "kernelspec": {
   "display_name": "string_sims",
   "language": "python",
   "name": "string_sims"
  },
  "language_info": {
   "codemirror_mode": {
    "name": "ipython",
    "version": 3
   },
   "file_extension": ".py",
   "mimetype": "text/x-python",
   "name": "python",
   "nbconvert_exporter": "python",
   "pygments_lexer": "ipython3",
   "version": "3.8.5"
  }
 },
 "nbformat": 4,
 "nbformat_minor": 5
}
