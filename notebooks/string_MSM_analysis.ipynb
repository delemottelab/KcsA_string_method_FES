{
 "cells": [
  {
   "cell_type": "markdown",
   "id": "32867ee4-ea45-4aa9-b192-176b0801c41c",
   "metadata": {},
   "source": [
    "# String Method Analysis Markov-State-Models\n",
    "## Imports"
   ]
  },
  {
   "cell_type": "code",
   "execution_count": null,
   "id": "75b1c221-b47d-4484-9125-6eac0a75a249",
   "metadata": {},
   "outputs": [],
   "source": [
    "%load_ext lab_black\n",
    "\n",
    "import matplotlib.pyplot as plt\n",
    "import matplotlib as mpl\n",
    "from matplotlib.ticker import MultipleLocator, FormatStrFormatter, AutoMinorLocator\n",
    "import os\n",
    "import pickle\n",
    "import sys\n",
    "import logging\n",
    "import numpy as np\n",
    "import pyemma\n",
    "\n",
    "logging.getLogger(\"matplotlib\").setLevel(logging.ERROR)\n",
    "logging.getLogger(\"blib2to3.pgen2.driver\").setLevel(logging.WARNING)\n",
    "logging.getLogger(\"pyemma\").setLevel(logging.NOTSET)\n",
    "sys.path.append(\"../string-method-gmxapi/\")\n",
    "from stringmethod.config import *\n",
    "from stringmethod.postprocessing import *"
   ]
  },
  {
   "cell_type": "code",
   "execution_count": null,
   "id": "86e748d1-52ad-4643-81be-b3ad1b73940b",
   "metadata": {},
   "outputs": [],
   "source": [
    "def colorbar(mappable, cmap, norm, label0, size=10):\n",
    "    from mpl_toolkits.axes_grid1 import make_axes_locatable\n",
    "\n",
    "    ax = mappable.axes\n",
    "    fig = ax.figure\n",
    "    divider = make_axes_locatable(ax)\n",
    "    cax = divider.append_axes(\"right\", size=\"5%\", pad=0.05)\n",
    "    cbar = mpl.colorbar.ColorbarBase(cax, cmap=cmap, norm=norm)\n",
    "    cbar.set_label(label0, size=size)\n",
    "    return cbar"
   ]
  },
  {
   "cell_type": "code",
   "execution_count": null,
   "id": "65adbb5a-2331-4887-8ac2-d4f234a7f318",
   "metadata": {},
   "outputs": [],
   "source": [
    "def load_swarm_data(extract, first_iteration=1, last_iteration=None):\n",
    "    if last_iteration == None:\n",
    "        last_iteration = sys.maxsize\n",
    "    if extract:\n",
    "        config = load_config(\"config.json\")\n",
    "\n",
    "        ce = CvValueExtractor.from_config(\n",
    "            config=config,\n",
    "            first_iteration=first_iteration,  # Exclude the first iterations to let the system equilibrate.\n",
    "            last_iteration=last_iteration,  # Usefull to make blocks of the simulation\n",
    "        )\n",
    "        ce.run()\n",
    "        ce.persist()\n",
    "    return np.load(\"postprocessing/cv_coordinates.npy\")"
   ]
  },
  {
   "cell_type": "code",
   "execution_count": null,
   "id": "39618c4e-8107-4def-b119-ff00cbca313e",
   "metadata": {},
   "outputs": [],
   "source": [
    "plt.rcParams[\"axes.facecolor\"] = \"#f9f9fb\"\n",
    "plt.rcParams[\"grid.color\"] = \"white\"\n",
    "plt.rcParams[\"grid.linestyle\"] = \"-\"\n",
    "plt.rcParams[\"grid.linewidth\"] = 2\n",
    "plt.rcParams[\"axes.grid\"] = True\n",
    "plt.rcParams[\"lines.solid_capstyle\"] = \"round\""
   ]
  },
  {
   "cell_type": "markdown",
   "id": "6d7af371-cecb-41f7-b46d-77e31ddb70cc",
   "metadata": {},
   "source": [
    "## Load data"
   ]
  },
  {
   "cell_type": "code",
   "execution_count": null,
   "id": "5c55acb3-025b-4c1a-a1ba-6a874e94d895",
   "metadata": {},
   "outputs": [],
   "source": [
    "%ls ../data/raw"
   ]
  },
  {
   "cell_type": "code",
   "execution_count": null,
   "id": "ce510b6f-1e1c-416f-b30b-6bbda63671a9",
   "metadata": {},
   "outputs": [],
   "source": [
    "simulation_directory = \"/data/sperez/Projects/string_sims/data/raw/C2I_lb_v2/\"\n",
    "os.chdir(simulation_directory)\n",
    "os.getcwd()"
   ]
  },
  {
   "cell_type": "code",
   "execution_count": null,
   "id": "61fb2261-372f-460c-a3db-c958e6114a61",
   "metadata": {},
   "outputs": [],
   "source": [
    "with open(\"cv.pkl\", \"rb\") as file:\n",
    "    cvs, ndx_groups = pickle.load(file)"
   ]
  },
  {
   "cell_type": "markdown",
   "id": "9fadba22-5407-4d9c-a90c-b3ed0888f37b",
   "metadata": {},
   "source": [
    "The `load_swarm_data` function will load the swarm data in the `cv_coordinates`. If you set `extract=True` it will read the data from the swarm files. If you have done this previously you can set `extract=False` so the function just reads `postprocessing/cv_coordinates.npy`. `first_iteration` can be used to exclude initial swarms as equilibration and `last_iteration` can be done to exclude some iterations for example if you want to estimate the FES convergence by comparing blocks of data."
   ]
  },
  {
   "cell_type": "code",
   "execution_count": null,
   "id": "73ddb40f-95ec-41d2-a7ec-5df6906f1e21",
   "metadata": {},
   "outputs": [],
   "source": [
    "cv_coordinates0 = load_swarm_data(\n",
    "    extract=False, first_iteration=100, last_iteration=None\n",
    ")"
   ]
  },
  {
   "cell_type": "markdown",
   "id": "cad85885-70f6-4169-bdfb-fc05d145db1d",
   "metadata": {},
   "source": [
    "## Choose cvs to use"
   ]
  },
  {
   "cell_type": "markdown",
   "id": "afec4c2e-b848-407d-a946-79850a81368f",
   "metadata": {},
   "source": [
    "### CVs for MSMs"
   ]
  },
  {
   "cell_type": "code",
   "execution_count": null,
   "id": "ad9e4f57-b742-4ab7-9eb8-6ff4338d96d1",
   "metadata": {},
   "outputs": [],
   "source": [
    "my_cvs = [0, 6]\n",
    "cv_coordinates = cv_coordinates0[:, :, my_cvs]"
   ]
  },
  {
   "cell_type": "code",
   "execution_count": null,
   "id": "ed6c7ecb-9f8c-4277-ad8c-6c275c40be44",
   "metadata": {},
   "outputs": [],
   "source": [
    "cv_coordinates = cv_coordinates0"
   ]
  },
  {
   "cell_type": "code",
   "execution_count": null,
   "id": "93ed60c3-18bb-4687-b968-0e1705eed478",
   "metadata": {
    "tags": []
   },
   "outputs": [],
   "source": [
    "cv_coordinates = np.concatenate(\n",
    "    [\n",
    "        np.concatenate(\n",
    "            [cv_coordinates0[:, :, 0:1], cv_coordinates0[:, :, 1:2]], axis=0\n",
    "        ),\n",
    "        np.concatenate(\n",
    "            [cv_coordinates0[:, :, 11:12], cv_coordinates0[:, :, 11:12]], axis=0\n",
    "        ),\n",
    "    ],\n",
    "    axis=2,\n",
    ")"
   ]
  },
  {
   "cell_type": "markdown",
   "id": "c4e51e80-a192-4d1a-9bbd-3dfe255bbc21",
   "metadata": {},
   "source": [
    "### CVs for projection"
   ]
  },
  {
   "cell_type": "code",
   "execution_count": null,
   "id": "f71a401f-7a1c-4e1d-bb66-d159554aa674",
   "metadata": {},
   "outputs": [],
   "source": [
    "my_cvs = [0, 6]\n",
    "cv_proj = cv_coordinates0[:, :, my_cvs]"
   ]
  },
  {
   "cell_type": "code",
   "execution_count": null,
   "id": "bd44b4c3-2fdc-4643-bb65-6d30d1a2fd0f",
   "metadata": {
    "tags": []
   },
   "outputs": [],
   "source": [
    "cv_proj = np.concatenate(\n",
    "    [\n",
    "        np.concatenate(\n",
    "            [cv_coordinates0[:, :, 0:1], cv_coordinates0[:, :, 1:2]], axis=0\n",
    "        ),\n",
    "        np.concatenate(\n",
    "            [cv_coordinates0[:, :, 10:11], cv_coordinates0[:, :, 11:12]], axis=0\n",
    "        ),\n",
    "    ],\n",
    "    axis=2,\n",
    ")"
   ]
  },
  {
   "cell_type": "code",
   "execution_count": null,
   "id": "6c7f47d2-09c6-456b-9aa9-8a0ad6aa0162",
   "metadata": {},
   "outputs": [],
   "source": [
    "cv_proj = cv_coordinates"
   ]
  },
  {
   "cell_type": "markdown",
   "id": "0334797e-8798-4215-b9d8-1f26ece95a12",
   "metadata": {},
   "source": [
    "### Prepare data for pyemma"
   ]
  },
  {
   "cell_type": "code",
   "execution_count": null,
   "id": "50887e89-7f31-45f3-8e77-ad506271516e",
   "metadata": {},
   "outputs": [],
   "source": [
    "data = []\n",
    "for i in range(cv_coordinates.shape[0]):\n",
    "    data.append(cv_coordinates[i, :, :])"
   ]
  },
  {
   "cell_type": "code",
   "execution_count": null,
   "id": "1335c1eb-19a5-4434-931e-d95f55ce07ee",
   "metadata": {},
   "outputs": [],
   "source": [
    "data_proj = []\n",
    "for i in range(cv_proj.shape[0]):\n",
    "    data_proj.append(cv_proj[i, :, :])"
   ]
  },
  {
   "cell_type": "code",
   "execution_count": null,
   "id": "cbd5306f-c120-4d78-b6b7-e2fba1f5ba5f",
   "metadata": {},
   "outputs": [],
   "source": [
    "data_concat = np.concatenate(data)"
   ]
  },
  {
   "cell_type": "code",
   "execution_count": null,
   "id": "b4103469-60bd-4043-b611-1512946cf62c",
   "metadata": {},
   "outputs": [],
   "source": [
    "data_proj_concat = np.concatenate(data_proj)"
   ]
  },
  {
   "cell_type": "markdown",
   "id": "87e0b54f-a57e-4cf9-8f7d-15a9123e2984",
   "metadata": {},
   "source": [
    "## Cluster"
   ]
  },
  {
   "cell_type": "code",
   "execution_count": null,
   "id": "bb837fa7-e05f-44a4-800a-e65466991058",
   "metadata": {},
   "outputs": [],
   "source": [
    "def score_cv(data, dim, lag, number_of_splits=10, validation_fraction=0.5):\n",
    "    \"\"\"Compute a cross-validated VAMP2 score.\n",
    "\n",
    "    We randomly split the list of independent trajectories into\n",
    "    a training and a validation set, compute the VAMP2 score,\n",
    "    and repeat this process several times.\n",
    "\n",
    "    Parameters\n",
    "    ----------\n",
    "    data : list of numpy.ndarrays\n",
    "        The input data.\n",
    "    dim : int\n",
    "        Number of processes to score; equivalent to the dimension\n",
    "        after projecting the data with VAMP2.\n",
    "    lag : int\n",
    "        Lag time for the VAMP2 scoring.\n",
    "    number_of_splits : int, optional, default=10\n",
    "        How often do we repeat the splitting and score calculation.\n",
    "    validation_fraction : int, optional, default=0.5\n",
    "        Fraction of trajectories which should go into the validation\n",
    "        set during a split.\n",
    "    \"\"\"\n",
    "    # we temporarily suppress very short-lived progress bars\n",
    "    pyemma.util.config.show_progress_bars = False\n",
    "    nval = int(len(data) * validation_fraction)\n",
    "    scores = np.zeros(number_of_splits)\n",
    "    for n in range(number_of_splits):\n",
    "        ival = np.random.choice(len(data), size=nval, replace=False)\n",
    "        vamp = pyemma.coordinates.vamp(\n",
    "            [d for i, d in enumerate(data) if i not in ival], lag=lag, dim=dim\n",
    "        )\n",
    "        scores[n] = vamp.score([d for i, d in enumerate(data) if i in ival])\n",
    "    pyemma.util.config.show_progress_bars = True\n",
    "    return scores"
   ]
  },
  {
   "cell_type": "code",
   "execution_count": null,
   "id": "d6cc7250-b5b5-415b-b334-863b6021e6c5",
   "metadata": {
    "tags": []
   },
   "outputs": [],
   "source": [
    "n_clustercenters = [5, 10, 30, 75, 200, 450, 650]\n",
    "scores = np.zeros((len(n_clustercenters), 5))\n",
    "pyemma.util.config.show_progress_bars = True\n",
    "clusters = []\n",
    "for n, k in enumerate(n_clustercenters):\n",
    "    print(k)\n",
    "    for m in range(5):\n",
    "        _cl = pyemma.coordinates.cluster_kmeans(data, k=k, max_iter=50, stride=1)\n",
    "        _msm = pyemma.msm.estimate_markov_model(_cl.dtrajs, 1)\n",
    "        scores[n, m] = _msm.score_cv(\n",
    "            _cl.dtrajs, n=1, score_method=\"VAMP2\", score_k=min(10, k)\n",
    "        )\n",
    "    clusters.append(_cl)\n",
    "fig, ax = plt.subplots()\n",
    "lower, upper = pyemma.util.statistics.confidence_interval(scores.T.tolist(), conf=0.9)\n",
    "ax.fill_between(n_clustercenters, lower, upper, alpha=0.3)\n",
    "ax.plot(n_clustercenters, np.mean(scores, axis=1), \"-o\")\n",
    "ax.semilogx()\n",
    "ax.set_xlabel(\"number of cluster centers\")\n",
    "ax.set_ylabel(\"VAMP-2 score\")\n",
    "fig.tight_layout()"
   ]
  },
  {
   "cell_type": "code",
   "execution_count": null,
   "id": "b6d29b59-6183-4935-9729-eb0064772b07",
   "metadata": {},
   "outputs": [],
   "source": [
    "def get_cluster_plot(data, data_proj_concat, k, ax):\n",
    "    cluster = pyemma.coordinates.cluster_kmeans(\n",
    "        data, k=k, max_iter=200, stride=1, fixed_seed=1\n",
    "    )\n",
    "    dtrajs_concatenated = np.concatenate(cluster.dtrajs)\n",
    "    pyemma.plots.plot_density(*data_proj_concat.T, ax=ax, cbar=False, alpha=0.3)\n",
    "    ax.scatter(*cluster.clustercenters.T, s=5, c=\"C1\")\n",
    "    ax.set_xlabel(\"CV 0\")\n",
    "    ax.set_ylabel(\"CV 1\")\n",
    "    return ax, cluster"
   ]
  },
  {
   "cell_type": "code",
   "execution_count": null,
   "id": "2c395419-633c-464c-bdf2-54f04a75ffb7",
   "metadata": {},
   "outputs": [],
   "source": [
    "k = 75\n",
    "fig, ax = plt.subplots(1, 1, figsize=(4, 4))\n",
    "ax, cluster = get_cluster_plot(data, data_proj_concat, k, ax)\n",
    "fig.tight_layout()"
   ]
  },
  {
   "cell_type": "markdown",
   "id": "543961fc-9d85-4f21-86b8-2d6c0488e4b1",
   "metadata": {},
   "source": [
    "## MSM"
   ]
  },
  {
   "cell_type": "code",
   "execution_count": null,
   "id": "34cc0fd0-1d0a-4286-8c8b-57abafd6030a",
   "metadata": {},
   "outputs": [],
   "source": [
    "msm = pyemma.msm.estimate_markov_model(\n",
    "    cluster.dtrajs,\n",
    "    lag=1,\n",
    "    dt_traj=\"0.01 ns\",\n",
    "    reversible=True,\n",
    ")\n",
    "print(\"fraction of states used = {:.2f}\".format(msm.active_state_fraction))\n",
    "print(\"fraction of counts used = {:.2f}\".format(msm.active_count_fraction))"
   ]
  },
  {
   "cell_type": "code",
   "execution_count": null,
   "id": "2060655e-a7f1-4ca9-a9c6-411761d8968a",
   "metadata": {},
   "outputs": [],
   "source": [
    "fig, axes = plt.subplots(1, 2, figsize=(10, 4), sharex=True, sharey=True)\n",
    "# av_y = np.mean(reduced_string[start_string:, 0, :], axis=0)\n",
    "# std_y = np.std(reduced_string[start_string:, 0, :], axis=0)\n",
    "# av_x = np.mean(reduced_string[start_string:, 1, :], axis=0)\n",
    "# std_x = np.std(reduced_string[start_string:, 1, :], axis=0)\n",
    "# axes[0].fill_between(\n",
    "#     av_x,\n",
    "#     av_y + std_y,\n",
    "#     av_y - std_y,\n",
    "#     alpha=0.1,\n",
    "#     label=f\"std_x(string{start_string}-{n_strings})\",\n",
    "#     color=\"cyan\",\n",
    "# )\n",
    "# axes[0].fill_betweenx(\n",
    "#     av_y,\n",
    "#     av_x + std_x,\n",
    "#     av_x - std_x,\n",
    "#     alpha=0.1,\n",
    "#     label=f\"std_y(string{start_string}-{n_strings})\",\n",
    "#     color=\"cyan\",\n",
    "# )\n",
    "# axes[0].plot(\n",
    "#     av_x,\n",
    "#     av_y,\n",
    "#     ls=\"-\",\n",
    "#     marker=\".\",\n",
    "#     color=\"k\",\n",
    "#     label=f\"mean(string{start_string}-{n_strings})\",\n",
    "# )\n",
    "# axes[1].fill_between(\n",
    "#     av_x,\n",
    "#     av_y + std_y,\n",
    "#     av_y - std_y,\n",
    "#     alpha=0.1,\n",
    "#     label=f\"std_x(string{start_string}-{n_strings})\",\n",
    "#     color=\"cyan\",\n",
    "# )\n",
    "# axes[1].fill_betweenx(\n",
    "#     av_y,\n",
    "#     av_x + std_x,\n",
    "#     av_x - std_x,\n",
    "#     alpha=0.1,\n",
    "#     label=f\"std_y(string{start_string}-{n_strings})\",\n",
    "#     color=\"cyan\",\n",
    "# )\n",
    "# axes[1].plot(\n",
    "#     av_x,\n",
    "#     av_y,\n",
    "#     ls=\"-\",\n",
    "#     marker=\".\",\n",
    "#     color=\"k\",\n",
    "#     label=f\"mean(string{start_string}-{n_strings})\",\n",
    "# )\n",
    "pyemma.plots.plot_free_energy(\n",
    "    *data_proj_concat[:, ::-1].T, ax=axes[0], mask=True, cbar_label=\"non_reweighted\"\n",
    ")\n",
    "pyemma.plots.plot_free_energy(\n",
    "    *data_proj_concat[:, ::-1].T,\n",
    "    weights=np.concatenate(msm.trajectory_weights()),\n",
    "    ax=axes[1],\n",
    "    legacy=False,\n",
    "    cmap=\"RdYlBu_r\",\n",
    "    # vmax=12,\n",
    ")\n",
    "for ax in axes.flat:\n",
    "    ax.set_xlabel(\"IC 1\")\n",
    "axes[0].set_ylabel(\"IC 2\")\n",
    "axes[0].set_title(\"non_reweighted\", fontweight=\"bold\")\n",
    "axes[1].set_title(\"Reweighted free energy surface\", fontweight=\"bold\")\n",
    "fig.tight_layout()"
   ]
  },
  {
   "cell_type": "code",
   "execution_count": null,
   "id": "7191f922-9911-478e-b630-098b066847ad",
   "metadata": {},
   "outputs": [],
   "source": []
  }
 ],
 "metadata": {
  "kernelspec": {
   "display_name": "string_method",
   "language": "python",
   "name": "string_method"
  },
  "language_info": {
   "codemirror_mode": {
    "name": "ipython",
    "version": 3
   },
   "file_extension": ".py",
   "mimetype": "text/x-python",
   "name": "python",
   "nbconvert_exporter": "python",
   "pygments_lexer": "ipython3",
   "version": "3.8.5"
  },
  "widgets": {
   "application/vnd.jupyter.widget-state+json": {
    "state": {
     "0005e368b98348d79db4a2518b4953c8": {
      "model_module": "@jupyter-widgets/controls",
      "model_module_version": "1.5.0",
      "model_name": "DescriptionStyleModel",
      "state": {
       "description_width": ""
      }
     },
     "001f64f7ae52427eb2f43b15e69982df": {
      "model_module": "@jupyter-widgets/controls",
      "model_module_version": "1.5.0",
      "model_name": "HTMLModel",
      "state": {
       "layout": "IPY_MODEL_a73b5b8613a84962881f8daa8ad3fbfd",
       "style": "IPY_MODEL_6fbb98868fd64b8bb36b3842c663e0e7",
       "value": "100%"
      }
     },
     "00947828edbc4e2aa05de65771eface4": {
      "model_module": "@jupyter-widgets/controls",
      "model_module_version": "1.5.0",
      "model_name": "HTMLModel",
      "state": {
       "layout": "IPY_MODEL_56295ee5fe6443c385bafa85c639fd52",
       "style": "IPY_MODEL_77faa5c0018643cf99a000d670ba4956",
       "value": "100%"
      }
     },
     "0097c6d9e31946a2b71ac7215fd1ee86": {
      "model_module": "@jupyter-widgets/base",
      "model_module_version": "1.2.0",
      "model_name": "LayoutModel",
      "state": {
       "flex": "2"
      }
     },
     "012adba5de994304a1611eb72d6764d2": {
      "model_module": "@jupyter-widgets/controls",
      "model_module_version": "1.5.0",
      "model_name": "FloatProgressModel",
      "state": {
       "layout": "IPY_MODEL_8166c4e0ac41450baa2aa256513a3139",
       "max": 30,
       "style": "IPY_MODEL_eb77c9bf8b904fcc8f59d08a0bb34bce",
       "value": 30
      }
     },
     "0157eed5d73940ed81c53ba1b7ff38fb": {
      "model_module": "@jupyter-widgets/base",
      "model_module_version": "1.2.0",
      "model_name": "LayoutModel",
      "state": {}
     },
     "0197481bcb5e41ff8691527e25c6ce98": {
      "model_module": "@jupyter-widgets/base",
      "model_module_version": "1.2.0",
      "model_name": "LayoutModel",
      "state": {
       "display": "inline-flex",
       "flex_flow": "row wrap",
       "width": "100%"
      }
     },
     "01d7303db485421d8bfe9a488d836d24": {
      "model_module": "@jupyter-widgets/controls",
      "model_module_version": "1.5.0",
      "model_name": "ProgressStyleModel",
      "state": {
       "description_width": ""
      }
     },
     "020e81d0cb674d9086b5a4252299bc60": {
      "model_module": "@jupyter-widgets/base",
      "model_module_version": "1.2.0",
      "model_name": "LayoutModel",
      "state": {}
     },
     "02516f31b4cd49daa3960ffc66cac5f6": {
      "model_module": "@jupyter-widgets/base",
      "model_module_version": "1.2.0",
      "model_name": "LayoutModel",
      "state": {
       "display": "inline-flex",
       "flex_flow": "row wrap",
       "width": "100%"
      }
     },
     "027f8f55f72d459292a89da69d8d4b3f": {
      "model_module": "@jupyter-widgets/controls",
      "model_module_version": "1.5.0",
      "model_name": "HTMLModel",
      "state": {
       "layout": "IPY_MODEL_d755e2be654946ff973b0d6083f9432c",
       "style": "IPY_MODEL_5907f89bc0d24828bf3a9e4933c8acf5",
       "value": "100%"
      }
     },
     "02aad01e6f714d52baa2f7480b34c78e": {
      "model_module": "@jupyter-widgets/base",
      "model_module_version": "1.2.0",
      "model_name": "LayoutModel",
      "state": {}
     },
     "0362bbd87a9947d5af4069f1cd080891": {
      "model_module": "@jupyter-widgets/controls",
      "model_module_version": "1.5.0",
      "model_name": "HTMLModel",
      "state": {
       "layout": "IPY_MODEL_6e50fbfdccd04ab2b8bd394c53f44bf5",
       "style": "IPY_MODEL_04dae709a8e94bb38459d5334359942a",
       "value": "100%"
      }
     },
     "03dd5478567a422d9de8dde11999fede": {
      "model_module": "@jupyter-widgets/base",
      "model_module_version": "1.2.0",
      "model_name": "LayoutModel",
      "state": {
       "flex": "2"
      }
     },
     "03ebcb4fa7914bbd89aae215c14e8bf1": {
      "model_module": "@jupyter-widgets/controls",
      "model_module_version": "1.5.0",
      "model_name": "HTMLModel",
      "state": {
       "layout": "IPY_MODEL_53dbded1b8a043e7adf2be0280267990",
       "style": "IPY_MODEL_0625895835c544e3a2e5e39e15696783",
       "value": "100%"
      }
     },
     "03ef9b447c6b4935a4c058ec2a48f93f": {
      "model_module": "@jupyter-widgets/controls",
      "model_module_version": "1.5.0",
      "model_name": "HTMLModel",
      "state": {
       "layout": "IPY_MODEL_cf21e3aee4b14da2b756a3c78468354a",
       "style": "IPY_MODEL_d51096c107274c8f91599067af36cc2e",
       "value": "100%"
      }
     },
     "03f912107e4a4f2f84ab758493053e64": {
      "model_module": "@jupyter-widgets/base",
      "model_module_version": "1.2.0",
      "model_name": "LayoutModel",
      "state": {
       "flex": "2"
      }
     },
     "0416258a42eb408f934753d32755e116": {
      "model_module": "@jupyter-widgets/controls",
      "model_module_version": "1.5.0",
      "model_name": "HTMLModel",
      "state": {
       "layout": "IPY_MODEL_aa9b8157152741a6a44cc4b7b11e6bf1",
       "style": "IPY_MODEL_099fc7d6b79643d1af08992a832e2ed2",
       "value": "100%"
      }
     },
     "0469c818c0a445138706da5a30869d8d": {
      "model_module": "@jupyter-widgets/base",
      "model_module_version": "1.2.0",
      "model_name": "LayoutModel",
      "state": {
       "flex": "2"
      }
     },
     "046ec64bf6094970bb4f31b802593c74": {
      "model_module": "@jupyter-widgets/base",
      "model_module_version": "1.2.0",
      "model_name": "LayoutModel",
      "state": {
       "display": "inline-flex",
       "flex_flow": "row wrap",
       "width": "100%"
      }
     },
     "0477c43e7bd6457080a4b26186dcebc5": {
      "model_module": "@jupyter-widgets/controls",
      "model_module_version": "1.5.0",
      "model_name": "DescriptionStyleModel",
      "state": {
       "description_width": ""
      }
     },
     "04b7c0fe958247429f3a7cf96c3ae9f3": {
      "model_module": "@jupyter-widgets/controls",
      "model_module_version": "1.5.0",
      "model_name": "ProgressStyleModel",
      "state": {
       "description_width": ""
      }
     },
     "04c9ba5730104826aa55638a1b36fd18": {
      "model_module": "@jupyter-widgets/controls",
      "model_module_version": "1.5.0",
      "model_name": "HTMLModel",
      "state": {
       "layout": "IPY_MODEL_45c970bb5eac49b58920c195b20ecb08",
       "style": "IPY_MODEL_23439931a5254ca2b750c00e68f50994",
       "value": "100%"
      }
     },
     "04cd05f3b7ed4bdeaa5682051e129d6e": {
      "model_module": "@jupyter-widgets/base",
      "model_module_version": "1.2.0",
      "model_name": "LayoutModel",
      "state": {
       "flex": "2"
      }
     },
     "04dae709a8e94bb38459d5334359942a": {
      "model_module": "@jupyter-widgets/controls",
      "model_module_version": "1.5.0",
      "model_name": "DescriptionStyleModel",
      "state": {
       "description_width": ""
      }
     },
     "04de14e6982043b094fe2e46bd464178": {
      "model_module": "@jupyter-widgets/controls",
      "model_module_version": "1.5.0",
      "model_name": "FloatProgressModel",
      "state": {
       "layout": "IPY_MODEL_4200ba5463b448e8ab4148557d35f664",
       "max": 50,
       "style": "IPY_MODEL_1b14f17886f149e4ae9a45c7af8a4080",
       "value": 50
      }
     },
     "05185e0c04864ff3b7a3dd47720ae503": {
      "model_module": "@jupyter-widgets/base",
      "model_module_version": "1.2.0",
      "model_name": "LayoutModel",
      "state": {
       "display": "inline-flex",
       "flex_flow": "row wrap",
       "width": "100%"
      }
     },
     "0548beddd8634a2989980970c9b23aa0": {
      "model_module": "@jupyter-widgets/controls",
      "model_module_version": "1.5.0",
      "model_name": "HTMLModel",
      "state": {
       "layout": "IPY_MODEL_a3419af36a09426ba1bf142cca61307b",
       "style": "IPY_MODEL_5511d5e594cd4cdc9dc21557592fb635",
       "value": " 80896/80896 [00:09&lt;00:00, 2606.24it/s]"
      }
     },
     "05505b2a9d334d66b1cb828a0991abcb": {
      "model_module": "@jupyter-widgets/controls",
      "model_module_version": "1.5.0",
      "model_name": "DescriptionStyleModel",
      "state": {
       "description_width": ""
      }
     },
     "05775f2fcace41b39e12a55e0f0e1474": {
      "model_module": "@jupyter-widgets/controls",
      "model_module_version": "1.5.0",
      "model_name": "FloatProgressModel",
      "state": {
       "layout": "IPY_MODEL_acf64fff34a04a87bcc2dbbdd0b7c4a5",
       "max": 75,
       "style": "IPY_MODEL_fb6e73dd44364ccabedb01ccf2d374f3",
       "value": 75
      }
     },
     "057db3c118524f93bd58eb9e79071e29": {
      "model_module": "@jupyter-widgets/controls",
      "model_module_version": "1.5.0",
      "model_name": "FloatProgressModel",
      "state": {
       "layout": "IPY_MODEL_03f912107e4a4f2f84ab758493053e64",
       "max": 50,
       "style": "IPY_MODEL_a17d6ef5bc7b497bb82952bb63d53b49",
       "value": 50
      }
     },
     "0590e3041da64c2d9c2fea116077d67d": {
      "model_module": "@jupyter-widgets/controls",
      "model_module_version": "1.5.0",
      "model_name": "FloatProgressModel",
      "state": {
       "layout": "IPY_MODEL_1cdc4b0ac9f14e3ababb7a86c48b6a34",
       "max": 50,
       "style": "IPY_MODEL_52f7447fa4754640a9b52ecc866a06dc",
       "value": 50
      }
     },
     "05ad42dc64344f85847e55120eed3893": {
      "model_module": "@jupyter-widgets/controls",
      "model_module_version": "1.5.0",
      "model_name": "HTMLModel",
      "state": {
       "layout": "IPY_MODEL_d1572f4ba80a47dfb9ae3ccddb6def46",
       "style": "IPY_MODEL_dd7c983b90d24220981a752c2dba2b0a",
       "value": " 10/10 [00:01&lt;00:00,  7.76it/s]"
      }
     },
     "05bccd9e24c145b1bc8d7abd11b755e2": {
      "model_module": "@jupyter-widgets/base",
      "model_module_version": "1.2.0",
      "model_name": "LayoutModel",
      "state": {
       "flex": "2"
      }
     },
     "05d80d578e8a495ba57daab4c7bb6f08": {
      "model_module": "@jupyter-widgets/base",
      "model_module_version": "1.2.0",
      "model_name": "LayoutModel",
      "state": {
       "flex": "2"
      }
     },
     "0625895835c544e3a2e5e39e15696783": {
      "model_module": "@jupyter-widgets/controls",
      "model_module_version": "1.5.0",
      "model_name": "DescriptionStyleModel",
      "state": {
       "description_width": ""
      }
     },
     "066bdeceb362427cae73f352d0a727d8": {
      "model_module": "@jupyter-widgets/base",
      "model_module_version": "1.2.0",
      "model_name": "LayoutModel",
      "state": {
       "flex": "2"
      }
     },
     "07090e4f85f044b389e0567f298f10dc": {
      "model_module": "@jupyter-widgets/base",
      "model_module_version": "1.2.0",
      "model_name": "LayoutModel",
      "state": {
       "flex": "2"
      }
     },
     "0725f69361f44f3ca43e478db839cdeb": {
      "model_module": "@jupyter-widgets/controls",
      "model_module_version": "1.5.0",
      "model_name": "HTMLModel",
      "state": {
       "layout": "IPY_MODEL_6712de3578c04761b92a123092b26c78",
       "style": "IPY_MODEL_b294abf2be4349f996a41d5517651b77",
       "value": "100%"
      }
     },
     "0745e31565864d4986676e0b6de91eec": {
      "model_module": "@jupyter-widgets/controls",
      "model_module_version": "1.5.0",
      "model_name": "HTMLModel",
      "state": {
       "layout": "IPY_MODEL_4d76507a2191409d8baab76e105a41c6",
       "style": "IPY_MODEL_651f356feeff4622be886e9607f19372",
       "value": "100%"
      }
     },
     "0773d995d68f4e2286d9be0db62b007e": {
      "model_module": "@jupyter-widgets/controls",
      "model_module_version": "1.5.0",
      "model_name": "FloatProgressModel",
      "state": {
       "layout": "IPY_MODEL_961d4e9e84f74647947967669dacd891",
       "max": 80896,
       "style": "IPY_MODEL_91103101baf441da8039f3621cce17b4",
       "value": 80896
      }
     },
     "0784cf4449614e1e8101aa3014633e6e": {
      "model_module": "@jupyter-widgets/controls",
      "model_module_version": "1.5.0",
      "model_name": "DescriptionStyleModel",
      "state": {
       "description_width": ""
      }
     },
     "07c43962325c428ba89754ae42d242c8": {
      "model_module": "@jupyter-widgets/controls",
      "model_module_version": "1.5.0",
      "model_name": "HTMLModel",
      "state": {
       "layout": "IPY_MODEL_ef1d094658534ac9945e3bc1621c43ca",
       "style": "IPY_MODEL_da8ecfe84afb4949926803e99a19d307",
       "value": " 80896/80896 [00:04&lt;00:00, 16521.69it/s]"
      }
     },
     "08211643a5a24f699cfe2c7dc77ac8b1": {
      "model_module": "@jupyter-widgets/controls",
      "model_module_version": "1.5.0",
      "model_name": "HTMLModel",
      "state": {
       "layout": "IPY_MODEL_cb0abece00e842898b80aa1aa73eeae8",
       "style": "IPY_MODEL_4c9cbe7996284dd7af5527db3131aac2",
       "value": " 75/75 [00:11&lt;00:00,  8.42it/s]"
      }
     },
     "08bc75c807a5427f8f5b44f62d72cd47": {
      "model_module": "@jupyter-widgets/base",
      "model_module_version": "1.2.0",
      "model_name": "LayoutModel",
      "state": {}
     },
     "08d01ffac62545d299deb8c8cfbb6351": {
      "model_module": "@jupyter-widgets/base",
      "model_module_version": "1.2.0",
      "model_name": "LayoutModel",
      "state": {}
     },
     "08d134a2dc114d108fb5bba7e53b4803": {
      "model_module": "@jupyter-widgets/base",
      "model_module_version": "1.2.0",
      "model_name": "LayoutModel",
      "state": {}
     },
     "09152add845447c2a83849559dbec268": {
      "model_module": "@jupyter-widgets/base",
      "model_module_version": "1.2.0",
      "model_name": "LayoutModel",
      "state": {
       "flex": "2"
      }
     },
     "091d4f3fe77444088ac233d5a2341b43": {
      "model_module": "@jupyter-widgets/controls",
      "model_module_version": "1.5.0",
      "model_name": "HTMLModel",
      "state": {
       "layout": "IPY_MODEL_a989bfc2ed2343678e0c4015f3c57875",
       "style": "IPY_MODEL_5064c911e76c472c8d9fcbfef0025874",
       "value": "100%"
      }
     },
     "0929d31a68fb499b9b732766bf798fc5": {
      "model_module": "@jupyter-widgets/base",
      "model_module_version": "1.2.0",
      "model_name": "LayoutModel",
      "state": {
       "flex": "2"
      }
     },
     "0973126b41384b908d650e3096c156da": {
      "model_module": "@jupyter-widgets/controls",
      "model_module_version": "1.5.0",
      "model_name": "HTMLModel",
      "state": {
       "layout": "IPY_MODEL_61f1131093c64bab841d23be07fc549e",
       "style": "IPY_MODEL_d8887a0441274d4dba8be422450aaac8",
       "value": " 80896/80896 [00:05&lt;00:00, 15853.25it/s]"
      }
     },
     "0985d46148c8459a8c2b071410c59a2d": {
      "model_module": "@jupyter-widgets/controls",
      "model_module_version": "1.5.0",
      "model_name": "FloatProgressModel",
      "state": {
       "layout": "IPY_MODEL_ced246e48ed54f419a0966a77c9bab8d",
       "max": 80896,
       "style": "IPY_MODEL_7676553c20c74aaa9a6990725a6aae29",
       "value": 80896
      }
     },
     "098b58738a5d4667b74880376f3dd7e7": {
      "model_module": "@jupyter-widgets/controls",
      "model_module_version": "1.5.0",
      "model_name": "HTMLModel",
      "state": {
       "layout": "IPY_MODEL_02aad01e6f714d52baa2f7480b34c78e",
       "style": "IPY_MODEL_5b6689ebce5343b795dd0d52bf6a859a",
       "value": " 80896/80896 [00:04&lt;00:00, 16580.37it/s]"
      }
     },
     "099fc7d6b79643d1af08992a832e2ed2": {
      "model_module": "@jupyter-widgets/controls",
      "model_module_version": "1.5.0",
      "model_name": "DescriptionStyleModel",
      "state": {
       "description_width": ""
      }
     },
     "09db7e5d29f147339efed79538384cd2": {
      "model_module": "@jupyter-widgets/base",
      "model_module_version": "1.2.0",
      "model_name": "LayoutModel",
      "state": {
       "display": "inline-flex",
       "flex_flow": "row wrap",
       "width": "100%"
      }
     },
     "0a56ae5b82af488996fc77a35a4c85cb": {
      "model_module": "@jupyter-widgets/base",
      "model_module_version": "1.2.0",
      "model_name": "LayoutModel",
      "state": {
       "flex": "2"
      }
     },
     "0a9245854ceb405f96ace987c5512af0": {
      "model_module": "@jupyter-widgets/controls",
      "model_module_version": "1.5.0",
      "model_name": "HTMLModel",
      "state": {
       "layout": "IPY_MODEL_892bf8fcdc0c4fea91228492d0bfd059",
       "style": "IPY_MODEL_9308b7ee83be4a12b805d12824f81685",
       "value": "100%"
      }
     },
     "0aa58bc150d141cd903137887098a64f": {
      "model_module": "@jupyter-widgets/base",
      "model_module_version": "1.2.0",
      "model_name": "LayoutModel",
      "state": {}
     },
     "0adb9a8459fc4f02ac98079597ff4989": {
      "model_module": "@jupyter-widgets/controls",
      "model_module_version": "1.5.0",
      "model_name": "HTMLModel",
      "state": {
       "layout": "IPY_MODEL_5ed6d4e7f27b4ec08c0c59cd7ea0542c",
       "style": "IPY_MODEL_b79d39db9c0e4983969411ab595bc806",
       "value": "100%"
      }
     },
     "0b22785e2e7d4b90a73083addd144c4f": {
      "model_module": "@jupyter-widgets/base",
      "model_module_version": "1.2.0",
      "model_name": "LayoutModel",
      "state": {}
     },
     "0be8efd563fd49f38d0d86326034c0f3": {
      "model_module": "@jupyter-widgets/base",
      "model_module_version": "1.2.0",
      "model_name": "LayoutModel",
      "state": {
       "display": "inline-flex",
       "flex_flow": "row wrap",
       "width": "100%"
      }
     },
     "0c1a191b89fc450a963a22cd12c6072d": {
      "model_module": "@jupyter-widgets/base",
      "model_module_version": "1.2.0",
      "model_name": "LayoutModel",
      "state": {
       "display": "inline-flex",
       "flex_flow": "row wrap",
       "width": "100%"
      }
     },
     "0cb2ed298f454b7a839bfa2edc3bfe11": {
      "model_module": "@jupyter-widgets/controls",
      "model_module_version": "1.5.0",
      "model_name": "DescriptionStyleModel",
      "state": {
       "description_width": ""
      }
     },
     "0cb78246ec5d4d328527ad51cb6984de": {
      "model_module": "@jupyter-widgets/controls",
      "model_module_version": "1.5.0",
      "model_name": "ProgressStyleModel",
      "state": {
       "description_width": ""
      }
     },
     "0d2183f2fe9b4c57b07af01124bb7cd2": {
      "model_module": "@jupyter-widgets/controls",
      "model_module_version": "1.5.0",
      "model_name": "ProgressStyleModel",
      "state": {
       "description_width": ""
      }
     },
     "0d55403229bc4b58b65b68fe05ef6f94": {
      "model_module": "@jupyter-widgets/controls",
      "model_module_version": "1.5.0",
      "model_name": "ProgressStyleModel",
      "state": {
       "description_width": ""
      }
     },
     "0f178521f3624c7a984b8295cc3d8360": {
      "model_module": "@jupyter-widgets/controls",
      "model_module_version": "1.5.0",
      "model_name": "FloatProgressModel",
      "state": {
       "layout": "IPY_MODEL_805269c3c9ff4507884e800fdd009ce4",
       "max": 80896,
       "style": "IPY_MODEL_d39cda780d084cc8b9a1025db6e25b48",
       "value": 80896
      }
     },
     "0f3494e3450c4f4186f854671f081d4c": {
      "model_module": "@jupyter-widgets/controls",
      "model_module_version": "1.5.0",
      "model_name": "DescriptionStyleModel",
      "state": {
       "description_width": ""
      }
     },
     "0fac3de7b54e4b88b55b769e37d87672": {
      "model_module": "@jupyter-widgets/base",
      "model_module_version": "1.2.0",
      "model_name": "LayoutModel",
      "state": {}
     },
     "0fc9b7b0fb3346ab951fec66b9c16195": {
      "model_module": "@jupyter-widgets/base",
      "model_module_version": "1.2.0",
      "model_name": "LayoutModel",
      "state": {}
     },
     "0ff097a4fc854e20b5b86fb13459944e": {
      "model_module": "@jupyter-widgets/base",
      "model_module_version": "1.2.0",
      "model_name": "LayoutModel",
      "state": {
       "flex": "2"
      }
     },
     "1067006f4e364f30bcbe82f660d05861": {
      "model_module": "@jupyter-widgets/controls",
      "model_module_version": "1.5.0",
      "model_name": "HTMLModel",
      "state": {
       "layout": "IPY_MODEL_453e184df57249019114bb13b6a83af1",
       "style": "IPY_MODEL_52a72f6b0e3244aeb2e61fad25459876",
       "value": "100%"
      }
     },
     "10a8b4b71f574d5ab32f4a5a3e687458": {
      "model_module": "@jupyter-widgets/controls",
      "model_module_version": "1.5.0",
      "model_name": "DescriptionStyleModel",
      "state": {
       "description_width": ""
      }
     },
     "113057f18f434f9bb15cbdb354af1d1b": {
      "model_module": "@jupyter-widgets/controls",
      "model_module_version": "1.5.0",
      "model_name": "HTMLModel",
      "state": {
       "layout": "IPY_MODEL_d616e3395b56436482756d46a54f0005",
       "style": "IPY_MODEL_ba8b136772c8490ba614f887e777c278",
       "value": "100%"
      }
     },
     "1174be2647e9429d9c2e7c3fa4f44e32": {
      "model_module": "@jupyter-widgets/controls",
      "model_module_version": "1.5.0",
      "model_name": "DescriptionStyleModel",
      "state": {
       "description_width": ""
      }
     },
     "117a840fe0444084b839ff995f4e7a8b": {
      "model_module": "@jupyter-widgets/controls",
      "model_module_version": "1.5.0",
      "model_name": "ProgressStyleModel",
      "state": {
       "description_width": ""
      }
     },
     "11e834b2e4c8498ca81f51f0859666cb": {
      "model_module": "@jupyter-widgets/controls",
      "model_module_version": "1.5.0",
      "model_name": "HTMLModel",
      "state": {
       "layout": "IPY_MODEL_fd87419882a8494d99c364504d8e32a8",
       "style": "IPY_MODEL_63ee5596ee4e4306b3391981d4b9a5fd",
       "value": " 80896/80896 [00:06&lt;00:00, 14554.25it/s]"
      }
     },
     "12041e8105154452b55f1826c0137e12": {
      "model_module": "@jupyter-widgets/controls",
      "model_module_version": "1.5.0",
      "model_name": "FloatProgressModel",
      "state": {
       "layout": "IPY_MODEL_a78318ed48614d5094e7c2d183dc81f2",
       "max": 75,
       "style": "IPY_MODEL_feeb2a4c88014e7fafa25ed211bcfcdd",
       "value": 75
      }
     },
     "1249fba4829d4e6f8fc4f64ac31080cb": {
      "model_module": "@jupyter-widgets/base",
      "model_module_version": "1.2.0",
      "model_name": "LayoutModel",
      "state": {}
     },
     "12bcae4e07c7468e9da37cb6c25eef7d": {
      "model_module": "@jupyter-widgets/controls",
      "model_module_version": "1.5.0",
      "model_name": "DescriptionStyleModel",
      "state": {
       "description_width": ""
      }
     },
     "12be4f245a0645898db4df1bb371a8f7": {
      "model_module": "@jupyter-widgets/controls",
      "model_module_version": "1.5.0",
      "model_name": "DescriptionStyleModel",
      "state": {
       "description_width": ""
      }
     },
     "13709969e8344b46be5f40379a82f624": {
      "model_module": "@jupyter-widgets/controls",
      "model_module_version": "1.5.0",
      "model_name": "FloatProgressModel",
      "state": {
       "layout": "IPY_MODEL_210533e1e8e8472f89808ccb8c22c42c",
       "max": 50,
       "style": "IPY_MODEL_f29f7eae995c468bbe3f96b23880968c",
       "value": 50
      }
     },
     "137d40835a8c4017a9ba77ce3c7d5b38": {
      "model_module": "@jupyter-widgets/base",
      "model_module_version": "1.2.0",
      "model_name": "LayoutModel",
      "state": {
       "flex": "2"
      }
     },
     "13a1233cfaed4365856b32438cb6d645": {
      "model_module": "@jupyter-widgets/controls",
      "model_module_version": "1.5.0",
      "model_name": "DescriptionStyleModel",
      "state": {
       "description_width": ""
      }
     },
     "13a6f4fc0624468788d97ac7f13f3a92": {
      "model_module": "@jupyter-widgets/base",
      "model_module_version": "1.2.0",
      "model_name": "LayoutModel",
      "state": {}
     },
     "13e3dfff95204971a70dd5d36326d263": {
      "model_module": "@jupyter-widgets/base",
      "model_module_version": "1.2.0",
      "model_name": "LayoutModel",
      "state": {}
     },
     "13ff61ca5f30483dbb641587e6db9cdc": {
      "model_module": "@jupyter-widgets/controls",
      "model_module_version": "1.5.0",
      "model_name": "FloatProgressModel",
      "state": {
       "layout": "IPY_MODEL_adc8b6ebdc1b4544ab762b2a6d330830",
       "max": 30,
       "style": "IPY_MODEL_91071e15da8f4569ab956e1b00190b8e",
       "value": 30
      }
     },
     "142988b3adda4844854502d2869eff52": {
      "model_module": "@jupyter-widgets/controls",
      "model_module_version": "1.5.0",
      "model_name": "DescriptionStyleModel",
      "state": {
       "description_width": ""
      }
     },
     "142ac88f3c4e485f8c9e03bb72da0fb5": {
      "model_module": "@jupyter-widgets/base",
      "model_module_version": "1.2.0",
      "model_name": "LayoutModel",
      "state": {}
     },
     "145be01a3eef45c29eed69a1eaa9a19c": {
      "model_module": "@jupyter-widgets/controls",
      "model_module_version": "1.5.0",
      "model_name": "HTMLModel",
      "state": {
       "layout": "IPY_MODEL_84aeadefe71e40eeb1efbef82d95d695",
       "style": "IPY_MODEL_4624ea79eafd4aaeb1eb367197828f88",
       "value": " 75/75 [00:08&lt;00:00, 12.16it/s]"
      }
     },
     "1495eaa8454643f39833f574f3196eac": {
      "model_module": "@jupyter-widgets/controls",
      "model_module_version": "1.5.0",
      "model_name": "HTMLModel",
      "state": {
       "layout": "IPY_MODEL_13a6f4fc0624468788d97ac7f13f3a92",
       "style": "IPY_MODEL_db5adf09cb0d4ab3bfa8c45080b0dd99",
       "value": "100%"
      }
     },
     "149bdc7eb27c4c6eb7c1ea87c9043e52": {
      "model_module": "@jupyter-widgets/controls",
      "model_module_version": "1.5.0",
      "model_name": "ProgressStyleModel",
      "state": {
       "description_width": ""
      }
     },
     "14c857a6d8e34e28a8e5bd053688ca88": {
      "model_module": "@jupyter-widgets/controls",
      "model_module_version": "1.5.0",
      "model_name": "DescriptionStyleModel",
      "state": {
       "description_width": ""
      }
     },
     "14d58b9426794e4b972fef9a6afed624": {
      "model_module": "@jupyter-widgets/controls",
      "model_module_version": "1.5.0",
      "model_name": "FloatProgressModel",
      "state": {
       "layout": "IPY_MODEL_3c58901252e6436c81fd31cb4c32e2e3",
       "max": 50,
       "style": "IPY_MODEL_62469f37b7c6401f92fb4527fbc563d0",
       "value": 50
      }
     },
     "14ee46b79a9647d1bb75adc8e160f12f": {
      "model_module": "@jupyter-widgets/controls",
      "model_module_version": "1.5.0",
      "model_name": "HTMLModel",
      "state": {
       "layout": "IPY_MODEL_0fac3de7b54e4b88b55b769e37d87672",
       "style": "IPY_MODEL_c6bad6918f04477e98d841f659906b3e",
       "value": "100%"
      }
     },
     "1518afddf6b048ce83d1b5aecde9ae43": {
      "model_module": "@jupyter-widgets/base",
      "model_module_version": "1.2.0",
      "model_name": "LayoutModel",
      "state": {}
     },
     "15c563fd82d347dfa3e6188598426f42": {
      "model_module": "@jupyter-widgets/base",
      "model_module_version": "1.2.0",
      "model_name": "LayoutModel",
      "state": {
       "display": "inline-flex",
       "flex_flow": "row wrap",
       "width": "100%"
      }
     },
     "15dc3a5ccd4a4a78ac20fa6fe44efb8d": {
      "model_module": "@jupyter-widgets/controls",
      "model_module_version": "1.5.0",
      "model_name": "HTMLModel",
      "state": {
       "layout": "IPY_MODEL_e67910e55eb84e0ca88a545f5f2ebf85",
       "style": "IPY_MODEL_522d27e56385490784e399b627e5c6f9",
       "value": " 80896/80896 [00:09&lt;00:00, 16444.27it/s]"
      }
     },
     "15f476df39f34e438c415330a4b0eb7e": {
      "model_module": "@jupyter-widgets/controls",
      "model_module_version": "1.5.0",
      "model_name": "FloatProgressModel",
      "state": {
       "layout": "IPY_MODEL_28abbbdbb6a444d99b5af3ca03fee414",
       "max": 5,
       "style": "IPY_MODEL_d0910cc435084de4b5c3b26a6e88fe8e",
       "value": 5
      }
     },
     "167a3448b0204cf6bff864d3475efc0e": {
      "model_module": "@jupyter-widgets/controls",
      "model_module_version": "1.5.0",
      "model_name": "HTMLModel",
      "state": {
       "layout": "IPY_MODEL_e1df649b7e8a4315966bf7b2e05823ec",
       "style": "IPY_MODEL_b64796d20b484e01835f1cb822013043",
       "value": "100%"
      }
     },
     "1689d7200a394bdbb29caf4b083a4503": {
      "model_module": "@jupyter-widgets/controls",
      "model_module_version": "1.5.0",
      "model_name": "DescriptionStyleModel",
      "state": {
       "description_width": ""
      }
     },
     "16bfec28c6ce4fb1a2ecdcb5fa02afa0": {
      "model_module": "@jupyter-widgets/base",
      "model_module_version": "1.2.0",
      "model_name": "LayoutModel",
      "state": {
       "flex": "2"
      }
     },
     "16cda906e81e4542bd725926d4bfc2e0": {
      "model_module": "@jupyter-widgets/controls",
      "model_module_version": "1.5.0",
      "model_name": "DescriptionStyleModel",
      "state": {
       "description_width": ""
      }
     },
     "16dcf96641884ba5bc5803e691e030b7": {
      "model_module": "@jupyter-widgets/controls",
      "model_module_version": "1.5.0",
      "model_name": "DescriptionStyleModel",
      "state": {
       "description_width": ""
      }
     },
     "16e850c9e4ce4ae6942518ad61a5d1d1": {
      "model_module": "@jupyter-widgets/base",
      "model_module_version": "1.2.0",
      "model_name": "LayoutModel",
      "state": {
       "flex": "2"
      }
     },
     "1706fb1e065f45cc90942fcfb65deef2": {
      "model_module": "@jupyter-widgets/base",
      "model_module_version": "1.2.0",
      "model_name": "LayoutModel",
      "state": {
       "display": "inline-flex",
       "flex_flow": "row wrap",
       "width": "100%"
      }
     },
     "17dccef8f51744cea8f06de65d1bd8dd": {
      "model_module": "@jupyter-widgets/base",
      "model_module_version": "1.2.0",
      "model_name": "LayoutModel",
      "state": {}
     },
     "18b5730a6d5a416c856333206158dc8c": {
      "model_module": "@jupyter-widgets/controls",
      "model_module_version": "1.5.0",
      "model_name": "HTMLModel",
      "state": {
       "layout": "IPY_MODEL_c57daf15452b48448641c4983d77d404",
       "style": "IPY_MODEL_296e6696647f46efb3b2ca1ddd60e690",
       "value": " 80896/80896 [00:05&lt;00:00, 10438.04it/s]"
      }
     },
     "18db2158288f4cab995ecb703e1af0a8": {
      "model_module": "@jupyter-widgets/controls",
      "model_module_version": "1.5.0",
      "model_name": "HTMLModel",
      "state": {
       "layout": "IPY_MODEL_57b4bd9182394e3fb6339e8e2ea5b5cb",
       "style": "IPY_MODEL_2e542d0658ec42f5ba35904272c832e2",
       "value": "100%"
      }
     },
     "18fd8e2e48f440c59d677713a252ac6c": {
      "model_module": "@jupyter-widgets/base",
      "model_module_version": "1.2.0",
      "model_name": "LayoutModel",
      "state": {
       "flex": "2"
      }
     },
     "190232387a9d46469a4a927b5363537c": {
      "model_module": "@jupyter-widgets/controls",
      "model_module_version": "1.5.0",
      "model_name": "HTMLModel",
      "state": {
       "layout": "IPY_MODEL_1a5937cd91aa4b0a9afb9631293e5a0a",
       "style": "IPY_MODEL_9d7da9c967644fb5b56815e09fe593a6",
       "value": " 80896/80896 [00:05&lt;00:00, 14931.47it/s]"
      }
     },
     "19073cb96a7347dd952ef0cd8f8916fb": {
      "model_module": "@jupyter-widgets/controls",
      "model_module_version": "1.5.0",
      "model_name": "DescriptionStyleModel",
      "state": {
       "description_width": ""
      }
     },
     "193a916f376b4360b4b7f8c186f9e212": {
      "model_module": "@jupyter-widgets/base",
      "model_module_version": "1.2.0",
      "model_name": "LayoutModel",
      "state": {}
     },
     "193ab2c856744eafa5ea389601318152": {
      "model_module": "@jupyter-widgets/controls",
      "model_module_version": "1.5.0",
      "model_name": "ProgressStyleModel",
      "state": {
       "description_width": ""
      }
     },
     "195c8a10a15b413aad602f01e3190026": {
      "model_module": "@jupyter-widgets/controls",
      "model_module_version": "1.5.0",
      "model_name": "HTMLModel",
      "state": {
       "layout": "IPY_MODEL_b76f765bba344738be0be25a44d3f2d1",
       "style": "IPY_MODEL_d8b51ef403e5415eb52749a434fdd5ea",
       "value": " 80896/80896 [00:05&lt;00:00, 14919.67it/s]"
      }
     },
     "19ca098c5fd44ad38d9b34f3de960dce": {
      "model_module": "@jupyter-widgets/controls",
      "model_module_version": "1.5.0",
      "model_name": "HTMLModel",
      "state": {
       "layout": "IPY_MODEL_193a916f376b4360b4b7f8c186f9e212",
       "style": "IPY_MODEL_1af0d4b29a1543ddb8c6880eeeeef890",
       "value": " 50/50 [00:59&lt;00:00,  2.34it/s]"
      }
     },
     "19e743511a1b42159645ee272aa36e34": {
      "model_module": "@jupyter-widgets/controls",
      "model_module_version": "1.5.0",
      "model_name": "FloatProgressModel",
      "state": {
       "layout": "IPY_MODEL_98970c1635384d4bbcfe6624b6a2477c",
       "max": 50,
       "style": "IPY_MODEL_e009b68421584125b006b724657a42a0",
       "value": 50
      }
     },
     "19eb7fb5e52143a9967af935124cee14": {
      "model_module": "@jupyter-widgets/controls",
      "model_module_version": "1.5.0",
      "model_name": "HTMLModel",
      "state": {
       "layout": "IPY_MODEL_1b1b3ba9354340cbbed46d7ef801857f",
       "style": "IPY_MODEL_a574cd0a0a744c74854c64b1d5e24e2c",
       "value": " 30/30 [00:04&lt;00:00,  9.45it/s]"
      }
     },
     "1a368308f2bc4084aa10502174bb2c48": {
      "model_module": "@jupyter-widgets/base",
      "model_module_version": "1.2.0",
      "model_name": "LayoutModel",
      "state": {}
     },
     "1a5937cd91aa4b0a9afb9631293e5a0a": {
      "model_module": "@jupyter-widgets/base",
      "model_module_version": "1.2.0",
      "model_name": "LayoutModel",
      "state": {}
     },
     "1a63d397842e44208bd26fe30c2f4e2a": {
      "model_module": "@jupyter-widgets/controls",
      "model_module_version": "1.5.0",
      "model_name": "ProgressStyleModel",
      "state": {
       "description_width": ""
      }
     },
     "1a8996cae1594577ab388c2e906ff0b1": {
      "model_module": "@jupyter-widgets/base",
      "model_module_version": "1.2.0",
      "model_name": "LayoutModel",
      "state": {}
     },
     "1abc9aa2066840a2b7b89c7b36fecf03": {
      "model_module": "@jupyter-widgets/controls",
      "model_module_version": "1.5.0",
      "model_name": "ProgressStyleModel",
      "state": {
       "description_width": ""
      }
     },
     "1acf26fbbb8b446eb40e8ccee62e0912": {
      "model_module": "@jupyter-widgets/controls",
      "model_module_version": "1.5.0",
      "model_name": "DescriptionStyleModel",
      "state": {
       "description_width": ""
      }
     },
     "1af0d4b29a1543ddb8c6880eeeeef890": {
      "model_module": "@jupyter-widgets/controls",
      "model_module_version": "1.5.0",
      "model_name": "DescriptionStyleModel",
      "state": {
       "description_width": ""
      }
     },
     "1b14f17886f149e4ae9a45c7af8a4080": {
      "model_module": "@jupyter-widgets/controls",
      "model_module_version": "1.5.0",
      "model_name": "ProgressStyleModel",
      "state": {
       "description_width": ""
      }
     },
     "1b1b3ba9354340cbbed46d7ef801857f": {
      "model_module": "@jupyter-widgets/base",
      "model_module_version": "1.2.0",
      "model_name": "LayoutModel",
      "state": {}
     },
     "1b3084c41745456586d4452f36ea6897": {
      "model_module": "@jupyter-widgets/controls",
      "model_module_version": "1.5.0",
      "model_name": "HTMLModel",
      "state": {
       "layout": "IPY_MODEL_d1a86848ba3f458485afac4c2293629e",
       "style": "IPY_MODEL_aa2bf7f940fc4b13bbe9a3d64e6699c5",
       "value": "100%"
      }
     },
     "1b64cefd2cdc4d6fb8e27a8170b7b52c": {
      "model_module": "@jupyter-widgets/controls",
      "model_module_version": "1.5.0",
      "model_name": "ProgressStyleModel",
      "state": {
       "description_width": ""
      }
     },
     "1c3f94780b8a4518b56b8ca8abe2e682": {
      "model_module": "@jupyter-widgets/controls",
      "model_module_version": "1.5.0",
      "model_name": "DescriptionStyleModel",
      "state": {
       "description_width": ""
      }
     },
     "1c4d49b4365445509b2e8851001f3ba8": {
      "model_module": "@jupyter-widgets/base",
      "model_module_version": "1.2.0",
      "model_name": "LayoutModel",
      "state": {
       "flex": "2"
      }
     },
     "1c97bf1b28cb48a883d1ac35f1d11524": {
      "model_module": "@jupyter-widgets/controls",
      "model_module_version": "1.5.0",
      "model_name": "ProgressStyleModel",
      "state": {
       "description_width": ""
      }
     },
     "1ca904bc62854416a64efd44a65bdfae": {
      "model_module": "@jupyter-widgets/base",
      "model_module_version": "1.2.0",
      "model_name": "LayoutModel",
      "state": {
       "display": "inline-flex",
       "flex_flow": "row wrap",
       "width": "100%"
      }
     },
     "1cab04cc773e4bf3a4f585956ef94958": {
      "model_module": "@jupyter-widgets/base",
      "model_module_version": "1.2.0",
      "model_name": "LayoutModel",
      "state": {
       "display": "inline-flex",
       "flex_flow": "row wrap",
       "width": "100%"
      }
     },
     "1cdc4b0ac9f14e3ababb7a86c48b6a34": {
      "model_module": "@jupyter-widgets/base",
      "model_module_version": "1.2.0",
      "model_name": "LayoutModel",
      "state": {
       "flex": "2"
      }
     },
     "1d570271a40d4511b1890fa431c0e7b8": {
      "model_module": "@jupyter-widgets/base",
      "model_module_version": "1.2.0",
      "model_name": "LayoutModel",
      "state": {
       "flex": "2"
      }
     },
     "1e7fb2b7b7284575a53a883dcd666bc3": {
      "model_module": "@jupyter-widgets/controls",
      "model_module_version": "1.5.0",
      "model_name": "HTMLModel",
      "state": {
       "layout": "IPY_MODEL_52536a39ea904d8b8a853e7b36518ed6",
       "style": "IPY_MODEL_20af50889b024c7ea72d9b82f93301e8",
       "value": "100%"
      }
     },
     "1e8ee0941444465f872c713a7b9624b3": {
      "model_module": "@jupyter-widgets/controls",
      "model_module_version": "1.5.0",
      "model_name": "HTMLModel",
      "state": {
       "layout": "IPY_MODEL_ecb4dcedb4bd4aed9c216e4f7fc5a5a5",
       "style": "IPY_MODEL_86af02a38ec94c88b67433b36c4d5d26",
       "value": " 200/200 [00:16&lt;00:00, 283.06it/s]"
      }
     },
     "1ea7a45cc94c4a15b0679cc50d35701c": {
      "model_module": "@jupyter-widgets/controls",
      "model_module_version": "1.5.0",
      "model_name": "DescriptionStyleModel",
      "state": {
       "description_width": ""
      }
     },
     "1eb46d4769ea42bf8909c7d89ba937f1": {
      "model_module": "@jupyter-widgets/controls",
      "model_module_version": "1.5.0",
      "model_name": "FloatProgressModel",
      "state": {
       "layout": "IPY_MODEL_6fe084f34a6a4eb5af3567e731aa12fd",
       "max": 50,
       "style": "IPY_MODEL_1abc9aa2066840a2b7b89c7b36fecf03",
       "value": 50
      }
     },
     "1ef7531bac7c486ca0a4fed4e4ec70c1": {
      "model_module": "@jupyter-widgets/base",
      "model_module_version": "1.2.0",
      "model_name": "LayoutModel",
      "state": {
       "display": "inline-flex",
       "flex_flow": "row wrap",
       "width": "100%"
      }
     },
     "1f1bec2b04c64f848ffdb06aa0551f23": {
      "model_module": "@jupyter-widgets/base",
      "model_module_version": "1.2.0",
      "model_name": "LayoutModel",
      "state": {
       "flex": "2"
      }
     },
     "1f3557bb952244a28674b0db381e80e7": {
      "model_module": "@jupyter-widgets/base",
      "model_module_version": "1.2.0",
      "model_name": "LayoutModel",
      "state": {
       "display": "inline-flex",
       "flex_flow": "row wrap",
       "width": "100%"
      }
     },
     "1ff3d322613b4fb59873b6bfed25a254": {
      "model_module": "@jupyter-widgets/base",
      "model_module_version": "1.2.0",
      "model_name": "LayoutModel",
      "state": {
       "flex": "2"
      }
     },
     "2007ee9e72b1473d8b171c72763368f7": {
      "model_module": "@jupyter-widgets/controls",
      "model_module_version": "1.5.0",
      "model_name": "FloatProgressModel",
      "state": {
       "layout": "IPY_MODEL_8f9b6b7fca3142f9ad3db01c6e6d1ce0",
       "max": 80896,
       "style": "IPY_MODEL_d56a6ffa0a224cea82e6395517b59bf4",
       "value": 80896
      }
     },
     "20085d5c7e5b429ebe4fa08a57b0394a": {
      "model_module": "@jupyter-widgets/controls",
      "model_module_version": "1.5.0",
      "model_name": "HTMLModel",
      "state": {
       "layout": "IPY_MODEL_4a1e2faa7d854c34aa2cd108c9daf179",
       "style": "IPY_MODEL_6d63ba1db79744c2acba18b8273e55d3",
       "value": "100%"
      }
     },
     "20af50889b024c7ea72d9b82f93301e8": {
      "model_module": "@jupyter-widgets/controls",
      "model_module_version": "1.5.0",
      "model_name": "DescriptionStyleModel",
      "state": {
       "description_width": ""
      }
     },
     "20b52ef666144d1ea9c2bc00fcb07690": {
      "model_module": "@jupyter-widgets/base",
      "model_module_version": "1.2.0",
      "model_name": "LayoutModel",
      "state": {}
     },
     "20f70ff060e04f21ac5816bf1d07873b": {
      "model_module": "@jupyter-widgets/controls",
      "model_module_version": "1.5.0",
      "model_name": "FloatProgressModel",
      "state": {
       "layout": "IPY_MODEL_26d625c46bc14c18820dc7d557820d7d",
       "max": 30,
       "style": "IPY_MODEL_b536648efbb94d958a00452d8082c531",
       "value": 30
      }
     },
     "210533e1e8e8472f89808ccb8c22c42c": {
      "model_module": "@jupyter-widgets/base",
      "model_module_version": "1.2.0",
      "model_name": "LayoutModel",
      "state": {
       "flex": "2"
      }
     },
     "214f9e9e495b410f86e48423f0892a33": {
      "model_module": "@jupyter-widgets/base",
      "model_module_version": "1.2.0",
      "model_name": "LayoutModel",
      "state": {}
     },
     "2170d16032964a38a1ec0b9e94e16337": {
      "model_module": "@jupyter-widgets/base",
      "model_module_version": "1.2.0",
      "model_name": "LayoutModel",
      "state": {}
     },
     "21c2a3cafb7449618688c887e17bcdc2": {
      "model_module": "@jupyter-widgets/controls",
      "model_module_version": "1.5.0",
      "model_name": "HTMLModel",
      "state": {
       "layout": "IPY_MODEL_c4a2594c181c4d908b2a3eecee18e157",
       "style": "IPY_MODEL_3207f083bd034b748599ab4b0345145b",
       "value": " 450/450 [00:56&lt;00:00,  8.40it/s]"
      }
     },
     "220bbd82469d447296bfcdfdad03b296": {
      "model_module": "@jupyter-widgets/base",
      "model_module_version": "1.2.0",
      "model_name": "LayoutModel",
      "state": {}
     },
     "2223d279f2614a809524860203c11930": {
      "model_module": "@jupyter-widgets/controls",
      "model_module_version": "1.5.0",
      "model_name": "HTMLModel",
      "state": {
       "layout": "IPY_MODEL_fb9a71b79972477dbe81287f4daa617a",
       "style": "IPY_MODEL_1689d7200a394bdbb29caf4b083a4503",
       "value": " 50/50 [00:07&lt;00:00, 14.61it/s]"
      }
     },
     "22e7e88056d244f39bd56ddb8fc6364d": {
      "model_module": "@jupyter-widgets/base",
      "model_module_version": "1.2.0",
      "model_name": "LayoutModel",
      "state": {}
     },
     "2342f86b848e414e9f4dd4a45948b783": {
      "model_module": "@jupyter-widgets/controls",
      "model_module_version": "1.5.0",
      "model_name": "HTMLModel",
      "state": {
       "layout": "IPY_MODEL_0fc9b7b0fb3346ab951fec66b9c16195",
       "style": "IPY_MODEL_6665a14047dd44c994a8bf697af28d3f",
       "value": "100%"
      }
     },
     "23439931a5254ca2b750c00e68f50994": {
      "model_module": "@jupyter-widgets/controls",
      "model_module_version": "1.5.0",
      "model_name": "DescriptionStyleModel",
      "state": {
       "description_width": ""
      }
     },
     "2519c5b0574d4a52ad78ce2bef36beb2": {
      "model_module": "@jupyter-widgets/base",
      "model_module_version": "1.2.0",
      "model_name": "LayoutModel",
      "state": {
       "flex": "2"
      }
     },
     "251b3f72f7fd433ab232b6491d6294f9": {
      "model_module": "@jupyter-widgets/controls",
      "model_module_version": "1.5.0",
      "model_name": "ProgressStyleModel",
      "state": {
       "description_width": ""
      }
     },
     "2545151155414f4d8f2eb0e2f801a481": {
      "model_module": "@jupyter-widgets/controls",
      "model_module_version": "1.5.0",
      "model_name": "ProgressStyleModel",
      "state": {
       "description_width": ""
      }
     },
     "25783738099b4cd591409b0feadf0bc7": {
      "model_module": "@jupyter-widgets/controls",
      "model_module_version": "1.5.0",
      "model_name": "ProgressStyleModel",
      "state": {
       "description_width": ""
      }
     },
     "25a28647195c4868a8396f096ce2b44b": {
      "model_module": "@jupyter-widgets/base",
      "model_module_version": "1.2.0",
      "model_name": "LayoutModel",
      "state": {}
     },
     "26062640c3684cdc8ca0bc30eff821f9": {
      "model_module": "@jupyter-widgets/base",
      "model_module_version": "1.2.0",
      "model_name": "LayoutModel",
      "state": {}
     },
     "268af46a14894087821ff26f27a89c27": {
      "model_module": "@jupyter-widgets/base",
      "model_module_version": "1.2.0",
      "model_name": "LayoutModel",
      "state": {
       "flex": "2"
      }
     },
     "26d625c46bc14c18820dc7d557820d7d": {
      "model_module": "@jupyter-widgets/base",
      "model_module_version": "1.2.0",
      "model_name": "LayoutModel",
      "state": {
       "flex": "2"
      }
     },
     "26ffbcf11ceb4d3b8ea2a9c4c948b36a": {
      "model_module": "@jupyter-widgets/controls",
      "model_module_version": "1.5.0",
      "model_name": "DescriptionStyleModel",
      "state": {
       "description_width": ""
      }
     },
     "271d134d203b46d8a137292f5d208822": {
      "model_module": "@jupyter-widgets/base",
      "model_module_version": "1.2.0",
      "model_name": "LayoutModel",
      "state": {}
     },
     "27c2330db2da42bca5a208e5fa916867": {
      "model_module": "@jupyter-widgets/controls",
      "model_module_version": "1.5.0",
      "model_name": "DescriptionStyleModel",
      "state": {
       "description_width": ""
      }
     },
     "27c302ee046343d8bc481cf615d1e57d": {
      "model_module": "@jupyter-widgets/controls",
      "model_module_version": "1.5.0",
      "model_name": "DescriptionStyleModel",
      "state": {
       "description_width": ""
      }
     },
     "27c9d2a0e09b43f69bc80c9162b3c66f": {
      "model_module": "@jupyter-widgets/controls",
      "model_module_version": "1.5.0",
      "model_name": "HTMLModel",
      "state": {
       "layout": "IPY_MODEL_78726561d0174dd9896c76e7c9f7ff53",
       "style": "IPY_MODEL_1c3f94780b8a4518b56b8ca8abe2e682",
       "value": "100%"
      }
     },
     "281db0f73ba54a54a5dee65d5bbda6ae": {
      "model_module": "@jupyter-widgets/controls",
      "model_module_version": "1.5.0",
      "model_name": "HTMLModel",
      "state": {
       "layout": "IPY_MODEL_5ce04e62d0bf4f699182116c19fa879c",
       "style": "IPY_MODEL_a8c8667bdcbb455091d309f15238ffd6",
       "value": "100%"
      }
     },
     "2826d8f0ea764fffa3ecdefd64da9254": {
      "model_module": "@jupyter-widgets/base",
      "model_module_version": "1.2.0",
      "model_name": "LayoutModel",
      "state": {
       "display": "inline-flex",
       "flex_flow": "row wrap",
       "width": "100%"
      }
     },
     "283002e4ab8f4dc6be3ad95a92099b0e": {
      "model_module": "@jupyter-widgets/base",
      "model_module_version": "1.2.0",
      "model_name": "LayoutModel",
      "state": {
       "display": "inline-flex",
       "flex_flow": "row wrap",
       "width": "100%"
      }
     },
     "289e64ea3e3044ecae5a4d044aa7b050": {
      "model_module": "@jupyter-widgets/controls",
      "model_module_version": "1.5.0",
      "model_name": "FloatProgressModel",
      "state": {
       "layout": "IPY_MODEL_785f29c4f99b4e3d96608c3e69df0a1c",
       "max": 50,
       "style": "IPY_MODEL_6f1d1b3e63164c9c8b68f0370c6b2948",
       "value": 50
      }
     },
     "28abbbdbb6a444d99b5af3ca03fee414": {
      "model_module": "@jupyter-widgets/base",
      "model_module_version": "1.2.0",
      "model_name": "LayoutModel",
      "state": {
       "flex": "2"
      }
     },
     "28c0be8b53c144ddb1fcaa87a9f18ed9": {
      "model_module": "@jupyter-widgets/controls",
      "model_module_version": "1.5.0",
      "model_name": "HTMLModel",
      "state": {
       "layout": "IPY_MODEL_65cd1ef35b184f2680f121f740d9fac2",
       "style": "IPY_MODEL_48eefe2b449a4eabbd41d22f5efdabcc",
       "value": " 50/50 [00:08&lt;00:00,  1.49it/s]"
      }
     },
     "296e6696647f46efb3b2ca1ddd60e690": {
      "model_module": "@jupyter-widgets/controls",
      "model_module_version": "1.5.0",
      "model_name": "DescriptionStyleModel",
      "state": {
       "description_width": ""
      }
     },
     "29e92fceba74440882732df19f4e9e4d": {
      "model_module": "@jupyter-widgets/base",
      "model_module_version": "1.2.0",
      "model_name": "LayoutModel",
      "state": {}
     },
     "2a0bf860b678434db724eeb23d394587": {
      "model_module": "@jupyter-widgets/controls",
      "model_module_version": "1.5.0",
      "model_name": "HTMLModel",
      "state": {
       "layout": "IPY_MODEL_d3d74568ee514c3a8fca0f3df2c626ef",
       "style": "IPY_MODEL_cd6b77df0780441da8fccb298a51ccec",
       "value": " 80896/80896 [00:07&lt;00:00, 16341.38it/s]"
      }
     },
     "2a10a6b40a074276a2492031b509d76f": {
      "model_module": "@jupyter-widgets/base",
      "model_module_version": "1.2.0",
      "model_name": "LayoutModel",
      "state": {
       "display": "inline-flex",
       "flex_flow": "row wrap",
       "width": "100%"
      }
     },
     "2a3342c9410f4f30ab8679dba2ae4481": {
      "model_module": "@jupyter-widgets/controls",
      "model_module_version": "1.5.0",
      "model_name": "FloatProgressModel",
      "state": {
       "layout": "IPY_MODEL_6e2a7d82684a4b4a9ce5b5ca25575270",
       "max": 80896,
       "style": "IPY_MODEL_31205edc654a4b2698d62d5b3feec58c",
       "value": 80896
      }
     },
     "2acc0479502b4d578c273c8f12ba6408": {
      "model_module": "@jupyter-widgets/controls",
      "model_module_version": "1.5.0",
      "model_name": "HTMLModel",
      "state": {
       "layout": "IPY_MODEL_d769653fa9ef4270ba2155eb1ec004a2",
       "style": "IPY_MODEL_da7ddd43247442adbd7eddeb2df6ee70",
       "value": "100%"
      }
     },
     "2ae0446481bf4418b2ea18ef6a489d92": {
      "model_module": "@jupyter-widgets/controls",
      "model_module_version": "1.5.0",
      "model_name": "DescriptionStyleModel",
      "state": {
       "description_width": ""
      }
     },
     "2ae64521871342168bf3447afb1a1b5e": {
      "model_module": "@jupyter-widgets/controls",
      "model_module_version": "1.5.0",
      "model_name": "ProgressStyleModel",
      "state": {
       "description_width": ""
      }
     },
     "2b269c49cff24de3a6b8617c6b97af22": {
      "model_module": "@jupyter-widgets/controls",
      "model_module_version": "1.5.0",
      "model_name": "HTMLModel",
      "state": {
       "layout": "IPY_MODEL_8bfa7c01031e490086a4eebed769bd80",
       "style": "IPY_MODEL_19073cb96a7347dd952ef0cd8f8916fb",
       "value": "100%"
      }
     },
     "2b2aab20c77c427cbb40590bddce7d5b": {
      "model_module": "@jupyter-widgets/controls",
      "model_module_version": "1.5.0",
      "model_name": "HTMLModel",
      "state": {
       "layout": "IPY_MODEL_877be02499a14c21b7e7f502cb9700ac",
       "style": "IPY_MODEL_9623c284b6c64616ac0b4d90f7aa2200",
       "value": " 50/50 [00:08&lt;00:00,  2.32it/s]"
      }
     },
     "2bf134bd3ddb4610ad3f184459783366": {
      "model_module": "@jupyter-widgets/controls",
      "model_module_version": "1.5.0",
      "model_name": "ProgressStyleModel",
      "state": {
       "description_width": ""
      }
     },
     "2c061ed7c568492f9d808b03ae193ac7": {
      "model_module": "@jupyter-widgets/base",
      "model_module_version": "1.2.0",
      "model_name": "LayoutModel",
      "state": {
       "display": "inline-flex",
       "flex_flow": "row wrap",
       "width": "100%"
      }
     },
     "2c4acf8dd01b4f7ebb85c74b4bbb3a2d": {
      "model_module": "@jupyter-widgets/controls",
      "model_module_version": "1.5.0",
      "model_name": "DescriptionStyleModel",
      "state": {
       "description_width": ""
      }
     },
     "2c69c8699a674ec5bae16dea5671af0f": {
      "model_module": "@jupyter-widgets/controls",
      "model_module_version": "1.5.0",
      "model_name": "HTMLModel",
      "state": {
       "layout": "IPY_MODEL_29e92fceba74440882732df19f4e9e4d",
       "style": "IPY_MODEL_0005e368b98348d79db4a2518b4953c8",
       "value": "100%"
      }
     },
     "2d064d10382e479ab2756fce941bd22c": {
      "model_module": "@jupyter-widgets/controls",
      "model_module_version": "1.5.0",
      "model_name": "HTMLModel",
      "state": {
       "layout": "IPY_MODEL_a00303483a4b40dda507443ac6ab0f38",
       "style": "IPY_MODEL_3f36af75dd704b6193c5c05a7ce1b919",
       "value": " 50/50 [00:10&lt;00:00, 12.53it/s]"
      }
     },
     "2d3fe1f4d62b4a13869465218d2da719": {
      "model_module": "@jupyter-widgets/base",
      "model_module_version": "1.2.0",
      "model_name": "LayoutModel",
      "state": {
       "display": "inline-flex",
       "flex_flow": "row wrap",
       "width": "100%"
      }
     },
     "2d7409c2d045444aa4f3f92d317949e4": {
      "model_module": "@jupyter-widgets/base",
      "model_module_version": "1.2.0",
      "model_name": "LayoutModel",
      "state": {}
     },
     "2da16ee6c6cf4e2182c2ff87d1036837": {
      "model_module": "@jupyter-widgets/controls",
      "model_module_version": "1.5.0",
      "model_name": "HTMLModel",
      "state": {
       "layout": "IPY_MODEL_49f6814e8d1142abbde8affc3c7887ee",
       "style": "IPY_MODEL_589d9e3826194aeca687a0e1fd79b707",
       "value": " 200/200 [01:15&lt;00:00, 27.12it/s]"
      }
     },
     "2da8d587b1e34e948fbdbe411d75225a": {
      "model_module": "@jupyter-widgets/controls",
      "model_module_version": "1.5.0",
      "model_name": "DescriptionStyleModel",
      "state": {
       "description_width": ""
      }
     },
     "2dcbc0b87bd54f1eb320db54ef3b2e20": {
      "model_module": "@jupyter-widgets/controls",
      "model_module_version": "1.5.0",
      "model_name": "HTMLModel",
      "state": {
       "layout": "IPY_MODEL_4386ff396ccb4e9fbbb1290bda24cbaa",
       "style": "IPY_MODEL_1174be2647e9429d9c2e7c3fa4f44e32",
       "value": " 80896/80896 [00:05&lt;00:00, 16022.85it/s]"
      }
     },
     "2e158e8a389a4aa19438ed1926421c51": {
      "model_module": "@jupyter-widgets/base",
      "model_module_version": "1.2.0",
      "model_name": "LayoutModel",
      "state": {
       "flex": "2"
      }
     },
     "2e542d0658ec42f5ba35904272c832e2": {
      "model_module": "@jupyter-widgets/controls",
      "model_module_version": "1.5.0",
      "model_name": "DescriptionStyleModel",
      "state": {
       "description_width": ""
      }
     },
     "2e714da956914f02a8377af67fffb027": {
      "model_module": "@jupyter-widgets/controls",
      "model_module_version": "1.5.0",
      "model_name": "DescriptionStyleModel",
      "state": {
       "description_width": ""
      }
     },
     "2f8a373c64d541af8cc02e8c832a2982": {
      "model_module": "@jupyter-widgets/controls",
      "model_module_version": "1.5.0",
      "model_name": "ProgressStyleModel",
      "state": {
       "description_width": ""
      }
     },
     "2ff00e2d324a44f6825e0d97223793c0": {
      "model_module": "@jupyter-widgets/base",
      "model_module_version": "1.2.0",
      "model_name": "LayoutModel",
      "state": {
       "display": "inline-flex",
       "flex_flow": "row wrap",
       "width": "100%"
      }
     },
     "30048241832d4abbbb91dd56c43bc6d0": {
      "model_module": "@jupyter-widgets/controls",
      "model_module_version": "1.5.0",
      "model_name": "DescriptionStyleModel",
      "state": {
       "description_width": ""
      }
     },
     "3094340c91d447778d354099ddf5fe5e": {
      "model_module": "@jupyter-widgets/controls",
      "model_module_version": "1.5.0",
      "model_name": "HTMLModel",
      "state": {
       "layout": "IPY_MODEL_46a4c5440a2b4b339368ea26d805aecd",
       "style": "IPY_MODEL_8676f35667fc46dab96d937b3a986459",
       "value": "100%"
      }
     },
     "30ab468caf724050bcdfcd6f0b6ac5b7": {
      "model_module": "@jupyter-widgets/controls",
      "model_module_version": "1.5.0",
      "model_name": "HTMLModel",
      "state": {
       "layout": "IPY_MODEL_0b22785e2e7d4b90a73083addd144c4f",
       "style": "IPY_MODEL_ec90cbaee39a414a866e9d948668e254",
       "value": "100%"
      }
     },
     "30d106a0c202481a84f6e5eaf0a606ad": {
      "model_module": "@jupyter-widgets/base",
      "model_module_version": "1.2.0",
      "model_name": "LayoutModel",
      "state": {}
     },
     "30d559266544416e8fa7893e224ec1de": {
      "model_module": "@jupyter-widgets/controls",
      "model_module_version": "1.5.0",
      "model_name": "FloatProgressModel",
      "state": {
       "layout": "IPY_MODEL_f2ca299173b04e469ddeb2673db71f17",
       "max": 80896,
       "style": "IPY_MODEL_ddaf4f1aee664ff789619211fcdb5eed",
       "value": 80896
      }
     },
     "30feeb613b9d460bbbe07182239a1417": {
      "model_module": "@jupyter-widgets/controls",
      "model_module_version": "1.5.0",
      "model_name": "DescriptionStyleModel",
      "state": {
       "description_width": ""
      }
     },
     "31108622e98a4b3683ad9dbfaa72e59f": {
      "model_module": "@jupyter-widgets/base",
      "model_module_version": "1.2.0",
      "model_name": "LayoutModel",
      "state": {
       "display": "inline-flex",
       "flex_flow": "row wrap",
       "width": "100%"
      }
     },
     "31205edc654a4b2698d62d5b3feec58c": {
      "model_module": "@jupyter-widgets/controls",
      "model_module_version": "1.5.0",
      "model_name": "ProgressStyleModel",
      "state": {
       "description_width": ""
      }
     },
     "31c5e53362354df6ba5d053d77481f89": {
      "model_module": "@jupyter-widgets/controls",
      "model_module_version": "1.5.0",
      "model_name": "ProgressStyleModel",
      "state": {
       "description_width": ""
      }
     },
     "31eb7127051543879311ef80083e1d12": {
      "model_module": "@jupyter-widgets/base",
      "model_module_version": "1.2.0",
      "model_name": "LayoutModel",
      "state": {
       "display": "inline-flex",
       "flex_flow": "row wrap",
       "width": "100%"
      }
     },
     "3207f083bd034b748599ab4b0345145b": {
      "model_module": "@jupyter-widgets/controls",
      "model_module_version": "1.5.0",
      "model_name": "DescriptionStyleModel",
      "state": {
       "description_width": ""
      }
     },
     "324932d4df034dadab5c0ee923cd5514": {
      "model_module": "@jupyter-widgets/base",
      "model_module_version": "1.2.0",
      "model_name": "LayoutModel",
      "state": {
       "flex": "2"
      }
     },
     "329ddf27a64c4bb88e6c3d86facccab0": {
      "model_module": "@jupyter-widgets/controls",
      "model_module_version": "1.5.0",
      "model_name": "HTMLModel",
      "state": {
       "layout": "IPY_MODEL_9b128d975b254b33bef71b32ebd498d5",
       "style": "IPY_MODEL_5cb1bc8165d84e7286f0e3cf409ee8bd",
       "value": " 80896/80896 [00:05&lt;00:00, 15932.04it/s]"
      }
     },
     "32a018e1c91442aca0fa4d0c6099b4e6": {
      "model_module": "@jupyter-widgets/base",
      "model_module_version": "1.2.0",
      "model_name": "LayoutModel",
      "state": {
       "display": "inline-flex",
       "flex_flow": "row wrap",
       "width": "100%"
      }
     },
     "32a5742e9101414296c0212570169e45": {
      "model_module": "@jupyter-widgets/controls",
      "model_module_version": "1.5.0",
      "model_name": "ProgressStyleModel",
      "state": {
       "description_width": ""
      }
     },
     "32d4d49028ed49d68242d484e5c757a8": {
      "model_module": "@jupyter-widgets/controls",
      "model_module_version": "1.5.0",
      "model_name": "HTMLModel",
      "state": {
       "layout": "IPY_MODEL_8799ddc0396a40f49000519a3be9437b",
       "style": "IPY_MODEL_4a4b8d29bbd84f36affeb5a5dbea9d89",
       "value": " 80896/80896 [01:43&lt;00:00, 15993.24it/s]"
      }
     },
     "32d5746f287b4233abd7b2ff4c382f8d": {
      "model_module": "@jupyter-widgets/base",
      "model_module_version": "1.2.0",
      "model_name": "LayoutModel",
      "state": {
       "flex": "2"
      }
     },
     "33311ee24ace4f84a255cd2530394af8": {
      "model_module": "@jupyter-widgets/controls",
      "model_module_version": "1.5.0",
      "model_name": "DescriptionStyleModel",
      "state": {
       "description_width": ""
      }
     },
     "3352378e75224869ab869424656732c4": {
      "model_module": "@jupyter-widgets/base",
      "model_module_version": "1.2.0",
      "model_name": "LayoutModel",
      "state": {}
     },
     "342e968c3e734806ac9c2256a71e0ce3": {
      "model_module": "@jupyter-widgets/base",
      "model_module_version": "1.2.0",
      "model_name": "LayoutModel",
      "state": {
       "flex": "2"
      }
     },
     "34412bd1ea1d4bada88f027417783b04": {
      "model_module": "@jupyter-widgets/controls",
      "model_module_version": "1.5.0",
      "model_name": "ProgressStyleModel",
      "state": {
       "description_width": ""
      }
     },
     "346d52c4c12f49cb80c47d64f0003465": {
      "model_module": "@jupyter-widgets/base",
      "model_module_version": "1.2.0",
      "model_name": "LayoutModel",
      "state": {
       "display": "inline-flex",
       "flex_flow": "row wrap",
       "width": "100%"
      }
     },
     "347962030c984bbc81a2014a28f5851f": {
      "model_module": "@jupyter-widgets/controls",
      "model_module_version": "1.5.0",
      "model_name": "HTMLModel",
      "state": {
       "layout": "IPY_MODEL_8c02c07e162348d8a893df34f58e8d15",
       "style": "IPY_MODEL_0784cf4449614e1e8101aa3014633e6e",
       "value": "100%"
      }
     },
     "34d300e23a104d56b838f4b95e913ff9": {
      "model_module": "@jupyter-widgets/controls",
      "model_module_version": "1.5.0",
      "model_name": "HTMLModel",
      "state": {
       "layout": "IPY_MODEL_e311fcda3dd546a09d8d17abd994536a",
       "style": "IPY_MODEL_b85dd7855fcb4fdb8a8bd807f6c003ff",
       "value": "100%"
      }
     },
     "34fdc7f3ba2a453fa610326dc9aa0dc2": {
      "model_module": "@jupyter-widgets/base",
      "model_module_version": "1.2.0",
      "model_name": "LayoutModel",
      "state": {
       "display": "inline-flex",
       "flex_flow": "row wrap",
       "width": "100%"
      }
     },
     "350f0ed6ad674abb8985f775088fc664": {
      "model_module": "@jupyter-widgets/base",
      "model_module_version": "1.2.0",
      "model_name": "LayoutModel",
      "state": {}
     },
     "351433bad4b2454c9b777966f2567314": {
      "model_module": "@jupyter-widgets/controls",
      "model_module_version": "1.5.0",
      "model_name": "DescriptionStyleModel",
      "state": {
       "description_width": ""
      }
     },
     "35526612c92e40d18ece61ec145443cb": {
      "model_module": "@jupyter-widgets/base",
      "model_module_version": "1.2.0",
      "model_name": "LayoutModel",
      "state": {}
     },
     "3599a8a6cecf424db4bac440f5c4fddd": {
      "model_module": "@jupyter-widgets/controls",
      "model_module_version": "1.5.0",
      "model_name": "ProgressStyleModel",
      "state": {
       "description_width": ""
      }
     },
     "35a6583b0abb465ebf6f0ca8159b16c8": {
      "model_module": "@jupyter-widgets/controls",
      "model_module_version": "1.5.0",
      "model_name": "FloatProgressModel",
      "state": {
       "layout": "IPY_MODEL_137d40835a8c4017a9ba77ce3c7d5b38",
       "max": 80896,
       "style": "IPY_MODEL_4eb8a87b17c54103b83c208585870db6",
       "value": 80896
      }
     },
     "35e5d13832f443ce8175229c099979b3": {
      "model_module": "@jupyter-widgets/controls",
      "model_module_version": "1.5.0",
      "model_name": "ProgressStyleModel",
      "state": {
       "description_width": ""
      }
     },
     "363efad2321a408baaa1e117cc97fc42": {
      "model_module": "@jupyter-widgets/controls",
      "model_module_version": "1.5.0",
      "model_name": "FloatProgressModel",
      "state": {
       "layout": "IPY_MODEL_e707916b75804267ae2b1dff7769b6bb",
       "max": 80896,
       "style": "IPY_MODEL_5d5e91cdab1f4da1a04dcbf0ebec6138",
       "value": 80896
      }
     },
     "364da0ee25984f36b729ee2c7f2a37aa": {
      "model_module": "@jupyter-widgets/base",
      "model_module_version": "1.2.0",
      "model_name": "LayoutModel",
      "state": {
       "flex": "2"
      }
     },
     "3693c85a19a0478ea1fedf1a1dc56fbf": {
      "model_module": "@jupyter-widgets/base",
      "model_module_version": "1.2.0",
      "model_name": "LayoutModel",
      "state": {
       "display": "inline-flex",
       "flex_flow": "row wrap",
       "width": "100%"
      }
     },
     "36dbc5d42f84423591ffe6634f84af06": {
      "model_module": "@jupyter-widgets/base",
      "model_module_version": "1.2.0",
      "model_name": "LayoutModel",
      "state": {
       "display": "inline-flex",
       "flex_flow": "row wrap",
       "width": "100%"
      }
     },
     "36f807c11b04410fa39fb7cc45757801": {
      "model_module": "@jupyter-widgets/base",
      "model_module_version": "1.2.0",
      "model_name": "LayoutModel",
      "state": {}
     },
     "372e426e1b9e4c548c5ae83918451df1": {
      "model_module": "@jupyter-widgets/base",
      "model_module_version": "1.2.0",
      "model_name": "LayoutModel",
      "state": {
       "display": "inline-flex",
       "flex_flow": "row wrap",
       "width": "100%"
      }
     },
     "376c7e44a14c4928b8b39d1f98d7dc8b": {
      "model_module": "@jupyter-widgets/controls",
      "model_module_version": "1.5.0",
      "model_name": "ProgressStyleModel",
      "state": {
       "description_width": ""
      }
     },
     "37719099ffe84ae0b7238aed5de2c11e": {
      "model_module": "@jupyter-widgets/controls",
      "model_module_version": "1.5.0",
      "model_name": "FloatProgressModel",
      "state": {
       "layout": "IPY_MODEL_86f15d39752a49a697c8037ac9d7abeb",
       "max": 200,
       "style": "IPY_MODEL_537cdb0c2a784254919da8dd37318bc3",
       "value": 200
      }
     },
     "37b4c22c1acb44598d763398342120af": {
      "model_module": "@jupyter-widgets/controls",
      "model_module_version": "1.5.0",
      "model_name": "FloatProgressModel",
      "state": {
       "layout": "IPY_MODEL_edbbccf9e1174af1823ce3786b8d2748",
       "max": 80896,
       "style": "IPY_MODEL_b15359319c0d4bf0983d0e1e465c0b25",
       "value": 80896
      }
     },
     "37eaff6f4d6344eebc6f8c97b7c7db15": {
      "model_module": "@jupyter-widgets/controls",
      "model_module_version": "1.5.0",
      "model_name": "DescriptionStyleModel",
      "state": {
       "description_width": ""
      }
     },
     "386458e478b44a1493fc65f132a02ef4": {
      "model_module": "@jupyter-widgets/controls",
      "model_module_version": "1.5.0",
      "model_name": "HTMLModel",
      "state": {
       "layout": "IPY_MODEL_4e366aaec3fd4707ac2412d9ba4ea17b",
       "style": "IPY_MODEL_f8871d8a8f3a4d948601e3f262457bde",
       "value": " 80896/80896 [00:05&lt;00:00, 14420.37it/s]"
      }
     },
     "3879a9ef8ff5494f864ed27d8487d00c": {
      "model_module": "@jupyter-widgets/base",
      "model_module_version": "1.2.0",
      "model_name": "LayoutModel",
      "state": {
       "display": "inline-flex",
       "flex_flow": "row wrap",
       "width": "100%"
      }
     },
     "38d4116ee3b84bbcaa73e9573186de37": {
      "model_module": "@jupyter-widgets/controls",
      "model_module_version": "1.5.0",
      "model_name": "HTMLModel",
      "state": {
       "layout": "IPY_MODEL_7fc29add3e354e53ae0d72ef72dff36a",
       "style": "IPY_MODEL_3be462afe4a64a869fdffe9c14eace79",
       "value": " 80896/80896 [00:09&lt;00:00, 2253.63it/s]"
      }
     },
     "38e6f4676c8d40e3999132ae877af045": {
      "model_module": "@jupyter-widgets/base",
      "model_module_version": "1.2.0",
      "model_name": "LayoutModel",
      "state": {}
     },
     "394677f5afa4471fb8111034733e855c": {
      "model_module": "@jupyter-widgets/controls",
      "model_module_version": "1.5.0",
      "model_name": "HTMLModel",
      "state": {
       "layout": "IPY_MODEL_c136de8e698d4864849688eda18b028a",
       "style": "IPY_MODEL_872627f6a1df4694bd886006bb31eedd",
       "value": "100%"
      }
     },
     "3971c051f0334ceda66382cd3a48e32b": {
      "model_module": "@jupyter-widgets/controls",
      "model_module_version": "1.5.0",
      "model_name": "HTMLModel",
      "state": {
       "layout": "IPY_MODEL_acefe53f53f2480fab76d6048b5710c2",
       "style": "IPY_MODEL_e3bfa0f8f0994f3c83868cde2b21251e",
       "value": " 80896/80896 [00:04&lt;00:00, 17256.34it/s]"
      }
     },
     "39761d22b76945e49c92960b132cd4c9": {
      "model_module": "@jupyter-widgets/controls",
      "model_module_version": "1.5.0",
      "model_name": "HTMLModel",
      "state": {
       "layout": "IPY_MODEL_693eeadae53b4c70bb068823112ed276",
       "style": "IPY_MODEL_7c9eacd9340240d090349455302d7b57",
       "value": " 5/5 [00:01&lt;00:00,  4.50it/s]"
      }
     },
     "3a05219a2c7545fb94325fb314c2cc77": {
      "model_module": "@jupyter-widgets/controls",
      "model_module_version": "1.5.0",
      "model_name": "HTMLModel",
      "state": {
       "layout": "IPY_MODEL_6711e5e5b913475c97b87830e5e1b58f",
       "style": "IPY_MODEL_72bcb95b262a42d1abe7b9c78fcdc71c",
       "value": "100%"
      }
     },
     "3a87e7067301459694aa5ddfe3d146ad": {
      "model_module": "@jupyter-widgets/base",
      "model_module_version": "1.2.0",
      "model_name": "LayoutModel",
      "state": {}
     },
     "3aaa48a4abf7404fa1aafd925cdcc26c": {
      "model_module": "@jupyter-widgets/base",
      "model_module_version": "1.2.0",
      "model_name": "LayoutModel",
      "state": {}
     },
     "3ab1561561fd4ce5a9ad853e29fd8de4": {
      "model_module": "@jupyter-widgets/controls",
      "model_module_version": "1.5.0",
      "model_name": "DescriptionStyleModel",
      "state": {
       "description_width": ""
      }
     },
     "3ab3cface3c04535b0e97c18dc1d781c": {
      "model_module": "@jupyter-widgets/base",
      "model_module_version": "1.2.0",
      "model_name": "LayoutModel",
      "state": {
       "flex": "2"
      }
     },
     "3b1c80b925e34c7aba85c273cf1795e7": {
      "model_module": "@jupyter-widgets/controls",
      "model_module_version": "1.5.0",
      "model_name": "HTMLModel",
      "state": {
       "layout": "IPY_MODEL_1518afddf6b048ce83d1b5aecde9ae43",
       "style": "IPY_MODEL_ea10f4f936cd43739084a8fd2e0113b9",
       "value": " 650/650 [01:24&lt;00:00,  8.42it/s]"
      }
     },
     "3b376bcf4cb941169e0a344d9a3cac3b": {
      "model_module": "@jupyter-widgets/controls",
      "model_module_version": "1.5.0",
      "model_name": "HTMLModel",
      "state": {
       "layout": "IPY_MODEL_5a0a34dcf070417e9a5db3b95ab84a7e",
       "style": "IPY_MODEL_90bf79bc25a343e2a778500a02232126",
       "value": " 50/50 [00:24&lt;00:00, 38.46it/s]"
      }
     },
     "3b649cf4c70a48eaabe551abaf0e2e98": {
      "model_module": "@jupyter-widgets/base",
      "model_module_version": "1.2.0",
      "model_name": "LayoutModel",
      "state": {
       "flex": "2"
      }
     },
     "3bc43010a2b14d50ae826932859d3f46": {
      "model_module": "@jupyter-widgets/controls",
      "model_module_version": "1.5.0",
      "model_name": "ProgressStyleModel",
      "state": {
       "description_width": ""
      }
     },
     "3be462afe4a64a869fdffe9c14eace79": {
      "model_module": "@jupyter-widgets/controls",
      "model_module_version": "1.5.0",
      "model_name": "DescriptionStyleModel",
      "state": {
       "description_width": ""
      }
     },
     "3be60de18d6d48aa91080f25acf3ef1e": {
      "model_module": "@jupyter-widgets/controls",
      "model_module_version": "1.5.0",
      "model_name": "HTMLModel",
      "state": {
       "layout": "IPY_MODEL_2d7409c2d045444aa4f3f92d317949e4",
       "style": "IPY_MODEL_1ea7a45cc94c4a15b0679cc50d35701c",
       "value": "100%"
      }
     },
     "3c5398d9d93f415fa85debddd8ea8fa7": {
      "model_module": "@jupyter-widgets/controls",
      "model_module_version": "1.5.0",
      "model_name": "HTMLModel",
      "state": {
       "layout": "IPY_MODEL_6060a11e954c44bb803212d454be2c05",
       "style": "IPY_MODEL_7e1db3326a0f4ee9bf1e25bf3415a0f1",
       "value": " 50/50 [00:49&lt;00:00,  5.28it/s]"
      }
     },
     "3c58901252e6436c81fd31cb4c32e2e3": {
      "model_module": "@jupyter-widgets/base",
      "model_module_version": "1.2.0",
      "model_name": "LayoutModel",
      "state": {
       "flex": "2"
      }
     },
     "3c67698798c04c8b8db0f8a241277b69": {
      "model_module": "@jupyter-widgets/base",
      "model_module_version": "1.2.0",
      "model_name": "LayoutModel",
      "state": {}
     },
     "3c83ddc139e7468b8f3cfcea8ea23f30": {
      "model_module": "@jupyter-widgets/base",
      "model_module_version": "1.2.0",
      "model_name": "LayoutModel",
      "state": {
       "flex": "2"
      }
     },
     "3d67920fc4d4435f98904201628b277f": {
      "model_module": "@jupyter-widgets/base",
      "model_module_version": "1.2.0",
      "model_name": "LayoutModel",
      "state": {}
     },
     "3dba98f5ddb6487aaf033c6fae12567f": {
      "model_module": "@jupyter-widgets/base",
      "model_module_version": "1.2.0",
      "model_name": "LayoutModel",
      "state": {
       "flex": "2"
      }
     },
     "3dd4ee3bd9454ffeb6167a7bc29be308": {
      "model_module": "@jupyter-widgets/controls",
      "model_module_version": "1.5.0",
      "model_name": "ProgressStyleModel",
      "state": {
       "description_width": ""
      }
     },
     "3e8220bf9259463ab0816f02c0d55b2f": {
      "model_module": "@jupyter-widgets/controls",
      "model_module_version": "1.5.0",
      "model_name": "FloatProgressModel",
      "state": {
       "layout": "IPY_MODEL_16bfec28c6ce4fb1a2ecdcb5fa02afa0",
       "max": 50,
       "style": "IPY_MODEL_f22f5c8e3dab4730a099329cf8ed3dce",
       "value": 50
      }
     },
     "3ec15bd6fe554c418654e8916873d6b3": {
      "model_module": "@jupyter-widgets/controls",
      "model_module_version": "1.5.0",
      "model_name": "DescriptionStyleModel",
      "state": {
       "description_width": ""
      }
     },
     "3f01fa0bb2684fc58e84d0b4cd75a871": {
      "model_module": "@jupyter-widgets/controls",
      "model_module_version": "1.5.0",
      "model_name": "ProgressStyleModel",
      "state": {
       "description_width": ""
      }
     },
     "3f03b3697eab425bb48091d626ce3203": {
      "model_module": "@jupyter-widgets/base",
      "model_module_version": "1.2.0",
      "model_name": "LayoutModel",
      "state": {}
     },
     "3f36af75dd704b6193c5c05a7ce1b919": {
      "model_module": "@jupyter-widgets/controls",
      "model_module_version": "1.5.0",
      "model_name": "DescriptionStyleModel",
      "state": {
       "description_width": ""
      }
     },
     "3f583a51c69745f586fec96214281f35": {
      "model_module": "@jupyter-widgets/controls",
      "model_module_version": "1.5.0",
      "model_name": "DescriptionStyleModel",
      "state": {
       "description_width": ""
      }
     },
     "400664722b014d038a3c125f78c8c7a0": {
      "model_module": "@jupyter-widgets/base",
      "model_module_version": "1.2.0",
      "model_name": "LayoutModel",
      "state": {
       "display": "inline-flex",
       "flex_flow": "row wrap",
       "width": "100%"
      }
     },
     "4012de31b5194431902d53035ea45fd7": {
      "model_module": "@jupyter-widgets/base",
      "model_module_version": "1.2.0",
      "model_name": "LayoutModel",
      "state": {
       "display": "inline-flex",
       "flex_flow": "row wrap",
       "width": "100%"
      }
     },
     "4073b84b898e40739ce8654c2eac3168": {
      "model_module": "@jupyter-widgets/controls",
      "model_module_version": "1.5.0",
      "model_name": "FloatProgressModel",
      "state": {
       "layout": "IPY_MODEL_4a228939fb2f40269f87016e3a58da12",
       "max": 50,
       "style": "IPY_MODEL_35e5d13832f443ce8175229c099979b3",
       "value": 50
      }
     },
     "4110776337f4443db60c87edbf65959d": {
      "model_module": "@jupyter-widgets/base",
      "model_module_version": "1.2.0",
      "model_name": "LayoutModel",
      "state": {
       "display": "inline-flex",
       "flex_flow": "row wrap",
       "width": "100%"
      }
     },
     "415ba941dfb549e1ae97449c2fd126c3": {
      "model_module": "@jupyter-widgets/controls",
      "model_module_version": "1.5.0",
      "model_name": "DescriptionStyleModel",
      "state": {
       "description_width": ""
      }
     },
     "418628659ec64eadbd39bc0ececf47f0": {
      "model_module": "@jupyter-widgets/controls",
      "model_module_version": "1.5.0",
      "model_name": "DescriptionStyleModel",
      "state": {
       "description_width": ""
      }
     },
     "41c696f846724b999fa2b2e57bff9c29": {
      "model_module": "@jupyter-widgets/controls",
      "model_module_version": "1.5.0",
      "model_name": "DescriptionStyleModel",
      "state": {
       "description_width": ""
      }
     },
     "4200ba5463b448e8ab4148557d35f664": {
      "model_module": "@jupyter-widgets/base",
      "model_module_version": "1.2.0",
      "model_name": "LayoutModel",
      "state": {
       "flex": "2"
      }
     },
     "421e631c2ae840258150f7c73e54dfa5": {
      "model_module": "@jupyter-widgets/base",
      "model_module_version": "1.2.0",
      "model_name": "LayoutModel",
      "state": {}
     },
     "422bc5ac07b745a0a70f0c287d635d93": {
      "model_module": "@jupyter-widgets/controls",
      "model_module_version": "1.5.0",
      "model_name": "HTMLModel",
      "state": {
       "layout": "IPY_MODEL_7081143379ea4e3c8fcb48de3cb2d8f9",
       "style": "IPY_MODEL_30048241832d4abbbb91dd56c43bc6d0",
       "value": " 80896/80896 [00:05&lt;00:00, 16540.92it/s]"
      }
     },
     "42d85696a80049e2a81d7849eadf948f": {
      "model_module": "@jupyter-widgets/controls",
      "model_module_version": "1.5.0",
      "model_name": "HTMLModel",
      "state": {
       "layout": "IPY_MODEL_7ffb8cc80b084847a9eaa8b114d24ca6",
       "style": "IPY_MODEL_33311ee24ace4f84a255cd2530394af8",
       "value": "100%"
      }
     },
     "42dc3ef25a2e4f9d96eb88b440c653e0": {
      "model_module": "@jupyter-widgets/controls",
      "model_module_version": "1.5.0",
      "model_name": "DescriptionStyleModel",
      "state": {
       "description_width": ""
      }
     },
     "42eb18bed075422da7934d7bf825c79f": {
      "model_module": "@jupyter-widgets/controls",
      "model_module_version": "1.5.0",
      "model_name": "FloatProgressModel",
      "state": {
       "layout": "IPY_MODEL_cb301b8154114ffcb8f0345ac5c780f9",
       "max": 5,
       "style": "IPY_MODEL_32a5742e9101414296c0212570169e45",
       "value": 5
      }
     },
     "42fc353119c3452bab0885e53b5e3c70": {
      "model_module": "@jupyter-widgets/controls",
      "model_module_version": "1.5.0",
      "model_name": "FloatProgressModel",
      "state": {
       "layout": "IPY_MODEL_462427fedabc43d0b868616e0d79c900",
       "max": 80896,
       "style": "IPY_MODEL_60c4d45668f147b19847898d94a99384",
       "value": 80896
      }
     },
     "434877d88c874eb2b18beedc6c0acd1b": {
      "model_module": "@jupyter-widgets/controls",
      "model_module_version": "1.5.0",
      "model_name": "FloatProgressModel",
      "state": {
       "layout": "IPY_MODEL_7cafdd4e50024ac3974dc54b9b6b0c54",
       "max": 80896,
       "style": "IPY_MODEL_cd070154883b4015a0f2fa6e5282ce40",
       "value": 80896
      }
     },
     "434d128d3c2144438cd2db30ccb43fcc": {
      "model_module": "@jupyter-widgets/controls",
      "model_module_version": "1.5.0",
      "model_name": "FloatProgressModel",
      "state": {
       "layout": "IPY_MODEL_e16b8843693f4dc79a413b785d135fe1",
       "max": 200,
       "style": "IPY_MODEL_b71761a8edff47a886e5b2240ccdd9bb",
       "value": 200
      }
     },
     "4386ff396ccb4e9fbbb1290bda24cbaa": {
      "model_module": "@jupyter-widgets/base",
      "model_module_version": "1.2.0",
      "model_name": "LayoutModel",
      "state": {}
     },
     "44ba9e503f2f4afaba4292f7291bfc0d": {
      "model_module": "@jupyter-widgets/base",
      "model_module_version": "1.2.0",
      "model_name": "LayoutModel",
      "state": {
       "flex": "2"
      }
     },
     "453e184df57249019114bb13b6a83af1": {
      "model_module": "@jupyter-widgets/base",
      "model_module_version": "1.2.0",
      "model_name": "LayoutModel",
      "state": {}
     },
     "4551e53944e746a2a16e267776dc3ef8": {
      "model_module": "@jupyter-widgets/controls",
      "model_module_version": "1.5.0",
      "model_name": "DescriptionStyleModel",
      "state": {
       "description_width": ""
      }
     },
     "4553661ad3134c8abc894b124d2e33aa": {
      "model_module": "@jupyter-widgets/base",
      "model_module_version": "1.2.0",
      "model_name": "LayoutModel",
      "state": {}
     },
     "45c970bb5eac49b58920c195b20ecb08": {
      "model_module": "@jupyter-widgets/base",
      "model_module_version": "1.2.0",
      "model_name": "LayoutModel",
      "state": {}
     },
     "462427fedabc43d0b868616e0d79c900": {
      "model_module": "@jupyter-widgets/base",
      "model_module_version": "1.2.0",
      "model_name": "LayoutModel",
      "state": {
       "flex": "2"
      }
     },
     "4624ea79eafd4aaeb1eb367197828f88": {
      "model_module": "@jupyter-widgets/controls",
      "model_module_version": "1.5.0",
      "model_name": "DescriptionStyleModel",
      "state": {
       "description_width": ""
      }
     },
     "46656ef17f214d3989d2971ae9c505aa": {
      "model_module": "@jupyter-widgets/controls",
      "model_module_version": "1.5.0",
      "model_name": "FloatProgressModel",
      "state": {
       "layout": "IPY_MODEL_b675859402a64c6f857e7d4d96a75eb9",
       "max": 650,
       "style": "IPY_MODEL_0d55403229bc4b58b65b68fe05ef6f94",
       "value": 650
      }
     },
     "467f948d07ad40a3a9306deb7c64c2cf": {
      "model_module": "@jupyter-widgets/controls",
      "model_module_version": "1.5.0",
      "model_name": "HTMLModel",
      "state": {
       "layout": "IPY_MODEL_271d134d203b46d8a137292f5d208822",
       "style": "IPY_MODEL_afaeaa20b9c5482d9cb5a567e0129226",
       "value": "100%"
      }
     },
     "469708f082574918956b3231c9944461": {
      "model_module": "@jupyter-widgets/base",
      "model_module_version": "1.2.0",
      "model_name": "LayoutModel",
      "state": {
       "display": "inline-flex",
       "flex_flow": "row wrap",
       "width": "100%"
      }
     },
     "46a4c5440a2b4b339368ea26d805aecd": {
      "model_module": "@jupyter-widgets/base",
      "model_module_version": "1.2.0",
      "model_name": "LayoutModel",
      "state": {}
     },
     "474c3ad766b64a52be5564cfb91ad41d": {
      "model_module": "@jupyter-widgets/controls",
      "model_module_version": "1.5.0",
      "model_name": "FloatProgressModel",
      "state": {
       "layout": "IPY_MODEL_9425a638bb2d4d81a177d1771e4c368b",
       "max": 30,
       "style": "IPY_MODEL_3bc43010a2b14d50ae826932859d3f46",
       "value": 30
      }
     },
     "4784e23b5fc84cab92e969badb413313": {
      "model_module": "@jupyter-widgets/base",
      "model_module_version": "1.2.0",
      "model_name": "LayoutModel",
      "state": {}
     },
     "478a5806fa494846a43a06a900c19ad8": {
      "model_module": "@jupyter-widgets/base",
      "model_module_version": "1.2.0",
      "model_name": "LayoutModel",
      "state": {
       "display": "inline-flex",
       "flex_flow": "row wrap",
       "width": "100%"
      }
     },
     "47c25d9655eb445b85d5f11ea2ea4c37": {
      "model_module": "@jupyter-widgets/base",
      "model_module_version": "1.2.0",
      "model_name": "LayoutModel",
      "state": {
       "display": "inline-flex",
       "flex_flow": "row wrap",
       "width": "100%"
      }
     },
     "47ee11b93ba84763afd6dcaf7dbdb1bf": {
      "model_module": "@jupyter-widgets/controls",
      "model_module_version": "1.5.0",
      "model_name": "DescriptionStyleModel",
      "state": {
       "description_width": ""
      }
     },
     "4894efea505d4c3eadb297fe8faa9a5e": {
      "model_module": "@jupyter-widgets/controls",
      "model_module_version": "1.5.0",
      "model_name": "DescriptionStyleModel",
      "state": {
       "description_width": ""
      }
     },
     "48eefe2b449a4eabbd41d22f5efdabcc": {
      "model_module": "@jupyter-widgets/controls",
      "model_module_version": "1.5.0",
      "model_name": "DescriptionStyleModel",
      "state": {
       "description_width": ""
      }
     },
     "48f5c322d840471e9963e509fae37751": {
      "model_module": "@jupyter-widgets/controls",
      "model_module_version": "1.5.0",
      "model_name": "DescriptionStyleModel",
      "state": {
       "description_width": ""
      }
     },
     "49821d0418fb49b5bd82ecd0e98ecf23": {
      "model_module": "@jupyter-widgets/base",
      "model_module_version": "1.2.0",
      "model_name": "LayoutModel",
      "state": {}
     },
     "49f6814e8d1142abbde8affc3c7887ee": {
      "model_module": "@jupyter-widgets/base",
      "model_module_version": "1.2.0",
      "model_name": "LayoutModel",
      "state": {}
     },
     "4a1e2faa7d854c34aa2cd108c9daf179": {
      "model_module": "@jupyter-widgets/base",
      "model_module_version": "1.2.0",
      "model_name": "LayoutModel",
      "state": {}
     },
     "4a228939fb2f40269f87016e3a58da12": {
      "model_module": "@jupyter-widgets/base",
      "model_module_version": "1.2.0",
      "model_name": "LayoutModel",
      "state": {
       "flex": "2"
      }
     },
     "4a4b8d29bbd84f36affeb5a5dbea9d89": {
      "model_module": "@jupyter-widgets/controls",
      "model_module_version": "1.5.0",
      "model_name": "DescriptionStyleModel",
      "state": {
       "description_width": ""
      }
     },
     "4a8f3772709f4321aded266ad3c7268b": {
      "model_module": "@jupyter-widgets/controls",
      "model_module_version": "1.5.0",
      "model_name": "HTMLModel",
      "state": {
       "layout": "IPY_MODEL_94d22257648445b19c72c2d71bc960b8",
       "style": "IPY_MODEL_eaafd01df55342b49b5edc44a1a9a8f2",
       "value": " 10/10 [00:02&lt;00:00,  7.13it/s]"
      }
     },
     "4afdb3663c9b4d8daf8367b8a8f71046": {
      "model_module": "@jupyter-widgets/controls",
      "model_module_version": "1.5.0",
      "model_name": "FloatProgressModel",
      "state": {
       "layout": "IPY_MODEL_e90e684041a74ff2b12833de3af2c502",
       "max": 450,
       "style": "IPY_MODEL_3f01fa0bb2684fc58e84d0b4cd75a871",
       "value": 450
      }
     },
     "4b319af8a51e44b7a415b70e4863140a": {
      "model_module": "@jupyter-widgets/controls",
      "model_module_version": "1.5.0",
      "model_name": "DescriptionStyleModel",
      "state": {
       "description_width": ""
      }
     },
     "4b3f40ce09174fd9bae9aa500399ac2f": {
      "model_module": "@jupyter-widgets/base",
      "model_module_version": "1.2.0",
      "model_name": "LayoutModel",
      "state": {}
     },
     "4bfb92a5ea694221808e909976501e47": {
      "model_module": "@jupyter-widgets/controls",
      "model_module_version": "1.5.0",
      "model_name": "FloatProgressModel",
      "state": {
       "layout": "IPY_MODEL_bd3715949d5b47bbb5de6d3bd447ce81",
       "max": 75,
       "style": "IPY_MODEL_e11269beac8244a18dfbebd256b65828",
       "value": 75
      }
     },
     "4c12b511092b4727a94c892431829a14": {
      "model_module": "@jupyter-widgets/controls",
      "model_module_version": "1.5.0",
      "model_name": "DescriptionStyleModel",
      "state": {
       "description_width": ""
      }
     },
     "4c9cbe7996284dd7af5527db3131aac2": {
      "model_module": "@jupyter-widgets/controls",
      "model_module_version": "1.5.0",
      "model_name": "DescriptionStyleModel",
      "state": {
       "description_width": ""
      }
     },
     "4d2314e9918a44219a13a23c9b9a3e6e": {
      "model_module": "@jupyter-widgets/controls",
      "model_module_version": "1.5.0",
      "model_name": "HTMLModel",
      "state": {
       "layout": "IPY_MODEL_421e631c2ae840258150f7c73e54dfa5",
       "style": "IPY_MODEL_41c696f846724b999fa2b2e57bff9c29",
       "value": " 80896/80896 [00:07&lt;00:00, 11056.91it/s]"
      }
     },
     "4d76507a2191409d8baab76e105a41c6": {
      "model_module": "@jupyter-widgets/base",
      "model_module_version": "1.2.0",
      "model_name": "LayoutModel",
      "state": {}
     },
     "4d84091cac344df7ae20f34240251f41": {
      "model_module": "@jupyter-widgets/controls",
      "model_module_version": "1.5.0",
      "model_name": "DescriptionStyleModel",
      "state": {
       "description_width": ""
      }
     },
     "4d9004a037ce4fcdb8a4cb7596016e93": {
      "model_module": "@jupyter-widgets/controls",
      "model_module_version": "1.5.0",
      "model_name": "HTMLModel",
      "state": {
       "layout": "IPY_MODEL_f94699f683404224962f8ad8cccb1a36",
       "style": "IPY_MODEL_ca93a141782440af814a7dce0e1f2668",
       "value": "100%"
      }
     },
     "4daf7aae4d2643d08154770c5dd5c790": {
      "model_module": "@jupyter-widgets/base",
      "model_module_version": "1.2.0",
      "model_name": "LayoutModel",
      "state": {
       "display": "inline-flex",
       "flex_flow": "row wrap",
       "width": "100%"
      }
     },
     "4deda0dbe2104a2db5578ed366b6853c": {
      "model_module": "@jupyter-widgets/base",
      "model_module_version": "1.2.0",
      "model_name": "LayoutModel",
      "state": {
       "flex": "2"
      }
     },
     "4e025a16919c4b2d83e13b9161a75e9a": {
      "model_module": "@jupyter-widgets/base",
      "model_module_version": "1.2.0",
      "model_name": "LayoutModel",
      "state": {}
     },
     "4e366aaec3fd4707ac2412d9ba4ea17b": {
      "model_module": "@jupyter-widgets/base",
      "model_module_version": "1.2.0",
      "model_name": "LayoutModel",
      "state": {}
     },
     "4eb8a87b17c54103b83c208585870db6": {
      "model_module": "@jupyter-widgets/controls",
      "model_module_version": "1.5.0",
      "model_name": "ProgressStyleModel",
      "state": {
       "description_width": ""
      }
     },
     "4ecb5f5a47d34adc81bf7ce9223c772c": {
      "model_module": "@jupyter-widgets/controls",
      "model_module_version": "1.5.0",
      "model_name": "HTMLModel",
      "state": {
       "layout": "IPY_MODEL_0aa58bc150d141cd903137887098a64f",
       "style": "IPY_MODEL_e58b7d7dcf4a442780a2057634930d00",
       "value": "100%"
      }
     },
     "4f8c6183903044c0922b0af7e564332d": {
      "model_module": "@jupyter-widgets/controls",
      "model_module_version": "1.5.0",
      "model_name": "FloatProgressModel",
      "state": {
       "layout": "IPY_MODEL_0a56ae5b82af488996fc77a35a4c85cb",
       "max": 50,
       "style": "IPY_MODEL_cf01af070bfa4140922065e7875198a7",
       "value": 50
      }
     },
     "4ff5b4ad6ab748c6b9d8aafc5fb605ed": {
      "model_module": "@jupyter-widgets/controls",
      "model_module_version": "1.5.0",
      "model_name": "HTMLModel",
      "state": {
       "layout": "IPY_MODEL_cdd6b006c07344eeb6152ad6bb0c95e1",
       "style": "IPY_MODEL_de6e90e68b6349a8a3863b481a05f714",
       "value": " 50/50 [00:01&lt;00:00, 48.80it/s]"
      }
     },
     "5064c911e76c472c8d9fcbfef0025874": {
      "model_module": "@jupyter-widgets/controls",
      "model_module_version": "1.5.0",
      "model_name": "DescriptionStyleModel",
      "state": {
       "description_width": ""
      }
     },
     "50e1edf70e6240be98930cee044805a7": {
      "model_module": "@jupyter-widgets/controls",
      "model_module_version": "1.5.0",
      "model_name": "FloatProgressModel",
      "state": {
       "layout": "IPY_MODEL_60a292796b574155ba461f25e12639f8",
       "max": 50,
       "style": "IPY_MODEL_aef19020b9f3429c9b1f65d63331edce",
       "value": 50
      }
     },
     "5154bed6eead4893a15fab7b8b4830f2": {
      "model_module": "@jupyter-widgets/controls",
      "model_module_version": "1.5.0",
      "model_name": "DescriptionStyleModel",
      "state": {
       "description_width": ""
      }
     },
     "517369e79ef44f90b53715d315f71dda": {
      "model_module": "@jupyter-widgets/base",
      "model_module_version": "1.2.0",
      "model_name": "LayoutModel",
      "state": {
       "display": "inline-flex",
       "flex_flow": "row wrap",
       "width": "100%"
      }
     },
     "51990545049446879c93ff8ee4187f3f": {
      "model_module": "@jupyter-widgets/controls",
      "model_module_version": "1.5.0",
      "model_name": "ProgressStyleModel",
      "state": {
       "description_width": ""
      }
     },
     "51a62dd577b14231b5c62c6ed9f05657": {
      "model_module": "@jupyter-widgets/base",
      "model_module_version": "1.2.0",
      "model_name": "LayoutModel",
      "state": {}
     },
     "52254c61c5b84f8f96dbf4116d1047fd": {
      "model_module": "@jupyter-widgets/base",
      "model_module_version": "1.2.0",
      "model_name": "LayoutModel",
      "state": {}
     },
     "5229578f4f81447aa8e9caf9446a660c": {
      "model_module": "@jupyter-widgets/controls",
      "model_module_version": "1.5.0",
      "model_name": "HTMLModel",
      "state": {
       "layout": "IPY_MODEL_88f2bca8fb6b47bda1948010abba9177",
       "style": "IPY_MODEL_d363019eb83e4a68aa3c6059513b5a83",
       "value": " 450/450 [00:58&lt;00:00,  8.29it/s]"
      }
     },
     "522d27e56385490784e399b627e5c6f9": {
      "model_module": "@jupyter-widgets/controls",
      "model_module_version": "1.5.0",
      "model_name": "DescriptionStyleModel",
      "state": {
       "description_width": ""
      }
     },
     "52536a39ea904d8b8a853e7b36518ed6": {
      "model_module": "@jupyter-widgets/base",
      "model_module_version": "1.2.0",
      "model_name": "LayoutModel",
      "state": {}
     },
     "525af2b2a7404af7acb71efeecd0d0e1": {
      "model_module": "@jupyter-widgets/controls",
      "model_module_version": "1.5.0",
      "model_name": "HTMLModel",
      "state": {
       "layout": "IPY_MODEL_a46ae0942f654330be4cfd09ca3afcc9",
       "style": "IPY_MODEL_8a4badc4605f42fab3d86831a2f4c7db",
       "value": "100%"
      }
     },
     "529db72e8d29472b8d9f52b445c130e2": {
      "model_module": "@jupyter-widgets/controls",
      "model_module_version": "1.5.0",
      "model_name": "HTMLModel",
      "state": {
       "layout": "IPY_MODEL_d4d1e9b6346a442e924daed1dd5ddae6",
       "style": "IPY_MODEL_7be289ed426a4ccbba04e69d6dda6755",
       "value": " 75/75 [00:08&lt;00:00, 10.43it/s]"
      }
     },
     "52a72f6b0e3244aeb2e61fad25459876": {
      "model_module": "@jupyter-widgets/controls",
      "model_module_version": "1.5.0",
      "model_name": "DescriptionStyleModel",
      "state": {
       "description_width": ""
      }
     },
     "52bea4e27d3649128c814e8d10223396": {
      "model_module": "@jupyter-widgets/controls",
      "model_module_version": "1.5.0",
      "model_name": "FloatProgressModel",
      "state": {
       "layout": "IPY_MODEL_ef9f6b8673af4dbdaed8356a27971a17",
       "max": 200,
       "style": "IPY_MODEL_cfc85c1b89c649308e33d60cc7f294c2",
       "value": 200
      }
     },
     "52f7447fa4754640a9b52ecc866a06dc": {
      "model_module": "@jupyter-widgets/controls",
      "model_module_version": "1.5.0",
      "model_name": "ProgressStyleModel",
      "state": {
       "description_width": ""
      }
     },
     "5348dfd0ad1549afa60bddfe03717717": {
      "model_module": "@jupyter-widgets/controls",
      "model_module_version": "1.5.0",
      "model_name": "HTMLModel",
      "state": {
       "layout": "IPY_MODEL_a665b8c9b5b74cffa49045b378462664",
       "style": "IPY_MODEL_2da8d587b1e34e948fbdbe411d75225a",
       "value": "100%"
      }
     },
     "534fba1f951746a99334aa05a37e6754": {
      "model_module": "@jupyter-widgets/base",
      "model_module_version": "1.2.0",
      "model_name": "LayoutModel",
      "state": {
       "display": "inline-flex",
       "flex_flow": "row wrap",
       "width": "100%"
      }
     },
     "5371d6dae2824a6eba369b9d451e1641": {
      "model_module": "@jupyter-widgets/controls",
      "model_module_version": "1.5.0",
      "model_name": "DescriptionStyleModel",
      "state": {
       "description_width": ""
      }
     },
     "537cdb0c2a784254919da8dd37318bc3": {
      "model_module": "@jupyter-widgets/controls",
      "model_module_version": "1.5.0",
      "model_name": "ProgressStyleModel",
      "state": {
       "description_width": ""
      }
     },
     "5387c031144d4d46a975aec1b677aa10": {
      "model_module": "@jupyter-widgets/base",
      "model_module_version": "1.2.0",
      "model_name": "LayoutModel",
      "state": {
       "flex": "2"
      }
     },
     "53dbded1b8a043e7adf2be0280267990": {
      "model_module": "@jupyter-widgets/base",
      "model_module_version": "1.2.0",
      "model_name": "LayoutModel",
      "state": {}
     },
     "53fb8cb9a6774671aa3ce8049e4f72bd": {
      "model_module": "@jupyter-widgets/base",
      "model_module_version": "1.2.0",
      "model_name": "LayoutModel",
      "state": {
       "display": "inline-flex",
       "flex_flow": "row wrap",
       "width": "100%"
      }
     },
     "5405f51620764a4f901613facf7d91a2": {
      "model_module": "@jupyter-widgets/controls",
      "model_module_version": "1.5.0",
      "model_name": "DescriptionStyleModel",
      "state": {
       "description_width": ""
      }
     },
     "54df528b927349e7ab84dbfc61fc2d78": {
      "model_module": "@jupyter-widgets/base",
      "model_module_version": "1.2.0",
      "model_name": "LayoutModel",
      "state": {
       "display": "inline-flex",
       "flex_flow": "row wrap",
       "width": "100%"
      }
     },
     "5511d5e594cd4cdc9dc21557592fb635": {
      "model_module": "@jupyter-widgets/controls",
      "model_module_version": "1.5.0",
      "model_name": "DescriptionStyleModel",
      "state": {
       "description_width": ""
      }
     },
     "554b05798ae84c329614fcf275705965": {
      "model_module": "@jupyter-widgets/base",
      "model_module_version": "1.2.0",
      "model_name": "LayoutModel",
      "state": {}
     },
     "555115676baa47f4b4f02a8b24202669": {
      "model_module": "@jupyter-widgets/controls",
      "model_module_version": "1.5.0",
      "model_name": "DescriptionStyleModel",
      "state": {
       "description_width": ""
      }
     },
     "55603a363cd5408caa8d912bf4f60373": {
      "model_module": "@jupyter-widgets/base",
      "model_module_version": "1.2.0",
      "model_name": "LayoutModel",
      "state": {}
     },
     "55852002293a42b48b918b7b9179a39b": {
      "model_module": "@jupyter-widgets/controls",
      "model_module_version": "1.5.0",
      "model_name": "HTMLModel",
      "state": {
       "layout": "IPY_MODEL_a4b122b7f44141cd9b518aa61ebcb511",
       "style": "IPY_MODEL_d2bc8a40d9e4451689ac3b0182e3fc4d",
       "value": " 50/50 [01:12&lt;00:00,  5.65it/s]"
      }
     },
     "55862efba1b943eba75d3fd0ba6bc839": {
      "model_module": "@jupyter-widgets/base",
      "model_module_version": "1.2.0",
      "model_name": "LayoutModel",
      "state": {}
     },
     "562657a58daf49dc911eb0d603a27386": {
      "model_module": "@jupyter-widgets/controls",
      "model_module_version": "1.5.0",
      "model_name": "DescriptionStyleModel",
      "state": {
       "description_width": ""
      }
     },
     "56295ee5fe6443c385bafa85c639fd52": {
      "model_module": "@jupyter-widgets/base",
      "model_module_version": "1.2.0",
      "model_name": "LayoutModel",
      "state": {}
     },
     "56472e2b921340af88896e285cc309d6": {
      "model_module": "@jupyter-widgets/controls",
      "model_module_version": "1.5.0",
      "model_name": "ProgressStyleModel",
      "state": {
       "description_width": ""
      }
     },
     "56a3db6e80d441d089b0c651d070d6b0": {
      "model_module": "@jupyter-widgets/controls",
      "model_module_version": "1.5.0",
      "model_name": "HTMLModel",
      "state": {
       "layout": "IPY_MODEL_7e8b1159acf24aa9ba8e847b4fc8f1b6",
       "style": "IPY_MODEL_ecee60f9bf59400cbac9f17c512d0d72",
       "value": "100%"
      }
     },
     "56aee74ffdc346768aeee0df5b945900": {
      "model_module": "@jupyter-widgets/controls",
      "model_module_version": "1.5.0",
      "model_name": "HTMLModel",
      "state": {
       "layout": "IPY_MODEL_6c6983bab2a241b1876f3531422eb6ee",
       "style": "IPY_MODEL_ba414bdedd744476973bc9b9abfadab4",
       "value": "100%"
      }
     },
     "56b724f38d294f7ebf9377260a207848": {
      "model_module": "@jupyter-widgets/controls",
      "model_module_version": "1.5.0",
      "model_name": "FloatProgressModel",
      "state": {
       "layout": "IPY_MODEL_df4c970f9cdc4e00aef82fecac2208e4",
       "max": 80896,
       "style": "IPY_MODEL_8c64ae23d82b43b8ae13dc20bbea8798",
       "value": 80896
      }
     },
     "56bfbd8d3f354f309c78050e5b69a9f9": {
      "model_module": "@jupyter-widgets/controls",
      "model_module_version": "1.5.0",
      "model_name": "HTMLModel",
      "state": {
       "layout": "IPY_MODEL_77f2749da7ec4ec38472159e0e3e1340",
       "style": "IPY_MODEL_92f8f893040f4c389271c47f2903b8af",
       "value": " 50/50 [01:05&lt;00:00,  1.51it/s]"
      }
     },
     "56ec69d0ff834fb48ba889a9e0bbd956": {
      "model_module": "@jupyter-widgets/controls",
      "model_module_version": "1.5.0",
      "model_name": "DescriptionStyleModel",
      "state": {
       "description_width": ""
      }
     },
     "570a1536d5aa4aaf942cfc630426475f": {
      "model_module": "@jupyter-widgets/base",
      "model_module_version": "1.2.0",
      "model_name": "LayoutModel",
      "state": {}
     },
     "5714d241ba234a3f9b25cf6221a4284a": {
      "model_module": "@jupyter-widgets/base",
      "model_module_version": "1.2.0",
      "model_name": "LayoutModel",
      "state": {}
     },
     "5766c801134e4634b20958f5c15aeb6d": {
      "model_module": "@jupyter-widgets/controls",
      "model_module_version": "1.5.0",
      "model_name": "FloatProgressModel",
      "state": {
       "layout": "IPY_MODEL_268af46a14894087821ff26f27a89c27",
       "max": 50,
       "style": "IPY_MODEL_b90d0c85fecf4e20bc6c9f4ae6583229",
       "value": 50
      }
     },
     "577e440f17af445bbfe475553300a850": {
      "model_module": "@jupyter-widgets/controls",
      "model_module_version": "1.5.0",
      "model_name": "DescriptionStyleModel",
      "state": {
       "description_width": ""
      }
     },
     "5788d0d9f531464eb1349b695bf27786": {
      "model_module": "@jupyter-widgets/controls",
      "model_module_version": "1.5.0",
      "model_name": "HTMLModel",
      "state": {
       "layout": "IPY_MODEL_1249fba4829d4e6f8fc4f64ac31080cb",
       "style": "IPY_MODEL_27c2330db2da42bca5a208e5fa916867",
       "value": "100%"
      }
     },
     "57b4bd9182394e3fb6339e8e2ea5b5cb": {
      "model_module": "@jupyter-widgets/base",
      "model_module_version": "1.2.0",
      "model_name": "LayoutModel",
      "state": {}
     },
     "5800b829f83340bca7db6ced0e7be28b": {
      "model_module": "@jupyter-widgets/controls",
      "model_module_version": "1.5.0",
      "model_name": "DescriptionStyleModel",
      "state": {
       "description_width": ""
      }
     },
     "5804598789534c189ba1f4b106dc79a8": {
      "model_module": "@jupyter-widgets/base",
      "model_module_version": "1.2.0",
      "model_name": "LayoutModel",
      "state": {}
     },
     "582f4ca620e84cba9b380c864a178d98": {
      "model_module": "@jupyter-widgets/controls",
      "model_module_version": "1.5.0",
      "model_name": "HTMLModel",
      "state": {
       "layout": "IPY_MODEL_f766a004054a4083ab14932241693b53",
       "style": "IPY_MODEL_cb8a5b73b46849fe8838ebbf058963b4",
       "value": "100%"
      }
     },
     "589d9e3826194aeca687a0e1fd79b707": {
      "model_module": "@jupyter-widgets/controls",
      "model_module_version": "1.5.0",
      "model_name": "DescriptionStyleModel",
      "state": {
       "description_width": ""
      }
     },
     "589e51c75710496abe13e2a4b8e967df": {
      "model_module": "@jupyter-widgets/controls",
      "model_module_version": "1.5.0",
      "model_name": "DescriptionStyleModel",
      "state": {
       "description_width": ""
      }
     },
     "58e516bede7b47a9a25e83d05df3c314": {
      "model_module": "@jupyter-widgets/base",
      "model_module_version": "1.2.0",
      "model_name": "LayoutModel",
      "state": {
       "flex": "2"
      }
     },
     "5907f89bc0d24828bf3a9e4933c8acf5": {
      "model_module": "@jupyter-widgets/controls",
      "model_module_version": "1.5.0",
      "model_name": "DescriptionStyleModel",
      "state": {
       "description_width": ""
      }
     },
     "5988664353a247b7a39de0a9adc336ef": {
      "model_module": "@jupyter-widgets/base",
      "model_module_version": "1.2.0",
      "model_name": "LayoutModel",
      "state": {}
     },
     "5a009ab3b67a4a99a870cc4c4e7466ef": {
      "model_module": "@jupyter-widgets/controls",
      "model_module_version": "1.5.0",
      "model_name": "HTMLModel",
      "state": {
       "layout": "IPY_MODEL_7925ee67799a49abaee3b75da7d1ffd3",
       "style": "IPY_MODEL_2ae0446481bf4418b2ea18ef6a489d92",
       "value": " 50/50 [01:33&lt;00:00,  2.02it/s]"
      }
     },
     "5a0a34dcf070417e9a5db3b95ab84a7e": {
      "model_module": "@jupyter-widgets/base",
      "model_module_version": "1.2.0",
      "model_name": "LayoutModel",
      "state": {}
     },
     "5a23678a81b344b1ba69594d88a88199": {
      "model_module": "@jupyter-widgets/controls",
      "model_module_version": "1.5.0",
      "model_name": "DescriptionStyleModel",
      "state": {
       "description_width": ""
      }
     },
     "5ab4cd84466545438381d96ce69dcf6a": {
      "model_module": "@jupyter-widgets/base",
      "model_module_version": "1.2.0",
      "model_name": "LayoutModel",
      "state": {
       "display": "inline-flex",
       "flex_flow": "row wrap",
       "width": "100%"
      }
     },
     "5add23f39b6c484b8666b36b5a15d0c5": {
      "model_module": "@jupyter-widgets/controls",
      "model_module_version": "1.5.0",
      "model_name": "HTMLModel",
      "state": {
       "layout": "IPY_MODEL_98e40551a7e94d5b89daf8c5cf11057d",
       "style": "IPY_MODEL_efe0bf3a4c10472eb2714d29e8b02766",
       "value": " 80896/80896 [00:06&lt;00:00, 14531.87it/s]"
      }
     },
     "5b1ce993faa14a1286ef5cdc4ea54720": {
      "model_module": "@jupyter-widgets/controls",
      "model_module_version": "1.5.0",
      "model_name": "DescriptionStyleModel",
      "state": {
       "description_width": ""
      }
     },
     "5b597c3ba8444b928cb08eb3827ae41e": {
      "model_module": "@jupyter-widgets/base",
      "model_module_version": "1.2.0",
      "model_name": "LayoutModel",
      "state": {}
     },
     "5b6689ebce5343b795dd0d52bf6a859a": {
      "model_module": "@jupyter-widgets/controls",
      "model_module_version": "1.5.0",
      "model_name": "DescriptionStyleModel",
      "state": {
       "description_width": ""
      }
     },
     "5b6a5b92619f49c4bc1269b08a1db4a2": {
      "model_module": "@jupyter-widgets/controls",
      "model_module_version": "1.5.0",
      "model_name": "HTMLModel",
      "state": {
       "layout": "IPY_MODEL_6a85703892c54eb5b970b638a2206861",
       "style": "IPY_MODEL_56ec69d0ff834fb48ba889a9e0bbd956",
       "value": " 200/200 [00:23&lt;00:00,  9.32it/s]"
      }
     },
     "5b88689e31ec40da8f8c384c8dadd522": {
      "model_module": "@jupyter-widgets/controls",
      "model_module_version": "1.5.0",
      "model_name": "HTMLModel",
      "state": {
       "layout": "IPY_MODEL_4784e23b5fc84cab92e969badb413313",
       "style": "IPY_MODEL_70863cfafefa4a2087aa7c523337361f",
       "value": "100%"
      }
     },
     "5c04e1f56e78439aa019a89fce3d43dc": {
      "model_module": "@jupyter-widgets/controls",
      "model_module_version": "1.5.0",
      "model_name": "DescriptionStyleModel",
      "state": {
       "description_width": ""
      }
     },
     "5c7add1387294abb8e24683fdbe8318c": {
      "model_module": "@jupyter-widgets/base",
      "model_module_version": "1.2.0",
      "model_name": "LayoutModel",
      "state": {}
     },
     "5cb1bc8165d84e7286f0e3cf409ee8bd": {
      "model_module": "@jupyter-widgets/controls",
      "model_module_version": "1.5.0",
      "model_name": "DescriptionStyleModel",
      "state": {
       "description_width": ""
      }
     },
     "5ce04e62d0bf4f699182116c19fa879c": {
      "model_module": "@jupyter-widgets/base",
      "model_module_version": "1.2.0",
      "model_name": "LayoutModel",
      "state": {}
     },
     "5d14b9f11d9f4377907f936976460d97": {
      "model_module": "@jupyter-widgets/controls",
      "model_module_version": "1.5.0",
      "model_name": "ProgressStyleModel",
      "state": {
       "description_width": ""
      }
     },
     "5d480c860aca47f582fababff54863b3": {
      "model_module": "@jupyter-widgets/controls",
      "model_module_version": "1.5.0",
      "model_name": "HTMLModel",
      "state": {
       "layout": "IPY_MODEL_4e025a16919c4b2d83e13b9161a75e9a",
       "style": "IPY_MODEL_14c857a6d8e34e28a8e5bd053688ca88",
       "value": " 650/650 [01:29&lt;00:00, 10.71it/s]"
      }
     },
     "5d5e91cdab1f4da1a04dcbf0ebec6138": {
      "model_module": "@jupyter-widgets/controls",
      "model_module_version": "1.5.0",
      "model_name": "ProgressStyleModel",
      "state": {
       "description_width": ""
      }
     },
     "5d9bd6fb37ee465684d654974b788fec": {
      "model_module": "@jupyter-widgets/controls",
      "model_module_version": "1.5.0",
      "model_name": "FloatProgressModel",
      "state": {
       "layout": "IPY_MODEL_775c3f6282424618bb16b09de81c3fed",
       "max": 10,
       "style": "IPY_MODEL_149bdc7eb27c4c6eb7c1ea87c9043e52",
       "value": 10
      }
     },
     "5dae102090e14833b1c92d26a62eadea": {
      "model_module": "@jupyter-widgets/controls",
      "model_module_version": "1.5.0",
      "model_name": "DescriptionStyleModel",
      "state": {
       "description_width": ""
      }
     },
     "5e021679769845869e2a307c2b8a79fd": {
      "model_module": "@jupyter-widgets/base",
      "model_module_version": "1.2.0",
      "model_name": "LayoutModel",
      "state": {}
     },
     "5e32a37c4f7548668eba8e011878e47d": {
      "model_module": "@jupyter-widgets/controls",
      "model_module_version": "1.5.0",
      "model_name": "DescriptionStyleModel",
      "state": {
       "description_width": ""
      }
     },
     "5e3b498321354dfc9b95968d98a80057": {
      "model_module": "@jupyter-widgets/controls",
      "model_module_version": "1.5.0",
      "model_name": "DescriptionStyleModel",
      "state": {
       "description_width": ""
      }
     },
     "5e5787e7ac3e4fe28b582ea7d67dab10": {
      "model_module": "@jupyter-widgets/controls",
      "model_module_version": "1.5.0",
      "model_name": "FloatProgressModel",
      "state": {
       "layout": "IPY_MODEL_3c83ddc139e7468b8f3cfcea8ea23f30",
       "max": 80896,
       "style": "IPY_MODEL_d0f7e87488a74701bec261f3c47af286",
       "value": 80896
      }
     },
     "5e622765c2ce4628bdd49aa3aea8cf2e": {
      "model_module": "@jupyter-widgets/base",
      "model_module_version": "1.2.0",
      "model_name": "LayoutModel",
      "state": {
       "display": "inline-flex",
       "flex_flow": "row wrap",
       "width": "100%"
      }
     },
     "5ed6d4e7f27b4ec08c0c59cd7ea0542c": {
      "model_module": "@jupyter-widgets/base",
      "model_module_version": "1.2.0",
      "model_name": "LayoutModel",
      "state": {}
     },
     "5f111678476049ce8c95b5871e758e02": {
      "model_module": "@jupyter-widgets/base",
      "model_module_version": "1.2.0",
      "model_name": "LayoutModel",
      "state": {
       "display": "inline-flex",
       "flex_flow": "row wrap",
       "width": "100%"
      }
     },
     "5f2279d2f68a4fcfb463696b65b97842": {
      "model_module": "@jupyter-widgets/base",
      "model_module_version": "1.2.0",
      "model_name": "LayoutModel",
      "state": {
       "flex": "2"
      }
     },
     "5f31296296e74f70852f11471c3a3323": {
      "model_module": "@jupyter-widgets/controls",
      "model_module_version": "1.5.0",
      "model_name": "DescriptionStyleModel",
      "state": {
       "description_width": ""
      }
     },
     "5f5a21ea645a40c38d7410633a9f591b": {
      "model_module": "@jupyter-widgets/controls",
      "model_module_version": "1.5.0",
      "model_name": "FloatProgressModel",
      "state": {
       "layout": "IPY_MODEL_05bccd9e24c145b1bc8d7abd11b755e2",
       "max": 50,
       "style": "IPY_MODEL_94eb882a26d442d29181dba175e16909",
       "value": 50
      }
     },
     "5f8510755a77496aadc33c636e3cf05e": {
      "model_module": "@jupyter-widgets/controls",
      "model_module_version": "1.5.0",
      "model_name": "FloatProgressModel",
      "state": {
       "layout": "IPY_MODEL_a265196835274188bd4b27ca289af60b",
       "max": 650,
       "style": "IPY_MODEL_ec888d21eecf4bafa86e422700c9d2b2",
       "value": 650
      }
     },
     "5fdd91d1d2bd46349056bb3912698299": {
      "model_module": "@jupyter-widgets/controls",
      "model_module_version": "1.5.0",
      "model_name": "FloatProgressModel",
      "state": {
       "layout": "IPY_MODEL_a44a6f922737435f928cfe3e6440b4cf",
       "max": 80896,
       "style": "IPY_MODEL_99ed1ba20fb84332bf05630044f9f602",
       "value": 80896
      }
     },
     "6000d8e57f7b471087bfc27732d76a5b": {
      "model_module": "@jupyter-widgets/controls",
      "model_module_version": "1.5.0",
      "model_name": "HTMLModel",
      "state": {
       "layout": "IPY_MODEL_5988664353a247b7a39de0a9adc336ef",
       "style": "IPY_MODEL_4551e53944e746a2a16e267776dc3ef8",
       "value": " 80896/80896 [00:05&lt;00:00, 16100.52it/s]"
      }
     },
     "605a25473c004e09a3dca928c2fb4383": {
      "model_module": "@jupyter-widgets/controls",
      "model_module_version": "1.5.0",
      "model_name": "FloatProgressModel",
      "state": {
       "layout": "IPY_MODEL_7f3d2860ecdf403bbe923cfdb76e1e23",
       "max": 80896,
       "style": "IPY_MODEL_72d2e6aee19a466797c4a3c05b75068a",
       "value": 80896
      }
     },
     "6060a11e954c44bb803212d454be2c05": {
      "model_module": "@jupyter-widgets/base",
      "model_module_version": "1.2.0",
      "model_name": "LayoutModel",
      "state": {}
     },
     "60775d29ed43449699d27782d28a9d73": {
      "model_module": "@jupyter-widgets/controls",
      "model_module_version": "1.5.0",
      "model_name": "FloatProgressModel",
      "state": {
       "layout": "IPY_MODEL_bae3aae7bf3341afbb92a084e528e8e8",
       "max": 50,
       "style": "IPY_MODEL_76555a2982bc471894660dbcde68f557",
       "value": 50
      }
     },
     "60a292796b574155ba461f25e12639f8": {
      "model_module": "@jupyter-widgets/base",
      "model_module_version": "1.2.0",
      "model_name": "LayoutModel",
      "state": {
       "flex": "2"
      }
     },
     "60c4d45668f147b19847898d94a99384": {
      "model_module": "@jupyter-widgets/controls",
      "model_module_version": "1.5.0",
      "model_name": "ProgressStyleModel",
      "state": {
       "description_width": ""
      }
     },
     "614513b39b2f4fe38fb8d8f0a98a6747": {
      "model_module": "@jupyter-widgets/base",
      "model_module_version": "1.2.0",
      "model_name": "LayoutModel",
      "state": {
       "flex": "2"
      }
     },
     "61578d639a164c2482e81bcff4d3fe45": {
      "model_module": "@jupyter-widgets/controls",
      "model_module_version": "1.5.0",
      "model_name": "DescriptionStyleModel",
      "state": {
       "description_width": ""
      }
     },
     "61f1131093c64bab841d23be07fc549e": {
      "model_module": "@jupyter-widgets/base",
      "model_module_version": "1.2.0",
      "model_name": "LayoutModel",
      "state": {}
     },
     "62469f37b7c6401f92fb4527fbc563d0": {
      "model_module": "@jupyter-widgets/controls",
      "model_module_version": "1.5.0",
      "model_name": "ProgressStyleModel",
      "state": {
       "description_width": ""
      }
     },
     "624f952de8844976883210ee66d7d6bb": {
      "model_module": "@jupyter-widgets/controls",
      "model_module_version": "1.5.0",
      "model_name": "DescriptionStyleModel",
      "state": {
       "description_width": ""
      }
     },
     "62a1ac8914364986a7b5d4f440808264": {
      "model_module": "@jupyter-widgets/base",
      "model_module_version": "1.2.0",
      "model_name": "LayoutModel",
      "state": {
       "flex": "2"
      }
     },
     "62d88439e04144a68f43593c89144b9c": {
      "model_module": "@jupyter-widgets/controls",
      "model_module_version": "1.5.0",
      "model_name": "DescriptionStyleModel",
      "state": {
       "description_width": ""
      }
     },
     "63ee5596ee4e4306b3391981d4b9a5fd": {
      "model_module": "@jupyter-widgets/controls",
      "model_module_version": "1.5.0",
      "model_name": "DescriptionStyleModel",
      "state": {
       "description_width": ""
      }
     },
     "6402b91ecc8a4bb5b18ef83b9375f73b": {
      "model_module": "@jupyter-widgets/controls",
      "model_module_version": "1.5.0",
      "model_name": "HTMLModel",
      "state": {
       "layout": "IPY_MODEL_142ac88f3c4e485f8c9e03bb72da0fb5",
       "style": "IPY_MODEL_683e1f93e1654415abf024701826c5a8",
       "value": " 50/50 [00:25&lt;00:00, 38.08it/s]"
      }
     },
     "64dcf7737d1549409b7caffc31962a1c": {
      "model_module": "@jupyter-widgets/base",
      "model_module_version": "1.2.0",
      "model_name": "LayoutModel",
      "state": {}
     },
     "6505e85602ad4c4eb223b9d9f136c55f": {
      "model_module": "@jupyter-widgets/base",
      "model_module_version": "1.2.0",
      "model_name": "LayoutModel",
      "state": {
       "display": "inline-flex",
       "flex_flow": "row wrap",
       "width": "100%"
      }
     },
     "651a6eb95cb742d2b5507a4a9e6ea4a3": {
      "model_module": "@jupyter-widgets/controls",
      "model_module_version": "1.5.0",
      "model_name": "HTMLModel",
      "state": {
       "layout": "IPY_MODEL_e56b88c4531741edb12a0e09c94f456f",
       "style": "IPY_MODEL_16dcf96641884ba5bc5803e691e030b7",
       "value": " 50/50 [00:24&lt;00:00, 14.50it/s]"
      }
     },
     "651f356feeff4622be886e9607f19372": {
      "model_module": "@jupyter-widgets/controls",
      "model_module_version": "1.5.0",
      "model_name": "DescriptionStyleModel",
      "state": {
       "description_width": ""
      }
     },
     "65361c5e72ca462bb90150ef414b4606": {
      "model_module": "@jupyter-widgets/controls",
      "model_module_version": "1.5.0",
      "model_name": "DescriptionStyleModel",
      "state": {
       "description_width": ""
      }
     },
     "65b54e8b3fbd42e0b7e5f4d8b1ea6453": {
      "model_module": "@jupyter-widgets/base",
      "model_module_version": "1.2.0",
      "model_name": "LayoutModel",
      "state": {}
     },
     "65cd1ef35b184f2680f121f740d9fac2": {
      "model_module": "@jupyter-widgets/base",
      "model_module_version": "1.2.0",
      "model_name": "LayoutModel",
      "state": {}
     },
     "661cb3adf43e4ef98c20c3c6244c9d84": {
      "model_module": "@jupyter-widgets/base",
      "model_module_version": "1.2.0",
      "model_name": "LayoutModel",
      "state": {}
     },
     "6665a14047dd44c994a8bf697af28d3f": {
      "model_module": "@jupyter-widgets/controls",
      "model_module_version": "1.5.0",
      "model_name": "DescriptionStyleModel",
      "state": {
       "description_width": ""
      }
     },
     "66750cb954ad4ebbad586082507f8557": {
      "model_module": "@jupyter-widgets/base",
      "model_module_version": "1.2.0",
      "model_name": "LayoutModel",
      "state": {
       "flex": "2"
      }
     },
     "66a44962132c468cbd191751b301ad60": {
      "model_module": "@jupyter-widgets/controls",
      "model_module_version": "1.5.0",
      "model_name": "HTMLModel",
      "state": {
       "layout": "IPY_MODEL_eedb4abc204940feb4c20b2295d97147",
       "style": "IPY_MODEL_8b5d0101bd7d4703a70cb7ffc5b84069",
       "value": " 200/200 [00:23&lt;00:00, 142.28it/s]"
      }
     },
     "6711e5e5b913475c97b87830e5e1b58f": {
      "model_module": "@jupyter-widgets/base",
      "model_module_version": "1.2.0",
      "model_name": "LayoutModel",
      "state": {}
     },
     "6712de3578c04761b92a123092b26c78": {
      "model_module": "@jupyter-widgets/base",
      "model_module_version": "1.2.0",
      "model_name": "LayoutModel",
      "state": {}
     },
     "679bfe3bfd3a42f0bbfd96f008d5a3f6": {
      "model_module": "@jupyter-widgets/base",
      "model_module_version": "1.2.0",
      "model_name": "LayoutModel",
      "state": {}
     },
     "67b738e96de2450c8d6809dafd6d551f": {
      "model_module": "@jupyter-widgets/base",
      "model_module_version": "1.2.0",
      "model_name": "LayoutModel",
      "state": {
       "display": "inline-flex",
       "flex_flow": "row wrap",
       "width": "100%"
      }
     },
     "67cd99dcb49c44c8b312b06d23190970": {
      "model_module": "@jupyter-widgets/controls",
      "model_module_version": "1.5.0",
      "model_name": "ProgressStyleModel",
      "state": {
       "description_width": ""
      }
     },
     "67cfeb413e1646e888a41a151f4d3d4e": {
      "model_module": "@jupyter-widgets/base",
      "model_module_version": "1.2.0",
      "model_name": "LayoutModel",
      "state": {}
     },
     "682f32ee08f248daaa53e1e627383125": {
      "model_module": "@jupyter-widgets/base",
      "model_module_version": "1.2.0",
      "model_name": "LayoutModel",
      "state": {
       "display": "inline-flex",
       "flex_flow": "row wrap",
       "width": "100%"
      }
     },
     "683e1f93e1654415abf024701826c5a8": {
      "model_module": "@jupyter-widgets/controls",
      "model_module_version": "1.5.0",
      "model_name": "DescriptionStyleModel",
      "state": {
       "description_width": ""
      }
     },
     "684433bdf2d343b18e7b40e46edb7ed8": {
      "model_module": "@jupyter-widgets/base",
      "model_module_version": "1.2.0",
      "model_name": "LayoutModel",
      "state": {}
     },
     "684a605268794e17af56010cc3d45386": {
      "model_module": "@jupyter-widgets/base",
      "model_module_version": "1.2.0",
      "model_name": "LayoutModel",
      "state": {
       "display": "inline-flex",
       "flex_flow": "row wrap",
       "width": "100%"
      }
     },
     "6883953fd0f541e3a196b756db4336f2": {
      "model_module": "@jupyter-widgets/controls",
      "model_module_version": "1.5.0",
      "model_name": "FloatProgressModel",
      "state": {
       "layout": "IPY_MODEL_97a30586b0b3408a9eafeba4238905bd",
       "max": 650,
       "style": "IPY_MODEL_04b7c0fe958247429f3a7cf96c3ae9f3",
       "value": 650
      }
     },
     "68f2a52e9d8047bcbce8e0373a6a8e18": {
      "model_module": "@jupyter-widgets/controls",
      "model_module_version": "1.5.0",
      "model_name": "HTMLModel",
      "state": {
       "layout": "IPY_MODEL_b1f5eabd04e142bea03c3af9949f9bc7",
       "style": "IPY_MODEL_b6131941bb2546ed91c1387201840a04",
       "value": " 50/50 [00:03&lt;00:00, 51.15it/s]"
      }
     },
     "693eeadae53b4c70bb068823112ed276": {
      "model_module": "@jupyter-widgets/base",
      "model_module_version": "1.2.0",
      "model_name": "LayoutModel",
      "state": {}
     },
     "69586658a96a4abe93cb7de461a65f01": {
      "model_module": "@jupyter-widgets/controls",
      "model_module_version": "1.5.0",
      "model_name": "HTMLModel",
      "state": {
       "layout": "IPY_MODEL_55603a363cd5408caa8d912bf4f60373",
       "style": "IPY_MODEL_0f3494e3450c4f4186f854671f081d4c",
       "value": " 80896/80896 [00:07&lt;00:00, 16852.63it/s]"
      }
     },
     "69778c8efd3f4c4d923cb3013452a01a": {
      "model_module": "@jupyter-widgets/controls",
      "model_module_version": "1.5.0",
      "model_name": "ProgressStyleModel",
      "state": {
       "description_width": ""
      }
     },
     "69f13b1995b749bcbe8bf0ce54a38010": {
      "model_module": "@jupyter-widgets/controls",
      "model_module_version": "1.5.0",
      "model_name": "FloatProgressModel",
      "state": {
       "layout": "IPY_MODEL_18fd8e2e48f440c59d677713a252ac6c",
       "max": 450,
       "style": "IPY_MODEL_9ef561b4b12f49c6a25159733197e36a",
       "value": 450
      }
     },
     "6a5d721d80f84b0ca392e9d8e26a0e40": {
      "model_module": "@jupyter-widgets/base",
      "model_module_version": "1.2.0",
      "model_name": "LayoutModel",
      "state": {
       "display": "inline-flex",
       "flex_flow": "row wrap",
       "width": "100%"
      }
     },
     "6a72ed8a1f184598a0599f7fe7173963": {
      "model_module": "@jupyter-widgets/controls",
      "model_module_version": "1.5.0",
      "model_name": "FloatProgressModel",
      "state": {
       "layout": "IPY_MODEL_e19e159dcd3941b2a1a424e057600aac",
       "max": 75,
       "style": "IPY_MODEL_a4fbe9451ccd47b890d0d3906ea4bc37",
       "value": 75
      }
     },
     "6a85703892c54eb5b970b638a2206861": {
      "model_module": "@jupyter-widgets/base",
      "model_module_version": "1.2.0",
      "model_name": "LayoutModel",
      "state": {}
     },
     "6b1261f029024c44ba7025c3c81b8545": {
      "model_module": "@jupyter-widgets/controls",
      "model_module_version": "1.5.0",
      "model_name": "FloatProgressModel",
      "state": {
       "layout": "IPY_MODEL_a1313a5bedd0426e80e52a78910d5222",
       "max": 200,
       "style": "IPY_MODEL_dd673b1ee425463e9ec455e9842921d8",
       "value": 200
      }
     },
     "6b313ab5071c4d0e98fa105ff848e2bf": {
      "model_module": "@jupyter-widgets/base",
      "model_module_version": "1.2.0",
      "model_name": "LayoutModel",
      "state": {}
     },
     "6b3ba164a64d4cec8cf1c099cf31f37d": {
      "model_module": "@jupyter-widgets/controls",
      "model_module_version": "1.5.0",
      "model_name": "HTMLModel",
      "state": {
       "layout": "IPY_MODEL_c2cb4c21943542a5a07f008f96c206cd",
       "style": "IPY_MODEL_cf37331ad9af43a680cb9491649bf36c",
       "value": "100%"
      }
     },
     "6b691884e05449a58ea18de99b6bbe37": {
      "model_module": "@jupyter-widgets/controls",
      "model_module_version": "1.5.0",
      "model_name": "ProgressStyleModel",
      "state": {
       "description_width": ""
      }
     },
     "6b938c2067f2465ebd58673ab80c7b7a": {
      "model_module": "@jupyter-widgets/base",
      "model_module_version": "1.2.0",
      "model_name": "LayoutModel",
      "state": {}
     },
     "6bb170f755464b14be87a677bd210f3b": {
      "model_module": "@jupyter-widgets/controls",
      "model_module_version": "1.5.0",
      "model_name": "FloatProgressModel",
      "state": {
       "layout": "IPY_MODEL_78a4169c1d8443d3969295248057a51c",
       "max": 50,
       "style": "IPY_MODEL_efeb8c86d2d8411e8d458649397c9ed7",
       "value": 50
      }
     },
     "6bca5eb9239b4e598b62d60988f8bb00": {
      "model_module": "@jupyter-widgets/controls",
      "model_module_version": "1.5.0",
      "model_name": "FloatProgressModel",
      "state": {
       "layout": "IPY_MODEL_2519c5b0574d4a52ad78ce2bef36beb2",
       "max": 50,
       "style": "IPY_MODEL_2ae64521871342168bf3447afb1a1b5e",
       "value": 50
      }
     },
     "6be9c041166544e6849790599a3040fe": {
      "model_module": "@jupyter-widgets/base",
      "model_module_version": "1.2.0",
      "model_name": "LayoutModel",
      "state": {}
     },
     "6bf94dcc81c04956a6b8b29b21599a0a": {
      "model_module": "@jupyter-widgets/controls",
      "model_module_version": "1.5.0",
      "model_name": "DescriptionStyleModel",
      "state": {
       "description_width": ""
      }
     },
     "6c1073b0403847139cc6439aa5f1184b": {
      "model_module": "@jupyter-widgets/base",
      "model_module_version": "1.2.0",
      "model_name": "LayoutModel",
      "state": {}
     },
     "6c2c205a28884c97b2e738119b19ec0c": {
      "model_module": "@jupyter-widgets/controls",
      "model_module_version": "1.5.0",
      "model_name": "ProgressStyleModel",
      "state": {
       "description_width": ""
      }
     },
     "6c2fd2761bc24496ac55151bfcb3065d": {
      "model_module": "@jupyter-widgets/controls",
      "model_module_version": "1.5.0",
      "model_name": "HTMLModel",
      "state": {
       "layout": "IPY_MODEL_52254c61c5b84f8f96dbf4116d1047fd",
       "style": "IPY_MODEL_3ab1561561fd4ce5a9ad853e29fd8de4",
       "value": "100%"
      }
     },
     "6c38a8f6fdcf4cf0bf2f8356cd9a70d1": {
      "model_module": "@jupyter-widgets/controls",
      "model_module_version": "1.5.0",
      "model_name": "DescriptionStyleModel",
      "state": {
       "description_width": ""
      }
     },
     "6c6983bab2a241b1876f3531422eb6ee": {
      "model_module": "@jupyter-widgets/base",
      "model_module_version": "1.2.0",
      "model_name": "LayoutModel",
      "state": {}
     },
     "6d63ba1db79744c2acba18b8273e55d3": {
      "model_module": "@jupyter-widgets/controls",
      "model_module_version": "1.5.0",
      "model_name": "DescriptionStyleModel",
      "state": {
       "description_width": ""
      }
     },
     "6d82f313e0e64f76b53c9076beaf4b27": {
      "model_module": "@jupyter-widgets/controls",
      "model_module_version": "1.5.0",
      "model_name": "ProgressStyleModel",
      "state": {
       "description_width": ""
      }
     },
     "6da0581c4cda48848f944d57042791f1": {
      "model_module": "@jupyter-widgets/controls",
      "model_module_version": "1.5.0",
      "model_name": "HTMLModel",
      "state": {
       "layout": "IPY_MODEL_17dccef8f51744cea8f06de65d1bd8dd",
       "style": "IPY_MODEL_418628659ec64eadbd39bc0ececf47f0",
       "value": " 200/200 [00:23&lt;00:00,  9.22it/s]"
      }
     },
     "6e2a7d82684a4b4a9ce5b5ca25575270": {
      "model_module": "@jupyter-widgets/base",
      "model_module_version": "1.2.0",
      "model_name": "LayoutModel",
      "state": {
       "flex": "2"
      }
     },
     "6e50fbfdccd04ab2b8bd394c53f44bf5": {
      "model_module": "@jupyter-widgets/base",
      "model_module_version": "1.2.0",
      "model_name": "LayoutModel",
      "state": {}
     },
     "6eaf5ca5b8ac42dd9c164d0f27a73410": {
      "model_module": "@jupyter-widgets/controls",
      "model_module_version": "1.5.0",
      "model_name": "DescriptionStyleModel",
      "state": {
       "description_width": ""
      }
     },
     "6ecca0c8516f41cfadd46aa67be3e3fd": {
      "model_module": "@jupyter-widgets/base",
      "model_module_version": "1.2.0",
      "model_name": "LayoutModel",
      "state": {
       "display": "inline-flex",
       "flex_flow": "row wrap",
       "width": "100%"
      }
     },
     "6f1d1b3e63164c9c8b68f0370c6b2948": {
      "model_module": "@jupyter-widgets/controls",
      "model_module_version": "1.5.0",
      "model_name": "ProgressStyleModel",
      "state": {
       "description_width": ""
      }
     },
     "6f52c804b7e740319e9d0a34baabd957": {
      "model_module": "@jupyter-widgets/controls",
      "model_module_version": "1.5.0",
      "model_name": "HTMLModel",
      "state": {
       "layout": "IPY_MODEL_803109656d474067928f2f4d044a72fb",
       "style": "IPY_MODEL_d37253a2a6884bb395af5a2622e16371",
       "value": "100%"
      }
     },
     "6f67ad487dc0484299af067309168e2f": {
      "model_module": "@jupyter-widgets/controls",
      "model_module_version": "1.5.0",
      "model_name": "HTMLModel",
      "state": {
       "layout": "IPY_MODEL_9e54e0a8635641039d4cde0b912d4494",
       "style": "IPY_MODEL_5a23678a81b344b1ba69594d88a88199",
       "value": "100%"
      }
     },
     "6f69c28b30984d2088f6829c1b2346e7": {
      "model_module": "@jupyter-widgets/base",
      "model_module_version": "1.2.0",
      "model_name": "LayoutModel",
      "state": {
       "flex": "2"
      }
     },
     "6f8af82fe5484abd980c7ed8fc068c18": {
      "model_module": "@jupyter-widgets/base",
      "model_module_version": "1.2.0",
      "model_name": "LayoutModel",
      "state": {
       "display": "inline-flex",
       "flex_flow": "row wrap",
       "width": "100%"
      }
     },
     "6f9b8580718a4543b00974d23f381d62": {
      "model_module": "@jupyter-widgets/controls",
      "model_module_version": "1.5.0",
      "model_name": "HTMLModel",
      "state": {
       "layout": "IPY_MODEL_f8ce12f833434599be4645c05c04ddad",
       "style": "IPY_MODEL_fc5959220a9b43fc8dfea2c86ecb4421",
       "value": "100%"
      }
     },
     "6f9bf3ebc35645e4a9f3d8b298b1e074": {
      "model_module": "@jupyter-widgets/controls",
      "model_module_version": "1.5.0",
      "model_name": "HTMLModel",
      "state": {
       "layout": "IPY_MODEL_c03e5739476f485680ee5fe93d715e94",
       "style": "IPY_MODEL_d0685bc77507423683cbf1411df9cfe7",
       "value": "100%"
      }
     },
     "6fa4fabaf2ac4b12bf8edd0169bcc59a": {
      "model_module": "@jupyter-widgets/controls",
      "model_module_version": "1.5.0",
      "model_name": "HTMLModel",
      "state": {
       "layout": "IPY_MODEL_cf653151f996471b92245eec6d823cd8",
       "style": "IPY_MODEL_624f952de8844976883210ee66d7d6bb",
       "value": " 50/50 [00:01&lt;00:00, 64.96it/s]"
      }
     },
     "6fbb98868fd64b8bb36b3842c663e0e7": {
      "model_module": "@jupyter-widgets/controls",
      "model_module_version": "1.5.0",
      "model_name": "DescriptionStyleModel",
      "state": {
       "description_width": ""
      }
     },
     "6fbf64914f4047bba7e670fdebaffc03": {
      "model_module": "@jupyter-widgets/base",
      "model_module_version": "1.2.0",
      "model_name": "LayoutModel",
      "state": {
       "display": "inline-flex",
       "flex_flow": "row wrap",
       "width": "100%"
      }
     },
     "6fe084f34a6a4eb5af3567e731aa12fd": {
      "model_module": "@jupyter-widgets/base",
      "model_module_version": "1.2.0",
      "model_name": "LayoutModel",
      "state": {
       "flex": "2"
      }
     },
     "7052e8fd745b48e1a131b7e0e4a0e800": {
      "model_module": "@jupyter-widgets/base",
      "model_module_version": "1.2.0",
      "model_name": "LayoutModel",
      "state": {}
     },
     "7081143379ea4e3c8fcb48de3cb2d8f9": {
      "model_module": "@jupyter-widgets/base",
      "model_module_version": "1.2.0",
      "model_name": "LayoutModel",
      "state": {}
     },
     "70863cfafefa4a2087aa7c523337361f": {
      "model_module": "@jupyter-widgets/controls",
      "model_module_version": "1.5.0",
      "model_name": "DescriptionStyleModel",
      "state": {
       "description_width": ""
      }
     },
     "7091b83edf93493db6873afe339b45ac": {
      "model_module": "@jupyter-widgets/controls",
      "model_module_version": "1.5.0",
      "model_name": "FloatProgressModel",
      "state": {
       "layout": "IPY_MODEL_96bef7641fc6436d90a12d37df3f157f",
       "max": 5,
       "style": "IPY_MODEL_b9ea53d7f21b4c2599ee75561d52bf6e",
       "value": 5
      }
     },
     "70ae74d647fd4fa29bee152268f84bfc": {
      "model_module": "@jupyter-widgets/base",
      "model_module_version": "1.2.0",
      "model_name": "LayoutModel",
      "state": {
       "display": "inline-flex",
       "flex_flow": "row wrap",
       "width": "100%"
      }
     },
     "710e60ab561543f7b04636f78eb86b38": {
      "model_module": "@jupyter-widgets/controls",
      "model_module_version": "1.5.0",
      "model_name": "HTMLModel",
      "state": {
       "layout": "IPY_MODEL_08bc75c807a5427f8f5b44f62d72cd47",
       "style": "IPY_MODEL_5e3b498321354dfc9b95968d98a80057",
       "value": "100%"
      }
     },
     "711be3e56bc54795816e55df60d61b59": {
      "model_module": "@jupyter-widgets/controls",
      "model_module_version": "1.5.0",
      "model_name": "FloatProgressModel",
      "state": {
       "layout": "IPY_MODEL_16e850c9e4ce4ae6942518ad61a5d1d1",
       "max": 80896,
       "style": "IPY_MODEL_2f8a373c64d541af8cc02e8c832a2982",
       "value": 80896
      }
     },
     "719171a22a05496892313556cc01c9ee": {
      "model_module": "@jupyter-widgets/controls",
      "model_module_version": "1.5.0",
      "model_name": "HTMLModel",
      "state": {
       "layout": "IPY_MODEL_fbe15ac83b244297962edebace92f8b1",
       "style": "IPY_MODEL_de949e94da9143ae85c774ee1b583fea",
       "value": " 50/50 [00:25&lt;00:00,  5.50it/s]"
      }
     },
     "71aa6732a47448669067eab0374660d8": {
      "model_module": "@jupyter-widgets/base",
      "model_module_version": "1.2.0",
      "model_name": "LayoutModel",
      "state": {
       "display": "inline-flex",
       "flex_flow": "row wrap",
       "width": "100%"
      }
     },
     "7203f9b2d996416ba176c4fcae3473c8": {
      "model_module": "@jupyter-widgets/controls",
      "model_module_version": "1.5.0",
      "model_name": "HTMLModel",
      "state": {
       "layout": "IPY_MODEL_3aaa48a4abf7404fa1aafd925cdcc26c",
       "style": "IPY_MODEL_f2d7dbba63f54e72920fdd2057ae0b8c",
       "value": " 80896/80896 [00:04&lt;00:00, 16492.94it/s]"
      }
     },
     "720dffb424b4439ca8158dd8a2be67f8": {
      "model_module": "@jupyter-widgets/base",
      "model_module_version": "1.2.0",
      "model_name": "LayoutModel",
      "state": {}
     },
     "7269a20adbd143e6806705d68435ed11": {
      "model_module": "@jupyter-widgets/controls",
      "model_module_version": "1.5.0",
      "model_name": "DescriptionStyleModel",
      "state": {
       "description_width": ""
      }
     },
     "7270306a66d04d8e9f73fc1e355edb8b": {
      "model_module": "@jupyter-widgets/controls",
      "model_module_version": "1.5.0",
      "model_name": "HTMLModel",
      "state": {
       "layout": "IPY_MODEL_840e900b311d41808993fac11379be3f",
       "style": "IPY_MODEL_977e9a78c1a9453b9f1eef5ca82f6dbd",
       "value": " 80896/80896 [00:04&lt;00:00, 17336.15it/s]"
      }
     },
     "729d58421a414f1ba707383f946fccf9": {
      "model_module": "@jupyter-widgets/controls",
      "model_module_version": "1.5.0",
      "model_name": "HTMLModel",
      "state": {
       "layout": "IPY_MODEL_5c7add1387294abb8e24683fdbe8318c",
       "style": "IPY_MODEL_10a8b4b71f574d5ab32f4a5a3e687458",
       "value": " 50/50 [00:05&lt;00:00, 27.05it/s]"
      }
     },
     "72bcb95b262a42d1abe7b9c78fcdc71c": {
      "model_module": "@jupyter-widgets/controls",
      "model_module_version": "1.5.0",
      "model_name": "DescriptionStyleModel",
      "state": {
       "description_width": ""
      }
     },
     "72d2e6aee19a466797c4a3c05b75068a": {
      "model_module": "@jupyter-widgets/controls",
      "model_module_version": "1.5.0",
      "model_name": "ProgressStyleModel",
      "state": {
       "description_width": ""
      }
     },
     "72fa1f06d2204f2ebc7562fe6b372c8b": {
      "model_module": "@jupyter-widgets/controls",
      "model_module_version": "1.5.0",
      "model_name": "ProgressStyleModel",
      "state": {
       "description_width": ""
      }
     },
     "736945dd9cad4c7ca24f8a9377d73cd5": {
      "model_module": "@jupyter-widgets/controls",
      "model_module_version": "1.5.0",
      "model_name": "DescriptionStyleModel",
      "state": {
       "description_width": ""
      }
     },
     "73aa710637b84f338dbd8f58f33d90a0": {
      "model_module": "@jupyter-widgets/base",
      "model_module_version": "1.2.0",
      "model_name": "LayoutModel",
      "state": {
       "flex": "2"
      }
     },
     "744228a41df1416797d6ab6f49c48c85": {
      "model_module": "@jupyter-widgets/controls",
      "model_module_version": "1.5.0",
      "model_name": "DescriptionStyleModel",
      "state": {
       "description_width": ""
      }
     },
     "746d4bece2b74f708a9787d1a759e3e2": {
      "model_module": "@jupyter-widgets/base",
      "model_module_version": "1.2.0",
      "model_name": "LayoutModel",
      "state": {}
     },
     "7567ab92192146238004296489cf7540": {
      "model_module": "@jupyter-widgets/base",
      "model_module_version": "1.2.0",
      "model_name": "LayoutModel",
      "state": {}
     },
     "7600b19b4df94e0598917b6a16659103": {
      "model_module": "@jupyter-widgets/controls",
      "model_module_version": "1.5.0",
      "model_name": "HTMLModel",
      "state": {
       "layout": "IPY_MODEL_67cfeb413e1646e888a41a151f4d3d4e",
       "style": "IPY_MODEL_fea47e5b64984477b69241e48b795b84",
       "value": "100%"
      }
     },
     "76555a2982bc471894660dbcde68f557": {
      "model_module": "@jupyter-widgets/controls",
      "model_module_version": "1.5.0",
      "model_name": "ProgressStyleModel",
      "state": {
       "description_width": ""
      }
     },
     "7676553c20c74aaa9a6990725a6aae29": {
      "model_module": "@jupyter-widgets/controls",
      "model_module_version": "1.5.0",
      "model_name": "ProgressStyleModel",
      "state": {
       "description_width": ""
      }
     },
     "773215d9f76645578af850f88f05a0b9": {
      "model_module": "@jupyter-widgets/base",
      "model_module_version": "1.2.0",
      "model_name": "LayoutModel",
      "state": {
       "display": "inline-flex",
       "flex_flow": "row wrap",
       "width": "100%"
      }
     },
     "775c3f6282424618bb16b09de81c3fed": {
      "model_module": "@jupyter-widgets/base",
      "model_module_version": "1.2.0",
      "model_name": "LayoutModel",
      "state": {
       "flex": "2"
      }
     },
     "7776278ee0ce425e8549acf049ef9ec5": {
      "model_module": "@jupyter-widgets/controls",
      "model_module_version": "1.5.0",
      "model_name": "FloatProgressModel",
      "state": {
       "layout": "IPY_MODEL_3b649cf4c70a48eaabe551abaf0e2e98",
       "max": 200,
       "style": "IPY_MODEL_ecd34f0e01fc4c44ab42e63dd1c052b7",
       "value": 200
      }
     },
     "77f2749da7ec4ec38472159e0e3e1340": {
      "model_module": "@jupyter-widgets/base",
      "model_module_version": "1.2.0",
      "model_name": "LayoutModel",
      "state": {}
     },
     "77f54103628346eb9bce637599b01c84": {
      "model_module": "@jupyter-widgets/base",
      "model_module_version": "1.2.0",
      "model_name": "LayoutModel",
      "state": {
       "flex": "2"
      }
     },
     "77faa5c0018643cf99a000d670ba4956": {
      "model_module": "@jupyter-widgets/controls",
      "model_module_version": "1.5.0",
      "model_name": "DescriptionStyleModel",
      "state": {
       "description_width": ""
      }
     },
     "784c89503c7b432eab92a655930cabe1": {
      "model_module": "@jupyter-widgets/controls",
      "model_module_version": "1.5.0",
      "model_name": "ProgressStyleModel",
      "state": {
       "description_width": ""
      }
     },
     "785f29c4f99b4e3d96608c3e69df0a1c": {
      "model_module": "@jupyter-widgets/base",
      "model_module_version": "1.2.0",
      "model_name": "LayoutModel",
      "state": {
       "flex": "2"
      }
     },
     "78726561d0174dd9896c76e7c9f7ff53": {
      "model_module": "@jupyter-widgets/base",
      "model_module_version": "1.2.0",
      "model_name": "LayoutModel",
      "state": {}
     },
     "78a4169c1d8443d3969295248057a51c": {
      "model_module": "@jupyter-widgets/base",
      "model_module_version": "1.2.0",
      "model_name": "LayoutModel",
      "state": {
       "flex": "2"
      }
     },
     "78aff782b1d54887874bd9dfae517ab9": {
      "model_module": "@jupyter-widgets/controls",
      "model_module_version": "1.5.0",
      "model_name": "HTMLModel",
      "state": {
       "layout": "IPY_MODEL_9ed278de78fb475bbc74b763b6adbf31",
       "style": "IPY_MODEL_811b4b6bda154116acc5186db68f2f17",
       "value": "100%"
      }
     },
     "78b0baae7ec648239ed1791d99889c5a": {
      "model_module": "@jupyter-widgets/base",
      "model_module_version": "1.2.0",
      "model_name": "LayoutModel",
      "state": {
       "display": "inline-flex",
       "flex_flow": "row wrap",
       "width": "100%"
      }
     },
     "78faa41941324501ab7796db7d4169e5": {
      "model_module": "@jupyter-widgets/controls",
      "model_module_version": "1.5.0",
      "model_name": "HTMLModel",
      "state": {
       "layout": "IPY_MODEL_4b3f40ce09174fd9bae9aa500399ac2f",
       "style": "IPY_MODEL_d1e84afe09f44ba08078e2e53997f2c4",
       "value": " 80896/80896 [00:05&lt;00:00, 15570.03it/s]"
      }
     },
     "7925ee67799a49abaee3b75da7d1ffd3": {
      "model_module": "@jupyter-widgets/base",
      "model_module_version": "1.2.0",
      "model_name": "LayoutModel",
      "state": {}
     },
     "79290dfe19a24e04b8593240644a1b72": {
      "model_module": "@jupyter-widgets/controls",
      "model_module_version": "1.5.0",
      "model_name": "DescriptionStyleModel",
      "state": {
       "description_width": ""
      }
     },
     "797f7e4e934247d9ba2cb9412e5c63e5": {
      "model_module": "@jupyter-widgets/controls",
      "model_module_version": "1.5.0",
      "model_name": "HTMLModel",
      "state": {
       "layout": "IPY_MODEL_f7affbe4ba88413f85eb6f41c732af7e",
       "style": "IPY_MODEL_9a10f4bcf74b4e7fa1eb890812b48aaa",
       "value": " 50/50 [00:01&lt;00:00, 14.73it/s]"
      }
     },
     "797f9493d72c41bb9e3f1c94a87b6704": {
      "model_module": "@jupyter-widgets/controls",
      "model_module_version": "1.5.0",
      "model_name": "HTMLModel",
      "state": {
       "layout": "IPY_MODEL_8fb1e634853c46a2a5073766c4be0d80",
       "style": "IPY_MODEL_9349a679eff34a209197da9555e1a09b",
       "value": " 650/650 [01:04&lt;00:00, 12.78it/s]"
      }
     },
     "7a0ca2aee1fc4cbfb55750ac06666602": {
      "model_module": "@jupyter-widgets/controls",
      "model_module_version": "1.5.0",
      "model_name": "DescriptionStyleModel",
      "state": {
       "description_width": ""
      }
     },
     "7a88fb320db34025928ddce3381fd30c": {
      "model_module": "@jupyter-widgets/base",
      "model_module_version": "1.2.0",
      "model_name": "LayoutModel",
      "state": {
       "display": "inline-flex",
       "flex_flow": "row wrap",
       "width": "100%"
      }
     },
     "7aeed4122e72450290664884071131b7": {
      "model_module": "@jupyter-widgets/base",
      "model_module_version": "1.2.0",
      "model_name": "LayoutModel",
      "state": {
       "display": "inline-flex",
       "flex_flow": "row wrap",
       "width": "100%"
      }
     },
     "7b598ff01e814504baab165c78f2fb3b": {
      "model_module": "@jupyter-widgets/base",
      "model_module_version": "1.2.0",
      "model_name": "LayoutModel",
      "state": {
       "display": "inline-flex",
       "flex_flow": "row wrap",
       "width": "100%"
      }
     },
     "7be1127252db43aeac15386ff1ef95b8": {
      "model_module": "@jupyter-widgets/controls",
      "model_module_version": "1.5.0",
      "model_name": "FloatProgressModel",
      "state": {
       "layout": "IPY_MODEL_cd2577567f8943e7a0f7f9779babafc8",
       "max": 650,
       "style": "IPY_MODEL_bebaa0db95e64b65b90d9c2e9cb47943",
       "value": 650
      }
     },
     "7be289ed426a4ccbba04e69d6dda6755": {
      "model_module": "@jupyter-widgets/controls",
      "model_module_version": "1.5.0",
      "model_name": "DescriptionStyleModel",
      "state": {
       "description_width": ""
      }
     },
     "7bf299016f1f4a3f966fc4a3c343f9a5": {
      "model_module": "@jupyter-widgets/controls",
      "model_module_version": "1.5.0",
      "model_name": "FloatProgressModel",
      "state": {
       "layout": "IPY_MODEL_73aa710637b84f338dbd8f58f33d90a0",
       "max": 80896,
       "style": "IPY_MODEL_0cb78246ec5d4d328527ad51cb6984de",
       "value": 80896
      }
     },
     "7c064a22b1404bd18746814685b585dd": {
      "model_module": "@jupyter-widgets/base",
      "model_module_version": "1.2.0",
      "model_name": "LayoutModel",
      "state": {
       "flex": "2"
      }
     },
     "7c24d72fd8004c1e8a3b41f45f0c081f": {
      "model_module": "@jupyter-widgets/controls",
      "model_module_version": "1.5.0",
      "model_name": "HTMLModel",
      "state": {
       "layout": "IPY_MODEL_6b313ab5071c4d0e98fa105ff848e2bf",
       "style": "IPY_MODEL_c6a42731035a45b5a025e76a10bb7b92",
       "value": "100%"
      }
     },
     "7c31b95040d84e4ca2d61086f1bc0b35": {
      "model_module": "@jupyter-widgets/base",
      "model_module_version": "1.2.0",
      "model_name": "LayoutModel",
      "state": {}
     },
     "7c35fe92ab2b4fd0a152708d0b84906e": {
      "model_module": "@jupyter-widgets/controls",
      "model_module_version": "1.5.0",
      "model_name": "HTMLModel",
      "state": {
       "layout": "IPY_MODEL_b141d74d41844d238776f6211f96c8f2",
       "style": "IPY_MODEL_ac2afbdf1e4a4f339974e9151c283d7a",
       "value": " 5/5 [00:01&lt;00:00,  4.08it/s]"
      }
     },
     "7c5d7d2ec9dd4bfb97e79465be357695": {
      "model_module": "@jupyter-widgets/base",
      "model_module_version": "1.2.0",
      "model_name": "LayoutModel",
      "state": {}
     },
     "7c9eacd9340240d090349455302d7b57": {
      "model_module": "@jupyter-widgets/controls",
      "model_module_version": "1.5.0",
      "model_name": "DescriptionStyleModel",
      "state": {
       "description_width": ""
      }
     },
     "7cafdd4e50024ac3974dc54b9b6b0c54": {
      "model_module": "@jupyter-widgets/base",
      "model_module_version": "1.2.0",
      "model_name": "LayoutModel",
      "state": {
       "flex": "2"
      }
     },
     "7ccb179808d448e2b8321f61b665246b": {
      "model_module": "@jupyter-widgets/controls",
      "model_module_version": "1.5.0",
      "model_name": "ProgressStyleModel",
      "state": {
       "description_width": ""
      }
     },
     "7cf540c4f15c4a598c61e2749028998a": {
      "model_module": "@jupyter-widgets/controls",
      "model_module_version": "1.5.0",
      "model_name": "DescriptionStyleModel",
      "state": {
       "description_width": ""
      }
     },
     "7d7eef3444144c6f808cf739231d7fb4": {
      "model_module": "@jupyter-widgets/base",
      "model_module_version": "1.2.0",
      "model_name": "LayoutModel",
      "state": {}
     },
     "7d83515f82c740beb7b904fa933becca": {
      "model_module": "@jupyter-widgets/base",
      "model_module_version": "1.2.0",
      "model_name": "LayoutModel",
      "state": {}
     },
     "7da8ecbdb5174c05801173fa64f04aa1": {
      "model_module": "@jupyter-widgets/base",
      "model_module_version": "1.2.0",
      "model_name": "LayoutModel",
      "state": {
       "display": "inline-flex",
       "flex_flow": "row wrap",
       "width": "100%"
      }
     },
     "7dbd2232ad844d1c9a62bb481eb7ee5b": {
      "model_module": "@jupyter-widgets/controls",
      "model_module_version": "1.5.0",
      "model_name": "ProgressStyleModel",
      "state": {
       "description_width": ""
      }
     },
     "7e14a61db5f4403894b44adb3814dd9d": {
      "model_module": "@jupyter-widgets/controls",
      "model_module_version": "1.5.0",
      "model_name": "DescriptionStyleModel",
      "state": {
       "description_width": ""
      }
     },
     "7e1db3326a0f4ee9bf1e25bf3415a0f1": {
      "model_module": "@jupyter-widgets/controls",
      "model_module_version": "1.5.0",
      "model_name": "DescriptionStyleModel",
      "state": {
       "description_width": ""
      }
     },
     "7e8b1159acf24aa9ba8e847b4fc8f1b6": {
      "model_module": "@jupyter-widgets/base",
      "model_module_version": "1.2.0",
      "model_name": "LayoutModel",
      "state": {}
     },
     "7e8d6b73fba44194938691df39cde937": {
      "model_module": "@jupyter-widgets/controls",
      "model_module_version": "1.5.0",
      "model_name": "HTMLModel",
      "state": {
       "layout": "IPY_MODEL_a8a13f35e5ac4d518dfce792144420f0",
       "style": "IPY_MODEL_cebcc29bf95146d88ae59a9fa026236b",
       "value": " 50/50 [00:24&lt;00:00, 63.86it/s]"
      }
     },
     "7ebadfc0ed58454f9610a592a459ae60": {
      "model_module": "@jupyter-widgets/controls",
      "model_module_version": "1.5.0",
      "model_name": "HTMLModel",
      "state": {
       "layout": "IPY_MODEL_a54af6b09fca4a768bfedb6d9beccdc1",
       "style": "IPY_MODEL_5f31296296e74f70852f11471c3a3323",
       "value": " 50/50 [00:02&lt;00:00, 17.84it/s]"
      }
     },
     "7ec4bf9d2b7e4d438c98a0b551905482": {
      "model_module": "@jupyter-widgets/controls",
      "model_module_version": "1.5.0",
      "model_name": "HTMLModel",
      "state": {
       "layout": "IPY_MODEL_7d83515f82c740beb7b904fa933becca",
       "style": "IPY_MODEL_fc0f57b0fc0a475f9bf2362b933c1272",
       "value": " 75/75 [00:09&lt;00:00, 10.03it/s]"
      }
     },
     "7f2b9587a22b4703b8a8438dcae94a89": {
      "model_module": "@jupyter-widgets/base",
      "model_module_version": "1.2.0",
      "model_name": "LayoutModel",
      "state": {
       "display": "inline-flex",
       "flex_flow": "row wrap",
       "width": "100%"
      }
     },
     "7f3d2860ecdf403bbe923cfdb76e1e23": {
      "model_module": "@jupyter-widgets/base",
      "model_module_version": "1.2.0",
      "model_name": "LayoutModel",
      "state": {
       "flex": "2"
      }
     },
     "7f4ad1377a6c4e16b1c6a5050b5512c4": {
      "model_module": "@jupyter-widgets/controls",
      "model_module_version": "1.5.0",
      "model_name": "HTMLModel",
      "state": {
       "layout": "IPY_MODEL_cdd1ec23ffbb4604ac1e31067b951f6b",
       "style": "IPY_MODEL_13a1233cfaed4365856b32438cb6d645",
       "value": "100%"
      }
     },
     "7fc28c0f0c744ff6a0754febfe4e452c": {
      "model_module": "@jupyter-widgets/controls",
      "model_module_version": "1.5.0",
      "model_name": "DescriptionStyleModel",
      "state": {
       "description_width": ""
      }
     },
     "7fc29add3e354e53ae0d72ef72dff36a": {
      "model_module": "@jupyter-widgets/base",
      "model_module_version": "1.2.0",
      "model_name": "LayoutModel",
      "state": {}
     },
     "7ffb8cc80b084847a9eaa8b114d24ca6": {
      "model_module": "@jupyter-widgets/base",
      "model_module_version": "1.2.0",
      "model_name": "LayoutModel",
      "state": {}
     },
     "7ffd0e2eaf714c47aba9d1d319f4c1bf": {
      "model_module": "@jupyter-widgets/controls",
      "model_module_version": "1.5.0",
      "model_name": "DescriptionStyleModel",
      "state": {
       "description_width": ""
      }
     },
     "803109656d474067928f2f4d044a72fb": {
      "model_module": "@jupyter-widgets/base",
      "model_module_version": "1.2.0",
      "model_name": "LayoutModel",
      "state": {}
     },
     "804b52a285814ec5b06f7bee4ff3dab6": {
      "model_module": "@jupyter-widgets/controls",
      "model_module_version": "1.5.0",
      "model_name": "FloatProgressModel",
      "state": {
       "layout": "IPY_MODEL_fca87d729243469a9f03c2cbd5c1f162",
       "max": 80896,
       "style": "IPY_MODEL_31c5e53362354df6ba5d053d77481f89",
       "value": 80896
      }
     },
     "805269c3c9ff4507884e800fdd009ce4": {
      "model_module": "@jupyter-widgets/base",
      "model_module_version": "1.2.0",
      "model_name": "LayoutModel",
      "state": {
       "flex": "2"
      }
     },
     "808c3e9595784dbc803263348438dbc1": {
      "model_module": "@jupyter-widgets/controls",
      "model_module_version": "1.5.0",
      "model_name": "DescriptionStyleModel",
      "state": {
       "description_width": ""
      }
     },
     "811b4b6bda154116acc5186db68f2f17": {
      "model_module": "@jupyter-widgets/controls",
      "model_module_version": "1.5.0",
      "model_name": "DescriptionStyleModel",
      "state": {
       "description_width": ""
      }
     },
     "81472471ea544253a465192d849c3fea": {
      "model_module": "@jupyter-widgets/controls",
      "model_module_version": "1.5.0",
      "model_name": "DescriptionStyleModel",
      "state": {
       "description_width": ""
      }
     },
     "8166c4e0ac41450baa2aa256513a3139": {
      "model_module": "@jupyter-widgets/base",
      "model_module_version": "1.2.0",
      "model_name": "LayoutModel",
      "state": {
       "flex": "2"
      }
     },
     "822c1ae0593946279ed11f7fac3303e9": {
      "model_module": "@jupyter-widgets/controls",
      "model_module_version": "1.5.0",
      "model_name": "HTMLModel",
      "state": {
       "layout": "IPY_MODEL_ebe9bc54ffdf49bf9ef6548e5cb1bd19",
       "style": "IPY_MODEL_b421cb36ab6d49cdb4ad3ae28db90ff3",
       "value": "100%"
      }
     },
     "825617dde20246c1a40e5c8c2971c8eb": {
      "model_module": "@jupyter-widgets/controls",
      "model_module_version": "1.5.0",
      "model_name": "ProgressStyleModel",
      "state": {
       "description_width": ""
      }
     },
     "8262415766e8476d8f4317c94a070ba4": {
      "model_module": "@jupyter-widgets/controls",
      "model_module_version": "1.5.0",
      "model_name": "FloatProgressModel",
      "state": {
       "layout": "IPY_MODEL_dd934811189d49f7a292b3663b122448",
       "max": 75,
       "style": "IPY_MODEL_96fb54df04974267b0a88935aa149b8f",
       "value": 75
      }
     },
     "828bc95c593f4908bc51a6b636e73c87": {
      "model_module": "@jupyter-widgets/controls",
      "model_module_version": "1.5.0",
      "model_name": "HTMLModel",
      "state": {
       "layout": "IPY_MODEL_aee3bce68218462195f672428efa1184",
       "style": "IPY_MODEL_577e440f17af445bbfe475553300a850",
       "value": " 75/75 [00:08&lt;00:00, 10.64it/s]"
      }
     },
     "831ceac38abf41cf936fae0562ca3dfb": {
      "model_module": "@jupyter-widgets/controls",
      "model_module_version": "1.5.0",
      "model_name": "DescriptionStyleModel",
      "state": {
       "description_width": ""
      }
     },
     "8386da4caeb74ea7a3a5f6643642c497": {
      "model_module": "@jupyter-widgets/controls",
      "model_module_version": "1.5.0",
      "model_name": "HTMLModel",
      "state": {
       "layout": "IPY_MODEL_3a87e7067301459694aa5ddfe3d146ad",
       "style": "IPY_MODEL_a5fcf4ad0d27454db15b2a2d4631504b",
       "value": " 200/200 [00:22&lt;00:00,  9.44it/s]"
      }
     },
     "840795dbe4aa49a1b956f0686e5c5521": {
      "model_module": "@jupyter-widgets/controls",
      "model_module_version": "1.5.0",
      "model_name": "FloatProgressModel",
      "state": {
       "layout": "IPY_MODEL_03dd5478567a422d9de8dde11999fede",
       "max": 80896,
       "style": "IPY_MODEL_1a63d397842e44208bd26fe30c2f4e2a",
       "value": 80896
      }
     },
     "840e900b311d41808993fac11379be3f": {
      "model_module": "@jupyter-widgets/base",
      "model_module_version": "1.2.0",
      "model_name": "LayoutModel",
      "state": {}
     },
     "84a48189746e46eb98e5d0babed05677": {
      "model_module": "@jupyter-widgets/controls",
      "model_module_version": "1.5.0",
      "model_name": "DescriptionStyleModel",
      "state": {
       "description_width": ""
      }
     },
     "84a5a01b3a12469c8720bf215f2c6c77": {
      "model_module": "@jupyter-widgets/base",
      "model_module_version": "1.2.0",
      "model_name": "LayoutModel",
      "state": {
       "display": "inline-flex",
       "flex_flow": "row wrap",
       "width": "100%"
      }
     },
     "84aeadefe71e40eeb1efbef82d95d695": {
      "model_module": "@jupyter-widgets/base",
      "model_module_version": "1.2.0",
      "model_name": "LayoutModel",
      "state": {}
     },
     "84ca15cd263643639ff64cb29d90fdf5": {
      "model_module": "@jupyter-widgets/controls",
      "model_module_version": "1.5.0",
      "model_name": "DescriptionStyleModel",
      "state": {
       "description_width": ""
      }
     },
     "852748a9396041eea7b410f657aa0d0f": {
      "model_module": "@jupyter-widgets/base",
      "model_module_version": "1.2.0",
      "model_name": "LayoutModel",
      "state": {
       "flex": "2"
      }
     },
     "854d6bf6d8a14c91a3629724ff65fdf5": {
      "model_module": "@jupyter-widgets/controls",
      "model_module_version": "1.5.0",
      "model_name": "HTMLModel",
      "state": {
       "layout": "IPY_MODEL_1a8996cae1594577ab388c2e906ff0b1",
       "style": "IPY_MODEL_589e51c75710496abe13e2a4b8e967df",
       "value": " 5/5 [00:01&lt;00:00,  4.56it/s]"
      }
     },
     "85e4657164b1487d9e7e6f7d992d5968": {
      "model_module": "@jupyter-widgets/controls",
      "model_module_version": "1.5.0",
      "model_name": "HTMLModel",
      "state": {
       "layout": "IPY_MODEL_6be9c041166544e6849790599a3040fe",
       "style": "IPY_MODEL_eeecf56fa3a347b7a98052002aea5fbe",
       "value": " 50/50 [00:08&lt;00:00,  2.21s/it]"
      }
     },
     "8676f35667fc46dab96d937b3a986459": {
      "model_module": "@jupyter-widgets/controls",
      "model_module_version": "1.5.0",
      "model_name": "DescriptionStyleModel",
      "state": {
       "description_width": ""
      }
     },
     "8689ca7121504f0ab1a2d109f75b2a8d": {
      "model_module": "@jupyter-widgets/base",
      "model_module_version": "1.2.0",
      "model_name": "LayoutModel",
      "state": {}
     },
     "86aafe430a7e40feb7fa989146035105": {
      "model_module": "@jupyter-widgets/base",
      "model_module_version": "1.2.0",
      "model_name": "LayoutModel",
      "state": {
       "display": "inline-flex",
       "flex_flow": "row wrap",
       "width": "100%"
      }
     },
     "86af02a38ec94c88b67433b36c4d5d26": {
      "model_module": "@jupyter-widgets/controls",
      "model_module_version": "1.5.0",
      "model_name": "DescriptionStyleModel",
      "state": {
       "description_width": ""
      }
     },
     "86ca4298ccd245e6b0705325f7a6eb38": {
      "model_module": "@jupyter-widgets/controls",
      "model_module_version": "1.5.0",
      "model_name": "DescriptionStyleModel",
      "state": {
       "description_width": ""
      }
     },
     "86f15d39752a49a697c8037ac9d7abeb": {
      "model_module": "@jupyter-widgets/base",
      "model_module_version": "1.2.0",
      "model_name": "LayoutModel",
      "state": {
       "flex": "2"
      }
     },
     "872627f6a1df4694bd886006bb31eedd": {
      "model_module": "@jupyter-widgets/controls",
      "model_module_version": "1.5.0",
      "model_name": "DescriptionStyleModel",
      "state": {
       "description_width": ""
      }
     },
     "872dbfcf0a8e44808900e4ce8fe314f5": {
      "model_module": "@jupyter-widgets/controls",
      "model_module_version": "1.5.0",
      "model_name": "DescriptionStyleModel",
      "state": {
       "description_width": ""
      }
     },
     "877be02499a14c21b7e7f502cb9700ac": {
      "model_module": "@jupyter-widgets/base",
      "model_module_version": "1.2.0",
      "model_name": "LayoutModel",
      "state": {}
     },
     "878988c752504abcae526c49b4bed7b1": {
      "model_module": "@jupyter-widgets/base",
      "model_module_version": "1.2.0",
      "model_name": "LayoutModel",
      "state": {}
     },
     "8799ddc0396a40f49000519a3be9437b": {
      "model_module": "@jupyter-widgets/base",
      "model_module_version": "1.2.0",
      "model_name": "LayoutModel",
      "state": {}
     },
     "87abf2b1893140c0b3f883f0faf3320b": {
      "model_module": "@jupyter-widgets/controls",
      "model_module_version": "1.5.0",
      "model_name": "DescriptionStyleModel",
      "state": {
       "description_width": ""
      }
     },
     "87c54341b8a543c882dc631d2ed62d98": {
      "model_module": "@jupyter-widgets/controls",
      "model_module_version": "1.5.0",
      "model_name": "HTMLModel",
      "state": {
       "layout": "IPY_MODEL_20b52ef666144d1ea9c2bc00fcb07690",
       "style": "IPY_MODEL_6bf94dcc81c04956a6b8b29b21599a0a",
       "value": "100%"
      }
     },
     "87cb424c67184e79beff1394a9dbf9e7": {
      "model_module": "@jupyter-widgets/controls",
      "model_module_version": "1.5.0",
      "model_name": "FloatProgressModel",
      "state": {
       "layout": "IPY_MODEL_1ff3d322613b4fb59873b6bfed25a254",
       "max": 80896,
       "style": "IPY_MODEL_de693c82a360476bb5b4dc5afa43c638",
       "value": 80896
      }
     },
     "88376fe44a144f97af56c8edfd62e643": {
      "model_module": "@jupyter-widgets/base",
      "model_module_version": "1.2.0",
      "model_name": "LayoutModel",
      "state": {}
     },
     "88f2bca8fb6b47bda1948010abba9177": {
      "model_module": "@jupyter-widgets/base",
      "model_module_version": "1.2.0",
      "model_name": "LayoutModel",
      "state": {}
     },
     "892bf8fcdc0c4fea91228492d0bfd059": {
      "model_module": "@jupyter-widgets/base",
      "model_module_version": "1.2.0",
      "model_name": "LayoutModel",
      "state": {}
     },
     "89544d2fb34d4711a2f6e6246000318c": {
      "model_module": "@jupyter-widgets/controls",
      "model_module_version": "1.5.0",
      "model_name": "HTMLModel",
      "state": {
       "layout": "IPY_MODEL_8689ca7121504f0ab1a2d109f75b2a8d",
       "style": "IPY_MODEL_bf74ee04bdcc41ca81d53410dc2b460b",
       "value": " 80896/80896 [00:04&lt;00:00, 17307.89it/s]"
      }
     },
     "896598f492a24979a9247f933cba6d25": {
      "model_module": "@jupyter-widgets/base",
      "model_module_version": "1.2.0",
      "model_name": "LayoutModel",
      "state": {
       "display": "inline-flex",
       "flex_flow": "row wrap",
       "width": "100%"
      }
     },
     "89ae96392e6849f18d5eda026e862fac": {
      "model_module": "@jupyter-widgets/base",
      "model_module_version": "1.2.0",
      "model_name": "LayoutModel",
      "state": {
       "display": "inline-flex",
       "flex_flow": "row wrap",
       "width": "100%"
      }
     },
     "8a0bbaf4ba984befb5aa61fdcbec978c": {
      "model_module": "@jupyter-widgets/controls",
      "model_module_version": "1.5.0",
      "model_name": "HTMLModel",
      "state": {
       "layout": "IPY_MODEL_f6001c53925c421dbcee063052b3144e",
       "style": "IPY_MODEL_87abf2b1893140c0b3f883f0faf3320b",
       "value": "100%"
      }
     },
     "8a4badc4605f42fab3d86831a2f4c7db": {
      "model_module": "@jupyter-widgets/controls",
      "model_module_version": "1.5.0",
      "model_name": "DescriptionStyleModel",
      "state": {
       "description_width": ""
      }
     },
     "8a892332cf014add96569be5a2617071": {
      "model_module": "@jupyter-widgets/controls",
      "model_module_version": "1.5.0",
      "model_name": "HTMLModel",
      "state": {
       "layout": "IPY_MODEL_e3b1a33ae6cb43bdba25e3209ee91ccc",
       "style": "IPY_MODEL_b10816de82e94fceb991aa7082789161",
       "value": "100%"
      }
     },
     "8ac17dd879a14bc0975709fcb2a0908b": {
      "model_module": "@jupyter-widgets/controls",
      "model_module_version": "1.5.0",
      "model_name": "FloatProgressModel",
      "state": {
       "layout": "IPY_MODEL_066bdeceb362427cae73f352d0a727d8",
       "max": 80896,
       "style": "IPY_MODEL_251b3f72f7fd433ab232b6491d6294f9",
       "value": 80896
      }
     },
     "8adaa1e5a2a54e97acdac25536998383": {
      "model_module": "@jupyter-widgets/controls",
      "model_module_version": "1.5.0",
      "model_name": "HTMLModel",
      "state": {
       "layout": "IPY_MODEL_3d67920fc4d4435f98904201628b277f",
       "style": "IPY_MODEL_a9d3d36217c349f4af43794fd1f974a8",
       "value": "100%"
      }
     },
     "8b5d0101bd7d4703a70cb7ffc5b84069": {
      "model_module": "@jupyter-widgets/controls",
      "model_module_version": "1.5.0",
      "model_name": "DescriptionStyleModel",
      "state": {
       "description_width": ""
      }
     },
     "8bb1bf8e27cd4bf79241b50f5080d768": {
      "model_module": "@jupyter-widgets/base",
      "model_module_version": "1.2.0",
      "model_name": "LayoutModel",
      "state": {
       "flex": "2"
      }
     },
     "8bd497e3ee0f4197ad61d7715ac83097": {
      "model_module": "@jupyter-widgets/controls",
      "model_module_version": "1.5.0",
      "model_name": "ProgressStyleModel",
      "state": {
       "description_width": ""
      }
     },
     "8bfa7c01031e490086a4eebed769bd80": {
      "model_module": "@jupyter-widgets/base",
      "model_module_version": "1.2.0",
      "model_name": "LayoutModel",
      "state": {}
     },
     "8c02c07e162348d8a893df34f58e8d15": {
      "model_module": "@jupyter-widgets/base",
      "model_module_version": "1.2.0",
      "model_name": "LayoutModel",
      "state": {}
     },
     "8c1e3bf194e840f8b1393e2c47d21e8a": {
      "model_module": "@jupyter-widgets/controls",
      "model_module_version": "1.5.0",
      "model_name": "HTMLModel",
      "state": {
       "layout": "IPY_MODEL_a800b43bc25d44cca97b54924fc29879",
       "style": "IPY_MODEL_c41319b7f1214acc80c3e073e23b4b2c",
       "value": "100%"
      }
     },
     "8c64ae23d82b43b8ae13dc20bbea8798": {
      "model_module": "@jupyter-widgets/controls",
      "model_module_version": "1.5.0",
      "model_name": "ProgressStyleModel",
      "state": {
       "description_width": ""
      }
     },
     "8cc1fd3c05594a29b1190179971de6b7": {
      "model_module": "@jupyter-widgets/base",
      "model_module_version": "1.2.0",
      "model_name": "LayoutModel",
      "state": {
       "display": "inline-flex",
       "flex_flow": "row wrap",
       "width": "100%"
      }
     },
     "8ce68831dac040808d1b634c766939cf": {
      "model_module": "@jupyter-widgets/controls",
      "model_module_version": "1.5.0",
      "model_name": "HTMLModel",
      "state": {
       "layout": "IPY_MODEL_c813ee85feb84c2d97433e9aad5669e6",
       "style": "IPY_MODEL_27c302ee046343d8bc481cf615d1e57d",
       "value": "100%"
      }
     },
     "8ce7a319b8c14281ac015c8a914781d2": {
      "model_module": "@jupyter-widgets/controls",
      "model_module_version": "1.5.0",
      "model_name": "FloatProgressModel",
      "state": {
       "layout": "IPY_MODEL_cf09caa7c9b247619c4c33047a8a795c",
       "max": 80896,
       "style": "IPY_MODEL_c7f2f17ba56446099e38f61771c6d810",
       "value": 80896
      }
     },
     "8cebf1d97529460bbc215beea667ca03": {
      "model_module": "@jupyter-widgets/controls",
      "model_module_version": "1.5.0",
      "model_name": "DescriptionStyleModel",
      "state": {
       "description_width": ""
      }
     },
     "8dbe342cb230476b90db6982c43d4c53": {
      "model_module": "@jupyter-widgets/base",
      "model_module_version": "1.2.0",
      "model_name": "LayoutModel",
      "state": {
       "flex": "2"
      }
     },
     "8deb5ff7a19e49de8e4e4a6c2152c20f": {
      "model_module": "@jupyter-widgets/controls",
      "model_module_version": "1.5.0",
      "model_name": "HTMLModel",
      "state": {
       "layout": "IPY_MODEL_c500ef5fc1cb45a6a333ce55ea6f0617",
       "style": "IPY_MODEL_26ffbcf11ceb4d3b8ea2a9c4c948b36a",
       "value": " 30/30 [00:03&lt;00:00, 12.80it/s]"
      }
     },
     "8ecdff69142a4e05878b6396c543bd02": {
      "model_module": "@jupyter-widgets/controls",
      "model_module_version": "1.5.0",
      "model_name": "HTMLModel",
      "state": {
       "layout": "IPY_MODEL_554b05798ae84c329614fcf275705965",
       "style": "IPY_MODEL_12bcae4e07c7468e9da37cb6c25eef7d",
       "value": " 50/50 [00:02&lt;00:00, 19.23it/s]"
      }
     },
     "8ee1952a89a84e22ad97edab1dde8cd7": {
      "model_module": "@jupyter-widgets/controls",
      "model_module_version": "1.5.0",
      "model_name": "FloatProgressModel",
      "state": {
       "layout": "IPY_MODEL_1c4d49b4365445509b2e8851001f3ba8",
       "max": 200,
       "style": "IPY_MODEL_3599a8a6cecf424db4bac440f5c4fddd",
       "value": 200
      }
     },
     "8ef07caa79d54d519af6fc3fc4d223be": {
      "model_module": "@jupyter-widgets/controls",
      "model_module_version": "1.5.0",
      "model_name": "HTMLModel",
      "state": {
       "layout": "IPY_MODEL_a6a63211b06348a39c2c6632b0c996ba",
       "style": "IPY_MODEL_99ee369436e6461abb42e5713af3573c",
       "value": "100%"
      }
     },
     "8ef69a9fdc0740a880d4a91a68cbf652": {
      "model_module": "@jupyter-widgets/controls",
      "model_module_version": "1.5.0",
      "model_name": "DescriptionStyleModel",
      "state": {
       "description_width": ""
      }
     },
     "8f49d4ebde3b48d3842b2aa687cd74f1": {
      "model_module": "@jupyter-widgets/controls",
      "model_module_version": "1.5.0",
      "model_name": "ProgressStyleModel",
      "state": {
       "description_width": ""
      }
     },
     "8f7f2c6242054b069a4ee5c8c7c7101b": {
      "model_module": "@jupyter-widgets/base",
      "model_module_version": "1.2.0",
      "model_name": "LayoutModel",
      "state": {}
     },
     "8f9b6b7fca3142f9ad3db01c6e6d1ce0": {
      "model_module": "@jupyter-widgets/base",
      "model_module_version": "1.2.0",
      "model_name": "LayoutModel",
      "state": {
       "flex": "2"
      }
     },
     "8fb1e634853c46a2a5073766c4be0d80": {
      "model_module": "@jupyter-widgets/base",
      "model_module_version": "1.2.0",
      "model_name": "LayoutModel",
      "state": {}
     },
     "900c28ec2dd0486ab4a2be3954cfda52": {
      "model_module": "@jupyter-widgets/controls",
      "model_module_version": "1.5.0",
      "model_name": "FloatProgressModel",
      "state": {
       "layout": "IPY_MODEL_1f1bec2b04c64f848ffdb06aa0551f23",
       "max": 50,
       "style": "IPY_MODEL_6c2c205a28884c97b2e738119b19ec0c",
       "value": 50
      }
     },
     "905da8b83387457c97fd7d4e72843254": {
      "model_module": "@jupyter-widgets/controls",
      "model_module_version": "1.5.0",
      "model_name": "ProgressStyleModel",
      "state": {
       "description_width": ""
      }
     },
     "90bf79bc25a343e2a778500a02232126": {
      "model_module": "@jupyter-widgets/controls",
      "model_module_version": "1.5.0",
      "model_name": "DescriptionStyleModel",
      "state": {
       "description_width": ""
      }
     },
     "90db491d705f49dfbd7535faf79abc12": {
      "model_module": "@jupyter-widgets/base",
      "model_module_version": "1.2.0",
      "model_name": "LayoutModel",
      "state": {
       "display": "inline-flex",
       "flex_flow": "row wrap",
       "width": "100%"
      }
     },
     "90e90fa523304a05a2e03b2e3cd9d565": {
      "model_module": "@jupyter-widgets/controls",
      "model_module_version": "1.5.0",
      "model_name": "FloatProgressModel",
      "state": {
       "layout": "IPY_MODEL_324932d4df034dadab5c0ee923cd5514",
       "max": 80896,
       "style": "IPY_MODEL_7ccb179808d448e2b8321f61b665246b",
       "value": 80896
      }
     },
     "91071e15da8f4569ab956e1b00190b8e": {
      "model_module": "@jupyter-widgets/controls",
      "model_module_version": "1.5.0",
      "model_name": "ProgressStyleModel",
      "state": {
       "description_width": ""
      }
     },
     "91103101baf441da8039f3621cce17b4": {
      "model_module": "@jupyter-widgets/controls",
      "model_module_version": "1.5.0",
      "model_name": "ProgressStyleModel",
      "state": {
       "description_width": ""
      }
     },
     "913d3a3783e24621aa97d8fdec20738f": {
      "model_module": "@jupyter-widgets/controls",
      "model_module_version": "1.5.0",
      "model_name": "ProgressStyleModel",
      "state": {
       "description_width": ""
      }
     },
     "913d684ade3c4947a89ddbd789ab4a02": {
      "model_module": "@jupyter-widgets/controls",
      "model_module_version": "1.5.0",
      "model_name": "DescriptionStyleModel",
      "state": {
       "description_width": ""
      }
     },
     "91adb5349ff14090b6e565cc0c02c51b": {
      "model_module": "@jupyter-widgets/controls",
      "model_module_version": "1.5.0",
      "model_name": "DescriptionStyleModel",
      "state": {
       "description_width": ""
      }
     },
     "921dc755a6db4d938298f5cb95abb740": {
      "model_module": "@jupyter-widgets/base",
      "model_module_version": "1.2.0",
      "model_name": "LayoutModel",
      "state": {}
     },
     "9290d8d376a94164ba2c93c1526f9d1c": {
      "model_module": "@jupyter-widgets/base",
      "model_module_version": "1.2.0",
      "model_name": "LayoutModel",
      "state": {
       "display": "inline-flex",
       "flex_flow": "row wrap",
       "width": "100%"
      }
     },
     "92d14ff2e96c4570a6fcb2d43637dbea": {
      "model_module": "@jupyter-widgets/base",
      "model_module_version": "1.2.0",
      "model_name": "LayoutModel",
      "state": {}
     },
     "92d39fd152034f7bab75ee3699ff3bf5": {
      "model_module": "@jupyter-widgets/controls",
      "model_module_version": "1.5.0",
      "model_name": "FloatProgressModel",
      "state": {
       "layout": "IPY_MODEL_3dba98f5ddb6487aaf033c6fae12567f",
       "max": 50,
       "style": "IPY_MODEL_2545151155414f4d8f2eb0e2f801a481",
       "value": 50
      }
     },
     "92f8f893040f4c389271c47f2903b8af": {
      "model_module": "@jupyter-widgets/controls",
      "model_module_version": "1.5.0",
      "model_name": "DescriptionStyleModel",
      "state": {
       "description_width": ""
      }
     },
     "9308b7ee83be4a12b805d12824f81685": {
      "model_module": "@jupyter-widgets/controls",
      "model_module_version": "1.5.0",
      "model_name": "DescriptionStyleModel",
      "state": {
       "description_width": ""
      }
     },
     "9346f347ed424e58a1dbec48b2a4abf0": {
      "model_module": "@jupyter-widgets/base",
      "model_module_version": "1.2.0",
      "model_name": "LayoutModel",
      "state": {}
     },
     "9349a679eff34a209197da9555e1a09b": {
      "model_module": "@jupyter-widgets/controls",
      "model_module_version": "1.5.0",
      "model_name": "DescriptionStyleModel",
      "state": {
       "description_width": ""
      }
     },
     "93b7134167a84656ace1bf62ab7463e1": {
      "model_module": "@jupyter-widgets/base",
      "model_module_version": "1.2.0",
      "model_name": "LayoutModel",
      "state": {}
     },
     "93f9e35337924658a1d38426fa25e26e": {
      "model_module": "@jupyter-widgets/controls",
      "model_module_version": "1.5.0",
      "model_name": "HTMLModel",
      "state": {
       "layout": "IPY_MODEL_f561074cc3504507af6c4d5241ac9aee",
       "style": "IPY_MODEL_48f5c322d840471e9963e509fae37751",
       "value": " 200/200 [00:22&lt;00:00,  9.29it/s]"
      }
     },
     "9425a638bb2d4d81a177d1771e4c368b": {
      "model_module": "@jupyter-widgets/base",
      "model_module_version": "1.2.0",
      "model_name": "LayoutModel",
      "state": {
       "flex": "2"
      }
     },
     "948d2ac9f6604c54b6024e36b1e2f460": {
      "model_module": "@jupyter-widgets/controls",
      "model_module_version": "1.5.0",
      "model_name": "HTMLModel",
      "state": {
       "layout": "IPY_MODEL_dafd9efa8cba41b9b80a800aa2edfdb2",
       "style": "IPY_MODEL_6c38a8f6fdcf4cf0bf2f8356cd9a70d1",
       "value": " 80896/80896 [00:05&lt;00:00, 16024.35it/s]"
      }
     },
     "94d22257648445b19c72c2d71bc960b8": {
      "model_module": "@jupyter-widgets/base",
      "model_module_version": "1.2.0",
      "model_name": "LayoutModel",
      "state": {}
     },
     "94eb882a26d442d29181dba175e16909": {
      "model_module": "@jupyter-widgets/controls",
      "model_module_version": "1.5.0",
      "model_name": "ProgressStyleModel",
      "state": {
       "description_width": ""
      }
     },
     "951290cd16f74a32b2cfd04e506cb61d": {
      "model_module": "@jupyter-widgets/base",
      "model_module_version": "1.2.0",
      "model_name": "LayoutModel",
      "state": {
       "display": "inline-flex",
       "flex_flow": "row wrap",
       "width": "100%"
      }
     },
     "954c796652ac45a592aacbf9fde8b66e": {
      "model_module": "@jupyter-widgets/controls",
      "model_module_version": "1.5.0",
      "model_name": "FloatProgressModel",
      "state": {
       "layout": "IPY_MODEL_62a1ac8914364986a7b5d4f440808264",
       "max": 450,
       "style": "IPY_MODEL_d203245e94554c548dd0bb860dfc4204",
       "value": 450
      }
     },
     "956dc3c2db4a419ea315dd39017eb3e7": {
      "model_module": "@jupyter-widgets/controls",
      "model_module_version": "1.5.0",
      "model_name": "FloatProgressModel",
      "state": {
       "layout": "IPY_MODEL_8dbe342cb230476b90db6982c43d4c53",
       "max": 75,
       "style": "IPY_MODEL_d81a1f0404104dbc8e270ac3a3fb25a9",
       "value": 75
      }
     },
     "9614faedddf249288c223e9505777f22": {
      "model_module": "@jupyter-widgets/controls",
      "model_module_version": "1.5.0",
      "model_name": "HTMLModel",
      "state": {
       "layout": "IPY_MODEL_36f807c11b04410fa39fb7cc45757801",
       "style": "IPY_MODEL_ce65f3528e9846d19ce93b1addff67c8",
       "value": " 80896/80896 [00:06&lt;00:00, 12542.63it/s]"
      }
     },
     "961d4e9e84f74647947967669dacd891": {
      "model_module": "@jupyter-widgets/base",
      "model_module_version": "1.2.0",
      "model_name": "LayoutModel",
      "state": {
       "flex": "2"
      }
     },
     "9623c284b6c64616ac0b4d90f7aa2200": {
      "model_module": "@jupyter-widgets/controls",
      "model_module_version": "1.5.0",
      "model_name": "DescriptionStyleModel",
      "state": {
       "description_width": ""
      }
     },
     "96776f742445433ca698542385a7efb6": {
      "model_module": "@jupyter-widgets/controls",
      "model_module_version": "1.5.0",
      "model_name": "ProgressStyleModel",
      "state": {
       "description_width": ""
      }
     },
     "96af717315c64cd8b2d5c8b568da3340": {
      "model_module": "@jupyter-widgets/base",
      "model_module_version": "1.2.0",
      "model_name": "LayoutModel",
      "state": {
       "display": "inline-flex",
       "flex_flow": "row wrap",
       "width": "100%"
      }
     },
     "96bef7641fc6436d90a12d37df3f157f": {
      "model_module": "@jupyter-widgets/base",
      "model_module_version": "1.2.0",
      "model_name": "LayoutModel",
      "state": {
       "flex": "2"
      }
     },
     "96e587a795d44798af07396e80435a46": {
      "model_module": "@jupyter-widgets/controls",
      "model_module_version": "1.5.0",
      "model_name": "HTMLModel",
      "state": {
       "layout": "IPY_MODEL_08d01ffac62545d299deb8c8cfbb6351",
       "style": "IPY_MODEL_5dae102090e14833b1c92d26a62eadea",
       "value": " 10/10 [00:02&lt;00:00,  7.54it/s]"
      }
     },
     "96ef2c1c7a2e4629ae6806c2a159d7c1": {
      "model_module": "@jupyter-widgets/controls",
      "model_module_version": "1.5.0",
      "model_name": "HTMLModel",
      "state": {
       "layout": "IPY_MODEL_5e021679769845869e2a307c2b8a79fd",
       "style": "IPY_MODEL_351433bad4b2454c9b777966f2567314",
       "value": "100%"
      }
     },
     "96fb54df04974267b0a88935aa149b8f": {
      "model_module": "@jupyter-widgets/controls",
      "model_module_version": "1.5.0",
      "model_name": "ProgressStyleModel",
      "state": {
       "description_width": ""
      }
     },
     "9728fb026ad94308aa19a3b4f0cfd49d": {
      "model_module": "@jupyter-widgets/controls",
      "model_module_version": "1.5.0",
      "model_name": "HTMLModel",
      "state": {
       "layout": "IPY_MODEL_49821d0418fb49b5bd82ecd0e98ecf23",
       "style": "IPY_MODEL_f4a53804e7e2463b9cf939198c3cea98",
       "value": "100%"
      }
     },
     "977e9a78c1a9453b9f1eef5ca82f6dbd": {
      "model_module": "@jupyter-widgets/controls",
      "model_module_version": "1.5.0",
      "model_name": "DescriptionStyleModel",
      "state": {
       "description_width": ""
      }
     },
     "978605773ed64821950724c389f7efb7": {
      "model_module": "@jupyter-widgets/base",
      "model_module_version": "1.2.0",
      "model_name": "LayoutModel",
      "state": {
       "display": "inline-flex",
       "flex_flow": "row wrap",
       "width": "100%"
      }
     },
     "97a30586b0b3408a9eafeba4238905bd": {
      "model_module": "@jupyter-widgets/base",
      "model_module_version": "1.2.0",
      "model_name": "LayoutModel",
      "state": {
       "flex": "2"
      }
     },
     "97f4f0901a3041f9ac21bfbe43d09a17": {
      "model_module": "@jupyter-widgets/controls",
      "model_module_version": "1.5.0",
      "model_name": "HTMLModel",
      "state": {
       "layout": "IPY_MODEL_88376fe44a144f97af56c8edfd62e643",
       "style": "IPY_MODEL_4b319af8a51e44b7a415b70e4863140a",
       "value": "100%"
      }
     },
     "981459045b34487194a09021e30618fc": {
      "model_module": "@jupyter-widgets/controls",
      "model_module_version": "1.5.0",
      "model_name": "FloatProgressModel",
      "state": {
       "layout": "IPY_MODEL_a696471c39774ba3b393a1bfb409e8ca",
       "max": 80896,
       "style": "IPY_MODEL_34412bd1ea1d4bada88f027417783b04",
       "value": 80896
      }
     },
     "98359484bb1346539acd55b86cbe9484": {
      "model_module": "@jupyter-widgets/base",
      "model_module_version": "1.2.0",
      "model_name": "LayoutModel",
      "state": {
       "display": "inline-flex",
       "flex_flow": "row wrap",
       "width": "100%"
      }
     },
     "98970c1635384d4bbcfe6624b6a2477c": {
      "model_module": "@jupyter-widgets/base",
      "model_module_version": "1.2.0",
      "model_name": "LayoutModel",
      "state": {
       "flex": "2"
      }
     },
     "98e40551a7e94d5b89daf8c5cf11057d": {
      "model_module": "@jupyter-widgets/base",
      "model_module_version": "1.2.0",
      "model_name": "LayoutModel",
      "state": {}
     },
     "98e9fbce7be94680a7d46067942eca28": {
      "model_module": "@jupyter-widgets/base",
      "model_module_version": "1.2.0",
      "model_name": "LayoutModel",
      "state": {
       "display": "inline-flex",
       "flex_flow": "row wrap",
       "width": "100%"
      }
     },
     "995cbef6932842f4986aca8ac2721276": {
      "model_module": "@jupyter-widgets/base",
      "model_module_version": "1.2.0",
      "model_name": "LayoutModel",
      "state": {
       "flex": "2"
      }
     },
     "99677b01b03c439cb6be05766fa879fc": {
      "model_module": "@jupyter-widgets/controls",
      "model_module_version": "1.5.0",
      "model_name": "FloatProgressModel",
      "state": {
       "layout": "IPY_MODEL_ceeb78c46bbf4d12a19a6c78f88c3d4a",
       "max": 80896,
       "style": "IPY_MODEL_aa82454ab7ee407291bce72f5ca19b27",
       "value": 80896
      }
     },
     "99a5b8951e9743209fe9de1f4955b65d": {
      "model_module": "@jupyter-widgets/controls",
      "model_module_version": "1.5.0",
      "model_name": "DescriptionStyleModel",
      "state": {
       "description_width": ""
      }
     },
     "99ae0de7dbf745bdad954aa178ca8453": {
      "model_module": "@jupyter-widgets/controls",
      "model_module_version": "1.5.0",
      "model_name": "FloatProgressModel",
      "state": {
       "layout": "IPY_MODEL_f5d7d800f01341049098c3ea96a515a0",
       "max": 50,
       "style": "IPY_MODEL_96776f742445433ca698542385a7efb6",
       "value": 50
      }
     },
     "99c817224d464ee4a22cf08468cf1ce1": {
      "model_module": "@jupyter-widgets/base",
      "model_module_version": "1.2.0",
      "model_name": "LayoutModel",
      "state": {}
     },
     "99dd578f56034ff4a64f8422c6381a73": {
      "model_module": "@jupyter-widgets/controls",
      "model_module_version": "1.5.0",
      "model_name": "HTMLModel",
      "state": {
       "layout": "IPY_MODEL_ddf9b66914b84204acbad651baa64430",
       "style": "IPY_MODEL_5800b829f83340bca7db6ced0e7be28b",
       "value": "100%"
      }
     },
     "99ed1ba20fb84332bf05630044f9f602": {
      "model_module": "@jupyter-widgets/controls",
      "model_module_version": "1.5.0",
      "model_name": "ProgressStyleModel",
      "state": {
       "description_width": ""
      }
     },
     "99ee369436e6461abb42e5713af3573c": {
      "model_module": "@jupyter-widgets/controls",
      "model_module_version": "1.5.0",
      "model_name": "DescriptionStyleModel",
      "state": {
       "description_width": ""
      }
     },
     "9a10f4bcf74b4e7fa1eb890812b48aaa": {
      "model_module": "@jupyter-widgets/controls",
      "model_module_version": "1.5.0",
      "model_name": "DescriptionStyleModel",
      "state": {
       "description_width": ""
      }
     },
     "9a14273a31494fc1bf44f58e488fb6af": {
      "model_module": "@jupyter-widgets/base",
      "model_module_version": "1.2.0",
      "model_name": "LayoutModel",
      "state": {
       "flex": "2"
      }
     },
     "9a6e9118dac24c14addc8cb393fe5a0e": {
      "model_module": "@jupyter-widgets/base",
      "model_module_version": "1.2.0",
      "model_name": "LayoutModel",
      "state": {
       "display": "inline-flex",
       "flex_flow": "row wrap",
       "width": "100%"
      }
     },
     "9b128d975b254b33bef71b32ebd498d5": {
      "model_module": "@jupyter-widgets/base",
      "model_module_version": "1.2.0",
      "model_name": "LayoutModel",
      "state": {}
     },
     "9b7b1d632145430b91636ce8f8626932": {
      "model_module": "@jupyter-widgets/controls",
      "model_module_version": "1.5.0",
      "model_name": "DescriptionStyleModel",
      "state": {
       "description_width": ""
      }
     },
     "9baf987d520a47748de18003440b341b": {
      "model_module": "@jupyter-widgets/controls",
      "model_module_version": "1.5.0",
      "model_name": "HTMLModel",
      "state": {
       "layout": "IPY_MODEL_ea954fc1c8394af8adb648bdbfd1a497",
       "style": "IPY_MODEL_0477c43e7bd6457080a4b26186dcebc5",
       "value": "100%"
      }
     },
     "9bc9f358dbc44beebd04734405239cf6": {
      "model_module": "@jupyter-widgets/base",
      "model_module_version": "1.2.0",
      "model_name": "LayoutModel",
      "state": {
       "display": "inline-flex",
       "flex_flow": "row wrap",
       "width": "100%"
      }
     },
     "9ce6f6c454a54c9194bb438ad51596e0": {
      "model_module": "@jupyter-widgets/controls",
      "model_module_version": "1.5.0",
      "model_name": "ProgressStyleModel",
      "state": {
       "description_width": ""
      }
     },
     "9d44027188ab403f99781a703e7a7ba4": {
      "model_module": "@jupyter-widgets/controls",
      "model_module_version": "1.5.0",
      "model_name": "FloatProgressModel",
      "state": {
       "layout": "IPY_MODEL_aeb0cda4b54a479fa203de96adcff58a",
       "max": 10,
       "style": "IPY_MODEL_c072b2de78df4298ac1b8a09874d7e8b",
       "value": 10
      }
     },
     "9d7da9c967644fb5b56815e09fe593a6": {
      "model_module": "@jupyter-widgets/controls",
      "model_module_version": "1.5.0",
      "model_name": "DescriptionStyleModel",
      "state": {
       "description_width": ""
      }
     },
     "9da3515670e249d89e71cb2e2cbcc8e6": {
      "model_module": "@jupyter-widgets/controls",
      "model_module_version": "1.5.0",
      "model_name": "HTMLModel",
      "state": {
       "layout": "IPY_MODEL_d26bdce9077049278d2de32c5067a481",
       "style": "IPY_MODEL_47ee11b93ba84763afd6dcaf7dbdb1bf",
       "value": " 50/50 [00:02&lt;00:00,  8.46it/s]"
      }
     },
     "9dc523570cd1424eb8ac44926e68d4d4": {
      "model_module": "@jupyter-widgets/base",
      "model_module_version": "1.2.0",
      "model_name": "LayoutModel",
      "state": {}
     },
     "9e54e0a8635641039d4cde0b912d4494": {
      "model_module": "@jupyter-widgets/base",
      "model_module_version": "1.2.0",
      "model_name": "LayoutModel",
      "state": {}
     },
     "9e56e39124904591a37f2c3e6c650e13": {
      "model_module": "@jupyter-widgets/controls",
      "model_module_version": "1.5.0",
      "model_name": "HTMLModel",
      "state": {
       "layout": "IPY_MODEL_b6caab9eef0c4a1fab89cf77b8b26fbf",
       "style": "IPY_MODEL_5c04e1f56e78439aa019a89fce3d43dc",
       "value": " 50/50 [00:01&lt;00:00, 14.90it/s]"
      }
     },
     "9ece10aa9a93489886c5a71bb4161b4a": {
      "model_module": "@jupyter-widgets/base",
      "model_module_version": "1.2.0",
      "model_name": "LayoutModel",
      "state": {}
     },
     "9ed278de78fb475bbc74b763b6adbf31": {
      "model_module": "@jupyter-widgets/base",
      "model_module_version": "1.2.0",
      "model_name": "LayoutModel",
      "state": {}
     },
     "9ef561b4b12f49c6a25159733197e36a": {
      "model_module": "@jupyter-widgets/controls",
      "model_module_version": "1.5.0",
      "model_name": "ProgressStyleModel",
      "state": {
       "description_width": ""
      }
     },
     "9f1809b0ddb4482d883ab5d0f408ac39": {
      "model_module": "@jupyter-widgets/controls",
      "model_module_version": "1.5.0",
      "model_name": "DescriptionStyleModel",
      "state": {
       "description_width": ""
      }
     },
     "9f8698e2f98447809e02121c213b6e5a": {
      "model_module": "@jupyter-widgets/controls",
      "model_module_version": "1.5.0",
      "model_name": "HTMLModel",
      "state": {
       "layout": "IPY_MODEL_7052e8fd745b48e1a131b7e0e4a0e800",
       "style": "IPY_MODEL_a370ed12378e4c8b834358c9e8ddf433",
       "value": "100%"
      }
     },
     "9fb49165f8664dfda9fa489dad9c8aec": {
      "model_module": "@jupyter-widgets/controls",
      "model_module_version": "1.5.0",
      "model_name": "DescriptionStyleModel",
      "state": {
       "description_width": ""
      }
     },
     "a00303483a4b40dda507443ac6ab0f38": {
      "model_module": "@jupyter-widgets/base",
      "model_module_version": "1.2.0",
      "model_name": "LayoutModel",
      "state": {}
     },
     "a01a13a4e836450f88ae28d29c34977b": {
      "model_module": "@jupyter-widgets/controls",
      "model_module_version": "1.5.0",
      "model_name": "HTMLModel",
      "state": {
       "layout": "IPY_MODEL_020e81d0cb674d9086b5a4252299bc60",
       "style": "IPY_MODEL_b51c672680bf4831a1542d2d37546420",
       "value": " 75/75 [00:08&lt;00:00, 10.56it/s]"
      }
     },
     "a0433def3564432d99370a5b7716f92c": {
      "model_module": "@jupyter-widgets/controls",
      "model_module_version": "1.5.0",
      "model_name": "DescriptionStyleModel",
      "state": {
       "description_width": ""
      }
     },
     "a04c90fb4a8f44f2ba0474a442aad290": {
      "model_module": "@jupyter-widgets/controls",
      "model_module_version": "1.5.0",
      "model_name": "HTMLModel",
      "state": {
       "layout": "IPY_MODEL_25a28647195c4868a8396f096ce2b44b",
       "style": "IPY_MODEL_86ca4298ccd245e6b0705325f7a6eb38",
       "value": " 5/5 [00:01&lt;00:00,  4.60it/s]"
      }
     },
     "a069d203faec4ca38279b914a0095e50": {
      "model_module": "@jupyter-widgets/controls",
      "model_module_version": "1.5.0",
      "model_name": "ProgressStyleModel",
      "state": {
       "description_width": ""
      }
     },
     "a0e9981a7700473e99241a897359d226": {
      "model_module": "@jupyter-widgets/controls",
      "model_module_version": "1.5.0",
      "model_name": "HTMLModel",
      "state": {
       "layout": "IPY_MODEL_5804598789534c189ba1f4b106dc79a8",
       "style": "IPY_MODEL_744228a41df1416797d6ab6f49c48c85",
       "value": "100%"
      }
     },
     "a1093e79fe934456b5dab1580036a2e7": {
      "model_module": "@jupyter-widgets/base",
      "model_module_version": "1.2.0",
      "model_name": "LayoutModel",
      "state": {}
     },
     "a1313a5bedd0426e80e52a78910d5222": {
      "model_module": "@jupyter-widgets/base",
      "model_module_version": "1.2.0",
      "model_name": "LayoutModel",
      "state": {
       "flex": "2"
      }
     },
     "a17d6ef5bc7b497bb82952bb63d53b49": {
      "model_module": "@jupyter-widgets/controls",
      "model_module_version": "1.5.0",
      "model_name": "ProgressStyleModel",
      "state": {
       "description_width": ""
      }
     },
     "a1a7e15e95404687a42c47663d3c523c": {
      "model_module": "@jupyter-widgets/controls",
      "model_module_version": "1.5.0",
      "model_name": "DescriptionStyleModel",
      "state": {
       "description_width": ""
      }
     },
     "a265196835274188bd4b27ca289af60b": {
      "model_module": "@jupyter-widgets/base",
      "model_module_version": "1.2.0",
      "model_name": "LayoutModel",
      "state": {
       "flex": "2"
      }
     },
     "a3419af36a09426ba1bf142cca61307b": {
      "model_module": "@jupyter-widgets/base",
      "model_module_version": "1.2.0",
      "model_name": "LayoutModel",
      "state": {}
     },
     "a3586f814f64417c9eb8e4272fed98a4": {
      "model_module": "@jupyter-widgets/controls",
      "model_module_version": "1.5.0",
      "model_name": "DescriptionStyleModel",
      "state": {
       "description_width": ""
      }
     },
     "a358ff4aca014b04892d02b0f0449765": {
      "model_module": "@jupyter-widgets/base",
      "model_module_version": "1.2.0",
      "model_name": "LayoutModel",
      "state": {}
     },
     "a36505a147604a619ceee263407777b2": {
      "model_module": "@jupyter-widgets/controls",
      "model_module_version": "1.5.0",
      "model_name": "FloatProgressModel",
      "state": {
       "layout": "IPY_MODEL_d0d4ae1c86cd4a50966ac176defc3886",
       "max": 10,
       "style": "IPY_MODEL_bfa81205965e474381ece812a0e83062",
       "value": 10
      }
     },
     "a370ed12378e4c8b834358c9e8ddf433": {
      "model_module": "@jupyter-widgets/controls",
      "model_module_version": "1.5.0",
      "model_name": "DescriptionStyleModel",
      "state": {
       "description_width": ""
      }
     },
     "a4013f6ab1034c7fa521fa3d72c25599": {
      "model_module": "@jupyter-widgets/controls",
      "model_module_version": "1.5.0",
      "model_name": "HTMLModel",
      "state": {
       "layout": "IPY_MODEL_08d134a2dc114d108fb5bba7e53b4803",
       "style": "IPY_MODEL_a1a7e15e95404687a42c47663d3c523c",
       "value": "100%"
      }
     },
     "a44a6f922737435f928cfe3e6440b4cf": {
      "model_module": "@jupyter-widgets/base",
      "model_module_version": "1.2.0",
      "model_name": "LayoutModel",
      "state": {
       "flex": "2"
      }
     },
     "a46ae0942f654330be4cfd09ca3afcc9": {
      "model_module": "@jupyter-widgets/base",
      "model_module_version": "1.2.0",
      "model_name": "LayoutModel",
      "state": {}
     },
     "a476f8f3a4304e3b8086f3c064b28f58": {
      "model_module": "@jupyter-widgets/controls",
      "model_module_version": "1.5.0",
      "model_name": "ProgressStyleModel",
      "state": {
       "description_width": ""
      }
     },
     "a4b122b7f44141cd9b518aa61ebcb511": {
      "model_module": "@jupyter-widgets/base",
      "model_module_version": "1.2.0",
      "model_name": "LayoutModel",
      "state": {}
     },
     "a4fbe9451ccd47b890d0d3906ea4bc37": {
      "model_module": "@jupyter-widgets/controls",
      "model_module_version": "1.5.0",
      "model_name": "ProgressStyleModel",
      "state": {
       "description_width": ""
      }
     },
     "a536064dd8684202888b09dc01e3ea83": {
      "model_module": "@jupyter-widgets/base",
      "model_module_version": "1.2.0",
      "model_name": "LayoutModel",
      "state": {
       "display": "inline-flex",
       "flex_flow": "row wrap",
       "width": "100%"
      }
     },
     "a54af6b09fca4a768bfedb6d9beccdc1": {
      "model_module": "@jupyter-widgets/base",
      "model_module_version": "1.2.0",
      "model_name": "LayoutModel",
      "state": {}
     },
     "a55c6fdd3a2a4ab6bc97cf6aa1979f25": {
      "model_module": "@jupyter-widgets/controls",
      "model_module_version": "1.5.0",
      "model_name": "FloatProgressModel",
      "state": {
       "layout": "IPY_MODEL_b557b4e0c3ec44bf911ecb401d761735",
       "max": 30,
       "style": "IPY_MODEL_c2d7ea5998bd41809362d3126b704bc0",
       "value": 30
      }
     },
     "a574cd0a0a744c74854c64b1d5e24e2c": {
      "model_module": "@jupyter-widgets/controls",
      "model_module_version": "1.5.0",
      "model_name": "DescriptionStyleModel",
      "state": {
       "description_width": ""
      }
     },
     "a59c40fb5ef447a9bf4985ff38905376": {
      "model_module": "@jupyter-widgets/controls",
      "model_module_version": "1.5.0",
      "model_name": "HTMLModel",
      "state": {
       "layout": "IPY_MODEL_adb57b5209254028a3d95380157ee2e2",
       "style": "IPY_MODEL_d4bccf13af844e2db97fcc19796effce",
       "value": "100%"
      }
     },
     "a59c7b0d61e64da4a62b5b957db6727d": {
      "model_module": "@jupyter-widgets/base",
      "model_module_version": "1.2.0",
      "model_name": "LayoutModel",
      "state": {
       "display": "inline-flex",
       "flex_flow": "row wrap",
       "width": "100%"
      }
     },
     "a5a45ec9937744cc8ad7cf5a9d46320e": {
      "model_module": "@jupyter-widgets/controls",
      "model_module_version": "1.5.0",
      "model_name": "HTMLModel",
      "state": {
       "layout": "IPY_MODEL_e03be6c858a44ef6a513ac201f34d193",
       "style": "IPY_MODEL_3f583a51c69745f586fec96214281f35",
       "value": " 80896/80896 [00:04&lt;00:00, 17184.33it/s]"
      }
     },
     "a5fcf4ad0d27454db15b2a2d4631504b": {
      "model_module": "@jupyter-widgets/controls",
      "model_module_version": "1.5.0",
      "model_name": "DescriptionStyleModel",
      "state": {
       "description_width": ""
      }
     },
     "a665b8c9b5b74cffa49045b378462664": {
      "model_module": "@jupyter-widgets/base",
      "model_module_version": "1.2.0",
      "model_name": "LayoutModel",
      "state": {}
     },
     "a679881ab689400ca1ae730c4774f662": {
      "model_module": "@jupyter-widgets/controls",
      "model_module_version": "1.5.0",
      "model_name": "HTMLModel",
      "state": {
       "layout": "IPY_MODEL_ddd3660c56ec482f99385e95d1d6441b",
       "style": "IPY_MODEL_5405f51620764a4f901613facf7d91a2",
       "value": "100%"
      }
     },
     "a67d5de297044e55a45e56f08554c92e": {
      "model_module": "@jupyter-widgets/controls",
      "model_module_version": "1.5.0",
      "model_name": "HTMLModel",
      "state": {
       "layout": "IPY_MODEL_fddc4a06e0754a1fb54645ee604e9348",
       "style": "IPY_MODEL_4d84091cac344df7ae20f34240251f41",
       "value": " 80896/80896 [09:11&lt;00:00, 16650.41it/s]"
      }
     },
     "a68836639e3745958935d2958c977ac5": {
      "model_module": "@jupyter-widgets/controls",
      "model_module_version": "1.5.0",
      "model_name": "FloatProgressModel",
      "state": {
       "layout": "IPY_MODEL_09152add845447c2a83849559dbec268",
       "max": 80896,
       "style": "IPY_MODEL_cec9879a94284fbd92ceac1ec3be8dcd",
       "value": 80896
      }
     },
     "a696471c39774ba3b393a1bfb409e8ca": {
      "model_module": "@jupyter-widgets/base",
      "model_module_version": "1.2.0",
      "model_name": "LayoutModel",
      "state": {
       "flex": "2"
      }
     },
     "a6a63211b06348a39c2c6632b0c996ba": {
      "model_module": "@jupyter-widgets/base",
      "model_module_version": "1.2.0",
      "model_name": "LayoutModel",
      "state": {}
     },
     "a700545fd71e4c0cb549770f3cea9c3e": {
      "model_module": "@jupyter-widgets/base",
      "model_module_version": "1.2.0",
      "model_name": "LayoutModel",
      "state": {
       "display": "inline-flex",
       "flex_flow": "row wrap",
       "width": "100%"
      }
     },
     "a73b5b8613a84962881f8daa8ad3fbfd": {
      "model_module": "@jupyter-widgets/base",
      "model_module_version": "1.2.0",
      "model_name": "LayoutModel",
      "state": {}
     },
     "a74569b48caf4f7abbbb9486f158fd63": {
      "model_module": "@jupyter-widgets/base",
      "model_module_version": "1.2.0",
      "model_name": "LayoutModel",
      "state": {
       "display": "inline-flex",
       "flex_flow": "row wrap",
       "width": "100%"
      }
     },
     "a78318ed48614d5094e7c2d183dc81f2": {
      "model_module": "@jupyter-widgets/base",
      "model_module_version": "1.2.0",
      "model_name": "LayoutModel",
      "state": {
       "flex": "2"
      }
     },
     "a800b43bc25d44cca97b54924fc29879": {
      "model_module": "@jupyter-widgets/base",
      "model_module_version": "1.2.0",
      "model_name": "LayoutModel",
      "state": {}
     },
     "a870b30e558d4b0a8477eaa3f14be3e9": {
      "model_module": "@jupyter-widgets/controls",
      "model_module_version": "1.5.0",
      "model_name": "DescriptionStyleModel",
      "state": {
       "description_width": ""
      }
     },
     "a8a13f35e5ac4d518dfce792144420f0": {
      "model_module": "@jupyter-widgets/base",
      "model_module_version": "1.2.0",
      "model_name": "LayoutModel",
      "state": {}
     },
     "a8c8667bdcbb455091d309f15238ffd6": {
      "model_module": "@jupyter-widgets/controls",
      "model_module_version": "1.5.0",
      "model_name": "DescriptionStyleModel",
      "state": {
       "description_width": ""
      }
     },
     "a8ee57f71da346609090a28a01c6ab94": {
      "model_module": "@jupyter-widgets/controls",
      "model_module_version": "1.5.0",
      "model_name": "HTMLModel",
      "state": {
       "layout": "IPY_MODEL_92d14ff2e96c4570a6fcb2d43637dbea",
       "style": "IPY_MODEL_d46c2e046e604febb4cd6e63ede15a34",
       "value": "100%"
      }
     },
     "a989bfc2ed2343678e0c4015f3c57875": {
      "model_module": "@jupyter-widgets/base",
      "model_module_version": "1.2.0",
      "model_name": "LayoutModel",
      "state": {}
     },
     "a9cf08c4375d4da7b3feda91fc6a75ad": {
      "model_module": "@jupyter-widgets/controls",
      "model_module_version": "1.5.0",
      "model_name": "HTMLModel",
      "state": {
       "layout": "IPY_MODEL_bb8b8f5ab616450884e58d04c6d30b8e",
       "style": "IPY_MODEL_1acf26fbbb8b446eb40e8ccee62e0912",
       "value": "100%"
      }
     },
     "a9d3d36217c349f4af43794fd1f974a8": {
      "model_module": "@jupyter-widgets/controls",
      "model_module_version": "1.5.0",
      "model_name": "DescriptionStyleModel",
      "state": {
       "description_width": ""
      }
     },
     "aa0f712459934df0a98a1eef665734bb": {
      "model_module": "@jupyter-widgets/base",
      "model_module_version": "1.2.0",
      "model_name": "LayoutModel",
      "state": {}
     },
     "aa15ecda3dec48008e078eb4dab7c3e2": {
      "model_module": "@jupyter-widgets/controls",
      "model_module_version": "1.5.0",
      "model_name": "HTMLModel",
      "state": {
       "layout": "IPY_MODEL_cfb313278b014bbba9bd6e25c19842af",
       "style": "IPY_MODEL_d4299587c78544e489e381f7cf3433de",
       "value": "100%"
      }
     },
     "aa2bf7f940fc4b13bbe9a3d64e6699c5": {
      "model_module": "@jupyter-widgets/controls",
      "model_module_version": "1.5.0",
      "model_name": "DescriptionStyleModel",
      "state": {
       "description_width": ""
      }
     },
     "aa31a3abcc404e4e891ef26f2ba8d4d4": {
      "model_module": "@jupyter-widgets/controls",
      "model_module_version": "1.5.0",
      "model_name": "HTMLModel",
      "state": {
       "layout": "IPY_MODEL_26062640c3684cdc8ca0bc30eff821f9",
       "style": "IPY_MODEL_ad651ada074343bcb77aeb39b6a11f1b",
       "value": " 50/50 [00:11&lt;00:00, 23.84it/s]"
      }
     },
     "aa35326bf65849d787b544b90441ed92": {
      "model_module": "@jupyter-widgets/base",
      "model_module_version": "1.2.0",
      "model_name": "LayoutModel",
      "state": {}
     },
     "aa82454ab7ee407291bce72f5ca19b27": {
      "model_module": "@jupyter-widgets/controls",
      "model_module_version": "1.5.0",
      "model_name": "ProgressStyleModel",
      "state": {
       "description_width": ""
      }
     },
     "aa9b8157152741a6a44cc4b7b11e6bf1": {
      "model_module": "@jupyter-widgets/base",
      "model_module_version": "1.2.0",
      "model_name": "LayoutModel",
      "state": {}
     },
     "aaa01138968b4bf1a749ce88f833e1fc": {
      "model_module": "@jupyter-widgets/controls",
      "model_module_version": "1.5.0",
      "model_name": "DescriptionStyleModel",
      "state": {
       "description_width": ""
      }
     },
     "ab09407b4ccf4e36a1e26587616a2b8f": {
      "model_module": "@jupyter-widgets/base",
      "model_module_version": "1.2.0",
      "model_name": "LayoutModel",
      "state": {
       "display": "inline-flex",
       "flex_flow": "row wrap",
       "width": "100%"
      }
     },
     "ab12cf4dc831409aba369e75fa0bcb1f": {
      "model_module": "@jupyter-widgets/base",
      "model_module_version": "1.2.0",
      "model_name": "LayoutModel",
      "state": {
       "display": "inline-flex",
       "flex_flow": "row wrap",
       "width": "100%"
      }
     },
     "ab64f5fecfaa4043b8a901c9793a76bc": {
      "model_module": "@jupyter-widgets/base",
      "model_module_version": "1.2.0",
      "model_name": "LayoutModel",
      "state": {}
     },
     "ac0ff54e358d4845a3aa7beba5a489da": {
      "model_module": "@jupyter-widgets/controls",
      "model_module_version": "1.5.0",
      "model_name": "FloatProgressModel",
      "state": {
       "layout": "IPY_MODEL_07090e4f85f044b389e0567f298f10dc",
       "max": 50,
       "style": "IPY_MODEL_5d14b9f11d9f4377907f936976460d97",
       "value": 50
      }
     },
     "ac2afbdf1e4a4f339974e9151c283d7a": {
      "model_module": "@jupyter-widgets/controls",
      "model_module_version": "1.5.0",
      "model_name": "DescriptionStyleModel",
      "state": {
       "description_width": ""
      }
     },
     "acefe53f53f2480fab76d6048b5710c2": {
      "model_module": "@jupyter-widgets/base",
      "model_module_version": "1.2.0",
      "model_name": "LayoutModel",
      "state": {}
     },
     "acf64fff34a04a87bcc2dbbdd0b7c4a5": {
      "model_module": "@jupyter-widgets/base",
      "model_module_version": "1.2.0",
      "model_name": "LayoutModel",
      "state": {
       "flex": "2"
      }
     },
     "ad28134efb8c410a97985c9790beef9b": {
      "model_module": "@jupyter-widgets/controls",
      "model_module_version": "1.5.0",
      "model_name": "ProgressStyleModel",
      "state": {
       "description_width": ""
      }
     },
     "ad4005ee670b48a89f19511d82ad3c30": {
      "model_module": "@jupyter-widgets/controls",
      "model_module_version": "1.5.0",
      "model_name": "FloatProgressModel",
      "state": {
       "layout": "IPY_MODEL_8bb1bf8e27cd4bf79241b50f5080d768",
       "max": 80896,
       "style": "IPY_MODEL_9ce6f6c454a54c9194bb438ad51596e0",
       "value": 80896
      }
     },
     "ad651ada074343bcb77aeb39b6a11f1b": {
      "model_module": "@jupyter-widgets/controls",
      "model_module_version": "1.5.0",
      "model_name": "DescriptionStyleModel",
      "state": {
       "description_width": ""
      }
     },
     "ad967abfd4534412a70f968da4599c0a": {
      "model_module": "@jupyter-widgets/controls",
      "model_module_version": "1.5.0",
      "model_name": "HTMLModel",
      "state": {
       "layout": "IPY_MODEL_bab59399d4d84a53b0cf0e0c9f8cbb5c",
       "style": "IPY_MODEL_5e32a37c4f7548668eba8e011878e47d",
       "value": " 5/5 [00:01&lt;00:00,  3.44it/s]"
      }
     },
     "adb57b5209254028a3d95380157ee2e2": {
      "model_module": "@jupyter-widgets/base",
      "model_module_version": "1.2.0",
      "model_name": "LayoutModel",
      "state": {}
     },
     "adc8b6ebdc1b4544ab762b2a6d330830": {
      "model_module": "@jupyter-widgets/base",
      "model_module_version": "1.2.0",
      "model_name": "LayoutModel",
      "state": {
       "flex": "2"
      }
     },
     "aeb0cda4b54a479fa203de96adcff58a": {
      "model_module": "@jupyter-widgets/base",
      "model_module_version": "1.2.0",
      "model_name": "LayoutModel",
      "state": {
       "flex": "2"
      }
     },
     "aec879613e934be8a3e827cac160b093": {
      "model_module": "@jupyter-widgets/controls",
      "model_module_version": "1.5.0",
      "model_name": "ProgressStyleModel",
      "state": {
       "description_width": ""
      }
     },
     "aee3bce68218462195f672428efa1184": {
      "model_module": "@jupyter-widgets/base",
      "model_module_version": "1.2.0",
      "model_name": "LayoutModel",
      "state": {}
     },
     "aef19020b9f3429c9b1f65d63331edce": {
      "model_module": "@jupyter-widgets/controls",
      "model_module_version": "1.5.0",
      "model_name": "ProgressStyleModel",
      "state": {
       "description_width": ""
      }
     },
     "af19ae79fdd240d39e06f4c7d8093750": {
      "model_module": "@jupyter-widgets/controls",
      "model_module_version": "1.5.0",
      "model_name": "DescriptionStyleModel",
      "state": {
       "description_width": ""
      }
     },
     "af20648ccaff4d809b8b532b6c5e0064": {
      "model_module": "@jupyter-widgets/controls",
      "model_module_version": "1.5.0",
      "model_name": "HTMLModel",
      "state": {
       "layout": "IPY_MODEL_aa0f712459934df0a98a1eef665734bb",
       "style": "IPY_MODEL_736945dd9cad4c7ca24f8a9377d73cd5",
       "value": "100%"
      }
     },
     "af4ce3f8435b4c8696cbbe69d5213ae2": {
      "model_module": "@jupyter-widgets/base",
      "model_module_version": "1.2.0",
      "model_name": "LayoutModel",
      "state": {
       "flex": "2"
      }
     },
     "af6dd418cf6241ac89807e24fc7e2f30": {
      "model_module": "@jupyter-widgets/controls",
      "model_module_version": "1.5.0",
      "model_name": "HTMLModel",
      "state": {
       "layout": "IPY_MODEL_746d4bece2b74f708a9787d1a759e3e2",
       "style": "IPY_MODEL_5154bed6eead4893a15fab7b8b4830f2",
       "value": "100%"
      }
     },
     "af74392a69564fde8e17373ef4802eba": {
      "model_module": "@jupyter-widgets/controls",
      "model_module_version": "1.5.0",
      "model_name": "HTMLModel",
      "state": {
       "layout": "IPY_MODEL_6b938c2067f2465ebd58673ab80c7b7a",
       "style": "IPY_MODEL_5b1ce993faa14a1286ef5cdc4ea54720",
       "value": "100%"
      }
     },
     "af9b5ec4a8b7459b8e39849b2a0325f9": {
      "model_module": "@jupyter-widgets/base",
      "model_module_version": "1.2.0",
      "model_name": "LayoutModel",
      "state": {}
     },
     "afaeaa20b9c5482d9cb5a567e0129226": {
      "model_module": "@jupyter-widgets/controls",
      "model_module_version": "1.5.0",
      "model_name": "DescriptionStyleModel",
      "state": {
       "description_width": ""
      }
     },
     "afea89909f954c9a86af94c8f08e2145": {
      "model_module": "@jupyter-widgets/base",
      "model_module_version": "1.2.0",
      "model_name": "LayoutModel",
      "state": {
       "display": "inline-flex",
       "flex_flow": "row wrap",
       "width": "100%"
      }
     },
     "b041d9938fb2477a913c5660fd103221": {
      "model_module": "@jupyter-widgets/controls",
      "model_module_version": "1.5.0",
      "model_name": "DescriptionStyleModel",
      "state": {
       "description_width": ""
      }
     },
     "b0750f9e7cea46bfb250fd734f33d584": {
      "model_module": "@jupyter-widgets/controls",
      "model_module_version": "1.5.0",
      "model_name": "HTMLModel",
      "state": {
       "layout": "IPY_MODEL_1a368308f2bc4084aa10502174bb2c48",
       "style": "IPY_MODEL_7cf540c4f15c4a598c61e2749028998a",
       "value": "100%"
      }
     },
     "b10816de82e94fceb991aa7082789161": {
      "model_module": "@jupyter-widgets/controls",
      "model_module_version": "1.5.0",
      "model_name": "DescriptionStyleModel",
      "state": {
       "description_width": ""
      }
     },
     "b141d74d41844d238776f6211f96c8f2": {
      "model_module": "@jupyter-widgets/base",
      "model_module_version": "1.2.0",
      "model_name": "LayoutModel",
      "state": {}
     },
     "b15359319c0d4bf0983d0e1e465c0b25": {
      "model_module": "@jupyter-widgets/controls",
      "model_module_version": "1.5.0",
      "model_name": "ProgressStyleModel",
      "state": {
       "description_width": ""
      }
     },
     "b1d4a753841c44c791a5c5a5b45741b3": {
      "model_module": "@jupyter-widgets/controls",
      "model_module_version": "1.5.0",
      "model_name": "HTMLModel",
      "state": {
       "layout": "IPY_MODEL_22e7e88056d244f39bd56ddb8fc6364d",
       "style": "IPY_MODEL_ca7b39b949cb4398aa3ea54882dbb68b",
       "value": "100%"
      }
     },
     "b1f5eabd04e142bea03c3af9949f9bc7": {
      "model_module": "@jupyter-widgets/base",
      "model_module_version": "1.2.0",
      "model_name": "LayoutModel",
      "state": {}
     },
     "b206fea3a03549d295905fc3d893b1a4": {
      "model_module": "@jupyter-widgets/base",
      "model_module_version": "1.2.0",
      "model_name": "LayoutModel",
      "state": {
       "display": "inline-flex",
       "flex_flow": "row wrap",
       "width": "100%"
      }
     },
     "b2528c3b0966405b93a2ff223e09359c": {
      "model_module": "@jupyter-widgets/controls",
      "model_module_version": "1.5.0",
      "model_name": "FloatProgressModel",
      "state": {
       "layout": "IPY_MODEL_342e968c3e734806ac9c2256a71e0ce3",
       "max": 80896,
       "style": "IPY_MODEL_8f49d4ebde3b48d3842b2aa687cd74f1",
       "value": 80896
      }
     },
     "b294abf2be4349f996a41d5517651b77": {
      "model_module": "@jupyter-widgets/controls",
      "model_module_version": "1.5.0",
      "model_name": "DescriptionStyleModel",
      "state": {
       "description_width": ""
      }
     },
     "b3292b5f9c9e4b3d978bfe78674580ae": {
      "model_module": "@jupyter-widgets/controls",
      "model_module_version": "1.5.0",
      "model_name": "FloatProgressModel",
      "state": {
       "layout": "IPY_MODEL_995cbef6932842f4986aca8ac2721276",
       "max": 200,
       "style": "IPY_MODEL_a476f8f3a4304e3b8086f3c064b28f58",
       "value": 200
      }
     },
     "b421cb36ab6d49cdb4ad3ae28db90ff3": {
      "model_module": "@jupyter-widgets/controls",
      "model_module_version": "1.5.0",
      "model_name": "DescriptionStyleModel",
      "state": {
       "description_width": ""
      }
     },
     "b471e36b8e8541928a4d48d0d653a7c2": {
      "model_module": "@jupyter-widgets/controls",
      "model_module_version": "1.5.0",
      "model_name": "HTMLModel",
      "state": {
       "layout": "IPY_MODEL_220bbd82469d447296bfcdfdad03b296",
       "style": "IPY_MODEL_84a48189746e46eb98e5d0babed05677",
       "value": "100%"
      }
     },
     "b51c672680bf4831a1542d2d37546420": {
      "model_module": "@jupyter-widgets/controls",
      "model_module_version": "1.5.0",
      "model_name": "DescriptionStyleModel",
      "state": {
       "description_width": ""
      }
     },
     "b536648efbb94d958a00452d8082c531": {
      "model_module": "@jupyter-widgets/controls",
      "model_module_version": "1.5.0",
      "model_name": "ProgressStyleModel",
      "state": {
       "description_width": ""
      }
     },
     "b557b4e0c3ec44bf911ecb401d761735": {
      "model_module": "@jupyter-widgets/base",
      "model_module_version": "1.2.0",
      "model_name": "LayoutModel",
      "state": {
       "flex": "2"
      }
     },
     "b58d5f4bd9d249e9b8a1ecf6d7192f08": {
      "model_module": "@jupyter-widgets/base",
      "model_module_version": "1.2.0",
      "model_name": "LayoutModel",
      "state": {
       "display": "inline-flex",
       "flex_flow": "row wrap",
       "width": "100%"
      }
     },
     "b6131941bb2546ed91c1387201840a04": {
      "model_module": "@jupyter-widgets/controls",
      "model_module_version": "1.5.0",
      "model_name": "DescriptionStyleModel",
      "state": {
       "description_width": ""
      }
     },
     "b6473a211d6e48d9afee5489bf951efe": {
      "model_module": "@jupyter-widgets/controls",
      "model_module_version": "1.5.0",
      "model_name": "FloatProgressModel",
      "state": {
       "layout": "IPY_MODEL_5f2279d2f68a4fcfb463696b65b97842",
       "max": 80896,
       "style": "IPY_MODEL_01d7303db485421d8bfe9a488d836d24",
       "value": 80896
      }
     },
     "b64796d20b484e01835f1cb822013043": {
      "model_module": "@jupyter-widgets/controls",
      "model_module_version": "1.5.0",
      "model_name": "DescriptionStyleModel",
      "state": {
       "description_width": ""
      }
     },
     "b675859402a64c6f857e7d4d96a75eb9": {
      "model_module": "@jupyter-widgets/base",
      "model_module_version": "1.2.0",
      "model_name": "LayoutModel",
      "state": {
       "flex": "2"
      }
     },
     "b690c2a75197428aa91b50e95b0ca497": {
      "model_module": "@jupyter-widgets/controls",
      "model_module_version": "1.5.0",
      "model_name": "FloatProgressModel",
      "state": {
       "layout": "IPY_MODEL_4deda0dbe2104a2db5578ed366b6853c",
       "max": 50,
       "style": "IPY_MODEL_69778c8efd3f4c4d923cb3013452a01a",
       "value": 50
      }
     },
     "b6caab9eef0c4a1fab89cf77b8b26fbf": {
      "model_module": "@jupyter-widgets/base",
      "model_module_version": "1.2.0",
      "model_name": "LayoutModel",
      "state": {}
     },
     "b6d94bfee9b248edb93a0a39bf7cb917": {
      "model_module": "@jupyter-widgets/controls",
      "model_module_version": "1.5.0",
      "model_name": "FloatProgressModel",
      "state": {
       "layout": "IPY_MODEL_7c064a22b1404bd18746814685b585dd",
       "max": 50,
       "style": "IPY_MODEL_eb10d498e46240f9b3dc198774795b84",
       "value": 50
      }
     },
     "b6e141797416446d9d4a385bfe24a50e": {
      "model_module": "@jupyter-widgets/base",
      "model_module_version": "1.2.0",
      "model_name": "LayoutModel",
      "state": {
       "display": "inline-flex",
       "flex_flow": "row wrap",
       "width": "100%"
      }
     },
     "b71761a8edff47a886e5b2240ccdd9bb": {
      "model_module": "@jupyter-widgets/controls",
      "model_module_version": "1.5.0",
      "model_name": "ProgressStyleModel",
      "state": {
       "description_width": ""
      }
     },
     "b76f765bba344738be0be25a44d3f2d1": {
      "model_module": "@jupyter-widgets/base",
      "model_module_version": "1.2.0",
      "model_name": "LayoutModel",
      "state": {}
     },
     "b79d39db9c0e4983969411ab595bc806": {
      "model_module": "@jupyter-widgets/controls",
      "model_module_version": "1.5.0",
      "model_name": "DescriptionStyleModel",
      "state": {
       "description_width": ""
      }
     },
     "b85dd7855fcb4fdb8a8bd807f6c003ff": {
      "model_module": "@jupyter-widgets/controls",
      "model_module_version": "1.5.0",
      "model_name": "DescriptionStyleModel",
      "state": {
       "description_width": ""
      }
     },
     "b90d0c85fecf4e20bc6c9f4ae6583229": {
      "model_module": "@jupyter-widgets/controls",
      "model_module_version": "1.5.0",
      "model_name": "ProgressStyleModel",
      "state": {
       "description_width": ""
      }
     },
     "b913d22f4bc241bc98dd677ad5c39703": {
      "model_module": "@jupyter-widgets/controls",
      "model_module_version": "1.5.0",
      "model_name": "HTMLModel",
      "state": {
       "layout": "IPY_MODEL_679bfe3bfd3a42f0bbfd96f008d5a3f6",
       "style": "IPY_MODEL_9b7b1d632145430b91636ce8f8626932",
       "value": "100%"
      }
     },
     "b94bfe60fad345c2b3baf37c33cc676e": {
      "model_module": "@jupyter-widgets/controls",
      "model_module_version": "1.5.0",
      "model_name": "HTMLModel",
      "state": {
       "layout": "IPY_MODEL_38e6f4676c8d40e3999132ae877af045",
       "style": "IPY_MODEL_84ca15cd263643639ff64cb29d90fdf5",
       "value": "100%"
      }
     },
     "b9ea53d7f21b4c2599ee75561d52bf6e": {
      "model_module": "@jupyter-widgets/controls",
      "model_module_version": "1.5.0",
      "model_name": "ProgressStyleModel",
      "state": {
       "description_width": ""
      }
     },
     "ba02dd3c81324f30bfacc11947947a50": {
      "model_module": "@jupyter-widgets/controls",
      "model_module_version": "1.5.0",
      "model_name": "HTMLModel",
      "state": {
       "layout": "IPY_MODEL_d8672fea09304cafa6774eb5b808480f",
       "style": "IPY_MODEL_37eaff6f4d6344eebc6f8c97b7c7db15",
       "value": "100%"
      }
     },
     "ba414bdedd744476973bc9b9abfadab4": {
      "model_module": "@jupyter-widgets/controls",
      "model_module_version": "1.5.0",
      "model_name": "DescriptionStyleModel",
      "state": {
       "description_width": ""
      }
     },
     "ba781b1974384e24a46677b2478dbbb0": {
      "model_module": "@jupyter-widgets/controls",
      "model_module_version": "1.5.0",
      "model_name": "FloatProgressModel",
      "state": {
       "layout": "IPY_MODEL_f2b1352402e749e8baea3c943ae7f99c",
       "max": 50,
       "style": "IPY_MODEL_ee95adbcfc0c470995bd097d24ff4d84",
       "value": 50
      }
     },
     "ba8b136772c8490ba614f887e777c278": {
      "model_module": "@jupyter-widgets/controls",
      "model_module_version": "1.5.0",
      "model_name": "DescriptionStyleModel",
      "state": {
       "description_width": ""
      }
     },
     "baad4b9466d64be7b7ceb5a9a2cd00a5": {
      "model_module": "@jupyter-widgets/base",
      "model_module_version": "1.2.0",
      "model_name": "LayoutModel",
      "state": {
       "display": "inline-flex",
       "flex_flow": "row wrap",
       "width": "100%"
      }
     },
     "bab59399d4d84a53b0cf0e0c9f8cbb5c": {
      "model_module": "@jupyter-widgets/base",
      "model_module_version": "1.2.0",
      "model_name": "LayoutModel",
      "state": {}
     },
     "bae3aae7bf3341afbb92a084e528e8e8": {
      "model_module": "@jupyter-widgets/base",
      "model_module_version": "1.2.0",
      "model_name": "LayoutModel",
      "state": {
       "flex": "2"
      }
     },
     "bb0650fd77fa4b308c7b907ff92e8754": {
      "model_module": "@jupyter-widgets/base",
      "model_module_version": "1.2.0",
      "model_name": "LayoutModel",
      "state": {
       "display": "inline-flex",
       "flex_flow": "row wrap",
       "width": "100%"
      }
     },
     "bb3838df37f04b0cae5d5785f0f25c39": {
      "model_module": "@jupyter-widgets/controls",
      "model_module_version": "1.5.0",
      "model_name": "FloatProgressModel",
      "state": {
       "layout": "IPY_MODEL_c00169390a4a4143a370d5041d2a4bda",
       "max": 200,
       "style": "IPY_MODEL_ad28134efb8c410a97985c9790beef9b",
       "value": 200
      }
     },
     "bb8b8f5ab616450884e58d04c6d30b8e": {
      "model_module": "@jupyter-widgets/base",
      "model_module_version": "1.2.0",
      "model_name": "LayoutModel",
      "state": {}
     },
     "bb9fd90f43f14b7abd1d635017081e0e": {
      "model_module": "@jupyter-widgets/base",
      "model_module_version": "1.2.0",
      "model_name": "LayoutModel",
      "state": {
       "display": "inline-flex",
       "flex_flow": "row wrap",
       "width": "100%"
      }
     },
     "bbd25114113444b0ae166418140f2d03": {
      "model_module": "@jupyter-widgets/base",
      "model_module_version": "1.2.0",
      "model_name": "LayoutModel",
      "state": {
       "display": "inline-flex",
       "flex_flow": "row wrap",
       "width": "100%"
      }
     },
     "bbf5a154e45c4c1c8e12f28e641a5093": {
      "model_module": "@jupyter-widgets/controls",
      "model_module_version": "1.5.0",
      "model_name": "HTMLModel",
      "state": {
       "layout": "IPY_MODEL_921dc755a6db4d938298f5cb95abb740",
       "style": "IPY_MODEL_2e714da956914f02a8377af67fffb027",
       "value": " 200/200 [00:24&lt;00:00,  9.14it/s]"
      }
     },
     "bca3d28beffb4eff81ac42f5e02dd7a0": {
      "model_module": "@jupyter-widgets/base",
      "model_module_version": "1.2.0",
      "model_name": "LayoutModel",
      "state": {}
     },
     "bced5077ecc44c6380c4d7492e608e87": {
      "model_module": "@jupyter-widgets/controls",
      "model_module_version": "1.5.0",
      "model_name": "HTMLModel",
      "state": {
       "layout": "IPY_MODEL_d50adafad0ae4014bded8feb71ccf36d",
       "style": "IPY_MODEL_7a0ca2aee1fc4cbfb55750ac06666602",
       "value": " 80896/80896 [00:05&lt;00:00, 16370.49it/s]"
      }
     },
     "bd3715949d5b47bbb5de6d3bd447ce81": {
      "model_module": "@jupyter-widgets/base",
      "model_module_version": "1.2.0",
      "model_name": "LayoutModel",
      "state": {
       "flex": "2"
      }
     },
     "bdf797fa6f8d44d899e076b1c4a247ba": {
      "model_module": "@jupyter-widgets/base",
      "model_module_version": "1.2.0",
      "model_name": "LayoutModel",
      "state": {
       "display": "inline-flex",
       "flex_flow": "row wrap",
       "width": "100%"
      }
     },
     "be067836060f403e827299afdd221492": {
      "model_module": "@jupyter-widgets/controls",
      "model_module_version": "1.5.0",
      "model_name": "HTMLModel",
      "state": {
       "layout": "IPY_MODEL_8f7f2c6242054b069a4ee5c8c7c7101b",
       "style": "IPY_MODEL_5371d6dae2824a6eba369b9d451e1641",
       "value": " 450/450 [00:24&lt;00:00, 35.77it/s]"
      }
     },
     "be2bbbd50b1248ed98b2edbfe4565bab": {
      "model_module": "@jupyter-widgets/controls",
      "model_module_version": "1.5.0",
      "model_name": "FloatProgressModel",
      "state": {
       "layout": "IPY_MODEL_e251d69258c545cf8d2f1ee613462633",
       "max": 650,
       "style": "IPY_MODEL_cbd7277dff4540cdbb94710849f98167",
       "value": 650
      }
     },
     "bebaa0db95e64b65b90d9c2e9cb47943": {
      "model_module": "@jupyter-widgets/controls",
      "model_module_version": "1.5.0",
      "model_name": "ProgressStyleModel",
      "state": {
       "description_width": ""
      }
     },
     "bec784e527cc45529535497b860f21d3": {
      "model_module": "@jupyter-widgets/controls",
      "model_module_version": "1.5.0",
      "model_name": "HTMLModel",
      "state": {
       "layout": "IPY_MODEL_9ece10aa9a93489886c5a71bb4161b4a",
       "style": "IPY_MODEL_8ef69a9fdc0740a880d4a91a68cbf652",
       "value": "100%"
      }
     },
     "bf072c40f0a44dbb831330178fec45f7": {
      "model_module": "@jupyter-widgets/controls",
      "model_module_version": "1.5.0",
      "model_name": "HTMLModel",
      "state": {
       "layout": "IPY_MODEL_2170d16032964a38a1ec0b9e94e16337",
       "style": "IPY_MODEL_42dc3ef25a2e4f9d96eb88b440c653e0",
       "value": " 50/50 [01:19&lt;00:00,  4.49it/s]"
      }
     },
     "bf40f0b40a134efca2f8da0d830b11df": {
      "model_module": "@jupyter-widgets/controls",
      "model_module_version": "1.5.0",
      "model_name": "FloatProgressModel",
      "state": {
       "layout": "IPY_MODEL_ff7c162fd1ab485ba503fb269d0ad5af",
       "max": 50,
       "style": "IPY_MODEL_376c7e44a14c4928b8b39d1f98d7dc8b",
       "value": 50
      }
     },
     "bf5d1b4063c44972bd80c9a451b917ac": {
      "model_module": "@jupyter-widgets/controls",
      "model_module_version": "1.5.0",
      "model_name": "HTMLModel",
      "state": {
       "layout": "IPY_MODEL_7d7eef3444144c6f808cf739231d7fb4",
       "style": "IPY_MODEL_2c4acf8dd01b4f7ebb85c74b4bbb3a2d",
       "value": " 50/50 [00:04&lt;00:00,  4.57it/s]"
      }
     },
     "bf74ee04bdcc41ca81d53410dc2b460b": {
      "model_module": "@jupyter-widgets/controls",
      "model_module_version": "1.5.0",
      "model_name": "DescriptionStyleModel",
      "state": {
       "description_width": ""
      }
     },
     "bfa81205965e474381ece812a0e83062": {
      "model_module": "@jupyter-widgets/controls",
      "model_module_version": "1.5.0",
      "model_name": "ProgressStyleModel",
      "state": {
       "description_width": ""
      }
     },
     "c00169390a4a4143a370d5041d2a4bda": {
      "model_module": "@jupyter-widgets/base",
      "model_module_version": "1.2.0",
      "model_name": "LayoutModel",
      "state": {
       "flex": "2"
      }
     },
     "c03e5739476f485680ee5fe93d715e94": {
      "model_module": "@jupyter-widgets/base",
      "model_module_version": "1.2.0",
      "model_name": "LayoutModel",
      "state": {}
     },
     "c06949eb09434186adbc3313998d2ee2": {
      "model_module": "@jupyter-widgets/base",
      "model_module_version": "1.2.0",
      "model_name": "LayoutModel",
      "state": {
       "display": "inline-flex",
       "flex_flow": "row wrap",
       "width": "100%"
      }
     },
     "c06eafa1779d47d98770e4aa8d852d18": {
      "model_module": "@jupyter-widgets/base",
      "model_module_version": "1.2.0",
      "model_name": "LayoutModel",
      "state": {
       "flex": "2"
      }
     },
     "c072b2de78df4298ac1b8a09874d7e8b": {
      "model_module": "@jupyter-widgets/controls",
      "model_module_version": "1.5.0",
      "model_name": "ProgressStyleModel",
      "state": {
       "description_width": ""
      }
     },
     "c136de8e698d4864849688eda18b028a": {
      "model_module": "@jupyter-widgets/base",
      "model_module_version": "1.2.0",
      "model_name": "LayoutModel",
      "state": {}
     },
     "c2cb4c21943542a5a07f008f96c206cd": {
      "model_module": "@jupyter-widgets/base",
      "model_module_version": "1.2.0",
      "model_name": "LayoutModel",
      "state": {}
     },
     "c2d7ea5998bd41809362d3126b704bc0": {
      "model_module": "@jupyter-widgets/controls",
      "model_module_version": "1.5.0",
      "model_name": "ProgressStyleModel",
      "state": {
       "description_width": ""
      }
     },
     "c3bc8bc592aa4b4e94c1cbbb05f32139": {
      "model_module": "@jupyter-widgets/controls",
      "model_module_version": "1.5.0",
      "model_name": "HTMLModel",
      "state": {
       "layout": "IPY_MODEL_9dc523570cd1424eb8ac44926e68d4d4",
       "style": "IPY_MODEL_7fc28c0f0c744ff6a0754febfe4e452c",
       "value": "100%"
      }
     },
     "c3ddc9173c5d4264ba67613e793c9f57": {
      "model_module": "@jupyter-widgets/base",
      "model_module_version": "1.2.0",
      "model_name": "LayoutModel",
      "state": {
       "display": "inline-flex",
       "flex_flow": "row wrap",
       "width": "100%"
      }
     },
     "c41319b7f1214acc80c3e073e23b4b2c": {
      "model_module": "@jupyter-widgets/controls",
      "model_module_version": "1.5.0",
      "model_name": "DescriptionStyleModel",
      "state": {
       "description_width": ""
      }
     },
     "c417d42744344f25a24c73c56ac8a415": {
      "model_module": "@jupyter-widgets/controls",
      "model_module_version": "1.5.0",
      "model_name": "FloatProgressModel",
      "state": {
       "layout": "IPY_MODEL_6f69c28b30984d2088f6829c1b2346e7",
       "max": 80896,
       "style": "IPY_MODEL_913d3a3783e24621aa97d8fdec20738f",
       "value": 80896
      }
     },
     "c47f41b95cf6466eb45de6acbdda85ca": {
      "model_module": "@jupyter-widgets/controls",
      "model_module_version": "1.5.0",
      "model_name": "HTMLModel",
      "state": {
       "layout": "IPY_MODEL_ca9777355c994813958ca4a955c1e6d5",
       "style": "IPY_MODEL_fc050a609c8940fe83f2f658008b549e",
       "value": " 30/30 [00:03&lt;00:00, 12.17it/s]"
      }
     },
     "c4971f626361480d9f3ea5dee7d55927": {
      "model_module": "@jupyter-widgets/controls",
      "model_module_version": "1.5.0",
      "model_name": "HTMLModel",
      "state": {
       "layout": "IPY_MODEL_aa35326bf65849d787b544b90441ed92",
       "style": "IPY_MODEL_79290dfe19a24e04b8593240644a1b72",
       "value": "100%"
      }
     },
     "c4a2594c181c4d908b2a3eecee18e157": {
      "model_module": "@jupyter-widgets/base",
      "model_module_version": "1.2.0",
      "model_name": "LayoutModel",
      "state": {}
     },
     "c500ef5fc1cb45a6a333ce55ea6f0617": {
      "model_module": "@jupyter-widgets/base",
      "model_module_version": "1.2.0",
      "model_name": "LayoutModel",
      "state": {}
     },
     "c57daf15452b48448641c4983d77d404": {
      "model_module": "@jupyter-widgets/base",
      "model_module_version": "1.2.0",
      "model_name": "LayoutModel",
      "state": {}
     },
     "c59002c87a9c4522877fd21c7484883b": {
      "model_module": "@jupyter-widgets/controls",
      "model_module_version": "1.5.0",
      "model_name": "FloatProgressModel",
      "state": {
       "layout": "IPY_MODEL_df5230e57e894ccd9f2e9bfcc6a3ff17",
       "max": 10,
       "style": "IPY_MODEL_e3bda86ee3554cb18bcc08d1b42a19fc",
       "value": 10
      }
     },
     "c5ad1c58c2fb44e4aa3d9f42377a443f": {
      "model_module": "@jupyter-widgets/base",
      "model_module_version": "1.2.0",
      "model_name": "LayoutModel",
      "state": {
       "display": "inline-flex",
       "flex_flow": "row wrap",
       "width": "100%"
      }
     },
     "c6931f7b6425451689c81a89036abfe2": {
      "model_module": "@jupyter-widgets/controls",
      "model_module_version": "1.5.0",
      "model_name": "HTMLModel",
      "state": {
       "layout": "IPY_MODEL_55862efba1b943eba75d3fd0ba6bc839",
       "style": "IPY_MODEL_f0f0eb1dc4ac46ceb845d11ee719f60a",
       "value": " 50/50 [00:02&lt;00:00,  6.82it/s]"
      }
     },
     "c6a42731035a45b5a025e76a10bb7b92": {
      "model_module": "@jupyter-widgets/controls",
      "model_module_version": "1.5.0",
      "model_name": "DescriptionStyleModel",
      "state": {
       "description_width": ""
      }
     },
     "c6bad6918f04477e98d841f659906b3e": {
      "model_module": "@jupyter-widgets/controls",
      "model_module_version": "1.5.0",
      "model_name": "DescriptionStyleModel",
      "state": {
       "description_width": ""
      }
     },
     "c6c14d94cd4743c6900ddc2ea341ec8f": {
      "model_module": "@jupyter-widgets/base",
      "model_module_version": "1.2.0",
      "model_name": "LayoutModel",
      "state": {
       "display": "inline-flex",
       "flex_flow": "row wrap",
       "width": "100%"
      }
     },
     "c6c35861f3fa437e8748cdde4970e0a7": {
      "model_module": "@jupyter-widgets/controls",
      "model_module_version": "1.5.0",
      "model_name": "HTMLModel",
      "state": {
       "layout": "IPY_MODEL_64dcf7737d1549409b7caffc31962a1c",
       "style": "IPY_MODEL_f234967ed59d48fa8c74c34bfb1f835f",
       "value": "100%"
      }
     },
     "c709dde4c00044ed8243b1133dad8636": {
      "model_module": "@jupyter-widgets/controls",
      "model_module_version": "1.5.0",
      "model_name": "FloatProgressModel",
      "state": {
       "layout": "IPY_MODEL_c06eafa1779d47d98770e4aa8d852d18",
       "max": 80896,
       "style": "IPY_MODEL_aec879613e934be8a3e827cac160b093",
       "value": 80896
      }
     },
     "c76a4c8cd33d49c788fefdffa5749bbd": {
      "model_module": "@jupyter-widgets/base",
      "model_module_version": "1.2.0",
      "model_name": "LayoutModel",
      "state": {}
     },
     "c7bf7290c0fd4efabeba1afb7dc6433a": {
      "model_module": "@jupyter-widgets/base",
      "model_module_version": "1.2.0",
      "model_name": "LayoutModel",
      "state": {}
     },
     "c7f2f17ba56446099e38f61771c6d810": {
      "model_module": "@jupyter-widgets/controls",
      "model_module_version": "1.5.0",
      "model_name": "ProgressStyleModel",
      "state": {
       "description_width": ""
      }
     },
     "c813ee85feb84c2d97433e9aad5669e6": {
      "model_module": "@jupyter-widgets/base",
      "model_module_version": "1.2.0",
      "model_name": "LayoutModel",
      "state": {}
     },
     "c84c0edd7d9241949016411ade95f97c": {
      "model_module": "@jupyter-widgets/controls",
      "model_module_version": "1.5.0",
      "model_name": "FloatProgressModel",
      "state": {
       "layout": "IPY_MODEL_1d570271a40d4511b1890fa431c0e7b8",
       "max": 50,
       "style": "IPY_MODEL_6d82f313e0e64f76b53c9076beaf4b27",
       "value": 50
      }
     },
     "c87e7e2e8b074c06a6038a54f2de7163": {
      "model_module": "@jupyter-widgets/base",
      "model_module_version": "1.2.0",
      "model_name": "LayoutModel",
      "state": {
       "display": "inline-flex",
       "flex_flow": "row wrap",
       "width": "100%"
      }
     },
     "c8825bc5eec945ca89c3c63a35c2ab0c": {
      "model_module": "@jupyter-widgets/controls",
      "model_module_version": "1.5.0",
      "model_name": "FloatProgressModel",
      "state": {
       "layout": "IPY_MODEL_04cd05f3b7ed4bdeaa5682051e129d6e",
       "max": 50,
       "style": "IPY_MODEL_56472e2b921340af88896e285cc309d6",
       "value": 50
      }
     },
     "c94b1061f2284a02b0b83574a65618eb": {
      "model_module": "@jupyter-widgets/controls",
      "model_module_version": "1.5.0",
      "model_name": "DescriptionStyleModel",
      "state": {
       "description_width": ""
      }
     },
     "c98c9938406b411d9030c2f991567e3a": {
      "model_module": "@jupyter-widgets/controls",
      "model_module_version": "1.5.0",
      "model_name": "HTMLModel",
      "state": {
       "layout": "IPY_MODEL_65b54e8b3fbd42e0b7e5f4d8b1ea6453",
       "style": "IPY_MODEL_cf655d25c9a24ff4abc313b39de79ed4",
       "value": " 80896/80896 [04:26&lt;00:00, 1277.67it/s]"
      }
     },
     "c9d234f2a977462cb1e82482be74ebf1": {
      "model_module": "@jupyter-widgets/controls",
      "model_module_version": "1.5.0",
      "model_name": "HTMLModel",
      "state": {
       "layout": "IPY_MODEL_5714d241ba234a3f9b25cf6221a4284a",
       "style": "IPY_MODEL_4c12b511092b4727a94c892431829a14",
       "value": " 80896/80896 [00:23&lt;00:00, 17135.77it/s]"
      }
     },
     "ca080b9fc8e34c31ab8d2e341add1351": {
      "model_module": "@jupyter-widgets/controls",
      "model_module_version": "1.5.0",
      "model_name": "HTMLModel",
      "state": {
       "layout": "IPY_MODEL_a358ff4aca014b04892d02b0f0449765",
       "style": "IPY_MODEL_e71915e223754b499c315b1795721257",
       "value": " 10/10 [00:02&lt;00:00,  7.76it/s]"
      }
     },
     "ca7529d040224923869a607a0b4ff3b8": {
      "model_module": "@jupyter-widgets/controls",
      "model_module_version": "1.5.0",
      "model_name": "HTMLModel",
      "state": {
       "layout": "IPY_MODEL_13e3dfff95204971a70dd5d36326d263",
       "style": "IPY_MODEL_a870b30e558d4b0a8477eaa3f14be3e9",
       "value": " 30/30 [00:03&lt;00:00, 12.07it/s]"
      }
     },
     "ca76f310b50246ddbf15c697b2111c35": {
      "model_module": "@jupyter-widgets/controls",
      "model_module_version": "1.5.0",
      "model_name": "HTMLModel",
      "state": {
       "layout": "IPY_MODEL_570a1536d5aa4aaf942cfc630426475f",
       "style": "IPY_MODEL_7ffd0e2eaf714c47aba9d1d319f4c1bf",
       "value": "100%"
      }
     },
     "ca7b39b949cb4398aa3ea54882dbb68b": {
      "model_module": "@jupyter-widgets/controls",
      "model_module_version": "1.5.0",
      "model_name": "DescriptionStyleModel",
      "state": {
       "description_width": ""
      }
     },
     "ca7d8fa3f95c4e6d842ba687161c2ecb": {
      "model_module": "@jupyter-widgets/controls",
      "model_module_version": "1.5.0",
      "model_name": "ProgressStyleModel",
      "state": {
       "description_width": ""
      }
     },
     "ca93a141782440af814a7dce0e1f2668": {
      "model_module": "@jupyter-widgets/controls",
      "model_module_version": "1.5.0",
      "model_name": "DescriptionStyleModel",
      "state": {
       "description_width": ""
      }
     },
     "ca9777355c994813958ca4a955c1e6d5": {
      "model_module": "@jupyter-widgets/base",
      "model_module_version": "1.2.0",
      "model_name": "LayoutModel",
      "state": {}
     },
     "cb01fd0b8b1e45eabe5b5af5ecdbc999": {
      "model_module": "@jupyter-widgets/base",
      "model_module_version": "1.2.0",
      "model_name": "LayoutModel",
      "state": {
       "display": "inline-flex",
       "flex_flow": "row wrap",
       "width": "100%"
      }
     },
     "cb0abece00e842898b80aa1aa73eeae8": {
      "model_module": "@jupyter-widgets/base",
      "model_module_version": "1.2.0",
      "model_name": "LayoutModel",
      "state": {}
     },
     "cb301b8154114ffcb8f0345ac5c780f9": {
      "model_module": "@jupyter-widgets/base",
      "model_module_version": "1.2.0",
      "model_name": "LayoutModel",
      "state": {
       "flex": "2"
      }
     },
     "cb6112c0f66d4dbbbd76303474765519": {
      "model_module": "@jupyter-widgets/base",
      "model_module_version": "1.2.0",
      "model_name": "LayoutModel",
      "state": {}
     },
     "cb668ca8211740da9f19b7d2ec169c00": {
      "model_module": "@jupyter-widgets/controls",
      "model_module_version": "1.5.0",
      "model_name": "ProgressStyleModel",
      "state": {
       "description_width": ""
      }
     },
     "cb8a5b73b46849fe8838ebbf058963b4": {
      "model_module": "@jupyter-widgets/controls",
      "model_module_version": "1.5.0",
      "model_name": "DescriptionStyleModel",
      "state": {
       "description_width": ""
      }
     },
     "cbd7277dff4540cdbb94710849f98167": {
      "model_module": "@jupyter-widgets/controls",
      "model_module_version": "1.5.0",
      "model_name": "ProgressStyleModel",
      "state": {
       "description_width": ""
      }
     },
     "cbe5d12486e44540b27f6c73ea77ee5b": {
      "model_module": "@jupyter-widgets/controls",
      "model_module_version": "1.5.0",
      "model_name": "HTMLModel",
      "state": {
       "layout": "IPY_MODEL_cc662eaac6764f66aba0794179c624e1",
       "style": "IPY_MODEL_df3fef85a51c485e97290a467bacd9af",
       "value": "100%"
      }
     },
     "cc662eaac6764f66aba0794179c624e1": {
      "model_module": "@jupyter-widgets/base",
      "model_module_version": "1.2.0",
      "model_name": "LayoutModel",
      "state": {}
     },
     "ccf0aa8fd65943f7af31a374ef7c7056": {
      "model_module": "@jupyter-widgets/controls",
      "model_module_version": "1.5.0",
      "model_name": "DescriptionStyleModel",
      "state": {
       "description_width": ""
      }
     },
     "ccf555574c4849f38f206f4f933ae1df": {
      "model_module": "@jupyter-widgets/controls",
      "model_module_version": "1.5.0",
      "model_name": "HTMLModel",
      "state": {
       "layout": "IPY_MODEL_4553661ad3134c8abc894b124d2e33aa",
       "style": "IPY_MODEL_ccf0aa8fd65943f7af31a374ef7c7056",
       "value": " 650/650 [01:16&lt;00:00,  8.43it/s]"
      }
     },
     "cd070154883b4015a0f2fa6e5282ce40": {
      "model_module": "@jupyter-widgets/controls",
      "model_module_version": "1.5.0",
      "model_name": "ProgressStyleModel",
      "state": {
       "description_width": ""
      }
     },
     "cd2577567f8943e7a0f7f9779babafc8": {
      "model_module": "@jupyter-widgets/base",
      "model_module_version": "1.2.0",
      "model_name": "LayoutModel",
      "state": {
       "flex": "2"
      }
     },
     "cd6b77df0780441da8fccb298a51ccec": {
      "model_module": "@jupyter-widgets/controls",
      "model_module_version": "1.5.0",
      "model_name": "DescriptionStyleModel",
      "state": {
       "description_width": ""
      }
     },
     "cdd1ec23ffbb4604ac1e31067b951f6b": {
      "model_module": "@jupyter-widgets/base",
      "model_module_version": "1.2.0",
      "model_name": "LayoutModel",
      "state": {}
     },
     "cdd6b006c07344eeb6152ad6bb0c95e1": {
      "model_module": "@jupyter-widgets/base",
      "model_module_version": "1.2.0",
      "model_name": "LayoutModel",
      "state": {}
     },
     "ce26ece0a2d84b83965cacff15856472": {
      "model_module": "@jupyter-widgets/controls",
      "model_module_version": "1.5.0",
      "model_name": "HTMLModel",
      "state": {
       "layout": "IPY_MODEL_6c1073b0403847139cc6439aa5f1184b",
       "style": "IPY_MODEL_81472471ea544253a465192d849c3fea",
       "value": " 650/650 [01:05&lt;00:00, 12.30it/s]"
      }
     },
     "ce65f3528e9846d19ce93b1addff67c8": {
      "model_module": "@jupyter-widgets/controls",
      "model_module_version": "1.5.0",
      "model_name": "DescriptionStyleModel",
      "state": {
       "description_width": ""
      }
     },
     "cebcc29bf95146d88ae59a9fa026236b": {
      "model_module": "@jupyter-widgets/controls",
      "model_module_version": "1.5.0",
      "model_name": "DescriptionStyleModel",
      "state": {
       "description_width": ""
      }
     },
     "cec9879a94284fbd92ceac1ec3be8dcd": {
      "model_module": "@jupyter-widgets/controls",
      "model_module_version": "1.5.0",
      "model_name": "ProgressStyleModel",
      "state": {
       "description_width": ""
      }
     },
     "ced246e48ed54f419a0966a77c9bab8d": {
      "model_module": "@jupyter-widgets/base",
      "model_module_version": "1.2.0",
      "model_name": "LayoutModel",
      "state": {
       "flex": "2"
      }
     },
     "ceeb78c46bbf4d12a19a6c78f88c3d4a": {
      "model_module": "@jupyter-widgets/base",
      "model_module_version": "1.2.0",
      "model_name": "LayoutModel",
      "state": {
       "flex": "2"
      }
     },
     "cf01af070bfa4140922065e7875198a7": {
      "model_module": "@jupyter-widgets/controls",
      "model_module_version": "1.5.0",
      "model_name": "ProgressStyleModel",
      "state": {
       "description_width": ""
      }
     },
     "cf09caa7c9b247619c4c33047a8a795c": {
      "model_module": "@jupyter-widgets/base",
      "model_module_version": "1.2.0",
      "model_name": "LayoutModel",
      "state": {
       "flex": "2"
      }
     },
     "cf21e3aee4b14da2b756a3c78468354a": {
      "model_module": "@jupyter-widgets/base",
      "model_module_version": "1.2.0",
      "model_name": "LayoutModel",
      "state": {}
     },
     "cf27d7ae92eb4fab973159033688ab71": {
      "model_module": "@jupyter-widgets/controls",
      "model_module_version": "1.5.0",
      "model_name": "FloatProgressModel",
      "state": {
       "layout": "IPY_MODEL_0ff097a4fc854e20b5b86fb13459944e",
       "max": 80896,
       "style": "IPY_MODEL_784c89503c7b432eab92a655930cabe1",
       "value": 80896
      }
     },
     "cf37331ad9af43a680cb9491649bf36c": {
      "model_module": "@jupyter-widgets/controls",
      "model_module_version": "1.5.0",
      "model_name": "DescriptionStyleModel",
      "state": {
       "description_width": ""
      }
     },
     "cf653151f996471b92245eec6d823cd8": {
      "model_module": "@jupyter-widgets/base",
      "model_module_version": "1.2.0",
      "model_name": "LayoutModel",
      "state": {}
     },
     "cf655d25c9a24ff4abc313b39de79ed4": {
      "model_module": "@jupyter-widgets/controls",
      "model_module_version": "1.5.0",
      "model_name": "DescriptionStyleModel",
      "state": {
       "description_width": ""
      }
     },
     "cfb313278b014bbba9bd6e25c19842af": {
      "model_module": "@jupyter-widgets/base",
      "model_module_version": "1.2.0",
      "model_name": "LayoutModel",
      "state": {}
     },
     "cfc85c1b89c649308e33d60cc7f294c2": {
      "model_module": "@jupyter-widgets/controls",
      "model_module_version": "1.5.0",
      "model_name": "ProgressStyleModel",
      "state": {
       "description_width": ""
      }
     },
     "d03bf65c566b410fa0df88dceed127b6": {
      "model_module": "@jupyter-widgets/controls",
      "model_module_version": "1.5.0",
      "model_name": "FloatProgressModel",
      "state": {
       "layout": "IPY_MODEL_32d5746f287b4233abd7b2ff4c382f8d",
       "max": 50,
       "style": "IPY_MODEL_e51d06b3f1424f5999c14d3e5b0d4ae3",
       "value": 50
      }
     },
     "d055696c846a439cb31b186e5c286632": {
      "model_module": "@jupyter-widgets/controls",
      "model_module_version": "1.5.0",
      "model_name": "HTMLModel",
      "state": {
       "layout": "IPY_MODEL_e3732fd0b68448a7baf8d0e7260eb594",
       "style": "IPY_MODEL_0cb2ed298f454b7a839bfa2edc3bfe11",
       "value": " 50/50 [00:04&lt;00:00, 19.61it/s]"
      }
     },
     "d0685bc77507423683cbf1411df9cfe7": {
      "model_module": "@jupyter-widgets/controls",
      "model_module_version": "1.5.0",
      "model_name": "DescriptionStyleModel",
      "state": {
       "description_width": ""
      }
     },
     "d0910cc435084de4b5c3b26a6e88fe8e": {
      "model_module": "@jupyter-widgets/controls",
      "model_module_version": "1.5.0",
      "model_name": "ProgressStyleModel",
      "state": {
       "description_width": ""
      }
     },
     "d0bf66f2255c4bd29158b71776a48dea": {
      "model_module": "@jupyter-widgets/controls",
      "model_module_version": "1.5.0",
      "model_name": "HTMLModel",
      "state": {
       "layout": "IPY_MODEL_ff5b6b6ffdda41d9851406907f59422f",
       "style": "IPY_MODEL_16cda906e81e4542bd725926d4bfc2e0",
       "value": " 50/50 [00:57&lt;00:00,  1.73it/s]"
      }
     },
     "d0cbdb51386541afa192a8ffccd3dd50": {
      "model_module": "@jupyter-widgets/controls",
      "model_module_version": "1.5.0",
      "model_name": "FloatProgressModel",
      "state": {
       "layout": "IPY_MODEL_5387c031144d4d46a975aec1b677aa10",
       "max": 650,
       "style": "IPY_MODEL_25783738099b4cd591409b0feadf0bc7",
       "value": 650
      }
     },
     "d0d4ae1c86cd4a50966ac176defc3886": {
      "model_module": "@jupyter-widgets/base",
      "model_module_version": "1.2.0",
      "model_name": "LayoutModel",
      "state": {
       "flex": "2"
      }
     },
     "d0f7e87488a74701bec261f3c47af286": {
      "model_module": "@jupyter-widgets/controls",
      "model_module_version": "1.5.0",
      "model_name": "ProgressStyleModel",
      "state": {
       "description_width": ""
      }
     },
     "d1572f4ba80a47dfb9ae3ccddb6def46": {
      "model_module": "@jupyter-widgets/base",
      "model_module_version": "1.2.0",
      "model_name": "LayoutModel",
      "state": {}
     },
     "d1a86848ba3f458485afac4c2293629e": {
      "model_module": "@jupyter-widgets/base",
      "model_module_version": "1.2.0",
      "model_name": "LayoutModel",
      "state": {}
     },
     "d1e0913416ba4076803f44ca6a6e5934": {
      "model_module": "@jupyter-widgets/controls",
      "model_module_version": "1.5.0",
      "model_name": "HTMLModel",
      "state": {
       "layout": "IPY_MODEL_e55ba5f245dc4d1f925de91106340b29",
       "style": "IPY_MODEL_fd1c9d0f52aa4f2ebb2a9a6bd66aa69c",
       "value": " 50/50 [00:25&lt;00:00,  7.28it/s]"
      }
     },
     "d1e84afe09f44ba08078e2e53997f2c4": {
      "model_module": "@jupyter-widgets/controls",
      "model_module_version": "1.5.0",
      "model_name": "DescriptionStyleModel",
      "state": {
       "description_width": ""
      }
     },
     "d202341f4c1645a581fc5e925cf9aefc": {
      "model_module": "@jupyter-widgets/controls",
      "model_module_version": "1.5.0",
      "model_name": "DescriptionStyleModel",
      "state": {
       "description_width": ""
      }
     },
     "d203245e94554c548dd0bb860dfc4204": {
      "model_module": "@jupyter-widgets/controls",
      "model_module_version": "1.5.0",
      "model_name": "ProgressStyleModel",
      "state": {
       "description_width": ""
      }
     },
     "d22315124c1846ed89b06fb521895f3c": {
      "model_module": "@jupyter-widgets/controls",
      "model_module_version": "1.5.0",
      "model_name": "HTMLModel",
      "state": {
       "layout": "IPY_MODEL_e0eb3828bb2c4835bd2f0ee226b33e0a",
       "style": "IPY_MODEL_b041d9938fb2477a913c5660fd103221",
       "value": " 450/450 [00:55&lt;00:00,  8.40it/s]"
      }
     },
     "d26bdce9077049278d2de32c5067a481": {
      "model_module": "@jupyter-widgets/base",
      "model_module_version": "1.2.0",
      "model_name": "LayoutModel",
      "state": {}
     },
     "d2bc8a40d9e4451689ac3b0182e3fc4d": {
      "model_module": "@jupyter-widgets/controls",
      "model_module_version": "1.5.0",
      "model_name": "DescriptionStyleModel",
      "state": {
       "description_width": ""
      }
     },
     "d2bc976fb8394299afe5bddff9059099": {
      "model_module": "@jupyter-widgets/controls",
      "model_module_version": "1.5.0",
      "model_name": "HTMLModel",
      "state": {
       "layout": "IPY_MODEL_661cb3adf43e4ef98c20c3c6244c9d84",
       "style": "IPY_MODEL_562657a58daf49dc911eb0d603a27386",
       "value": " 80896/80896 [00:04&lt;00:00, 16735.76it/s]"
      }
     },
     "d2d15824b4294ecaafb1cc1e25fe4603": {
      "model_module": "@jupyter-widgets/base",
      "model_module_version": "1.2.0",
      "model_name": "LayoutModel",
      "state": {}
     },
     "d363019eb83e4a68aa3c6059513b5a83": {
      "model_module": "@jupyter-widgets/controls",
      "model_module_version": "1.5.0",
      "model_name": "DescriptionStyleModel",
      "state": {
       "description_width": ""
      }
     },
     "d37253a2a6884bb395af5a2622e16371": {
      "model_module": "@jupyter-widgets/controls",
      "model_module_version": "1.5.0",
      "model_name": "DescriptionStyleModel",
      "state": {
       "description_width": ""
      }
     },
     "d38686861b714a6394845e6c124502b7": {
      "model_module": "@jupyter-widgets/controls",
      "model_module_version": "1.5.0",
      "model_name": "HTMLModel",
      "state": {
       "layout": "IPY_MODEL_a1093e79fe934456b5dab1580036a2e7",
       "style": "IPY_MODEL_872dbfcf0a8e44808900e4ce8fe314f5",
       "value": "100%"
      }
     },
     "d39cda780d084cc8b9a1025db6e25b48": {
      "model_module": "@jupyter-widgets/controls",
      "model_module_version": "1.5.0",
      "model_name": "ProgressStyleModel",
      "state": {
       "description_width": ""
      }
     },
     "d3a14be6bf924c7aa98b89b68f4af95a": {
      "model_module": "@jupyter-widgets/controls",
      "model_module_version": "1.5.0",
      "model_name": "FloatProgressModel",
      "state": {
       "layout": "IPY_MODEL_fb70e9d6d04f4457952ff5b1a55732e4",
       "max": 80896,
       "style": "IPY_MODEL_825617dde20246c1a40e5c8c2971c8eb",
       "value": 80896
      }
     },
     "d3c33fb389bd42d791716ce50409d2f9": {
      "model_module": "@jupyter-widgets/controls",
      "model_module_version": "1.5.0",
      "model_name": "DescriptionStyleModel",
      "state": {
       "description_width": ""
      }
     },
     "d3d74568ee514c3a8fca0f3df2c626ef": {
      "model_module": "@jupyter-widgets/base",
      "model_module_version": "1.2.0",
      "model_name": "LayoutModel",
      "state": {}
     },
     "d41d4abe79314e2095bf830609e8d18e": {
      "model_module": "@jupyter-widgets/controls",
      "model_module_version": "1.5.0",
      "model_name": "FloatProgressModel",
      "state": {
       "layout": "IPY_MODEL_44ba9e503f2f4afaba4292f7291bfc0d",
       "max": 450,
       "style": "IPY_MODEL_ee8c4be9dfad4e37930295debf6e794a",
       "value": 450
      }
     },
     "d4299587c78544e489e381f7cf3433de": {
      "model_module": "@jupyter-widgets/controls",
      "model_module_version": "1.5.0",
      "model_name": "DescriptionStyleModel",
      "state": {
       "description_width": ""
      }
     },
     "d45f16befbff4dc1ba69a50cf920ef1a": {
      "model_module": "@jupyter-widgets/base",
      "model_module_version": "1.2.0",
      "model_name": "LayoutModel",
      "state": {
       "display": "inline-flex",
       "flex_flow": "row wrap",
       "width": "100%"
      }
     },
     "d4603b89660c4b95a39944b86bacbf9c": {
      "model_module": "@jupyter-widgets/base",
      "model_module_version": "1.2.0",
      "model_name": "LayoutModel",
      "state": {}
     },
     "d46b19c301c44739b5081f8853921f70": {
      "model_module": "@jupyter-widgets/base",
      "model_module_version": "1.2.0",
      "model_name": "LayoutModel",
      "state": {
       "display": "inline-flex",
       "flex_flow": "row wrap",
       "width": "100%"
      }
     },
     "d46c2e046e604febb4cd6e63ede15a34": {
      "model_module": "@jupyter-widgets/controls",
      "model_module_version": "1.5.0",
      "model_name": "DescriptionStyleModel",
      "state": {
       "description_width": ""
      }
     },
     "d4bccf13af844e2db97fcc19796effce": {
      "model_module": "@jupyter-widgets/controls",
      "model_module_version": "1.5.0",
      "model_name": "DescriptionStyleModel",
      "state": {
       "description_width": ""
      }
     },
     "d4d1e9b6346a442e924daed1dd5ddae6": {
      "model_module": "@jupyter-widgets/base",
      "model_module_version": "1.2.0",
      "model_name": "LayoutModel",
      "state": {}
     },
     "d50adafad0ae4014bded8feb71ccf36d": {
      "model_module": "@jupyter-widgets/base",
      "model_module_version": "1.2.0",
      "model_name": "LayoutModel",
      "state": {}
     },
     "d51096c107274c8f91599067af36cc2e": {
      "model_module": "@jupyter-widgets/controls",
      "model_module_version": "1.5.0",
      "model_name": "DescriptionStyleModel",
      "state": {
       "description_width": ""
      }
     },
     "d511183ce0304c3b95a2e7038a065216": {
      "model_module": "@jupyter-widgets/controls",
      "model_module_version": "1.5.0",
      "model_name": "FloatProgressModel",
      "state": {
       "layout": "IPY_MODEL_0929d31a68fb499b9b732766bf798fc5",
       "max": 80896,
       "style": "IPY_MODEL_2bf134bd3ddb4610ad3f184459783366",
       "value": 80896
      }
     },
     "d55718d025c844a98b96695d22410e45": {
      "model_module": "@jupyter-widgets/base",
      "model_module_version": "1.2.0",
      "model_name": "LayoutModel",
      "state": {
       "display": "inline-flex",
       "flex_flow": "row wrap",
       "width": "100%"
      }
     },
     "d56a6ffa0a224cea82e6395517b59bf4": {
      "model_module": "@jupyter-widgets/controls",
      "model_module_version": "1.5.0",
      "model_name": "ProgressStyleModel",
      "state": {
       "description_width": ""
      }
     },
     "d60666095fca43fbaba22c19c6ba1ecc": {
      "model_module": "@jupyter-widgets/base",
      "model_module_version": "1.2.0",
      "model_name": "LayoutModel",
      "state": {}
     },
     "d616e3395b56436482756d46a54f0005": {
      "model_module": "@jupyter-widgets/base",
      "model_module_version": "1.2.0",
      "model_name": "LayoutModel",
      "state": {}
     },
     "d66d1a5faff8425f95aeb036050459ed": {
      "model_module": "@jupyter-widgets/controls",
      "model_module_version": "1.5.0",
      "model_name": "HTMLModel",
      "state": {
       "layout": "IPY_MODEL_30d106a0c202481a84f6e5eaf0a606ad",
       "style": "IPY_MODEL_61578d639a164c2482e81bcff4d3fe45",
       "value": "100%"
      }
     },
     "d69dd7d63d38462e94716df23da4cd9d": {
      "model_module": "@jupyter-widgets/controls",
      "model_module_version": "1.5.0",
      "model_name": "HTMLModel",
      "state": {
       "layout": "IPY_MODEL_3f03b3697eab425bb48091d626ce3203",
       "style": "IPY_MODEL_af19ae79fdd240d39e06f4c7d8093750",
       "value": " 30/30 [00:03&lt;00:00, 12.30it/s]"
      }
     },
     "d755e2be654946ff973b0d6083f9432c": {
      "model_module": "@jupyter-widgets/base",
      "model_module_version": "1.2.0",
      "model_name": "LayoutModel",
      "state": {}
     },
     "d769653fa9ef4270ba2155eb1ec004a2": {
      "model_module": "@jupyter-widgets/base",
      "model_module_version": "1.2.0",
      "model_name": "LayoutModel",
      "state": {}
     },
     "d7a45b9444f148b89aaba2c855b7b845": {
      "model_module": "@jupyter-widgets/base",
      "model_module_version": "1.2.0",
      "model_name": "LayoutModel",
      "state": {
       "display": "inline-flex",
       "flex_flow": "row wrap",
       "width": "100%"
      }
     },
     "d7fa40e985684d0aa3650c36ff511a40": {
      "model_module": "@jupyter-widgets/base",
      "model_module_version": "1.2.0",
      "model_name": "LayoutModel",
      "state": {
       "display": "inline-flex",
       "flex_flow": "row wrap",
       "width": "100%"
      }
     },
     "d81a1f0404104dbc8e270ac3a3fb25a9": {
      "model_module": "@jupyter-widgets/controls",
      "model_module_version": "1.5.0",
      "model_name": "ProgressStyleModel",
      "state": {
       "description_width": ""
      }
     },
     "d821ce3319444f02b402873faf6f1668": {
      "model_module": "@jupyter-widgets/controls",
      "model_module_version": "1.5.0",
      "model_name": "FloatProgressModel",
      "state": {
       "layout": "IPY_MODEL_ec52e8152d384b1d81868be7415b2163",
       "max": 5,
       "style": "IPY_MODEL_ca7d8fa3f95c4e6d842ba687161c2ecb",
       "value": 5
      }
     },
     "d8672fea09304cafa6774eb5b808480f": {
      "model_module": "@jupyter-widgets/base",
      "model_module_version": "1.2.0",
      "model_name": "LayoutModel",
      "state": {}
     },
     "d8887a0441274d4dba8be422450aaac8": {
      "model_module": "@jupyter-widgets/controls",
      "model_module_version": "1.5.0",
      "model_name": "DescriptionStyleModel",
      "state": {
       "description_width": ""
      }
     },
     "d8b51ef403e5415eb52749a434fdd5ea": {
      "model_module": "@jupyter-widgets/controls",
      "model_module_version": "1.5.0",
      "model_name": "DescriptionStyleModel",
      "state": {
       "description_width": ""
      }
     },
     "d91a17490a3c4c398510a13e64b7c74c": {
      "model_module": "@jupyter-widgets/base",
      "model_module_version": "1.2.0",
      "model_name": "LayoutModel",
      "state": {}
     },
     "d9978f14e6eb4a58b1c9a07f8e185437": {
      "model_module": "@jupyter-widgets/base",
      "model_module_version": "1.2.0",
      "model_name": "LayoutModel",
      "state": {}
     },
     "da7ddd43247442adbd7eddeb2df6ee70": {
      "model_module": "@jupyter-widgets/controls",
      "model_module_version": "1.5.0",
      "model_name": "DescriptionStyleModel",
      "state": {
       "description_width": ""
      }
     },
     "da8ecfe84afb4949926803e99a19d307": {
      "model_module": "@jupyter-widgets/controls",
      "model_module_version": "1.5.0",
      "model_name": "DescriptionStyleModel",
      "state": {
       "description_width": ""
      }
     },
     "dafd9efa8cba41b9b80a800aa2edfdb2": {
      "model_module": "@jupyter-widgets/base",
      "model_module_version": "1.2.0",
      "model_name": "LayoutModel",
      "state": {}
     },
     "db5adf09cb0d4ab3bfa8c45080b0dd99": {
      "model_module": "@jupyter-widgets/controls",
      "model_module_version": "1.5.0",
      "model_name": "DescriptionStyleModel",
      "state": {
       "description_width": ""
      }
     },
     "dc004766a7364c3182d219f9ea6e81a8": {
      "model_module": "@jupyter-widgets/base",
      "model_module_version": "1.2.0",
      "model_name": "LayoutModel",
      "state": {
       "display": "inline-flex",
       "flex_flow": "row wrap",
       "width": "100%"
      }
     },
     "dc39ec0c35cf45babf9718a237b3c962": {
      "model_module": "@jupyter-widgets/controls",
      "model_module_version": "1.5.0",
      "model_name": "HTMLModel",
      "state": {
       "layout": "IPY_MODEL_d2d15824b4294ecaafb1cc1e25fe4603",
       "style": "IPY_MODEL_a0433def3564432d99370a5b7716f92c",
       "value": "100%"
      }
     },
     "dd673b1ee425463e9ec455e9842921d8": {
      "model_module": "@jupyter-widgets/controls",
      "model_module_version": "1.5.0",
      "model_name": "ProgressStyleModel",
      "state": {
       "description_width": ""
      }
     },
     "dd7c983b90d24220981a752c2dba2b0a": {
      "model_module": "@jupyter-widgets/controls",
      "model_module_version": "1.5.0",
      "model_name": "DescriptionStyleModel",
      "state": {
       "description_width": ""
      }
     },
     "dd934811189d49f7a292b3663b122448": {
      "model_module": "@jupyter-widgets/base",
      "model_module_version": "1.2.0",
      "model_name": "LayoutModel",
      "state": {
       "flex": "2"
      }
     },
     "ddaf4f1aee664ff789619211fcdb5eed": {
      "model_module": "@jupyter-widgets/controls",
      "model_module_version": "1.5.0",
      "model_name": "ProgressStyleModel",
      "state": {
       "description_width": ""
      }
     },
     "ddc9ab3ca54f4c22a93a4ee3fa2948a4": {
      "model_module": "@jupyter-widgets/controls",
      "model_module_version": "1.5.0",
      "model_name": "HTMLModel",
      "state": {
       "layout": "IPY_MODEL_0157eed5d73940ed81c53ba1b7ff38fb",
       "style": "IPY_MODEL_4894efea505d4c3eadb297fe8faa9a5e",
       "value": " 80896/80896 [00:05&lt;00:00, 14996.05it/s]"
      }
     },
     "ddd3660c56ec482f99385e95d1d6441b": {
      "model_module": "@jupyter-widgets/base",
      "model_module_version": "1.2.0",
      "model_name": "LayoutModel",
      "state": {}
     },
     "ddf9b66914b84204acbad651baa64430": {
      "model_module": "@jupyter-widgets/base",
      "model_module_version": "1.2.0",
      "model_name": "LayoutModel",
      "state": {}
     },
     "de4cf5512e824be594586aded2d6c850": {
      "model_module": "@jupyter-widgets/controls",
      "model_module_version": "1.5.0",
      "model_name": "FloatProgressModel",
      "state": {
       "layout": "IPY_MODEL_ebf0e76db6e9446f9136b1fe31702b17",
       "max": 80896,
       "style": "IPY_MODEL_193ab2c856744eafa5ea389601318152",
       "value": 80896
      }
     },
     "de693c82a360476bb5b4dc5afa43c638": {
      "model_module": "@jupyter-widgets/controls",
      "model_module_version": "1.5.0",
      "model_name": "ProgressStyleModel",
      "state": {
       "description_width": ""
      }
     },
     "de6e90e68b6349a8a3863b481a05f714": {
      "model_module": "@jupyter-widgets/controls",
      "model_module_version": "1.5.0",
      "model_name": "DescriptionStyleModel",
      "state": {
       "description_width": ""
      }
     },
     "de949e94da9143ae85c774ee1b583fea": {
      "model_module": "@jupyter-widgets/controls",
      "model_module_version": "1.5.0",
      "model_name": "DescriptionStyleModel",
      "state": {
       "description_width": ""
      }
     },
     "dec544a36ec8412a97e488ea45f29a19": {
      "model_module": "@jupyter-widgets/controls",
      "model_module_version": "1.5.0",
      "model_name": "HTMLModel",
      "state": {
       "layout": "IPY_MODEL_684433bdf2d343b18e7b40e46edb7ed8",
       "style": "IPY_MODEL_05505b2a9d334d66b1cb828a0991abcb",
       "value": " 50/50 [00:02&lt;00:00,  3.69it/s]"
      }
     },
     "def9f4994815471381f6260224f6a82a": {
      "model_module": "@jupyter-widgets/base",
      "model_module_version": "1.2.0",
      "model_name": "LayoutModel",
      "state": {
       "display": "inline-flex",
       "flex_flow": "row wrap",
       "width": "100%"
      }
     },
     "df037c690445412983a63f41200a69cb": {
      "model_module": "@jupyter-widgets/controls",
      "model_module_version": "1.5.0",
      "model_name": "HTMLModel",
      "state": {
       "layout": "IPY_MODEL_5b597c3ba8444b928cb08eb3827ae41e",
       "style": "IPY_MODEL_7e14a61db5f4403894b44adb3814dd9d",
       "value": " 80896/80896 [00:04&lt;00:00, 17281.01it/s]"
      }
     },
     "df3fef85a51c485e97290a467bacd9af": {
      "model_module": "@jupyter-widgets/controls",
      "model_module_version": "1.5.0",
      "model_name": "DescriptionStyleModel",
      "state": {
       "description_width": ""
      }
     },
     "df4c970f9cdc4e00aef82fecac2208e4": {
      "model_module": "@jupyter-widgets/base",
      "model_module_version": "1.2.0",
      "model_name": "LayoutModel",
      "state": {
       "flex": "2"
      }
     },
     "df5230e57e894ccd9f2e9bfcc6a3ff17": {
      "model_module": "@jupyter-widgets/base",
      "model_module_version": "1.2.0",
      "model_name": "LayoutModel",
      "state": {
       "flex": "2"
      }
     },
     "dff07be098fe4194994137c148838301": {
      "model_module": "@jupyter-widgets/base",
      "model_module_version": "1.2.0",
      "model_name": "LayoutModel",
      "state": {
       "display": "inline-flex",
       "flex_flow": "row wrap",
       "width": "100%"
      }
     },
     "e009b68421584125b006b724657a42a0": {
      "model_module": "@jupyter-widgets/controls",
      "model_module_version": "1.5.0",
      "model_name": "ProgressStyleModel",
      "state": {
       "description_width": ""
      }
     },
     "e03be6c858a44ef6a513ac201f34d193": {
      "model_module": "@jupyter-widgets/base",
      "model_module_version": "1.2.0",
      "model_name": "LayoutModel",
      "state": {}
     },
     "e0eb3828bb2c4835bd2f0ee226b33e0a": {
      "model_module": "@jupyter-widgets/base",
      "model_module_version": "1.2.0",
      "model_name": "LayoutModel",
      "state": {}
     },
     "e11269beac8244a18dfbebd256b65828": {
      "model_module": "@jupyter-widgets/controls",
      "model_module_version": "1.5.0",
      "model_name": "ProgressStyleModel",
      "state": {
       "description_width": ""
      }
     },
     "e1196efa35a346f387c278fb42314e18": {
      "model_module": "@jupyter-widgets/controls",
      "model_module_version": "1.5.0",
      "model_name": "FloatProgressModel",
      "state": {
       "layout": "IPY_MODEL_58e516bede7b47a9a25e83d05df3c314",
       "max": 50,
       "style": "IPY_MODEL_117a840fe0444084b839ff995f4e7a8b",
       "value": 50
      }
     },
     "e14ec4c173e849eaba3669f0f3e09d62": {
      "model_module": "@jupyter-widgets/base",
      "model_module_version": "1.2.0",
      "model_name": "LayoutModel",
      "state": {
       "display": "inline-flex",
       "flex_flow": "row wrap",
       "width": "100%"
      }
     },
     "e16b8843693f4dc79a413b785d135fe1": {
      "model_module": "@jupyter-widgets/base",
      "model_module_version": "1.2.0",
      "model_name": "LayoutModel",
      "state": {
       "flex": "2"
      }
     },
     "e19e159dcd3941b2a1a424e057600aac": {
      "model_module": "@jupyter-widgets/base",
      "model_module_version": "1.2.0",
      "model_name": "LayoutModel",
      "state": {
       "flex": "2"
      }
     },
     "e1df649b7e8a4315966bf7b2e05823ec": {
      "model_module": "@jupyter-widgets/base",
      "model_module_version": "1.2.0",
      "model_name": "LayoutModel",
      "state": {}
     },
     "e251d69258c545cf8d2f1ee613462633": {
      "model_module": "@jupyter-widgets/base",
      "model_module_version": "1.2.0",
      "model_name": "LayoutModel",
      "state": {
       "flex": "2"
      }
     },
     "e2b502c7feaf4555a90cb7ee5463f3b9": {
      "model_module": "@jupyter-widgets/controls",
      "model_module_version": "1.5.0",
      "model_name": "HTMLModel",
      "state": {
       "layout": "IPY_MODEL_ab64f5fecfaa4043b8a901c9793a76bc",
       "style": "IPY_MODEL_415ba941dfb549e1ae97449c2fd126c3",
       "value": " 80896/80896 [00:05&lt;00:00, 16664.28it/s]"
      }
     },
     "e2ba05812e7843dab9248b34df955760": {
      "model_module": "@jupyter-widgets/controls",
      "model_module_version": "1.5.0",
      "model_name": "HTMLModel",
      "state": {
       "layout": "IPY_MODEL_93b7134167a84656ace1bf62ab7463e1",
       "style": "IPY_MODEL_808c3e9595784dbc803263348438dbc1",
       "value": "100%"
      }
     },
     "e2da0a44381940d1ad2a7d64aaae56ef": {
      "model_module": "@jupyter-widgets/controls",
      "model_module_version": "1.5.0",
      "model_name": "DescriptionStyleModel",
      "state": {
       "description_width": ""
      }
     },
     "e311fcda3dd546a09d8d17abd994536a": {
      "model_module": "@jupyter-widgets/base",
      "model_module_version": "1.2.0",
      "model_name": "LayoutModel",
      "state": {}
     },
     "e33313d39a344c459dac26d3c1ed9522": {
      "model_module": "@jupyter-widgets/controls",
      "model_module_version": "1.5.0",
      "model_name": "FloatProgressModel",
      "state": {
       "layout": "IPY_MODEL_af4ce3f8435b4c8696cbbe69d5213ae2",
       "max": 50,
       "style": "IPY_MODEL_8bd497e3ee0f4197ad61d7715ac83097",
       "value": 50
      }
     },
     "e3732fd0b68448a7baf8d0e7260eb594": {
      "model_module": "@jupyter-widgets/base",
      "model_module_version": "1.2.0",
      "model_name": "LayoutModel",
      "state": {}
     },
     "e3b1a33ae6cb43bdba25e3209ee91ccc": {
      "model_module": "@jupyter-widgets/base",
      "model_module_version": "1.2.0",
      "model_name": "LayoutModel",
      "state": {}
     },
     "e3bda86ee3554cb18bcc08d1b42a19fc": {
      "model_module": "@jupyter-widgets/controls",
      "model_module_version": "1.5.0",
      "model_name": "ProgressStyleModel",
      "state": {
       "description_width": ""
      }
     },
     "e3bfa0f8f0994f3c83868cde2b21251e": {
      "model_module": "@jupyter-widgets/controls",
      "model_module_version": "1.5.0",
      "model_name": "DescriptionStyleModel",
      "state": {
       "description_width": ""
      }
     },
     "e44f024615fa41058c31266a4856eca9": {
      "model_module": "@jupyter-widgets/base",
      "model_module_version": "1.2.0",
      "model_name": "LayoutModel",
      "state": {
       "flex": "2"
      }
     },
     "e47b0de529e24c9d91278c30f8b4ea89": {
      "model_module": "@jupyter-widgets/controls",
      "model_module_version": "1.5.0",
      "model_name": "FloatProgressModel",
      "state": {
       "layout": "IPY_MODEL_9a14273a31494fc1bf44f58e488fb6af",
       "max": 80896,
       "style": "IPY_MODEL_cb668ca8211740da9f19b7d2ec169c00",
       "value": 80896
      }
     },
     "e4ed562f935246a492eaae41d419ee83": {
      "model_module": "@jupyter-widgets/controls",
      "model_module_version": "1.5.0",
      "model_name": "DescriptionStyleModel",
      "state": {
       "description_width": ""
      }
     },
     "e51d06b3f1424f5999c14d3e5b0d4ae3": {
      "model_module": "@jupyter-widgets/controls",
      "model_module_version": "1.5.0",
      "model_name": "ProgressStyleModel",
      "state": {
       "description_width": ""
      }
     },
     "e55ba5f245dc4d1f925de91106340b29": {
      "model_module": "@jupyter-widgets/base",
      "model_module_version": "1.2.0",
      "model_name": "LayoutModel",
      "state": {}
     },
     "e5639b94f69140a4824a25a937fda0ed": {
      "model_module": "@jupyter-widgets/base",
      "model_module_version": "1.2.0",
      "model_name": "LayoutModel",
      "state": {}
     },
     "e56b88c4531741edb12a0e09c94f456f": {
      "model_module": "@jupyter-widgets/base",
      "model_module_version": "1.2.0",
      "model_name": "LayoutModel",
      "state": {}
     },
     "e58b7d7dcf4a442780a2057634930d00": {
      "model_module": "@jupyter-widgets/controls",
      "model_module_version": "1.5.0",
      "model_name": "DescriptionStyleModel",
      "state": {
       "description_width": ""
      }
     },
     "e5b8c8f0dfe24cc7bd79407303161cc5": {
      "model_module": "@jupyter-widgets/base",
      "model_module_version": "1.2.0",
      "model_name": "LayoutModel",
      "state": {
       "display": "inline-flex",
       "flex_flow": "row wrap",
       "width": "100%"
      }
     },
     "e5d8dfd9dd0248e8a9f58b99acb3c802": {
      "model_module": "@jupyter-widgets/controls",
      "model_module_version": "1.5.0",
      "model_name": "HTMLModel",
      "state": {
       "layout": "IPY_MODEL_d60666095fca43fbaba22c19c6ba1ecc",
       "style": "IPY_MODEL_aaa01138968b4bf1a749ce88f833e1fc",
       "value": "100%"
      }
     },
     "e67910e55eb84e0ca88a545f5f2ebf85": {
      "model_module": "@jupyter-widgets/base",
      "model_module_version": "1.2.0",
      "model_name": "LayoutModel",
      "state": {}
     },
     "e707916b75804267ae2b1dff7769b6bb": {
      "model_module": "@jupyter-widgets/base",
      "model_module_version": "1.2.0",
      "model_name": "LayoutModel",
      "state": {
       "flex": "2"
      }
     },
     "e71915e223754b499c315b1795721257": {
      "model_module": "@jupyter-widgets/controls",
      "model_module_version": "1.5.0",
      "model_name": "DescriptionStyleModel",
      "state": {
       "description_width": ""
      }
     },
     "e8285ffe706744eba159a9e95ce96a8f": {
      "model_module": "@jupyter-widgets/controls",
      "model_module_version": "1.5.0",
      "model_name": "FloatProgressModel",
      "state": {
       "layout": "IPY_MODEL_0097c6d9e31946a2b71ac7215fd1ee86",
       "max": 200,
       "style": "IPY_MODEL_1b64cefd2cdc4d6fb8e27a8170b7b52c",
       "value": 200
      }
     },
     "e90e684041a74ff2b12833de3af2c502": {
      "model_module": "@jupyter-widgets/base",
      "model_module_version": "1.2.0",
      "model_name": "LayoutModel",
      "state": {
       "flex": "2"
      }
     },
     "e9aeb23139094e368afb2718f1945983": {
      "model_module": "@jupyter-widgets/controls",
      "model_module_version": "1.5.0",
      "model_name": "HTMLModel",
      "state": {
       "layout": "IPY_MODEL_35526612c92e40d18ece61ec145443cb",
       "style": "IPY_MODEL_831ceac38abf41cf936fae0562ca3dfb",
       "value": " 200/200 [00:23&lt;00:00,  9.23it/s]"
      }
     },
     "ea0a7a6da9334e5fa3f01ab84cae3215": {
      "model_module": "@jupyter-widgets/controls",
      "model_module_version": "1.5.0",
      "model_name": "FloatProgressModel",
      "state": {
       "layout": "IPY_MODEL_2e158e8a389a4aa19438ed1926421c51",
       "max": 10,
       "style": "IPY_MODEL_905da8b83387457c97fd7d4e72843254",
       "value": 10
      }
     },
     "ea10f4f936cd43739084a8fd2e0113b9": {
      "model_module": "@jupyter-widgets/controls",
      "model_module_version": "1.5.0",
      "model_name": "DescriptionStyleModel",
      "state": {
       "description_width": ""
      }
     },
     "ea790aaf28e1453d8ad84403ce1bf26a": {
      "model_module": "@jupyter-widgets/controls",
      "model_module_version": "1.5.0",
      "model_name": "HTMLModel",
      "state": {
       "layout": "IPY_MODEL_ef61c2d8b8e4472a87a52752668c4aa5",
       "style": "IPY_MODEL_555115676baa47f4b4f02a8b24202669",
       "value": "100%"
      }
     },
     "ea954fc1c8394af8adb648bdbfd1a497": {
      "model_module": "@jupyter-widgets/base",
      "model_module_version": "1.2.0",
      "model_name": "LayoutModel",
      "state": {}
     },
     "eaa1e5f8938a4afdbd2bef7e3d2f2038": {
      "model_module": "@jupyter-widgets/controls",
      "model_module_version": "1.5.0",
      "model_name": "HTMLModel",
      "state": {
       "layout": "IPY_MODEL_c76a4c8cd33d49c788fefdffa5749bbd",
       "style": "IPY_MODEL_8cebf1d97529460bbc215beea667ca03",
       "value": " 50/50 [00:04&lt;00:00, 44.02it/s]"
      }
     },
     "eaafd01df55342b49b5edc44a1a9a8f2": {
      "model_module": "@jupyter-widgets/controls",
      "model_module_version": "1.5.0",
      "model_name": "DescriptionStyleModel",
      "state": {
       "description_width": ""
      }
     },
     "eb10d498e46240f9b3dc198774795b84": {
      "model_module": "@jupyter-widgets/controls",
      "model_module_version": "1.5.0",
      "model_name": "ProgressStyleModel",
      "state": {
       "description_width": ""
      }
     },
     "eb16c71990524c36ab9d3a41f623e915": {
      "model_module": "@jupyter-widgets/controls",
      "model_module_version": "1.5.0",
      "model_name": "FloatProgressModel",
      "state": {
       "layout": "IPY_MODEL_852748a9396041eea7b410f657aa0d0f",
       "max": 50,
       "style": "IPY_MODEL_6b691884e05449a58ea18de99b6bbe37",
       "value": 50
      }
     },
     "eb77c9bf8b904fcc8f59d08a0bb34bce": {
      "model_module": "@jupyter-widgets/controls",
      "model_module_version": "1.5.0",
      "model_name": "ProgressStyleModel",
      "state": {
       "description_width": ""
      }
     },
     "eb8db2b9971f493fb6cc67365de0f2ad": {
      "model_module": "@jupyter-widgets/controls",
      "model_module_version": "1.5.0",
      "model_name": "FloatProgressModel",
      "state": {
       "layout": "IPY_MODEL_3ab3cface3c04535b0e97c18dc1d781c",
       "max": 450,
       "style": "IPY_MODEL_3dd4ee3bd9454ffeb6167a7bc29be308",
       "value": 450
      }
     },
     "ebc7633fa7fd4bbcbf6f23832185b040": {
      "model_module": "@jupyter-widgets/controls",
      "model_module_version": "1.5.0",
      "model_name": "HTMLModel",
      "state": {
       "layout": "IPY_MODEL_51a62dd577b14231b5c62c6ed9f05657",
       "style": "IPY_MODEL_3ec15bd6fe554c418654e8916873d6b3",
       "value": "100%"
      }
     },
     "ebe9bc54ffdf49bf9ef6548e5cb1bd19": {
      "model_module": "@jupyter-widgets/base",
      "model_module_version": "1.2.0",
      "model_name": "LayoutModel",
      "state": {}
     },
     "ebf0e76db6e9446f9136b1fe31702b17": {
      "model_module": "@jupyter-widgets/base",
      "model_module_version": "1.2.0",
      "model_name": "LayoutModel",
      "state": {
       "flex": "2"
      }
     },
     "ec06c0342c924748b29455c8e3b02373": {
      "model_module": "@jupyter-widgets/controls",
      "model_module_version": "1.5.0",
      "model_name": "HTMLModel",
      "state": {
       "layout": "IPY_MODEL_7567ab92192146238004296489cf7540",
       "style": "IPY_MODEL_62d88439e04144a68f43593c89144b9c",
       "value": "100%"
      }
     },
     "ec52e8152d384b1d81868be7415b2163": {
      "model_module": "@jupyter-widgets/base",
      "model_module_version": "1.2.0",
      "model_name": "LayoutModel",
      "state": {
       "flex": "2"
      }
     },
     "ec5d2ba53a2b4ebb85b73c3aa93ae226": {
      "model_module": "@jupyter-widgets/controls",
      "model_module_version": "1.5.0",
      "model_name": "DescriptionStyleModel",
      "state": {
       "description_width": ""
      }
     },
     "ec888d21eecf4bafa86e422700c9d2b2": {
      "model_module": "@jupyter-widgets/controls",
      "model_module_version": "1.5.0",
      "model_name": "ProgressStyleModel",
      "state": {
       "description_width": ""
      }
     },
     "ec90cbaee39a414a866e9d948668e254": {
      "model_module": "@jupyter-widgets/controls",
      "model_module_version": "1.5.0",
      "model_name": "DescriptionStyleModel",
      "state": {
       "description_width": ""
      }
     },
     "eca002a82ee34751a3f6341d5288b3d4": {
      "model_module": "@jupyter-widgets/controls",
      "model_module_version": "1.5.0",
      "model_name": "FloatProgressModel",
      "state": {
       "layout": "IPY_MODEL_364da0ee25984f36b729ee2c7f2a37aa",
       "max": 80896,
       "style": "IPY_MODEL_51990545049446879c93ff8ee4187f3f",
       "value": 80896
      }
     },
     "ecb4dcedb4bd4aed9c216e4f7fc5a5a5": {
      "model_module": "@jupyter-widgets/base",
      "model_module_version": "1.2.0",
      "model_name": "LayoutModel",
      "state": {}
     },
     "eccfab21bb824831acf7b954eabcad59": {
      "model_module": "@jupyter-widgets/base",
      "model_module_version": "1.2.0",
      "model_name": "LayoutModel",
      "state": {
       "display": "inline-flex",
       "flex_flow": "row wrap",
       "width": "100%"
      }
     },
     "ecd34f0e01fc4c44ab42e63dd1c052b7": {
      "model_module": "@jupyter-widgets/controls",
      "model_module_version": "1.5.0",
      "model_name": "ProgressStyleModel",
      "state": {
       "description_width": ""
      }
     },
     "ecdae92a761d40e1aa15e34c1c3414be": {
      "model_module": "@jupyter-widgets/controls",
      "model_module_version": "1.5.0",
      "model_name": "DescriptionStyleModel",
      "state": {
       "description_width": ""
      }
     },
     "ecee60f9bf59400cbac9f17c512d0d72": {
      "model_module": "@jupyter-widgets/controls",
      "model_module_version": "1.5.0",
      "model_name": "DescriptionStyleModel",
      "state": {
       "description_width": ""
      }
     },
     "ed27c191810c42d6b5811dbf2dbcc0bd": {
      "model_module": "@jupyter-widgets/controls",
      "model_module_version": "1.5.0",
      "model_name": "FloatProgressModel",
      "state": {
       "layout": "IPY_MODEL_05d80d578e8a495ba57daab4c7bb6f08",
       "max": 5,
       "style": "IPY_MODEL_1c97bf1b28cb48a883d1ac35f1d11524",
       "value": 5
      }
     },
     "ed40ec28165f4e0db22eeb74a27ecb8d": {
      "model_module": "@jupyter-widgets/controls",
      "model_module_version": "1.5.0",
      "model_name": "HTMLModel",
      "state": {
       "layout": "IPY_MODEL_9346f347ed424e58a1dbec48b2a4abf0",
       "style": "IPY_MODEL_30feeb613b9d460bbbe07182239a1417",
       "value": " 80896/80896 [00:06&lt;00:00, 12499.55it/s]"
      }
     },
     "edbbccf9e1174af1823ce3786b8d2748": {
      "model_module": "@jupyter-widgets/base",
      "model_module_version": "1.2.0",
      "model_name": "LayoutModel",
      "state": {
       "flex": "2"
      }
     },
     "edf983f1ae36445497a95a93504b96fa": {
      "model_module": "@jupyter-widgets/controls",
      "model_module_version": "1.5.0",
      "model_name": "DescriptionStyleModel",
      "state": {
       "description_width": ""
      }
     },
     "ee38891d373e4fd88e0033936d095771": {
      "model_module": "@jupyter-widgets/controls",
      "model_module_version": "1.5.0",
      "model_name": "HTMLModel",
      "state": {
       "layout": "IPY_MODEL_350f0ed6ad674abb8985f775088fc664",
       "style": "IPY_MODEL_d3c33fb389bd42d791716ce50409d2f9",
       "value": "100%"
      }
     },
     "ee8c4be9dfad4e37930295debf6e794a": {
      "model_module": "@jupyter-widgets/controls",
      "model_module_version": "1.5.0",
      "model_name": "ProgressStyleModel",
      "state": {
       "description_width": ""
      }
     },
     "ee95adbcfc0c470995bd097d24ff4d84": {
      "model_module": "@jupyter-widgets/controls",
      "model_module_version": "1.5.0",
      "model_name": "ProgressStyleModel",
      "state": {
       "description_width": ""
      }
     },
     "eea39883f1a84247b595a1a3b289e835": {
      "model_module": "@jupyter-widgets/controls",
      "model_module_version": "1.5.0",
      "model_name": "HTMLModel",
      "state": {
       "layout": "IPY_MODEL_f8f243a8116e4a949c8cfc721911aa85",
       "style": "IPY_MODEL_9f1809b0ddb4482d883ab5d0f408ac39",
       "value": " 650/650 [01:12&lt;00:00, 12.68it/s]"
      }
     },
     "eedb4abc204940feb4c20b2295d97147": {
      "model_module": "@jupyter-widgets/base",
      "model_module_version": "1.2.0",
      "model_name": "LayoutModel",
      "state": {}
     },
     "eeecf56fa3a347b7a98052002aea5fbe": {
      "model_module": "@jupyter-widgets/controls",
      "model_module_version": "1.5.0",
      "model_name": "DescriptionStyleModel",
      "state": {
       "description_width": ""
      }
     },
     "eef1485638ba4824ac23c2fb1978992f": {
      "model_module": "@jupyter-widgets/controls",
      "model_module_version": "1.5.0",
      "model_name": "HTMLModel",
      "state": {
       "layout": "IPY_MODEL_d91a17490a3c4c398510a13e64b7c74c",
       "style": "IPY_MODEL_a3586f814f64417c9eb8e4272fed98a4",
       "value": "100%"
      }
     },
     "ef1d094658534ac9945e3bc1621c43ca": {
      "model_module": "@jupyter-widgets/base",
      "model_module_version": "1.2.0",
      "model_name": "LayoutModel",
      "state": {}
     },
     "ef61c2d8b8e4472a87a52752668c4aa5": {
      "model_module": "@jupyter-widgets/base",
      "model_module_version": "1.2.0",
      "model_name": "LayoutModel",
      "state": {}
     },
     "ef7b2476e39b4224973d836970d12910": {
      "model_module": "@jupyter-widgets/controls",
      "model_module_version": "1.5.0",
      "model_name": "HTMLModel",
      "state": {
       "layout": "IPY_MODEL_99c817224d464ee4a22cf08468cf1ce1",
       "style": "IPY_MODEL_913d684ade3c4947a89ddbd789ab4a02",
       "value": "100%"
      }
     },
     "ef9f6b8673af4dbdaed8356a27971a17": {
      "model_module": "@jupyter-widgets/base",
      "model_module_version": "1.2.0",
      "model_name": "LayoutModel",
      "state": {
       "flex": "2"
      }
     },
     "efe0bf3a4c10472eb2714d29e8b02766": {
      "model_module": "@jupyter-widgets/controls",
      "model_module_version": "1.5.0",
      "model_name": "DescriptionStyleModel",
      "state": {
       "description_width": ""
      }
     },
     "efeb8c86d2d8411e8d458649397c9ed7": {
      "model_module": "@jupyter-widgets/controls",
      "model_module_version": "1.5.0",
      "model_name": "ProgressStyleModel",
      "state": {
       "description_width": ""
      }
     },
     "f00e4731955040e49cf2ca4ee87f1cd5": {
      "model_module": "@jupyter-widgets/controls",
      "model_module_version": "1.5.0",
      "model_name": "HTMLModel",
      "state": {
       "layout": "IPY_MODEL_878988c752504abcae526c49b4bed7b1",
       "style": "IPY_MODEL_12be4f245a0645898db4df1bb371a8f7",
       "value": "100%"
      }
     },
     "f0a19da2259f483b9422a617cdff6849": {
      "model_module": "@jupyter-widgets/base",
      "model_module_version": "1.2.0",
      "model_name": "LayoutModel",
      "state": {
       "display": "inline-flex",
       "flex_flow": "row wrap",
       "width": "100%"
      }
     },
     "f0eeaa2f7e724992afbed04fd1cb4d62": {
      "model_module": "@jupyter-widgets/controls",
      "model_module_version": "1.5.0",
      "model_name": "FloatProgressModel",
      "state": {
       "layout": "IPY_MODEL_66750cb954ad4ebbad586082507f8557",
       "max": 80896,
       "style": "IPY_MODEL_72fa1f06d2204f2ebc7562fe6b372c8b",
       "value": 80896
      }
     },
     "f0f0eb1dc4ac46ceb845d11ee719f60a": {
      "model_module": "@jupyter-widgets/controls",
      "model_module_version": "1.5.0",
      "model_name": "DescriptionStyleModel",
      "state": {
       "description_width": ""
      }
     },
     "f2162c5d8cbc4a699b4aa371f8922c70": {
      "model_module": "@jupyter-widgets/base",
      "model_module_version": "1.2.0",
      "model_name": "LayoutModel",
      "state": {
       "display": "inline-flex",
       "flex_flow": "row wrap",
       "width": "100%"
      }
     },
     "f22f5c8e3dab4730a099329cf8ed3dce": {
      "model_module": "@jupyter-widgets/controls",
      "model_module_version": "1.5.0",
      "model_name": "ProgressStyleModel",
      "state": {
       "description_width": ""
      }
     },
     "f234967ed59d48fa8c74c34bfb1f835f": {
      "model_module": "@jupyter-widgets/controls",
      "model_module_version": "1.5.0",
      "model_name": "DescriptionStyleModel",
      "state": {
       "description_width": ""
      }
     },
     "f24e621b58104693938898d46766bf9b": {
      "model_module": "@jupyter-widgets/controls",
      "model_module_version": "1.5.0",
      "model_name": "FloatProgressModel",
      "state": {
       "layout": "IPY_MODEL_77f54103628346eb9bce637599b01c84",
       "max": 50,
       "style": "IPY_MODEL_7dbd2232ad844d1c9a62bb481eb7ee5b",
       "value": 50
      }
     },
     "f29c1af2bc2c41919063dba1407c2816": {
      "model_module": "@jupyter-widgets/base",
      "model_module_version": "1.2.0",
      "model_name": "LayoutModel",
      "state": {
       "display": "inline-flex",
       "flex_flow": "row wrap",
       "width": "100%"
      }
     },
     "f29ddbd3b491437abcb4d34216c3d08d": {
      "model_module": "@jupyter-widgets/controls",
      "model_module_version": "1.5.0",
      "model_name": "FloatProgressModel",
      "state": {
       "layout": "IPY_MODEL_e44f024615fa41058c31266a4856eca9",
       "max": 50,
       "style": "IPY_MODEL_a069d203faec4ca38279b914a0095e50",
       "value": 50
      }
     },
     "f29f7eae995c468bbe3f96b23880968c": {
      "model_module": "@jupyter-widgets/controls",
      "model_module_version": "1.5.0",
      "model_name": "ProgressStyleModel",
      "state": {
       "description_width": ""
      }
     },
     "f2a33710e0a747058f8a619a62804175": {
      "model_module": "@jupyter-widgets/controls",
      "model_module_version": "1.5.0",
      "model_name": "HTMLModel",
      "state": {
       "layout": "IPY_MODEL_bca3d28beffb4eff81ac42f5e02dd7a0",
       "style": "IPY_MODEL_91adb5349ff14090b6e565cc0c02c51b",
       "value": " 10/10 [00:02&lt;00:00,  7.54it/s]"
      }
     },
     "f2b1352402e749e8baea3c943ae7f99c": {
      "model_module": "@jupyter-widgets/base",
      "model_module_version": "1.2.0",
      "model_name": "LayoutModel",
      "state": {
       "flex": "2"
      }
     },
     "f2b5d70f75ab4c1696154e07e6803811": {
      "model_module": "@jupyter-widgets/controls",
      "model_module_version": "1.5.0",
      "model_name": "FloatProgressModel",
      "state": {
       "layout": "IPY_MODEL_614513b39b2f4fe38fb8d8f0a98a6747",
       "max": 50,
       "style": "IPY_MODEL_67cd99dcb49c44c8b312b06d23190970",
       "value": 50
      }
     },
     "f2ca299173b04e469ddeb2673db71f17": {
      "model_module": "@jupyter-widgets/base",
      "model_module_version": "1.2.0",
      "model_name": "LayoutModel",
      "state": {
       "flex": "2"
      }
     },
     "f2d7dbba63f54e72920fdd2057ae0b8c": {
      "model_module": "@jupyter-widgets/controls",
      "model_module_version": "1.5.0",
      "model_name": "DescriptionStyleModel",
      "state": {
       "description_width": ""
      }
     },
     "f34d071756644d49b18aaa561b0f3a5a": {
      "model_module": "@jupyter-widgets/base",
      "model_module_version": "1.2.0",
      "model_name": "LayoutModel",
      "state": {
       "display": "inline-flex",
       "flex_flow": "row wrap",
       "width": "100%"
      }
     },
     "f374d03a0b16407fbcf9dccb8ce1cb62": {
      "model_module": "@jupyter-widgets/controls",
      "model_module_version": "1.5.0",
      "model_name": "HTMLModel",
      "state": {
       "layout": "IPY_MODEL_d4603b89660c4b95a39944b86bacbf9c",
       "style": "IPY_MODEL_e2da0a44381940d1ad2a7d64aaae56ef",
       "value": "100%"
      }
     },
     "f3bd1c6b3fee42a8b01952d7493dee3a": {
      "model_module": "@jupyter-widgets/base",
      "model_module_version": "1.2.0",
      "model_name": "LayoutModel",
      "state": {
       "display": "inline-flex",
       "flex_flow": "row wrap",
       "width": "100%"
      }
     },
     "f46b2d1542434d41929b6b33b9257e52": {
      "model_module": "@jupyter-widgets/controls",
      "model_module_version": "1.5.0",
      "model_name": "HTMLModel",
      "state": {
       "layout": "IPY_MODEL_f73babf62d0b40c79e59eee7028b871f",
       "style": "IPY_MODEL_99a5b8951e9743209fe9de1f4955b65d",
       "value": " 50/50 [00:57&lt;00:00,  8.31it/s]"
      }
     },
     "f4a53804e7e2463b9cf939198c3cea98": {
      "model_module": "@jupyter-widgets/controls",
      "model_module_version": "1.5.0",
      "model_name": "DescriptionStyleModel",
      "state": {
       "description_width": ""
      }
     },
     "f4c09b17b7f34240b1ec738521205df7": {
      "model_module": "@jupyter-widgets/controls",
      "model_module_version": "1.5.0",
      "model_name": "HTMLModel",
      "state": {
       "layout": "IPY_MODEL_7c31b95040d84e4ca2d61086f1bc0b35",
       "style": "IPY_MODEL_7269a20adbd143e6806705d68435ed11",
       "value": "100%"
      }
     },
     "f4c80a665bf8459685a041c509791ea8": {
      "model_module": "@jupyter-widgets/controls",
      "model_module_version": "1.5.0",
      "model_name": "HTMLModel",
      "state": {
       "layout": "IPY_MODEL_720dffb424b4439ca8158dd8a2be67f8",
       "style": "IPY_MODEL_65361c5e72ca462bb90150ef414b4606",
       "value": "100%"
      }
     },
     "f552bc7a73b24e03acd81a57b70c56a1": {
      "model_module": "@jupyter-widgets/controls",
      "model_module_version": "1.5.0",
      "model_name": "HTMLModel",
      "state": {
       "layout": "IPY_MODEL_cb6112c0f66d4dbbbd76303474765519",
       "style": "IPY_MODEL_ec5d2ba53a2b4ebb85b73c3aa93ae226",
       "value": " 80896/80896 [00:05&lt;00:00, 14450.30it/s]"
      }
     },
     "f561074cc3504507af6c4d5241ac9aee": {
      "model_module": "@jupyter-widgets/base",
      "model_module_version": "1.2.0",
      "model_name": "LayoutModel",
      "state": {}
     },
     "f5d69673d0a24ccf84eea3e72a223fd7": {
      "model_module": "@jupyter-widgets/controls",
      "model_module_version": "1.5.0",
      "model_name": "HTMLModel",
      "state": {
       "layout": "IPY_MODEL_af9b5ec4a8b7459b8e39849b2a0325f9",
       "style": "IPY_MODEL_c94b1061f2284a02b0b83574a65618eb",
       "value": "100%"
      }
     },
     "f5d7d800f01341049098c3ea96a515a0": {
      "model_module": "@jupyter-widgets/base",
      "model_module_version": "1.2.0",
      "model_name": "LayoutModel",
      "state": {
       "flex": "2"
      }
     },
     "f6001c53925c421dbcee063052b3144e": {
      "model_module": "@jupyter-widgets/base",
      "model_module_version": "1.2.0",
      "model_name": "LayoutModel",
      "state": {}
     },
     "f73babf62d0b40c79e59eee7028b871f": {
      "model_module": "@jupyter-widgets/base",
      "model_module_version": "1.2.0",
      "model_name": "LayoutModel",
      "state": {}
     },
     "f766a004054a4083ab14932241693b53": {
      "model_module": "@jupyter-widgets/base",
      "model_module_version": "1.2.0",
      "model_name": "LayoutModel",
      "state": {}
     },
     "f7883f6952a84408a5bb53cfeac7dc4f": {
      "model_module": "@jupyter-widgets/base",
      "model_module_version": "1.2.0",
      "model_name": "LayoutModel",
      "state": {
       "display": "inline-flex",
       "flex_flow": "row wrap",
       "width": "100%"
      }
     },
     "f7affbe4ba88413f85eb6f41c732af7e": {
      "model_module": "@jupyter-widgets/base",
      "model_module_version": "1.2.0",
      "model_name": "LayoutModel",
      "state": {}
     },
     "f8871d8a8f3a4d948601e3f262457bde": {
      "model_module": "@jupyter-widgets/controls",
      "model_module_version": "1.5.0",
      "model_name": "DescriptionStyleModel",
      "state": {
       "description_width": ""
      }
     },
     "f8b8a420650d4cdb8dd605e250777f9e": {
      "model_module": "@jupyter-widgets/controls",
      "model_module_version": "1.5.0",
      "model_name": "FloatProgressModel",
      "state": {
       "layout": "IPY_MODEL_0469c818c0a445138706da5a30869d8d",
       "max": 50,
       "style": "IPY_MODEL_0d2183f2fe9b4c57b07af01124bb7cd2",
       "value": 50
      }
     },
     "f8be3cf093874ad4963c8c1bfdb370fb": {
      "model_module": "@jupyter-widgets/controls",
      "model_module_version": "1.5.0",
      "model_name": "HTMLModel",
      "state": {
       "layout": "IPY_MODEL_d9978f14e6eb4a58b1c9a07f8e185437",
       "style": "IPY_MODEL_142988b3adda4844854502d2869eff52",
       "value": "100%"
      }
     },
     "f8ce12f833434599be4645c05c04ddad": {
      "model_module": "@jupyter-widgets/base",
      "model_module_version": "1.2.0",
      "model_name": "LayoutModel",
      "state": {}
     },
     "f8f243a8116e4a949c8cfc721911aa85": {
      "model_module": "@jupyter-widgets/base",
      "model_module_version": "1.2.0",
      "model_name": "LayoutModel",
      "state": {}
     },
     "f942dd0c378045c1bec29208dea1345f": {
      "model_module": "@jupyter-widgets/controls",
      "model_module_version": "1.5.0",
      "model_name": "HTMLModel",
      "state": {
       "layout": "IPY_MODEL_3c67698798c04c8b8db0f8a241277b69",
       "style": "IPY_MODEL_e4ed562f935246a492eaae41d419ee83",
       "value": " 450/450 [00:47&lt;00:00, 13.45it/s]"
      }
     },
     "f94699f683404224962f8ad8cccb1a36": {
      "model_module": "@jupyter-widgets/base",
      "model_module_version": "1.2.0",
      "model_name": "LayoutModel",
      "state": {}
     },
     "fa78439e1c9e4c689db5db1b6f9cf38e": {
      "model_module": "@jupyter-widgets/base",
      "model_module_version": "1.2.0",
      "model_name": "LayoutModel",
      "state": {
       "display": "inline-flex",
       "flex_flow": "row wrap",
       "width": "100%"
      }
     },
     "fa8ef71a1f0e4f509a492d648d1c103e": {
      "model_module": "@jupyter-widgets/controls",
      "model_module_version": "1.5.0",
      "model_name": "HTMLModel",
      "state": {
       "layout": "IPY_MODEL_3352378e75224869ab869424656732c4",
       "style": "IPY_MODEL_9fb49165f8664dfda9fa489dad9c8aec",
       "value": "100%"
      }
     },
     "fb41940e16af4e8493e4c6b4013b5a00": {
      "model_module": "@jupyter-widgets/controls",
      "model_module_version": "1.5.0",
      "model_name": "HTMLModel",
      "state": {
       "layout": "IPY_MODEL_214f9e9e495b410f86e48423f0892a33",
       "style": "IPY_MODEL_ecdae92a761d40e1aa15e34c1c3414be",
       "value": "100%"
      }
     },
     "fb6e73dd44364ccabedb01ccf2d374f3": {
      "model_module": "@jupyter-widgets/controls",
      "model_module_version": "1.5.0",
      "model_name": "ProgressStyleModel",
      "state": {
       "description_width": ""
      }
     },
     "fb70e9d6d04f4457952ff5b1a55732e4": {
      "model_module": "@jupyter-widgets/base",
      "model_module_version": "1.2.0",
      "model_name": "LayoutModel",
      "state": {
       "flex": "2"
      }
     },
     "fb9a71b79972477dbe81287f4daa617a": {
      "model_module": "@jupyter-widgets/base",
      "model_module_version": "1.2.0",
      "model_name": "LayoutModel",
      "state": {}
     },
     "fbe15ac83b244297962edebace92f8b1": {
      "model_module": "@jupyter-widgets/base",
      "model_module_version": "1.2.0",
      "model_name": "LayoutModel",
      "state": {}
     },
     "fc050a609c8940fe83f2f658008b549e": {
      "model_module": "@jupyter-widgets/controls",
      "model_module_version": "1.5.0",
      "model_name": "DescriptionStyleModel",
      "state": {
       "description_width": ""
      }
     },
     "fc0f57b0fc0a475f9bf2362b933c1272": {
      "model_module": "@jupyter-widgets/controls",
      "model_module_version": "1.5.0",
      "model_name": "DescriptionStyleModel",
      "state": {
       "description_width": ""
      }
     },
     "fc4d6de08e434457bd274f8b03bed335": {
      "model_module": "@jupyter-widgets/base",
      "model_module_version": "1.2.0",
      "model_name": "LayoutModel",
      "state": {
       "display": "inline-flex",
       "flex_flow": "row wrap",
       "width": "100%"
      }
     },
     "fc5959220a9b43fc8dfea2c86ecb4421": {
      "model_module": "@jupyter-widgets/controls",
      "model_module_version": "1.5.0",
      "model_name": "DescriptionStyleModel",
      "state": {
       "description_width": ""
      }
     },
     "fca87d729243469a9f03c2cbd5c1f162": {
      "model_module": "@jupyter-widgets/base",
      "model_module_version": "1.2.0",
      "model_name": "LayoutModel",
      "state": {
       "flex": "2"
      }
     },
     "fd1c9d0f52aa4f2ebb2a9a6bd66aa69c": {
      "model_module": "@jupyter-widgets/controls",
      "model_module_version": "1.5.0",
      "model_name": "DescriptionStyleModel",
      "state": {
       "description_width": ""
      }
     },
     "fd1ddea24bc64669ae10f2331cb0c2c5": {
      "model_module": "@jupyter-widgets/base",
      "model_module_version": "1.2.0",
      "model_name": "LayoutModel",
      "state": {
       "display": "inline-flex",
       "flex_flow": "row wrap",
       "width": "100%"
      }
     },
     "fd87419882a8494d99c364504d8e32a8": {
      "model_module": "@jupyter-widgets/base",
      "model_module_version": "1.2.0",
      "model_name": "LayoutModel",
      "state": {}
     },
     "fda57c888e3f41cba4c73d1710b2e1bc": {
      "model_module": "@jupyter-widgets/controls",
      "model_module_version": "1.5.0",
      "model_name": "HTMLModel",
      "state": {
       "layout": "IPY_MODEL_7c5d7d2ec9dd4bfb97e79465be357695",
       "style": "IPY_MODEL_d202341f4c1645a581fc5e925cf9aefc",
       "value": "100%"
      }
     },
     "fddc4a06e0754a1fb54645ee604e9348": {
      "model_module": "@jupyter-widgets/base",
      "model_module_version": "1.2.0",
      "model_name": "LayoutModel",
      "state": {}
     },
     "fe22b213940e4ccca7f75cb0a3fa308f": {
      "model_module": "@jupyter-widgets/controls",
      "model_module_version": "1.5.0",
      "model_name": "HTMLModel",
      "state": {
       "layout": "IPY_MODEL_e5639b94f69140a4824a25a937fda0ed",
       "style": "IPY_MODEL_edf983f1ae36445497a95a93504b96fa",
       "value": " 50/50 [01:25&lt;00:00,  1.20s/it]"
      }
     },
     "fea47e5b64984477b69241e48b795b84": {
      "model_module": "@jupyter-widgets/controls",
      "model_module_version": "1.5.0",
      "model_name": "DescriptionStyleModel",
      "state": {
       "description_width": ""
      }
     },
     "feeb2a4c88014e7fafa25ed211bcfcdd": {
      "model_module": "@jupyter-widgets/controls",
      "model_module_version": "1.5.0",
      "model_name": "ProgressStyleModel",
      "state": {
       "description_width": ""
      }
     },
     "ff5b6b6ffdda41d9851406907f59422f": {
      "model_module": "@jupyter-widgets/base",
      "model_module_version": "1.2.0",
      "model_name": "LayoutModel",
      "state": {}
     },
     "ff7c162fd1ab485ba503fb269d0ad5af": {
      "model_module": "@jupyter-widgets/base",
      "model_module_version": "1.2.0",
      "model_name": "LayoutModel",
      "state": {
       "flex": "2"
      }
     },
     "ffbf5c4e86b048dba5d763425ed8d2d5": {
      "model_module": "@jupyter-widgets/controls",
      "model_module_version": "1.5.0",
      "model_name": "HTMLModel",
      "state": {
       "layout": "IPY_MODEL_c7bf7290c0fd4efabeba1afb7dc6433a",
       "style": "IPY_MODEL_6eaf5ca5b8ac42dd9c164d0f27a73410",
       "value": "100%"
      }
     }
    },
    "version_major": 2,
    "version_minor": 0
   }
  }
 },
 "nbformat": 4,
 "nbformat_minor": 5
}
